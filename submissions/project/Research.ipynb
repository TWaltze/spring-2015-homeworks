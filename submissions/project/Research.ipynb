{
 "metadata": {
  "name": "",
  "signature": "sha256:905fbeba45419ee351f9b4967555465f91e86b4b286e822e1f64a2bf3459c3be"
 },
 "nbformat": 3,
 "nbformat_minor": 0,
 "worksheets": [
  {
   "cells": [
    {
     "cell_type": "code",
     "collapsed": false,
     "input": [
      "# import and setup modules we'll be using in this notebook\n",
      "import logging\n",
      "import os\n",
      "import sys\n",
      "import re\n",
      "import tarfile\n",
      "import itertools\n",
      "import json\n",
      "import math\n",
      "import collections\n",
      "from glob import glob\n",
      "\n",
      "import pandas as pd\n",
      "\n",
      "import nltk, nltk.classify.util, nltk.metrics\n",
      "from nltk.classify import NaiveBayesClassifier\n",
      "from nltk.probability import FreqDist, ConditionalFreqDist\n",
      "from nltk.collocations import TrigramCollocationFinder\n",
      "from nltk.metrics import BigramAssocMeasures, TrigramAssocMeasures\n",
      "\n",
      "import numpy as np\n",
      "\n",
      "import sklearn.cross_validation as cross_validation\n",
      "\n",
      "import gensim\n",
      "from gensim.utils import smart_open, simple_preprocess\n",
      "from gensim.corpora.wikicorpus import _extract_pages, filter_wiki\n",
      "from gensim.parsing.preprocessing import STOPWORDS\n",
      "\n",
      "import matplotlib.pyplot as plt\n",
      "import matplotlib as mpl\n",
      "import seaborn as sns\n",
      "\n",
      "%matplotlib inline"
     ],
     "language": "python",
     "metadata": {},
     "outputs": [],
     "prompt_number": 1
    },
    {
     "cell_type": "code",
     "collapsed": false,
     "input": [
      "###################\n",
      "#\n",
      "# Useful variables\n",
      "#\n",
      "###################\n",
      "\n",
      "data = './yelp_data/'\n",
      "\n",
      "# All reviews\n",
      "data_reviews = pd.read_csv(data + 'yelp_academic_dataset_review.csv')\n",
      "\n",
      "# All businesses, though only their interesting columns\n",
      "interestingColumns = ['business_id', 'review_count', 'stars', 'latitude', 'longitude', 'type', 'categories']\n",
      "data_business = pd.read_csv(data + 'yelp_academic_dataset_business.csv')[interestingColumns]\n",
      "data_business = data_business.sort(['stars'], ascending=False)\n",
      "data_business.index = data_business['business_id'].values"
     ],
     "language": "python",
     "metadata": {},
     "outputs": [],
     "prompt_number": 28
    },
    {
     "cell_type": "code",
     "collapsed": false,
     "input": [
      "# Only restaurants\n",
      "data_restaurants = data_business[data_business['categories'].str.contains(\"R,e,s,t,a,u\")].sort(['review_count'], ascending=False)\n",
      "\n",
      "# Only restaurant reviews\n",
      "restaurant_ids = data_restaurants['business_id']\n",
      "restaurant_reviews = data_reviews[data_reviews['business_id'].isin(restaurant_ids)]\n",
      "restaurant_reviews.index = range(0, len(restaurant_reviews))"
     ],
     "language": "python",
     "metadata": {},
     "outputs": [],
     "prompt_number": 31
    },
    {
     "cell_type": "code",
     "collapsed": false,
     "input": [
      "print \"Number of restaurants: {}\".format(len(restaurant_ids))\n",
      "\n",
      "# Restaurants with a large number of reviews\n",
      "lots = 250\n",
      "restaurants_lots_of_reviews = data_restaurants[data_restaurants['review_count'] > lots]\n",
      "restaurants_lots_of_reviews_ids = restaurants_lots_of_reviews['business_id']\n",
      "print \"Number of restaurants with >{} reviews: {}\".format(lots, len(restaurants_lots_of_reviews))"
     ],
     "language": "python",
     "metadata": {},
     "outputs": [
      {
       "output_type": "stream",
       "stream": "stdout",
       "text": [
        "Number of restaurants: 21892\n",
        "Number of restaurants with >250 reviews: 710\n"
       ]
      }
     ],
     "prompt_number": 4
    },
    {
     "cell_type": "code",
     "collapsed": false,
     "input": [
      "###################\n",
      "#\n",
      "# Useful functions\n",
      "#\n",
      "###################\n",
      "\n",
      "def tokenize(text):\n",
      "    return [token for token in simple_preprocess(text) if token not in STOPWORDS]\n",
      "\n",
      "def iter_reviews(reviews):\n",
      "    \"\"\"Yield each review from the restaurant's reviews, as a `(id, tokens)` 2-tuple.\"\"\"\n",
      "    for idx, review in enumerate(reviews):\n",
      "        tokens = tokenize(review)\n",
      "        if len(tokens) < 5:\n",
      "            continue  # ignore short reviews\n",
      "        yield idx, tokens\n",
      "        \n",
      "class ReviewCorpus(object):\n",
      "    def __init__(self, dump_file, dictionary, clip_docs=None):\n",
      "        \"\"\"\n",
      "        Parse the first `clip_docs` reviews from array `dump_file`.\n",
      "        Yield each review in turn, as a list of tokens (unicode strings).\n",
      "        \n",
      "        \"\"\"\n",
      "        self.dump_file = dump_file\n",
      "        self.dictionary = dictionary\n",
      "        self.clip_docs = clip_docs\n",
      "    \n",
      "    def __iter__(self):\n",
      "        self.titles = []\n",
      "        for idx, tokens in itertools.islice(iter_reviews(self.dump_file), self.clip_docs):\n",
      "            self.titles.append(idx)\n",
      "            yield self.dictionary.doc2bow(tokens)\n",
      "    \n",
      "    def __len__(self):\n",
      "        return self.clip_docs\n",
      "    \n",
      "def topNWords(data_set, n):\n",
      "    review_stream = (tokens for _, tokens in itertools.islice(iter_reviews(data_set), 10000))\n",
      "\n",
      "    id2word_review = gensim.corpora.Dictionary(review_stream)\n",
      "\n",
      "    # ignore words that appear in less than 20 reviews or more than 10% reviews\n",
      "    #id2word_review.filter_extremes(no_below=20, no_above=0.1)\n",
      "\n",
      "    # create a stream of bag-of-words vectors\n",
      "    review_corpus = ReviewCorpus(data_set, id2word_review, clip_docs=5000)\n",
      "    vector = next(iter(review_corpus))\n",
      "\n",
      "    clipped_corpus = gensim.utils.ClippedCorpus(review_corpus, len(data_set) / 2)  # use fewer documents during training, LDA is slow\n",
      "    lda_model = gensim.models.LdaModel(clipped_corpus, num_topics=10, id2word=id2word_review, passes=4)\n",
      "\n",
      "    # select top 30 words for each of the LDA topics\n",
      "    top_words = [[word for _, word in lda_model.show_topic(topicno, topn=30)] for topicno in range(lda_model.num_topics)]\n",
      "\n",
      "    # get all top N words in all topics, as one large set\n",
      "    all_words = set(itertools.chain.from_iterable(top_words))\n",
      "\n",
      "    return all_words\n",
      "\n",
      "def importantReviews(reviews, n):\n",
      "    reviews_simple = reviews['text'].values\n",
      "    # Get the important words\n",
      "    importantWords = topNWords(reviews_simple, 30)\n",
      "    \n",
      "    # Give each review an \"importance score\"\n",
      "    review_scores = []\n",
      "    for idx, review in enumerate(reviews_simple):\n",
      "        tokens = tokenize(review)\n",
      "        score = 0\n",
      "\n",
      "        for word in importantWords:\n",
      "            score += tokens.count(word)\n",
      "\n",
      "        review_scores.append(score)\n",
      "\n",
      "    review_scores = np.array(review_scores)\n",
      "    review_scores = pd.DataFrame(review_scores, columns=['importance']).sort(['importance'], ascending=False)\n",
      "    \n",
      "    # Get the top n reviews\n",
      "    topReviews_idx = review_scores.head(n).index\n",
      "\n",
      "    # Top reviews\n",
      "    topReviews = reviews.ix[topReviews_idx]\n",
      "    \n",
      "    return topReviews\n",
      "\n",
      "def round_nearest_half(number):\n",
      "    return round(number * 2) / 2\n",
      "\n",
      "def predictRating(business_id):\n",
      "    # Get all the reviews for this business\n",
      "    reviews = restaurant_reviews[restaurant_reviews['business_id'] == business_id]\n",
      "    reviews.index = range(0, len(reviews))\n",
      "    \n",
      "    # Get the top 10 most important reviews\n",
      "    important_reviews = importantReviews(reviews, 10)\n",
      "    \n",
      "    # Average star rating based on top reviews\n",
      "    predictedRating = round_nearest_half(important_reviews['stars'].mean())\n",
      "\n",
      "    # Actual rating\n",
      "    actualRating = data_restaurants.ix[business_id]['stars']\n",
      "\n",
      "    # Return a restaurant's predicted rating, along with their actual rating\n",
      "    return (predictedRating, actualRating)"
     ],
     "language": "python",
     "metadata": {},
     "outputs": [],
     "prompt_number": 36
    },
    {
     "cell_type": "code",
     "collapsed": false,
     "input": [
      "# Create a test set\n",
      "test_size = 20\n",
      "restaurant_train, restaurant_test = cross_validation.train_test_split(restaurants_lots_of_reviews_ids, test_size=test_size, random_state=0)\n",
      "\n",
      "for restaurant in restaurant_test:\n",
      "    reviews = restaurant_reviews[restaurant_reviews['business_id'] == restaurant]\n",
      "    \n",
      "    print \"Restaurant {} has {} reviews.\".format(restaurant, len(reviews))"
     ],
     "language": "python",
     "metadata": {},
     "outputs": [
      {
       "output_type": "stream",
       "stream": "stdout",
       "text": [
        "Restaurant foDMwBRGJvKw791v0AT7OA has 343 reviews.\n",
        "Restaurant MN0OLvP8i0SirMJ7AMuMzA has 553 reviews."
       ]
      },
      {
       "output_type": "stream",
       "stream": "stdout",
       "text": [
        "\n",
        "Restaurant LXrq0Fw6MCz70KMA928ldQ has 438 reviews."
       ]
      },
      {
       "output_type": "stream",
       "stream": "stdout",
       "text": [
        "\n",
        "Restaurant b5cEoKR8iQliq-yT2_O0LQ has 432 reviews."
       ]
      },
      {
       "output_type": "stream",
       "stream": "stdout",
       "text": [
        "\n",
        "Restaurant KPoTixdjoJxSqRSEApSAGg has 304 reviews."
       ]
      },
      {
       "output_type": "stream",
       "stream": "stdout",
       "text": [
        "\n",
        "Restaurant 5FPU_0VSLtR2yY7IQzaH5g has 290 reviews."
       ]
      },
      {
       "output_type": "stream",
       "stream": "stdout",
       "text": [
        "\n",
        "Restaurant bOB11LVavtN9PWTNwR52Tw has 324 reviews."
       ]
      },
      {
       "output_type": "stream",
       "stream": "stdout",
       "text": [
        "\n",
        "Restaurant RhbOa-Ft3sZB4B_1j5LfyA has 969 reviews."
       ]
      },
      {
       "output_type": "stream",
       "stream": "stdout",
       "text": [
        "\n",
        "Restaurant iNT6pcUugoXsDlZgRTyhtw has 350 reviews."
       ]
      },
      {
       "output_type": "stream",
       "stream": "stdout",
       "text": [
        "\n",
        "Restaurant KcSJUq1kwO8awZRMS6Q49g has 656 reviews."
       ]
      },
      {
       "output_type": "stream",
       "stream": "stdout",
       "text": [
        "\n",
        "Restaurant 23SJEjfyU5gxY2chAKhgcw has 416 reviews."
       ]
      },
      {
       "output_type": "stream",
       "stream": "stdout",
       "text": [
        "\n",
        "Restaurant ADTZPVMIYJN0jAvvHxcBMw has 427 reviews."
       ]
      },
      {
       "output_type": "stream",
       "stream": "stdout",
       "text": [
        "\n",
        "Restaurant JUATTlFUONx_er9_YRFDrw has 303 reviews."
       ]
      },
      {
       "output_type": "stream",
       "stream": "stdout",
       "text": [
        "\n",
        "Restaurant 17FKJgS11HppOf00qXKEqA has 294 reviews."
       ]
      },
      {
       "output_type": "stream",
       "stream": "stdout",
       "text": [
        "\n",
        "Restaurant 1Fupq7erFi4uqC_gd9ypQg has 237 reviews."
       ]
      },
      {
       "output_type": "stream",
       "stream": "stdout",
       "text": [
        "\n",
        "Restaurant xyTJYlbE_MLouK6rCou6zg has 1782 reviews."
       ]
      },
      {
       "output_type": "stream",
       "stream": "stdout",
       "text": [
        "\n",
        "Restaurant k8bSp5BfCNCKqTXcKALXtw has 456 reviews."
       ]
      },
      {
       "output_type": "stream",
       "stream": "stdout",
       "text": [
        "\n",
        "Restaurant Iyy4pDmnKTZkAorzclO4Eg has 265 reviews."
       ]
      },
      {
       "output_type": "stream",
       "stream": "stdout",
       "text": [
        "\n",
        "Restaurant TwxHMCcRdF_CQb_EZ6kPQQ has 319 reviews."
       ]
      },
      {
       "output_type": "stream",
       "stream": "stdout",
       "text": [
        "\n",
        "Restaurant 5ambRqdTJt9vGwFzVI9HBw has 250 reviews."
       ]
      },
      {
       "output_type": "stream",
       "stream": "stdout",
       "text": [
        "\n"
       ]
      }
     ],
     "prompt_number": 40
    },
    {
     "cell_type": "code",
     "collapsed": false,
     "input": [
      "# Predict ratings for test set\n",
      "predictions = []\n",
      "for restaurant in restaurant_test:\n",
      "    %time predictions.append(predictRating(restaurant))\n",
      "    \n",
      "predictions"
     ],
     "language": "python",
     "metadata": {},
     "outputs": [
      {
       "output_type": "stream",
       "stream": "stderr",
       "text": [
        "WARNING:gensim.models.ldamodel:too few updates, training might not converge; consider increasing the number of passes or iterations to improve accuracy\n"
       ]
      },
      {
       "output_type": "stream",
       "stream": "stderr",
       "text": [
        "WARNING:gensim.models.ldamodel:too few updates, training might not converge; consider increasing the number of passes or iterations to improve accuracy\n"
       ]
      },
      {
       "output_type": "stream",
       "stream": "stdout",
       "text": [
        "CPU times: user 5.29 s, sys: 38.9 ms, total: 5.33 s\n",
        "Wall time: 5.5 s\n",
        "CPU times: user 6.4 s, sys: 42.1 ms, total: 6.44 s"
       ]
      },
      {
       "output_type": "stream",
       "stream": "stderr",
       "text": [
        "WARNING:gensim.models.ldamodel:too few updates, training might not converge; consider increasing the number of passes or iterations to improve accuracy\n"
       ]
      },
      {
       "output_type": "stream",
       "stream": "stdout",
       "text": [
        "\n",
        "Wall time: 6.45 s\n",
        "CPU times: user 6.51 s, sys: 42.4 ms, total: 6.55 s"
       ]
      },
      {
       "output_type": "stream",
       "stream": "stderr",
       "text": [
        "WARNING:gensim.models.ldamodel:too few updates, training might not converge; consider increasing the number of passes or iterations to improve accuracy\n"
       ]
      },
      {
       "output_type": "stream",
       "stream": "stdout",
       "text": [
        "\n",
        "Wall time: 6.69 s\n",
        "CPU times: user 4.81 s, sys: 16.6 ms, total: 4.82 s"
       ]
      },
      {
       "output_type": "stream",
       "stream": "stderr",
       "text": [
        "WARNING:gensim.models.ldamodel:too few updates, training might not converge; consider increasing the number of passes or iterations to improve accuracy\n"
       ]
      },
      {
       "output_type": "stream",
       "stream": "stdout",
       "text": [
        "\n",
        "Wall time: 4.84 s\n",
        "CPU times: user 3.62 s, sys: 27.6 ms, total: 3.65 s"
       ]
      },
      {
       "output_type": "stream",
       "stream": "stderr",
       "text": [
        "WARNING:gensim.models.ldamodel:too few updates, training might not converge; consider increasing the number of passes or iterations to improve accuracy\n"
       ]
      },
      {
       "output_type": "stream",
       "stream": "stdout",
       "text": [
        "\n",
        "Wall time: 3.7 s\n",
        "CPU times: user 3.84 s, sys: 36.3 ms, total: 3.88 s"
       ]
      },
      {
       "output_type": "stream",
       "stream": "stderr",
       "text": [
        "WARNING:gensim.models.ldamodel:too few updates, training might not converge; consider increasing the number of passes or iterations to improve accuracy\n"
       ]
      },
      {
       "output_type": "stream",
       "stream": "stdout",
       "text": [
        "\n",
        "Wall time: 4.19 s\n",
        "CPU times: user 5.04 s, sys: 74.6 ms, total: 5.11 s"
       ]
      },
      {
       "output_type": "stream",
       "stream": "stderr",
       "text": [
        "WARNING:gensim.models.ldamodel:too few updates, training might not converge; consider increasing the number of passes or iterations to improve accuracy\n"
       ]
      },
      {
       "output_type": "stream",
       "stream": "stdout",
       "text": [
        "\n",
        "Wall time: 5.87 s\n",
        "CPU times: user 9.9 s, sys: 97.6 ms, total: 10 s"
       ]
      },
      {
       "output_type": "stream",
       "stream": "stderr",
       "text": [
        "WARNING:gensim.models.ldamodel:too few updates, training might not converge; consider increasing the number of passes or iterations to improve accuracy\n"
       ]
      },
      {
       "output_type": "stream",
       "stream": "stdout",
       "text": [
        "\n",
        "Wall time: 10.7 s\n",
        "CPU times: user 5.92 s, sys: 52.3 ms, total: 5.97 s"
       ]
      },
      {
       "output_type": "stream",
       "stream": "stderr",
       "text": [
        "WARNING:gensim.models.ldamodel:too few updates, training might not converge; consider increasing the number of passes or iterations to improve accuracy\n"
       ]
      },
      {
       "output_type": "stream",
       "stream": "stdout",
       "text": [
        "\n",
        "Wall time: 6.17 s\n",
        "CPU times: user 6.71 s, sys: 24.1 ms, total: 6.73 s"
       ]
      },
      {
       "output_type": "stream",
       "stream": "stderr",
       "text": [
        "WARNING:gensim.models.ldamodel:too few updates, training might not converge; consider increasing the number of passes or iterations to improve accuracy\n"
       ]
      },
      {
       "output_type": "stream",
       "stream": "stdout",
       "text": [
        "\n",
        "Wall time: 6.75 s\n",
        "CPU times: user 5.01 s, sys: 26.5 ms, total: 5.04 s"
       ]
      },
      {
       "output_type": "stream",
       "stream": "stderr",
       "text": [
        "WARNING:gensim.models.ldamodel:too few updates, training might not converge; consider increasing the number of passes or iterations to improve accuracy\n"
       ]
      },
      {
       "output_type": "stream",
       "stream": "stdout",
       "text": [
        "\n",
        "Wall time: 5.08 s\n",
        "CPU times: user 5.23 s, sys: 35.7 ms, total: 5.27 s"
       ]
      },
      {
       "output_type": "stream",
       "stream": "stderr",
       "text": [
        "WARNING:gensim.models.ldamodel:too few updates, training might not converge; consider increasing the number of passes or iterations to improve accuracy\n"
       ]
      },
      {
       "output_type": "stream",
       "stream": "stdout",
       "text": [
        "\n",
        "Wall time: 5.27 s\n",
        "CPU times: user 3.77 s, sys: 17 ms, total: 3.79 s"
       ]
      },
      {
       "output_type": "stream",
       "stream": "stderr",
       "text": [
        "WARNING:gensim.models.ldamodel:too few updates, training might not converge; consider increasing the number of passes or iterations to improve accuracy\n"
       ]
      },
      {
       "output_type": "stream",
       "stream": "stdout",
       "text": [
        "\n",
        "Wall time: 3.8 s\n",
        "CPU times: user 3.39 s, sys: 34.5 ms, total: 3.42 s"
       ]
      },
      {
       "output_type": "stream",
       "stream": "stderr",
       "text": [
        "WARNING:gensim.models.ldamodel:too few updates, training might not converge; consider increasing the number of passes or iterations to improve accuracy\n"
       ]
      },
      {
       "output_type": "stream",
       "stream": "stdout",
       "text": [
        "\n",
        "Wall time: 3.43 s\n",
        "CPU times: user 3.27 s, sys: 25.8 ms, total: 3.3 s"
       ]
      },
      {
       "output_type": "stream",
       "stream": "stderr",
       "text": [
        "WARNING:gensim.models.ldamodel:too few updates, training might not converge; consider increasing the number of passes or iterations to improve accuracy\n"
       ]
      },
      {
       "output_type": "stream",
       "stream": "stdout",
       "text": [
        "\n",
        "Wall time: 3.36 s\n",
        "CPU times: user 23.1 s, sys: 123 ms, total: 23.2 s"
       ]
      },
      {
       "output_type": "stream",
       "stream": "stderr",
       "text": [
        "WARNING:gensim.models.ldamodel:too few updates, training might not converge; consider increasing the number of passes or iterations to improve accuracy\n"
       ]
      },
      {
       "output_type": "stream",
       "stream": "stdout",
       "text": [
        "\n",
        "Wall time: 23.5 s\n",
        "CPU times: user 6.35 s, sys: 72.2 ms, total: 6.42 s"
       ]
      },
      {
       "output_type": "stream",
       "stream": "stderr",
       "text": [
        "WARNING:gensim.models.ldamodel:too few updates, training might not converge; consider increasing the number of passes or iterations to improve accuracy\n"
       ]
      },
      {
       "output_type": "stream",
       "stream": "stdout",
       "text": [
        "\n",
        "Wall time: 6.88 s\n",
        "CPU times: user 4.79 s, sys: 68.9 ms, total: 4.85 s"
       ]
      },
      {
       "output_type": "stream",
       "stream": "stderr",
       "text": [
        "WARNING:gensim.models.ldamodel:too few updates, training might not converge; consider increasing the number of passes or iterations to improve accuracy\n"
       ]
      },
      {
       "output_type": "stream",
       "stream": "stdout",
       "text": [
        "\n",
        "Wall time: 5.42 s\n",
        "CPU times: user 4.26 s, sys: 43.8 ms, total: 4.31 s"
       ]
      },
      {
       "output_type": "stream",
       "stream": "stderr",
       "text": [
        "WARNING:gensim.models.ldamodel:too few updates, training might not converge; consider increasing the number of passes or iterations to improve accuracy\n"
       ]
      },
      {
       "output_type": "stream",
       "stream": "stdout",
       "text": [
        "\n",
        "Wall time: 4.44 s\n",
        "CPU times: user 3.21 s, sys: 46.8 ms, total: 3.26 s"
       ]
      },
      {
       "output_type": "stream",
       "stream": "stdout",
       "text": [
        "\n",
        "Wall time: 3.6 s\n"
       ]
      },
      {
       "metadata": {},
       "output_type": "pyout",
       "prompt_number": 41,
       "text": [
        "[(4.0, 4.5),\n",
        " (4.0, 4.5),\n",
        " (4.0, 4.0),\n",
        " (4.0, 4.0),\n",
        " (3.5, 4.0),\n",
        " (3.5, 3.5),\n",
        " (2.5, 3.5),\n",
        " (4.0, 4.5),\n",
        " (2.5, 3.5),\n",
        " (2.5, 3.0),\n",
        " (4.0, 3.5),\n",
        " (4.0, 4.5),\n",
        " (3.5, 4.0),\n",
        " (3.5, 3.5),\n",
        " (3.0, 3.5),\n",
        " (3.5, 4.0),\n",
        " (3.0, 4.0),\n",
        " (4.5, 4.0),\n",
        " (3.5, 3.5),\n",
        " (4.0, 4.0)]"
       ]
      }
     ],
     "prompt_number": 41
    },
    {
     "cell_type": "code",
     "collapsed": false,
     "input": [
      "# Calculate total error\n",
      "error = 0.0\n",
      "for prediction in predictions:\n",
      "    error += abs(prediction[0] - prediction[1]) / prediction[1]\n",
      "    \n",
      "print \"Total error: {}%\".format(error / len(predictions) * 100)"
     ],
     "language": "python",
     "metadata": {},
     "outputs": [
      {
       "output_type": "stream",
       "stream": "stdout",
       "text": [
        "Total error: 11.0912698413%\n"
       ]
      }
     ],
     "prompt_number": 42
    },
    {
     "cell_type": "code",
     "collapsed": false,
     "input": [
      "# Let's test across different ratings\n",
      "stars = [1, 1.5, 2, 2.5, 3, 3.5, 4, 4.5, 5]\n",
      "test_size = 10\n",
      "\n",
      "errors = []\n",
      "for star in stars:\n",
      "    print \"star rating {}\".format(star)\n",
      "    \n",
      "    data = data_restaurants[data_restaurants['stars'] == star]['business_id']\n",
      "    print \"Number of restaurants available: {}\".format(len(data))\n",
      "\n",
      "    test = data.head(test_size)\n",
      "    for restaurant in test:\n",
      "        reviews = restaurant_reviews[restaurant_reviews['business_id'] == restaurant]\n",
      "        print \"Restaurant {} has {} reviews.\".format(restaurant, len(reviews))\n",
      "        \n",
      "    # Predict ratings for test set\n",
      "    predictions = []\n",
      "    for restaurant in test:\n",
      "        %time predictions.append(predictRating(restaurant))\n",
      "    \n",
      "    # Calculate total error\n",
      "    error = 0.0\n",
      "    for prediction in predictions:\n",
      "        error += abs(prediction[0] - prediction[1]) / prediction[1]\n",
      "\n",
      "    percent = (error / len(predictions) * 100)\n",
      "    errors.append([star, percent])"
     ],
     "language": "python",
     "metadata": {},
     "outputs": [
      {
       "output_type": "stream",
       "stream": "stdout",
       "text": [
        "star rating 1\n",
        "Number of restaurants available: 88\n",
        "Restaurant -sV52FN-D-I808tyRPEvwg has 18 reviews."
       ]
      },
      {
       "output_type": "stream",
       "stream": "stdout",
       "text": [
        "\n",
        "Restaurant JcWk6o9gGXeNk6EamLoA6w has 13 reviews."
       ]
      },
      {
       "output_type": "stream",
       "stream": "stdout",
       "text": [
        "\n",
        "Restaurant AAkqVCuUGIP0gvY42_CRYA has 12 reviews."
       ]
      },
      {
       "output_type": "stream",
       "stream": "stdout",
       "text": [
        "\n",
        "Restaurant RR7nf12D8cOkNi6HQAQbBA has 10 reviews."
       ]
      },
      {
       "output_type": "stream",
       "stream": "stdout",
       "text": [
        "\n",
        "Restaurant eQdQYR5hvMLiYDF41lOtCw has 9 reviews."
       ]
      },
      {
       "output_type": "stream",
       "stream": "stdout",
       "text": [
        "\n",
        "Restaurant uWcNxbYw4mxf12QfWXyuDg has 7 reviews."
       ]
      },
      {
       "output_type": "stream",
       "stream": "stdout",
       "text": [
        "\n",
        "Restaurant PBToP8q81MezfE7LfJzEgA has 6 reviews."
       ]
      },
      {
       "output_type": "stream",
       "stream": "stdout",
       "text": [
        "\n",
        "Restaurant BrTeICW0znNrZRFO60wuBA has 7 reviews."
       ]
      },
      {
       "output_type": "stream",
       "stream": "stdout",
       "text": [
        "\n",
        "Restaurant UARN2BF_4ijjkB_YEYA8sw has 6 reviews."
       ]
      },
      {
       "output_type": "stream",
       "stream": "stdout",
       "text": [
        "\n",
        "Restaurant N2Q9-LaYbMzFJJI5NmZdyw has 4 reviews."
       ]
      },
      {
       "output_type": "stream",
       "stream": "stderr",
       "text": [
        "WARNING:gensim.models.ldamodel:too few updates, training might not converge; consider increasing the number of passes or iterations to improve accuracy\n"
       ]
      },
      {
       "output_type": "stream",
       "stream": "stdout",
       "text": [
        "\n",
        "CPU times: user 306 ms, sys: 3.66 ms, total: 309 ms"
       ]
      },
      {
       "output_type": "stream",
       "stream": "stderr",
       "text": [
        "WARNING:gensim.models.ldamodel:too few updates, training might not converge; consider increasing the number of passes or iterations to improve accuracy\n"
       ]
      },
      {
       "output_type": "stream",
       "stream": "stdout",
       "text": [
        "\n",
        "Wall time: 311 ms\n",
        "CPU times: user 249 ms, sys: 2.7 ms, total: 251 ms"
       ]
      },
      {
       "output_type": "stream",
       "stream": "stderr",
       "text": [
        "WARNING:gensim.models.ldamodel:too few updates, training might not converge; consider increasing the number of passes or iterations to improve accuracy\n"
       ]
      },
      {
       "output_type": "stream",
       "stream": "stdout",
       "text": [
        "\n",
        "Wall time: 252 ms\n",
        "CPU times: user 166 ms, sys: 2.38 ms, total: 168 ms"
       ]
      },
      {
       "output_type": "stream",
       "stream": "stderr",
       "text": [
        "WARNING:gensim.models.ldamodel:too few updates, training might not converge; consider increasing the number of passes or iterations to improve accuracy\n"
       ]
      },
      {
       "output_type": "stream",
       "stream": "stdout",
       "text": [
        "\n",
        "Wall time: 168 ms\n",
        "CPU times: user 202 ms, sys: 3 ms, total: 205 ms"
       ]
      },
      {
       "output_type": "stream",
       "stream": "stderr",
       "text": [
        "WARNING:gensim.models.ldamodel:too few updates, training might not converge; consider increasing the number of passes or iterations to improve accuracy\n"
       ]
      },
      {
       "output_type": "stream",
       "stream": "stdout",
       "text": [
        "\n",
        "Wall time: 208 ms\n",
        "CPU times: user 153 ms, sys: 3.35 ms, total: 157 ms"
       ]
      },
      {
       "output_type": "stream",
       "stream": "stderr",
       "text": [
        "WARNING:gensim.models.ldamodel:too few updates, training might not converge; consider increasing the number of passes or iterations to improve accuracy\n"
       ]
      },
      {
       "output_type": "stream",
       "stream": "stdout",
       "text": [
        "\n",
        "Wall time: 160 ms\n",
        "CPU times: user 153 ms, sys: 3.56 ms, total: 157 ms"
       ]
      },
      {
       "output_type": "stream",
       "stream": "stderr",
       "text": [
        "WARNING:gensim.models.ldamodel:too few updates, training might not converge; consider increasing the number of passes or iterations to improve accuracy\n"
       ]
      },
      {
       "output_type": "stream",
       "stream": "stdout",
       "text": [
        "\n",
        "Wall time: 159 ms\n",
        "CPU times: user 157 ms, sys: 3.58 ms, total: 161 ms"
       ]
      },
      {
       "output_type": "stream",
       "stream": "stderr",
       "text": [
        "WARNING:gensim.models.ldamodel:too few updates, training might not converge; consider increasing the number of passes or iterations to improve accuracy\n"
       ]
      },
      {
       "output_type": "stream",
       "stream": "stdout",
       "text": [
        "\n",
        "Wall time: 163 ms\n",
        "CPU times: user 166 ms, sys: 4.27 ms, total: 170 ms"
       ]
      },
      {
       "output_type": "stream",
       "stream": "stderr",
       "text": [
        "WARNING:gensim.models.ldamodel:too few updates, training might not converge; consider increasing the number of passes or iterations to improve accuracy\n"
       ]
      },
      {
       "output_type": "stream",
       "stream": "stdout",
       "text": [
        "\n",
        "Wall time: 174 ms\n",
        "CPU times: user 171 ms, sys: 3.84 ms, total: 175 ms"
       ]
      },
      {
       "output_type": "stream",
       "stream": "stderr",
       "text": [
        "WARNING:gensim.models.ldamodel:too few updates, training might not converge; consider increasing the number of passes or iterations to improve accuracy\n"
       ]
      },
      {
       "output_type": "stream",
       "stream": "stdout",
       "text": [
        "\n",
        "Wall time: 182 ms\n",
        "CPU times: user 135 ms, sys: 3.62 ms, total: 139 ms"
       ]
      },
      {
       "output_type": "stream",
       "stream": "stdout",
       "text": [
        "\n",
        "Wall time: 142 ms\n",
        "star rating 1.5\n",
        "Number of restaurants available: 337\n",
        "Restaurant KVYSUfN89b-nih-_9HhF6g has 165 reviews."
       ]
      },
      {
       "output_type": "stream",
       "stream": "stdout",
       "text": [
        "\n",
        "Restaurant EF5vR_UUavzPjtgMYFCg5Q has 154 reviews."
       ]
      },
      {
       "output_type": "stream",
       "stream": "stdout",
       "text": [
        "\n",
        "Restaurant K5kU2IN6mXvMo-Cx0oQFZg has 98 reviews."
       ]
      },
      {
       "output_type": "stream",
       "stream": "stdout",
       "text": [
        "\n",
        "Restaurant PdZj1gylTC5AaTO21eOYcA has 76 reviews."
       ]
      },
      {
       "output_type": "stream",
       "stream": "stdout",
       "text": [
        "\n",
        "Restaurant CJ8IURVsHxTIu2Kzp2Kumw has 53 reviews."
       ]
      },
      {
       "output_type": "stream",
       "stream": "stdout",
       "text": [
        "\n",
        "Restaurant f2eVsiYVUuDKElCP_tMEcw has 37 reviews."
       ]
      },
      {
       "output_type": "stream",
       "stream": "stdout",
       "text": [
        "\n",
        "Restaurant dvjYiddhJ2HrosdSBAqngg has 28 reviews."
       ]
      },
      {
       "output_type": "stream",
       "stream": "stdout",
       "text": [
        "\n",
        "Restaurant 5PPZZq8-A96Fm3rZvP6fcQ has 27 reviews."
       ]
      },
      {
       "output_type": "stream",
       "stream": "stdout",
       "text": [
        "\n",
        "Restaurant 4wcDUnb2y2fW8sSzFd8EaQ has 28 reviews."
       ]
      },
      {
       "output_type": "stream",
       "stream": "stdout",
       "text": [
        "\n",
        "Restaurant VbiAfJRchFaMYdqylVJB4A has 24 reviews."
       ]
      },
      {
       "output_type": "stream",
       "stream": "stderr",
       "text": [
        "WARNING:gensim.models.ldamodel:too few updates, training might not converge; consider increasing the number of passes or iterations to improve accuracy\n"
       ]
      },
      {
       "output_type": "stream",
       "stream": "stdout",
       "text": [
        "\n",
        "CPU times: user 2.62 s, sys: 47.7 ms, total: 2.67 s"
       ]
      },
      {
       "output_type": "stream",
       "stream": "stderr",
       "text": [
        "WARNING:gensim.models.ldamodel:too few updates, training might not converge; consider increasing the number of passes or iterations to improve accuracy\n"
       ]
      },
      {
       "output_type": "stream",
       "stream": "stdout",
       "text": [
        "\n",
        "Wall time: 3.15 s\n",
        "CPU times: user 2.27 s, sys: 44.4 ms, total: 2.32 s"
       ]
      },
      {
       "output_type": "stream",
       "stream": "stderr",
       "text": [
        "WARNING:gensim.models.ldamodel:too few updates, training might not converge; consider increasing the number of passes or iterations to improve accuracy\n"
       ]
      },
      {
       "output_type": "stream",
       "stream": "stdout",
       "text": [
        "\n",
        "Wall time: 2.8 s\n",
        "CPU times: user 1.54 s, sys: 29.6 ms, total: 1.57 s"
       ]
      },
      {
       "output_type": "stream",
       "stream": "stderr",
       "text": [
        "WARNING:gensim.models.ldamodel:too few updates, training might not converge; consider increasing the number of passes or iterations to improve accuracy\n"
       ]
      },
      {
       "output_type": "stream",
       "stream": "stdout",
       "text": [
        "\n",
        "Wall time: 1.78 s\n",
        "CPU times: user 1.01 s, sys: 9.6 ms, total: 1.02 s"
       ]
      },
      {
       "output_type": "stream",
       "stream": "stderr",
       "text": [
        "WARNING:gensim.models.ldamodel:too few updates, training might not converge; consider increasing the number of passes or iterations to improve accuracy\n"
       ]
      },
      {
       "output_type": "stream",
       "stream": "stdout",
       "text": [
        "\n",
        "Wall time: 1.03 s\n",
        "CPU times: user 587 ms, sys: 4.23 ms, total: 591 ms"
       ]
      },
      {
       "output_type": "stream",
       "stream": "stderr",
       "text": [
        "WARNING:gensim.models.ldamodel:too few updates, training might not converge; consider increasing the number of passes or iterations to improve accuracy\n"
       ]
      },
      {
       "output_type": "stream",
       "stream": "stdout",
       "text": [
        "\n",
        "Wall time: 600 ms\n",
        "CPU times: user 422 ms, sys: 3.48 ms, total: 425 ms"
       ]
      },
      {
       "output_type": "stream",
       "stream": "stderr",
       "text": [
        "WARNING:gensim.models.ldamodel:too few updates, training might not converge; consider increasing the number of passes or iterations to improve accuracy\n"
       ]
      },
      {
       "output_type": "stream",
       "stream": "stdout",
       "text": [
        "\n",
        "Wall time: 427 ms\n",
        "CPU times: user 370 ms, sys: 4.78 ms, total: 375 ms"
       ]
      },
      {
       "output_type": "stream",
       "stream": "stderr",
       "text": [
        "WARNING:gensim.models.ldamodel:too few updates, training might not converge; consider increasing the number of passes or iterations to improve accuracy\n"
       ]
      },
      {
       "output_type": "stream",
       "stream": "stdout",
       "text": [
        "\n",
        "Wall time: 375 ms\n",
        "CPU times: user 376 ms, sys: 3.28 ms, total: 380 ms"
       ]
      },
      {
       "output_type": "stream",
       "stream": "stderr",
       "text": [
        "WARNING:gensim.models.ldamodel:too few updates, training might not converge; consider increasing the number of passes or iterations to improve accuracy\n"
       ]
      },
      {
       "output_type": "stream",
       "stream": "stdout",
       "text": [
        "\n",
        "Wall time: 382 ms\n",
        "CPU times: user 442 ms, sys: 3.65 ms, total: 446 ms"
       ]
      },
      {
       "output_type": "stream",
       "stream": "stderr",
       "text": [
        "WARNING:gensim.models.ldamodel:too few updates, training might not converge; consider increasing the number of passes or iterations to improve accuracy\n"
       ]
      },
      {
       "output_type": "stream",
       "stream": "stdout",
       "text": [
        "\n",
        "Wall time: 447 ms\n",
        "CPU times: user 335 ms, sys: 3.84 ms, total: 339 ms"
       ]
      },
      {
       "output_type": "stream",
       "stream": "stdout",
       "text": [
        "\n",
        "Wall time: 343 ms\n",
        "star rating 2\n",
        "Number of restaurants available: 853\n",
        "Restaurant 1ldDbggHHgPlj3k0SpBTKQ has 265 reviews."
       ]
      },
      {
       "output_type": "stream",
       "stream": "stdout",
       "text": [
        "\n",
        "Restaurant VdY6qe9afspFwsbzX1HsOQ has 262 reviews."
       ]
      },
      {
       "output_type": "stream",
       "stream": "stdout",
       "text": [
        "\n",
        "Restaurant a1t31qMLd5fQocEjbSJ61A has 233 reviews."
       ]
      },
      {
       "output_type": "stream",
       "stream": "stdout",
       "text": [
        "\n",
        "Restaurant hsTKn-6YSH3JsOSiYKGkwQ has 214 reviews."
       ]
      },
      {
       "output_type": "stream",
       "stream": "stdout",
       "text": [
        "\n",
        "Restaurant UuBZkKnckkRmYt3jFn2gaQ has 147 reviews."
       ]
      },
      {
       "output_type": "stream",
       "stream": "stdout",
       "text": [
        "\n",
        "Restaurant 0InQd9vuhRc98OksC3Ks8Q has 163 reviews."
       ]
      },
      {
       "output_type": "stream",
       "stream": "stdout",
       "text": [
        "\n",
        "Restaurant chudEeZo1SNr-0Mo9L2OgQ has 124 reviews."
       ]
      },
      {
       "output_type": "stream",
       "stream": "stdout",
       "text": [
        "\n",
        "Restaurant 66jI6z-JuLasvd692ymycg has 113 reviews."
       ]
      },
      {
       "output_type": "stream",
       "stream": "stdout",
       "text": [
        "\n",
        "Restaurant CfdCsVkzzM3uJKGRzA0ufA has 98 reviews."
       ]
      },
      {
       "output_type": "stream",
       "stream": "stdout",
       "text": [
        "\n",
        "Restaurant et-odMgalfrBGzhuMWoy3Q has 85 reviews."
       ]
      },
      {
       "output_type": "stream",
       "stream": "stderr",
       "text": [
        "WARNING:gensim.models.ldamodel:too few updates, training might not converge; consider increasing the number of passes or iterations to improve accuracy\n"
       ]
      },
      {
       "output_type": "stream",
       "stream": "stdout",
       "text": [
        "\n",
        "CPU times: user 3.1 s, sys: 13.7 ms, total: 3.11 s"
       ]
      },
      {
       "output_type": "stream",
       "stream": "stderr",
       "text": [
        "WARNING:gensim.models.ldamodel:too few updates, training might not converge; consider increasing the number of passes or iterations to improve accuracy\n"
       ]
      },
      {
       "output_type": "stream",
       "stream": "stdout",
       "text": [
        "\n",
        "Wall time: 3.13 s\n",
        "CPU times: user 3.11 s, sys: 24 ms, total: 3.13 s"
       ]
      },
      {
       "output_type": "stream",
       "stream": "stderr",
       "text": [
        "WARNING:gensim.models.ldamodel:too few updates, training might not converge; consider increasing the number of passes or iterations to improve accuracy\n"
       ]
      },
      {
       "output_type": "stream",
       "stream": "stdout",
       "text": [
        "\n",
        "Wall time: 3.27 s\n",
        "CPU times: user 3.21 s, sys: 43.6 ms, total: 3.25 s"
       ]
      },
      {
       "output_type": "stream",
       "stream": "stderr",
       "text": [
        "WARNING:gensim.models.ldamodel:too few updates, training might not converge; consider increasing the number of passes or iterations to improve accuracy\n"
       ]
      },
      {
       "output_type": "stream",
       "stream": "stdout",
       "text": [
        "\n",
        "Wall time: 3.59 s\n",
        "CPU times: user 2.99 s, sys: 51.2 ms, total: 3.05 s"
       ]
      },
      {
       "output_type": "stream",
       "stream": "stderr",
       "text": [
        "WARNING:gensim.models.ldamodel:too few updates, training might not converge; consider increasing the number of passes or iterations to improve accuracy\n"
       ]
      },
      {
       "output_type": "stream",
       "stream": "stdout",
       "text": [
        "\n",
        "Wall time: 3.64 s\n",
        "CPU times: user 1.74 s, sys: 9.07 ms, total: 1.75 s"
       ]
      },
      {
       "output_type": "stream",
       "stream": "stderr",
       "text": [
        "WARNING:gensim.models.ldamodel:too few updates, training might not converge; consider increasing the number of passes or iterations to improve accuracy\n"
       ]
      },
      {
       "output_type": "stream",
       "stream": "stdout",
       "text": [
        "\n",
        "Wall time: 1.76 s\n",
        "CPU times: user 1.93 s, sys: 8.05 ms, total: 1.93 s"
       ]
      },
      {
       "output_type": "stream",
       "stream": "stderr",
       "text": [
        "WARNING:gensim.models.ldamodel:too few updates, training might not converge; consider increasing the number of passes or iterations to improve accuracy\n"
       ]
      },
      {
       "output_type": "stream",
       "stream": "stdout",
       "text": [
        "\n",
        "Wall time: 1.94 s\n",
        "CPU times: user 1.38 s, sys: 6.76 ms, total: 1.38 s"
       ]
      },
      {
       "output_type": "stream",
       "stream": "stderr",
       "text": [
        "WARNING:gensim.models.ldamodel:too few updates, training might not converge; consider increasing the number of passes or iterations to improve accuracy\n"
       ]
      },
      {
       "output_type": "stream",
       "stream": "stdout",
       "text": [
        "\n",
        "Wall time: 1.39 s\n",
        "CPU times: user 1.37 s, sys: 7.67 ms, total: 1.38 s"
       ]
      },
      {
       "output_type": "stream",
       "stream": "stderr",
       "text": [
        "WARNING:gensim.models.ldamodel:too few updates, training might not converge; consider increasing the number of passes or iterations to improve accuracy\n"
       ]
      },
      {
       "output_type": "stream",
       "stream": "stdout",
       "text": [
        "\n",
        "Wall time: 1.38 s\n",
        "CPU times: user 1.1 s, sys: 6.13 ms, total: 1.1 s"
       ]
      },
      {
       "output_type": "stream",
       "stream": "stderr",
       "text": [
        "WARNING:gensim.models.ldamodel:too few updates, training might not converge; consider increasing the number of passes or iterations to improve accuracy\n"
       ]
      },
      {
       "output_type": "stream",
       "stream": "stdout",
       "text": [
        "\n",
        "Wall time: 1.11 s\n",
        "CPU times: user 783 ms, sys: 5.76 ms, total: 789 ms"
       ]
      },
      {
       "output_type": "stream",
       "stream": "stdout",
       "text": [
        "\n",
        "Wall time: 792 ms\n",
        "star rating 2.5\n",
        "Number of restaurants available: 2108\n",
        "Restaurant KJnVuzpveyDrHARVNZaYVg has 724 reviews."
       ]
      },
      {
       "output_type": "stream",
       "stream": "stdout",
       "text": [
        "\n",
        "Restaurant Zf7fMSe7yuW727JyikdBsg has 661 reviews."
       ]
      },
      {
       "output_type": "stream",
       "stream": "stdout",
       "text": [
        "\n",
        "Restaurant c12WDNrP2wyQgbnEYDdxCw has 479 reviews."
       ]
      },
      {
       "output_type": "stream",
       "stream": "stdout",
       "text": [
        "\n",
        "Restaurant bCRrLdBLel3y73tA8w6C3Q has 387 reviews."
       ]
      },
      {
       "output_type": "stream",
       "stream": "stdout",
       "text": [
        "\n",
        "Restaurant bGj9djLAHjNR55OXsIDrAg has 372 reviews."
       ]
      },
      {
       "output_type": "stream",
       "stream": "stdout",
       "text": [
        "\n",
        "Restaurant _xmJB767rROtAy6XepMlkQ has 371 reviews."
       ]
      },
      {
       "output_type": "stream",
       "stream": "stdout",
       "text": [
        "\n",
        "Restaurant sxRI0je6hAR-MeBDxdyhug has 339 reviews."
       ]
      },
      {
       "output_type": "stream",
       "stream": "stdout",
       "text": [
        "\n",
        "Restaurant j2KCZNlWnu-L4j0yJ3zAHA has 315 reviews."
       ]
      },
      {
       "output_type": "stream",
       "stream": "stdout",
       "text": [
        "\n",
        "Restaurant vW4G1hwiW6LkuhAfbeRfqg has 301 reviews."
       ]
      },
      {
       "output_type": "stream",
       "stream": "stdout",
       "text": [
        "\n",
        "Restaurant mU57qypB4nLScxgowHNEUA has 249 reviews."
       ]
      },
      {
       "output_type": "stream",
       "stream": "stderr",
       "text": [
        "WARNING:gensim.models.ldamodel:too few updates, training might not converge; consider increasing the number of passes or iterations to improve accuracy\n"
       ]
      },
      {
       "output_type": "stream",
       "stream": "stdout",
       "text": [
        "\n",
        "CPU times: user 10.1 s, sys: 40.9 ms, total: 10.1 s"
       ]
      },
      {
       "output_type": "stream",
       "stream": "stderr",
       "text": [
        "WARNING:gensim.models.ldamodel:too few updates, training might not converge; consider increasing the number of passes or iterations to improve accuracy\n"
       ]
      },
      {
       "output_type": "stream",
       "stream": "stdout",
       "text": [
        "\n",
        "Wall time: 10.2 s\n",
        "CPU times: user 9.31 s, sys: 30.2 ms, total: 9.34 s"
       ]
      },
      {
       "output_type": "stream",
       "stream": "stderr",
       "text": [
        "WARNING:gensim.models.ldamodel:too few updates, training might not converge; consider increasing the number of passes or iterations to improve accuracy\n"
       ]
      },
      {
       "output_type": "stream",
       "stream": "stdout",
       "text": [
        "\n",
        "Wall time: 9.38 s\n",
        "CPU times: user 4.75 s, sys: 20.9 ms, total: 4.78 s"
       ]
      },
      {
       "output_type": "stream",
       "stream": "stderr",
       "text": [
        "WARNING:gensim.models.ldamodel:too few updates, training might not converge; consider increasing the number of passes or iterations to improve accuracy\n"
       ]
      },
      {
       "output_type": "stream",
       "stream": "stdout",
       "text": [
        "\n",
        "Wall time: 4.79 s\n",
        "CPU times: user 4.79 s, sys: 17.2 ms, total: 4.8 s"
       ]
      },
      {
       "output_type": "stream",
       "stream": "stderr",
       "text": [
        "WARNING:gensim.models.ldamodel:too few updates, training might not converge; consider increasing the number of passes or iterations to improve accuracy\n"
       ]
      },
      {
       "output_type": "stream",
       "stream": "stdout",
       "text": [
        "\n",
        "Wall time: 4.83 s\n",
        "CPU times: user 4.4 s, sys: 19.1 ms, total: 4.42 s"
       ]
      },
      {
       "output_type": "stream",
       "stream": "stderr",
       "text": [
        "WARNING:gensim.models.ldamodel:too few updates, training might not converge; consider increasing the number of passes or iterations to improve accuracy\n"
       ]
      },
      {
       "output_type": "stream",
       "stream": "stdout",
       "text": [
        "\n",
        "Wall time: 4.45 s\n",
        "CPU times: user 4.31 s, sys: 15.9 ms, total: 4.32 s"
       ]
      },
      {
       "output_type": "stream",
       "stream": "stderr",
       "text": [
        "WARNING:gensim.models.ldamodel:too few updates, training might not converge; consider increasing the number of passes or iterations to improve accuracy\n"
       ]
      },
      {
       "output_type": "stream",
       "stream": "stdout",
       "text": [
        "\n",
        "Wall time: 4.34 s\n",
        "CPU times: user 3.85 s, sys: 18.6 ms, total: 3.87 s"
       ]
      },
      {
       "output_type": "stream",
       "stream": "stderr",
       "text": [
        "WARNING:gensim.models.ldamodel:too few updates, training might not converge; consider increasing the number of passes or iterations to improve accuracy\n"
       ]
      },
      {
       "output_type": "stream",
       "stream": "stdout",
       "text": [
        "\n",
        "Wall time: 3.88 s\n",
        "CPU times: user 3.25 s, sys: 13.4 ms, total: 3.26 s"
       ]
      },
      {
       "output_type": "stream",
       "stream": "stderr",
       "text": [
        "WARNING:gensim.models.ldamodel:too few updates, training might not converge; consider increasing the number of passes or iterations to improve accuracy\n"
       ]
      },
      {
       "output_type": "stream",
       "stream": "stdout",
       "text": [
        "\n",
        "Wall time: 3.29 s\n",
        "CPU times: user 3.61 s, sys: 21.2 ms, total: 3.63 s"
       ]
      },
      {
       "output_type": "stream",
       "stream": "stderr",
       "text": [
        "WARNING:gensim.models.ldamodel:too few updates, training might not converge; consider increasing the number of passes or iterations to improve accuracy\n"
       ]
      },
      {
       "output_type": "stream",
       "stream": "stdout",
       "text": [
        "\n",
        "Wall time: 3.64 s\n",
        "CPU times: user 2.54 s, sys: 12.5 ms, total: 2.55 s"
       ]
      },
      {
       "output_type": "stream",
       "stream": "stdout",
       "text": [
        "\n",
        "Wall time: 2.58 s\n",
        "star rating 3\n",
        "Number of restaurants available: 3939\n",
        "Restaurant Xhg93cMdemu5pAMkDoEdtQ has 2675 reviews."
       ]
      },
      {
       "output_type": "stream",
       "stream": "stdout",
       "text": [
        "\n",
        "Restaurant SLyacGZuMUKqrQJEooSkjw has 1032 reviews."
       ]
      },
      {
       "output_type": "stream",
       "stream": "stdout",
       "text": [
        "\n",
        "Restaurant zTCCbg7mGslxACL5KlAPIQ has 987 reviews."
       ]
      },
      {
       "output_type": "stream",
       "stream": "stdout",
       "text": [
        "\n",
        "Restaurant cMvN1j-LK64zqmT4vnl8NA has 755 reviews."
       ]
      },
      {
       "output_type": "stream",
       "stream": "stdout",
       "text": [
        "\n",
        "Restaurant KcSJUq1kwO8awZRMS6Q49g has 656 reviews."
       ]
      },
      {
       "output_type": "stream",
       "stream": "stdout",
       "text": [
        "\n",
        "Restaurant nZgYNbl1XlZyyKlISMoG6w has 671 reviews."
       ]
      },
      {
       "output_type": "stream",
       "stream": "stdout",
       "text": [
        "\n",
        "Restaurant b25jGkZerj2M4WAy95n1Tg has 586 reviews."
       ]
      },
      {
       "output_type": "stream",
       "stream": "stdout",
       "text": [
        "\n",
        "Restaurant yJDSMugu_Pom3pJE8MRrJA has 596 reviews."
       ]
      },
      {
       "output_type": "stream",
       "stream": "stdout",
       "text": [
        "\n",
        "Restaurant J4qLz0nGzCTMf6-kf_SiQg has 566 reviews."
       ]
      },
      {
       "output_type": "stream",
       "stream": "stdout",
       "text": [
        "\n",
        "Restaurant Gn7bMxhZgY0bivsthvJWJQ has 531 reviews."
       ]
      },
      {
       "output_type": "stream",
       "stream": "stderr",
       "text": [
        "WARNING:gensim.models.ldamodel:too few updates, training might not converge; consider increasing the number of passes or iterations to improve accuracy\n"
       ]
      },
      {
       "output_type": "stream",
       "stream": "stdout",
       "text": [
        "\n",
        "CPU times: user 38.6 s, sys: 256 ms, total: 38.9 s"
       ]
      },
      {
       "output_type": "stream",
       "stream": "stderr",
       "text": [
        "WARNING:gensim.models.ldamodel:too few updates, training might not converge; consider increasing the number of passes or iterations to improve accuracy\n"
       ]
      },
      {
       "output_type": "stream",
       "stream": "stdout",
       "text": [
        "\n",
        "Wall time: 40.2 s\n",
        "CPU times: user 12.7 s, sys: 66 ms, total: 12.8 s"
       ]
      },
      {
       "output_type": "stream",
       "stream": "stderr",
       "text": [
        "WARNING:gensim.models.ldamodel:too few updates, training might not converge; consider increasing the number of passes or iterations to improve accuracy\n"
       ]
      },
      {
       "output_type": "stream",
       "stream": "stdout",
       "text": [
        "\n",
        "Wall time: 12.8 s\n",
        "CPU times: user 13.3 s, sys: 51.6 ms, total: 13.3 s"
       ]
      },
      {
       "output_type": "stream",
       "stream": "stderr",
       "text": [
        "WARNING:gensim.models.ldamodel:too few updates, training might not converge; consider increasing the number of passes or iterations to improve accuracy\n"
       ]
      },
      {
       "output_type": "stream",
       "stream": "stdout",
       "text": [
        "\n",
        "Wall time: 13.4 s\n",
        "CPU times: user 10.9 s, sys: 51.1 ms, total: 11 s"
       ]
      },
      {
       "output_type": "stream",
       "stream": "stderr",
       "text": [
        "WARNING:gensim.models.ldamodel:too few updates, training might not converge; consider increasing the number of passes or iterations to improve accuracy\n"
       ]
      },
      {
       "output_type": "stream",
       "stream": "stdout",
       "text": [
        "\n",
        "Wall time: 11 s\n",
        "CPU times: user 6.81 s, sys: 38.9 ms, total: 6.85 s"
       ]
      },
      {
       "output_type": "stream",
       "stream": "stderr",
       "text": [
        "WARNING:gensim.models.ldamodel:too few updates, training might not converge; consider increasing the number of passes or iterations to improve accuracy\n"
       ]
      },
      {
       "output_type": "stream",
       "stream": "stdout",
       "text": [
        "\n",
        "Wall time: 6.86 s\n",
        "CPU times: user 8.81 s, sys: 56.1 ms, total: 8.87 s"
       ]
      },
      {
       "output_type": "stream",
       "stream": "stderr",
       "text": [
        "WARNING:gensim.models.ldamodel:too few updates, training might not converge; consider increasing the number of passes or iterations to improve accuracy\n"
       ]
      },
      {
       "output_type": "stream",
       "stream": "stdout",
       "text": [
        "\n",
        "Wall time: 8.87 s\n",
        "CPU times: user 7.27 s, sys: 29 ms, total: 7.3 s"
       ]
      },
      {
       "output_type": "stream",
       "stream": "stderr",
       "text": [
        "WARNING:gensim.models.ldamodel:too few updates, training might not converge; consider increasing the number of passes or iterations to improve accuracy\n"
       ]
      },
      {
       "output_type": "stream",
       "stream": "stdout",
       "text": [
        "\n",
        "Wall time: 7.32 s\n",
        "CPU times: user 6.48 s, sys: 38.4 ms, total: 6.51 s"
       ]
      },
      {
       "output_type": "stream",
       "stream": "stderr",
       "text": [
        "WARNING:gensim.models.ldamodel:too few updates, training might not converge; consider increasing the number of passes or iterations to improve accuracy\n"
       ]
      },
      {
       "output_type": "stream",
       "stream": "stdout",
       "text": [
        "\n",
        "Wall time: 6.53 s\n",
        "CPU times: user 6.41 s, sys: 21.9 ms, total: 6.43 s"
       ]
      },
      {
       "output_type": "stream",
       "stream": "stderr",
       "text": [
        "WARNING:gensim.models.ldamodel:too few updates, training might not converge; consider increasing the number of passes or iterations to improve accuracy\n"
       ]
      },
      {
       "output_type": "stream",
       "stream": "stdout",
       "text": [
        "\n",
        "Wall time: 6.46 s\n",
        "CPU times: user 6.07 s, sys: 20.8 ms, total: 6.1 s"
       ]
      },
      {
       "output_type": "stream",
       "stream": "stdout",
       "text": [
        "\n",
        "Wall time: 6.12 s\n",
        "star rating 3.5\n",
        "Number of restaurants available: 6048\n",
        "Restaurant zt1TpTuJ6y9n551sw9TaEg has 3352 reviews."
       ]
      },
      {
       "output_type": "stream",
       "stream": "stdout",
       "text": [
        "\n",
        "Restaurant YNQgak-ZLtYJQxlDwN-qIg has 2619 reviews."
       ]
      },
      {
       "output_type": "stream",
       "stream": "stdout",
       "text": [
        "\n",
        "Restaurant CZjcFdvJhksq9dy58NVEzw has 2252 reviews."
       ]
      },
      {
       "output_type": "stream",
       "stream": "stdout",
       "text": [
        "\n",
        "Restaurant FV16IeXJp2W6pnghTz2FAw has 1374 reviews."
       ]
      },
      {
       "output_type": "stream",
       "stream": "stdout",
       "text": [
        "\n",
        "Restaurant rBPQuQgTcMtUq5-RYhY2uQ has 1256 reviews."
       ]
      },
      {
       "output_type": "stream",
       "stream": "stdout",
       "text": [
        "\n",
        "Restaurant ngNvH4sxnH9aMukTZ67R_Q has 1052 reviews."
       ]
      },
      {
       "output_type": "stream",
       "stream": "stdout",
       "text": [
        "\n",
        "Restaurant 5GKbGn9-fAgQ0njSh3OJ8A has 980 reviews."
       ]
      },
      {
       "output_type": "stream",
       "stream": "stdout",
       "text": [
        "\n",
        "Restaurant vSf0pqvaLp5sVSjJPeOqqQ has 836 reviews."
       ]
      },
      {
       "output_type": "stream",
       "stream": "stdout",
       "text": [
        "\n",
        "Restaurant 3fV9sL5LklD9ZSeONKmjkw has 807 reviews."
       ]
      },
      {
       "output_type": "stream",
       "stream": "stdout",
       "text": [
        "\n",
        "Restaurant gGeVLZ9j_wAYKbaqgnKSJA has 791 reviews."
       ]
      },
      {
       "output_type": "stream",
       "stream": "stderr",
       "text": [
        "WARNING:gensim.models.ldamodel:too few updates, training might not converge; consider increasing the number of passes or iterations to improve accuracy\n"
       ]
      },
      {
       "output_type": "stream",
       "stream": "stdout",
       "text": [
        "\n",
        "CPU times: user 48.9 s, sys: 188 ms, total: 49.1 s"
       ]
      },
      {
       "output_type": "stream",
       "stream": "stderr",
       "text": [
        "WARNING:gensim.models.ldamodel:too few updates, training might not converge; consider increasing the number of passes or iterations to improve accuracy\n"
       ]
      },
      {
       "output_type": "stream",
       "stream": "stdout",
       "text": [
        "\n",
        "Wall time: 49.3 s\n",
        "CPU times: user 36 s, sys: 130 ms, total: 36.1 s"
       ]
      },
      {
       "output_type": "stream",
       "stream": "stderr",
       "text": [
        "WARNING:gensim.models.ldamodel:too few updates, training might not converge; consider increasing the number of passes or iterations to improve accuracy\n"
       ]
      },
      {
       "output_type": "stream",
       "stream": "stdout",
       "text": [
        "\n",
        "Wall time: 36.2 s\n",
        "CPU times: user 28 s, sys: 109 ms, total: 28.1 s"
       ]
      },
      {
       "output_type": "stream",
       "stream": "stderr",
       "text": [
        "WARNING:gensim.models.ldamodel:too few updates, training might not converge; consider increasing the number of passes or iterations to improve accuracy\n"
       ]
      },
      {
       "output_type": "stream",
       "stream": "stdout",
       "text": [
        "\n",
        "Wall time: 28.2 s\n",
        "CPU times: user 14.6 s, sys: 56 ms, total: 14.7 s"
       ]
      },
      {
       "output_type": "stream",
       "stream": "stderr",
       "text": [
        "WARNING:gensim.models.ldamodel:too few updates, training might not converge; consider increasing the number of passes or iterations to improve accuracy\n"
       ]
      },
      {
       "output_type": "stream",
       "stream": "stdout",
       "text": [
        "\n",
        "Wall time: 14.7 s\n",
        "CPU times: user 14.9 s, sys: 68.5 ms, total: 15 s"
       ]
      },
      {
       "output_type": "stream",
       "stream": "stderr",
       "text": [
        "WARNING:gensim.models.ldamodel:too few updates, training might not converge; consider increasing the number of passes or iterations to improve accuracy\n"
       ]
      },
      {
       "output_type": "stream",
       "stream": "stdout",
       "text": [
        "\n",
        "Wall time: 15 s\n",
        "CPU times: user 13 s, sys: 54.7 ms, total: 13.1 s"
       ]
      },
      {
       "output_type": "stream",
       "stream": "stderr",
       "text": [
        "WARNING:gensim.models.ldamodel:too few updates, training might not converge; consider increasing the number of passes or iterations to improve accuracy\n"
       ]
      },
      {
       "output_type": "stream",
       "stream": "stdout",
       "text": [
        "\n",
        "Wall time: 13.1 s\n",
        "CPU times: user 12.9 s, sys: 43 ms, total: 12.9 s"
       ]
      },
      {
       "output_type": "stream",
       "stream": "stderr",
       "text": [
        "WARNING:gensim.models.ldamodel:too few updates, training might not converge; consider increasing the number of passes or iterations to improve accuracy\n"
       ]
      },
      {
       "output_type": "stream",
       "stream": "stdout",
       "text": [
        "\n",
        "Wall time: 13 s\n",
        "CPU times: user 10.6 s, sys: 36.9 ms, total: 10.7 s"
       ]
      },
      {
       "output_type": "stream",
       "stream": "stderr",
       "text": [
        "WARNING:gensim.models.ldamodel:too few updates, training might not converge; consider increasing the number of passes or iterations to improve accuracy\n"
       ]
      },
      {
       "output_type": "stream",
       "stream": "stdout",
       "text": [
        "\n",
        "Wall time: 10.7 s\n",
        "CPU times: user 11.2 s, sys: 150 ms, total: 11.4 s"
       ]
      },
      {
       "output_type": "stream",
       "stream": "stderr",
       "text": [
        "WARNING:gensim.models.ldamodel:too few updates, training might not converge; consider increasing the number of passes or iterations to improve accuracy\n"
       ]
      },
      {
       "output_type": "stream",
       "stream": "stdout",
       "text": [
        "\n",
        "Wall time: 12.5 s\n",
        "CPU times: user 14.1 s, sys: 201 ms, total: 14.3 s"
       ]
      },
      {
       "output_type": "stream",
       "stream": "stdout",
       "text": [
        "\n",
        "Wall time: 16.1 s\n",
        "star rating 4\n",
        "Number of restaurants available: 5768\n",
        "Restaurant 4bEjOyTaDG24SY5TxsaUNQ has 4137 reviews."
       ]
      },
      {
       "output_type": "stream",
       "stream": "stdout",
       "text": [
        "\n",
        "Restaurant sIyHTizqAiGu12XMLX3N3g has 2657 reviews."
       ]
      },
      {
       "output_type": "stream",
       "stream": "stdout",
       "text": [
        "\n",
        "Restaurant tFU2Js_nbIZOrnKfYJYBBg has 2337 reviews."
       ]
      },
      {
       "output_type": "stream",
       "stream": "stdout",
       "text": [
        "\n",
        "Restaurant aGbjLWzcrnEx2ZmMCFm3EA has 2269 reviews."
       ]
      },
      {
       "output_type": "stream",
       "stream": "stdout",
       "text": [
        "\n",
        "Restaurant xfwRO04KbAPw_zRotCfWQQ has 2200 reviews."
       ]
      },
      {
       "output_type": "stream",
       "stream": "stdout",
       "text": [
        "\n",
        "Restaurant DO3Gk17RyJVW7zYMCtYPnw has 1932 reviews."
       ]
      },
      {
       "output_type": "stream",
       "stream": "stdout",
       "text": [
        "\n",
        "Restaurant QbmcCE_cLq4WO8ZMKImaLw has 1894 reviews."
       ]
      },
      {
       "output_type": "stream",
       "stream": "stdout",
       "text": [
        "\n",
        "Restaurant eq6lQI039SBLC6sHm3idGA has 1831 reviews."
       ]
      },
      {
       "output_type": "stream",
       "stream": "stdout",
       "text": [
        "\n",
        "Restaurant lliksv-tglfUz1T3B3vgvA has 1879 reviews."
       ]
      },
      {
       "output_type": "stream",
       "stream": "stdout",
       "text": [
        "\n",
        "Restaurant xyTJYlbE_MLouK6rCou6zg has 1782 reviews."
       ]
      },
      {
       "output_type": "stream",
       "stream": "stderr",
       "text": [
        "WARNING:gensim.models.ldamodel:too few updates, training might not converge; consider increasing the number of passes or iterations to improve accuracy\n"
       ]
      },
      {
       "output_type": "stream",
       "stream": "stdout",
       "text": [
        "\n",
        "CPU times: user 27.7 s, sys: 304 ms, total: 28 s"
       ]
      },
      {
       "output_type": "stream",
       "stream": "stderr",
       "text": [
        "WARNING:gensim.models.ldamodel:too few updates, training might not converge; consider increasing the number of passes or iterations to improve accuracy\n"
       ]
      },
      {
       "output_type": "stream",
       "stream": "stdout",
       "text": [
        "\n",
        "Wall time: 29.7 s\n",
        "CPU times: user 45.5 s, sys: 198 ms, total: 45.7 s"
       ]
      },
      {
       "output_type": "stream",
       "stream": "stderr",
       "text": [
        "WARNING:gensim.models.ldamodel:too few updates, training might not converge; consider increasing the number of passes or iterations to improve accuracy\n"
       ]
      },
      {
       "output_type": "stream",
       "stream": "stdout",
       "text": [
        "\n",
        "Wall time: 45.9 s\n",
        "CPU times: user 36.6 s, sys: 151 ms, total: 36.8 s"
       ]
      },
      {
       "output_type": "stream",
       "stream": "stderr",
       "text": [
        "WARNING:gensim.models.ldamodel:too few updates, training might not converge; consider increasing the number of passes or iterations to improve accuracy\n"
       ]
      },
      {
       "output_type": "stream",
       "stream": "stdout",
       "text": [
        "\n",
        "Wall time: 36.9 s\n",
        "CPU times: user 34.1 s, sys: 138 ms, total: 34.2 s"
       ]
      },
      {
       "output_type": "stream",
       "stream": "stderr",
       "text": [
        "WARNING:gensim.models.ldamodel:too few updates, training might not converge; consider increasing the number of passes or iterations to improve accuracy\n"
       ]
      },
      {
       "output_type": "stream",
       "stream": "stdout",
       "text": [
        "\n",
        "Wall time: 34.3 s\n",
        "CPU times: user 29.6 s, sys: 106 ms, total: 29.8 s"
       ]
      },
      {
       "output_type": "stream",
       "stream": "stderr",
       "text": [
        "WARNING:gensim.models.ldamodel:too few updates, training might not converge; consider increasing the number of passes or iterations to improve accuracy\n"
       ]
      },
      {
       "output_type": "stream",
       "stream": "stdout",
       "text": [
        "\n",
        "Wall time: 29.9 s\n",
        "CPU times: user 30.5 s, sys: 137 ms, total: 30.6 s"
       ]
      },
      {
       "output_type": "stream",
       "stream": "stderr",
       "text": [
        "WARNING:gensim.models.ldamodel:too few updates, training might not converge; consider increasing the number of passes or iterations to improve accuracy\n"
       ]
      },
      {
       "output_type": "stream",
       "stream": "stdout",
       "text": [
        "\n",
        "Wall time: 30.7 s\n",
        "CPU times: user 25.7 s, sys: 117 ms, total: 25.9 s"
       ]
      },
      {
       "output_type": "stream",
       "stream": "stderr",
       "text": [
        "WARNING:gensim.models.ldamodel:too few updates, training might not converge; consider increasing the number of passes or iterations to improve accuracy\n"
       ]
      },
      {
       "output_type": "stream",
       "stream": "stdout",
       "text": [
        "\n",
        "Wall time: 25.9 s\n",
        "CPU times: user 20.8 s, sys: 89.5 ms, total: 20.9 s"
       ]
      },
      {
       "output_type": "stream",
       "stream": "stderr",
       "text": [
        "WARNING:gensim.models.ldamodel:too few updates, training might not converge; consider increasing the number of passes or iterations to improve accuracy\n"
       ]
      },
      {
       "output_type": "stream",
       "stream": "stdout",
       "text": [
        "\n",
        "Wall time: 21 s\n",
        "CPU times: user 26.4 s, sys: 120 ms, total: 26.6 s"
       ]
      },
      {
       "output_type": "stream",
       "stream": "stderr",
       "text": [
        "WARNING:gensim.models.ldamodel:too few updates, training might not converge; consider increasing the number of passes or iterations to improve accuracy\n"
       ]
      },
      {
       "output_type": "stream",
       "stream": "stdout",
       "text": [
        "\n",
        "Wall time: 26.6 s\n",
        "CPU times: user 25.2 s, sys: 244 ms, total: 25.5 s"
       ]
      },
      {
       "output_type": "stream",
       "stream": "stdout",
       "text": [
        "\n",
        "Wall time: 27.7 s\n",
        "star rating 4.5\n",
        "Number of restaurants available: 2362\n",
        "Restaurant 2e2e7WgqU1BnpxmQL5jbfw has 3517 reviews."
       ]
      },
      {
       "output_type": "stream",
       "stream": "stdout",
       "text": [
        "\n",
        "Restaurant 8buIr1zBCO7OEcAQSZko7w has 1225 reviews."
       ]
      },
      {
       "output_type": "stream",
       "stream": "stdout",
       "text": [
        "\n",
        "Restaurant JokKtdXU7zXHcr20Lrk29A has 1171 reviews."
       ]
      },
      {
       "output_type": "stream",
       "stream": "stdout",
       "text": [
        "\n",
        "Restaurant IRYj1b1-mlXqABVsl9SoqQ has 1115 reviews."
       ]
      },
      {
       "output_type": "stream",
       "stream": "stdout",
       "text": [
        "\n",
        "Restaurant V1nEpIRmEa1768oj_tuxeQ has 1100 reviews."
       ]
      },
      {
       "output_type": "stream",
       "stream": "stdout",
       "text": [
        "\n",
        "Restaurant RhbOa-Ft3sZB4B_1j5LfyA has 969 reviews."
       ]
      },
      {
       "output_type": "stream",
       "stream": "stdout",
       "text": [
        "\n",
        "Restaurant HyfFenprdpIA4rmKu6DW3g has 948 reviews."
       ]
      },
      {
       "output_type": "stream",
       "stream": "stdout",
       "text": [
        "\n",
        "Restaurant WNy1uzcmm_UHmTyR--o5IA has 967 reviews."
       ]
      },
      {
       "output_type": "stream",
       "stream": "stdout",
       "text": [
        "\n",
        "Restaurant 1yx2zLskVTe5WQdYjL2Apw has 915 reviews."
       ]
      },
      {
       "output_type": "stream",
       "stream": "stdout",
       "text": [
        "\n",
        "Restaurant SDwYQ6eSu1htn8vHWv128g has 934 reviews."
       ]
      },
      {
       "output_type": "stream",
       "stream": "stderr",
       "text": [
        "WARNING:gensim.models.ldamodel:too few updates, training might not converge; consider increasing the number of passes or iterations to improve accuracy\n"
       ]
      },
      {
       "output_type": "stream",
       "stream": "stdout",
       "text": [
        "\n",
        "CPU times: user 41.1 s, sys: 324 ms, total: 41.4 s"
       ]
      },
      {
       "output_type": "stream",
       "stream": "stderr",
       "text": [
        "WARNING:gensim.models.ldamodel:too few updates, training might not converge; consider increasing the number of passes or iterations to improve accuracy\n"
       ]
      },
      {
       "output_type": "stream",
       "stream": "stdout",
       "text": [
        "\n",
        "Wall time: 42.5 s\n",
        "CPU times: user 15.5 s, sys: 48.1 ms, total: 15.5 s"
       ]
      },
      {
       "output_type": "stream",
       "stream": "stderr",
       "text": [
        "WARNING:gensim.models.ldamodel:too few updates, training might not converge; consider increasing the number of passes or iterations to improve accuracy\n"
       ]
      },
      {
       "output_type": "stream",
       "stream": "stdout",
       "text": [
        "\n",
        "Wall time: 15.6 s\n",
        "CPU times: user 13.2 s, sys: 74.8 ms, total: 13.3 s"
       ]
      },
      {
       "output_type": "stream",
       "stream": "stderr",
       "text": [
        "WARNING:gensim.models.ldamodel:too few updates, training might not converge; consider increasing the number of passes or iterations to improve accuracy\n"
       ]
      },
      {
       "output_type": "stream",
       "stream": "stdout",
       "text": [
        "\n",
        "Wall time: 13.4 s\n",
        "CPU times: user 11.8 s, sys: 59.6 ms, total: 11.8 s"
       ]
      },
      {
       "output_type": "stream",
       "stream": "stderr",
       "text": [
        "WARNING:gensim.models.ldamodel:too few updates, training might not converge; consider increasing the number of passes or iterations to improve accuracy\n"
       ]
      },
      {
       "output_type": "stream",
       "stream": "stdout",
       "text": [
        "\n",
        "Wall time: 11.9 s\n",
        "CPU times: user 13.6 s, sys: 63.2 ms, total: 13.6 s"
       ]
      },
      {
       "output_type": "stream",
       "stream": "stderr",
       "text": [
        "WARNING:gensim.models.ldamodel:too few updates, training might not converge; consider increasing the number of passes or iterations to improve accuracy\n"
       ]
      },
      {
       "output_type": "stream",
       "stream": "stdout",
       "text": [
        "\n",
        "Wall time: 13.7 s\n",
        "CPU times: user 9.1 s, sys: 38 ms, total: 9.14 s"
       ]
      },
      {
       "output_type": "stream",
       "stream": "stderr",
       "text": [
        "WARNING:gensim.models.ldamodel:too few updates, training might not converge; consider increasing the number of passes or iterations to improve accuracy\n"
       ]
      },
      {
       "output_type": "stream",
       "stream": "stdout",
       "text": [
        "\n",
        "Wall time: 9.16 s\n",
        "CPU times: user 12.9 s, sys: 43 ms, total: 13 s"
       ]
      },
      {
       "output_type": "stream",
       "stream": "stderr",
       "text": [
        "WARNING:gensim.models.ldamodel:too few updates, training might not converge; consider increasing the number of passes or iterations to improve accuracy\n"
       ]
      },
      {
       "output_type": "stream",
       "stream": "stdout",
       "text": [
        "\n",
        "Wall time: 13 s\n",
        "CPU times: user 11.7 s, sys: 54.7 ms, total: 11.7 s"
       ]
      },
      {
       "output_type": "stream",
       "stream": "stderr",
       "text": [
        "WARNING:gensim.models.ldamodel:too few updates, training might not converge; consider increasing the number of passes or iterations to improve accuracy\n"
       ]
      },
      {
       "output_type": "stream",
       "stream": "stdout",
       "text": [
        "\n",
        "Wall time: 11.8 s\n",
        "CPU times: user 10.3 s, sys: 43.3 ms, total: 10.4 s"
       ]
      },
      {
       "output_type": "stream",
       "stream": "stderr",
       "text": [
        "WARNING:gensim.models.ldamodel:too few updates, training might not converge; consider increasing the number of passes or iterations to improve accuracy\n"
       ]
      },
      {
       "output_type": "stream",
       "stream": "stdout",
       "text": [
        "\n",
        "Wall time: 10.4 s\n",
        "CPU times: user 11 s, sys: 41.3 ms, total: 11 s"
       ]
      },
      {
       "output_type": "stream",
       "stream": "stdout",
       "text": [
        "\n",
        "Wall time: 11.1 s\n",
        "star rating 5\n",
        "Number of restaurants available: 389\n",
        "Restaurant rcCGdKxMPJk4lCzZZ1i_bA has 250 reviews."
       ]
      },
      {
       "output_type": "stream",
       "stream": "stdout",
       "text": [
        "\n",
        "Restaurant GmzpzmxinfLMw5OXQKFEBQ has 245 reviews."
       ]
      },
      {
       "output_type": "stream",
       "stream": "stdout",
       "text": [
        "\n",
        "Restaurant JXUX_oiCrfHm6b1sbqQd7A has 175 reviews."
       ]
      },
      {
       "output_type": "stream",
       "stream": "stdout",
       "text": [
        "\n",
        "Restaurant 8ktREOIxt3kRdJpJK7jpfA has 155 reviews."
       ]
      },
      {
       "output_type": "stream",
       "stream": "stdout",
       "text": [
        "\n",
        "Restaurant szcPQs5JVAl3iDvRBpvghQ has 124 reviews."
       ]
      },
      {
       "output_type": "stream",
       "stream": "stdout",
       "text": [
        "\n",
        "Restaurant UBDBDZxp1LuaHdFezDPQ_w has 87 reviews."
       ]
      },
      {
       "output_type": "stream",
       "stream": "stdout",
       "text": [
        "\n",
        "Restaurant rUfhe6qibE1W-80PqDHZCw has 83 reviews."
       ]
      },
      {
       "output_type": "stream",
       "stream": "stdout",
       "text": [
        "\n",
        "Restaurant DKBtVEVkLJmT25aMbcvTcA has 37 reviews."
       ]
      },
      {
       "output_type": "stream",
       "stream": "stdout",
       "text": [
        "\n",
        "Restaurant ikhwY-DfUBekgeaDygHpdA has 49 reviews."
       ]
      },
      {
       "output_type": "stream",
       "stream": "stdout",
       "text": [
        "\n",
        "Restaurant Pr3LIe9bCTfhk5_hBKMGog has 24 reviews."
       ]
      },
      {
       "output_type": "stream",
       "stream": "stderr",
       "text": [
        "WARNING:gensim.models.ldamodel:too few updates, training might not converge; consider increasing the number of passes or iterations to improve accuracy\n"
       ]
      },
      {
       "output_type": "stream",
       "stream": "stdout",
       "text": [
        "\n",
        "CPU times: user 2.93 s, sys: 13.3 ms, total: 2.95 s"
       ]
      },
      {
       "output_type": "stream",
       "stream": "stderr",
       "text": [
        "WARNING:gensim.models.ldamodel:too few updates, training might not converge; consider increasing the number of passes or iterations to improve accuracy\n"
       ]
      },
      {
       "output_type": "stream",
       "stream": "stdout",
       "text": [
        "\n",
        "Wall time: 2.96 s\n",
        "CPU times: user 3.23 s, sys: 15.4 ms, total: 3.25 s"
       ]
      },
      {
       "output_type": "stream",
       "stream": "stderr",
       "text": [
        "WARNING:gensim.models.ldamodel:too few updates, training might not converge; consider increasing the number of passes or iterations to improve accuracy\n"
       ]
      },
      {
       "output_type": "stream",
       "stream": "stdout",
       "text": [
        "\n",
        "Wall time: 3.26 s\n",
        "CPU times: user 2.11 s, sys: 13.7 ms, total: 2.12 s"
       ]
      },
      {
       "output_type": "stream",
       "stream": "stderr",
       "text": [
        "WARNING:gensim.models.ldamodel:too few updates, training might not converge; consider increasing the number of passes or iterations to improve accuracy\n"
       ]
      },
      {
       "output_type": "stream",
       "stream": "stdout",
       "text": [
        "\n",
        "Wall time: 2.13 s\n",
        "CPU times: user 1.45 s, sys: 7.25 ms, total: 1.46 s"
       ]
      },
      {
       "output_type": "stream",
       "stream": "stderr",
       "text": [
        "WARNING:gensim.models.ldamodel:too few updates, training might not converge; consider increasing the number of passes or iterations to improve accuracy\n"
       ]
      },
      {
       "output_type": "stream",
       "stream": "stdout",
       "text": [
        "\n",
        "Wall time: 1.47 s\n",
        "CPU times: user 1.46 s, sys: 7.68 ms, total: 1.47 s"
       ]
      },
      {
       "output_type": "stream",
       "stream": "stderr",
       "text": [
        "WARNING:gensim.models.ldamodel:too few updates, training might not converge; consider increasing the number of passes or iterations to improve accuracy\n"
       ]
      },
      {
       "output_type": "stream",
       "stream": "stdout",
       "text": [
        "\n",
        "Wall time: 1.48 s\n",
        "CPU times: user 754 ms, sys: 5.03 ms, total: 759 ms"
       ]
      },
      {
       "output_type": "stream",
       "stream": "stderr",
       "text": [
        "WARNING:gensim.models.ldamodel:too few updates, training might not converge; consider increasing the number of passes or iterations to improve accuracy\n"
       ]
      },
      {
       "output_type": "stream",
       "stream": "stdout",
       "text": [
        "\n",
        "Wall time: 761 ms\n",
        "CPU times: user 1 s, sys: 6.54 ms, total: 1.01 s"
       ]
      },
      {
       "output_type": "stream",
       "stream": "stderr",
       "text": [
        "WARNING:gensim.models.ldamodel:too few updates, training might not converge; consider increasing the number of passes or iterations to improve accuracy\n"
       ]
      },
      {
       "output_type": "stream",
       "stream": "stdout",
       "text": [
        "\n",
        "Wall time: 1.01 s\n",
        "CPU times: user 468 ms, sys: 3.93 ms, total: 472 ms"
       ]
      },
      {
       "output_type": "stream",
       "stream": "stderr",
       "text": [
        "WARNING:gensim.models.ldamodel:too few updates, training might not converge; consider increasing the number of passes or iterations to improve accuracy\n"
       ]
      },
      {
       "output_type": "stream",
       "stream": "stdout",
       "text": [
        "\n",
        "Wall time: 474 ms\n",
        "CPU times: user 542 ms, sys: 3.57 ms, total: 545 ms"
       ]
      },
      {
       "output_type": "stream",
       "stream": "stderr",
       "text": [
        "WARNING:gensim.models.ldamodel:too few updates, training might not converge; consider increasing the number of passes or iterations to improve accuracy\n"
       ]
      },
      {
       "output_type": "stream",
       "stream": "stdout",
       "text": [
        "\n",
        "Wall time: 547 ms\n",
        "CPU times: user 400 ms, sys: 3.39 ms, total: 404 ms"
       ]
      },
      {
       "output_type": "stream",
       "stream": "stdout",
       "text": [
        "\n",
        "Wall time: 407 ms\n"
       ]
      }
     ],
     "prompt_number": 66
    },
    {
     "cell_type": "code",
     "collapsed": false,
     "input": [
      "errors"
     ],
     "language": "python",
     "metadata": {},
     "outputs": [
      {
       "metadata": {},
       "output_type": "pyout",
       "prompt_number": 63,
       "text": [
        "[[1, 16.666666666666664],\n",
        " [1.5, 22.222222222222221],\n",
        " [2, 0.0],\n",
        " [2.5, 26.666666666666668],\n",
        " [3, 16.666666666666664],\n",
        " [3.5, 9.5238095238095237],\n",
        " [4, 4.1666666666666661],\n",
        " [4.5, 0.0],\n",
        " [5, 0.0]]"
       ]
      }
     ],
     "prompt_number": 63
    },
    {
     "cell_type": "code",
     "collapsed": false,
     "input": [],
     "language": "python",
     "metadata": {},
     "outputs": [],
     "prompt_number": 65
    },
    {
     "cell_type": "code",
     "collapsed": false,
     "input": [],
     "language": "python",
     "metadata": {},
     "outputs": [],
     "prompt_number": 63
    },
    {
     "cell_type": "code",
     "collapsed": false,
     "input": [],
     "language": "python",
     "metadata": {},
     "outputs": []
    },
    {
     "cell_type": "code",
     "collapsed": false,
     "input": [],
     "language": "python",
     "metadata": {},
     "outputs": []
    },
    {
     "cell_type": "code",
     "collapsed": false,
     "input": [],
     "language": "python",
     "metadata": {},
     "outputs": []
    },
    {
     "cell_type": "code",
     "collapsed": false,
     "input": [],
     "language": "python",
     "metadata": {},
     "outputs": []
    },
    {
     "cell_type": "code",
     "collapsed": false,
     "input": [],
     "language": "python",
     "metadata": {},
     "outputs": []
    },
    {
     "cell_type": "code",
     "collapsed": false,
     "input": [],
     "language": "python",
     "metadata": {},
     "outputs": []
    },
    {
     "cell_type": "code",
     "collapsed": false,
     "input": [],
     "language": "python",
     "metadata": {},
     "outputs": []
    },
    {
     "cell_type": "code",
     "collapsed": false,
     "input": [],
     "language": "python",
     "metadata": {},
     "outputs": []
    },
    {
     "cell_type": "code",
     "collapsed": false,
     "input": [],
     "language": "python",
     "metadata": {},
     "outputs": []
    },
    {
     "cell_type": "code",
     "collapsed": false,
     "input": [],
     "language": "python",
     "metadata": {},
     "outputs": []
    },
    {
     "cell_type": "code",
     "collapsed": false,
     "input": [],
     "language": "python",
     "metadata": {},
     "outputs": []
    },
    {
     "cell_type": "code",
     "collapsed": false,
     "input": [],
     "language": "python",
     "metadata": {},
     "outputs": []
    },
    {
     "cell_type": "code",
     "collapsed": false,
     "input": [],
     "language": "python",
     "metadata": {},
     "outputs": []
    }
   ],
   "metadata": {}
  }
 ]
}