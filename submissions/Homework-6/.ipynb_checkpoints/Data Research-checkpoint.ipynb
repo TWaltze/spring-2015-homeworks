{
 "metadata": {
  "name": "",
  "signature": "sha256:36bc17c5cdefe22666df89884e2fa9f57df160f68ebca83ed7f9548b613bb019"
 },
 "nbformat": 3,
 "nbformat_minor": 0,
 "worksheets": []
}