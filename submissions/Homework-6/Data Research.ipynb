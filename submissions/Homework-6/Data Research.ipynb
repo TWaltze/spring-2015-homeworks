{
 "metadata": {
  "name": "",
  "signature": "sha256:db5e9df01bad4cc5bf52d460425483a5fb766dabd83cf95adf7bb794bd74879c"
 },
 "nbformat": 3,
 "nbformat_minor": 0,
 "worksheets": [
  {
   "cells": [
    {
     "cell_type": "code",
     "collapsed": false,
     "input": [
      "# import and setup modules we'll be using in this notebook\n",
      "import logging\n",
      "import os\n",
      "import sys\n",
      "import re\n",
      "import tarfile\n",
      "import itertools\n",
      "import json\n",
      "from glob import glob\n",
      "\n",
      "import pandas as pd\n",
      "import nltk\n",
      "from nltk.collocations import TrigramCollocationFinder\n",
      "from nltk.metrics import BigramAssocMeasures, TrigramAssocMeasures\n",
      "\n",
      "import gensim\n",
      "from gensim.parsing.preprocessing import STOPWORDS\n",
      "\n",
      "import matplotlib.pyplot as plt\n",
      "import matplotlib as mpl\n",
      "import seaborn as sns\n",
      "\n",
      "%matplotlib inline\n",
      "\n",
      "logging.basicConfig(format='%(levelname)s : %(message)s', level=logging.INFO)\n",
      "logging.root.level = logging.INFO  # ipython sometimes messes up the logging setup; restore"
     ],
     "language": "python",
     "metadata": {},
     "outputs": [],
     "prompt_number": 49
    },
    {
     "cell_type": "code",
     "collapsed": false,
     "input": [
      "def convert(x):\n",
      "    ''' Convert a json string to a flat python dictionary\n",
      "    which can be passed into Pandas. '''\n",
      "    ob = json.loads(x)\n",
      "    for k, v in ob.items():\n",
      "        if isinstance(v, list):\n",
      "            ob[k] = ','.join(str(v))\n",
      "        elif isinstance(v, dict):\n",
      "            for kk, vv in v.items():\n",
      "                ob['%s_%s' % (k, kk)] = vv\n",
      "            del ob[k]\n",
      "    return ob"
     ],
     "language": "python",
     "metadata": {},
     "outputs": [],
     "prompt_number": 31
    },
    {
     "cell_type": "code",
     "collapsed": false,
     "input": [
      "data = './yelp_data/'\n",
      "\n",
      "for json_filename in glob(data + '*.json'):\n",
      "    csv_filename = '%s.csv' % json_filename[:-5]\n",
      "    \n",
      "    print 'Converting %s to %s' % (json_filename, csv_filename)\n",
      "    \n",
      "    df = pd.DataFrame([convert(line) for line in file(json_filename)])\n",
      "    df.to_csv(csv_filename, encoding='utf-8', index=False)"
     ],
     "language": "python",
     "metadata": {},
     "outputs": [
      {
       "output_type": "stream",
       "stream": "stdout",
       "text": [
        "Converting ./yelp_data/yelp_academic_dataset_business.json to ./yelp_data/yelp_academic_dataset_business.csv\n",
        "Converting ./yelp_data/yelp_academic_dataset_checkin.json to ./yelp_data/yelp_academic_dataset_checkin.csv"
       ]
      },
      {
       "output_type": "stream",
       "stream": "stdout",
       "text": [
        "\n",
        "Converting ./yelp_data/yelp_academic_dataset_review.json to ./yelp_data/yelp_academic_dataset_review.csv"
       ]
      },
      {
       "output_type": "stream",
       "stream": "stdout",
       "text": [
        "\n",
        "Converting ./yelp_data/yelp_academic_dataset_tip.json to ./yelp_data/yelp_academic_dataset_tip.csv"
       ]
      },
      {
       "output_type": "stream",
       "stream": "stdout",
       "text": [
        "\n",
        "Converting ./yelp_data/yelp_academic_dataset_user.json to ./yelp_data/yelp_academic_dataset_user.csv"
       ]
      },
      {
       "output_type": "stream",
       "stream": "stdout",
       "text": [
        "\n"
       ]
      }
     ],
     "prompt_number": 37
    },
    {
     "cell_type": "code",
     "collapsed": false,
     "input": [
      "data_reviews = pd.read_csv(data + 'yelp_academic_dataset_review.csv')\n",
      "data_reviews.head()"
     ],
     "language": "python",
     "metadata": {},
     "outputs": [
      {
       "html": [
        "<div style=\"max-height:1000px;max-width:1500px;overflow:auto;\">\n",
        "<table border=\"1\" class=\"dataframe\">\n",
        "  <thead>\n",
        "    <tr style=\"text-align: right;\">\n",
        "      <th></th>\n",
        "      <th>business_id</th>\n",
        "      <th>date</th>\n",
        "      <th>review_id</th>\n",
        "      <th>stars</th>\n",
        "      <th>text</th>\n",
        "      <th>type</th>\n",
        "      <th>user_id</th>\n",
        "      <th>votes_cool</th>\n",
        "      <th>votes_funny</th>\n",
        "      <th>votes_useful</th>\n",
        "    </tr>\n",
        "  </thead>\n",
        "  <tbody>\n",
        "    <tr>\n",
        "      <th>0</th>\n",
        "      <td> vcNAWiLM4dR7D2nwwJ7nCA</td>\n",
        "      <td> 2007-05-17</td>\n",
        "      <td> 15SdjuK7DmYqUAj6rjGowg</td>\n",
        "      <td> 5</td>\n",
        "      <td> dr. goldberg offers everything i look for in a...</td>\n",
        "      <td> review</td>\n",
        "      <td> Xqd0DzHaiyRqVH3WRG7hzg</td>\n",
        "      <td> 1</td>\n",
        "      <td> 0</td>\n",
        "      <td> 2</td>\n",
        "    </tr>\n",
        "    <tr>\n",
        "      <th>1</th>\n",
        "      <td> vcNAWiLM4dR7D2nwwJ7nCA</td>\n",
        "      <td> 2010-03-22</td>\n",
        "      <td> RF6UnRTtG7tWMcrO2GEoAg</td>\n",
        "      <td> 2</td>\n",
        "      <td> Unfortunately, the frustration of being Dr. Go...</td>\n",
        "      <td> review</td>\n",
        "      <td> H1kH6QZV7Le4zqTRNxoZow</td>\n",
        "      <td> 0</td>\n",
        "      <td> 0</td>\n",
        "      <td> 2</td>\n",
        "    </tr>\n",
        "    <tr>\n",
        "      <th>2</th>\n",
        "      <td> vcNAWiLM4dR7D2nwwJ7nCA</td>\n",
        "      <td> 2012-02-14</td>\n",
        "      <td> -TsVN230RCkLYKBeLsuz7A</td>\n",
        "      <td> 4</td>\n",
        "      <td> Dr. Goldberg has been my doctor for years and ...</td>\n",
        "      <td> review</td>\n",
        "      <td> zvJCcrpm2yOZrxKffwGQLA</td>\n",
        "      <td> 1</td>\n",
        "      <td> 0</td>\n",
        "      <td> 1</td>\n",
        "    </tr>\n",
        "    <tr>\n",
        "      <th>3</th>\n",
        "      <td> vcNAWiLM4dR7D2nwwJ7nCA</td>\n",
        "      <td> 2012-03-02</td>\n",
        "      <td> dNocEAyUucjT371NNND41Q</td>\n",
        "      <td> 4</td>\n",
        "      <td> Been going to Dr. Goldberg for over 10 years. ...</td>\n",
        "      <td> review</td>\n",
        "      <td> KBLW4wJA_fwoWmMhiHRVOA</td>\n",
        "      <td> 0</td>\n",
        "      <td> 0</td>\n",
        "      <td> 0</td>\n",
        "    </tr>\n",
        "    <tr>\n",
        "      <th>4</th>\n",
        "      <td> vcNAWiLM4dR7D2nwwJ7nCA</td>\n",
        "      <td> 2012-05-15</td>\n",
        "      <td> ebcN2aqmNUuYNoyvQErgnA</td>\n",
        "      <td> 4</td>\n",
        "      <td> Got a letter in the mail last week that said D...</td>\n",
        "      <td> review</td>\n",
        "      <td> zvJCcrpm2yOZrxKffwGQLA</td>\n",
        "      <td> 1</td>\n",
        "      <td> 0</td>\n",
        "      <td> 2</td>\n",
        "    </tr>\n",
        "  </tbody>\n",
        "</table>\n",
        "</div>"
       ],
       "metadata": {},
       "output_type": "pyout",
       "prompt_number": 44,
       "text": [
        "              business_id        date               review_id  stars  \\\n",
        "0  vcNAWiLM4dR7D2nwwJ7nCA  2007-05-17  15SdjuK7DmYqUAj6rjGowg      5   \n",
        "1  vcNAWiLM4dR7D2nwwJ7nCA  2010-03-22  RF6UnRTtG7tWMcrO2GEoAg      2   \n",
        "2  vcNAWiLM4dR7D2nwwJ7nCA  2012-02-14  -TsVN230RCkLYKBeLsuz7A      4   \n",
        "3  vcNAWiLM4dR7D2nwwJ7nCA  2012-03-02  dNocEAyUucjT371NNND41Q      4   \n",
        "4  vcNAWiLM4dR7D2nwwJ7nCA  2012-05-15  ebcN2aqmNUuYNoyvQErgnA      4   \n",
        "\n",
        "                                                text    type  \\\n",
        "0  dr. goldberg offers everything i look for in a...  review   \n",
        "1  Unfortunately, the frustration of being Dr. Go...  review   \n",
        "2  Dr. Goldberg has been my doctor for years and ...  review   \n",
        "3  Been going to Dr. Goldberg for over 10 years. ...  review   \n",
        "4  Got a letter in the mail last week that said D...  review   \n",
        "\n",
        "                  user_id  votes_cool  votes_funny  votes_useful  \n",
        "0  Xqd0DzHaiyRqVH3WRG7hzg           1            0             2  \n",
        "1  H1kH6QZV7Le4zqTRNxoZow           0            0             2  \n",
        "2  zvJCcrpm2yOZrxKffwGQLA           1            0             1  \n",
        "3  KBLW4wJA_fwoWmMhiHRVOA           0            0             0  \n",
        "4  zvJCcrpm2yOZrxKffwGQLA           1            0             2  "
       ]
      }
     ],
     "prompt_number": 44
    },
    {
     "cell_type": "code",
     "collapsed": false,
     "input": [
      "print \"Number of reviews: {}\".format(len(data_reviews))"
     ],
     "language": "python",
     "metadata": {},
     "outputs": [
      {
       "output_type": "stream",
       "stream": "stdout",
       "text": [
        "Number of reviews: 1569265\n"
       ]
      }
     ],
     "prompt_number": 43
    },
    {
     "cell_type": "code",
     "collapsed": false,
     "input": [
      "rating_groups = data_reviews.groupby('stars')\n",
      "print rating_groups.size()\n",
      "rating_groups.size().plot(kind='bar').set_title(\"Number of Reviews with Star Ratings 1-5\")"
     ],
     "language": "python",
     "metadata": {},
     "outputs": [
      {
       "output_type": "stream",
       "stream": "stdout",
       "text": [
        "stars\n",
        "0             1\n",
        "1        159811\n",
        "2        140608\n",
        "3        222719\n",
        "4        466599\n",
        "5        579527\n",
        "dtype: int64\n"
       ]
      },
      {
       "metadata": {},
       "output_type": "pyout",
       "prompt_number": 53,
       "text": [
        "<matplotlib.text.Text at 0x131447d90>"
       ]
      },
      {
       "metadata": {},
       "output_type": "display_data",
       "png": "[encoded data removed]",
       "text": [
        "<matplotlib.figure.Figure at 0x1312b4f10>"
       ]
      }
     ],
     "prompt_number": 53
    },
    {
     "cell_type": "code",
     "collapsed": false,
     "input": [],
     "language": "python",
     "metadata": {},
     "outputs": []
    }
   ],
   "metadata": {}
  }
 ]
}