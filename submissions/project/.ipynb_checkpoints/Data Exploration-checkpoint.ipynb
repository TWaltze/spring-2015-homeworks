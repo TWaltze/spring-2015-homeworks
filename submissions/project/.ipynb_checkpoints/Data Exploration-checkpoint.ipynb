{
 "metadata": {
  "name": "",
  "signature": "sha256:24bef5601b824373fae2ba48abf03789246d10c0ca0be21ad96d8122dcf63e2a"
 },
 "nbformat": 3,
 "nbformat_minor": 0,
 "worksheets": [
  {
   "cells": [
    {
     "cell_type": "code",
     "collapsed": false,
     "input": [
      "# import and setup modules we'll be using in this notebook\n",
      "import logging\n",
      "import os\n",
      "import sys\n",
      "import re\n",
      "import tarfile\n",
      "import itertools\n",
      "import json\n",
      "import math\n",
      "import collections\n",
      "from glob import glob\n",
      "\n",
      "import pandas as pd\n",
      "\n",
      "import nltk, nltk.classify.util, nltk.metrics\n",
      "from nltk.classify import NaiveBayesClassifier\n",
      "from nltk.probability import FreqDist, ConditionalFreqDist\n",
      "from nltk.collocations import TrigramCollocationFinder\n",
      "from nltk.metrics import BigramAssocMeasures, TrigramAssocMeasures\n",
      "\n",
      "import numpy as np\n",
      "\n",
      "import sklearn.cross_validation as cross_validation\n",
      "\n",
      "import gensim\n",
      "from gensim.utils import smart_open, simple_preprocess\n",
      "from gensim.corpora.wikicorpus import _extract_pages, filter_wiki\n",
      "from gensim.parsing.preprocessing import STOPWORDS\n",
      "\n",
      "import matplotlib.pyplot as plt\n",
      "import matplotlib as mpl\n",
      "import seaborn as sns\n",
      "\n",
      "%matplotlib inline\n",
      "\n",
      "logging.basicConfig(format='%(levelname)s : %(message)s', level=logging.INFO)\n",
      "logging.root.level = logging.INFO  # ipython sometimes messes up the logging setup; restore"
     ],
     "language": "python",
     "metadata": {},
     "outputs": [],
     "prompt_number": 101
    },
    {
     "cell_type": "code",
     "collapsed": false,
     "input": [
      "def convert(x):\n",
      "    ''' Convert a json string to a flat python dictionary\n",
      "    which can be passed into Pandas. '''\n",
      "    ob = json.loads(x)\n",
      "    for k, v in ob.items():\n",
      "        if isinstance(v, list):\n",
      "            ob[k] = ','.join(str(v))\n",
      "        elif isinstance(v, dict):\n",
      "            for kk, vv in v.items():\n",
      "                ob['%s_%s' % (k, kk)] = vv\n",
      "            del ob[k]\n",
      "    return ob"
     ],
     "language": "python",
     "metadata": {},
     "outputs": [],
     "prompt_number": 31
    },
    {
     "cell_type": "code",
     "collapsed": false,
     "input": [
      "data = './yelp_data/'\n",
      "\n",
      "for json_filename in glob(data + '*.json'):\n",
      "    csv_filename = '%s.csv' % json_filename[:-5]\n",
      "    \n",
      "    print 'Converting %s to %s' % (json_filename, csv_filename)\n",
      "    \n",
      "    df = pd.DataFrame([convert(line) for line in file(json_filename)])\n",
      "    df.to_csv(csv_filename, encoding='utf-8', index=False)"
     ],
     "language": "python",
     "metadata": {},
     "outputs": [
      {
       "output_type": "stream",
       "stream": "stdout",
       "text": [
        "Converting ./yelp_data/yelp_academic_dataset_business.json to ./yelp_data/yelp_academic_dataset_business.csv\n",
        "Converting ./yelp_data/yelp_academic_dataset_checkin.json to ./yelp_data/yelp_academic_dataset_checkin.csv"
       ]
      },
      {
       "output_type": "stream",
       "stream": "stdout",
       "text": [
        "\n",
        "Converting ./yelp_data/yelp_academic_dataset_review.json to ./yelp_data/yelp_academic_dataset_review.csv"
       ]
      },
      {
       "output_type": "stream",
       "stream": "stdout",
       "text": [
        "\n",
        "Converting ./yelp_data/yelp_academic_dataset_tip.json to ./yelp_data/yelp_academic_dataset_tip.csv"
       ]
      },
      {
       "output_type": "stream",
       "stream": "stdout",
       "text": [
        "\n",
        "Converting ./yelp_data/yelp_academic_dataset_user.json to ./yelp_data/yelp_academic_dataset_user.csv"
       ]
      },
      {
       "output_type": "stream",
       "stream": "stdout",
       "text": [
        "\n"
       ]
      }
     ],
     "prompt_number": 37
    },
    {
     "cell_type": "code",
     "collapsed": false,
     "input": [
      "data = './yelp_data/'\n",
      "\n",
      "data_reviews = pd.read_csv(data + 'yelp_academic_dataset_review.csv')\n",
      "data_reviews.head()"
     ],
     "language": "python",
     "metadata": {},
     "outputs": [
      {
       "html": [
        "<div style=\"max-height:1000px;max-width:1500px;overflow:auto;\">\n",
        "<table border=\"1\" class=\"dataframe\">\n",
        "  <thead>\n",
        "    <tr style=\"text-align: right;\">\n",
        "      <th></th>\n",
        "      <th>business_id</th>\n",
        "      <th>date</th>\n",
        "      <th>review_id</th>\n",
        "      <th>stars</th>\n",
        "      <th>text</th>\n",
        "      <th>type</th>\n",
        "      <th>user_id</th>\n",
        "      <th>votes_cool</th>\n",
        "      <th>votes_funny</th>\n",
        "      <th>votes_useful</th>\n",
        "    </tr>\n",
        "  </thead>\n",
        "  <tbody>\n",
        "    <tr>\n",
        "      <th>0</th>\n",
        "      <td> vcNAWiLM4dR7D2nwwJ7nCA</td>\n",
        "      <td> 2007-05-17</td>\n",
        "      <td> 15SdjuK7DmYqUAj6rjGowg</td>\n",
        "      <td> 5</td>\n",
        "      <td> dr. goldberg offers everything i look for in a...</td>\n",
        "      <td> review</td>\n",
        "      <td> Xqd0DzHaiyRqVH3WRG7hzg</td>\n",
        "      <td> 1</td>\n",
        "      <td> 0</td>\n",
        "      <td> 2</td>\n",
        "    </tr>\n",
        "    <tr>\n",
        "      <th>1</th>\n",
        "      <td> vcNAWiLM4dR7D2nwwJ7nCA</td>\n",
        "      <td> 2010-03-22</td>\n",
        "      <td> RF6UnRTtG7tWMcrO2GEoAg</td>\n",
        "      <td> 2</td>\n",
        "      <td> Unfortunately, the frustration of being Dr. Go...</td>\n",
        "      <td> review</td>\n",
        "      <td> H1kH6QZV7Le4zqTRNxoZow</td>\n",
        "      <td> 0</td>\n",
        "      <td> 0</td>\n",
        "      <td> 2</td>\n",
        "    </tr>\n",
        "    <tr>\n",
        "      <th>2</th>\n",
        "      <td> vcNAWiLM4dR7D2nwwJ7nCA</td>\n",
        "      <td> 2012-02-14</td>\n",
        "      <td> -TsVN230RCkLYKBeLsuz7A</td>\n",
        "      <td> 4</td>\n",
        "      <td> Dr. Goldberg has been my doctor for years and ...</td>\n",
        "      <td> review</td>\n",
        "      <td> zvJCcrpm2yOZrxKffwGQLA</td>\n",
        "      <td> 1</td>\n",
        "      <td> 0</td>\n",
        "      <td> 1</td>\n",
        "    </tr>\n",
        "    <tr>\n",
        "      <th>3</th>\n",
        "      <td> vcNAWiLM4dR7D2nwwJ7nCA</td>\n",
        "      <td> 2012-03-02</td>\n",
        "      <td> dNocEAyUucjT371NNND41Q</td>\n",
        "      <td> 4</td>\n",
        "      <td> Been going to Dr. Goldberg for over 10 years. ...</td>\n",
        "      <td> review</td>\n",
        "      <td> KBLW4wJA_fwoWmMhiHRVOA</td>\n",
        "      <td> 0</td>\n",
        "      <td> 0</td>\n",
        "      <td> 0</td>\n",
        "    </tr>\n",
        "    <tr>\n",
        "      <th>4</th>\n",
        "      <td> vcNAWiLM4dR7D2nwwJ7nCA</td>\n",
        "      <td> 2012-05-15</td>\n",
        "      <td> ebcN2aqmNUuYNoyvQErgnA</td>\n",
        "      <td> 4</td>\n",
        "      <td> Got a letter in the mail last week that said D...</td>\n",
        "      <td> review</td>\n",
        "      <td> zvJCcrpm2yOZrxKffwGQLA</td>\n",
        "      <td> 1</td>\n",
        "      <td> 0</td>\n",
        "      <td> 2</td>\n",
        "    </tr>\n",
        "  </tbody>\n",
        "</table>\n",
        "</div>"
       ],
       "metadata": {},
       "output_type": "pyout",
       "prompt_number": 3,
       "text": [
        "              business_id        date               review_id  stars  \\\n",
        "0  vcNAWiLM4dR7D2nwwJ7nCA  2007-05-17  15SdjuK7DmYqUAj6rjGowg      5   \n",
        "1  vcNAWiLM4dR7D2nwwJ7nCA  2010-03-22  RF6UnRTtG7tWMcrO2GEoAg      2   \n",
        "2  vcNAWiLM4dR7D2nwwJ7nCA  2012-02-14  -TsVN230RCkLYKBeLsuz7A      4   \n",
        "3  vcNAWiLM4dR7D2nwwJ7nCA  2012-03-02  dNocEAyUucjT371NNND41Q      4   \n",
        "4  vcNAWiLM4dR7D2nwwJ7nCA  2012-05-15  ebcN2aqmNUuYNoyvQErgnA      4   \n",
        "\n",
        "                                                text    type  \\\n",
        "0  dr. goldberg offers everything i look for in a...  review   \n",
        "1  Unfortunately, the frustration of being Dr. Go...  review   \n",
        "2  Dr. Goldberg has been my doctor for years and ...  review   \n",
        "3  Been going to Dr. Goldberg for over 10 years. ...  review   \n",
        "4  Got a letter in the mail last week that said D...  review   \n",
        "\n",
        "                  user_id  votes_cool  votes_funny  votes_useful  \n",
        "0  Xqd0DzHaiyRqVH3WRG7hzg           1            0             2  \n",
        "1  H1kH6QZV7Le4zqTRNxoZow           0            0             2  \n",
        "2  zvJCcrpm2yOZrxKffwGQLA           1            0             1  \n",
        "3  KBLW4wJA_fwoWmMhiHRVOA           0            0             0  \n",
        "4  zvJCcrpm2yOZrxKffwGQLA           1            0             2  "
       ]
      }
     ],
     "prompt_number": 3
    },
    {
     "cell_type": "code",
     "collapsed": false,
     "input": [
      "print \"Number of reviews: {}\".format(len(data_reviews))"
     ],
     "language": "python",
     "metadata": {},
     "outputs": [
      {
       "output_type": "stream",
       "stream": "stdout",
       "text": [
        "Number of reviews: 1569265\n"
       ]
      }
     ],
     "prompt_number": 4
    },
    {
     "cell_type": "code",
     "collapsed": false,
     "input": [
      "rating_groups = data_reviews.groupby('stars')\n",
      "print rating_groups.size()\n",
      "rating_groups.size().plot(kind='bar').set_title(\"Number of Reviews with Star Ratings 1-5\")"
     ],
     "language": "python",
     "metadata": {},
     "outputs": [
      {
       "output_type": "stream",
       "stream": "stdout",
       "text": [
        "stars\n",
        "0             1\n",
        "1        159811\n",
        "2        140608\n",
        "3        222719\n",
        "4        466599\n",
        "5        579527\n",
        "dtype: int64\n"
       ]
      },
      {
       "metadata": {},
       "output_type": "pyout",
       "prompt_number": 5,
       "text": [
        "<matplotlib.text.Text at 0x1700d8550>"
       ]
      },
      {
       "metadata": {},
       "output_type": "display_data",
       "png": "[encoded data removed]",
       "text": [
        "<matplotlib.figure.Figure at 0x170089f10>"
       ]
      }
     ],
     "prompt_number": 5
    },
    {
     "cell_type": "code",
     "collapsed": false,
     "input": [
      "ratings_1star = data_reviews[data_reviews.stars == 1]\n",
      "ratings_2star = data_reviews[data_reviews.stars == 2]\n",
      "ratings_3star = data_reviews[data_reviews.stars == 3]\n",
      "ratings_4star = data_reviews[data_reviews.stars == 4]\n",
      "ratings_5star = data_reviews[data_reviews.stars == 5]"
     ],
     "language": "python",
     "metadata": {},
     "outputs": [],
     "prompt_number": 57
    },
    {
     "cell_type": "code",
     "collapsed": false,
     "input": [
      "kernels = [\"1-star\", \"3-star\", \"5-star\"]\n",
      "pal = sns.color_palette(\"hls\", len(kernels))\n",
      "\n",
      "sns.distplot(ratings_1star['text'].str.len().fillna(0), color=pal[0], label=kernels[0])\n",
      "sns.distplot(ratings_3star['text'].str.len().fillna(0), color=pal[1], label=kernels[1])\n",
      "sns.distplot(ratings_5star['text'].str.len().fillna(0), color=pal[2], label=kernels[2])\n",
      "plt.title(\"Amount of Review Lengths\")\n",
      "plt.xlabel(\"Lengths\")\n",
      "plt.ylabel(\"Amount\")\n",
      "plt.legend(loc='upper right')\n",
      "plt.show()"
     ],
     "language": "python",
     "metadata": {},
     "outputs": [
      {
       "metadata": {},
       "output_type": "display_data",
       "png": "[encoded data removed]",
       "text": [
        "<matplotlib.figure.Figure at 0x2d2206e90>"
       ]
      }
     ],
     "prompt_number": 288
    },
    {
     "cell_type": "code",
     "collapsed": false,
     "input": [
      "sns.distplot(ratings_1star['text'].str.len().fillna(0))\n",
      "plt.title(\"Amount of 1-Stars Review Lengths\")\n",
      "plt.xlabel(\"Lengths\")\n",
      "plt.ylabel(\"Amount\")\n",
      "plt.show()\n",
      "\n",
      "sns.distplot(ratings_3star['text'].str.len().fillna(0))\n",
      "plt.title(\"Amount of 3-Stars Review Lengths\")\n",
      "plt.xlabel(\"Lengths\")\n",
      "plt.ylabel(\"Amount\")\n",
      "plt.show()\n",
      "\n",
      "sns.distplot(ratings_5star['text'].str.len().fillna(0))\n",
      "plt.title(\"Amount of 5-Stars Review Lengths\")\n",
      "plt.xlabel(\"Lengths\")\n",
      "plt.ylabel(\"Amount\")\n",
      "plt.show()"
     ],
     "language": "python",
     "metadata": {},
     "outputs": [
      {
       "metadata": {},
       "output_type": "display_data",
       "png": "[encoded data removed]",
       "text": [
        "<matplotlib.figure.Figure at 0x2d313de90>"
       ]
      },
      {
       "metadata": {},
       "output_type": "display_data",
       "png": "[encoded data removed]",
       "text": [
        "<matplotlib.figure.Figure at 0x2d1b77cd0>"
       ]
      },
      {
       "metadata": {},
       "output_type": "display_data",
       "png": "[encoded data removed]",
       "text": [
        "<matplotlib.figure.Figure at 0x2d1f2cc90>"
       ]
      }
     ],
     "prompt_number": 123
    },
    {
     "cell_type": "code",
     "collapsed": false,
     "input": [
      "from gensim.parsing.preprocessing import STOPWORDS\n",
      "from collections import defaultdict\n",
      "from collections import Counter\n",
      "\n",
      "def normalize_text(text):\n",
      "    return [word for word in gensim.utils.tokenize(text, lower=True) if word not in STOPWORDS and len(word) >= 3]\n",
      "\n",
      "\n",
      "##### JUST TESTING SOME STUFF #####\n",
      "text_0 = data_reviews.ix[0].text\n",
      "text_1 = data_reviews.ix[1].text\n",
      "# list(gensim.utils.lemmatize(text, stopwords=STOPWORDS)) \n",
      "# list(gensim.utils.tokenize(text, lower=True))\n",
      "# [word for word in gensim.utils.tokenize(text, lower=True) if word not in STOPWORDS and len(word) > 3]\n",
      "\n",
      "c = normalize_text(text_0) + normalize_text(text_1)\n",
      "\n",
      "cnt = Counter()\n",
      "for word in c:\n",
      "    cnt[word] += 1\n",
      "    \n",
      "counts = pd.DataFrame(dict(cnt).items(), columns=['Word', 'Count']).sort(['Count'], ascending=False)\n",
      "counts.head(5)\n",
      "#dict(cnt)"
     ],
     "language": "python",
     "metadata": {},
     "outputs": [
      {
       "html": [
        "<div style=\"max-height:1000px;max-width:1500px;overflow:auto;\">\n",
        "<table border=\"1\" class=\"dataframe\">\n",
        "  <thead>\n",
        "    <tr style=\"text-align: right;\">\n",
        "      <th></th>\n",
        "      <th>Word</th>\n",
        "      <th>Count</th>\n",
        "    </tr>\n",
        "  </thead>\n",
        "  <tbody>\n",
        "    <tr>\n",
        "      <th>35</th>\n",
        "      <td> goldberg</td>\n",
        "      <td> 3</td>\n",
        "    </tr>\n",
        "    <tr>\n",
        "      <th>63</th>\n",
        "      <td>     time</td>\n",
        "      <td> 2</td>\n",
        "    </tr>\n",
        "    <tr>\n",
        "      <th>36</th>\n",
        "      <td>     need</td>\n",
        "      <td> 2</td>\n",
        "    </tr>\n",
        "    <tr>\n",
        "      <th>16</th>\n",
        "      <td>    phone</td>\n",
        "      <td> 2</td>\n",
        "    </tr>\n",
        "    <tr>\n",
        "      <th>6 </th>\n",
        "      <td>    staff</td>\n",
        "      <td> 2</td>\n",
        "    </tr>\n",
        "  </tbody>\n",
        "</table>\n",
        "</div>"
       ],
       "metadata": {},
       "output_type": "pyout",
       "prompt_number": 68,
       "text": [
        "        Word  Count\n",
        "35  goldberg      3\n",
        "63      time      2\n",
        "36      need      2\n",
        "16     phone      2\n",
        "6      staff      2"
       ]
      }
     ],
     "prompt_number": 68
    },
    {
     "cell_type": "code",
     "collapsed": false,
     "input": [
      "words = []\n",
      "row_count = float(len(data_reviews))\n",
      "last_percent = 0\n",
      "for index, row in data_reviews.iterrows():\n",
      "    #print index\n",
      "    #print row_count\n",
      "    #print float(index / row_count)\n",
      "    if int(index / row_count * 100) > last_percent:\n",
      "        last_percent = int(index / row_count * 100)\n",
      "        print \"{}%\".format(last_percent);\n",
      "        \n",
      "    words += normalize_text(row.text)\n",
      "    \n",
      "print \"Number of words: {}\".format(len(words))"
     ],
     "language": "python",
     "metadata": {},
     "outputs": [
      {
       "output_type": "stream",
       "stream": "stdout",
       "text": [
        "1%\n",
        "2%"
       ]
      },
      {
       "output_type": "stream",
       "stream": "stdout",
       "text": [
        "\n",
        "3%"
       ]
      },
      {
       "output_type": "stream",
       "stream": "stdout",
       "text": [
        "\n",
        "4%"
       ]
      },
      {
       "output_type": "stream",
       "stream": "stdout",
       "text": [
        "\n",
        "5%"
       ]
      },
      {
       "output_type": "stream",
       "stream": "stdout",
       "text": [
        "\n",
        "6%"
       ]
      },
      {
       "output_type": "stream",
       "stream": "stdout",
       "text": [
        "\n",
        "7%"
       ]
      },
      {
       "output_type": "stream",
       "stream": "stdout",
       "text": [
        "\n",
        "8%"
       ]
      },
      {
       "output_type": "stream",
       "stream": "stdout",
       "text": [
        "\n",
        "9%"
       ]
      },
      {
       "output_type": "stream",
       "stream": "stdout",
       "text": [
        "\n",
        "10%"
       ]
      },
      {
       "output_type": "stream",
       "stream": "stdout",
       "text": [
        "\n",
        "11%"
       ]
      },
      {
       "output_type": "stream",
       "stream": "stdout",
       "text": [
        "\n",
        "12%"
       ]
      },
      {
       "output_type": "stream",
       "stream": "stdout",
       "text": [
        "\n",
        "13%"
       ]
      },
      {
       "output_type": "stream",
       "stream": "stdout",
       "text": [
        "\n",
        "14%"
       ]
      },
      {
       "output_type": "stream",
       "stream": "stdout",
       "text": [
        "\n",
        "15%"
       ]
      },
      {
       "output_type": "stream",
       "stream": "stdout",
       "text": [
        "\n",
        "16%"
       ]
      },
      {
       "output_type": "stream",
       "stream": "stdout",
       "text": [
        "\n",
        "17%"
       ]
      },
      {
       "output_type": "stream",
       "stream": "stdout",
       "text": [
        "\n",
        "18%"
       ]
      },
      {
       "output_type": "stream",
       "stream": "stdout",
       "text": [
        "\n",
        "19%"
       ]
      },
      {
       "output_type": "stream",
       "stream": "stdout",
       "text": [
        "\n",
        "20%"
       ]
      },
      {
       "output_type": "stream",
       "stream": "stdout",
       "text": [
        "\n",
        "21%"
       ]
      },
      {
       "output_type": "stream",
       "stream": "stdout",
       "text": [
        "\n",
        "22%"
       ]
      },
      {
       "output_type": "stream",
       "stream": "stdout",
       "text": [
        "\n",
        "23%"
       ]
      },
      {
       "output_type": "stream",
       "stream": "stdout",
       "text": [
        "\n",
        "24%"
       ]
      },
      {
       "output_type": "stream",
       "stream": "stdout",
       "text": [
        "\n",
        "25%"
       ]
      },
      {
       "output_type": "stream",
       "stream": "stdout",
       "text": [
        "\n",
        "26%"
       ]
      },
      {
       "output_type": "stream",
       "stream": "stdout",
       "text": [
        "\n",
        "27%"
       ]
      },
      {
       "output_type": "stream",
       "stream": "stdout",
       "text": [
        "\n",
        "28%"
       ]
      },
      {
       "output_type": "stream",
       "stream": "stdout",
       "text": [
        "\n",
        "29%"
       ]
      },
      {
       "output_type": "stream",
       "stream": "stdout",
       "text": [
        "\n",
        "30%"
       ]
      },
      {
       "output_type": "stream",
       "stream": "stdout",
       "text": [
        "\n",
        "31%"
       ]
      },
      {
       "output_type": "stream",
       "stream": "stdout",
       "text": [
        "\n",
        "32%"
       ]
      },
      {
       "output_type": "stream",
       "stream": "stdout",
       "text": [
        "\n",
        "33%"
       ]
      },
      {
       "output_type": "stream",
       "stream": "stdout",
       "text": [
        "\n",
        "34%"
       ]
      },
      {
       "output_type": "stream",
       "stream": "stdout",
       "text": [
        "\n",
        "35%"
       ]
      },
      {
       "output_type": "stream",
       "stream": "stdout",
       "text": [
        "\n",
        "36%"
       ]
      },
      {
       "output_type": "stream",
       "stream": "stdout",
       "text": [
        "\n",
        "37%"
       ]
      },
      {
       "output_type": "stream",
       "stream": "stdout",
       "text": [
        "\n",
        "38%"
       ]
      },
      {
       "output_type": "stream",
       "stream": "stdout",
       "text": [
        "\n",
        "39%"
       ]
      },
      {
       "output_type": "stream",
       "stream": "stdout",
       "text": [
        "\n",
        "40%"
       ]
      },
      {
       "output_type": "stream",
       "stream": "stdout",
       "text": [
        "\n",
        "41%"
       ]
      },
      {
       "output_type": "stream",
       "stream": "stdout",
       "text": [
        "\n",
        "42%"
       ]
      },
      {
       "output_type": "stream",
       "stream": "stdout",
       "text": [
        "\n",
        "43%"
       ]
      },
      {
       "output_type": "stream",
       "stream": "stdout",
       "text": [
        "\n",
        "44%"
       ]
      },
      {
       "output_type": "stream",
       "stream": "stdout",
       "text": [
        "\n",
        "45%"
       ]
      },
      {
       "output_type": "stream",
       "stream": "stdout",
       "text": [
        "\n",
        "46%"
       ]
      },
      {
       "output_type": "stream",
       "stream": "stdout",
       "text": [
        "\n",
        "47%"
       ]
      },
      {
       "output_type": "stream",
       "stream": "stdout",
       "text": [
        "\n",
        "48%"
       ]
      },
      {
       "output_type": "stream",
       "stream": "stdout",
       "text": [
        "\n",
        "49%"
       ]
      },
      {
       "output_type": "stream",
       "stream": "stdout",
       "text": [
        "\n",
        "50%"
       ]
      },
      {
       "output_type": "stream",
       "stream": "stdout",
       "text": [
        "\n",
        "51%"
       ]
      },
      {
       "output_type": "stream",
       "stream": "stdout",
       "text": [
        "\n",
        "52%"
       ]
      },
      {
       "output_type": "stream",
       "stream": "stdout",
       "text": [
        "\n",
        "53%"
       ]
      },
      {
       "output_type": "stream",
       "stream": "stdout",
       "text": [
        "\n",
        "54%"
       ]
      },
      {
       "output_type": "stream",
       "stream": "stdout",
       "text": [
        "\n",
        "55%"
       ]
      },
      {
       "output_type": "stream",
       "stream": "stdout",
       "text": [
        "\n",
        "56%"
       ]
      },
      {
       "output_type": "stream",
       "stream": "stdout",
       "text": [
        "\n",
        "57%"
       ]
      },
      {
       "output_type": "stream",
       "stream": "stdout",
       "text": [
        "\n",
        "58%"
       ]
      },
      {
       "output_type": "stream",
       "stream": "stdout",
       "text": [
        "\n",
        "59%"
       ]
      },
      {
       "output_type": "stream",
       "stream": "stdout",
       "text": [
        "\n",
        "60%"
       ]
      },
      {
       "output_type": "stream",
       "stream": "stdout",
       "text": [
        "\n",
        "61%"
       ]
      },
      {
       "output_type": "stream",
       "stream": "stdout",
       "text": [
        "\n",
        "62%"
       ]
      },
      {
       "output_type": "stream",
       "stream": "stdout",
       "text": [
        "\n",
        "63%"
       ]
      },
      {
       "output_type": "stream",
       "stream": "stdout",
       "text": [
        "\n",
        "64%"
       ]
      },
      {
       "output_type": "stream",
       "stream": "stdout",
       "text": [
        "\n",
        "65%"
       ]
      },
      {
       "output_type": "stream",
       "stream": "stdout",
       "text": [
        "\n",
        "66%"
       ]
      },
      {
       "output_type": "stream",
       "stream": "stdout",
       "text": [
        "\n",
        "67%"
       ]
      },
      {
       "output_type": "stream",
       "stream": "stdout",
       "text": [
        "\n",
        "68%"
       ]
      },
      {
       "output_type": "stream",
       "stream": "stdout",
       "text": [
        "\n",
        "69%"
       ]
      },
      {
       "output_type": "stream",
       "stream": "stdout",
       "text": [
        "\n",
        "70%"
       ]
      },
      {
       "output_type": "stream",
       "stream": "stdout",
       "text": [
        "\n",
        "71%"
       ]
      },
      {
       "output_type": "stream",
       "stream": "stdout",
       "text": [
        "\n",
        "72%"
       ]
      },
      {
       "output_type": "stream",
       "stream": "stdout",
       "text": [
        "\n",
        "73%"
       ]
      },
      {
       "output_type": "stream",
       "stream": "stdout",
       "text": [
        "\n",
        "74%"
       ]
      },
      {
       "output_type": "stream",
       "stream": "stdout",
       "text": [
        "\n",
        "75%"
       ]
      },
      {
       "output_type": "stream",
       "stream": "stdout",
       "text": [
        "\n",
        "76%"
       ]
      },
      {
       "output_type": "stream",
       "stream": "stdout",
       "text": [
        "\n",
        "77%"
       ]
      },
      {
       "output_type": "stream",
       "stream": "stdout",
       "text": [
        "\n",
        "78%"
       ]
      },
      {
       "output_type": "stream",
       "stream": "stdout",
       "text": [
        "\n",
        "79%"
       ]
      },
      {
       "output_type": "stream",
       "stream": "stdout",
       "text": [
        "\n",
        "80%"
       ]
      },
      {
       "output_type": "stream",
       "stream": "stdout",
       "text": [
        "\n",
        "81%"
       ]
      },
      {
       "output_type": "stream",
       "stream": "stdout",
       "text": [
        "\n",
        "82%"
       ]
      },
      {
       "output_type": "stream",
       "stream": "stdout",
       "text": [
        "\n",
        "83%"
       ]
      },
      {
       "output_type": "stream",
       "stream": "stdout",
       "text": [
        "\n",
        "84%"
       ]
      },
      {
       "output_type": "stream",
       "stream": "stdout",
       "text": [
        "\n",
        "85%"
       ]
      },
      {
       "output_type": "stream",
       "stream": "stdout",
       "text": [
        "\n",
        "86%"
       ]
      },
      {
       "output_type": "stream",
       "stream": "stdout",
       "text": [
        "\n",
        "87%"
       ]
      },
      {
       "output_type": "stream",
       "stream": "stdout",
       "text": [
        "\n",
        "88%"
       ]
      },
      {
       "output_type": "stream",
       "stream": "stdout",
       "text": [
        "\n",
        "89%"
       ]
      },
      {
       "output_type": "stream",
       "stream": "stdout",
       "text": [
        "\n",
        "90%"
       ]
      },
      {
       "output_type": "stream",
       "stream": "stdout",
       "text": [
        "\n",
        "91%"
       ]
      },
      {
       "output_type": "stream",
       "stream": "stdout",
       "text": [
        "\n",
        "92%"
       ]
      },
      {
       "output_type": "stream",
       "stream": "stdout",
       "text": [
        "\n",
        "93%"
       ]
      },
      {
       "output_type": "stream",
       "stream": "stdout",
       "text": [
        "\n",
        "94%"
       ]
      },
      {
       "output_type": "stream",
       "stream": "stdout",
       "text": [
        "\n",
        "95%"
       ]
      },
      {
       "output_type": "stream",
       "stream": "stdout",
       "text": [
        "\n",
        "96%"
       ]
      },
      {
       "output_type": "stream",
       "stream": "stdout",
       "text": [
        "\n"
       ]
      },
      {
       "ename": "TypeError",
       "evalue": "coercing to Unicode: need string or buffer, float found",
       "output_type": "pyerr",
       "traceback": [
        "\u001b[0;31m---------------------------------------------------------------------------\u001b[0m\n\u001b[0;31mTypeError\u001b[0m                                 Traceback (most recent call last)",
        "\u001b[0;32m<ipython-input-185-6acf19eb019f>\u001b[0m in \u001b[0;36m<module>\u001b[0;34m()\u001b[0m\n\u001b[1;32m     10\u001b[0m         \u001b[0;32mprint\u001b[0m \u001b[0;34m\"{}%\"\u001b[0m\u001b[0;34m.\u001b[0m\u001b[0mformat\u001b[0m\u001b[0;34m(\u001b[0m\u001b[0mlast_percent\u001b[0m\u001b[0;34m)\u001b[0m\u001b[0;34m;\u001b[0m\u001b[0;34m\u001b[0m\u001b[0m\n\u001b[1;32m     11\u001b[0m \u001b[0;34m\u001b[0m\u001b[0m\n\u001b[0;32m---> 12\u001b[0;31m     \u001b[0mwords\u001b[0m \u001b[0;34m+=\u001b[0m \u001b[0mnormalize_text\u001b[0m\u001b[0;34m(\u001b[0m\u001b[0mrow\u001b[0m\u001b[0;34m.\u001b[0m\u001b[0mtext\u001b[0m\u001b[0;34m)\u001b[0m\u001b[0;34m\u001b[0m\u001b[0m\n\u001b[0m\u001b[1;32m     13\u001b[0m \u001b[0;34m\u001b[0m\u001b[0m\n\u001b[1;32m     14\u001b[0m \u001b[0;32mprint\u001b[0m \u001b[0;34m\"Number of words: {}\"\u001b[0m\u001b[0;34m.\u001b[0m\u001b[0mformat\u001b[0m\u001b[0;34m(\u001b[0m\u001b[0mlen\u001b[0m\u001b[0;34m(\u001b[0m\u001b[0mwords\u001b[0m\u001b[0;34m)\u001b[0m\u001b[0;34m)\u001b[0m\u001b[0;34m\u001b[0m\u001b[0m\n",
        "\u001b[0;32m<ipython-input-162-9231c2effc2e>\u001b[0m in \u001b[0;36mnormalize_text\u001b[0;34m(text)\u001b[0m\n\u001b[1;32m      4\u001b[0m \u001b[0;34m\u001b[0m\u001b[0m\n\u001b[1;32m      5\u001b[0m \u001b[0;32mdef\u001b[0m \u001b[0mnormalize_text\u001b[0m\u001b[0;34m(\u001b[0m\u001b[0mtext\u001b[0m\u001b[0;34m)\u001b[0m\u001b[0;34m:\u001b[0m\u001b[0;34m\u001b[0m\u001b[0m\n\u001b[0;32m----> 6\u001b[0;31m     \u001b[0;32mreturn\u001b[0m \u001b[0;34m[\u001b[0m\u001b[0mword\u001b[0m \u001b[0;32mfor\u001b[0m \u001b[0mword\u001b[0m \u001b[0;32min\u001b[0m \u001b[0mgensim\u001b[0m\u001b[0;34m.\u001b[0m\u001b[0mutils\u001b[0m\u001b[0;34m.\u001b[0m\u001b[0mtokenize\u001b[0m\u001b[0;34m(\u001b[0m\u001b[0mtext\u001b[0m\u001b[0;34m,\u001b[0m \u001b[0mlower\u001b[0m\u001b[0;34m=\u001b[0m\u001b[0mTrue\u001b[0m\u001b[0;34m)\u001b[0m \u001b[0;32mif\u001b[0m \u001b[0mword\u001b[0m \u001b[0;32mnot\u001b[0m \u001b[0;32min\u001b[0m \u001b[0mSTOPWORDS\u001b[0m \u001b[0;32mand\u001b[0m \u001b[0mlen\u001b[0m\u001b[0;34m(\u001b[0m\u001b[0mword\u001b[0m\u001b[0;34m)\u001b[0m \u001b[0;34m>=\u001b[0m \u001b[0;36m3\u001b[0m\u001b[0;34m]\u001b[0m\u001b[0;34m\u001b[0m\u001b[0m\n\u001b[0m\u001b[1;32m      7\u001b[0m \u001b[0;34m\u001b[0m\u001b[0m\n\u001b[1;32m      8\u001b[0m \u001b[0;34m\u001b[0m\u001b[0m\n",
        "\u001b[0;32m/Users/twaltze/anaconda/lib/python2.7/site-packages/gensim/utils.pyc\u001b[0m in \u001b[0;36mtokenize\u001b[0;34m(text, lowercase, deacc, errors, to_lower, lower)\u001b[0m\n\u001b[1;32m    153\u001b[0m     \"\"\"\n\u001b[1;32m    154\u001b[0m     \u001b[0mlowercase\u001b[0m \u001b[0;34m=\u001b[0m \u001b[0mlowercase\u001b[0m \u001b[0;32mor\u001b[0m \u001b[0mto_lower\u001b[0m \u001b[0;32mor\u001b[0m \u001b[0mlower\u001b[0m\u001b[0;34m\u001b[0m\u001b[0m\n\u001b[0;32m--> 155\u001b[0;31m     \u001b[0mtext\u001b[0m \u001b[0;34m=\u001b[0m \u001b[0mto_unicode\u001b[0m\u001b[0;34m(\u001b[0m\u001b[0mtext\u001b[0m\u001b[0;34m,\u001b[0m \u001b[0merrors\u001b[0m\u001b[0;34m=\u001b[0m\u001b[0merrors\u001b[0m\u001b[0;34m)\u001b[0m\u001b[0;34m\u001b[0m\u001b[0m\n\u001b[0m\u001b[1;32m    156\u001b[0m     \u001b[0;32mif\u001b[0m \u001b[0mlowercase\u001b[0m\u001b[0;34m:\u001b[0m\u001b[0;34m\u001b[0m\u001b[0m\n\u001b[1;32m    157\u001b[0m         \u001b[0mtext\u001b[0m \u001b[0;34m=\u001b[0m \u001b[0mtext\u001b[0m\u001b[0;34m.\u001b[0m\u001b[0mlower\u001b[0m\u001b[0;34m(\u001b[0m\u001b[0;34m)\u001b[0m\u001b[0;34m\u001b[0m\u001b[0m\n",
        "\u001b[0;32m/Users/twaltze/anaconda/lib/python2.7/site-packages/gensim/utils.pyc\u001b[0m in \u001b[0;36many2unicode\u001b[0;34m(text, encoding, errors)\u001b[0m\n\u001b[1;32m    188\u001b[0m     \u001b[0;32mif\u001b[0m \u001b[0misinstance\u001b[0m\u001b[0;34m(\u001b[0m\u001b[0mtext\u001b[0m\u001b[0;34m,\u001b[0m \u001b[0municode\u001b[0m\u001b[0;34m)\u001b[0m\u001b[0;34m:\u001b[0m\u001b[0;34m\u001b[0m\u001b[0m\n\u001b[1;32m    189\u001b[0m         \u001b[0;32mreturn\u001b[0m \u001b[0mtext\u001b[0m\u001b[0;34m\u001b[0m\u001b[0m\n\u001b[0;32m--> 190\u001b[0;31m     \u001b[0;32mreturn\u001b[0m \u001b[0municode\u001b[0m\u001b[0;34m(\u001b[0m\u001b[0mtext\u001b[0m\u001b[0;34m,\u001b[0m \u001b[0mencoding\u001b[0m\u001b[0;34m,\u001b[0m \u001b[0merrors\u001b[0m\u001b[0;34m=\u001b[0m\u001b[0merrors\u001b[0m\u001b[0;34m)\u001b[0m\u001b[0;34m\u001b[0m\u001b[0m\n\u001b[0m\u001b[1;32m    191\u001b[0m \u001b[0mto_unicode\u001b[0m \u001b[0;34m=\u001b[0m \u001b[0many2unicode\u001b[0m\u001b[0;34m\u001b[0m\u001b[0m\n\u001b[1;32m    192\u001b[0m \u001b[0;34m\u001b[0m\u001b[0m\n",
        "\u001b[0;31mTypeError\u001b[0m: coercing to Unicode: need string or buffer, float found"
       ]
      }
     ],
     "prompt_number": 185
    },
    {
     "cell_type": "code",
     "collapsed": false,
     "input": [
      "print \"Number of words: {}\".format(len(words))"
     ],
     "language": "python",
     "metadata": {},
     "outputs": [
      {
       "output_type": "stream",
       "stream": "stdout",
       "text": [
        "Number of words: 80618734\n"
       ]
      }
     ],
     "prompt_number": 186
    },
    {
     "cell_type": "code",
     "collapsed": false,
     "input": [
      "word_counter = Counter()\n",
      "row_count = float(len(words))\n",
      "last_percent = 0\n",
      "for index, word in enumerate(words):\n",
      "    if int(index / row_count * 100) > last_percent:\n",
      "        last_percent = int(index / row_count * 100)\n",
      "        print \"{}%\".format(last_percent);\n",
      "        \n",
      "    word_counter[word] += 1"
     ],
     "language": "python",
     "metadata": {},
     "outputs": [
      {
       "output_type": "stream",
       "stream": "stdout",
       "text": [
        "1%\n",
        "2%"
       ]
      },
      {
       "output_type": "stream",
       "stream": "stdout",
       "text": [
        "\n",
        "3%"
       ]
      },
      {
       "output_type": "stream",
       "stream": "stdout",
       "text": [
        "\n",
        "4%"
       ]
      },
      {
       "output_type": "stream",
       "stream": "stdout",
       "text": [
        "\n",
        "5%"
       ]
      },
      {
       "output_type": "stream",
       "stream": "stdout",
       "text": [
        "\n",
        "6%"
       ]
      },
      {
       "output_type": "stream",
       "stream": "stdout",
       "text": [
        "\n",
        "7%"
       ]
      },
      {
       "output_type": "stream",
       "stream": "stdout",
       "text": [
        "\n",
        "8%"
       ]
      },
      {
       "output_type": "stream",
       "stream": "stdout",
       "text": [
        "\n",
        "9%"
       ]
      },
      {
       "output_type": "stream",
       "stream": "stdout",
       "text": [
        "\n",
        "10%"
       ]
      },
      {
       "output_type": "stream",
       "stream": "stdout",
       "text": [
        "\n",
        "11%"
       ]
      },
      {
       "output_type": "stream",
       "stream": "stdout",
       "text": [
        "\n",
        "12%"
       ]
      },
      {
       "output_type": "stream",
       "stream": "stdout",
       "text": [
        "\n",
        "13%"
       ]
      },
      {
       "output_type": "stream",
       "stream": "stdout",
       "text": [
        "\n",
        "14%"
       ]
      },
      {
       "output_type": "stream",
       "stream": "stdout",
       "text": [
        "\n",
        "15%"
       ]
      },
      {
       "output_type": "stream",
       "stream": "stdout",
       "text": [
        "\n",
        "16%"
       ]
      },
      {
       "output_type": "stream",
       "stream": "stdout",
       "text": [
        "\n",
        "17%"
       ]
      },
      {
       "output_type": "stream",
       "stream": "stdout",
       "text": [
        "\n",
        "18%"
       ]
      },
      {
       "output_type": "stream",
       "stream": "stdout",
       "text": [
        "\n",
        "19%"
       ]
      },
      {
       "output_type": "stream",
       "stream": "stdout",
       "text": [
        "\n",
        "20%"
       ]
      },
      {
       "output_type": "stream",
       "stream": "stdout",
       "text": [
        "\n",
        "21%"
       ]
      },
      {
       "output_type": "stream",
       "stream": "stdout",
       "text": [
        "\n",
        "22%"
       ]
      },
      {
       "output_type": "stream",
       "stream": "stdout",
       "text": [
        "\n",
        "23%"
       ]
      },
      {
       "output_type": "stream",
       "stream": "stdout",
       "text": [
        "\n",
        "24%"
       ]
      },
      {
       "output_type": "stream",
       "stream": "stdout",
       "text": [
        "\n",
        "25%"
       ]
      },
      {
       "output_type": "stream",
       "stream": "stdout",
       "text": [
        "\n",
        "26%"
       ]
      },
      {
       "output_type": "stream",
       "stream": "stdout",
       "text": [
        "\n",
        "27%"
       ]
      },
      {
       "output_type": "stream",
       "stream": "stdout",
       "text": [
        "\n",
        "28%"
       ]
      },
      {
       "output_type": "stream",
       "stream": "stdout",
       "text": [
        "\n",
        "29%"
       ]
      },
      {
       "output_type": "stream",
       "stream": "stdout",
       "text": [
        "\n",
        "30%"
       ]
      },
      {
       "output_type": "stream",
       "stream": "stdout",
       "text": [
        "\n",
        "31%"
       ]
      },
      {
       "output_type": "stream",
       "stream": "stdout",
       "text": [
        "\n",
        "32%"
       ]
      },
      {
       "output_type": "stream",
       "stream": "stdout",
       "text": [
        "\n",
        "33%"
       ]
      },
      {
       "output_type": "stream",
       "stream": "stdout",
       "text": [
        "\n",
        "34%"
       ]
      },
      {
       "output_type": "stream",
       "stream": "stdout",
       "text": [
        "\n",
        "35%"
       ]
      },
      {
       "output_type": "stream",
       "stream": "stdout",
       "text": [
        "\n",
        "36%"
       ]
      },
      {
       "output_type": "stream",
       "stream": "stdout",
       "text": [
        "\n",
        "37%"
       ]
      },
      {
       "output_type": "stream",
       "stream": "stdout",
       "text": [
        "\n",
        "38%"
       ]
      },
      {
       "output_type": "stream",
       "stream": "stdout",
       "text": [
        "\n",
        "39%"
       ]
      },
      {
       "output_type": "stream",
       "stream": "stdout",
       "text": [
        "\n",
        "40%"
       ]
      },
      {
       "output_type": "stream",
       "stream": "stdout",
       "text": [
        "\n",
        "41%"
       ]
      },
      {
       "output_type": "stream",
       "stream": "stdout",
       "text": [
        "\n",
        "42%"
       ]
      },
      {
       "output_type": "stream",
       "stream": "stdout",
       "text": [
        "\n",
        "43%"
       ]
      },
      {
       "output_type": "stream",
       "stream": "stdout",
       "text": [
        "\n",
        "44%"
       ]
      },
      {
       "output_type": "stream",
       "stream": "stdout",
       "text": [
        "\n",
        "45%"
       ]
      },
      {
       "output_type": "stream",
       "stream": "stdout",
       "text": [
        "\n",
        "46%"
       ]
      },
      {
       "output_type": "stream",
       "stream": "stdout",
       "text": [
        "\n",
        "47%"
       ]
      },
      {
       "output_type": "stream",
       "stream": "stdout",
       "text": [
        "\n",
        "48%"
       ]
      },
      {
       "output_type": "stream",
       "stream": "stdout",
       "text": [
        "\n",
        "49%"
       ]
      },
      {
       "output_type": "stream",
       "stream": "stdout",
       "text": [
        "\n",
        "50%"
       ]
      },
      {
       "output_type": "stream",
       "stream": "stdout",
       "text": [
        "\n",
        "51%"
       ]
      },
      {
       "output_type": "stream",
       "stream": "stdout",
       "text": [
        "\n",
        "52%"
       ]
      },
      {
       "output_type": "stream",
       "stream": "stdout",
       "text": [
        "\n",
        "53%"
       ]
      },
      {
       "output_type": "stream",
       "stream": "stdout",
       "text": [
        "\n",
        "54%"
       ]
      },
      {
       "output_type": "stream",
       "stream": "stdout",
       "text": [
        "\n",
        "55%"
       ]
      },
      {
       "output_type": "stream",
       "stream": "stdout",
       "text": [
        "\n",
        "56%"
       ]
      },
      {
       "output_type": "stream",
       "stream": "stdout",
       "text": [
        "\n",
        "57%"
       ]
      },
      {
       "output_type": "stream",
       "stream": "stdout",
       "text": [
        "\n",
        "58%"
       ]
      },
      {
       "output_type": "stream",
       "stream": "stdout",
       "text": [
        "\n",
        "59%"
       ]
      },
      {
       "output_type": "stream",
       "stream": "stdout",
       "text": [
        "\n",
        "60%"
       ]
      },
      {
       "output_type": "stream",
       "stream": "stdout",
       "text": [
        "\n",
        "61%"
       ]
      },
      {
       "output_type": "stream",
       "stream": "stdout",
       "text": [
        "\n",
        "62%"
       ]
      },
      {
       "output_type": "stream",
       "stream": "stdout",
       "text": [
        "\n",
        "63%"
       ]
      },
      {
       "output_type": "stream",
       "stream": "stdout",
       "text": [
        "\n",
        "64%"
       ]
      },
      {
       "output_type": "stream",
       "stream": "stdout",
       "text": [
        "\n",
        "65%"
       ]
      },
      {
       "output_type": "stream",
       "stream": "stdout",
       "text": [
        "\n",
        "66%"
       ]
      },
      {
       "output_type": "stream",
       "stream": "stdout",
       "text": [
        "\n",
        "67%"
       ]
      },
      {
       "output_type": "stream",
       "stream": "stdout",
       "text": [
        "\n",
        "68%"
       ]
      },
      {
       "output_type": "stream",
       "stream": "stdout",
       "text": [
        "\n",
        "69%"
       ]
      },
      {
       "output_type": "stream",
       "stream": "stdout",
       "text": [
        "\n",
        "70%"
       ]
      },
      {
       "output_type": "stream",
       "stream": "stdout",
       "text": [
        "\n",
        "71%"
       ]
      },
      {
       "output_type": "stream",
       "stream": "stdout",
       "text": [
        "\n",
        "72%"
       ]
      },
      {
       "output_type": "stream",
       "stream": "stdout",
       "text": [
        "\n",
        "73%"
       ]
      },
      {
       "output_type": "stream",
       "stream": "stdout",
       "text": [
        "\n",
        "74%"
       ]
      },
      {
       "output_type": "stream",
       "stream": "stdout",
       "text": [
        "\n",
        "75%"
       ]
      },
      {
       "output_type": "stream",
       "stream": "stdout",
       "text": [
        "\n",
        "76%"
       ]
      },
      {
       "output_type": "stream",
       "stream": "stdout",
       "text": [
        "\n",
        "77%"
       ]
      },
      {
       "output_type": "stream",
       "stream": "stdout",
       "text": [
        "\n",
        "78%"
       ]
      },
      {
       "output_type": "stream",
       "stream": "stdout",
       "text": [
        "\n",
        "79%"
       ]
      },
      {
       "output_type": "stream",
       "stream": "stdout",
       "text": [
        "\n",
        "80%"
       ]
      },
      {
       "output_type": "stream",
       "stream": "stdout",
       "text": [
        "\n",
        "81%"
       ]
      },
      {
       "output_type": "stream",
       "stream": "stdout",
       "text": [
        "\n",
        "82%"
       ]
      },
      {
       "output_type": "stream",
       "stream": "stdout",
       "text": [
        "\n",
        "83%"
       ]
      },
      {
       "output_type": "stream",
       "stream": "stdout",
       "text": [
        "\n",
        "84%"
       ]
      },
      {
       "output_type": "stream",
       "stream": "stdout",
       "text": [
        "\n",
        "85%"
       ]
      },
      {
       "output_type": "stream",
       "stream": "stdout",
       "text": [
        "\n",
        "86%"
       ]
      },
      {
       "output_type": "stream",
       "stream": "stdout",
       "text": [
        "\n",
        "87%"
       ]
      },
      {
       "output_type": "stream",
       "stream": "stdout",
       "text": [
        "\n",
        "88%"
       ]
      },
      {
       "output_type": "stream",
       "stream": "stdout",
       "text": [
        "\n",
        "89%"
       ]
      },
      {
       "output_type": "stream",
       "stream": "stdout",
       "text": [
        "\n",
        "90%"
       ]
      },
      {
       "output_type": "stream",
       "stream": "stdout",
       "text": [
        "\n",
        "91%"
       ]
      },
      {
       "output_type": "stream",
       "stream": "stdout",
       "text": [
        "\n",
        "92%"
       ]
      },
      {
       "output_type": "stream",
       "stream": "stdout",
       "text": [
        "\n",
        "93%"
       ]
      },
      {
       "output_type": "stream",
       "stream": "stdout",
       "text": [
        "\n",
        "94%"
       ]
      },
      {
       "output_type": "stream",
       "stream": "stdout",
       "text": [
        "\n",
        "95%"
       ]
      },
      {
       "output_type": "stream",
       "stream": "stdout",
       "text": [
        "\n",
        "96%"
       ]
      },
      {
       "output_type": "stream",
       "stream": "stdout",
       "text": [
        "\n",
        "97%"
       ]
      },
      {
       "output_type": "stream",
       "stream": "stdout",
       "text": [
        "\n",
        "98%"
       ]
      },
      {
       "output_type": "stream",
       "stream": "stdout",
       "text": [
        "\n",
        "99%"
       ]
      },
      {
       "output_type": "stream",
       "stream": "stdout",
       "text": [
        "\n"
       ]
      }
     ],
     "prompt_number": 188
    },
    {
     "cell_type": "code",
     "collapsed": false,
     "input": [
      "word_counts = pd.DataFrame(dict(word_counter).items(), columns=['Word', 'Count']).sort(['Count'], ascending=False)\n",
      "word_counts.index = range(1, len(word_counts) + 1)\n",
      "word_counts.head(10)"
     ],
     "language": "python",
     "metadata": {},
     "outputs": [
      {
       "html": [
        "<div style=\"max-height:1000px;max-width:1500px;overflow:auto;\">\n",
        "<table border=\"1\" class=\"dataframe\">\n",
        "  <thead>\n",
        "    <tr style=\"text-align: right;\">\n",
        "      <th></th>\n",
        "      <th>Word</th>\n",
        "      <th>Count</th>\n",
        "    </tr>\n",
        "  </thead>\n",
        "  <tbody>\n",
        "    <tr>\n",
        "      <th>1 </th>\n",
        "      <td>    good</td>\n",
        "      <td> 909245</td>\n",
        "    </tr>\n",
        "    <tr>\n",
        "      <th>2 </th>\n",
        "      <td>   place</td>\n",
        "      <td> 869613</td>\n",
        "    </tr>\n",
        "    <tr>\n",
        "      <th>3 </th>\n",
        "      <td>    food</td>\n",
        "      <td> 846757</td>\n",
        "    </tr>\n",
        "    <tr>\n",
        "      <th>4 </th>\n",
        "      <td>   great</td>\n",
        "      <td> 709395</td>\n",
        "    </tr>\n",
        "    <tr>\n",
        "      <th>5 </th>\n",
        "      <td>    like</td>\n",
        "      <td> 670991</td>\n",
        "    </tr>\n",
        "    <tr>\n",
        "      <th>6 </th>\n",
        "      <td>    time</td>\n",
        "      <td> 540999</td>\n",
        "    </tr>\n",
        "    <tr>\n",
        "      <th>7 </th>\n",
        "      <td> service</td>\n",
        "      <td> 526274</td>\n",
        "    </tr>\n",
        "    <tr>\n",
        "      <th>8 </th>\n",
        "      <td>    nice</td>\n",
        "      <td> 330911</td>\n",
        "    </tr>\n",
        "    <tr>\n",
        "      <th>9 </th>\n",
        "      <td>     got</td>\n",
        "      <td> 317671</td>\n",
        "    </tr>\n",
        "    <tr>\n",
        "      <th>10</th>\n",
        "      <td>    best</td>\n",
        "      <td> 296225</td>\n",
        "    </tr>\n",
        "  </tbody>\n",
        "</table>\n",
        "</div>"
       ],
       "metadata": {},
       "output_type": "pyout",
       "prompt_number": 291,
       "text": [
        "       Word   Count\n",
        "1      good  909245\n",
        "2     place  869613\n",
        "3      food  846757\n",
        "4     great  709395\n",
        "5      like  670991\n",
        "6      time  540999\n",
        "7   service  526274\n",
        "8      nice  330911\n",
        "9       got  317671\n",
        "10     best  296225"
       ]
      }
     ],
     "prompt_number": 291
    },
    {
     "cell_type": "code",
     "collapsed": false,
     "input": [
      "occur1 = word_counts[word_counts.Count == 1]\n",
      "occur5 = word_counts[word_counts.Count <= 5]\n",
      "occur100 = word_counts[word_counts.Count <= 100]\n",
      "occur10000 = word_counts[word_counts.Count <= 10000]\n",
      "occurAlot = word_counts[word_counts.Count > 10000]\n",
      "print \"Number of unique words: {}\".format(len(word_counts))\n",
      "print \"Number of words which occur only once: {}\".format(len(occur1))\n",
      "print \"Number of words which occur 5 or fewer times: {}\".format(len(occur5))\n",
      "print \"Number of words which occur 100 or fewer times: {}\".format(len(occur100))\n",
      "print \"Number of words which occur 10000 or fewer times: {}\".format(len(occur10000))\n",
      "print \"Number of words which occur 10000 or more times: {}\".format(len(occurAlot))"
     ],
     "language": "python",
     "metadata": {},
     "outputs": [
      {
       "output_type": "stream",
       "stream": "stdout",
       "text": [
        "Number of unique words: 341183\n",
        "Number of words which occur only once: 170663\n",
        "Number of words which occur 5 or fewer times: 255496\n",
        "Number of words which occur 100 or fewer times: 318729\n",
        "Number of words which occur 10000 or fewer times: 339792\n",
        "Number of words which occur 10000 or more times: 1391\n"
       ]
      }
     ],
     "prompt_number": 290
    },
    {
     "cell_type": "code",
     "collapsed": false,
     "input": [
      "sns.set_context(\"talk\", font_scale=1.25)\n",
      "sns.distplot(word_counts.head(1000).Count)\n",
      "#plt.scatter(word_counts.head(1000).index, word_counts.head(1000).Count)\n",
      "plt.title(\"Word Count Distribution\")\n",
      "plt.xlabel(\"Words\")\n",
      "plt.ylabel(\"Number of Occurrences\")\n",
      "plt.show()"
     ],
     "language": "python",
     "metadata": {},
     "outputs": [
      {
       "metadata": {},
       "output_type": "display_data",
       "png": "[encoded data removed]",
       "text": [
        "<matplotlib.figure.Figure at 0x2d2206b50>"
       ]
      }
     ],
     "prompt_number": 294
    },
    {
     "cell_type": "code",
     "collapsed": false,
     "input": [
      "interestingColumns = ['business_id', 'review_count', 'stars', 'latitude', 'longitude', 'type', 'categories']\n",
      "data_business = pd.read_csv(data + 'yelp_academic_dataset_business.csv')[interestingColumns]\n",
      "data_business = data_business.sort(['stars'], ascending=False)\n",
      "data_business.index = range(1, len(data_business) + 1)\n",
      "print len(data_business);\n",
      "data_business.head()"
     ],
     "language": "python",
     "metadata": {},
     "outputs": [
      {
       "output_type": "stream",
       "stream": "stdout",
       "text": [
        "61184\n"
       ]
      },
      {
       "html": [
        "<div style=\"max-height:1000px;max-width:1500px;overflow:auto;\">\n",
        "<table border=\"1\" class=\"dataframe\">\n",
        "  <thead>\n",
        "    <tr style=\"text-align: right;\">\n",
        "      <th></th>\n",
        "      <th>business_id</th>\n",
        "      <th>review_count</th>\n",
        "      <th>stars</th>\n",
        "      <th>latitude</th>\n",
        "      <th>longitude</th>\n",
        "      <th>type</th>\n",
        "      <th>categories</th>\n",
        "    </tr>\n",
        "  </thead>\n",
        "  <tbody>\n",
        "    <tr>\n",
        "      <th>1</th>\n",
        "      <td> m9i6aX4nmuTwqO5PjeLNZg</td>\n",
        "      <td>  6</td>\n",
        "      <td> 5</td>\n",
        "      <td> 33.352244</td>\n",
        "      <td>-111.911813</td>\n",
        "      <td> business</td>\n",
        "      <td> [,u,',H,e,a,l,t,h, ,&amp;, ,M,e,d,i,c,a,l,',,, ,u,...</td>\n",
        "    </tr>\n",
        "    <tr>\n",
        "      <th>2</th>\n",
        "      <td> pqF-kycgETrn5JocpFk_wQ</td>\n",
        "      <td>  7</td>\n",
        "      <td> 5</td>\n",
        "      <td> 36.161526</td>\n",
        "      <td>-115.172818</td>\n",
        "      <td> business</td>\n",
        "      <td> [,u,',L,o,c,a,l, ,S,e,r,v,i,c,e,s,',,, ,u,',S,...</td>\n",
        "    </tr>\n",
        "    <tr>\n",
        "      <th>3</th>\n",
        "      <td> cWnISQaO33CwpQRPcq6nIg</td>\n",
        "      <td> 31</td>\n",
        "      <td> 5</td>\n",
        "      <td> 33.425925</td>\n",
        "      <td>-111.909034</td>\n",
        "      <td> business</td>\n",
        "      <td> [,u,',P,h,o,t,o,g,r,a,p,h,e,r,s,',,, ,u,',E,v,...</td>\n",
        "    </tr>\n",
        "    <tr>\n",
        "      <th>4</th>\n",
        "      <td> JzM46CxWsR5DZGsbBObzaQ</td>\n",
        "      <td> 16</td>\n",
        "      <td> 5</td>\n",
        "      <td> 33.303740</td>\n",
        "      <td>-111.980975</td>\n",
        "      <td> business</td>\n",
        "      <td> [,u,',H,a,i,r, ,S,a,l,o,n,s,',,, ,u,',H,a,i,r,...</td>\n",
        "    </tr>\n",
        "    <tr>\n",
        "      <th>5</th>\n",
        "      <td> O-eHvICJU7ocaNMcAh54nA</td>\n",
        "      <td>  6</td>\n",
        "      <td> 5</td>\n",
        "      <td> 33.365297</td>\n",
        "      <td>-111.826693</td>\n",
        "      <td> business</td>\n",
        "      <td> [,u,',S,k,i,n, ,C,a,r,e,',,, ,u,',B,e,a,u,t,y,...</td>\n",
        "    </tr>\n",
        "  </tbody>\n",
        "</table>\n",
        "</div>"
       ],
       "metadata": {},
       "output_type": "pyout",
       "prompt_number": 46,
       "text": [
        "              business_id  review_count  stars   latitude   longitude  \\\n",
        "1  m9i6aX4nmuTwqO5PjeLNZg             6      5  33.352244 -111.911813   \n",
        "2  pqF-kycgETrn5JocpFk_wQ             7      5  36.161526 -115.172818   \n",
        "3  cWnISQaO33CwpQRPcq6nIg            31      5  33.425925 -111.909034   \n",
        "4  JzM46CxWsR5DZGsbBObzaQ            16      5  33.303740 -111.980975   \n",
        "5  O-eHvICJU7ocaNMcAh54nA             6      5  33.365297 -111.826693   \n",
        "\n",
        "       type                                         categories  \n",
        "1  business  [,u,',H,e,a,l,t,h, ,&, ,M,e,d,i,c,a,l,',,, ,u,...  \n",
        "2  business  [,u,',L,o,c,a,l, ,S,e,r,v,i,c,e,s,',,, ,u,',S,...  \n",
        "3  business  [,u,',P,h,o,t,o,g,r,a,p,h,e,r,s,',,, ,u,',E,v,...  \n",
        "4  business  [,u,',H,a,i,r, ,S,a,l,o,n,s,',,, ,u,',H,a,i,r,...  \n",
        "5  business  [,u,',S,k,i,n, ,C,a,r,e,',,, ,u,',B,e,a,u,t,y,...  "
       ]
      }
     ],
     "prompt_number": 46
    },
    {
     "cell_type": "code",
     "collapsed": false,
     "input": [
      "# Save interesting parts of business data\n",
      "data_business.to_csv(data + 'yelp_business_interesting.csv', encoding='utf-8', index=False)"
     ],
     "language": "python",
     "metadata": {},
     "outputs": [],
     "prompt_number": 10
    },
    {
     "cell_type": "code",
     "collapsed": false,
     "input": [
      "data_business_1 = data_business[data_business['stars'] == 1]\n",
      "data_business_15 = data_business[data_business['stars'] == 1.5]\n",
      "data_business_2 = data_business[data_business['stars'] == 2]\n",
      "data_business_25 = data_business[data_business['stars'] == 2.5]\n",
      "data_business_3 = data_business[data_business['stars'] == 3]\n",
      "data_business_35 = data_business[data_business['stars'] == 3.5]\n",
      "data_business_4 = data_business[data_business['stars'] == 4.5]\n",
      "data_business_45 = data_business[data_business['stars'] == 4.5]\n",
      "data_business_5 = data_business[data_business['stars'] == 5]\n",
      "\n",
      "print(\"Number of 1 stars: {}\".format(len(data_business_1)));\n",
      "print(\"Number of 1.5 stars: {}\".format(len(data_business_15)));\n",
      "print(\"Number of 2 stars: {}\".format(len(data_business_2)));\n",
      "print(\"Number of 2.5 stars: {}\".format(len(data_business_25)));\n",
      "print(\"Number of 3 stars: {}\".format(len(data_business_3)));\n",
      "print(\"Number of 3.5 stars: {}\".format(len(data_business_35)));\n",
      "print(\"Number of 4 stars: {}\".format(len(data_business_4)));\n",
      "print(\"Number of 4.5 stars: {}\".format(len(data_business_45)));\n",
      "print(\"Number of 5 stars: {}\".format(len(data_business_5)));"
     ],
     "language": "python",
     "metadata": {},
     "outputs": [
      {
       "output_type": "stream",
       "stream": "stdout",
       "text": [
        "Number of 1 stars: 637\n",
        "Number of 1.5 stars: 1095\n",
        "Number of 2 stars: 2364\n",
        "Number of 2.5 stars: 5211\n",
        "Number of 3 stars: 8335\n",
        "Number of 3.5 stars: 13171\n",
        "Number of 4 stars: 9542\n",
        "Number of 4.5 stars: 9542\n",
        "Number of 5 stars: 7354\n"
       ]
      }
     ],
     "prompt_number": 16
    },
    {
     "cell_type": "code",
     "collapsed": false,
     "input": [
      "# Normalize business data to have equal number of each star rating\n",
      "\n",
      "def takeSample(data, size):\n",
      "    return data.loc[np.random.choice(data.index, size, replace=False)]\n",
      "\n",
      "# Take random samples of each star set\n",
      "subset1 = takeSample(data_business_1, 500)\n",
      "subset15 = takeSample(data_business_15, 500)\n",
      "subset2 = takeSample(data_business_2, 500)\n",
      "subset25 = takeSample(data_business_25, 500)\n",
      "subset3 = takeSample(data_business_3, 500)\n",
      "subset35 = takeSample(data_business_35, 500)\n",
      "subset4 = takeSample(data_business_4, 500)\n",
      "subset45 = takeSample(data_business_45, 500)\n",
      "subset5 = takeSample(data_business_5, 500)\n",
      "\n",
      "data_business_normalized = pd.concat([subset1,\n",
      "                                      subset15,\n",
      "                                      subset2,\n",
      "                                      subset25,\n",
      "                                      subset3,\n",
      "                                      subset35,\n",
      "                                      subset4,\n",
      "                                      subset45,\n",
      "                                      subset5])\n",
      "\n",
      "data_business_normalized.to_csv(data + 'yelp_business_normalized.csv', encoding='utf-8', index=False)"
     ],
     "language": "python",
     "metadata": {},
     "outputs": [],
     "prompt_number": 32
    },
    {
     "cell_type": "code",
     "collapsed": false,
     "input": [
      "# Top and bottom 30% in rating\n",
      "percentage = 0.3\n",
      "top_business = data_business.head(int(len(data_business) * percentage))\n",
      "bottom_business = data_business.tail(int(len(data_business) * percentage))"
     ],
     "language": "python",
     "metadata": {},
     "outputs": [],
     "prompt_number": 280
    },
    {
     "cell_type": "code",
     "collapsed": false,
     "input": [
      "plt.scatter(top_business.index, top_business.review_count)\n",
      "plt.title(\"Top Rated Businesses\")\n",
      "plt.ylabel(\"Number of reviews\")\n",
      "plt.xlabel(\"Overall ranking among businesses\")\n",
      "plt.show()\n",
      "\n",
      "plt.scatter(bottom_business.index, bottom_business.review_count)\n",
      "plt.title(\"Lowest Rated Businesses\")\n",
      "plt.ylabel(\"Number of reviews\")\n",
      "plt.xlabel(\"Overall ranking among businesses\")\n",
      "plt.show()"
     ],
     "language": "python",
     "metadata": {},
     "outputs": [
      {
       "metadata": {},
       "output_type": "display_data",
       "png": "[encoded data removed]",
       "text": [
        "<matplotlib.figure.Figure at 0x40e5f1f10>"
       ]
      },
      {
       "metadata": {},
       "output_type": "display_data",
       "png": "[encoded data removed]",
       "text": [
        "<matplotlib.figure.Figure at 0x40fe6fb90>"
       ]
      }
     ],
     "prompt_number": 281
    },
    {
     "cell_type": "code",
     "collapsed": false,
     "input": [
      "#################################################################################\n",
      "#\n",
      "#\n",
      "#\n",
      "# Code above is for data exploration.\n",
      "# Time to get in to some more focused analysis.\n",
      "#\n",
      "#\n",
      "#\n",
      "#################################################################################"
     ],
     "language": "python",
     "metadata": {},
     "outputs": []
    },
    {
     "cell_type": "code",
     "collapsed": false,
     "input": [
      "import re\n",
      "\n",
      "# data_business = All businesses, along with their interesting attributes\n",
      "# data_reviews = All reviews, along with their interesting attributes\n",
      "\n",
      "# Contains only restaurants and restaurant reviews\n",
      "data_rest = data_business[data_business['categories'].str.contains(\"R,e,s,t,a,u\")].sort(['review_count'], ascending=False)\n",
      "# reindex\n",
      "data_rest.index = range(1, len(data_rest) + 1)\n",
      "\n",
      "# get restaurant reviews\n",
      "rest_id = data_rest['business_id']\n",
      "rest_reviews = data_reviews[data_reviews['business_id'].isin(rest_id)]\n",
      "# reindex\n",
      "rest_reviews.index = range(1, len(rest_reviews) + 1)\n",
      "\n",
      "rest_reviews.head()"
     ],
     "language": "python",
     "metadata": {},
     "outputs": [
      {
       "html": [
        "<div style=\"max-height:1000px;max-width:1500px;overflow:auto;\">\n",
        "<table border=\"1\" class=\"dataframe\">\n",
        "  <thead>\n",
        "    <tr style=\"text-align: right;\">\n",
        "      <th></th>\n",
        "      <th>business_id</th>\n",
        "      <th>date</th>\n",
        "      <th>review_id</th>\n",
        "      <th>stars</th>\n",
        "      <th>text</th>\n",
        "      <th>type</th>\n",
        "      <th>user_id</th>\n",
        "      <th>votes_cool</th>\n",
        "      <th>votes_funny</th>\n",
        "      <th>votes_useful</th>\n",
        "    </tr>\n",
        "  </thead>\n",
        "  <tbody>\n",
        "    <tr>\n",
        "      <th>1</th>\n",
        "      <td> mVHrayjG3uZ_RLHkLj-AMg</td>\n",
        "      <td> 2012-12-01</td>\n",
        "      <td> 6w6gMZ3iBLGcUM4RBIuifQ</td>\n",
        "      <td> 5</td>\n",
        "      <td> This place was DELICIOUS!!  My parents saw a r...</td>\n",
        "      <td> review</td>\n",
        "      <td> LWbYpcangjBMm4KPxZGOKg</td>\n",
        "      <td> 0</td>\n",
        "      <td> 0</td>\n",
        "      <td> 5</td>\n",
        "    </tr>\n",
        "    <tr>\n",
        "      <th>2</th>\n",
        "      <td> mVHrayjG3uZ_RLHkLj-AMg</td>\n",
        "      <td> 2013-03-15</td>\n",
        "      <td> jVVv_DA5mCDB6mediuwHAw</td>\n",
        "      <td> 5</td>\n",
        "      <td> Can't miss stop for the best Fish Sandwich in ...</td>\n",
        "      <td> review</td>\n",
        "      <td> m1FpV3EAeggaAdfPx0hBRQ</td>\n",
        "      <td> 0</td>\n",
        "      <td> 0</td>\n",
        "      <td> 0</td>\n",
        "    </tr>\n",
        "    <tr>\n",
        "      <th>3</th>\n",
        "      <td> mVHrayjG3uZ_RLHkLj-AMg</td>\n",
        "      <td> 2013-03-30</td>\n",
        "      <td> 3Es8GsjkssusYgeU6_ZVpQ</td>\n",
        "      <td> 5</td>\n",
        "      <td> This place should have a lot more reviews - bu...</td>\n",
        "      <td> review</td>\n",
        "      <td> 8fApIAMHn2MZJFUiCQto5Q</td>\n",
        "      <td> 1</td>\n",
        "      <td> 0</td>\n",
        "      <td> 2</td>\n",
        "    </tr>\n",
        "    <tr>\n",
        "      <th>4</th>\n",
        "      <td> mVHrayjG3uZ_RLHkLj-AMg</td>\n",
        "      <td> 2013-10-20</td>\n",
        "      <td> KAkcn7oQP1xX8KsZ-XmktA</td>\n",
        "      <td> 4</td>\n",
        "      <td> This place was very good. I found out about Em...</td>\n",
        "      <td> review</td>\n",
        "      <td> uK8tzraOp4M5u3uYrqIBXg</td>\n",
        "      <td> 0</td>\n",
        "      <td> 0</td>\n",
        "      <td> 1</td>\n",
        "    </tr>\n",
        "    <tr>\n",
        "      <th>5</th>\n",
        "      <td> mVHrayjG3uZ_RLHkLj-AMg</td>\n",
        "      <td> 2013-11-07</td>\n",
        "      <td> BZNJkkP0bXnwQ2-sCqat2Q</td>\n",
        "      <td> 5</td>\n",
        "      <td> Old school.....traditional \"mom 'n pop\" qualit...</td>\n",
        "      <td> review</td>\n",
        "      <td> 6wvlM5L4_EroGXbnb_92xQ</td>\n",
        "      <td> 0</td>\n",
        "      <td> 0</td>\n",
        "      <td> 0</td>\n",
        "    </tr>\n",
        "  </tbody>\n",
        "</table>\n",
        "</div>"
       ],
       "metadata": {},
       "output_type": "pyout",
       "prompt_number": 98,
       "text": [
        "              business_id        date               review_id  stars  \\\n",
        "1  mVHrayjG3uZ_RLHkLj-AMg  2012-12-01  6w6gMZ3iBLGcUM4RBIuifQ      5   \n",
        "2  mVHrayjG3uZ_RLHkLj-AMg  2013-03-15  jVVv_DA5mCDB6mediuwHAw      5   \n",
        "3  mVHrayjG3uZ_RLHkLj-AMg  2013-03-30  3Es8GsjkssusYgeU6_ZVpQ      5   \n",
        "4  mVHrayjG3uZ_RLHkLj-AMg  2013-10-20  KAkcn7oQP1xX8KsZ-XmktA      4   \n",
        "5  mVHrayjG3uZ_RLHkLj-AMg  2013-11-07  BZNJkkP0bXnwQ2-sCqat2Q      5   \n",
        "\n",
        "                                                text    type  \\\n",
        "1  This place was DELICIOUS!!  My parents saw a r...  review   \n",
        "2  Can't miss stop for the best Fish Sandwich in ...  review   \n",
        "3  This place should have a lot more reviews - bu...  review   \n",
        "4  This place was very good. I found out about Em...  review   \n",
        "5  Old school.....traditional \"mom 'n pop\" qualit...  review   \n",
        "\n",
        "                  user_id  votes_cool  votes_funny  votes_useful  \n",
        "1  LWbYpcangjBMm4KPxZGOKg           0            0             5  \n",
        "2  m1FpV3EAeggaAdfPx0hBRQ           0            0             0  \n",
        "3  8fApIAMHn2MZJFUiCQto5Q           1            0             2  \n",
        "4  uK8tzraOp4M5u3uYrqIBXg           0            0             1  \n",
        "5  6wvlM5L4_EroGXbnb_92xQ           0            0             0  "
       ]
      }
     ],
     "prompt_number": 98
    },
    {
     "cell_type": "code",
     "collapsed": false,
     "input": [
      "reviews_train, reviews_test = cross_validation.train_test_split(rest_reviews, test_size=0.3, random_state=0)\n",
      "\n",
      "print \"Number of reviews: {}\".format(len(rest_reviews))\n",
      "print \"Number of reviews in training: {}\".format(len(reviews_train))\n",
      "print \"Number of reviews in test: {}\".format(len(reviews_test))"
     ],
     "language": "python",
     "metadata": {},
     "outputs": [
      {
       "output_type": "stream",
       "stream": "stdout",
       "text": [
        "Number of reviews: 990627\n",
        "Number of reviews in training: 693438\n",
        "Number of reviews in test: 297189\n"
       ]
      }
     ],
     "prompt_number": 74
    },
    {
     "cell_type": "code",
     "collapsed": false,
     "input": [
      "# Break reviews into a set of meaningful words\n",
      "words = []\n",
      "row_count = float(len(rest_reviews))\n",
      "last_percent = 0\n",
      "for index, row in rest_reviews.iterrows():\n",
      "    p = int(index / row_count * 100)\n",
      "    if p > last_percent and p % 10 == 0:\n",
      "        last_percent = p\n",
      "        print \"{}%\".format(last_percent);\n",
      "        \n",
      "    words += normalize_text(row.text)\n",
      "    \n",
      "print \"Number of words: {}\".format(len(words))"
     ],
     "language": "python",
     "metadata": {},
     "outputs": [
      {
       "output_type": "stream",
       "stream": "stdout",
       "text": [
        "10%\n",
        "20%"
       ]
      },
      {
       "output_type": "stream",
       "stream": "stdout",
       "text": [
        "\n",
        "30%"
       ]
      },
      {
       "output_type": "stream",
       "stream": "stdout",
       "text": [
        "\n",
        "40%"
       ]
      },
      {
       "output_type": "stream",
       "stream": "stdout",
       "text": [
        "\n",
        "50%"
       ]
      },
      {
       "output_type": "stream",
       "stream": "stdout",
       "text": [
        "\n",
        "60%"
       ]
      },
      {
       "output_type": "stream",
       "stream": "stdout",
       "text": [
        "\n",
        "70%"
       ]
      },
      {
       "output_type": "stream",
       "stream": "stdout",
       "text": [
        "\n",
        "80%"
       ]
      },
      {
       "output_type": "stream",
       "stream": "stdout",
       "text": [
        "\n",
        "90%"
       ]
      },
      {
       "output_type": "stream",
       "stream": "stdout",
       "text": [
        "\n"
       ]
      },
      {
       "ename": "TypeError",
       "evalue": "coercing to Unicode: need string or buffer, float found",
       "output_type": "pyerr",
       "traceback": [
        "\u001b[0;31m---------------------------------------------------------------------------\u001b[0m\n\u001b[0;31mTypeError\u001b[0m                                 Traceback (most recent call last)",
        "\u001b[0;32m<ipython-input-75-06d33a9de9db>\u001b[0m in \u001b[0;36m<module>\u001b[0;34m()\u001b[0m\n\u001b[1;32m      9\u001b[0m         \u001b[0;32mprint\u001b[0m \u001b[0;34m\"{}%\"\u001b[0m\u001b[0;34m.\u001b[0m\u001b[0mformat\u001b[0m\u001b[0;34m(\u001b[0m\u001b[0mlast_percent\u001b[0m\u001b[0;34m)\u001b[0m\u001b[0;34m;\u001b[0m\u001b[0;34m\u001b[0m\u001b[0m\n\u001b[1;32m     10\u001b[0m \u001b[0;34m\u001b[0m\u001b[0m\n\u001b[0;32m---> 11\u001b[0;31m     \u001b[0mwords\u001b[0m \u001b[0;34m+=\u001b[0m \u001b[0mnormalize_text\u001b[0m\u001b[0;34m(\u001b[0m\u001b[0mrow\u001b[0m\u001b[0;34m.\u001b[0m\u001b[0mtext\u001b[0m\u001b[0;34m)\u001b[0m\u001b[0;34m\u001b[0m\u001b[0m\n\u001b[0m\u001b[1;32m     12\u001b[0m \u001b[0;34m\u001b[0m\u001b[0m\n\u001b[1;32m     13\u001b[0m \u001b[0;32mprint\u001b[0m \u001b[0;34m\"Number of words: {}\"\u001b[0m\u001b[0;34m.\u001b[0m\u001b[0mformat\u001b[0m\u001b[0;34m(\u001b[0m\u001b[0mlen\u001b[0m\u001b[0;34m(\u001b[0m\u001b[0mwords\u001b[0m\u001b[0;34m)\u001b[0m\u001b[0;34m)\u001b[0m\u001b[0;34m\u001b[0m\u001b[0m\n",
        "\u001b[0;32m<ipython-input-68-9231c2effc2e>\u001b[0m in \u001b[0;36mnormalize_text\u001b[0;34m(text)\u001b[0m\n\u001b[1;32m      4\u001b[0m \u001b[0;34m\u001b[0m\u001b[0m\n\u001b[1;32m      5\u001b[0m \u001b[0;32mdef\u001b[0m \u001b[0mnormalize_text\u001b[0m\u001b[0;34m(\u001b[0m\u001b[0mtext\u001b[0m\u001b[0;34m)\u001b[0m\u001b[0;34m:\u001b[0m\u001b[0;34m\u001b[0m\u001b[0m\n\u001b[0;32m----> 6\u001b[0;31m     \u001b[0;32mreturn\u001b[0m \u001b[0;34m[\u001b[0m\u001b[0mword\u001b[0m \u001b[0;32mfor\u001b[0m \u001b[0mword\u001b[0m \u001b[0;32min\u001b[0m \u001b[0mgensim\u001b[0m\u001b[0;34m.\u001b[0m\u001b[0mutils\u001b[0m\u001b[0;34m.\u001b[0m\u001b[0mtokenize\u001b[0m\u001b[0;34m(\u001b[0m\u001b[0mtext\u001b[0m\u001b[0;34m,\u001b[0m \u001b[0mlower\u001b[0m\u001b[0;34m=\u001b[0m\u001b[0mTrue\u001b[0m\u001b[0;34m)\u001b[0m \u001b[0;32mif\u001b[0m \u001b[0mword\u001b[0m \u001b[0;32mnot\u001b[0m \u001b[0;32min\u001b[0m \u001b[0mSTOPWORDS\u001b[0m \u001b[0;32mand\u001b[0m \u001b[0mlen\u001b[0m\u001b[0;34m(\u001b[0m\u001b[0mword\u001b[0m\u001b[0;34m)\u001b[0m \u001b[0;34m>=\u001b[0m \u001b[0;36m3\u001b[0m\u001b[0;34m]\u001b[0m\u001b[0;34m\u001b[0m\u001b[0m\n\u001b[0m\u001b[1;32m      7\u001b[0m \u001b[0;34m\u001b[0m\u001b[0m\n\u001b[1;32m      8\u001b[0m \u001b[0;34m\u001b[0m\u001b[0m\n",
        "\u001b[0;32m/Users/twaltze/anaconda/lib/python2.7/site-packages/gensim/utils.pyc\u001b[0m in \u001b[0;36mtokenize\u001b[0;34m(text, lowercase, deacc, errors, to_lower, lower)\u001b[0m\n\u001b[1;32m    153\u001b[0m     \"\"\"\n\u001b[1;32m    154\u001b[0m     \u001b[0mlowercase\u001b[0m \u001b[0;34m=\u001b[0m \u001b[0mlowercase\u001b[0m \u001b[0;32mor\u001b[0m \u001b[0mto_lower\u001b[0m \u001b[0;32mor\u001b[0m \u001b[0mlower\u001b[0m\u001b[0;34m\u001b[0m\u001b[0m\n\u001b[0;32m--> 155\u001b[0;31m     \u001b[0mtext\u001b[0m \u001b[0;34m=\u001b[0m \u001b[0mto_unicode\u001b[0m\u001b[0;34m(\u001b[0m\u001b[0mtext\u001b[0m\u001b[0;34m,\u001b[0m \u001b[0merrors\u001b[0m\u001b[0;34m=\u001b[0m\u001b[0merrors\u001b[0m\u001b[0;34m)\u001b[0m\u001b[0;34m\u001b[0m\u001b[0m\n\u001b[0m\u001b[1;32m    156\u001b[0m     \u001b[0;32mif\u001b[0m \u001b[0mlowercase\u001b[0m\u001b[0;34m:\u001b[0m\u001b[0;34m\u001b[0m\u001b[0m\n\u001b[1;32m    157\u001b[0m         \u001b[0mtext\u001b[0m \u001b[0;34m=\u001b[0m \u001b[0mtext\u001b[0m\u001b[0;34m.\u001b[0m\u001b[0mlower\u001b[0m\u001b[0;34m(\u001b[0m\u001b[0;34m)\u001b[0m\u001b[0;34m\u001b[0m\u001b[0m\n",
        "\u001b[0;32m/Users/twaltze/anaconda/lib/python2.7/site-packages/gensim/utils.pyc\u001b[0m in \u001b[0;36many2unicode\u001b[0;34m(text, encoding, errors)\u001b[0m\n\u001b[1;32m    188\u001b[0m     \u001b[0;32mif\u001b[0m \u001b[0misinstance\u001b[0m\u001b[0;34m(\u001b[0m\u001b[0mtext\u001b[0m\u001b[0;34m,\u001b[0m \u001b[0municode\u001b[0m\u001b[0;34m)\u001b[0m\u001b[0;34m:\u001b[0m\u001b[0;34m\u001b[0m\u001b[0m\n\u001b[1;32m    189\u001b[0m         \u001b[0;32mreturn\u001b[0m \u001b[0mtext\u001b[0m\u001b[0;34m\u001b[0m\u001b[0m\n\u001b[0;32m--> 190\u001b[0;31m     \u001b[0;32mreturn\u001b[0m \u001b[0municode\u001b[0m\u001b[0;34m(\u001b[0m\u001b[0mtext\u001b[0m\u001b[0;34m,\u001b[0m \u001b[0mencoding\u001b[0m\u001b[0;34m,\u001b[0m \u001b[0merrors\u001b[0m\u001b[0;34m=\u001b[0m\u001b[0merrors\u001b[0m\u001b[0;34m)\u001b[0m\u001b[0;34m\u001b[0m\u001b[0m\n\u001b[0m\u001b[1;32m    191\u001b[0m \u001b[0mto_unicode\u001b[0m \u001b[0;34m=\u001b[0m \u001b[0many2unicode\u001b[0m\u001b[0;34m\u001b[0m\u001b[0m\n\u001b[1;32m    192\u001b[0m \u001b[0;34m\u001b[0m\u001b[0m\n",
        "\u001b[0;31mTypeError\u001b[0m: coercing to Unicode: need string or buffer, float found"
       ]
      }
     ],
     "prompt_number": 75
    },
    {
     "cell_type": "code",
     "collapsed": false,
     "input": [
      "print \"Number of words: {}\".format(len(words))"
     ],
     "language": "python",
     "metadata": {},
     "outputs": [
      {
       "output_type": "stream",
       "stream": "stdout",
       "text": [
        "Number of words: 50605745\n"
       ]
      }
     ],
     "prompt_number": 76
    },
    {
     "cell_type": "code",
     "collapsed": false,
     "input": [
      "# Generate a count of each word\n",
      "word_counter = Counter()\n",
      "row_count = float(len(words))\n",
      "last_percent = 0\n",
      "for index, word in enumerate(words):\n",
      "    p = int(index / row_count * 100)\n",
      "    if p > last_percent and p % 10 == 0:\n",
      "        last_percent = p\n",
      "        print \"{}%\".format(last_percent);\n",
      "        \n",
      "    word_counter[word] += 1"
     ],
     "language": "python",
     "metadata": {},
     "outputs": [
      {
       "output_type": "stream",
       "stream": "stdout",
       "text": [
        "10%\n",
        "20%"
       ]
      },
      {
       "output_type": "stream",
       "stream": "stdout",
       "text": [
        "\n",
        "30%"
       ]
      },
      {
       "output_type": "stream",
       "stream": "stdout",
       "text": [
        "\n",
        "40%"
       ]
      },
      {
       "output_type": "stream",
       "stream": "stdout",
       "text": [
        "\n",
        "50%"
       ]
      },
      {
       "output_type": "stream",
       "stream": "stdout",
       "text": [
        "\n",
        "60%"
       ]
      },
      {
       "output_type": "stream",
       "stream": "stdout",
       "text": [
        "\n",
        "70%"
       ]
      },
      {
       "output_type": "stream",
       "stream": "stdout",
       "text": [
        "\n",
        "80%"
       ]
      },
      {
       "output_type": "stream",
       "stream": "stdout",
       "text": [
        "\n",
        "90%"
       ]
      },
      {
       "output_type": "stream",
       "stream": "stdout",
       "text": [
        "\n"
       ]
      }
     ],
     "prompt_number": 77
    },
    {
     "cell_type": "code",
     "collapsed": false,
     "input": [
      "# Words, sorted by frequency\n",
      "word_counts = pd.DataFrame(dict(word_counter).items(), columns=['Word', 'Count']).sort(['Count'], ascending=False)\n",
      "word_counts.index = range(1, len(word_counts) + 1)\n",
      "word_counts.head(10)"
     ],
     "language": "python",
     "metadata": {},
     "outputs": [
      {
       "html": [
        "<div style=\"max-height:1000px;max-width:1500px;overflow:auto;\">\n",
        "<table border=\"1\" class=\"dataframe\">\n",
        "  <thead>\n",
        "    <tr style=\"text-align: right;\">\n",
        "      <th></th>\n",
        "      <th>Word</th>\n",
        "      <th>Count</th>\n",
        "    </tr>\n",
        "  </thead>\n",
        "  <tbody>\n",
        "    <tr>\n",
        "      <th>1 </th>\n",
        "      <td>       food</td>\n",
        "      <td> 772617</td>\n",
        "    </tr>\n",
        "    <tr>\n",
        "      <th>2 </th>\n",
        "      <td>       good</td>\n",
        "      <td> 706872</td>\n",
        "    </tr>\n",
        "    <tr>\n",
        "      <th>3 </th>\n",
        "      <td>      place</td>\n",
        "      <td> 609113</td>\n",
        "    </tr>\n",
        "    <tr>\n",
        "      <th>4 </th>\n",
        "      <td>      great</td>\n",
        "      <td> 466102</td>\n",
        "    </tr>\n",
        "    <tr>\n",
        "      <th>5 </th>\n",
        "      <td>       like</td>\n",
        "      <td> 425925</td>\n",
        "    </tr>\n",
        "    <tr>\n",
        "      <th>6 </th>\n",
        "      <td>    service</td>\n",
        "      <td> 381031</td>\n",
        "    </tr>\n",
        "    <tr>\n",
        "      <th>7 </th>\n",
        "      <td>       time</td>\n",
        "      <td> 317587</td>\n",
        "    </tr>\n",
        "    <tr>\n",
        "      <th>8 </th>\n",
        "      <td> restaurant</td>\n",
        "      <td> 237335</td>\n",
        "    </tr>\n",
        "    <tr>\n",
        "      <th>9 </th>\n",
        "      <td>    ordered</td>\n",
        "      <td> 234034</td>\n",
        "    </tr>\n",
        "    <tr>\n",
        "      <th>10</th>\n",
        "      <td>    chicken</td>\n",
        "      <td> 214049</td>\n",
        "    </tr>\n",
        "  </tbody>\n",
        "</table>\n",
        "</div>"
       ],
       "metadata": {},
       "output_type": "pyout",
       "prompt_number": 78,
       "text": [
        "          Word   Count\n",
        "1         food  772617\n",
        "2         good  706872\n",
        "3        place  609113\n",
        "4        great  466102\n",
        "5         like  425925\n",
        "6      service  381031\n",
        "7         time  317587\n",
        "8   restaurant  237335\n",
        "9      ordered  234034\n",
        "10     chicken  214049"
       ]
      }
     ],
     "prompt_number": 78
    },
    {
     "cell_type": "code",
     "collapsed": false,
     "input": [
      "print \"Number of restaurants: {}\".format(len(rest_id))\n",
      "\n",
      "# Restaurants with a large number of reviews\n",
      "rest_lots_of_reviews = data_rest[data_rest['review_count'] > 250]\n",
      "print \"Number of restaurants with > 250 reviews: {}\".format(len(rest_lots_of_reviews))"
     ],
     "language": "python",
     "metadata": {},
     "outputs": [
      {
       "output_type": "stream",
       "stream": "stdout",
       "text": [
        "Number of restaurants: 21892\n",
        "Number of restaurants with > 250 reviews: 710\n"
       ]
      }
     ],
     "prompt_number": 194
    },
    {
     "cell_type": "code",
     "collapsed": false,
     "input": [
      "sns.set_context(\"talk\", font_scale=1.25)\n",
      "sns.barplot (rest_lots_of_reviews.index, rest_lots_of_reviews['review_count'])\n",
      "plt.title(\"Review Count Distribution\")\n",
      "plt.xlabel(\"Restaurant\")\n",
      "plt.ylabel(\"Number of Reviews\")\n",
      "plt.show()"
     ],
     "language": "python",
     "metadata": {},
     "outputs": [
      {
       "metadata": {},
       "output_type": "display_data",
       "png": "[encoded data removed]",
       "text": [
        "<matplotlib.figure.Figure at 0x193465c90>"
       ]
      }
     ],
     "prompt_number": 197
    },
    {
     "cell_type": "code",
     "collapsed": false,
     "input": [
      "#########################################################\n",
      "#\n",
      "# The restaurant being explored\n",
      "#\n",
      "#########################################################\n",
      "\n",
      "rest = 1\n",
      "\n",
      "full_review_for_rest = rest_reviews[rest_reviews['business_id'] == rest_id[rest]]\n",
      "full_review_for_rest.index = range(0, len(full_review_for_rest))\n",
      "\n",
      "review_for_rest = full_review_for_rest['text'].values\n",
      "\n",
      "print \"Number of reviews: {}\".format(len(review_for_rest))\n",
      "print \"First review: {}\".format(review_for_rest[0])\n",
      "\n",
      "full_review_for_rest"
     ],
     "language": "python",
     "metadata": {},
     "outputs": [
      {
       "output_type": "stream",
       "stream": "stdout",
       "text": [
        "Number of reviews: 4137\n",
        "First review: Excellent food, great atmosphere, a bit noisy.  $$\n"
       ]
      },
      {
       "html": [
        "<div style=\"max-height:1000px;max-width:1500px;overflow:auto;\">\n",
        "<table border=\"1\" class=\"dataframe\">\n",
        "  <thead>\n",
        "    <tr style=\"text-align: right;\">\n",
        "      <th></th>\n",
        "      <th>business_id</th>\n",
        "      <th>date</th>\n",
        "      <th>review_id</th>\n",
        "      <th>stars</th>\n",
        "      <th>text</th>\n",
        "      <th>type</th>\n",
        "      <th>user_id</th>\n",
        "      <th>votes_cool</th>\n",
        "      <th>votes_funny</th>\n",
        "      <th>votes_useful</th>\n",
        "    </tr>\n",
        "  </thead>\n",
        "  <tbody>\n",
        "    <tr>\n",
        "      <th>0   </th>\n",
        "      <td> 4bEjOyTaDG24SY5TxsaUNQ</td>\n",
        "      <td> 2005-06-23</td>\n",
        "      <td> UpKdXO3jEElnqtsWjYxQ2w</td>\n",
        "      <td> 5</td>\n",
        "      <td> Excellent food, great atmosphere, a bit noisy....</td>\n",
        "      <td> review</td>\n",
        "      <td> LAOHN2Z6INbwuGa3fx9UTw</td>\n",
        "      <td> 0</td>\n",
        "      <td> 0</td>\n",
        "      <td> 0</td>\n",
        "    </tr>\n",
        "    <tr>\n",
        "      <th>1   </th>\n",
        "      <td> 4bEjOyTaDG24SY5TxsaUNQ</td>\n",
        "      <td> 2005-10-10</td>\n",
        "      <td> qYJV5kIViwer1P1Cb2OSfw</td>\n",
        "      <td> 5</td>\n",
        "      <td> If you enjoy a little people watching with you...</td>\n",
        "      <td> review</td>\n",
        "      <td> H43f_rD3czq0UqY-4zhWjA</td>\n",
        "      <td> 0</td>\n",
        "      <td> 0</td>\n",
        "      <td> 0</td>\n",
        "    </tr>\n",
        "    <tr>\n",
        "      <th>2   </th>\n",
        "      <td> 4bEjOyTaDG24SY5TxsaUNQ</td>\n",
        "      <td> 2005-10-14</td>\n",
        "      <td> dvSLFLzijuT5HLRlmt5FaA</td>\n",
        "      <td> 5</td>\n",
        "      <td> affordable, fairly classic french food\\n\\nsit ...</td>\n",
        "      <td> review</td>\n",
        "      <td> ytjqLRFobRxl0DDJgoR-Eg</td>\n",
        "      <td> 2</td>\n",
        "      <td> 2</td>\n",
        "      <td> 2</td>\n",
        "    </tr>\n",
        "    <tr>\n",
        "      <th>3   </th>\n",
        "      <td> 4bEjOyTaDG24SY5TxsaUNQ</td>\n",
        "      <td> 2005-12-02</td>\n",
        "      <td> y79Q4oMPl-7yFvAIhep18g</td>\n",
        "      <td> 4</td>\n",
        "      <td> Though heartbroken and a bit aimless on my 22n...</td>\n",
        "      <td> review</td>\n",
        "      <td> pW91HUnVz6ssLZ4dY-ztyQ</td>\n",
        "      <td> 3</td>\n",
        "      <td> 2</td>\n",
        "      <td> 3</td>\n",
        "    </tr>\n",
        "    <tr>\n",
        "      <th>4   </th>\n",
        "      <td> 4bEjOyTaDG24SY5TxsaUNQ</td>\n",
        "      <td> 2006-01-07</td>\n",
        "      <td> yZ-XOxrnx9QKGCgDxIFRag</td>\n",
        "      <td> 4</td>\n",
        "      <td> The food and wine was amazing, but the super h...</td>\n",
        "      <td> review</td>\n",
        "      <td> aoxuw-XpJYIX1-R0TUS7CQ</td>\n",
        "      <td> 0</td>\n",
        "      <td> 0</td>\n",
        "      <td> 1</td>\n",
        "    </tr>\n",
        "    <tr>\n",
        "      <th>5   </th>\n",
        "      <td> 4bEjOyTaDG24SY5TxsaUNQ</td>\n",
        "      <td> 2006-01-31</td>\n",
        "      <td> M6U9acJkmCXZkEvIIDFtfQ</td>\n",
        "      <td> 5</td>\n",
        "      <td> Yippy!  Make-your-own bloody mary bar! Chose t...</td>\n",
        "      <td> review</td>\n",
        "      <td> DeBP40aPIRv3h1ED17X4Qg</td>\n",
        "      <td> 0</td>\n",
        "      <td> 1</td>\n",
        "      <td> 0</td>\n",
        "    </tr>\n",
        "    <tr>\n",
        "      <th>6   </th>\n",
        "      <td> 4bEjOyTaDG24SY5TxsaUNQ</td>\n",
        "      <td> 2006-04-22</td>\n",
        "      <td> Uo4q_BixeeOSxeQ_J6PpJQ</td>\n",
        "      <td> 4</td>\n",
        "      <td> I went here for a team function on one of the ...</td>\n",
        "      <td> review</td>\n",
        "      <td> YyPncV7fwWflne10BiCf6Q</td>\n",
        "      <td> 1</td>\n",
        "      <td> 0</td>\n",
        "      <td> 1</td>\n",
        "    </tr>\n",
        "    <tr>\n",
        "      <th>7   </th>\n",
        "      <td> 4bEjOyTaDG24SY5TxsaUNQ</td>\n",
        "      <td> 2006-05-15</td>\n",
        "      <td> BUIPvd1tX3uec9FxPadlRQ</td>\n",
        "      <td> 3</td>\n",
        "      <td> An affordable dining experience in Paris, I me...</td>\n",
        "      <td> review</td>\n",
        "      <td> XL9D0wXPLcmNox-d9XDfTg</td>\n",
        "      <td> 0</td>\n",
        "      <td> 0</td>\n",
        "      <td> 0</td>\n",
        "    </tr>\n",
        "    <tr>\n",
        "      <th>8   </th>\n",
        "      <td> 4bEjOyTaDG24SY5TxsaUNQ</td>\n",
        "      <td> 2006-05-17</td>\n",
        "      <td> x2j-fYaELCi1Ih-vaw9LEw</td>\n",
        "      <td> 5</td>\n",
        "      <td> Definitely one of my favorites on the Strip! I...</td>\n",
        "      <td> review</td>\n",
        "      <td> 91e8Cg7Vqj7G5XEXK3uaYA</td>\n",
        "      <td> 0</td>\n",
        "      <td> 0</td>\n",
        "      <td> 0</td>\n",
        "    </tr>\n",
        "    <tr>\n",
        "      <th>9   </th>\n",
        "      <td> 4bEjOyTaDG24SY5TxsaUNQ</td>\n",
        "      <td> 2006-06-22</td>\n",
        "      <td> JqJZ6XoHJ8Gwc0GpFcgeaA</td>\n",
        "      <td> 5</td>\n",
        "      <td> What great friends I have..... We ate at Mon A...</td>\n",
        "      <td> review</td>\n",
        "      <td> 3lPLOLeeJVyJFtLphJ6xzA</td>\n",
        "      <td> 1</td>\n",
        "      <td> 0</td>\n",
        "      <td> 2</td>\n",
        "    </tr>\n",
        "    <tr>\n",
        "      <th>10  </th>\n",
        "      <td> 4bEjOyTaDG24SY5TxsaUNQ</td>\n",
        "      <td> 2006-07-24</td>\n",
        "      <td> nSeCNcqo62XmkrTnSR6r4g</td>\n",
        "      <td> 5</td>\n",
        "      <td> Very good. There is a bunch of tourist trap bu...</td>\n",
        "      <td> review</td>\n",
        "      <td> 2Z653F4UvqDIFrY52skFwA</td>\n",
        "      <td> 0</td>\n",
        "      <td> 0</td>\n",
        "      <td> 0</td>\n",
        "    </tr>\n",
        "    <tr>\n",
        "      <th>11  </th>\n",
        "      <td> 4bEjOyTaDG24SY5TxsaUNQ</td>\n",
        "      <td> 2006-08-09</td>\n",
        "      <td> vsXgn4FMW4ilHE3yAzHBOA</td>\n",
        "      <td> 5</td>\n",
        "      <td> Mon Ami Gabi(Paris hotel) The restaurant is ni...</td>\n",
        "      <td> review</td>\n",
        "      <td> Rv1RJzehpr3fEa6kEGTYcw</td>\n",
        "      <td> 0</td>\n",
        "      <td> 0</td>\n",
        "      <td> 2</td>\n",
        "    </tr>\n",
        "    <tr>\n",
        "      <th>12  </th>\n",
        "      <td> 4bEjOyTaDG24SY5TxsaUNQ</td>\n",
        "      <td> 2006-09-11</td>\n",
        "      <td> j0J_tU7FdXMJpWkg9flwkg</td>\n",
        "      <td> 4</td>\n",
        "      <td> Overall, a great restaurant! Not too overprice...</td>\n",
        "      <td> review</td>\n",
        "      <td> NhP0IQNpZkw6tQ0drfd-qQ</td>\n",
        "      <td> 2</td>\n",
        "      <td> 0</td>\n",
        "      <td> 2</td>\n",
        "    </tr>\n",
        "    <tr>\n",
        "      <th>13  </th>\n",
        "      <td> 4bEjOyTaDG24SY5TxsaUNQ</td>\n",
        "      <td> 2006-09-12</td>\n",
        "      <td> hr1WaVNAxzdjxw3Gs9Q4SA</td>\n",
        "      <td> 2</td>\n",
        "      <td> Do they have to have frites with every entree?...</td>\n",
        "      <td> review</td>\n",
        "      <td> A-X8mZHmZOfcr8IVEowaOw</td>\n",
        "      <td> 0</td>\n",
        "      <td> 0</td>\n",
        "      <td> 0</td>\n",
        "    </tr>\n",
        "    <tr>\n",
        "      <th>14  </th>\n",
        "      <td> 4bEjOyTaDG24SY5TxsaUNQ</td>\n",
        "      <td> 2006-09-18</td>\n",
        "      <td> eKG8daI6ZoajAq2XsAwfYA</td>\n",
        "      <td> 5</td>\n",
        "      <td> This is a great place for brunch -- we ended u...</td>\n",
        "      <td> review</td>\n",
        "      <td> ytcTacpqKG3ZeEzV0LfWkw</td>\n",
        "      <td> 0</td>\n",
        "      <td> 0</td>\n",
        "      <td> 0</td>\n",
        "    </tr>\n",
        "    <tr>\n",
        "      <th>15  </th>\n",
        "      <td> 4bEjOyTaDG24SY5TxsaUNQ</td>\n",
        "      <td> 2006-10-01</td>\n",
        "      <td> QZhwMuGaITFU3v_qKbT38Q</td>\n",
        "      <td> 4</td>\n",
        "      <td> Slightly noisy but great food in Vegas at a ve...</td>\n",
        "      <td> review</td>\n",
        "      <td> 36CYHxqSj5iOzTiSFqw3yw</td>\n",
        "      <td> 0</td>\n",
        "      <td> 0</td>\n",
        "      <td> 0</td>\n",
        "    </tr>\n",
        "    <tr>\n",
        "      <th>16  </th>\n",
        "      <td> 4bEjOyTaDG24SY5TxsaUNQ</td>\n",
        "      <td> 2006-10-28</td>\n",
        "      <td> LxzlgL4iNRWu0TXvRbDcdg</td>\n",
        "      <td> 4</td>\n",
        "      <td> i had a very rare medium rare fillet mignon he...</td>\n",
        "      <td> review</td>\n",
        "      <td> YFpv_GwOh3-YUHs1v2TTMQ</td>\n",
        "      <td> 0</td>\n",
        "      <td> 0</td>\n",
        "      <td> 0</td>\n",
        "    </tr>\n",
        "    <tr>\n",
        "      <th>17  </th>\n",
        "      <td> 4bEjOyTaDG24SY5TxsaUNQ</td>\n",
        "      <td> 2006-11-04</td>\n",
        "      <td> emyc6wdfati_QJLfCfseEQ</td>\n",
        "      <td> 5</td>\n",
        "      <td> I love how many of my favorite restaurants in ...</td>\n",
        "      <td> review</td>\n",
        "      <td> k1E-ukaSH2sMI4VFKBxTMg</td>\n",
        "      <td> 0</td>\n",
        "      <td> 0</td>\n",
        "      <td> 0</td>\n",
        "    </tr>\n",
        "    <tr>\n",
        "      <th>18  </th>\n",
        "      <td> 4bEjOyTaDG24SY5TxsaUNQ</td>\n",
        "      <td> 2006-12-18</td>\n",
        "      <td> JZFSu3-Iw-O1SL8dv2l_AQ</td>\n",
        "      <td> 5</td>\n",
        "      <td> amazing french restaurant in the paris hotel. ...</td>\n",
        "      <td> review</td>\n",
        "      <td> RlppHxlxAAuznZLk05STWw</td>\n",
        "      <td> 0</td>\n",
        "      <td> 0</td>\n",
        "      <td> 0</td>\n",
        "    </tr>\n",
        "    <tr>\n",
        "      <th>19  </th>\n",
        "      <td> 4bEjOyTaDG24SY5TxsaUNQ</td>\n",
        "      <td> 2007-01-15</td>\n",
        "      <td> c9G3tYNe4Em755btMTcwgA</td>\n",
        "      <td> 4</td>\n",
        "      <td> 2nd time eating here.  They actually had our r...</td>\n",
        "      <td> review</td>\n",
        "      <td> sCEiecf7LRf4QQE3ESESzQ</td>\n",
        "      <td> 0</td>\n",
        "      <td> 0</td>\n",
        "      <td> 0</td>\n",
        "    </tr>\n",
        "    <tr>\n",
        "      <th>20  </th>\n",
        "      <td> 4bEjOyTaDG24SY5TxsaUNQ</td>\n",
        "      <td> 2007-01-30</td>\n",
        "      <td> ydh-BY6Mbb2xsv8e0OUmYQ</td>\n",
        "      <td> 4</td>\n",
        "      <td> Get the Filet Mignon with Merlot Butter. Rare....</td>\n",
        "      <td> review</td>\n",
        "      <td> Zff7xm0J-C7hV1z3j-JipQ</td>\n",
        "      <td> 3</td>\n",
        "      <td> 0</td>\n",
        "      <td> 1</td>\n",
        "    </tr>\n",
        "    <tr>\n",
        "      <th>21  </th>\n",
        "      <td> 4bEjOyTaDG24SY5TxsaUNQ</td>\n",
        "      <td> 2007-02-04</td>\n",
        "      <td> vjbR6_Lfto3ei9roWk9kOw</td>\n",
        "      <td> 4</td>\n",
        "      <td> Vegas closes down early, and there aren't many...</td>\n",
        "      <td> review</td>\n",
        "      <td> WUkNdZo_4BRN-SBLhj_kEQ</td>\n",
        "      <td> 1</td>\n",
        "      <td> 0</td>\n",
        "      <td> 1</td>\n",
        "    </tr>\n",
        "    <tr>\n",
        "      <th>22  </th>\n",
        "      <td> 4bEjOyTaDG24SY5TxsaUNQ</td>\n",
        "      <td> 2007-02-14</td>\n",
        "      <td> sW6bx41XmdWrEdU7uaQsQA</td>\n",
        "      <td> 5</td>\n",
        "      <td> I'm always a little leery about casino restaur...</td>\n",
        "      <td> review</td>\n",
        "      <td> zg6oozx1VoplOHqJv6_Caw</td>\n",
        "      <td> 0</td>\n",
        "      <td> 0</td>\n",
        "      <td> 0</td>\n",
        "    </tr>\n",
        "    <tr>\n",
        "      <th>23  </th>\n",
        "      <td> 4bEjOyTaDG24SY5TxsaUNQ</td>\n",
        "      <td> 2007-02-27</td>\n",
        "      <td> CU030SXV9Fbx-TaYAmU9iQ</td>\n",
        "      <td> 5</td>\n",
        "      <td> My experience at Mon Ami Gabi was amazing, and...</td>\n",
        "      <td> review</td>\n",
        "      <td> A-10oCwm2KwKmpnciAyr-Q</td>\n",
        "      <td> 0</td>\n",
        "      <td> 0</td>\n",
        "      <td> 0</td>\n",
        "    </tr>\n",
        "    <tr>\n",
        "      <th>24  </th>\n",
        "      <td> 4bEjOyTaDG24SY5TxsaUNQ</td>\n",
        "      <td> 2007-03-07</td>\n",
        "      <td> coOIzmF1TD9BugV_GmoNZw</td>\n",
        "      <td> 3</td>\n",
        "      <td> Ate lunch here twice the past week when I was ...</td>\n",
        "      <td> review</td>\n",
        "      <td> rgOxYEKBKJTRCIXkKsyzRA</td>\n",
        "      <td> 0</td>\n",
        "      <td> 0</td>\n",
        "      <td> 1</td>\n",
        "    </tr>\n",
        "    <tr>\n",
        "      <th>25  </th>\n",
        "      <td> 4bEjOyTaDG24SY5TxsaUNQ</td>\n",
        "      <td> 2007-03-15</td>\n",
        "      <td> ZiYJGL3WXdAktRkhPMlORw</td>\n",
        "      <td> 4</td>\n",
        "      <td> really cool location at the paris las vegas ho...</td>\n",
        "      <td> review</td>\n",
        "      <td> PcvM36PP4-PD9DatUyFGrQ</td>\n",
        "      <td> 0</td>\n",
        "      <td> 0</td>\n",
        "      <td> 1</td>\n",
        "    </tr>\n",
        "    <tr>\n",
        "      <th>26  </th>\n",
        "      <td> 4bEjOyTaDG24SY5TxsaUNQ</td>\n",
        "      <td> 2007-03-16</td>\n",
        "      <td> udVEWgK-MZtGfzE8anQtJw</td>\n",
        "      <td> 5</td>\n",
        "      <td> The outdoor seating is a must!  If you get the...</td>\n",
        "      <td> review</td>\n",
        "      <td> vIarl8ycm9ZHpssp5pSgjw</td>\n",
        "      <td> 0</td>\n",
        "      <td> 0</td>\n",
        "      <td> 1</td>\n",
        "    </tr>\n",
        "    <tr>\n",
        "      <th>27  </th>\n",
        "      <td> 4bEjOyTaDG24SY5TxsaUNQ</td>\n",
        "      <td> 2007-04-03</td>\n",
        "      <td> YuA91f72Nn8RvL31KXo0hQ</td>\n",
        "      <td> 5</td>\n",
        "      <td> LUNCH - Mon Ami Gabi has pretty tasty food acc...</td>\n",
        "      <td> review</td>\n",
        "      <td> QKznf6dT3owHD1LUDxXU7Q</td>\n",
        "      <td> 0</td>\n",
        "      <td> 1</td>\n",
        "      <td> 4</td>\n",
        "    </tr>\n",
        "    <tr>\n",
        "      <th>28  </th>\n",
        "      <td> 4bEjOyTaDG24SY5TxsaUNQ</td>\n",
        "      <td> 2007-04-09</td>\n",
        "      <td> Fn9aOciLur4GVHmQel5i-g</td>\n",
        "      <td> 4</td>\n",
        "      <td> Yes, it's a LEY restaurant, of which there are...</td>\n",
        "      <td> review</td>\n",
        "      <td> q15hfv2bSgK4lc4VIag12Q</td>\n",
        "      <td> 0</td>\n",
        "      <td> 0</td>\n",
        "      <td> 0</td>\n",
        "    </tr>\n",
        "    <tr>\n",
        "      <th>29  </th>\n",
        "      <td> 4bEjOyTaDG24SY5TxsaUNQ</td>\n",
        "      <td> 2007-04-11</td>\n",
        "      <td> sziAYitBybiqrNZ8loGIvA</td>\n",
        "      <td> 4</td>\n",
        "      <td> I've been to a lot of restaurants in LV.  At o...</td>\n",
        "      <td> review</td>\n",
        "      <td> Q6wwHCb-SawZ54xPa1NwSQ</td>\n",
        "      <td> 1</td>\n",
        "      <td> 0</td>\n",
        "      <td> 2</td>\n",
        "    </tr>\n",
        "    <tr>\n",
        "      <th>...</th>\n",
        "      <td>...</td>\n",
        "      <td>...</td>\n",
        "      <td>...</td>\n",
        "      <td>...</td>\n",
        "      <td>...</td>\n",
        "      <td>...</td>\n",
        "      <td>...</td>\n",
        "      <td>...</td>\n",
        "      <td>...</td>\n",
        "      <td>...</td>\n",
        "    </tr>\n",
        "    <tr>\n",
        "      <th>4107</th>\n",
        "      <td> 4bEjOyTaDG24SY5TxsaUNQ</td>\n",
        "      <td> 2014-12-30</td>\n",
        "      <td> 7FL8NOI-LTC9D-iJQMna1g</td>\n",
        "      <td> 1</td>\n",
        "      <td> I come here a lot. And by a lot I mean once ev...</td>\n",
        "      <td> review</td>\n",
        "      <td> vauexhT5cQeLjMPlARFR7A</td>\n",
        "      <td> 0</td>\n",
        "      <td> 0</td>\n",
        "      <td> 0</td>\n",
        "    </tr>\n",
        "    <tr>\n",
        "      <th>4108</th>\n",
        "      <td> 4bEjOyTaDG24SY5TxsaUNQ</td>\n",
        "      <td> 2014-12-31</td>\n",
        "      <td> 6pl0qDB494vIVu1q7NOYAw</td>\n",
        "      <td> 4</td>\n",
        "      <td> The solarium is one of my favorite brunch spot...</td>\n",
        "      <td> review</td>\n",
        "      <td> FOCkDPY4xk3gmyRXi0bt7Q</td>\n",
        "      <td> 0</td>\n",
        "      <td> 0</td>\n",
        "      <td> 0</td>\n",
        "    </tr>\n",
        "    <tr>\n",
        "      <th>4109</th>\n",
        "      <td> 4bEjOyTaDG24SY5TxsaUNQ</td>\n",
        "      <td> 2014-12-31</td>\n",
        "      <td> 2Lvh8fJtBKfzDqNSl4MzJQ</td>\n",
        "      <td> 2</td>\n",
        "      <td> My girlfriend and I were very excited to try M...</td>\n",
        "      <td> review</td>\n",
        "      <td> e5GjoQdd48kkpXNFByjLDA</td>\n",
        "      <td> 0</td>\n",
        "      <td> 0</td>\n",
        "      <td> 0</td>\n",
        "    </tr>\n",
        "    <tr>\n",
        "      <th>4110</th>\n",
        "      <td> 4bEjOyTaDG24SY5TxsaUNQ</td>\n",
        "      <td> 2015-01-01</td>\n",
        "      <td> efmZNi4m5Fh7ruLqKH0UXw</td>\n",
        "      <td> 5</td>\n",
        "      <td> Prime central location.  A perfect dining plac...</td>\n",
        "      <td> review</td>\n",
        "      <td> BoRCrpJDnzRW3_plEA-Fhg</td>\n",
        "      <td> 0</td>\n",
        "      <td> 0</td>\n",
        "      <td> 0</td>\n",
        "    </tr>\n",
        "    <tr>\n",
        "      <th>4111</th>\n",
        "      <td> 4bEjOyTaDG24SY5TxsaUNQ</td>\n",
        "      <td> 2015-01-01</td>\n",
        "      <td> yIcGH0lI3-UtsaMv9FHnYA</td>\n",
        "      <td> 4</td>\n",
        "      <td> This is my go-to spot for brunch in Las Vegas,...</td>\n",
        "      <td> review</td>\n",
        "      <td> GUvoTuKMlubhhkBySRTBog</td>\n",
        "      <td> 0</td>\n",
        "      <td> 0</td>\n",
        "      <td> 0</td>\n",
        "    </tr>\n",
        "    <tr>\n",
        "      <th>4112</th>\n",
        "      <td> 4bEjOyTaDG24SY5TxsaUNQ</td>\n",
        "      <td> 2015-01-01</td>\n",
        "      <td> tAEjUDvjSY4m1g7aOnSXpQ</td>\n",
        "      <td> 5</td>\n",
        "      <td> My second visit here and it deserves a review....</td>\n",
        "      <td> review</td>\n",
        "      <td> c4VzZ8g-i_bTdVf0nCp_uA</td>\n",
        "      <td> 0</td>\n",
        "      <td> 0</td>\n",
        "      <td> 0</td>\n",
        "    </tr>\n",
        "    <tr>\n",
        "      <th>4113</th>\n",
        "      <td> 4bEjOyTaDG24SY5TxsaUNQ</td>\n",
        "      <td> 2015-01-01</td>\n",
        "      <td> nj1wPYQIwbfXvO68l7HK_w</td>\n",
        "      <td> 4</td>\n",
        "      <td> Pleasantly surprised! Honestly, I thought this...</td>\n",
        "      <td> review</td>\n",
        "      <td> QEpXkg6tdxHYOFcY5iyq6Q</td>\n",
        "      <td> 0</td>\n",
        "      <td> 0</td>\n",
        "      <td> 1</td>\n",
        "    </tr>\n",
        "    <tr>\n",
        "      <th>4114</th>\n",
        "      <td> 4bEjOyTaDG24SY5TxsaUNQ</td>\n",
        "      <td> 2015-01-02</td>\n",
        "      <td> AIjVDHoqyapY0V--cKPnNA</td>\n",
        "      <td> 1</td>\n",
        "      <td> I've eaten here before and the food was great ...</td>\n",
        "      <td> review</td>\n",
        "      <td> gHx8_RfIbaxsRMZpH3m8SQ</td>\n",
        "      <td> 0</td>\n",
        "      <td> 1</td>\n",
        "      <td> 0</td>\n",
        "    </tr>\n",
        "    <tr>\n",
        "      <th>4115</th>\n",
        "      <td> 4bEjOyTaDG24SY5TxsaUNQ</td>\n",
        "      <td> 2015-01-02</td>\n",
        "      <td> wG3PrREle0mycJMHBjaPNQ</td>\n",
        "      <td> 5</td>\n",
        "      <td> Excellent food. Great prices. Amazing atmosphe...</td>\n",
        "      <td> review</td>\n",
        "      <td> 8_5n4ukuQfu8pOFRw-e2Rw</td>\n",
        "      <td> 0</td>\n",
        "      <td> 0</td>\n",
        "      <td> 1</td>\n",
        "    </tr>\n",
        "    <tr>\n",
        "      <th>4116</th>\n",
        "      <td> 4bEjOyTaDG24SY5TxsaUNQ</td>\n",
        "      <td> 2015-01-03</td>\n",
        "      <td> 0jloq-NCAiCJKZ2a7A2e5A</td>\n",
        "      <td> 5</td>\n",
        "      <td> This is my second time here. Great break from ...</td>\n",
        "      <td> review</td>\n",
        "      <td> Rjd6FNvQoV2mtXZwHNc_cg</td>\n",
        "      <td> 0</td>\n",
        "      <td> 0</td>\n",
        "      <td> 0</td>\n",
        "    </tr>\n",
        "    <tr>\n",
        "      <th>4117</th>\n",
        "      <td> 4bEjOyTaDG24SY5TxsaUNQ</td>\n",
        "      <td> 2015-01-03</td>\n",
        "      <td> ZdETUP8T-DtpHMBqKApV6g</td>\n",
        "      <td> 5</td>\n",
        "      <td> The service and food was wonderful.  I had the...</td>\n",
        "      <td> review</td>\n",
        "      <td> 9FgmIK8aFa9SaFMVkmyyew</td>\n",
        "      <td> 0</td>\n",
        "      <td> 0</td>\n",
        "      <td> 0</td>\n",
        "    </tr>\n",
        "    <tr>\n",
        "      <th>4118</th>\n",
        "      <td> 4bEjOyTaDG24SY5TxsaUNQ</td>\n",
        "      <td> 2015-01-03</td>\n",
        "      <td> iLvp4hKfcbJGPI-MH_2bkQ</td>\n",
        "      <td> 5</td>\n",
        "      <td> This place will forever hold a special place i...</td>\n",
        "      <td> review</td>\n",
        "      <td> 1qprOA_MtSvRTgkeYEsCRw</td>\n",
        "      <td> 0</td>\n",
        "      <td> 0</td>\n",
        "      <td> 0</td>\n",
        "    </tr>\n",
        "    <tr>\n",
        "      <th>4119</th>\n",
        "      <td> 4bEjOyTaDG24SY5TxsaUNQ</td>\n",
        "      <td> 2015-01-03</td>\n",
        "      <td> cT2t18zGRYhznTKfPRJ1dw</td>\n",
        "      <td> 4</td>\n",
        "      <td> The food was very good. The fries were a bit t...</td>\n",
        "      <td> review</td>\n",
        "      <td> f9hK6QEEeu_Wn3EPV6Pk-A</td>\n",
        "      <td> 0</td>\n",
        "      <td> 0</td>\n",
        "      <td> 0</td>\n",
        "    </tr>\n",
        "    <tr>\n",
        "      <th>4120</th>\n",
        "      <td> 4bEjOyTaDG24SY5TxsaUNQ</td>\n",
        "      <td> 2015-01-03</td>\n",
        "      <td> DUhURsYS5ICJL7KVfe-Kag</td>\n",
        "      <td> 4</td>\n",
        "      <td> Upon entering Mon Ami Gabi, there were two lin...</td>\n",
        "      <td> review</td>\n",
        "      <td> dHFdI-N53nml6WoS87msNw</td>\n",
        "      <td> 2</td>\n",
        "      <td> 3</td>\n",
        "      <td> 3</td>\n",
        "    </tr>\n",
        "    <tr>\n",
        "      <th>4121</th>\n",
        "      <td> 4bEjOyTaDG24SY5TxsaUNQ</td>\n",
        "      <td> 2015-01-04</td>\n",
        "      <td> 6RZ1cvcfB75rNav0Tp8qqw</td>\n",
        "      <td> 5</td>\n",
        "      <td> Great breakfast. Great food. Great location. G...</td>\n",
        "      <td> review</td>\n",
        "      <td> 9gkiGT5OQYrhAMTLX_70eQ</td>\n",
        "      <td> 0</td>\n",
        "      <td> 0</td>\n",
        "      <td> 0</td>\n",
        "    </tr>\n",
        "    <tr>\n",
        "      <th>4122</th>\n",
        "      <td> 4bEjOyTaDG24SY5TxsaUNQ</td>\n",
        "      <td> 2015-01-04</td>\n",
        "      <td> j2iirreGkZYEmE9yA6ECmg</td>\n",
        "      <td> 4</td>\n",
        "      <td> Beautiful restaurant, wonderful and delicious ...</td>\n",
        "      <td> review</td>\n",
        "      <td> 55Ez1eS0tCzSFWlbmnp9YQ</td>\n",
        "      <td> 0</td>\n",
        "      <td> 0</td>\n",
        "      <td> 0</td>\n",
        "    </tr>\n",
        "    <tr>\n",
        "      <th>4123</th>\n",
        "      <td> 4bEjOyTaDG24SY5TxsaUNQ</td>\n",
        "      <td> 2015-01-04</td>\n",
        "      <td> YO6ElT7_wNIbUR6N02dxHQ</td>\n",
        "      <td> 2</td>\n",
        "      <td> If you know good food, then you shouldn't eat ...</td>\n",
        "      <td> review</td>\n",
        "      <td> uDPtu4QxE0IuuOU_xZQEUg</td>\n",
        "      <td> 0</td>\n",
        "      <td> 0</td>\n",
        "      <td> 0</td>\n",
        "    </tr>\n",
        "    <tr>\n",
        "      <th>4124</th>\n",
        "      <td> 4bEjOyTaDG24SY5TxsaUNQ</td>\n",
        "      <td> 2015-01-05</td>\n",
        "      <td> -I9rCHdHdsbmJE6PhsJ7IQ</td>\n",
        "      <td> 5</td>\n",
        "      <td> Five stars for ambience and service! Our party...</td>\n",
        "      <td> review</td>\n",
        "      <td> MHusELHPxTXrQNsTOctnzg</td>\n",
        "      <td> 0</td>\n",
        "      <td> 0</td>\n",
        "      <td> 0</td>\n",
        "    </tr>\n",
        "    <tr>\n",
        "      <th>4125</th>\n",
        "      <td> 4bEjOyTaDG24SY5TxsaUNQ</td>\n",
        "      <td> 2015-01-05</td>\n",
        "      <td> thEjG6OJCcvET3sV0mXLfA</td>\n",
        "      <td> 5</td>\n",
        "      <td> This is a gem in Vegas. People often rave abou...</td>\n",
        "      <td> review</td>\n",
        "      <td> 9Wp331ce6XFMDxb0Q1Hx3g</td>\n",
        "      <td> 0</td>\n",
        "      <td> 0</td>\n",
        "      <td> 0</td>\n",
        "    </tr>\n",
        "    <tr>\n",
        "      <th>4126</th>\n",
        "      <td> 4bEjOyTaDG24SY5TxsaUNQ</td>\n",
        "      <td> 2015-01-05</td>\n",
        "      <td> 4S09R_bgjboyL27dFglQgQ</td>\n",
        "      <td> 2</td>\n",
        "      <td> Mediocre service... greeted in an unfriendly m...</td>\n",
        "      <td> review</td>\n",
        "      <td> zgHAzXi6vbKlzsMAuo73cg</td>\n",
        "      <td> 0</td>\n",
        "      <td> 1</td>\n",
        "      <td> 0</td>\n",
        "    </tr>\n",
        "    <tr>\n",
        "      <th>4127</th>\n",
        "      <td> 4bEjOyTaDG24SY5TxsaUNQ</td>\n",
        "      <td> 2015-01-05</td>\n",
        "      <td> 4K0bcZbRyToHPxU0KQhLFA</td>\n",
        "      <td> 5</td>\n",
        "      <td> We came here in the morning and we really enjo...</td>\n",
        "      <td> review</td>\n",
        "      <td> rQmBb5Gc3hsO3WIswJK-kA</td>\n",
        "      <td> 0</td>\n",
        "      <td> 0</td>\n",
        "      <td> 0</td>\n",
        "    </tr>\n",
        "    <tr>\n",
        "      <th>4128</th>\n",
        "      <td> 4bEjOyTaDG24SY5TxsaUNQ</td>\n",
        "      <td> 2015-01-05</td>\n",
        "      <td> QIBVFS4rO3tTR6eOR2DlXA</td>\n",
        "      <td> 5</td>\n",
        "      <td> Highly recommend the steak and fries and sitti...</td>\n",
        "      <td> review</td>\n",
        "      <td> Fn75e4dSdf7JohiW68pWdw</td>\n",
        "      <td> 0</td>\n",
        "      <td> 0</td>\n",
        "      <td> 0</td>\n",
        "    </tr>\n",
        "    <tr>\n",
        "      <th>4129</th>\n",
        "      <td> 4bEjOyTaDG24SY5TxsaUNQ</td>\n",
        "      <td> 2015-01-06</td>\n",
        "      <td> fO6QzXDwtRnj68hjZRg-Xw</td>\n",
        "      <td> 5</td>\n",
        "      <td> A must every time in Vegas! I love this place,...</td>\n",
        "      <td> review</td>\n",
        "      <td> YcliSEy597SYbWTBLGZu5Q</td>\n",
        "      <td> 0</td>\n",
        "      <td> 0</td>\n",
        "      <td> 0</td>\n",
        "    </tr>\n",
        "    <tr>\n",
        "      <th>4130</th>\n",
        "      <td> 4bEjOyTaDG24SY5TxsaUNQ</td>\n",
        "      <td> 2015-01-06</td>\n",
        "      <td> iVKa4mUYqEhlysnHicurGA</td>\n",
        "      <td> 4</td>\n",
        "      <td> The best lunch on the strip... great eats, rea...</td>\n",
        "      <td> review</td>\n",
        "      <td> E_hHXMa6zDsbigIAn4ZTmA</td>\n",
        "      <td> 0</td>\n",
        "      <td> 0</td>\n",
        "      <td> 0</td>\n",
        "    </tr>\n",
        "    <tr>\n",
        "      <th>4131</th>\n",
        "      <td> 4bEjOyTaDG24SY5TxsaUNQ</td>\n",
        "      <td> 2015-01-06</td>\n",
        "      <td> AmTyWP-eIKX5ENUjNAcmCw</td>\n",
        "      <td> 5</td>\n",
        "      <td> This is one of the first sit down meals my hus...</td>\n",
        "      <td> review</td>\n",
        "      <td> 5WeU8S2m5subVyAalWygAQ</td>\n",
        "      <td> 1</td>\n",
        "      <td> 1</td>\n",
        "      <td> 2</td>\n",
        "    </tr>\n",
        "    <tr>\n",
        "      <th>4132</th>\n",
        "      <td> 4bEjOyTaDG24SY5TxsaUNQ</td>\n",
        "      <td> 2015-01-06</td>\n",
        "      <td> pgw6M9BGeHqqRyPODXavRQ</td>\n",
        "      <td> 5</td>\n",
        "      <td> We found that the portions in the tasters menu...</td>\n",
        "      <td> review</td>\n",
        "      <td> yTxxfdefePeeH5K574JMMw</td>\n",
        "      <td> 1</td>\n",
        "      <td> 0</td>\n",
        "      <td> 0</td>\n",
        "    </tr>\n",
        "    <tr>\n",
        "      <th>4133</th>\n",
        "      <td> 4bEjOyTaDG24SY5TxsaUNQ</td>\n",
        "      <td> 2015-01-06</td>\n",
        "      <td> E82U8fSwhZOy_eZi4dG0lA</td>\n",
        "      <td> 1</td>\n",
        "      <td> Wow do not let the fancy and whimsical Parisia...</td>\n",
        "      <td> review</td>\n",
        "      <td> p2V_C7TCBYgQAfJh9HfYGQ</td>\n",
        "      <td> 0</td>\n",
        "      <td> 3</td>\n",
        "      <td> 0</td>\n",
        "    </tr>\n",
        "    <tr>\n",
        "      <th>4134</th>\n",
        "      <td> 4bEjOyTaDG24SY5TxsaUNQ</td>\n",
        "      <td> 2015-01-07</td>\n",
        "      <td> lnJsj2zFPhPrvIiHaVkktw</td>\n",
        "      <td> 4</td>\n",
        "      <td> I love this restaurant, great food and beautif...</td>\n",
        "      <td> review</td>\n",
        "      <td> SyrCHS2dimL5_THxLJ0KnA</td>\n",
        "      <td> 1</td>\n",
        "      <td> 1</td>\n",
        "      <td> 1</td>\n",
        "    </tr>\n",
        "    <tr>\n",
        "      <th>4135</th>\n",
        "      <td> 4bEjOyTaDG24SY5TxsaUNQ</td>\n",
        "      <td> 2015-01-07</td>\n",
        "      <td> O7sXecohxjyVA7c5vHXcqQ</td>\n",
        "      <td> 5</td>\n",
        "      <td> What a great find, especially in the glittery,...</td>\n",
        "      <td> review</td>\n",
        "      <td> tHfAWPvv9JktORlW2NkDug</td>\n",
        "      <td> 0</td>\n",
        "      <td> 0</td>\n",
        "      <td> 0</td>\n",
        "    </tr>\n",
        "    <tr>\n",
        "      <th>4136</th>\n",
        "      <td> 4bEjOyTaDG24SY5TxsaUNQ</td>\n",
        "      <td> 2015-01-08</td>\n",
        "      <td> u6BK9GPolqItvUX2jL9V0A</td>\n",
        "      <td> 4</td>\n",
        "      <td> Onion soup had delicious gruyere cheese.\\n\\nSt...</td>\n",
        "      <td> review</td>\n",
        "      <td> lJV3X4upYGzxm9YKbQ2uZg</td>\n",
        "      <td> 0</td>\n",
        "      <td> 0</td>\n",
        "      <td> 0</td>\n",
        "    </tr>\n",
        "  </tbody>\n",
        "</table>\n",
        "<p>4137 rows \u00d7 10 columns</p>\n",
        "</div>"
       ],
       "metadata": {},
       "output_type": "pyout",
       "prompt_number": 384,
       "text": [
        "                 business_id        date               review_id  stars  \\\n",
        "0     4bEjOyTaDG24SY5TxsaUNQ  2005-06-23  UpKdXO3jEElnqtsWjYxQ2w      5   \n",
        "1     4bEjOyTaDG24SY5TxsaUNQ  2005-10-10  qYJV5kIViwer1P1Cb2OSfw      5   \n",
        "2     4bEjOyTaDG24SY5TxsaUNQ  2005-10-14  dvSLFLzijuT5HLRlmt5FaA      5   \n",
        "3     4bEjOyTaDG24SY5TxsaUNQ  2005-12-02  y79Q4oMPl-7yFvAIhep18g      4   \n",
        "4     4bEjOyTaDG24SY5TxsaUNQ  2006-01-07  yZ-XOxrnx9QKGCgDxIFRag      4   \n",
        "5     4bEjOyTaDG24SY5TxsaUNQ  2006-01-31  M6U9acJkmCXZkEvIIDFtfQ      5   \n",
        "6     4bEjOyTaDG24SY5TxsaUNQ  2006-04-22  Uo4q_BixeeOSxeQ_J6PpJQ      4   \n",
        "7     4bEjOyTaDG24SY5TxsaUNQ  2006-05-15  BUIPvd1tX3uec9FxPadlRQ      3   \n",
        "8     4bEjOyTaDG24SY5TxsaUNQ  2006-05-17  x2j-fYaELCi1Ih-vaw9LEw      5   \n",
        "9     4bEjOyTaDG24SY5TxsaUNQ  2006-06-22  JqJZ6XoHJ8Gwc0GpFcgeaA      5   \n",
        "10    4bEjOyTaDG24SY5TxsaUNQ  2006-07-24  nSeCNcqo62XmkrTnSR6r4g      5   \n",
        "11    4bEjOyTaDG24SY5TxsaUNQ  2006-08-09  vsXgn4FMW4ilHE3yAzHBOA      5   \n",
        "12    4bEjOyTaDG24SY5TxsaUNQ  2006-09-11  j0J_tU7FdXMJpWkg9flwkg      4   \n",
        "13    4bEjOyTaDG24SY5TxsaUNQ  2006-09-12  hr1WaVNAxzdjxw3Gs9Q4SA      2   \n",
        "14    4bEjOyTaDG24SY5TxsaUNQ  2006-09-18  eKG8daI6ZoajAq2XsAwfYA      5   \n",
        "15    4bEjOyTaDG24SY5TxsaUNQ  2006-10-01  QZhwMuGaITFU3v_qKbT38Q      4   \n",
        "16    4bEjOyTaDG24SY5TxsaUNQ  2006-10-28  LxzlgL4iNRWu0TXvRbDcdg      4   \n",
        "17    4bEjOyTaDG24SY5TxsaUNQ  2006-11-04  emyc6wdfati_QJLfCfseEQ      5   \n",
        "18    4bEjOyTaDG24SY5TxsaUNQ  2006-12-18  JZFSu3-Iw-O1SL8dv2l_AQ      5   \n",
        "19    4bEjOyTaDG24SY5TxsaUNQ  2007-01-15  c9G3tYNe4Em755btMTcwgA      4   \n",
        "20    4bEjOyTaDG24SY5TxsaUNQ  2007-01-30  ydh-BY6Mbb2xsv8e0OUmYQ      4   \n",
        "21    4bEjOyTaDG24SY5TxsaUNQ  2007-02-04  vjbR6_Lfto3ei9roWk9kOw      4   \n",
        "22    4bEjOyTaDG24SY5TxsaUNQ  2007-02-14  sW6bx41XmdWrEdU7uaQsQA      5   \n",
        "23    4bEjOyTaDG24SY5TxsaUNQ  2007-02-27  CU030SXV9Fbx-TaYAmU9iQ      5   \n",
        "24    4bEjOyTaDG24SY5TxsaUNQ  2007-03-07  coOIzmF1TD9BugV_GmoNZw      3   \n",
        "25    4bEjOyTaDG24SY5TxsaUNQ  2007-03-15  ZiYJGL3WXdAktRkhPMlORw      4   \n",
        "26    4bEjOyTaDG24SY5TxsaUNQ  2007-03-16  udVEWgK-MZtGfzE8anQtJw      5   \n",
        "27    4bEjOyTaDG24SY5TxsaUNQ  2007-04-03  YuA91f72Nn8RvL31KXo0hQ      5   \n",
        "28    4bEjOyTaDG24SY5TxsaUNQ  2007-04-09  Fn9aOciLur4GVHmQel5i-g      4   \n",
        "29    4bEjOyTaDG24SY5TxsaUNQ  2007-04-11  sziAYitBybiqrNZ8loGIvA      4   \n",
        "...                      ...         ...                     ...    ...   \n",
        "4107  4bEjOyTaDG24SY5TxsaUNQ  2014-12-30  7FL8NOI-LTC9D-iJQMna1g      1   \n",
        "4108  4bEjOyTaDG24SY5TxsaUNQ  2014-12-31  6pl0qDB494vIVu1q7NOYAw      4   \n",
        "4109  4bEjOyTaDG24SY5TxsaUNQ  2014-12-31  2Lvh8fJtBKfzDqNSl4MzJQ      2   \n",
        "4110  4bEjOyTaDG24SY5TxsaUNQ  2015-01-01  efmZNi4m5Fh7ruLqKH0UXw      5   \n",
        "4111  4bEjOyTaDG24SY5TxsaUNQ  2015-01-01  yIcGH0lI3-UtsaMv9FHnYA      4   \n",
        "4112  4bEjOyTaDG24SY5TxsaUNQ  2015-01-01  tAEjUDvjSY4m1g7aOnSXpQ      5   \n",
        "4113  4bEjOyTaDG24SY5TxsaUNQ  2015-01-01  nj1wPYQIwbfXvO68l7HK_w      4   \n",
        "4114  4bEjOyTaDG24SY5TxsaUNQ  2015-01-02  AIjVDHoqyapY0V--cKPnNA      1   \n",
        "4115  4bEjOyTaDG24SY5TxsaUNQ  2015-01-02  wG3PrREle0mycJMHBjaPNQ      5   \n",
        "4116  4bEjOyTaDG24SY5TxsaUNQ  2015-01-03  0jloq-NCAiCJKZ2a7A2e5A      5   \n",
        "4117  4bEjOyTaDG24SY5TxsaUNQ  2015-01-03  ZdETUP8T-DtpHMBqKApV6g      5   \n",
        "4118  4bEjOyTaDG24SY5TxsaUNQ  2015-01-03  iLvp4hKfcbJGPI-MH_2bkQ      5   \n",
        "4119  4bEjOyTaDG24SY5TxsaUNQ  2015-01-03  cT2t18zGRYhznTKfPRJ1dw      4   \n",
        "4120  4bEjOyTaDG24SY5TxsaUNQ  2015-01-03  DUhURsYS5ICJL7KVfe-Kag      4   \n",
        "4121  4bEjOyTaDG24SY5TxsaUNQ  2015-01-04  6RZ1cvcfB75rNav0Tp8qqw      5   \n",
        "4122  4bEjOyTaDG24SY5TxsaUNQ  2015-01-04  j2iirreGkZYEmE9yA6ECmg      4   \n",
        "4123  4bEjOyTaDG24SY5TxsaUNQ  2015-01-04  YO6ElT7_wNIbUR6N02dxHQ      2   \n",
        "4124  4bEjOyTaDG24SY5TxsaUNQ  2015-01-05  -I9rCHdHdsbmJE6PhsJ7IQ      5   \n",
        "4125  4bEjOyTaDG24SY5TxsaUNQ  2015-01-05  thEjG6OJCcvET3sV0mXLfA      5   \n",
        "4126  4bEjOyTaDG24SY5TxsaUNQ  2015-01-05  4S09R_bgjboyL27dFglQgQ      2   \n",
        "4127  4bEjOyTaDG24SY5TxsaUNQ  2015-01-05  4K0bcZbRyToHPxU0KQhLFA      5   \n",
        "4128  4bEjOyTaDG24SY5TxsaUNQ  2015-01-05  QIBVFS4rO3tTR6eOR2DlXA      5   \n",
        "4129  4bEjOyTaDG24SY5TxsaUNQ  2015-01-06  fO6QzXDwtRnj68hjZRg-Xw      5   \n",
        "4130  4bEjOyTaDG24SY5TxsaUNQ  2015-01-06  iVKa4mUYqEhlysnHicurGA      4   \n",
        "4131  4bEjOyTaDG24SY5TxsaUNQ  2015-01-06  AmTyWP-eIKX5ENUjNAcmCw      5   \n",
        "4132  4bEjOyTaDG24SY5TxsaUNQ  2015-01-06  pgw6M9BGeHqqRyPODXavRQ      5   \n",
        "4133  4bEjOyTaDG24SY5TxsaUNQ  2015-01-06  E82U8fSwhZOy_eZi4dG0lA      1   \n",
        "4134  4bEjOyTaDG24SY5TxsaUNQ  2015-01-07  lnJsj2zFPhPrvIiHaVkktw      4   \n",
        "4135  4bEjOyTaDG24SY5TxsaUNQ  2015-01-07  O7sXecohxjyVA7c5vHXcqQ      5   \n",
        "4136  4bEjOyTaDG24SY5TxsaUNQ  2015-01-08  u6BK9GPolqItvUX2jL9V0A      4   \n",
        "\n",
        "                                                   text    type  \\\n",
        "0     Excellent food, great atmosphere, a bit noisy....  review   \n",
        "1     If you enjoy a little people watching with you...  review   \n",
        "2     affordable, fairly classic french food\\n\\nsit ...  review   \n",
        "3     Though heartbroken and a bit aimless on my 22n...  review   \n",
        "4     The food and wine was amazing, but the super h...  review   \n",
        "5     Yippy!  Make-your-own bloody mary bar! Chose t...  review   \n",
        "6     I went here for a team function on one of the ...  review   \n",
        "7     An affordable dining experience in Paris, I me...  review   \n",
        "8     Definitely one of my favorites on the Strip! I...  review   \n",
        "9     What great friends I have..... We ate at Mon A...  review   \n",
        "10    Very good. There is a bunch of tourist trap bu...  review   \n",
        "11    Mon Ami Gabi(Paris hotel) The restaurant is ni...  review   \n",
        "12    Overall, a great restaurant! Not too overprice...  review   \n",
        "13    Do they have to have frites with every entree?...  review   \n",
        "14    This is a great place for brunch -- we ended u...  review   \n",
        "15    Slightly noisy but great food in Vegas at a ve...  review   \n",
        "16    i had a very rare medium rare fillet mignon he...  review   \n",
        "17    I love how many of my favorite restaurants in ...  review   \n",
        "18    amazing french restaurant in the paris hotel. ...  review   \n",
        "19    2nd time eating here.  They actually had our r...  review   \n",
        "20    Get the Filet Mignon with Merlot Butter. Rare....  review   \n",
        "21    Vegas closes down early, and there aren't many...  review   \n",
        "22    I'm always a little leery about casino restaur...  review   \n",
        "23    My experience at Mon Ami Gabi was amazing, and...  review   \n",
        "24    Ate lunch here twice the past week when I was ...  review   \n",
        "25    really cool location at the paris las vegas ho...  review   \n",
        "26    The outdoor seating is a must!  If you get the...  review   \n",
        "27    LUNCH - Mon Ami Gabi has pretty tasty food acc...  review   \n",
        "28    Yes, it's a LEY restaurant, of which there are...  review   \n",
        "29    I've been to a lot of restaurants in LV.  At o...  review   \n",
        "...                                                 ...     ...   \n",
        "4107  I come here a lot. And by a lot I mean once ev...  review   \n",
        "4108  The solarium is one of my favorite brunch spot...  review   \n",
        "4109  My girlfriend and I were very excited to try M...  review   \n",
        "4110  Prime central location.  A perfect dining plac...  review   \n",
        "4111  This is my go-to spot for brunch in Las Vegas,...  review   \n",
        "4112  My second visit here and it deserves a review....  review   \n",
        "4113  Pleasantly surprised! Honestly, I thought this...  review   \n",
        "4114  I've eaten here before and the food was great ...  review   \n",
        "4115  Excellent food. Great prices. Amazing atmosphe...  review   \n",
        "4116  This is my second time here. Great break from ...  review   \n",
        "4117  The service and food was wonderful.  I had the...  review   \n",
        "4118  This place will forever hold a special place i...  review   \n",
        "4119  The food was very good. The fries were a bit t...  review   \n",
        "4120  Upon entering Mon Ami Gabi, there were two lin...  review   \n",
        "4121  Great breakfast. Great food. Great location. G...  review   \n",
        "4122  Beautiful restaurant, wonderful and delicious ...  review   \n",
        "4123  If you know good food, then you shouldn't eat ...  review   \n",
        "4124  Five stars for ambience and service! Our party...  review   \n",
        "4125  This is a gem in Vegas. People often rave abou...  review   \n",
        "4126  Mediocre service... greeted in an unfriendly m...  review   \n",
        "4127  We came here in the morning and we really enjo...  review   \n",
        "4128  Highly recommend the steak and fries and sitti...  review   \n",
        "4129  A must every time in Vegas! I love this place,...  review   \n",
        "4130  The best lunch on the strip... great eats, rea...  review   \n",
        "4131  This is one of the first sit down meals my hus...  review   \n",
        "4132  We found that the portions in the tasters menu...  review   \n",
        "4133  Wow do not let the fancy and whimsical Parisia...  review   \n",
        "4134  I love this restaurant, great food and beautif...  review   \n",
        "4135  What a great find, especially in the glittery,...  review   \n",
        "4136  Onion soup had delicious gruyere cheese.\\n\\nSt...  review   \n",
        "\n",
        "                     user_id  votes_cool  votes_funny  votes_useful  \n",
        "0     LAOHN2Z6INbwuGa3fx9UTw           0            0             0  \n",
        "1     H43f_rD3czq0UqY-4zhWjA           0            0             0  \n",
        "2     ytjqLRFobRxl0DDJgoR-Eg           2            2             2  \n",
        "3     pW91HUnVz6ssLZ4dY-ztyQ           3            2             3  \n",
        "4     aoxuw-XpJYIX1-R0TUS7CQ           0            0             1  \n",
        "5     DeBP40aPIRv3h1ED17X4Qg           0            1             0  \n",
        "6     YyPncV7fwWflne10BiCf6Q           1            0             1  \n",
        "7     XL9D0wXPLcmNox-d9XDfTg           0            0             0  \n",
        "8     91e8Cg7Vqj7G5XEXK3uaYA           0            0             0  \n",
        "9     3lPLOLeeJVyJFtLphJ6xzA           1            0             2  \n",
        "10    2Z653F4UvqDIFrY52skFwA           0            0             0  \n",
        "11    Rv1RJzehpr3fEa6kEGTYcw           0            0             2  \n",
        "12    NhP0IQNpZkw6tQ0drfd-qQ           2            0             2  \n",
        "13    A-X8mZHmZOfcr8IVEowaOw           0            0             0  \n",
        "14    ytcTacpqKG3ZeEzV0LfWkw           0            0             0  \n",
        "15    36CYHxqSj5iOzTiSFqw3yw           0            0             0  \n",
        "16    YFpv_GwOh3-YUHs1v2TTMQ           0            0             0  \n",
        "17    k1E-ukaSH2sMI4VFKBxTMg           0            0             0  \n",
        "18    RlppHxlxAAuznZLk05STWw           0            0             0  \n",
        "19    sCEiecf7LRf4QQE3ESESzQ           0            0             0  \n",
        "20    Zff7xm0J-C7hV1z3j-JipQ           3            0             1  \n",
        "21    WUkNdZo_4BRN-SBLhj_kEQ           1            0             1  \n",
        "22    zg6oozx1VoplOHqJv6_Caw           0            0             0  \n",
        "23    A-10oCwm2KwKmpnciAyr-Q           0            0             0  \n",
        "24    rgOxYEKBKJTRCIXkKsyzRA           0            0             1  \n",
        "25    PcvM36PP4-PD9DatUyFGrQ           0            0             1  \n",
        "26    vIarl8ycm9ZHpssp5pSgjw           0            0             1  \n",
        "27    QKznf6dT3owHD1LUDxXU7Q           0            1             4  \n",
        "28    q15hfv2bSgK4lc4VIag12Q           0            0             0  \n",
        "29    Q6wwHCb-SawZ54xPa1NwSQ           1            0             2  \n",
        "...                      ...         ...          ...           ...  \n",
        "4107  vauexhT5cQeLjMPlARFR7A           0            0             0  \n",
        "4108  FOCkDPY4xk3gmyRXi0bt7Q           0            0             0  \n",
        "4109  e5GjoQdd48kkpXNFByjLDA           0            0             0  \n",
        "4110  BoRCrpJDnzRW3_plEA-Fhg           0            0             0  \n",
        "4111  GUvoTuKMlubhhkBySRTBog           0            0             0  \n",
        "4112  c4VzZ8g-i_bTdVf0nCp_uA           0            0             0  \n",
        "4113  QEpXkg6tdxHYOFcY5iyq6Q           0            0             1  \n",
        "4114  gHx8_RfIbaxsRMZpH3m8SQ           0            1             0  \n",
        "4115  8_5n4ukuQfu8pOFRw-e2Rw           0            0             1  \n",
        "4116  Rjd6FNvQoV2mtXZwHNc_cg           0            0             0  \n",
        "4117  9FgmIK8aFa9SaFMVkmyyew           0            0             0  \n",
        "4118  1qprOA_MtSvRTgkeYEsCRw           0            0             0  \n",
        "4119  f9hK6QEEeu_Wn3EPV6Pk-A           0            0             0  \n",
        "4120  dHFdI-N53nml6WoS87msNw           2            3             3  \n",
        "4121  9gkiGT5OQYrhAMTLX_70eQ           0            0             0  \n",
        "4122  55Ez1eS0tCzSFWlbmnp9YQ           0            0             0  \n",
        "4123  uDPtu4QxE0IuuOU_xZQEUg           0            0             0  \n",
        "4124  MHusELHPxTXrQNsTOctnzg           0            0             0  \n",
        "4125  9Wp331ce6XFMDxb0Q1Hx3g           0            0             0  \n",
        "4126  zgHAzXi6vbKlzsMAuo73cg           0            1             0  \n",
        "4127  rQmBb5Gc3hsO3WIswJK-kA           0            0             0  \n",
        "4128  Fn75e4dSdf7JohiW68pWdw           0            0             0  \n",
        "4129  YcliSEy597SYbWTBLGZu5Q           0            0             0  \n",
        "4130  E_hHXMa6zDsbigIAn4ZTmA           0            0             0  \n",
        "4131  5WeU8S2m5subVyAalWygAQ           1            1             2  \n",
        "4132  yTxxfdefePeeH5K574JMMw           1            0             0  \n",
        "4133  p2V_C7TCBYgQAfJh9HfYGQ           0            3             0  \n",
        "4134  SyrCHS2dimL5_THxLJ0KnA           1            1             1  \n",
        "4135  tHfAWPvv9JktORlW2NkDug           0            0             0  \n",
        "4136  lJV3X4upYGzxm9YKbQ2uZg           0            0             0  \n",
        "\n",
        "[4137 rows x 10 columns]"
       ]
      }
     ],
     "prompt_number": 384
    },
    {
     "cell_type": "code",
     "collapsed": false,
     "input": [
      "# All reviews in one text block\n",
      "rest_review_block = \"\"\n",
      "for row in review_for_rest:\n",
      "    rest_review_block += row\n",
      "    \n",
      "rest_review_block = np.array([rest, rest_review_block])"
     ],
     "language": "python",
     "metadata": {},
     "outputs": [],
     "prompt_number": 283
    },
    {
     "cell_type": "code",
     "collapsed": false,
     "input": [
      "def tokenize(text):\n",
      "    return [token for token in simple_preprocess(text) if token not in STOPWORDS]\n",
      "\n",
      "def iter_reviews(reviews):\n",
      "    \"\"\"Yield each review from the restaurant's reviews, as a `(id, tokens)` 2-tuple.\"\"\"\n",
      "    for idx, review in enumerate(reviews):\n",
      "        tokens = tokenize(review)\n",
      "        if len(tokens) < 5:\n",
      "            continue  # ignore short reviews\n",
      "        yield idx, tokens"
     ],
     "language": "python",
     "metadata": {},
     "outputs": [],
     "prompt_number": 284
    },
    {
     "cell_type": "code",
     "collapsed": false,
     "input": [
      "##########################\n",
      "#\n",
      "# Tests with LDA and gensim\n",
      "#\n",
      "##########################"
     ],
     "language": "python",
     "metadata": {},
     "outputs": []
    },
    {
     "cell_type": "code",
     "collapsed": false,
     "input": [
      "data_set = review_for_rest\n",
      "\n",
      "review_stream = (tokens for _, tokens in itertools.islice(iter_reviews(data_set), 10000))"
     ],
     "language": "python",
     "metadata": {},
     "outputs": [],
     "prompt_number": 285
    },
    {
     "cell_type": "code",
     "collapsed": false,
     "input": [
      "%time id2word_review = gensim.corpora.Dictionary(review_stream)\n",
      "print(id2word_review)"
     ],
     "language": "python",
     "metadata": {},
     "outputs": [
      {
       "output_type": "stream",
       "stream": "stderr",
       "text": [
        "INFO:gensim.corpora.dictionary:adding document #0 to Dictionary(0 unique tokens: [])\n"
       ]
      },
      {
       "output_type": "stream",
       "stream": "stderr",
       "text": [
        "INFO:gensim.corpora.dictionary:built Dictionary(12194 unique tokens: [u'raining', u'hordes', u'yellow', u'revelers', u'gag']...) from 4056 documents (total 230329 corpus positions)\n"
       ]
      },
      {
       "output_type": "stream",
       "stream": "stdout",
       "text": [
        "CPU times: user 2.21 s, sys: 38.3 ms, total: 2.25 s\n",
        "Wall time: 2.29 s\n",
        "Dictionary(12194 unique tokens: [u'raining', u'hordes', u'yellow', u'revelers', u'gag']...)\n"
       ]
      }
     ],
     "prompt_number": 286
    },
    {
     "cell_type": "code",
     "collapsed": false,
     "input": [
      "# ignore words that appear in less than 20 reviews or more than 10% reviews\n",
      "id2word_review.filter_extremes(no_below=20, no_above=0.1)\n",
      "print(id2word_review)"
     ],
     "language": "python",
     "metadata": {},
     "outputs": [
      {
       "output_type": "stream",
       "stream": "stderr",
       "text": [
        "INFO:gensim.corpora.dictionary:discarding 10865 tokens: [(u'bit', 460), (u'excellent', 518), (u'food', 2178), (u'great', 1871), (u'bellagio', 1332), (u'fits', 1), (u'fountains', 764), (u'french', 1274), (u'good', 1880), (u'helping', 12)]...\n"
       ]
      },
      {
       "output_type": "stream",
       "stream": "stderr",
       "text": [
        "INFO:gensim.corpora.dictionary:keeping 1329 tokens which were in no less than 20 and no more than 405 (=10.0%) documents\n"
       ]
      },
      {
       "output_type": "stream",
       "stream": "stderr",
       "text": [
        "INFO:gensim.corpora.dictionary:resulting dictionary: Dictionary(1329 unique tokens: [u'limited', u'managed', u'consider', u'chain', u'saying']...)\n"
       ]
      },
      {
       "output_type": "stream",
       "stream": "stdout",
       "text": [
        "Dictionary(1329 unique tokens: [u'limited', u'managed', u'consider', u'chain', u'saying']...)\n"
       ]
      }
     ],
     "prompt_number": 287
    },
    {
     "cell_type": "code",
     "collapsed": false,
     "input": [
      "print(id2word_review[900])"
     ],
     "language": "python",
     "metadata": {},
     "outputs": [
      {
       "output_type": "stream",
       "stream": "stdout",
       "text": [
        "life\n"
       ]
      }
     ],
     "prompt_number": 288
    },
    {
     "cell_type": "code",
     "collapsed": false,
     "input": [
      "class ReviewCorpus(object):\n",
      "    def __init__(self, dump_file, dictionary, clip_docs=None):\n",
      "        \"\"\"\n",
      "        Parse the first `clip_docs` reviews from array `dump_file`.\n",
      "        Yield each review in turn, as a list of tokens (unicode strings).\n",
      "        \n",
      "        \"\"\"\n",
      "        self.dump_file = dump_file\n",
      "        self.dictionary = dictionary\n",
      "        self.clip_docs = clip_docs\n",
      "    \n",
      "    def __iter__(self):\n",
      "        self.titles = []\n",
      "        for idx, tokens in itertools.islice(iter_reviews(self.dump_file), self.clip_docs):\n",
      "            self.titles.append(idx)\n",
      "            yield self.dictionary.doc2bow(tokens)\n",
      "    \n",
      "    def __len__(self):\n",
      "        return self.clip_docs\n",
      "\n",
      "# create a stream of bag-of-words vectors\n",
      "review_corpus = ReviewCorpus(review_for_rest, id2word_review, clip_docs=5000)\n",
      "vector = next(iter(review_corpus))\n",
      "print(vector)  # print the first vector in the stream"
     ],
     "language": "python",
     "metadata": {},
     "outputs": [
      {
       "output_type": "stream",
       "stream": "stdout",
       "text": [
        "[(9, 1), (1156, 1)]\n"
       ]
      }
     ],
     "prompt_number": 289
    },
    {
     "cell_type": "code",
     "collapsed": false,
     "input": [
      "# what is the most common word in that first review?\n",
      "most_index, most_count = max(vector, key=lambda (word_index, count): count)\n",
      "print(id2word_review[most_index], most_count)"
     ],
     "language": "python",
     "metadata": {},
     "outputs": [
      {
       "output_type": "stream",
       "stream": "stdout",
       "text": [
        "(u'atmosphere', 1)\n"
       ]
      }
     ],
     "prompt_number": 290
    },
    {
     "cell_type": "code",
     "collapsed": false,
     "input": [
      "%time gensim.corpora.MmCorpus.serialize(data + 'reviews.mm', review_corpus)"
     ],
     "language": "python",
     "metadata": {},
     "outputs": [
      {
       "output_type": "stream",
       "stream": "stderr",
       "text": [
        "INFO:gensim.corpora.mmcorpus:storing corpus in Matrix Market format to ./yelp_data/reviews.mm\n"
       ]
      },
      {
       "output_type": "stream",
       "stream": "stderr",
       "text": [
        "INFO:gensim.matutils:saving sparse matrix to ./yelp_data/reviews.mm\n"
       ]
      },
      {
       "output_type": "stream",
       "stream": "stderr",
       "text": [
        "INFO:gensim.matutils:PROGRESS: saving document #0\n"
       ]
      },
      {
       "output_type": "stream",
       "stream": "stderr",
       "text": [
        "INFO:gensim.matutils:PROGRESS: saving document #1000\n"
       ]
      },
      {
       "output_type": "stream",
       "stream": "stderr",
       "text": [
        "INFO:gensim.matutils:PROGRESS: saving document #2000\n"
       ]
      },
      {
       "output_type": "stream",
       "stream": "stderr",
       "text": [
        "INFO:gensim.matutils:PROGRESS: saving document #3000\n"
       ]
      },
      {
       "output_type": "stream",
       "stream": "stderr",
       "text": [
        "INFO:gensim.matutils:PROGRESS: saving document #4000\n"
       ]
      },
      {
       "output_type": "stream",
       "stream": "stderr",
       "text": [
        "INFO:gensim.matutils:saved 4056x1329 matrix, density=1.947% (104961/5390424)\n"
       ]
      },
      {
       "output_type": "stream",
       "stream": "stderr",
       "text": [
        "INFO:gensim.corpora.indexedcorpus:saving MmCorpus index to ./yelp_data/reviews.mm.index\n"
       ]
      },
      {
       "output_type": "stream",
       "stream": "stdout",
       "text": [
        "CPU times: user 2.91 s, sys: 73.3 ms, total: 2.99 s\n",
        "Wall time: 3.11 s\n"
       ]
      }
     ],
     "prompt_number": 291
    },
    {
     "cell_type": "code",
     "collapsed": false,
     "input": [
      "mm_corpus = gensim.corpora.MmCorpus(data + 'reviews.mm')\n",
      "print(mm_corpus)"
     ],
     "language": "python",
     "metadata": {},
     "outputs": [
      {
       "output_type": "stream",
       "stream": "stderr",
       "text": [
        "INFO:gensim.corpora.indexedcorpus:loaded corpus index from ./yelp_data/reviews.mm.index\n"
       ]
      },
      {
       "output_type": "stream",
       "stream": "stderr",
       "text": [
        "INFO:gensim.matutils:initializing corpus reader from ./yelp_data/reviews.mm\n"
       ]
      },
      {
       "output_type": "stream",
       "stream": "stderr",
       "text": [
        "INFO:gensim.matutils:accepted corpus with 4056 documents, 1329 features, 104961 non-zero entries\n"
       ]
      },
      {
       "output_type": "stream",
       "stream": "stdout",
       "text": [
        "MmCorpus(4056 documents, 1329 features, 104961 non-zero entries)\n"
       ]
      }
     ],
     "prompt_number": 292
    },
    {
     "cell_type": "code",
     "collapsed": false,
     "input": [
      "print(next(iter(mm_corpus)))"
     ],
     "language": "python",
     "metadata": {},
     "outputs": [
      {
       "output_type": "stream",
       "stream": "stdout",
       "text": [
        "[(9, 1.0), (1156, 1.0)]\n"
       ]
      }
     ],
     "prompt_number": 293
    },
    {
     "cell_type": "code",
     "collapsed": false,
     "input": [
      "clipped_corpus = gensim.utils.ClippedCorpus(mm_corpus, 2000)  # use fewer documents during training, LDA is slow\n",
      "# ClippedCorpus new in gensim 0.10.1\n",
      "# copy&paste it from https://github.com/piskvorky/gensim/blob/0.10.1/gensim/utils.py#L467 if necessary (or upgrade your gensim)\n",
      "%time lda_model = gensim.models.LdaModel(clipped_corpus, num_topics=10, id2word=id2word_review, passes=4)"
     ],
     "language": "python",
     "metadata": {},
     "outputs": [
      {
       "output_type": "stream",
       "stream": "stderr",
       "text": [
        "INFO:gensim.models.ldamodel:using symmetric alpha at 0.1\n"
       ]
      },
      {
       "output_type": "stream",
       "stream": "stderr",
       "text": [
        "INFO:gensim.models.ldamodel:using serial LDA version on this node\n"
       ]
      },
      {
       "output_type": "stream",
       "stream": "stderr",
       "text": [
        "INFO:gensim.models.ldamodel:running online LDA training, 10 topics, 4 passes over the supplied corpus of 2000 documents, updating model once every 2000 documents, evaluating perplexity every 2000 documents, iterating 50x with a convergence threshold of 0.001000\n"
       ]
      },
      {
       "output_type": "stream",
       "stream": "stderr",
       "text": [
        "WARNING:gensim.models.ldamodel:too few updates, training might not converge; consider increasing the number of passes or iterations to improve accuracy\n"
       ]
      },
      {
       "output_type": "stream",
       "stream": "stderr",
       "text": [
        "INFO:gensim.models.ldamodel:-8.122 per-word bound, 278.5 perplexity estimate based on a held-out corpus of 2000 documents with 67780 words\n"
       ]
      },
      {
       "output_type": "stream",
       "stream": "stderr",
       "text": [
        "INFO:gensim.models.ldamodel:PROGRESS: pass 0, at document #2000/2000\n"
       ]
      },
      {
       "output_type": "stream",
       "stream": "stderr",
       "text": [
        "INFO:gensim.models.ldamodel:topic #0 (0.100): 0.010*stars + 0.007*dish + 0.006*dessert + 0.006*chicken + 0.005*minutes + 0.005*friend + 0.005*las + 0.005*dining + 0.005*way + 0.005*waiter\n"
       ]
      },
      {
       "output_type": "stream",
       "stream": "stderr",
       "text": [
        "INFO:gensim.models.ldamodel:topic #1 (0.100): 0.008*filet + 0.007*chicken + 0.005*tasty + 0.005*bloody + 0.005*waiter + 0.005*bar + 0.005*wasn + 0.005*mary + 0.005*stars + 0.005*way\n"
       ]
      },
      {
       "output_type": "stream",
       "stream": "stderr",
       "text": [
        "INFO:gensim.models.ldamodel:topic #2 (0.100): 0.006*escargot + 0.005*loved + 0.005*filet + 0.005*waiter + 0.005*enjoy + 0.005*tasted + 0.005*watching + 0.005*sandwich + 0.004*overall + 0.004*brie\n"
       ]
      },
      {
       "output_type": "stream",
       "stream": "stderr",
       "text": [
        "INFO:gensim.models.ldamodel:topic #3 (0.100): 0.007*minutes + 0.006*dish + 0.006*awesome + 0.006*sandwich + 0.005*staff + 0.005*way + 0.005*mussels + 0.005*filet + 0.005*times + 0.005*loved\n"
       ]
      },
      {
       "output_type": "stream",
       "stream": "stderr",
       "text": [
        "INFO:gensim.models.ldamodel:topic #4 (0.100): 0.007*crepe + 0.006*chicken + 0.005*know + 0.005*beef + 0.005*think + 0.005*eggs + 0.005*seafood + 0.005*perfectly + 0.004*dish + 0.004*toast\n"
       ]
      },
      {
       "output_type": "stream",
       "stream": "stderr",
       "text": [
        "INFO:gensim.models.ldamodel:topic #5 (0.100): 0.007*wasn + 0.007*waiter + 0.007*filet + 0.005*want + 0.005*wonderful + 0.005*know + 0.005*location + 0.005*served + 0.004*mignon + 0.004*special\n"
       ]
      },
      {
       "output_type": "stream",
       "stream": "stderr",
       "text": [
        "INFO:gensim.models.ldamodel:topic #6 (0.100): 0.005*toast + 0.005*eggs + 0.005*served + 0.005*coffee + 0.005*asked + 0.005*hotel + 0.005*crepe + 0.005*wasn + 0.005*waiter + 0.005*think\n"
       ]
      },
      {
       "output_type": "stream",
       "stream": "stderr",
       "text": [
        "INFO:gensim.models.ldamodel:topic #7 (0.100): 0.007*sandwich + 0.006*friend + 0.005*dining + 0.005*outdoor + 0.005*think + 0.005*watching + 0.005*minutes + 0.005*know + 0.005*fantastic + 0.004*eggs\n"
       ]
      },
      {
       "output_type": "stream",
       "stream": "stderr",
       "text": [
        "INFO:gensim.models.ldamodel:topic #8 (0.100): 0.007*filet + 0.005*loved + 0.005*mignon + 0.005*overall + 0.005*flavor + 0.005*salmon + 0.005*friends + 0.004*friend + 0.004*prices + 0.004*mussels\n"
       ]
      },
      {
       "output_type": "stream",
       "stream": "stderr",
       "text": [
        "INFO:gensim.models.ldamodel:topic #9 (0.100): 0.007*think + 0.007*salmon + 0.006*awesome + 0.005*long + 0.005*fountain + 0.005*eggs + 0.005*sandwich + 0.004*enjoy + 0.004*thing + 0.004*location\n"
       ]
      },
      {
       "output_type": "stream",
       "stream": "stderr",
       "text": [
        "INFO:gensim.models.ldamodel:topic diff=1.132106, rho=1.000000\n"
       ]
      },
      {
       "output_type": "stream",
       "stream": "stderr",
       "text": [
        "INFO:gensim.models.ldamodel:-7.268 per-word bound, 154.2 perplexity estimate based on a held-out corpus of 2000 documents with 67780 words\n"
       ]
      },
      {
       "output_type": "stream",
       "stream": "stderr",
       "text": [
        "INFO:gensim.models.ldamodel:PROGRESS: pass 1, at document #2000/2000\n"
       ]
      },
      {
       "output_type": "stream",
       "stream": "stderr",
       "text": [
        "INFO:gensim.models.ldamodel:topic #0 (0.100): 0.011*stars + 0.008*dessert + 0.007*dish + 0.006*minutes + 0.006*chicken + 0.005*away + 0.005*friend + 0.005*way + 0.005*scallops + 0.005*dining\n"
       ]
      },
      {
       "output_type": "stream",
       "stream": "stderr",
       "text": [
        "INFO:gensim.models.ldamodel:topic #1 (0.100): 0.009*filet + 0.007*bloody + 0.007*chicken + 0.007*bar + 0.007*mary + 0.006*waiter + 0.006*mignon + 0.005*tasty + 0.005*free + 0.005*friends\n"
       ]
      },
      {
       "output_type": "stream",
       "stream": "stderr",
       "text": [
        "INFO:gensim.models.ldamodel:topic #2 (0.100): 0.008*escargot + 0.006*tasted + 0.006*sandwich + 0.006*loved + 0.005*enjoy + 0.005*brie + 0.005*waiter + 0.005*eating + 0.005*watching + 0.005*times\n"
       ]
      },
      {
       "output_type": "stream",
       "stream": "stderr",
       "text": [
        "INFO:gensim.models.ldamodel:topic #3 (0.100): 0.008*minutes + 0.007*awesome + 0.007*staff + 0.007*mussels + 0.006*dish + 0.006*sandwich + 0.006*dining + 0.006*times + 0.005*huge + 0.005*way\n"
       ]
      },
      {
       "output_type": "stream",
       "stream": "stderr",
       "text": [
        "INFO:gensim.models.ldamodel:topic #4 (0.100): 0.010*crepe + 0.007*seafood + 0.007*chicken + 0.007*beef + 0.006*eggs + 0.006*shrimp + 0.006*know + 0.006*toast + 0.005*hash + 0.005*perfectly\n"
       ]
      },
      {
       "output_type": "stream",
       "stream": "stderr",
       "text": [
        "INFO:gensim.models.ldamodel:topic #5 (0.100): 0.008*wasn + 0.007*filet + 0.007*waiter + 0.005*wonderful + 0.005*scallops + 0.005*mignon + 0.005*know + 0.005*location + 0.005*want + 0.005*perfectly\n"
       ]
      },
      {
       "output_type": "stream",
       "stream": "stderr",
       "text": [
        "INFO:gensim.models.ldamodel:topic #6 (0.100): 0.009*toast + 0.008*eggs + 0.008*coffee + 0.006*hotel + 0.006*served + 0.005*asked + 0.005*crepe + 0.005*friend + 0.005*blueberry + 0.005*salmon\n"
       ]
      },
      {
       "output_type": "stream",
       "stream": "stderr",
       "text": [
        "INFO:gensim.models.ldamodel:topic #7 (0.100): 0.008*sandwich + 0.006*outdoor + 0.006*friend + 0.006*watching + 0.006*minutes + 0.006*dining + 0.005*las + 0.005*eggs + 0.005*morning + 0.005*know\n"
       ]
      },
      {
       "output_type": "stream",
       "stream": "stderr",
       "text": [
        "INFO:gensim.models.ldamodel:topic #8 (0.100): 0.009*filet + 0.006*overall + 0.006*loved + 0.006*mignon + 0.006*steaks + 0.006*mussels + 0.005*flavor + 0.005*wife + 0.005*ambiance + 0.005*quality\n"
       ]
      },
      {
       "output_type": "stream",
       "stream": "stderr",
       "text": [
        "INFO:gensim.models.ldamodel:topic #9 (0.100): 0.009*salmon + 0.008*think + 0.007*yelp + 0.006*awesome + 0.006*com + 0.006*long + 0.006*www + 0.006*http + 0.006*eggs + 0.006*select\n"
       ]
      },
      {
       "output_type": "stream",
       "stream": "stderr",
       "text": [
        "INFO:gensim.models.ldamodel:topic diff=0.509855, rho=0.707107\n"
       ]
      },
      {
       "output_type": "stream",
       "stream": "stderr",
       "text": [
        "INFO:gensim.models.ldamodel:-7.200 per-word bound, 147.0 perplexity estimate based on a held-out corpus of 2000 documents with 67780 words\n"
       ]
      },
      {
       "output_type": "stream",
       "stream": "stderr",
       "text": [
        "INFO:gensim.models.ldamodel:PROGRESS: pass 2, at document #2000/2000\n"
       ]
      },
      {
       "output_type": "stream",
       "stream": "stderr",
       "text": [
        "INFO:gensim.models.ldamodel:topic #0 (0.100): 0.011*stars + 0.009*dessert + 0.007*dish + 0.007*minutes + 0.006*chicken + 0.005*away + 0.005*creme + 0.005*friend + 0.005*scallops + 0.005*way\n"
       ]
      },
      {
       "output_type": "stream",
       "stream": "stderr",
       "text": [
        "INFO:gensim.models.ldamodel:topic #1 (0.100): 0.010*filet + 0.009*bloody + 0.008*bar + 0.008*mary + 0.007*chicken + 0.006*free + 0.006*mignon + 0.006*waiter + 0.006*gluten + 0.006*friends\n"
       ]
      },
      {
       "output_type": "stream",
       "stream": "stderr",
       "text": [
        "INFO:gensim.models.ldamodel:topic #2 (0.100): 0.009*escargot + 0.006*tasted + 0.006*sandwich + 0.006*enjoy + 0.005*brie + 0.005*loved + 0.005*times + 0.005*ok + 0.005*price + 0.005*able\n"
       ]
      },
      {
       "output_type": "stream",
       "stream": "stderr",
       "text": [
        "INFO:gensim.models.ldamodel:topic #3 (0.100): 0.008*minutes + 0.008*mussels + 0.007*staff + 0.007*awesome + 0.007*dining + 0.006*sandwich + 0.006*times + 0.006*dish + 0.006*huge + 0.005*outdoor\n"
       ]
      },
      {
       "output_type": "stream",
       "stream": "stderr",
       "text": [
        "INFO:gensim.models.ldamodel:topic #4 (0.100): 0.012*crepe + 0.008*seafood + 0.008*beef + 0.008*eggs + 0.007*chicken + 0.007*toast + 0.007*hash + 0.007*shrimp + 0.006*know + 0.006*bacon\n"
       ]
      },
      {
       "output_type": "stream",
       "stream": "stderr",
       "text": [
        "INFO:gensim.models.ldamodel:topic #5 (0.100): 0.008*filet + 0.008*wasn + 0.007*waiter + 0.006*scallops + 0.005*mignon + 0.005*wonderful + 0.005*know + 0.005*perfectly + 0.005*steaks + 0.005*tender\n"
       ]
      },
      {
       "output_type": "stream",
       "stream": "stderr",
       "text": [
        "INFO:gensim.models.ldamodel:topic #6 (0.100): 0.013*toast + 0.011*eggs + 0.010*coffee + 0.007*blueberry + 0.006*hotel + 0.006*benedict + 0.006*friend + 0.006*cream + 0.006*salmon + 0.006*served\n"
       ]
      },
      {
       "output_type": "stream",
       "stream": "stderr",
       "text": [
        "INFO:gensim.models.ldamodel:topic #7 (0.100): 0.008*sandwich + 0.007*outdoor + 0.006*minutes + 0.006*morning + 0.006*friend + 0.006*las + 0.006*watching + 0.006*eggs + 0.006*dining + 0.005*worth\n"
       ]
      },
      {
       "output_type": "stream",
       "stream": "stderr",
       "text": [
        "INFO:gensim.models.ldamodel:topic #8 (0.100): 0.010*filet + 0.007*mignon + 0.007*overall + 0.007*steaks + 0.007*loved + 0.006*mussels + 0.006*wife + 0.006*ambiance + 0.006*flavor + 0.005*quality\n"
       ]
      },
      {
       "output_type": "stream",
       "stream": "stderr",
       "text": [
        "INFO:gensim.models.ldamodel:topic #9 (0.100): 0.010*salmon + 0.008*yelp + 0.008*think + 0.008*com + 0.007*www + 0.007*http + 0.007*awesome + 0.007*select + 0.006*long + 0.006*eggs\n"
       ]
      },
      {
       "output_type": "stream",
       "stream": "stderr",
       "text": [
        "INFO:gensim.models.ldamodel:topic diff=0.430576, rho=0.577350\n"
       ]
      },
      {
       "output_type": "stream",
       "stream": "stderr",
       "text": [
        "INFO:gensim.models.ldamodel:-7.165 per-word bound, 143.5 perplexity estimate based on a held-out corpus of 2000 documents with 67780 words\n"
       ]
      },
      {
       "output_type": "stream",
       "stream": "stderr",
       "text": [
        "INFO:gensim.models.ldamodel:PROGRESS: pass 3, at document #2000/2000\n"
       ]
      },
      {
       "output_type": "stream",
       "stream": "stderr",
       "text": [
        "INFO:gensim.models.ldamodel:topic #0 (0.100): 0.011*stars + 0.009*dessert + 0.007*dish + 0.007*minutes + 0.006*creme + 0.006*away + 0.005*chicken + 0.005*scallops + 0.005*friend + 0.005*brulee\n"
       ]
      },
      {
       "output_type": "stream",
       "stream": "stderr",
       "text": [
        "INFO:gensim.models.ldamodel:topic #1 (0.100): 0.010*filet + 0.009*bloody + 0.009*bar + 0.009*mary + 0.007*chicken + 0.007*free + 0.006*mignon + 0.006*gluten + 0.006*waiter + 0.006*friends\n"
       ]
      },
      {
       "output_type": "stream",
       "stream": "stderr",
       "text": [
        "INFO:gensim.models.ldamodel:topic #2 (0.100): 0.010*escargot + 0.006*sandwich + 0.006*tasted + 0.006*enjoy + 0.006*brie + 0.005*able + 0.005*times + 0.005*loved + 0.005*boyfriend + 0.005*price\n"
       ]
      },
      {
       "output_type": "stream",
       "stream": "stderr",
       "text": [
        "INFO:gensim.models.ldamodel:topic #3 (0.100): 0.009*mussels + 0.008*minutes + 0.008*staff + 0.007*dining + 0.007*awesome + 0.007*times + 0.006*sandwich + 0.006*huge + 0.006*outdoor + 0.006*dish\n"
       ]
      },
      {
       "output_type": "stream",
       "stream": "stderr",
       "text": [
        "INFO:gensim.models.ldamodel:topic #4 (0.100): 0.014*crepe + 0.010*seafood + 0.009*beef + 0.008*eggs + 0.008*hash + 0.008*chicken + 0.008*toast + 0.007*bacon + 0.007*shrimp + 0.007*dish\n"
       ]
      },
      {
       "output_type": "stream",
       "stream": "stderr",
       "text": [
        "INFO:gensim.models.ldamodel:topic #5 (0.100): 0.009*filet + 0.008*wasn + 0.006*waiter + 0.006*scallops + 0.006*mignon + 0.005*perfectly + 0.005*know + 0.005*tender + 0.005*medium + 0.005*wonderful\n"
       ]
      },
      {
       "output_type": "stream",
       "stream": "stderr",
       "text": [
        "INFO:gensim.models.ldamodel:topic #6 (0.100): 0.015*toast + 0.013*eggs + 0.013*coffee + 0.008*blueberry + 0.008*benedict + 0.007*cream + 0.007*hotel + 0.006*salmon + 0.006*friend + 0.006*asked\n"
       ]
      },
      {
       "output_type": "stream",
       "stream": "stderr",
       "text": [
        "INFO:gensim.models.ldamodel:topic #7 (0.100): 0.008*sandwich + 0.007*outdoor + 0.007*morning + 0.007*las + 0.007*minutes + 0.006*watching + 0.006*friend + 0.006*eggs + 0.006*worth + 0.006*dining\n"
       ]
      },
      {
       "output_type": "stream",
       "stream": "stderr",
       "text": [
        "INFO:gensim.models.ldamodel:topic #8 (0.100): 0.012*filet + 0.008*mignon + 0.008*steaks + 0.007*overall + 0.007*loved + 0.006*mussels + 0.006*ambiance + 0.006*wife + 0.006*quality + 0.006*medium\n"
       ]
      },
      {
       "output_type": "stream",
       "stream": "stderr",
       "text": [
        "INFO:gensim.models.ldamodel:topic #9 (0.100): 0.010*salmon + 0.009*yelp + 0.009*com + 0.008*think + 0.008*www + 0.008*http + 0.008*select + 0.007*awesome + 0.006*visit + 0.006*long\n"
       ]
      },
      {
       "output_type": "stream",
       "stream": "stderr",
       "text": [
        "INFO:gensim.models.ldamodel:topic diff=0.376243, rho=0.500000\n"
       ]
      },
      {
       "output_type": "stream",
       "stream": "stdout",
       "text": [
        "CPU times: user 36.6 s, sys: 220 ms, total: 36.8 s\n",
        "Wall time: 38.1 s\n"
       ]
      }
     ],
     "prompt_number": 294
    },
    {
     "cell_type": "code",
     "collapsed": false,
     "input": [
      "_ = lda_model.print_topics(-1)  # print a few most important words for each LDA topic"
     ],
     "language": "python",
     "metadata": {},
     "outputs": [
      {
       "output_type": "stream",
       "stream": "stderr",
       "text": [
        "INFO:gensim.models.ldamodel:topic #0 (0.100): 0.011*stars + 0.009*dessert + 0.007*dish + 0.007*minutes + 0.006*creme + 0.006*away + 0.005*chicken + 0.005*scallops + 0.005*friend + 0.005*brulee\n"
       ]
      },
      {
       "output_type": "stream",
       "stream": "stderr",
       "text": [
        "INFO:gensim.models.ldamodel:topic #1 (0.100): 0.010*filet + 0.009*bloody + 0.009*bar + 0.009*mary + 0.007*chicken + 0.007*free + 0.006*mignon + 0.006*gluten + 0.006*waiter + 0.006*friends\n"
       ]
      },
      {
       "output_type": "stream",
       "stream": "stderr",
       "text": [
        "INFO:gensim.models.ldamodel:topic #2 (0.100): 0.010*escargot + 0.006*sandwich + 0.006*tasted + 0.006*enjoy + 0.006*brie + 0.005*able + 0.005*times + 0.005*loved + 0.005*boyfriend + 0.005*price\n"
       ]
      },
      {
       "output_type": "stream",
       "stream": "stderr",
       "text": [
        "INFO:gensim.models.ldamodel:topic #3 (0.100): 0.009*mussels + 0.008*minutes + 0.008*staff + 0.007*dining + 0.007*awesome + 0.007*times + 0.006*sandwich + 0.006*huge + 0.006*outdoor + 0.006*dish\n"
       ]
      },
      {
       "output_type": "stream",
       "stream": "stderr",
       "text": [
        "INFO:gensim.models.ldamodel:topic #4 (0.100): 0.014*crepe + 0.010*seafood + 0.009*beef + 0.008*eggs + 0.008*hash + 0.008*chicken + 0.008*toast + 0.007*bacon + 0.007*shrimp + 0.007*dish\n"
       ]
      },
      {
       "output_type": "stream",
       "stream": "stderr",
       "text": [
        "INFO:gensim.models.ldamodel:topic #5 (0.100): 0.009*filet + 0.008*wasn + 0.006*waiter + 0.006*scallops + 0.006*mignon + 0.005*perfectly + 0.005*know + 0.005*tender + 0.005*medium + 0.005*wonderful\n"
       ]
      },
      {
       "output_type": "stream",
       "stream": "stderr",
       "text": [
        "INFO:gensim.models.ldamodel:topic #6 (0.100): 0.015*toast + 0.013*eggs + 0.013*coffee + 0.008*blueberry + 0.008*benedict + 0.007*cream + 0.007*hotel + 0.006*salmon + 0.006*friend + 0.006*asked\n"
       ]
      },
      {
       "output_type": "stream",
       "stream": "stderr",
       "text": [
        "INFO:gensim.models.ldamodel:topic #7 (0.100): 0.008*sandwich + 0.007*outdoor + 0.007*morning + 0.007*las + 0.007*minutes + 0.006*watching + 0.006*friend + 0.006*eggs + 0.006*worth + 0.006*dining\n"
       ]
      },
      {
       "output_type": "stream",
       "stream": "stderr",
       "text": [
        "INFO:gensim.models.ldamodel:topic #8 (0.100): 0.012*filet + 0.008*mignon + 0.008*steaks + 0.007*overall + 0.007*loved + 0.006*mussels + 0.006*ambiance + 0.006*wife + 0.006*quality + 0.006*medium\n"
       ]
      },
      {
       "output_type": "stream",
       "stream": "stderr",
       "text": [
        "INFO:gensim.models.ldamodel:topic #9 (0.100): 0.010*salmon + 0.009*yelp + 0.009*com + 0.008*think + 0.008*www + 0.008*http + 0.008*select + 0.007*awesome + 0.006*visit + 0.006*long\n"
       ]
      }
     ],
     "prompt_number": 295
    },
    {
     "cell_type": "code",
     "collapsed": false,
     "input": [
      "%time tfidf_model = gensim.models.TfidfModel(mm_corpus, id2word=id2word_review)"
     ],
     "language": "python",
     "metadata": {},
     "outputs": [
      {
       "output_type": "stream",
       "stream": "stderr",
       "text": [
        "INFO:gensim.models.tfidfmodel:collecting document frequencies\n"
       ]
      },
      {
       "output_type": "stream",
       "stream": "stderr",
       "text": [
        "INFO:gensim.models.tfidfmodel:PROGRESS: processing document #0\n"
       ]
      },
      {
       "output_type": "stream",
       "stream": "stderr",
       "text": [
        "INFO:gensim.models.tfidfmodel:calculating IDF weights for 4056 documents and 1328 features (104961 matrix non-zeros)\n"
       ]
      },
      {
       "output_type": "stream",
       "stream": "stdout",
       "text": [
        "CPU times: user 801 ms, sys: 10.3 ms, total: 811 ms\n",
        "Wall time: 859 ms\n"
       ]
      }
     ],
     "prompt_number": 296
    },
    {
     "cell_type": "code",
     "collapsed": false,
     "input": [
      "%time lsi_model = gensim.models.LsiModel(tfidf_model[mm_corpus], id2word=id2word_review, num_topics=200)"
     ],
     "language": "python",
     "metadata": {},
     "outputs": [
      {
       "output_type": "stream",
       "stream": "stderr",
       "text": [
        "INFO:gensim.models.lsimodel:using serial LSI version on this node\n"
       ]
      },
      {
       "output_type": "stream",
       "stream": "stderr",
       "text": [
        "INFO:gensim.models.lsimodel:updating model with new documents\n"
       ]
      },
      {
       "output_type": "stream",
       "stream": "stderr",
       "text": [
        "INFO:gensim.models.lsimodel:preparing a new chunk of documents\n"
       ]
      },
      {
       "output_type": "stream",
       "stream": "stderr",
       "text": [
        "INFO:gensim.models.lsimodel:using 100 extra samples and 2 power iterations\n"
       ]
      },
      {
       "output_type": "stream",
       "stream": "stderr",
       "text": [
        "INFO:gensim.models.lsimodel:1st phase: constructing (1329, 300) action matrix\n"
       ]
      },
      {
       "output_type": "stream",
       "stream": "stderr",
       "text": [
        "INFO:gensim.models.lsimodel:orthonormalizing (1329, 300) action matrix\n"
       ]
      },
      {
       "output_type": "stream",
       "stream": "stderr",
       "text": [
        "INFO:gensim.models.lsimodel:2nd phase: running dense svd on (300, 4056) matrix\n"
       ]
      },
      {
       "output_type": "stream",
       "stream": "stderr",
       "text": [
        "INFO:gensim.models.lsimodel:computing the final decomposition\n"
       ]
      },
      {
       "output_type": "stream",
       "stream": "stderr",
       "text": [
        "INFO:gensim.models.lsimodel:keeping 200 factors (discarding 18.817% of energy spectrum)\n"
       ]
      },
      {
       "output_type": "stream",
       "stream": "stderr",
       "text": [
        "INFO:gensim.models.lsimodel:processed documents up to #4056\n"
       ]
      },
      {
       "output_type": "stream",
       "stream": "stderr",
       "text": [
        "INFO:gensim.models.lsimodel:topic #0(10.423): 0.099*\"filet\" + 0.092*\"chicken\" + 0.089*\"salmon\" + 0.087*\"atmosphere\" + 0.085*\"eggs\" + 0.085*\"location\" + 0.084*\"awesome\" + 0.083*\"favorite\" + 0.083*\"price\" + 0.082*\"waiter\"\n"
       ]
      },
      {
       "output_type": "stream",
       "stream": "stderr",
       "text": [
        "INFO:gensim.models.lsimodel:topic #1(5.229): 0.363*\"eggs\" + -0.318*\"filet\" + 0.282*\"benedict\" + -0.260*\"mignon\" + 0.238*\"toast\" + 0.202*\"bloody\" + 0.202*\"mary\" + 0.185*\"hash\" + -0.169*\"merlot\" + 0.167*\"coffee\"\n"
       ]
      },
      {
       "output_type": "stream",
       "stream": "stderr",
       "text": [
        "INFO:gensim.models.lsimodel:topic #2(4.875): -0.320*\"atmosphere\" + -0.239*\"location\" + -0.206*\"watch\" + -0.171*\"prices\" + -0.171*\"wonderful\" + -0.171*\"reasonable\" + -0.164*\"price\" + -0.161*\"favorite\" + -0.157*\"las\" + -0.155*\"awesome\"\n"
       ]
      },
      {
       "output_type": "stream",
       "stream": "stderr",
       "text": [
        "INFO:gensim.models.lsimodel:topic #3(4.737): 0.700*\"gluten\" + 0.590*\"free\" + -0.130*\"mary\" + -0.129*\"bloody\" + -0.108*\"bar\" + 0.107*\"gf\" + 0.097*\"options\" + 0.061*\"eggs\" + 0.061*\"benedict\" + 0.051*\"filet\"\n"
       ]
      },
      {
       "output_type": "stream",
       "stream": "stderr",
       "text": [
        "INFO:gensim.models.lsimodel:topic #4(4.593): -0.477*\"filet\" + -0.395*\"mignon\" + -0.252*\"merlot\" + -0.225*\"eggs\" + 0.190*\"sandwich\" + -0.176*\"benedict\" + 0.174*\"chicken\" + 0.164*\"seafood\" + -0.132*\"hash\" + -0.125*\"toast\"\n"
       ]
      },
      {
       "output_type": "stream",
       "stream": "stdout",
       "text": [
        "CPU times: user 2.12 s, sys: 159 ms, total: 2.27 s\n",
        "Wall time: 2.12 s\n"
       ]
      }
     ],
     "prompt_number": 297
    },
    {
     "cell_type": "code",
     "collapsed": false,
     "input": [
      "print(next(iter(lsi_model[tfidf_model[mm_corpus]])))"
     ],
     "language": "python",
     "metadata": {},
     "outputs": [
      {
       "output_type": "stream",
       "stream": "stdout",
       "text": [
        "[(0, 0.049845746012279188), (1, -0.0081231261809474181), (2, -0.15807637919630921), (3, -0.0062289047911249862), (4, -0.012824060825320832), (5, -0.084853955078630083), (6, -0.01378029143400402), (7, 0.19061032546652928), (8, 0.25839722131573756), (9, 0.049042593374919272), (10, 0.08561760039103862), (11, -0.077048623022047444), (12, 0.017160905481053389), (13, -0.058923451389631509), (14, 0.028763146132366395), (15, 0.097029079166868953), (16, 0.014303108360573361), (17, 0.097267551734836449), (18, 0.02182851096249085), (19, 0.0019044039673942886), (20, 0.0973836542326426), (21, 0.071959122131049713), (22, 0.024666177372977674), (23, -0.038043675143103653), (24, -0.014851269944729776), (25, 0.017525235953948823), (26, 0.023780239592737708), (27, -0.0051692736775476528), (28, 0.037969330175407878), (29, -0.031628820560283058), (30, 0.0040275327575458007), (31, -0.036573038461283111), (32, 0.026693120646482837), (33, 0.0034848229361915629), (34, -0.036547926656644671), (35, 0.0026900181578186737), (36, -0.0030952916869901731), (37, 0.0055125973478626885), (38, -0.030300587623874178), (39, -0.032133729802011547), (40, -0.004281028066036318), (41, -0.0081954660431579202), (42, 0.011623693360042457), (43, 0.0099907650731887194), (44, 0.028930671529669046), (45, 0.0097966259523657277), (46, -0.028581019508641635), (47, -0.019695036050805741), (48, -0.0074131247737278076), (49, -0.016996512603301244), (50, -0.0076311766525110885), (51, 0.023805666522197469), (52, 0.0079948817643480576), (53, -0.028697073442170117), (54, -0.021148509626257996), (55, 0.025468312537728303), (56, -0.027313366279787109), (57, -0.0077704303250288164), (58, 0.018460961402035542), (59, -0.0033008551011828712), (60, -0.0095756684424818557), (61, -0.035944962419407173), (62, 0.0030188027206988523), (63, 0.024981571746723635), (64, -0.013946202748526173), (65, 0.010617780063235728), (66, 0.024780839977492274), (67, 0.015296635935384453), (68, -0.044564252375374452), (69, 0.017396023739441852), (70, -0.041558306243218858), (71, -0.003762984716344652), (72, 0.026976750164932492), (73, -0.024756657558152862), (74, 0.030174457134599368), (75, -0.00058811808515473601), (76, 0.0028808539089711341), (77, 0.013575727331406814), (78, -0.0075597312192059131), (79, -0.0042900155783710935), (80, -0.0065645222073965181), (81, -0.0050324783998592221), (82, -0.0028991650350251373), (83, 0.012808469408534508), (84, -0.010112808691715772), (85, 0.014284426789827935), (86, -0.028674375389888682), (87, -0.021246294650523835), (88, -0.0064175684874142932), (89, -0.015662959823910451), (90, 0.033401423152534748), (91, 0.015428123249619273), (92, 0.0063278229204580712), (93, 0.0012213499175660779), (94, -0.021054089825400347), (95, 0.016884260133672811), (96, 0.0061129097682160686), (97, -0.0010204736110003484), (98, 0.022597960386863829), (99, 0.031510250550570426), (100, -0.022890177990549217), (101, 0.040385960889561902), (102, -0.023149154993627762), (103, 0.016312957859588039), (104, -0.023355750057444224), (105, -0.012177812900424464), (106, -0.0073792516355527266), (107, 0.0029461561053331425), (108, -0.0029760059358361199), (109, -0.0062601130060881017), (110, 0.0058707249412361549), (111, 0.041282633906511552), (112, -0.037628456138512373), (113, -0.028407384392156537), (114, -0.0055458095289915169), (115, 0.015597846883162649), (116, 0.011708294392284796), (117, -0.013435897251440449), (118, -0.0071675904889983875), (119, 0.011893265598120204), (120, 0.044406970359562363), (121, -0.027765171229745651), (122, -0.023076378213332742), (123, -0.023530058482208186), (124, -0.022076303996609294), (125, -0.0018483979241969823), (126, 0.010120618785048115), (127, -0.015535958172735028), (128, -0.023928004999851649), (129, -0.036695138146069298), (130, -0.0050578920138914119), (131, -0.00037844589950391475), (132, -0.020938186707377404), (133, -0.012817083842178814), (134, 0.00075450015909409723), (135, 0.05304308179937936), (136, 0.002474904929526932), (137, 0.0075427383681931203), (138, 0.03229620940857892), (139, -0.029061688132005131), (140, -0.020270148743359591), (141, 0.040067374316241529), (142, -0.0093204676291714465), (143, -0.036027435738304574), (144, 0.040158101551430743), (145, -0.0450259733294055), (146, -0.0073567962159123267), (147, 0.03534839207967342), (148, -0.033178660909760356), (149, -0.042489212417883289), (150, -0.011391385008675396), (151, -0.016588202698307481), (152, 0.00073310822609909095), (153, -0.0064888973395215935), (154, 0.024524469156739077), (155, 0.026436107360754503), (156, 0.037617726155205949), (157, 0.038808425312441844), (158, 0.036839685844535119), (159, -0.0057111907964167898), (160, -0.042929255223853852), (161, 0.0030619212863140649), (162, -0.0033949574117630547), (163, -0.01733935410861254), (164, 0.02862614587344537), (165, 0.027023174801088755), (166, 0.025405924733408011), (167, -0.016459569275086544), (168, -0.00890057253145741), (169, -0.0054787672081942672), (170, 0.032158479061232106), (171, 0.017052498369681771), (172, 0.0072163153404299872), (173, -0.066349807401414371), (174, 0.02902715629870789), (175, 0.069189783444870839), (176, 0.010426930092994766), (177, 0.0065704823186425541), (178, -0.0071400196110433826), (179, 0.031068496412006198), (180, -0.0014648073262927223), (181, -0.0073229134146250733), (182, -0.038318338886560915), (183, -0.025533665967036059), (184, 0.007716012688409637), (185, 0.025153412839978316), (186, -0.028525345760206836), (187, 0.034067340236240418), (188, 0.021322369037435705), (189, 0.071179826985342129), (190, -0.010517194890392292), (191, -0.048051044901271212), (192, 0.015925043322986211), (193, -0.029072020400363847), (194, -0.03405975753350645), (195, 0.018575654970028461), (196, -0.054550060536246982), (197, 0.023671400078918096), (198, 0.010351958610353769), (199, 0.04540420160890192)]\n"
       ]
      }
     ],
     "prompt_number": 298
    },
    {
     "cell_type": "code",
     "collapsed": false,
     "input": [
      "# cache the transformed corpora to disk, for use in later notebooks\n",
      "%time gensim.corpora.MmCorpus.serialize(data + 'reviews_tfidf.mm', tfidf_model[mm_corpus])\n",
      "%time gensim.corpora.MmCorpus.serialize(data + 'reviews_lsa.mm', lsi_model[tfidf_model[mm_corpus]])"
     ],
     "language": "python",
     "metadata": {},
     "outputs": [
      {
       "output_type": "stream",
       "stream": "stderr",
       "text": [
        "INFO:gensim.corpora.mmcorpus:storing corpus in Matrix Market format to ./yelp_data/reviews_tfidf.mm\n"
       ]
      },
      {
       "output_type": "stream",
       "stream": "stderr",
       "text": [
        "INFO:gensim.matutils:saving sparse matrix to ./yelp_data/reviews_tfidf.mm\n"
       ]
      },
      {
       "output_type": "stream",
       "stream": "stderr",
       "text": [
        "INFO:gensim.matutils:PROGRESS: saving document #0\n"
       ]
      },
      {
       "output_type": "stream",
       "stream": "stderr",
       "text": [
        "INFO:gensim.matutils:PROGRESS: saving document #1000\n"
       ]
      },
      {
       "output_type": "stream",
       "stream": "stderr",
       "text": [
        "INFO:gensim.matutils:PROGRESS: saving document #2000\n"
       ]
      },
      {
       "output_type": "stream",
       "stream": "stderr",
       "text": [
        "INFO:gensim.matutils:PROGRESS: saving document #3000\n"
       ]
      },
      {
       "output_type": "stream",
       "stream": "stderr",
       "text": [
        "INFO:gensim.matutils:PROGRESS: saving document #4000\n"
       ]
      },
      {
       "output_type": "stream",
       "stream": "stderr",
       "text": [
        "INFO:gensim.matutils:saved 4056x1329 matrix, density=1.947% (104961/5390424)\n"
       ]
      },
      {
       "output_type": "stream",
       "stream": "stderr",
       "text": [
        "INFO:gensim.corpora.indexedcorpus:saving MmCorpus index to ./yelp_data/reviews_tfidf.mm.index\n"
       ]
      },
      {
       "output_type": "stream",
       "stream": "stderr",
       "text": [
        "INFO:gensim.corpora.mmcorpus:storing corpus in Matrix Market format to ./yelp_data/reviews_lsa.mm\n"
       ]
      },
      {
       "output_type": "stream",
       "stream": "stderr",
       "text": [
        "INFO:gensim.matutils:saving sparse matrix to ./yelp_data/reviews_lsa.mm\n"
       ]
      },
      {
       "output_type": "stream",
       "stream": "stderr",
       "text": [
        "INFO:gensim.matutils:PROGRESS: saving document #0\n"
       ]
      },
      {
       "output_type": "stream",
       "stream": "stderr",
       "text": [
        "INFO:gensim.matutils:PROGRESS: saving document #1000\n"
       ]
      },
      {
       "output_type": "stream",
       "stream": "stderr",
       "text": [
        "INFO:gensim.matutils:PROGRESS: saving document #2000\n"
       ]
      },
      {
       "output_type": "stream",
       "stream": "stderr",
       "text": [
        "INFO:gensim.matutils:PROGRESS: saving document #3000\n"
       ]
      },
      {
       "output_type": "stream",
       "stream": "stderr",
       "text": [
        "INFO:gensim.matutils:PROGRESS: saving document #4000\n"
       ]
      },
      {
       "output_type": "stream",
       "stream": "stderr",
       "text": [
        "INFO:gensim.matutils:saved 4056x200 matrix, density=99.679% (808600/811200)\n"
       ]
      },
      {
       "output_type": "stream",
       "stream": "stderr",
       "text": [
        "INFO:gensim.corpora.indexedcorpus:saving MmCorpus index to ./yelp_data/reviews_lsa.mm.index\n"
       ]
      },
      {
       "output_type": "stream",
       "stream": "stdout",
       "text": [
        "CPU times: user 1.82 s, sys: 61.2 ms, total: 1.88 s\n",
        "Wall time: 2 s\n",
        "CPU times: user 7.59 s, sys: 147 ms, total: 7.73 s"
       ]
      },
      {
       "output_type": "stream",
       "stream": "stdout",
       "text": [
        "\n",
        "Wall time: 7.97 s\n"
       ]
      }
     ],
     "prompt_number": 299
    },
    {
     "cell_type": "code",
     "collapsed": false,
     "input": [
      "tfidf_corpus = gensim.corpora.MmCorpus(data + 'reviews_tfidf.mm')\n",
      "# `tfidf_corpus` is now exactly the same as `tfidf_model[wiki_corpus]`\n",
      "print(tfidf_corpus)\n",
      "\n",
      "lsi_corpus = gensim.corpora.MmCorpus(data + 'reviews_lsa.mm')\n",
      "# and `lsi_corpus` now equals `lsi_model[tfidf_model[wiki_corpus]]` = `lsi_model[tfidf_corpus]`\n",
      "print(lsi_corpus)"
     ],
     "language": "python",
     "metadata": {},
     "outputs": [
      {
       "output_type": "stream",
       "stream": "stderr",
       "text": [
        "INFO:gensim.corpora.indexedcorpus:loaded corpus index from ./yelp_data/reviews_tfidf.mm.index\n"
       ]
      },
      {
       "output_type": "stream",
       "stream": "stderr",
       "text": [
        "INFO:gensim.matutils:initializing corpus reader from ./yelp_data/reviews_tfidf.mm\n"
       ]
      },
      {
       "output_type": "stream",
       "stream": "stderr",
       "text": [
        "INFO:gensim.matutils:accepted corpus with 4056 documents, 1329 features, 104961 non-zero entries\n"
       ]
      },
      {
       "output_type": "stream",
       "stream": "stderr",
       "text": [
        "INFO:gensim.corpora.indexedcorpus:loaded corpus index from ./yelp_data/reviews_lsa.mm.index\n"
       ]
      },
      {
       "output_type": "stream",
       "stream": "stderr",
       "text": [
        "INFO:gensim.matutils:initializing corpus reader from ./yelp_data/reviews_lsa.mm\n"
       ]
      },
      {
       "output_type": "stream",
       "stream": "stderr",
       "text": [
        "INFO:gensim.matutils:accepted corpus with 4056 documents, 200 features, 808600 non-zero entries\n"
       ]
      },
      {
       "output_type": "stream",
       "stream": "stdout",
       "text": [
        "MmCorpus(4056 documents, 1329 features, 104961 non-zero entries)\n",
        "MmCorpus(4056 documents, 200 features, 808600 non-zero entries)\n"
       ]
      }
     ],
     "prompt_number": 300
    },
    {
     "cell_type": "code",
     "collapsed": false,
     "input": [
      "# select top 30 words for each of the 10 LDA topics\n",
      "top_words = [[word for _, word in lda_model.show_topic(topicno, topn=30)] for topicno in range(lda_model.num_topics)]\n",
      "print(top_words)"
     ],
     "language": "python",
     "metadata": {},
     "outputs": [
      {
       "output_type": "stream",
       "stream": "stdout",
       "text": [
        "[[u'stars', u'dessert', u'dish', u'minutes', u'creme', u'away', u'chicken', u'scallops', u'friend', u'brulee', u'long', u'way', u'waiter', u'line', u'cream', u'salmon', u'taste', u'ok', u'dining', u'glass', u'romantic', u'pm', u'large', u'baguette', u'wasn', u'ice', u'wanted', u'chocolate', u'plate', u'asked'], [u'filet', u'bloody', u'bar', u'mary', u'chicken', u'free', u'mignon', u'gluten', u'waiter', u'friends', u'prices', u'atmosphere', u'll', u'tasty', u'street', u'merlot', u'friendly', u'wasn', u'way', u'favorite', u'worth', u'ambiance', u'watching', u'reasonable', u'enjoy', u'fountain', u'enjoyed', u'stars', u'friend', u'hotel'], [u'escargot', u'sandwich', u'tasted', u'enjoy', u'brie', u'able', u'times', u'loved', u'boyfriend', u'price', u'ok', u'yummy', u'wasn', u'friends', u'mussels', u'eating', u'watching', u'big', u'reviews', u'overall', u'waiter', u'watch', u'half', u'restaurants', u'room', u'birthday', u'visit', u'entree', u'steaks', u'garlic'], [u'mussels', u'minutes', u'staff', u'dining', u'awesome', u'times', u'sandwich', u'huge', u'outdoor', u'dish', u'salmon', u'entree', u'watch', u'favorite', u'way', u'location', u'served', u'couldn', u'hot', u'fan', u'thing', u'salads', u'loved', u'crepe', u'room', u'sitting', u'chicken', u'las', u'll', u'happy'], [u'crepe', u'seafood', u'beef', u'eggs', u'hash', u'chicken', u'toast', u'bacon', u'shrimp', u'dish', u'egg', u'know', u'perfectly', u'poached', u'served', u'think', u'corned', u'wasn', u'way', u'light', u'sweet', u'cream', u'tasted', u'huge', u'stars', u'taste', u'crab', u'decided', u'waffles', u'salty'], [u'filet', u'wasn', u'waiter', u'scallops', u'mignon', u'perfectly', u'know', u'tender', u'medium', u'wonderful', u'steaks', u'tasty', u'rare', u'location', u'maybe', u'merlot', u'served', u'atmosphere', u'special', u'want', u'wanted', u'thing', u'bad', u'price', u'baguette', u'tried', u'escargot', u'las', u'big', u'potato'], [u'toast', u'eggs', u'coffee', u'blueberry', u'benedict', u'cream', u'hotel', u'salmon', u'friend', u'asked', u'served', u'crepe', u'ate', u'times', u'location', u'wasn', u'think', u'waitress', u'waiter', u'enjoyed', u'wanted', u'whipped', u'disappointed', u'smoked', u'las', u'friendly', u'attentive', u'oh', u'quality', u'outdoor'], [u'sandwich', u'outdoor', u'morning', u'las', u'minutes', u'watching', u'friend', u'eggs', u'worth', u'dining', u'fountain', u'trip', u'egg', u'know', u'fantastic', u'early', u'sitting', u'watch', u'think', u'way', u'want', u'casino', u'croque', u'said', u'hot', u'benedict', u'bar', u'thing', u'waiting', u'awesome'], [u'filet', u'mignon', u'steaks', u'overall', u'loved', u'mussels', u'ambiance', u'wife', u'quality', u'medium', u'flavor', u'prices', u'waiter', u'friend', u'price', u'bad', u'reasonable', u'garlic', u'appetizer', u'cut', u'spinach', u'ate', u'want', u'worth', u'rare', u'fantastic', u'enjoyed', u'salmon', u'restaurants', u'tasty'], [u'salmon', u'yelp', u'com', u'think', u'www', u'http', u'select', u'awesome', u'visit', u'long', u'eggs', u'fountain', u'bacon', u'trip', u'location', u'enjoy', u'sat', u'chicken', u'watch', u'quality', u'sandwich', u'thing', u'las', u'outdoor', u'eating', u'area', u'friends', u'spinach', u'wife', u'egg']]\n"
       ]
      }
     ],
     "prompt_number": 301
    },
    {
     "cell_type": "code",
     "collapsed": false,
     "input": [
      "# get all top 30 words in all 10 topics, as one large set\n",
      "all_words = set(itertools.chain.from_iterable(top_words))\n",
      "\n",
      "print len(all_words)\n",
      "all_words"
     ],
     "language": "python",
     "metadata": {},
     "outputs": [
      {
       "output_type": "stream",
       "stream": "stdout",
       "text": [
        "153\n"
       ]
      },
      {
       "metadata": {},
       "output_type": "pyout",
       "prompt_number": 302,
       "text": [
        "{u'able',\n",
        " u'ambiance',\n",
        " u'appetizer',\n",
        " u'area',\n",
        " u'asked',\n",
        " u'ate',\n",
        " u'atmosphere',\n",
        " u'attentive',\n",
        " u'away',\n",
        " u'awesome',\n",
        " u'bacon',\n",
        " u'bad',\n",
        " u'baguette',\n",
        " u'bar',\n",
        " u'beef',\n",
        " u'benedict',\n",
        " u'big',\n",
        " u'birthday',\n",
        " u'bloody',\n",
        " u'blueberry',\n",
        " u'boyfriend',\n",
        " u'brie',\n",
        " u'brulee',\n",
        " u'casino',\n",
        " u'chicken',\n",
        " u'chocolate',\n",
        " u'coffee',\n",
        " u'com',\n",
        " u'corned',\n",
        " u'couldn',\n",
        " u'crab',\n",
        " u'cream',\n",
        " u'creme',\n",
        " u'crepe',\n",
        " u'croque',\n",
        " u'cut',\n",
        " u'decided',\n",
        " u'dessert',\n",
        " u'dining',\n",
        " u'disappointed',\n",
        " u'dish',\n",
        " u'early',\n",
        " u'eating',\n",
        " u'egg',\n",
        " u'eggs',\n",
        " u'enjoy',\n",
        " u'enjoyed',\n",
        " u'entree',\n",
        " u'escargot',\n",
        " u'fan',\n",
        " u'fantastic',\n",
        " u'favorite',\n",
        " u'filet',\n",
        " u'flavor',\n",
        " u'fountain',\n",
        " u'free',\n",
        " u'friend',\n",
        " u'friendly',\n",
        " u'friends',\n",
        " u'garlic',\n",
        " u'glass',\n",
        " u'gluten',\n",
        " u'half',\n",
        " u'happy',\n",
        " u'hash',\n",
        " u'hot',\n",
        " u'hotel',\n",
        " u'http',\n",
        " u'huge',\n",
        " u'ice',\n",
        " u'know',\n",
        " u'large',\n",
        " u'las',\n",
        " u'light',\n",
        " u'line',\n",
        " u'll',\n",
        " u'location',\n",
        " u'long',\n",
        " u'loved',\n",
        " u'mary',\n",
        " u'maybe',\n",
        " u'medium',\n",
        " u'merlot',\n",
        " u'mignon',\n",
        " u'minutes',\n",
        " u'morning',\n",
        " u'mussels',\n",
        " u'oh',\n",
        " u'ok',\n",
        " u'outdoor',\n",
        " u'overall',\n",
        " u'perfectly',\n",
        " u'plate',\n",
        " u'pm',\n",
        " u'poached',\n",
        " u'potato',\n",
        " u'price',\n",
        " u'prices',\n",
        " u'quality',\n",
        " u'rare',\n",
        " u'reasonable',\n",
        " u'restaurants',\n",
        " u'reviews',\n",
        " u'romantic',\n",
        " u'room',\n",
        " u'said',\n",
        " u'salads',\n",
        " u'salmon',\n",
        " u'salty',\n",
        " u'sandwich',\n",
        " u'sat',\n",
        " u'scallops',\n",
        " u'seafood',\n",
        " u'select',\n",
        " u'served',\n",
        " u'shrimp',\n",
        " u'sitting',\n",
        " u'smoked',\n",
        " u'special',\n",
        " u'spinach',\n",
        " u'staff',\n",
        " u'stars',\n",
        " u'steaks',\n",
        " u'street',\n",
        " u'sweet',\n",
        " u'taste',\n",
        " u'tasted',\n",
        " u'tasty',\n",
        " u'tender',\n",
        " u'thing',\n",
        " u'think',\n",
        " u'times',\n",
        " u'toast',\n",
        " u'tried',\n",
        " u'trip',\n",
        " u'visit',\n",
        " u'waffles',\n",
        " u'waiter',\n",
        " u'waiting',\n",
        " u'waitress',\n",
        " u'want',\n",
        " u'wanted',\n",
        " u'wasn',\n",
        " u'watch',\n",
        " u'watching',\n",
        " u'way',\n",
        " u'whipped',\n",
        " u'wife',\n",
        " u'wonderful',\n",
        " u'worth',\n",
        " u'www',\n",
        " u'yelp',\n",
        " u'yummy'}"
       ]
      }
     ],
     "prompt_number": 302
    },
    {
     "cell_type": "code",
     "collapsed": false,
     "input": [
      "########################\n",
      "#\n",
      "# Above tests boiled down into singular function\n",
      "#\n",
      "########################\n",
      "\n",
      "def topNWords(data_set, n):\n",
      "    review_stream = (tokens for _, tokens in itertools.islice(iter_reviews(data_set), 10000))\n",
      "\n",
      "    #%time id2word_review = gensim.corpora.Dictionary(review_stream)\n",
      "    id2word_review = gensim.corpora.Dictionary(review_stream)\n",
      "\n",
      "    # ignore words that appear in less than 20 reviews or more than 10% reviews\n",
      "    id2word_review.filter_extremes(no_below=20, no_above=0.1)\n",
      "\n",
      "    # create a stream of bag-of-words vectors\n",
      "    review_corpus = ReviewCorpus(review_for_rest, id2word_review, clip_docs=5000)\n",
      "    vector = next(iter(review_corpus))\n",
      "\n",
      "    clipped_corpus = gensim.utils.ClippedCorpus(review_corpus, 2000)  # use fewer documents during training, LDA is slow\n",
      "    #%time lda_model = gensim.models.LdaModel(clipped_corpus, num_topics=10, id2word=id2word_review, passes=4)\n",
      "    lda_model = gensim.models.LdaModel(clipped_corpus, num_topics=10, id2word=id2word_review, passes=4)\n",
      "\n",
      "    # select top 30 words for each of the LDA topics\n",
      "    top_words = [[word for _, word in lda_model.show_topic(topicno, topn=30)] for topicno in range(lda_model.num_topics)]\n",
      "\n",
      "    # get all top N words in all topics, as one large set\n",
      "    all_words = set(itertools.chain.from_iterable(top_words))\n",
      "\n",
      "    return all_words"
     ],
     "language": "python",
     "metadata": {},
     "outputs": [],
     "prompt_number": 304
    },
    {
     "cell_type": "code",
     "collapsed": false,
     "input": [
      "topNWords(review_for_rest, 30)"
     ],
     "language": "python",
     "metadata": {},
     "outputs": [
      {
       "output_type": "stream",
       "stream": "stderr",
       "text": [
        "INFO:gensim.corpora.dictionary:adding document #0 to Dictionary(0 unique tokens: [])\n"
       ]
      },
      {
       "output_type": "stream",
       "stream": "stderr",
       "text": [
        "INFO:gensim.corpora.dictionary:built Dictionary(12194 unique tokens: [u'raining', u'hordes', u'yellow', u'revelers', u'gag']...) from 4056 documents (total 230329 corpus positions)\n"
       ]
      },
      {
       "output_type": "stream",
       "stream": "stderr",
       "text": [
        "INFO:gensim.corpora.dictionary:discarding 0 tokens: []...\n"
       ]
      },
      {
       "output_type": "stream",
       "stream": "stderr",
       "text": [
        "INFO:gensim.corpora.dictionary:keeping 1329 tokens which were in no less than 20 and no more than 405 (=10.0%) documents\n"
       ]
      },
      {
       "output_type": "stream",
       "stream": "stderr",
       "text": [
        "INFO:gensim.corpora.dictionary:resulting dictionary: Dictionary(1329 unique tokens: [u'limited', u'managed', u'consider', u'chain', u'saying']...)\n"
       ]
      },
      {
       "output_type": "stream",
       "stream": "stderr",
       "text": [
        "INFO:gensim.models.ldamodel:using symmetric alpha at 0.1\n"
       ]
      },
      {
       "output_type": "stream",
       "stream": "stderr",
       "text": [
        "INFO:gensim.models.ldamodel:using serial LDA version on this node\n"
       ]
      },
      {
       "output_type": "stream",
       "stream": "stderr",
       "text": [
        "INFO:gensim.models.ldamodel:running online LDA training, 10 topics, 4 passes over the supplied corpus of 2000 documents, updating model once every 2000 documents, evaluating perplexity every 2000 documents, iterating 50x with a convergence threshold of 0.001000\n"
       ]
      },
      {
       "output_type": "stream",
       "stream": "stderr",
       "text": [
        "WARNING:gensim.models.ldamodel:too few updates, training might not converge; consider increasing the number of passes or iterations to improve accuracy\n"
       ]
      },
      {
       "output_type": "stream",
       "stream": "stderr",
       "text": [
        "INFO:gensim.models.ldamodel:-12.125 per-word bound, 4467.0 perplexity estimate based on a held-out corpus of 2000 documents with 67780 words\n"
       ]
      },
      {
       "output_type": "stream",
       "stream": "stderr",
       "text": [
        "INFO:gensim.models.ldamodel:PROGRESS: pass 0, at document #2000/2000\n"
       ]
      },
      {
       "output_type": "stream",
       "stream": "stderr",
       "text": [
        "INFO:gensim.models.ldamodel:topic #0 (0.100): 0.009*jeans + 0.006*asked + 0.006*couldn + 0.006*plan + 0.005*short + 0.005*finds + 0.004*paying + 0.004*eat + 0.004*creative + 0.004*celebrate\n"
       ]
      },
      {
       "output_type": "stream",
       "stream": "stderr",
       "text": [
        "INFO:gensim.models.ldamodel:topic #1 (0.100): 0.006*jaw + 0.005*valued + 0.005*asked + 0.005*spring + 0.004*sprinklers + 0.004*ll + 0.004*venu + 0.004*plus + 0.004*glasses + 0.004*butter\n"
       ]
      },
      {
       "output_type": "stream",
       "stream": "stderr",
       "text": [
        "INFO:gensim.models.ldamodel:topic #2 (0.100): 0.010*tastes + 0.005*august + 0.005*couldn + 0.005*gets + 0.005*paw + 0.004*thingies + 0.004*asked + 0.004*restaurant + 0.004*caramelized + 0.004*suggest\n"
       ]
      },
      {
       "output_type": "stream",
       "stream": "stderr",
       "text": [
        "INFO:gensim.models.ldamodel:topic #3 (0.100): 0.006*described + 0.006*spring + 0.006*sprinklers + 0.005*jeans + 0.005*valued + 0.005*short + 0.005*bon + 0.005*number + 0.005*playing + 0.004*overcooked\n"
       ]
      },
      {
       "output_type": "stream",
       "stream": "stderr",
       "text": [
        "INFO:gensim.models.ldamodel:topic #4 (0.100): 0.006*minimum + 0.006*glasses + 0.005*cripsy + 0.004*jeans + 0.004*fans + 0.004*end + 0.004*spring + 0.004*grapes + 0.004*lives + 0.004*provide\n"
       ]
      },
      {
       "output_type": "stream",
       "stream": "stderr",
       "text": [
        "INFO:gensim.models.ldamodel:topic #5 (0.100): 0.006*visit + 0.005*staff + 0.005*shaky + 0.005*jaw + 0.004*plus + 0.004*eat + 0.004*est + 0.004*blew + 0.004*cripsy + 0.004*spring\n"
       ]
      },
      {
       "output_type": "stream",
       "stream": "stderr",
       "text": [
        "INFO:gensim.models.ldamodel:topic #6 (0.100): 0.007*bun + 0.006*sprinklers + 0.006*staff + 0.006*end + 0.005*hell + 0.005*butter + 0.004*slow + 0.004*spring + 0.004*jeans + 0.004*art\n"
       ]
      },
      {
       "output_type": "stream",
       "stream": "stderr",
       "text": [
        "INFO:gensim.models.ldamodel:topic #7 (0.100): 0.008*jeans + 0.005*butter + 0.005*lot + 0.005*couldn + 0.004*asked + 0.004*cheap + 0.004*finds + 0.004*plan + 0.004*deep + 0.004*poor\n"
       ]
      },
      {
       "output_type": "stream",
       "stream": "stderr",
       "text": [
        "INFO:gensim.models.ldamodel:topic #8 (0.100): 0.005*valued + 0.005*paw + 0.005*penny + 0.004*crust + 0.004*mother + 0.004*loves + 0.004*including + 0.004*ridiculous + 0.004*row + 0.004*enjoyed\n"
       ]
      },
      {
       "output_type": "stream",
       "stream": "stderr",
       "text": [
        "INFO:gensim.models.ldamodel:topic #9 (0.100): 0.005*upscale + 0.005*makes + 0.004*fountains + 0.004*selection + 0.004*shaky + 0.004*paw + 0.004*regular + 0.004*ll + 0.004*careful + 0.004*translation\n"
       ]
      },
      {
       "output_type": "stream",
       "stream": "stderr",
       "text": [
        "INFO:gensim.models.ldamodel:topic diff=8.629941, rho=1.000000\n"
       ]
      },
      {
       "output_type": "stream",
       "stream": "stderr",
       "text": [
        "INFO:gensim.models.ldamodel:-7.655 per-word bound, 201.6 perplexity estimate based on a held-out corpus of 2000 documents with 67780 words\n"
       ]
      },
      {
       "output_type": "stream",
       "stream": "stderr",
       "text": [
        "INFO:gensim.models.ldamodel:PROGRESS: pass 1, at document #2000/2000\n"
       ]
      },
      {
       "output_type": "stream",
       "stream": "stderr",
       "text": [
        "INFO:gensim.models.ldamodel:topic #0 (0.100): 0.011*jeans + 0.007*plan + 0.007*asked + 0.006*finds + 0.006*couldn + 0.005*short + 0.004*paying + 0.004*board + 0.004*eat + 0.004*creative\n"
       ]
      },
      {
       "output_type": "stream",
       "stream": "stderr",
       "text": [
        "INFO:gensim.models.ldamodel:topic #1 (0.100): 0.007*jaw + 0.005*asked + 0.005*valued + 0.005*spring + 0.004*plus + 0.004*sprinklers + 0.004*ll + 0.004*ichiza + 0.004*venu + 0.004*butter\n"
       ]
      },
      {
       "output_type": "stream",
       "stream": "stderr",
       "text": [
        "INFO:gensim.models.ldamodel:topic #2 (0.100): 0.013*tastes + 0.006*paw + 0.006*august + 0.006*suggest + 0.006*couldn + 0.006*restaurant + 0.005*smart + 0.005*gets + 0.005*thingies + 0.005*list\n"
       ]
      },
      {
       "output_type": "stream",
       "stream": "stderr",
       "text": [
        "INFO:gensim.models.ldamodel:topic #3 (0.100): 0.007*described + 0.006*number + 0.006*sprinklers + 0.006*spring + 0.005*short + 0.005*caught + 0.005*overcooked + 0.005*jeans + 0.005*valued + 0.005*bon\n"
       ]
      },
      {
       "output_type": "stream",
       "stream": "stderr",
       "text": [
        "INFO:gensim.models.ldamodel:topic #4 (0.100): 0.008*minimum + 0.006*glasses + 0.006*cripsy + 0.005*jeans + 0.004*fans + 0.004*customer + 0.004*bon + 0.004*provide + 0.004*grapes + 0.004*bad\n"
       ]
      },
      {
       "output_type": "stream",
       "stream": "stderr",
       "text": [
        "INFO:gensim.models.ldamodel:topic #5 (0.100): 0.007*visit + 0.005*staff + 0.005*shaky + 0.004*jaw + 0.004*plus + 0.004*eat + 0.004*minute + 0.004*est + 0.004*cripsy + 0.004*finds\n"
       ]
      },
      {
       "output_type": "stream",
       "stream": "stderr",
       "text": [
        "INFO:gensim.models.ldamodel:topic #6 (0.100): 0.010*bun + 0.007*staff + 0.006*sprinklers + 0.006*end + 0.005*butter + 0.005*slow + 0.005*art + 0.005*hell + 0.005*celebrate + 0.004*cooked\n"
       ]
      },
      {
       "output_type": "stream",
       "stream": "stderr",
       "text": [
        "INFO:gensim.models.ldamodel:topic #7 (0.100): 0.009*lot + 0.008*jeans + 0.008*chips + 0.007*searing + 0.007*salary + 0.007*flakey + 0.006*butter + 0.005*couldn + 0.004*beef + 0.004*selection\n"
       ]
      },
      {
       "output_type": "stream",
       "stream": "stderr",
       "text": [
        "INFO:gensim.models.ldamodel:topic #8 (0.100): 0.010*crust + 0.010*alcohol + 0.009*penny + 0.007*paw + 0.005*party + 0.004*including + 0.004*valued + 0.004*loves + 0.004*enjoyed + 0.004*mother\n"
       ]
      },
      {
       "output_type": "stream",
       "stream": "stderr",
       "text": [
        "INFO:gensim.models.ldamodel:topic #9 (0.100): 0.007*upscale + 0.005*selection + 0.005*makes + 0.004*regular + 0.004*translation + 0.004*brie + 0.004*shaky + 0.004*fountains + 0.004*mouth + 0.004*eggy\n"
       ]
      },
      {
       "output_type": "stream",
       "stream": "stderr",
       "text": [
        "INFO:gensim.models.ldamodel:topic diff=0.239188, rho=0.707107\n"
       ]
      },
      {
       "output_type": "stream",
       "stream": "stderr",
       "text": [
        "INFO:gensim.models.ldamodel:-7.564 per-word bound, 189.3 perplexity estimate based on a held-out corpus of 2000 documents with 67780 words\n"
       ]
      },
      {
       "output_type": "stream",
       "stream": "stderr",
       "text": [
        "INFO:gensim.models.ldamodel:PROGRESS: pass 2, at document #2000/2000\n"
       ]
      },
      {
       "output_type": "stream",
       "stream": "stderr",
       "text": [
        "INFO:gensim.models.ldamodel:topic #0 (0.100): 0.013*jeans + 0.009*plan + 0.008*asked + 0.007*finds + 0.006*couldn + 0.005*short + 0.005*paying + 0.005*board + 0.004*eat + 0.004*creative\n"
       ]
      },
      {
       "output_type": "stream",
       "stream": "stderr",
       "text": [
        "INFO:gensim.models.ldamodel:topic #1 (0.100): 0.006*jaw + 0.006*asked + 0.005*valued + 0.005*spring + 0.004*plus + 0.004*sprinklers + 0.004*ichiza + 0.004*venu + 0.004*ll + 0.004*poor\n"
       ]
      },
      {
       "output_type": "stream",
       "stream": "stderr",
       "text": [
        "INFO:gensim.models.ldamodel:topic #2 (0.100): 0.015*tastes + 0.008*paw + 0.007*suggest + 0.007*fits + 0.007*couldn + 0.007*list + 0.006*restaurant + 0.006*august + 0.006*thingies + 0.006*smart\n"
       ]
      },
      {
       "output_type": "stream",
       "stream": "stderr",
       "text": [
        "INFO:gensim.models.ldamodel:topic #3 (0.100): 0.008*described + 0.006*number + 0.006*short + 0.006*spring + 0.006*sprinklers + 0.005*caught + 0.005*slow + 0.005*overcooked + 0.005*valued + 0.005*sales\n"
       ]
      },
      {
       "output_type": "stream",
       "stream": "stderr",
       "text": [
        "INFO:gensim.models.ldamodel:topic #4 (0.100): 0.008*minimum + 0.006*glasses + 0.005*jeans + 0.005*cripsy + 0.004*customer + 0.004*bon + 0.004*bad + 0.004*provide + 0.004*je + 0.004*grapes\n"
       ]
      },
      {
       "output_type": "stream",
       "stream": "stderr",
       "text": [
        "INFO:gensim.models.ldamodel:topic #5 (0.100): 0.007*visit + 0.005*shaky + 0.005*staff + 0.004*minute + 0.004*lives + 0.004*customer + 0.004*cripsy + 0.004*plus + 0.004*finds + 0.004*crpe\n"
       ]
      },
      {
       "output_type": "stream",
       "stream": "stderr",
       "text": [
        "INFO:gensim.models.ldamodel:topic #6 (0.100): 0.012*bun + 0.007*staff + 0.007*end + 0.006*sprinklers + 0.005*butter + 0.005*slow + 0.005*art + 0.005*celebrate + 0.005*hell + 0.004*cooked\n"
       ]
      },
      {
       "output_type": "stream",
       "stream": "stderr",
       "text": [
        "INFO:gensim.models.ldamodel:topic #7 (0.100): 0.012*lot + 0.011*chips + 0.011*searing + 0.011*salary + 0.010*flakey + 0.008*jeans + 0.007*butter + 0.005*couldn + 0.004*selection + 0.004*beef\n"
       ]
      },
      {
       "output_type": "stream",
       "stream": "stderr",
       "text": [
        "INFO:gensim.models.ldamodel:topic #8 (0.100): 0.018*crust + 0.017*alcohol + 0.014*penny + 0.008*paw + 0.006*party + 0.005*suggest + 0.005*direct + 0.004*including + 0.004*disappointed + 0.004*loves\n"
       ]
      },
      {
       "output_type": "stream",
       "stream": "stderr",
       "text": [
        "INFO:gensim.models.ldamodel:topic #9 (0.100): 0.008*upscale + 0.005*selection + 0.005*brie + 0.004*seated + 0.004*makes + 0.004*regular + 0.004*translation + 0.004*mouth + 0.003*eggy + 0.003*days\n"
       ]
      },
      {
       "output_type": "stream",
       "stream": "stderr",
       "text": [
        "INFO:gensim.models.ldamodel:topic diff=0.185495, rho=0.577350\n"
       ]
      },
      {
       "output_type": "stream",
       "stream": "stderr",
       "text": [
        "INFO:gensim.models.ldamodel:-7.508 per-word bound, 182.0 perplexity estimate based on a held-out corpus of 2000 documents with 67780 words\n"
       ]
      },
      {
       "output_type": "stream",
       "stream": "stderr",
       "text": [
        "INFO:gensim.models.ldamodel:PROGRESS: pass 3, at document #2000/2000\n"
       ]
      },
      {
       "output_type": "stream",
       "stream": "stderr",
       "text": [
        "INFO:gensim.models.ldamodel:topic #0 (0.100): 0.016*jeans + 0.011*plan + 0.008*asked + 0.007*finds + 0.006*couldn + 0.005*short + 0.005*paying + 0.005*board + 0.005*je + 0.004*creative\n"
       ]
      },
      {
       "output_type": "stream",
       "stream": "stderr",
       "text": [
        "INFO:gensim.models.ldamodel:topic #1 (0.100): 0.006*jaw + 0.006*asked + 0.005*valued + 0.005*spring + 0.004*plus + 0.004*sprinklers + 0.004*light + 0.004*ichiza + 0.004*poor + 0.004*venu\n"
       ]
      },
      {
       "output_type": "stream",
       "stream": "stderr",
       "text": [
        "INFO:gensim.models.ldamodel:topic #2 (0.100): 0.015*tastes + 0.009*fits + 0.009*paw + 0.008*list + 0.008*suggest + 0.007*couldn + 0.007*restaurant + 0.006*thingies + 0.006*spend + 0.006*august\n"
       ]
      },
      {
       "output_type": "stream",
       "stream": "stderr",
       "text": [
        "INFO:gensim.models.ldamodel:topic #3 (0.100): 0.008*described + 0.007*number + 0.006*short + 0.006*caught + 0.006*slow + 0.006*spring + 0.005*sprinklers + 0.005*sales + 0.005*overcooked + 0.005*shaky\n"
       ]
      },
      {
       "output_type": "stream",
       "stream": "stderr",
       "text": [
        "INFO:gensim.models.ldamodel:topic #4 (0.100): 0.008*minimum + 0.006*glasses + 0.005*jeans + 0.005*cripsy + 0.004*bon + 0.004*bad + 0.004*customer + 0.004*je + 0.004*grapes + 0.004*lives\n"
       ]
      },
      {
       "output_type": "stream",
       "stream": "stderr",
       "text": [
        "INFO:gensim.models.ldamodel:topic #5 (0.100): 0.007*visit + 0.005*shaky + 0.005*staff + 0.005*customer + 0.005*lives + 0.005*minute + 0.005*crpe + 0.004*cripsy + 0.004*finds + 0.004*eat\n"
       ]
      },
      {
       "output_type": "stream",
       "stream": "stderr",
       "text": [
        "INFO:gensim.models.ldamodel:topic #6 (0.100): 0.015*bun + 0.007*staff + 0.006*sprinklers + 0.006*end + 0.006*butter + 0.005*slow + 0.005*celebrate + 0.005*art + 0.005*hell + 0.005*shrimp\n"
       ]
      },
      {
       "output_type": "stream",
       "stream": "stderr",
       "text": [
        "INFO:gensim.models.ldamodel:topic #7 (0.100): 0.015*lot + 0.015*chips + 0.014*searing + 0.014*salary + 0.013*flakey + 0.007*jeans + 0.007*butter + 0.004*couldn + 0.004*selection + 0.004*je\n"
       ]
      },
      {
       "output_type": "stream",
       "stream": "stderr",
       "text": [
        "INFO:gensim.models.ldamodel:topic #8 (0.100): 0.025*crust + 0.023*alcohol + 0.018*penny + 0.009*paw + 0.006*party + 0.005*direct + 0.005*suggest + 0.005*disappointed + 0.004*loves + 0.004*machine\n"
       ]
      },
      {
       "output_type": "stream",
       "stream": "stderr",
       "text": [
        "INFO:gensim.models.ldamodel:topic #9 (0.100): 0.010*upscale + 0.005*brie + 0.005*seated + 0.005*selection + 0.004*mouth + 0.004*regular + 0.004*makes + 0.004*friday + 0.004*translation + 0.004*celebrate\n"
       ]
      },
      {
       "output_type": "stream",
       "stream": "stderr",
       "text": [
        "INFO:gensim.models.ldamodel:topic diff=0.150744, rho=0.500000\n"
       ]
      },
      {
       "output_type": "stream",
       "stream": "stdout",
       "text": [
        "CPU times: user 1.97 s, sys: 22.8 ms, total: 1.99 s\n",
        "Wall time: 2.01 s\n",
        "CPU times: user 44.4 s, sys: 496 ms, total: 44.9 s"
       ]
      },
      {
       "output_type": "stream",
       "stream": "stdout",
       "text": [
        "\n",
        "Wall time: 49.5 s\n"
       ]
      },
      {
       "metadata": {},
       "output_type": "pyout",
       "prompt_number": 305,
       "text": [
        "{u'accommodate',\n",
        " u'add',\n",
        " u'advance',\n",
        " u'affordable',\n",
        " u'american',\n",
        " u'appetite',\n",
        " u'appetizer',\n",
        " u'apples',\n",
        " u'arrive',\n",
        " u'aside',\n",
        " u'attention',\n",
        " u'average',\n",
        " u'avoid',\n",
        " u'bachelorette',\n",
        " u'balcony',\n",
        " u'bday',\n",
        " u'believe',\n",
        " u'big',\n",
        " u'bloody',\n",
        " u'book',\n",
        " u'buzzer',\n",
        " u'cafe',\n",
        " u'cauliflower',\n",
        " u'changed',\n",
        " u'cheaper',\n",
        " u'chef',\n",
        " u'chilled',\n",
        " u'close',\n",
        " u'company',\n",
        " u'complaints',\n",
        " u'consistent',\n",
        " u'courses',\n",
        " u'crepes',\n",
        " u'crowded',\n",
        " u'date',\n",
        " u'days',\n",
        " u'delish',\n",
        " u'delivered',\n",
        " u'dessert',\n",
        " u'die',\n",
        " u'dine',\n",
        " u'diners',\n",
        " u'dining',\n",
        " u'du',\n",
        " u'earlier',\n",
        " u'easy',\n",
        " u'ended',\n",
        " u'escargot',\n",
        " u'establishment',\n",
        " u'face',\n",
        " u'facing',\n",
        " u'fall',\n",
        " u'favorite',\n",
        " u'felt',\n",
        " u'figure',\n",
        " u'filled',\n",
        " u'finally',\n",
        " u'flat',\n",
        " u'folks',\n",
        " u'fried',\n",
        " u'friend',\n",
        " u'frisee',\n",
        " u'generally',\n",
        " u'gotta',\n",
        " u'gotten',\n",
        " u'hash',\n",
        " u'hear',\n",
        " u'highlight',\n",
        " u'idea',\n",
        " u'included',\n",
        " u'incredible',\n",
        " u'juicy',\n",
        " u'know',\n",
        " u'lady',\n",
        " u'lamb',\n",
        " u'lettuce',\n",
        " u'light',\n",
        " u'liked',\n",
        " u'likely',\n",
        " u'liking',\n",
        " u'live',\n",
        " u'long',\n",
        " u'look',\n",
        " u'loved',\n",
        " u'management',\n",
        " u'means',\n",
        " u'mignon',\n",
        " u'mind',\n",
        " u'miss',\n",
        " u'money',\n",
        " u'month',\n",
        " u'muffin',\n",
        " u'non',\n",
        " u'olives',\n",
        " u'onions',\n",
        " u'opinion',\n",
        " u'oven',\n",
        " u'overpriced',\n",
        " u'particularly',\n",
        " u'pass',\n",
        " u'perfectly',\n",
        " u'person',\n",
        " u'piece',\n",
        " u'plan',\n",
        " u'plate',\n",
        " u'prepared',\n",
        " u'priced',\n",
        " u'prime',\n",
        " u'provide',\n",
        " u'quality',\n",
        " u'quick',\n",
        " u'quickly',\n",
        " u'range',\n",
        " u'received',\n",
        " u'returned',\n",
        " u'reviews',\n",
        " u'roquefort',\n",
        " u'salmon',\n",
        " u'sea',\n",
        " u'seat',\n",
        " u'serving',\n",
        " u'shows',\n",
        " u'sister',\n",
        " u'smooth',\n",
        " u'somewhat',\n",
        " u'sounds',\n",
        " u'soups',\n",
        " u'spinach',\n",
        " u'squeezed',\n",
        " u'st',\n",
        " u'staying',\n",
        " u'stop',\n",
        " u'suggested',\n",
        " u'superb',\n",
        " u'tables',\n",
        " u'talk',\n",
        " u'talking',\n",
        " u'taste',\n",
        " u'tasting',\n",
        " u'thinly',\n",
        " u'thoroughly',\n",
        " u'today',\n",
        " u'topped',\n",
        " u'traditional',\n",
        " u'turned',\n",
        " u'unfortunately',\n",
        " u'use',\n",
        " u'views',\n",
        " u'wasn',\n",
        " u'weren',\n",
        " u'world',\n",
        " u'worst',\n",
        " u'york'}"
       ]
      }
     ],
     "prompt_number": 305
    },
    {
     "cell_type": "code",
     "collapsed": false,
     "input": [
      "####################################################\n",
      "# Find the most important reviews for a restaurant #\n",
      "####################################################\n",
      "\n",
      "importantWords = topNWords(review_for_rest, 30)"
     ],
     "language": "python",
     "metadata": {},
     "outputs": [
      {
       "output_type": "stream",
       "stream": "stderr",
       "text": [
        "INFO:gensim.corpora.dictionary:adding document #0 to Dictionary(0 unique tokens: [])\n"
       ]
      },
      {
       "output_type": "stream",
       "stream": "stderr",
       "text": [
        "INFO:gensim.corpora.dictionary:built Dictionary(12194 unique tokens: [u'raining', u'hordes', u'yellow', u'revelers', u'gag']...) from 4056 documents (total 230329 corpus positions)\n"
       ]
      },
      {
       "output_type": "stream",
       "stream": "stderr",
       "text": [
        "INFO:gensim.corpora.dictionary:discarding 0 tokens: []...\n"
       ]
      },
      {
       "output_type": "stream",
       "stream": "stderr",
       "text": [
        "INFO:gensim.corpora.dictionary:keeping 1329 tokens which were in no less than 20 and no more than 405 (=10.0%) documents\n"
       ]
      },
      {
       "output_type": "stream",
       "stream": "stderr",
       "text": [
        "INFO:gensim.corpora.dictionary:resulting dictionary: Dictionary(1329 unique tokens: [u'limited', u'managed', u'consider', u'chain', u'saying']...)\n"
       ]
      },
      {
       "output_type": "stream",
       "stream": "stderr",
       "text": [
        "INFO:gensim.models.ldamodel:using symmetric alpha at 0.1\n"
       ]
      },
      {
       "output_type": "stream",
       "stream": "stderr",
       "text": [
        "INFO:gensim.models.ldamodel:using serial LDA version on this node\n"
       ]
      },
      {
       "output_type": "stream",
       "stream": "stderr",
       "text": [
        "INFO:gensim.models.ldamodel:running online LDA training, 10 topics, 4 passes over the supplied corpus of 2000 documents, updating model once every 2000 documents, evaluating perplexity every 2000 documents, iterating 50x with a convergence threshold of 0.001000\n"
       ]
      },
      {
       "output_type": "stream",
       "stream": "stderr",
       "text": [
        "WARNING:gensim.models.ldamodel:too few updates, training might not converge; consider increasing the number of passes or iterations to improve accuracy\n"
       ]
      },
      {
       "output_type": "stream",
       "stream": "stderr",
       "text": [
        "INFO:gensim.models.ldamodel:-12.124 per-word bound, 4463.5 perplexity estimate based on a held-out corpus of 2000 documents with 67780 words\n"
       ]
      },
      {
       "output_type": "stream",
       "stream": "stderr",
       "text": [
        "INFO:gensim.models.ldamodel:PROGRESS: pass 0, at document #2000/2000\n"
       ]
      },
      {
       "output_type": "stream",
       "stream": "stderr",
       "text": [
        "INFO:gensim.models.ldamodel:topic #0 (0.100): 0.006*glasses + 0.005*times + 0.005*feet + 0.004*rolls + 0.004*incredible + 0.004*couldn + 0.004*corporation + 0.004*asked + 0.004*vegetables + 0.003*suited\n"
       ]
      },
      {
       "output_type": "stream",
       "stream": "stderr",
       "text": [
        "INFO:gensim.models.ldamodel:topic #1 (0.100): 0.007*work + 0.005*kiss + 0.005*pairings + 0.005*rolls + 0.005*sampler + 0.004*americans + 0.004*est + 0.004*maison + 0.004*bordelaise + 0.004*valued\n"
       ]
      },
      {
       "output_type": "stream",
       "stream": "stderr",
       "text": [
        "INFO:gensim.models.ldamodel:topic #2 (0.100): 0.007*incredible + 0.007*sprinklers + 0.006*heavy + 0.005*bleu + 0.004*pop + 0.004*basically + 0.004*work + 0.004*date + 0.004*different + 0.004*mind\n"
       ]
      },
      {
       "output_type": "stream",
       "stream": "stderr",
       "text": [
        "INFO:gensim.models.ldamodel:topic #3 (0.100): 0.007*boyfriend + 0.006*meal + 0.005*suited + 0.004*maison + 0.004*short + 0.004*prime + 0.004*think + 0.004*cheap + 0.004*pairings + 0.004*celebrate\n"
       ]
      },
      {
       "output_type": "stream",
       "stream": "stderr",
       "text": [
        "INFO:gensim.models.ldamodel:topic #4 (0.100): 0.006*short + 0.006*rolls + 0.005*couldn + 0.005*work + 0.005*free + 0.005*sprinklers + 0.005*ps + 0.004*decent + 0.004*start + 0.004*different\n"
       ]
      },
      {
       "output_type": "stream",
       "stream": "stderr",
       "text": [
        "INFO:gensim.models.ldamodel:topic #5 (0.100): 0.008*early + 0.006*crowded + 0.006*incredible + 0.006*sampler + 0.005*onions + 0.005*multiple + 0.005*onion + 0.005*patrons + 0.005*valued + 0.005*rolls\n"
       ]
      },
      {
       "output_type": "stream",
       "stream": "stderr",
       "text": [
        "INFO:gensim.models.ldamodel:topic #6 (0.100): 0.005*party + 0.005*incredible + 0.004*rolls + 0.004*early + 0.004*caught + 0.004*short + 0.004*service + 0.004*row + 0.004*days + 0.004*opentable\n"
       ]
      },
      {
       "output_type": "stream",
       "stream": "stderr",
       "text": [
        "INFO:gensim.models.ldamodel:topic #7 (0.100): 0.005*maison + 0.005*free + 0.005*valued + 0.005*beg + 0.004*impressed + 0.004*pairings + 0.004*la + 0.004*prime + 0.004*patrons + 0.004*cold\n"
       ]
      },
      {
       "output_type": "stream",
       "stream": "stderr",
       "text": [
        "INFO:gensim.models.ldamodel:topic #8 (0.100): 0.006*work + 0.005*incredible + 0.005*bleu + 0.005*date + 0.005*short + 0.004*favorite + 0.004*slow + 0.004*onions + 0.004*large + 0.004*dryness\n"
       ]
      },
      {
       "output_type": "stream",
       "stream": "stderr",
       "text": [
        "INFO:gensim.models.ldamodel:topic #9 (0.100): 0.008*couldn + 0.005*sprinklers + 0.005*sampler + 0.004*ps + 0.004*impressed + 0.004*incredible + 0.004*bleu + 0.004*bachelorette + 0.004*think + 0.004*jeans\n"
       ]
      },
      {
       "output_type": "stream",
       "stream": "stderr",
       "text": [
        "INFO:gensim.models.ldamodel:topic diff=8.648805, rho=1.000000\n"
       ]
      },
      {
       "output_type": "stream",
       "stream": "stderr",
       "text": [
        "INFO:gensim.models.ldamodel:-7.673 per-word bound, 204.0 perplexity estimate based on a held-out corpus of 2000 documents with 67780 words\n"
       ]
      },
      {
       "output_type": "stream",
       "stream": "stderr",
       "text": [
        "INFO:gensim.models.ldamodel:PROGRESS: pass 1, at document #2000/2000\n"
       ]
      },
      {
       "output_type": "stream",
       "stream": "stderr",
       "text": [
        "INFO:gensim.models.ldamodel:topic #0 (0.100): 0.007*glasses + 0.005*times + 0.005*feet + 0.004*bordelaise + 0.004*corporation + 0.004*asked + 0.004*rolls + 0.004*appealed + 0.004*vegetables + 0.004*incredible\n"
       ]
      },
      {
       "output_type": "stream",
       "stream": "stderr",
       "text": [
        "INFO:gensim.models.ldamodel:topic #1 (0.100): 0.007*pairings + 0.007*work + 0.006*kiss + 0.005*sampler + 0.005*americans + 0.005*maison + 0.005*rolls + 0.004*est + 0.004*soft + 0.004*home\n"
       ]
      },
      {
       "output_type": "stream",
       "stream": "stderr",
       "text": [
        "INFO:gensim.models.ldamodel:topic #2 (0.100): 0.008*incredible + 0.006*sprinklers + 0.006*heavy + 0.005*bleu + 0.005*lot + 0.005*pop + 0.005*multiple + 0.005*mind + 0.004*patrons + 0.004*basically\n"
       ]
      },
      {
       "output_type": "stream",
       "stream": "stderr",
       "text": [
        "INFO:gensim.models.ldamodel:topic #3 (0.100): 0.010*boyfriend + 0.006*meal + 0.006*maison + 0.005*suited + 0.005*think + 0.005*celebrate + 0.005*prime + 0.004*short + 0.004*pairings + 0.004*bartender\n"
       ]
      },
      {
       "output_type": "stream",
       "stream": "stderr",
       "text": [
        "INFO:gensim.models.ldamodel:topic #4 (0.100): 0.007*short + 0.006*rolls + 0.005*free + 0.005*couldn + 0.005*work + 0.005*sprinklers + 0.005*different + 0.004*start + 0.004*ps + 0.004*decent\n"
       ]
      },
      {
       "output_type": "stream",
       "stream": "stderr",
       "text": [
        "INFO:gensim.models.ldamodel:topic #5 (0.100): 0.010*crowded + 0.008*early + 0.008*parisian + 0.007*sampler + 0.007*occasions + 0.006*incredible + 0.005*onions + 0.005*onion + 0.005*multiple + 0.005*won\n"
       ]
      },
      {
       "output_type": "stream",
       "stream": "stderr",
       "text": [
        "INFO:gensim.models.ldamodel:topic #6 (0.100): 0.007*party + 0.006*opentable + 0.005*caught + 0.005*fountains + 0.004*incredible + 0.004*row + 0.004*rolls + 0.004*short + 0.004*early + 0.004*service\n"
       ]
      },
      {
       "output_type": "stream",
       "stream": "stderr",
       "text": [
        "INFO:gensim.models.ldamodel:topic #7 (0.100): 0.008*maison + 0.006*free + 0.005*pairings + 0.005*valued + 0.005*beg + 0.005*la + 0.005*prime + 0.005*regular + 0.004*sampler + 0.004*cold\n"
       ]
      },
      {
       "output_type": "stream",
       "stream": "stderr",
       "text": [
        "INFO:gensim.models.ldamodel:topic #8 (0.100): 0.007*work + 0.006*date + 0.006*incredible + 0.005*onions + 0.005*bleu + 0.005*dryness + 0.005*large + 0.005*valued + 0.004*favorite + 0.004*cut\n"
       ]
      },
      {
       "output_type": "stream",
       "stream": "stderr",
       "text": [
        "INFO:gensim.models.ldamodel:topic #9 (0.100): 0.009*couldn + 0.005*ps + 0.005*sprinklers + 0.005*impressed + 0.005*bachelorette + 0.005*glasses + 0.005*bleu + 0.004*think + 0.004*sampler + 0.004*tomatoes\n"
       ]
      },
      {
       "output_type": "stream",
       "stream": "stderr",
       "text": [
        "INFO:gensim.models.ldamodel:topic diff=0.166184, rho=0.707107\n"
       ]
      },
      {
       "output_type": "stream",
       "stream": "stderr",
       "text": [
        "INFO:gensim.models.ldamodel:-7.597 per-word bound, 193.6 perplexity estimate based on a held-out corpus of 2000 documents with 67780 words\n"
       ]
      },
      {
       "output_type": "stream",
       "stream": "stderr",
       "text": [
        "INFO:gensim.models.ldamodel:PROGRESS: pass 2, at document #2000/2000\n"
       ]
      },
      {
       "output_type": "stream",
       "stream": "stderr",
       "text": [
        "INFO:gensim.models.ldamodel:topic #0 (0.100): 0.007*glasses + 0.005*times + 0.004*feet + 0.004*bordelaise + 0.004*corporation + 0.004*appealed + 0.004*aurevoir + 0.004*vegetables + 0.003*asked + 0.003*pleasant\n"
       ]
      },
      {
       "output_type": "stream",
       "stream": "stderr",
       "text": [
        "INFO:gensim.models.ldamodel:topic #1 (0.100): 0.008*pairings + 0.006*kiss + 0.006*work + 0.005*sampler + 0.005*maison + 0.005*americans + 0.005*rolls + 0.004*est + 0.004*soft + 0.004*ample\n"
       ]
      },
      {
       "output_type": "stream",
       "stream": "stderr",
       "text": [
        "INFO:gensim.models.ldamodel:topic #2 (0.100): 0.010*incredible + 0.007*heavy + 0.006*sprinklers + 0.006*lot + 0.006*multiple + 0.005*bleu + 0.005*pop + 0.005*blvd + 0.005*mind + 0.005*patrons\n"
       ]
      },
      {
       "output_type": "stream",
       "stream": "stderr",
       "text": [
        "INFO:gensim.models.ldamodel:topic #3 (0.100): 0.013*boyfriend + 0.007*meal + 0.007*maison + 0.005*think + 0.005*celebrate + 0.005*suited + 0.005*help + 0.005*pairings + 0.004*bartender + 0.004*prime\n"
       ]
      },
      {
       "output_type": "stream",
       "stream": "stderr",
       "text": [
        "INFO:gensim.models.ldamodel:topic #4 (0.100): 0.007*short + 0.007*rolls + 0.006*free + 0.005*work + 0.005*couldn + 0.005*different + 0.005*sprinklers + 0.005*breads + 0.005*presented + 0.004*start\n"
       ]
      },
      {
       "output_type": "stream",
       "stream": "stderr",
       "text": [
        "INFO:gensim.models.ldamodel:topic #5 (0.100): 0.013*crowded + 0.011*parisian + 0.009*occasions + 0.008*early + 0.008*sampler + 0.006*won + 0.006*incredible + 0.005*onion + 0.005*rolls + 0.005*multiple\n"
       ]
      },
      {
       "output_type": "stream",
       "stream": "stderr",
       "text": [
        "INFO:gensim.models.ldamodel:topic #6 (0.100): 0.008*party + 0.007*opentable + 0.006*fountains + 0.006*caught + 0.005*row + 0.004*serai + 0.004*rolls + 0.004*early + 0.004*short + 0.004*incredible\n"
       ]
      },
      {
       "output_type": "stream",
       "stream": "stderr",
       "text": [
        "INFO:gensim.models.ldamodel:topic #7 (0.100): 0.010*maison + 0.006*regular + 0.006*pairings + 0.006*free + 0.005*sampler + 0.005*la + 0.005*valued + 0.005*beg + 0.005*prime + 0.004*impressed\n"
       ]
      },
      {
       "output_type": "stream",
       "stream": "stderr",
       "text": [
        "INFO:gensim.models.ldamodel:topic #8 (0.100): 0.008*work + 0.006*onions + 0.006*date + 0.006*incredible + 0.005*valued + 0.005*dryness + 0.005*large + 0.005*cut + 0.005*bleu + 0.004*favorite\n"
       ]
      },
      {
       "output_type": "stream",
       "stream": "stderr",
       "text": [
        "INFO:gensim.models.ldamodel:topic #9 (0.100): 0.009*couldn + 0.006*ps + 0.005*sprinklers + 0.005*glasses + 0.005*impressed + 0.005*bachelorette + 0.005*tomatoes + 0.005*think + 0.005*bleu + 0.004*incredible\n"
       ]
      },
      {
       "output_type": "stream",
       "stream": "stderr",
       "text": [
        "INFO:gensim.models.ldamodel:topic diff=0.135052, rho=0.577350\n"
       ]
      },
      {
       "output_type": "stream",
       "stream": "stderr",
       "text": [
        "INFO:gensim.models.ldamodel:-7.551 per-word bound, 187.5 perplexity estimate based on a held-out corpus of 2000 documents with 67780 words\n"
       ]
      },
      {
       "output_type": "stream",
       "stream": "stderr",
       "text": [
        "INFO:gensim.models.ldamodel:PROGRESS: pass 3, at document #2000/2000\n"
       ]
      },
      {
       "output_type": "stream",
       "stream": "stderr",
       "text": [
        "INFO:gensim.models.ldamodel:topic #0 (0.100): 0.006*glasses + 0.005*times + 0.004*corporation + 0.004*bordelaise + 0.004*feet + 0.004*aurevoir + 0.003*appealed + 0.003*asked + 0.003*vegetables + 0.003*pleasant\n"
       ]
      },
      {
       "output_type": "stream",
       "stream": "stderr",
       "text": [
        "INFO:gensim.models.ldamodel:topic #1 (0.100): 0.009*pairings + 0.006*kiss + 0.006*maison + 0.006*work + 0.006*americans + 0.006*sampler + 0.004*soft + 0.004*est + 0.004*ample + 0.004*built\n"
       ]
      },
      {
       "output_type": "stream",
       "stream": "stderr",
       "text": [
        "INFO:gensim.models.ldamodel:topic #2 (0.100): 0.011*incredible + 0.007*multiple + 0.007*heavy + 0.006*lot + 0.006*sprinklers + 0.006*blvd + 0.005*patrons + 0.005*mind + 0.005*pop + 0.005*battered\n"
       ]
      },
      {
       "output_type": "stream",
       "stream": "stderr",
       "text": [
        "INFO:gensim.models.ldamodel:topic #3 (0.100): 0.016*boyfriend + 0.007*maison + 0.007*meal + 0.006*help + 0.005*celebrate + 0.005*think + 0.005*pairings + 0.005*shrimp + 0.005*bartender + 0.005*suited\n"
       ]
      },
      {
       "output_type": "stream",
       "stream": "stderr",
       "text": [
        "INFO:gensim.models.ldamodel:topic #4 (0.100): 0.007*short + 0.007*rolls + 0.006*free + 0.005*work + 0.005*different + 0.005*sprinklers + 0.005*breads + 0.005*couldn + 0.005*date + 0.005*presented\n"
       ]
      },
      {
       "output_type": "stream",
       "stream": "stderr",
       "text": [
        "INFO:gensim.models.ldamodel:topic #5 (0.100): 0.015*crowded + 0.013*parisian + 0.010*occasions + 0.009*early + 0.008*sampler + 0.006*won + 0.005*onion + 0.005*incredible + 0.005*rolls + 0.005*goat\n"
       ]
      },
      {
       "output_type": "stream",
       "stream": "stderr",
       "text": [
        "INFO:gensim.models.ldamodel:topic #6 (0.100): 0.009*party + 0.009*opentable + 0.007*fountains + 0.006*caught + 0.005*row + 0.004*rolls + 0.004*serai + 0.004*suited + 0.004*early + 0.004*service\n"
       ]
      },
      {
       "output_type": "stream",
       "stream": "stderr",
       "text": [
        "INFO:gensim.models.ldamodel:topic #7 (0.100): 0.012*maison + 0.008*regular + 0.007*pairings + 0.006*free + 0.006*sampler + 0.005*la + 0.005*beg + 0.005*help + 0.005*valued + 0.005*prime\n"
       ]
      },
      {
       "output_type": "stream",
       "stream": "stderr",
       "text": [
        "INFO:gensim.models.ldamodel:topic #8 (0.100): 0.008*work + 0.007*onions + 0.006*date + 0.006*incredible + 0.006*valued + 0.005*dryness + 0.005*cut + 0.005*large + 0.004*bleu + 0.004*happen\n"
       ]
      },
      {
       "output_type": "stream",
       "stream": "stderr",
       "text": [
        "INFO:gensim.models.ldamodel:topic #9 (0.100): 0.009*couldn + 0.006*ps + 0.006*glasses + 0.005*sprinklers + 0.005*impressed + 0.005*bachelorette + 0.005*bleu + 0.005*think + 0.005*tomatoes + 0.004*incredible\n"
       ]
      },
      {
       "output_type": "stream",
       "stream": "stderr",
       "text": [
        "INFO:gensim.models.ldamodel:topic diff=0.116535, rho=0.500000\n"
       ]
      },
      {
       "output_type": "stream",
       "stream": "stdout",
       "text": [
        "CPU times: user 1.91 s, sys: 29.1 ms, total: 1.94 s\n",
        "Wall time: 1.93 s\n",
        "CPU times: user 39.7 s, sys: 253 ms, total: 40 s"
       ]
      },
      {
       "output_type": "stream",
       "stream": "stdout",
       "text": [
        "\n",
        "Wall time: 41.6 s\n"
       ]
      }
     ],
     "prompt_number": 308
    },
    {
     "cell_type": "code",
     "collapsed": false,
     "input": [
      "review_scores = []\n",
      "for idx, review in enumerate(review_for_rest):\n",
      "    tokens = tokenize(review)\n",
      "    score = 0\n",
      "    \n",
      "    for word in importantWords:\n",
      "        score += tokens.count(word)\n",
      "        \n",
      "    review_scores.append(score)\n",
      "\n",
      "review_scores = np.array(review_scores)"
     ],
     "language": "python",
     "metadata": {},
     "outputs": [],
     "prompt_number": 354
    },
    {
     "cell_type": "code",
     "collapsed": false,
     "input": [
      "review_scores = pd.DataFrame(review_scores, columns=['importance']).sort(['importance'], ascending=False)\n",
      "review_scores.head(10)"
     ],
     "language": "python",
     "metadata": {},
     "outputs": [
      {
       "html": [
        "<div style=\"max-height:1000px;max-width:1500px;overflow:auto;\">\n",
        "<table border=\"1\" class=\"dataframe\">\n",
        "  <thead>\n",
        "    <tr style=\"text-align: right;\">\n",
        "      <th></th>\n",
        "      <th>importance</th>\n",
        "    </tr>\n",
        "  </thead>\n",
        "  <tbody>\n",
        "    <tr>\n",
        "      <th>730 </th>\n",
        "      <td> 29</td>\n",
        "    </tr>\n",
        "    <tr>\n",
        "      <th>943 </th>\n",
        "      <td> 27</td>\n",
        "    </tr>\n",
        "    <tr>\n",
        "      <th>302 </th>\n",
        "      <td> 26</td>\n",
        "    </tr>\n",
        "    <tr>\n",
        "      <th>3469</th>\n",
        "      <td> 24</td>\n",
        "    </tr>\n",
        "    <tr>\n",
        "      <th>532 </th>\n",
        "      <td> 23</td>\n",
        "    </tr>\n",
        "    <tr>\n",
        "      <th>398 </th>\n",
        "      <td> 22</td>\n",
        "    </tr>\n",
        "    <tr>\n",
        "      <th>2276</th>\n",
        "      <td> 21</td>\n",
        "    </tr>\n",
        "    <tr>\n",
        "      <th>3806</th>\n",
        "      <td> 20</td>\n",
        "    </tr>\n",
        "    <tr>\n",
        "      <th>2128</th>\n",
        "      <td> 20</td>\n",
        "    </tr>\n",
        "    <tr>\n",
        "      <th>2521</th>\n",
        "      <td> 20</td>\n",
        "    </tr>\n",
        "  </tbody>\n",
        "</table>\n",
        "</div>"
       ],
       "metadata": {},
       "output_type": "pyout",
       "prompt_number": 389,
       "text": [
        "      importance\n",
        "730           29\n",
        "943           27\n",
        "302           26\n",
        "3469          24\n",
        "532           23\n",
        "398           22\n",
        "2276          21\n",
        "3806          20\n",
        "2128          20\n",
        "2521          20"
       ]
      }
     ],
     "prompt_number": 389
    },
    {
     "cell_type": "code",
     "collapsed": false,
     "input": [
      "sns.set_context(\"talk\", font_scale=1.25)\n",
      "sns.barplot(review_scores.index, review_scores['importance'])\n",
      "plt.title(\"Review Importance\")\n",
      "plt.xlabel(\"Review\")\n",
      "plt.ylabel(\"Review's Importance\")\n",
      "plt.show()"
     ],
     "language": "python",
     "metadata": {},
     "outputs": [
      {
       "metadata": {},
       "output_type": "display_data",
       "png": "[encoded data removed]",
       "text": [
        "<matplotlib.figure.Figure at 0x2827c91d0>"
       ]
      }
     ],
     "prompt_number": 369
    },
    {
     "cell_type": "code",
     "collapsed": false,
     "input": [
      "sns.distplot(review_scores['importance'])\n",
      "plt.title(\"Review Importance Distribution\")\n",
      "plt.xlabel(\"Review\")\n",
      "plt.ylabel(\"Review's Importance\")\n",
      "plt.show()"
     ],
     "language": "python",
     "metadata": {},
     "outputs": [
      {
       "metadata": {},
       "output_type": "display_data",
       "png": "[encoded data removed]",
       "text": [
        "<matplotlib.figure.Figure at 0x192ca6950>"
       ]
      }
     ],
     "prompt_number": 359
    },
    {
     "cell_type": "code",
     "collapsed": false,
     "input": [
      "topReviews_idx = review_scores.head(10).index\n",
      "\n",
      "# Top reviews\n",
      "topReviews = full_review_for_rest.ix[topReviews_idx]\n",
      "\n",
      "# Average star rating based on top reviews\n",
      "predictedRating = topReviews['stars'].mean()\n",
      "\n",
      "# Actual rating\n",
      "actualRating = data_rest.ix[rest]\n",
      "\n",
      "print \"Predicted rating: {}\".format(predictedRating)\n",
      "print \"Actual rating: {}\".format(actualRating['stars'])"
     ],
     "language": "python",
     "metadata": {},
     "outputs": [
      {
       "output_type": "stream",
       "stream": "stdout",
       "text": [
        "Predicted rating: 3.7\n",
        "Actual rating: 4.0\n"
       ]
      }
     ],
     "prompt_number": 414
    },
    {
     "cell_type": "code",
     "collapsed": false,
     "input": [
      "def importantReviews(reviews, n):\n",
      "    # Get the important words\n",
      "    importantWords = topNWords(review_for_rest, 30)\n",
      "    \n",
      "    # Give each review an \"importance score\"\n",
      "    review_scores = []\n",
      "    for idx, review in enumerate(review_for_rest):\n",
      "        tokens = tokenize(review)\n",
      "        score = 0\n",
      "\n",
      "        for word in importantWords:\n",
      "            score += tokens.count(word)\n",
      "\n",
      "        review_scores.append(score)\n",
      "\n",
      "    review_scores = np.array(review_scores)\n",
      "    review_scores = pd.DataFrame(review_scores, columns=['importance']).sort(['importance'], ascending=False)\n",
      "    \n",
      "    # Get the top n reviews\n",
      "    topReviews_idx = review_scores.head(n).index\n",
      "\n",
      "    # Top reviews\n",
      "    topReviews = full_review_for_rest.ix[topReviews_idx]\n",
      "    \n",
      "    return topReviews"
     ],
     "language": "python",
     "metadata": {},
     "outputs": [],
     "prompt_number": 416
    },
    {
     "cell_type": "code",
     "collapsed": false,
     "input": [
      "important_rev = importantReviews(review_for_rest, 10)"
     ],
     "language": "python",
     "metadata": {},
     "outputs": [
      {
       "output_type": "stream",
       "stream": "stderr",
       "text": [
        "INFO:gensim.corpora.dictionary:adding document #0 to Dictionary(0 unique tokens: [])\n"
       ]
      },
      {
       "output_type": "stream",
       "stream": "stderr",
       "text": [
        "INFO:gensim.corpora.dictionary:built Dictionary(12194 unique tokens: [u'raining', u'hordes', u'yellow', u'revelers', u'gag']...) from 4056 documents (total 230329 corpus positions)\n"
       ]
      },
      {
       "output_type": "stream",
       "stream": "stderr",
       "text": [
        "INFO:gensim.corpora.dictionary:discarding 0 tokens: []...\n"
       ]
      },
      {
       "output_type": "stream",
       "stream": "stderr",
       "text": [
        "INFO:gensim.corpora.dictionary:keeping 1329 tokens which were in no less than 20 and no more than 405 (=10.0%) documents\n"
       ]
      },
      {
       "output_type": "stream",
       "stream": "stderr",
       "text": [
        "INFO:gensim.corpora.dictionary:resulting dictionary: Dictionary(1329 unique tokens: [u'limited', u'managed', u'consider', u'chain', u'saying']...)\n"
       ]
      },
      {
       "output_type": "stream",
       "stream": "stderr",
       "text": [
        "INFO:gensim.models.ldamodel:using symmetric alpha at 0.1\n"
       ]
      },
      {
       "output_type": "stream",
       "stream": "stderr",
       "text": [
        "INFO:gensim.models.ldamodel:using serial LDA version on this node\n"
       ]
      },
      {
       "output_type": "stream",
       "stream": "stderr",
       "text": [
        "INFO:gensim.models.ldamodel:running online LDA training, 10 topics, 4 passes over the supplied corpus of 2000 documents, updating model once every 2000 documents, evaluating perplexity every 2000 documents, iterating 50x with a convergence threshold of 0.001000\n"
       ]
      },
      {
       "output_type": "stream",
       "stream": "stderr",
       "text": [
        "WARNING:gensim.models.ldamodel:too few updates, training might not converge; consider increasing the number of passes or iterations to improve accuracy\n"
       ]
      },
      {
       "output_type": "stream",
       "stream": "stderr",
       "text": [
        "INFO:gensim.models.ldamodel:-12.122 per-word bound, 4458.3 perplexity estimate based on a held-out corpus of 2000 documents with 67780 words\n"
       ]
      },
      {
       "output_type": "stream",
       "stream": "stderr",
       "text": [
        "INFO:gensim.models.ldamodel:PROGRESS: pass 0, at document #2000/2000\n"
       ]
      },
      {
       "output_type": "stream",
       "stream": "stderr",
       "text": [
        "INFO:gensim.models.ldamodel:topic #0 (0.100): 0.008*minute + 0.005*solid + 0.004*noir + 0.004*skate + 0.004*tatin + 0.004*finds + 0.004*afternoon + 0.004*earned + 0.004*dijon + 0.004*unkind\n"
       ]
      },
      {
       "output_type": "stream",
       "stream": "stderr",
       "text": [
        "INFO:gensim.models.ldamodel:topic #1 (0.100): 0.005*butter + 0.005*instead + 0.005*initially + 0.004*free + 0.004*disappointment + 0.004*lots + 0.004*help + 0.004*picked + 0.004*local + 0.004*selections\n"
       ]
      },
      {
       "output_type": "stream",
       "stream": "stderr",
       "text": [
        "INFO:gensim.models.ldamodel:topic #2 (0.100): 0.008*fig + 0.006*fear + 0.005*suggested + 0.005*server + 0.005*short + 0.004*pricy + 0.004*bunch + 0.004*bottle + 0.004*deciding + 0.004*rating\n"
       ]
      },
      {
       "output_type": "stream",
       "stream": "stderr",
       "text": [
        "INFO:gensim.models.ldamodel:topic #3 (0.100): 0.007*solid + 0.006*finds + 0.005*noir + 0.005*kiss + 0.005*haha + 0.005*enjoyed + 0.005*multiple + 0.004*celebrate + 0.004*initially + 0.004*butter\n"
       ]
      },
      {
       "output_type": "stream",
       "stream": "stderr",
       "text": [
        "INFO:gensim.models.ldamodel:topic #4 (0.100): 0.008*pricy + 0.005*minute + 0.005*slide + 0.005*enjoyed + 0.004*sorts + 0.004*eat + 0.004*skate + 0.004*miss + 0.004*fear + 0.004*loin\n"
       ]
      },
      {
       "output_type": "stream",
       "stream": "stderr",
       "text": [
        "INFO:gensim.models.ldamodel:topic #5 (0.100): 0.006*solid + 0.006*slide + 0.005*server + 0.005*tomato + 0.005*mentioned + 0.004*unkind + 0.004*dijon + 0.004*seafood + 0.004*disappointment + 0.004*dressing\n"
       ]
      },
      {
       "output_type": "stream",
       "stream": "stderr",
       "text": [
        "INFO:gensim.models.ldamodel:topic #6 (0.100): 0.006*advantage + 0.006*selection + 0.005*rich + 0.005*pricy + 0.004*unkind + 0.004*strip + 0.004*cart + 0.004*miss + 0.004*room + 0.004*skate\n"
       ]
      },
      {
       "output_type": "stream",
       "stream": "stderr",
       "text": [
        "INFO:gensim.models.ldamodel:topic #7 (0.100): 0.009*prime + 0.008*initially + 0.006*fig + 0.005*lots + 0.005*bf + 0.005*strawberry + 0.004*cart + 0.004*slide + 0.004*bottle + 0.004*seafood\n"
       ]
      },
      {
       "output_type": "stream",
       "stream": "stderr",
       "text": [
        "INFO:gensim.models.ldamodel:topic #8 (0.100): 0.008*dressing + 0.006*course + 0.005*disappointment + 0.004*amazing + 0.004*merlot + 0.004*solid + 0.004*letting + 0.004*carefully + 0.004*room + 0.004*celebrate\n"
       ]
      },
      {
       "output_type": "stream",
       "stream": "stderr",
       "text": [
        "INFO:gensim.models.ldamodel:topic #9 (0.100): 0.006*server + 0.005*initially + 0.005*strip + 0.005*skate + 0.004*carefully + 0.004*avoid + 0.004*slide + 0.004*eat + 0.004*bf + 0.004*red\n"
       ]
      },
      {
       "output_type": "stream",
       "stream": "stderr",
       "text": [
        "INFO:gensim.models.ldamodel:topic diff=8.637932, rho=1.000000\n"
       ]
      },
      {
       "output_type": "stream",
       "stream": "stderr",
       "text": [
        "INFO:gensim.models.ldamodel:-7.663 per-word bound, 202.6 perplexity estimate based on a held-out corpus of 2000 documents with 67780 words\n"
       ]
      },
      {
       "output_type": "stream",
       "stream": "stderr",
       "text": [
        "INFO:gensim.models.ldamodel:PROGRESS: pass 1, at document #2000/2000\n"
       ]
      },
      {
       "output_type": "stream",
       "stream": "stderr",
       "text": [
        "INFO:gensim.models.ldamodel:topic #0 (0.100): 0.008*minute + 0.005*lands + 0.005*solid + 0.005*afternoon + 0.005*unkind + 0.005*skate + 0.005*tatin + 0.004*noir + 0.004*finds + 0.004*butter\n"
       ]
      },
      {
       "output_type": "stream",
       "stream": "stderr",
       "text": [
        "INFO:gensim.models.ldamodel:topic #1 (0.100): 0.006*butter + 0.005*picked + 0.005*instead + 0.005*free + 0.005*initially + 0.004*suggested + 0.004*disappointment + 0.004*local + 0.004*help + 0.004*short\n"
       ]
      },
      {
       "output_type": "stream",
       "stream": "stderr",
       "text": [
        "INFO:gensim.models.ldamodel:topic #2 (0.100): 0.009*deciding + 0.009*candied + 0.009*nearby + 0.009*experience + 0.008*bunch + 0.008*fig + 0.007*fear + 0.005*suggested + 0.005*bottle + 0.004*short\n"
       ]
      },
      {
       "output_type": "stream",
       "stream": "stderr",
       "text": [
        "INFO:gensim.models.ldamodel:topic #3 (0.100): 0.008*solid + 0.007*finds + 0.006*kiss + 0.005*haha + 0.005*noir + 0.005*celebrate + 0.005*enjoyed + 0.005*multiple + 0.004*cart + 0.004*butter\n"
       ]
      },
      {
       "output_type": "stream",
       "stream": "stderr",
       "text": [
        "INFO:gensim.models.ldamodel:topic #4 (0.100): 0.009*pricy + 0.006*miss + 0.005*minute + 0.005*sorts + 0.005*eat + 0.005*enjoyed + 0.005*slide + 0.005*skate + 0.005*company + 0.004*loin\n"
       ]
      },
      {
       "output_type": "stream",
       "stream": "stderr",
       "text": [
        "INFO:gensim.models.ldamodel:topic #5 (0.100): 0.007*solid + 0.006*server + 0.006*slide + 0.005*mentioned + 0.005*tomato + 0.005*dijon + 0.005*unkind + 0.004*disappointment + 0.004*dressing + 0.004*pricy\n"
       ]
      },
      {
       "output_type": "stream",
       "stream": "stderr",
       "text": [
        "INFO:gensim.models.ldamodel:topic #6 (0.100): 0.008*advantage + 0.008*selection + 0.006*rich + 0.005*miss + 0.005*unkind + 0.005*room + 0.005*cart + 0.004*strip + 0.004*enjoyed + 0.004*interior\n"
       ]
      },
      {
       "output_type": "stream",
       "stream": "stderr",
       "text": [
        "INFO:gensim.models.ldamodel:topic #7 (0.100): 0.011*initially + 0.011*prime + 0.008*lots + 0.007*fig + 0.006*friends + 0.006*bf + 0.004*deep + 0.004*strawberry + 0.004*cart + 0.004*bottle\n"
       ]
      },
      {
       "output_type": "stream",
       "stream": "stderr",
       "text": [
        "INFO:gensim.models.ldamodel:topic #8 (0.100): 0.009*dressing + 0.006*course + 0.005*disappointment + 0.004*carefully + 0.004*merlot + 0.004*letting + 0.004*amazing + 0.004*helped + 0.004*cart + 0.004*room\n"
       ]
      },
      {
       "output_type": "stream",
       "stream": "stderr",
       "text": [
        "INFO:gensim.models.ldamodel:topic #9 (0.100): 0.008*avoid + 0.006*server + 0.005*skate + 0.005*strip + 0.005*initially + 0.005*red + 0.005*carefully + 0.004*noir + 0.004*sauteed + 0.004*slide\n"
       ]
      },
      {
       "output_type": "stream",
       "stream": "stderr",
       "text": [
        "INFO:gensim.models.ldamodel:topic diff=0.192726, rho=0.707107\n"
       ]
      },
      {
       "output_type": "stream",
       "stream": "stderr",
       "text": [
        "INFO:gensim.models.ldamodel:-7.579 per-word bound, 191.2 perplexity estimate based on a held-out corpus of 2000 documents with 67780 words\n"
       ]
      },
      {
       "output_type": "stream",
       "stream": "stderr",
       "text": [
        "INFO:gensim.models.ldamodel:PROGRESS: pass 2, at document #2000/2000\n"
       ]
      },
      {
       "output_type": "stream",
       "stream": "stderr",
       "text": [
        "INFO:gensim.models.ldamodel:topic #0 (0.100): 0.008*minute + 0.007*lands + 0.006*solid + 0.005*unkind + 0.005*tatin + 0.005*afternoon + 0.004*skate + 0.004*butter + 0.004*finds + 0.004*brightly\n"
       ]
      },
      {
       "output_type": "stream",
       "stream": "stderr",
       "text": [
        "INFO:gensim.models.ldamodel:topic #1 (0.100): 0.007*butter + 0.006*picked + 0.005*free + 0.005*instead + 0.005*suggested + 0.004*initially + 0.004*selections + 0.004*disappointment + 0.004*noir + 0.004*local\n"
       ]
      },
      {
       "output_type": "stream",
       "stream": "stderr",
       "text": [
        "INFO:gensim.models.ldamodel:topic #2 (0.100): 0.013*candied + 0.013*deciding + 0.013*nearby + 0.013*experience + 0.011*bunch + 0.007*fig + 0.006*fear + 0.005*suggested + 0.005*bottle + 0.004*new\n"
       ]
      },
      {
       "output_type": "stream",
       "stream": "stderr",
       "text": [
        "INFO:gensim.models.ldamodel:topic #3 (0.100): 0.008*solid + 0.007*finds + 0.006*kiss + 0.006*haha + 0.005*celebrate + 0.005*cart + 0.005*noir + 0.005*multiple + 0.005*enjoyed + 0.004*guy\n"
       ]
      },
      {
       "output_type": "stream",
       "stream": "stderr",
       "text": [
        "INFO:gensim.models.ldamodel:topic #4 (0.100): 0.009*pricy + 0.007*miss + 0.006*company + 0.006*parisian + 0.006*noir + 0.005*eat + 0.005*minute + 0.005*sorts + 0.005*slide + 0.005*amazing\n"
       ]
      },
      {
       "output_type": "stream",
       "stream": "stderr",
       "text": [
        "INFO:gensim.models.ldamodel:topic #5 (0.100): 0.007*solid + 0.007*server + 0.006*slide + 0.005*mentioned + 0.005*unkind + 0.005*dijon + 0.005*pricy + 0.005*tomato + 0.005*disappointment + 0.004*dressing\n"
       ]
      },
      {
       "output_type": "stream",
       "stream": "stderr",
       "text": [
        "INFO:gensim.models.ldamodel:topic #6 (0.100): 0.009*advantage + 0.009*selection + 0.007*rich + 0.006*miss + 0.006*room + 0.005*unkind + 0.005*cart + 0.005*enjoyed + 0.004*strip + 0.004*advertised\n"
       ]
      },
      {
       "output_type": "stream",
       "stream": "stderr",
       "text": [
        "INFO:gensim.models.ldamodel:topic #7 (0.100): 0.015*initially + 0.012*prime + 0.010*lots + 0.007*friends + 0.007*fig + 0.006*bf + 0.005*deep + 0.004*bottle + 0.004*strip + 0.004*tatin\n"
       ]
      },
      {
       "output_type": "stream",
       "stream": "stderr",
       "text": [
        "INFO:gensim.models.ldamodel:topic #8 (0.100): 0.009*dressing + 0.006*course + 0.005*disappointment + 0.005*carefully + 0.004*helped + 0.004*letting + 0.004*room + 0.004*merlot + 0.004*cart + 0.004*celebrate\n"
       ]
      },
      {
       "output_type": "stream",
       "stream": "stderr",
       "text": [
        "INFO:gensim.models.ldamodel:topic #9 (0.100): 0.011*avoid + 0.006*skate + 0.006*server + 0.006*sauteed + 0.005*strip + 0.005*red + 0.005*noir + 0.005*caught + 0.005*carefully + 0.005*initially\n"
       ]
      },
      {
       "output_type": "stream",
       "stream": "stderr",
       "text": [
        "INFO:gensim.models.ldamodel:topic diff=0.154504, rho=0.577350\n"
       ]
      },
      {
       "output_type": "stream",
       "stream": "stderr",
       "text": [
        "INFO:gensim.models.ldamodel:-7.526 per-word bound, 184.3 perplexity estimate based on a held-out corpus of 2000 documents with 67780 words\n"
       ]
      },
      {
       "output_type": "stream",
       "stream": "stderr",
       "text": [
        "INFO:gensim.models.ldamodel:PROGRESS: pass 3, at document #2000/2000\n"
       ]
      },
      {
       "output_type": "stream",
       "stream": "stderr",
       "text": [
        "INFO:gensim.models.ldamodel:topic #0 (0.100): 0.007*lands + 0.007*minute + 0.006*solid + 0.006*unkind + 0.005*tatin + 0.005*afternoon + 0.005*butter + 0.004*passing + 0.004*tomatoes + 0.004*finds\n"
       ]
      },
      {
       "output_type": "stream",
       "stream": "stderr",
       "text": [
        "INFO:gensim.models.ldamodel:topic #1 (0.100): 0.007*butter + 0.006*picked + 0.005*free + 0.005*suggested + 0.005*instead + 0.005*selections + 0.004*noir + 0.004*kiss + 0.004*disappointment + 0.004*local\n"
       ]
      },
      {
       "output_type": "stream",
       "stream": "stderr",
       "text": [
        "INFO:gensim.models.ldamodel:topic #2 (0.100): 0.017*candied + 0.017*nearby + 0.017*deciding + 0.016*experience + 0.015*bunch + 0.006*fig + 0.005*fear + 0.005*bottle + 0.004*new + 0.004*suggested\n"
       ]
      },
      {
       "output_type": "stream",
       "stream": "stderr",
       "text": [
        "INFO:gensim.models.ldamodel:topic #3 (0.100): 0.008*solid + 0.007*finds + 0.006*kiss + 0.006*haha + 0.005*cart + 0.005*celebrate + 0.005*guy + 0.004*multiple + 0.004*enjoyed + 0.004*location\n"
       ]
      },
      {
       "output_type": "stream",
       "stream": "stderr",
       "text": [
        "INFO:gensim.models.ldamodel:topic #4 (0.100): 0.009*miss + 0.008*pricy + 0.008*company + 0.008*parisian + 0.007*noir + 0.006*amazing + 0.005*eat + 0.005*minute + 0.005*pagers + 0.005*slide\n"
       ]
      },
      {
       "output_type": "stream",
       "stream": "stderr",
       "text": [
        "INFO:gensim.models.ldamodel:topic #5 (0.100): 0.007*solid + 0.007*server + 0.006*slide + 0.005*mentioned + 0.005*unkind + 0.005*pricy + 0.005*dijon + 0.005*disappointment + 0.005*dressing + 0.004*tomato\n"
       ]
      },
      {
       "output_type": "stream",
       "stream": "stderr",
       "text": [
        "INFO:gensim.models.ldamodel:topic #6 (0.100): 0.010*advantage + 0.009*selection + 0.008*rich + 0.006*room + 0.006*miss + 0.005*cart + 0.005*enjoyed + 0.005*unkind + 0.004*haha + 0.004*advertised\n"
       ]
      },
      {
       "output_type": "stream",
       "stream": "stderr",
       "text": [
        "INFO:gensim.models.ldamodel:topic #7 (0.100): 0.018*initially + 0.012*prime + 0.012*lots + 0.009*friends + 0.007*fig + 0.006*bf + 0.006*deep + 0.005*strip + 0.005*bottle + 0.005*fear\n"
       ]
      },
      {
       "output_type": "stream",
       "stream": "stderr",
       "text": [
        "INFO:gensim.models.ldamodel:topic #8 (0.100): 0.010*dressing + 0.005*course + 0.005*carefully + 0.005*helped + 0.004*disappointment + 0.004*letting + 0.004*room + 0.004*list + 0.004*deng + 0.004*going\n"
       ]
      },
      {
       "output_type": "stream",
       "stream": "stderr",
       "text": [
        "INFO:gensim.models.ldamodel:topic #9 (0.100): 0.014*avoid + 0.007*sauteed + 0.006*noir + 0.006*skate + 0.006*caught + 0.005*red + 0.005*server + 0.005*strip + 0.005*hear + 0.005*carefully\n"
       ]
      },
      {
       "output_type": "stream",
       "stream": "stderr",
       "text": [
        "INFO:gensim.models.ldamodel:topic diff=0.130645, rho=0.500000\n"
       ]
      },
      {
       "output_type": "stream",
       "stream": "stdout",
       "text": [
        "CPU times: user 2.09 s, sys: 264 ms, total: 2.36 s\n",
        "Wall time: 2.38 s\n",
        "CPU times: user 43.2 s, sys: 486 ms, total: 43.7 s"
       ]
      },
      {
       "output_type": "stream",
       "stream": "stdout",
       "text": [
        "\n",
        "Wall time: 47.1 s\n"
       ]
      },
      {
       "html": [
        "<div style=\"max-height:1000px;max-width:1500px;overflow:auto;\">\n",
        "<table border=\"1\" class=\"dataframe\">\n",
        "  <thead>\n",
        "    <tr style=\"text-align: right;\">\n",
        "      <th></th>\n",
        "      <th>business_id</th>\n",
        "      <th>date</th>\n",
        "      <th>review_id</th>\n",
        "      <th>stars</th>\n",
        "      <th>text</th>\n",
        "      <th>type</th>\n",
        "      <th>user_id</th>\n",
        "      <th>votes_cool</th>\n",
        "      <th>votes_funny</th>\n",
        "      <th>votes_useful</th>\n",
        "    </tr>\n",
        "  </thead>\n",
        "  <tbody>\n",
        "    <tr>\n",
        "      <th>3290</th>\n",
        "      <td> 4bEjOyTaDG24SY5TxsaUNQ</td>\n",
        "      <td> 2014-03-18</td>\n",
        "      <td> -cw1fIX6bd_UyKfBxWqfhQ</td>\n",
        "      <td> 2</td>\n",
        "      <td> ***Mon Ami Gabi is a very popular French brass...</td>\n",
        "      <td> review</td>\n",
        "      <td> xNb8pFe99ENj8BeMsCBPcQ</td>\n",
        "      <td> 18</td>\n",
        "      <td> 16</td>\n",
        "      <td> 24</td>\n",
        "    </tr>\n",
        "    <tr>\n",
        "      <th>943 </th>\n",
        "      <td> 4bEjOyTaDG24SY5TxsaUNQ</td>\n",
        "      <td> 2011-06-14</td>\n",
        "      <td> JzLsyBvK9JJ79J52Mr-Tqw</td>\n",
        "      <td> 4</td>\n",
        "      <td> BOTTOM LINE: There are enough good things abou...</td>\n",
        "      <td> review</td>\n",
        "      <td> m59OpbCyRwXSvERXeevWqg</td>\n",
        "      <td>  4</td>\n",
        "      <td>  3</td>\n",
        "      <td>  8</td>\n",
        "    </tr>\n",
        "    <tr>\n",
        "      <th>1998</th>\n",
        "      <td> 4bEjOyTaDG24SY5TxsaUNQ</td>\n",
        "      <td> 2012-12-24</td>\n",
        "      <td> ABlMbqWNjZIMH1ZN3Ue2DA</td>\n",
        "      <td> 5</td>\n",
        "      <td> I've been wanting to try this place for years ...</td>\n",
        "      <td> review</td>\n",
        "      <td> CFiVMGt7akMkb_wg7-4uDg</td>\n",
        "      <td>  0</td>\n",
        "      <td>  0</td>\n",
        "      <td>  0</td>\n",
        "    </tr>\n",
        "    <tr>\n",
        "      <th>1304</th>\n",
        "      <td> 4bEjOyTaDG24SY5TxsaUNQ</td>\n",
        "      <td> 2011-12-27</td>\n",
        "      <td> p-C0hKyukZ8wFfH16t9NbQ</td>\n",
        "      <td> 4</td>\n",
        "      <td> One of the things you HAVE to do while in Vega...</td>\n",
        "      <td> review</td>\n",
        "      <td> Xl4mKBt1e1qJXSKIeg-E2w</td>\n",
        "      <td> 19</td>\n",
        "      <td> 16</td>\n",
        "      <td> 21</td>\n",
        "    </tr>\n",
        "    <tr>\n",
        "      <th>782 </th>\n",
        "      <td> 4bEjOyTaDG24SY5TxsaUNQ</td>\n",
        "      <td> 2011-03-15</td>\n",
        "      <td> UdASMq7F00P33Mg1MjMjdg</td>\n",
        "      <td> 4</td>\n",
        "      <td> A wonderful little restaurant with an unassumi...</td>\n",
        "      <td> review</td>\n",
        "      <td> gv1exxj3hJbp-TSK9DDmtA</td>\n",
        "      <td>  0</td>\n",
        "      <td>  0</td>\n",
        "      <td>  0</td>\n",
        "    </tr>\n",
        "    <tr>\n",
        "      <th>730 </th>\n",
        "      <td> 4bEjOyTaDG24SY5TxsaUNQ</td>\n",
        "      <td> 2011-01-31</td>\n",
        "      <td> 73Rwg6gA5EHeR3tdPDDDoA</td>\n",
        "      <td> 4</td>\n",
        "      <td> One of the best places to eat in Las Vegas, Mo...</td>\n",
        "      <td> review</td>\n",
        "      <td> yl3YZddzKKGdm0a71su3Xg</td>\n",
        "      <td>  0</td>\n",
        "      <td>  0</td>\n",
        "      <td>  0</td>\n",
        "    </tr>\n",
        "    <tr>\n",
        "      <th>3401</th>\n",
        "      <td> 4bEjOyTaDG24SY5TxsaUNQ</td>\n",
        "      <td> 2014-04-20</td>\n",
        "      <td> KWnjvlh2m7lDZI2VzrS9oA</td>\n",
        "      <td> 5</td>\n",
        "      <td> Every month, our team at work plans a team bui...</td>\n",
        "      <td> review</td>\n",
        "      <td> WDWFOxsZrKC8kT2LBQ3BZg</td>\n",
        "      <td>  0</td>\n",
        "      <td>  0</td>\n",
        "      <td>  0</td>\n",
        "    </tr>\n",
        "    <tr>\n",
        "      <th>3291</th>\n",
        "      <td> 4bEjOyTaDG24SY5TxsaUNQ</td>\n",
        "      <td> 2014-03-19</td>\n",
        "      <td> UqVGHuNsozKIem3VJvqz1w</td>\n",
        "      <td> 4</td>\n",
        "      <td> I made a reservation for one via Open Table an...</td>\n",
        "      <td> review</td>\n",
        "      <td> N7wNlo3_EaHUWHiFDyGh5g</td>\n",
        "      <td>  9</td>\n",
        "      <td>  2</td>\n",
        "      <td> 10</td>\n",
        "    </tr>\n",
        "    <tr>\n",
        "      <th>691 </th>\n",
        "      <td> 4bEjOyTaDG24SY5TxsaUNQ</td>\n",
        "      <td> 2011-01-06</td>\n",
        "      <td> FuWllwqhcjkWCLUnbDYAow</td>\n",
        "      <td> 4</td>\n",
        "      <td> As a belated birthday present, I wanted to tak...</td>\n",
        "      <td> review</td>\n",
        "      <td> wa-JNmx-oE6BOg1QKoDySA</td>\n",
        "      <td>  0</td>\n",
        "      <td>  0</td>\n",
        "      <td>  0</td>\n",
        "    </tr>\n",
        "    <tr>\n",
        "      <th>1174</th>\n",
        "      <td> 4bEjOyTaDG24SY5TxsaUNQ</td>\n",
        "      <td> 2011-10-11</td>\n",
        "      <td> aEd6dZd9uvpgblwXOSZLnQ</td>\n",
        "      <td> 5</td>\n",
        "      <td> I am normally averse to eateries on the Strip ...</td>\n",
        "      <td> review</td>\n",
        "      <td> 2Qm52ok5nK8Qo2gFrx5f0A</td>\n",
        "      <td>  0</td>\n",
        "      <td>  0</td>\n",
        "      <td>  0</td>\n",
        "    </tr>\n",
        "  </tbody>\n",
        "</table>\n",
        "</div>"
       ],
       "metadata": {},
       "output_type": "pyout",
       "prompt_number": 417,
       "text": [
        "                 business_id        date               review_id  stars  \\\n",
        "3290  4bEjOyTaDG24SY5TxsaUNQ  2014-03-18  -cw1fIX6bd_UyKfBxWqfhQ      2   \n",
        "943   4bEjOyTaDG24SY5TxsaUNQ  2011-06-14  JzLsyBvK9JJ79J52Mr-Tqw      4   \n",
        "1998  4bEjOyTaDG24SY5TxsaUNQ  2012-12-24  ABlMbqWNjZIMH1ZN3Ue2DA      5   \n",
        "1304  4bEjOyTaDG24SY5TxsaUNQ  2011-12-27  p-C0hKyukZ8wFfH16t9NbQ      4   \n",
        "782   4bEjOyTaDG24SY5TxsaUNQ  2011-03-15  UdASMq7F00P33Mg1MjMjdg      4   \n",
        "730   4bEjOyTaDG24SY5TxsaUNQ  2011-01-31  73Rwg6gA5EHeR3tdPDDDoA      4   \n",
        "3401  4bEjOyTaDG24SY5TxsaUNQ  2014-04-20  KWnjvlh2m7lDZI2VzrS9oA      5   \n",
        "3291  4bEjOyTaDG24SY5TxsaUNQ  2014-03-19  UqVGHuNsozKIem3VJvqz1w      4   \n",
        "691   4bEjOyTaDG24SY5TxsaUNQ  2011-01-06  FuWllwqhcjkWCLUnbDYAow      4   \n",
        "1174  4bEjOyTaDG24SY5TxsaUNQ  2011-10-11  aEd6dZd9uvpgblwXOSZLnQ      5   \n",
        "\n",
        "                                                   text    type  \\\n",
        "3290  ***Mon Ami Gabi is a very popular French brass...  review   \n",
        "943   BOTTOM LINE: There are enough good things abou...  review   \n",
        "1998  I've been wanting to try this place for years ...  review   \n",
        "1304  One of the things you HAVE to do while in Vega...  review   \n",
        "782   A wonderful little restaurant with an unassumi...  review   \n",
        "730   One of the best places to eat in Las Vegas, Mo...  review   \n",
        "3401  Every month, our team at work plans a team bui...  review   \n",
        "3291  I made a reservation for one via Open Table an...  review   \n",
        "691   As a belated birthday present, I wanted to tak...  review   \n",
        "1174  I am normally averse to eateries on the Strip ...  review   \n",
        "\n",
        "                     user_id  votes_cool  votes_funny  votes_useful  \n",
        "3290  xNb8pFe99ENj8BeMsCBPcQ          18           16            24  \n",
        "943   m59OpbCyRwXSvERXeevWqg           4            3             8  \n",
        "1998  CFiVMGt7akMkb_wg7-4uDg           0            0             0  \n",
        "1304  Xl4mKBt1e1qJXSKIeg-E2w          19           16            21  \n",
        "782   gv1exxj3hJbp-TSK9DDmtA           0            0             0  \n",
        "730   yl3YZddzKKGdm0a71su3Xg           0            0             0  \n",
        "3401  WDWFOxsZrKC8kT2LBQ3BZg           0            0             0  \n",
        "3291  N7wNlo3_EaHUWHiFDyGh5g           9            2            10  \n",
        "691   wa-JNmx-oE6BOg1QKoDySA           0            0             0  \n",
        "1174  2Qm52ok5nK8Qo2gFrx5f0A           0            0             0  "
       ]
      }
     ],
     "prompt_number": 417
    },
    {
     "cell_type": "code",
     "collapsed": false,
     "input": [],
     "language": "python",
     "metadata": {},
     "outputs": []
    }
   ],
   "metadata": {}
  }
 ]
}