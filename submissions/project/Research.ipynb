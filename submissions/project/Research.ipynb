{
 "metadata": {
  "name": "",
  "signature": "sha256:c027311cc2a43a3f5b5c9f92b5bdfc91140b6acc85ad8e0b5624fbf1261118d9"
 },
 "nbformat": 3,
 "nbformat_minor": 0,
 "worksheets": [
  {
   "cells": [
    {
     "cell_type": "code",
     "collapsed": false,
     "input": [
      "# import and setup modules we'll be using in this notebook\n",
      "import logging\n",
      "import os\n",
      "import sys\n",
      "import re\n",
      "import tarfile\n",
      "import itertools\n",
      "import json\n",
      "import math\n",
      "import collections\n",
      "from glob import glob\n",
      "\n",
      "import pandas as pd\n",
      "\n",
      "import nltk, nltk.classify.util, nltk.metrics\n",
      "from nltk.classify import NaiveBayesClassifier\n",
      "from nltk.probability import FreqDist, ConditionalFreqDist\n",
      "from nltk.collocations import TrigramCollocationFinder\n",
      "from nltk.metrics import BigramAssocMeasures, TrigramAssocMeasures\n",
      "\n",
      "import numpy as np\n",
      "\n",
      "import sklearn.cross_validation as cross_validation\n",
      "\n",
      "import gensim\n",
      "from gensim.utils import smart_open, simple_preprocess\n",
      "from gensim.corpora.wikicorpus import _extract_pages, filter_wiki\n",
      "from gensim.parsing.preprocessing import STOPWORDS\n",
      "\n",
      "import matplotlib.pyplot as plt\n",
      "import matplotlib as mpl\n",
      "import seaborn as sns\n",
      "\n",
      "%matplotlib inline"
     ],
     "language": "python",
     "metadata": {},
     "outputs": [],
     "prompt_number": 1
    },
    {
     "cell_type": "code",
     "collapsed": false,
     "input": [
      "###################\n",
      "#\n",
      "# Useful variables\n",
      "#\n",
      "###################\n",
      "\n",
      "data = './yelp_data/'\n",
      "\n",
      "# All reviews\n",
      "data_reviews = pd.read_csv(data + 'yelp_academic_dataset_review.csv')\n",
      "\n",
      "# All businesses, though only their interesting columns\n",
      "interestingColumns = ['business_id', 'review_count', 'stars', 'latitude', 'longitude', 'type', 'categories']\n",
      "data_business = pd.read_csv(data + 'yelp_academic_dataset_business.csv')[interestingColumns]\n",
      "data_business = data_business.sort(['stars'], ascending=False)\n",
      "data_business.index = data_business['business_id'].values"
     ],
     "language": "python",
     "metadata": {},
     "outputs": [],
     "prompt_number": 28
    },
    {
     "cell_type": "code",
     "collapsed": false,
     "input": [
      "# Only restaurants\n",
      "data_restaurants = data_business[data_business['categories'].str.contains(\"R,e,s,t,a,u\")].sort(['review_count'], ascending=False)\n",
      "\n",
      "# Only restaurant reviews\n",
      "restaurant_ids = data_restaurants['business_id']\n",
      "restaurant_reviews = data_reviews[data_reviews['business_id'].isin(restaurant_ids)]\n",
      "restaurant_reviews.index = range(0, len(restaurant_reviews))"
     ],
     "language": "python",
     "metadata": {},
     "outputs": [],
     "prompt_number": 31
    },
    {
     "cell_type": "code",
     "collapsed": false,
     "input": [
      "print \"Number of restaurants: {}\".format(len(restaurant_ids))\n",
      "\n",
      "# Restaurants with a large number of reviews\n",
      "lots = 250\n",
      "restaurants_lots_of_reviews = data_restaurants[data_restaurants['review_count'] > lots]\n",
      "restaurants_lots_of_reviews_ids = restaurants_lots_of_reviews['business_id']\n",
      "print \"Number of restaurants with >{} reviews: {}\".format(lots, len(restaurants_lots_of_reviews))"
     ],
     "language": "python",
     "metadata": {},
     "outputs": [
      {
       "output_type": "stream",
       "stream": "stdout",
       "text": [
        "Number of restaurants: 21892\n",
        "Number of restaurants with >250 reviews: 710\n"
       ]
      }
     ],
     "prompt_number": 4
    },
    {
     "cell_type": "code",
     "collapsed": false,
     "input": [
      "###################\n",
      "#\n",
      "# Useful functions\n",
      "#\n",
      "###################\n",
      "\n",
      "def tokenize(text):\n",
      "    return [token for token in simple_preprocess(text) if token not in STOPWORDS]\n",
      "\n",
      "def iter_reviews(reviews):\n",
      "    \"\"\"Yield each review from the restaurant's reviews, as a `(id, tokens)` 2-tuple.\"\"\"\n",
      "    for idx, review in enumerate(reviews):\n",
      "        tokens = tokenize(review)\n",
      "        if len(tokens) < 5:\n",
      "            continue  # ignore short reviews\n",
      "        yield idx, tokens\n",
      "        \n",
      "class ReviewCorpus(object):\n",
      "    def __init__(self, dump_file, dictionary, clip_docs=None):\n",
      "        \"\"\"\n",
      "        Parse the first `clip_docs` reviews from array `dump_file`.\n",
      "        Yield each review in turn, as a list of tokens (unicode strings).\n",
      "        \n",
      "        \"\"\"\n",
      "        self.dump_file = dump_file\n",
      "        self.dictionary = dictionary\n",
      "        self.clip_docs = clip_docs\n",
      "    \n",
      "    def __iter__(self):\n",
      "        self.titles = []\n",
      "        for idx, tokens in itertools.islice(iter_reviews(self.dump_file), self.clip_docs):\n",
      "            self.titles.append(idx)\n",
      "            yield self.dictionary.doc2bow(tokens)\n",
      "    \n",
      "    def __len__(self):\n",
      "        return self.clip_docs\n",
      "    \n",
      "def topNWords(data_set, n):\n",
      "    review_stream = (tokens for _, tokens in itertools.islice(iter_reviews(data_set), 10000))\n",
      "\n",
      "    id2word_review = gensim.corpora.Dictionary(review_stream)\n",
      "\n",
      "    # ignore words that appear in less than 20 reviews or more than 10% reviews\n",
      "    #id2word_review.filter_extremes(no_below=20, no_above=0.1)\n",
      "\n",
      "    # create a stream of bag-of-words vectors\n",
      "    review_corpus = ReviewCorpus(data_set, id2word_review, clip_docs=5000)\n",
      "    vector = next(iter(review_corpus))\n",
      "\n",
      "    clipped_corpus = gensim.utils.ClippedCorpus(review_corpus, len(data_set) / 2)  # use fewer documents during training, LDA is slow\n",
      "    lda_model = gensim.models.LdaModel(clipped_corpus, num_topics=10, id2word=id2word_review, passes=4)\n",
      "\n",
      "    # select top 30 words for each of the LDA topics\n",
      "    top_words = [[word for _, word in lda_model.show_topic(topicno, topn=30)] for topicno in range(lda_model.num_topics)]\n",
      "\n",
      "    # get all top N words in all topics, as one large set\n",
      "    all_words = set(itertools.chain.from_iterable(top_words))\n",
      "\n",
      "    return all_words\n",
      "\n",
      "def importantReviews(reviews, n):\n",
      "    reviews_simple = reviews['text'].values\n",
      "    # Get the important words\n",
      "    importantWords = topNWords(reviews_simple, 30)\n",
      "    \n",
      "    # Give each review an \"importance score\"\n",
      "    review_scores = []\n",
      "    for idx, review in enumerate(reviews_simple):\n",
      "        tokens = tokenize(review)\n",
      "        score = 0\n",
      "\n",
      "        for word in importantWords:\n",
      "            score += tokens.count(word)\n",
      "\n",
      "        review_scores.append(score)\n",
      "\n",
      "    review_scores = np.array(review_scores)\n",
      "    review_scores = pd.DataFrame(review_scores, columns=['importance']).sort(['importance'], ascending=False)\n",
      "    \n",
      "    # Get the top n reviews\n",
      "    topReviews_idx = review_scores.head(n).index\n",
      "\n",
      "    # Top reviews\n",
      "    topReviews = reviews.ix[topReviews_idx]\n",
      "    \n",
      "    return topReviews\n",
      "\n",
      "def round_nearest_half(number):\n",
      "    return round(number * 2) / 2\n",
      "\n",
      "def predictRating(business_id):\n",
      "    # Get all the reviews for this business\n",
      "    reviews = restaurant_reviews[restaurant_reviews['business_id'] == business_id]\n",
      "    reviews.index = range(0, len(reviews))\n",
      "    \n",
      "    # Get the top 10 most important reviews\n",
      "    important_reviews = importantReviews(reviews, 10)\n",
      "    \n",
      "    # Average star rating based on top reviews\n",
      "    predictedRating = round_nearest_half(important_reviews['stars'].mean())\n",
      "\n",
      "    # Actual rating\n",
      "    actualRating = data_restaurants.ix[business_id]['stars']\n",
      "\n",
      "    # Return a restaurant's predicted rating, along with their actual rating\n",
      "    return (predictedRating, actualRating)"
     ],
     "language": "python",
     "metadata": {},
     "outputs": [],
     "prompt_number": 36
    },
    {
     "cell_type": "code",
     "collapsed": false,
     "input": [
      "# Create a test set\n",
      "test_size = 20\n",
      "restaurant_train, restaurant_test = cross_validation.train_test_split(restaurants_lots_of_reviews_ids, test_size=test_size, random_state=0)\n",
      "\n",
      "for restaurant in restaurant_test:\n",
      "    reviews = restaurant_reviews[restaurant_reviews['business_id'] == restaurant]\n",
      "    \n",
      "    print \"Restaurant {} has {} reviews.\".format(restaurant, len(reviews))"
     ],
     "language": "python",
     "metadata": {},
     "outputs": [
      {
       "output_type": "stream",
       "stream": "stdout",
       "text": [
        "Restaurant foDMwBRGJvKw791v0AT7OA has 343 reviews.\n",
        "Restaurant MN0OLvP8i0SirMJ7AMuMzA has 553 reviews."
       ]
      },
      {
       "output_type": "stream",
       "stream": "stdout",
       "text": [
        "\n",
        "Restaurant LXrq0Fw6MCz70KMA928ldQ has 438 reviews."
       ]
      },
      {
       "output_type": "stream",
       "stream": "stdout",
       "text": [
        "\n",
        "Restaurant b5cEoKR8iQliq-yT2_O0LQ has 432 reviews."
       ]
      },
      {
       "output_type": "stream",
       "stream": "stdout",
       "text": [
        "\n",
        "Restaurant KPoTixdjoJxSqRSEApSAGg has 304 reviews."
       ]
      },
      {
       "output_type": "stream",
       "stream": "stdout",
       "text": [
        "\n",
        "Restaurant 5FPU_0VSLtR2yY7IQzaH5g has 290 reviews."
       ]
      },
      {
       "output_type": "stream",
       "stream": "stdout",
       "text": [
        "\n",
        "Restaurant bOB11LVavtN9PWTNwR52Tw has 324 reviews."
       ]
      },
      {
       "output_type": "stream",
       "stream": "stdout",
       "text": [
        "\n",
        "Restaurant RhbOa-Ft3sZB4B_1j5LfyA has 969 reviews."
       ]
      },
      {
       "output_type": "stream",
       "stream": "stdout",
       "text": [
        "\n",
        "Restaurant iNT6pcUugoXsDlZgRTyhtw has 350 reviews."
       ]
      },
      {
       "output_type": "stream",
       "stream": "stdout",
       "text": [
        "\n",
        "Restaurant KcSJUq1kwO8awZRMS6Q49g has 656 reviews."
       ]
      },
      {
       "output_type": "stream",
       "stream": "stdout",
       "text": [
        "\n",
        "Restaurant 23SJEjfyU5gxY2chAKhgcw has 416 reviews."
       ]
      },
      {
       "output_type": "stream",
       "stream": "stdout",
       "text": [
        "\n",
        "Restaurant ADTZPVMIYJN0jAvvHxcBMw has 427 reviews."
       ]
      },
      {
       "output_type": "stream",
       "stream": "stdout",
       "text": [
        "\n",
        "Restaurant JUATTlFUONx_er9_YRFDrw has 303 reviews."
       ]
      },
      {
       "output_type": "stream",
       "stream": "stdout",
       "text": [
        "\n",
        "Restaurant 17FKJgS11HppOf00qXKEqA has 294 reviews."
       ]
      },
      {
       "output_type": "stream",
       "stream": "stdout",
       "text": [
        "\n",
        "Restaurant 1Fupq7erFi4uqC_gd9ypQg has 237 reviews."
       ]
      },
      {
       "output_type": "stream",
       "stream": "stdout",
       "text": [
        "\n",
        "Restaurant xyTJYlbE_MLouK6rCou6zg has 1782 reviews."
       ]
      },
      {
       "output_type": "stream",
       "stream": "stdout",
       "text": [
        "\n",
        "Restaurant k8bSp5BfCNCKqTXcKALXtw has 456 reviews."
       ]
      },
      {
       "output_type": "stream",
       "stream": "stdout",
       "text": [
        "\n",
        "Restaurant Iyy4pDmnKTZkAorzclO4Eg has 265 reviews."
       ]
      },
      {
       "output_type": "stream",
       "stream": "stdout",
       "text": [
        "\n",
        "Restaurant TwxHMCcRdF_CQb_EZ6kPQQ has 319 reviews."
       ]
      },
      {
       "output_type": "stream",
       "stream": "stdout",
       "text": [
        "\n",
        "Restaurant 5ambRqdTJt9vGwFzVI9HBw has 250 reviews."
       ]
      },
      {
       "output_type": "stream",
       "stream": "stdout",
       "text": [
        "\n"
       ]
      }
     ],
     "prompt_number": 40
    },
    {
     "cell_type": "code",
     "collapsed": false,
     "input": [
      "# Predict ratings for test set\n",
      "predictions = []\n",
      "for restaurant in restaurant_test:\n",
      "    %time predictions.append(predictRating(restaurant))\n",
      "    \n",
      "predictions"
     ],
     "language": "python",
     "metadata": {},
     "outputs": [
      {
       "output_type": "stream",
       "stream": "stderr",
       "text": [
        "WARNING:gensim.models.ldamodel:too few updates, training might not converge; consider increasing the number of passes or iterations to improve accuracy\n"
       ]
      },
      {
       "output_type": "stream",
       "stream": "stderr",
       "text": [
        "WARNING:gensim.models.ldamodel:too few updates, training might not converge; consider increasing the number of passes or iterations to improve accuracy\n"
       ]
      },
      {
       "output_type": "stream",
       "stream": "stdout",
       "text": [
        "CPU times: user 5.29 s, sys: 38.9 ms, total: 5.33 s\n",
        "Wall time: 5.5 s\n",
        "CPU times: user 6.4 s, sys: 42.1 ms, total: 6.44 s"
       ]
      },
      {
       "output_type": "stream",
       "stream": "stderr",
       "text": [
        "WARNING:gensim.models.ldamodel:too few updates, training might not converge; consider increasing the number of passes or iterations to improve accuracy\n"
       ]
      },
      {
       "output_type": "stream",
       "stream": "stdout",
       "text": [
        "\n",
        "Wall time: 6.45 s\n",
        "CPU times: user 6.51 s, sys: 42.4 ms, total: 6.55 s"
       ]
      },
      {
       "output_type": "stream",
       "stream": "stderr",
       "text": [
        "WARNING:gensim.models.ldamodel:too few updates, training might not converge; consider increasing the number of passes or iterations to improve accuracy\n"
       ]
      },
      {
       "output_type": "stream",
       "stream": "stdout",
       "text": [
        "\n",
        "Wall time: 6.69 s\n",
        "CPU times: user 4.81 s, sys: 16.6 ms, total: 4.82 s"
       ]
      },
      {
       "output_type": "stream",
       "stream": "stderr",
       "text": [
        "WARNING:gensim.models.ldamodel:too few updates, training might not converge; consider increasing the number of passes or iterations to improve accuracy\n"
       ]
      },
      {
       "output_type": "stream",
       "stream": "stdout",
       "text": [
        "\n",
        "Wall time: 4.84 s\n",
        "CPU times: user 3.62 s, sys: 27.6 ms, total: 3.65 s"
       ]
      },
      {
       "output_type": "stream",
       "stream": "stderr",
       "text": [
        "WARNING:gensim.models.ldamodel:too few updates, training might not converge; consider increasing the number of passes or iterations to improve accuracy\n"
       ]
      },
      {
       "output_type": "stream",
       "stream": "stdout",
       "text": [
        "\n",
        "Wall time: 3.7 s\n",
        "CPU times: user 3.84 s, sys: 36.3 ms, total: 3.88 s"
       ]
      },
      {
       "output_type": "stream",
       "stream": "stderr",
       "text": [
        "WARNING:gensim.models.ldamodel:too few updates, training might not converge; consider increasing the number of passes or iterations to improve accuracy\n"
       ]
      },
      {
       "output_type": "stream",
       "stream": "stdout",
       "text": [
        "\n",
        "Wall time: 4.19 s\n",
        "CPU times: user 5.04 s, sys: 74.6 ms, total: 5.11 s"
       ]
      },
      {
       "output_type": "stream",
       "stream": "stderr",
       "text": [
        "WARNING:gensim.models.ldamodel:too few updates, training might not converge; consider increasing the number of passes or iterations to improve accuracy\n"
       ]
      },
      {
       "output_type": "stream",
       "stream": "stdout",
       "text": [
        "\n",
        "Wall time: 5.87 s\n",
        "CPU times: user 9.9 s, sys: 97.6 ms, total: 10 s"
       ]
      },
      {
       "output_type": "stream",
       "stream": "stderr",
       "text": [
        "WARNING:gensim.models.ldamodel:too few updates, training might not converge; consider increasing the number of passes or iterations to improve accuracy\n"
       ]
      },
      {
       "output_type": "stream",
       "stream": "stdout",
       "text": [
        "\n",
        "Wall time: 10.7 s\n",
        "CPU times: user 5.92 s, sys: 52.3 ms, total: 5.97 s"
       ]
      },
      {
       "output_type": "stream",
       "stream": "stderr",
       "text": [
        "WARNING:gensim.models.ldamodel:too few updates, training might not converge; consider increasing the number of passes or iterations to improve accuracy\n"
       ]
      },
      {
       "output_type": "stream",
       "stream": "stdout",
       "text": [
        "\n",
        "Wall time: 6.17 s\n",
        "CPU times: user 6.71 s, sys: 24.1 ms, total: 6.73 s"
       ]
      },
      {
       "output_type": "stream",
       "stream": "stderr",
       "text": [
        "WARNING:gensim.models.ldamodel:too few updates, training might not converge; consider increasing the number of passes or iterations to improve accuracy\n"
       ]
      },
      {
       "output_type": "stream",
       "stream": "stdout",
       "text": [
        "\n",
        "Wall time: 6.75 s\n",
        "CPU times: user 5.01 s, sys: 26.5 ms, total: 5.04 s"
       ]
      },
      {
       "output_type": "stream",
       "stream": "stderr",
       "text": [
        "WARNING:gensim.models.ldamodel:too few updates, training might not converge; consider increasing the number of passes or iterations to improve accuracy\n"
       ]
      },
      {
       "output_type": "stream",
       "stream": "stdout",
       "text": [
        "\n",
        "Wall time: 5.08 s\n",
        "CPU times: user 5.23 s, sys: 35.7 ms, total: 5.27 s"
       ]
      },
      {
       "output_type": "stream",
       "stream": "stderr",
       "text": [
        "WARNING:gensim.models.ldamodel:too few updates, training might not converge; consider increasing the number of passes or iterations to improve accuracy\n"
       ]
      },
      {
       "output_type": "stream",
       "stream": "stdout",
       "text": [
        "\n",
        "Wall time: 5.27 s\n",
        "CPU times: user 3.77 s, sys: 17 ms, total: 3.79 s"
       ]
      },
      {
       "output_type": "stream",
       "stream": "stderr",
       "text": [
        "WARNING:gensim.models.ldamodel:too few updates, training might not converge; consider increasing the number of passes or iterations to improve accuracy\n"
       ]
      },
      {
       "output_type": "stream",
       "stream": "stdout",
       "text": [
        "\n",
        "Wall time: 3.8 s\n",
        "CPU times: user 3.39 s, sys: 34.5 ms, total: 3.42 s"
       ]
      },
      {
       "output_type": "stream",
       "stream": "stderr",
       "text": [
        "WARNING:gensim.models.ldamodel:too few updates, training might not converge; consider increasing the number of passes or iterations to improve accuracy\n"
       ]
      },
      {
       "output_type": "stream",
       "stream": "stdout",
       "text": [
        "\n",
        "Wall time: 3.43 s\n",
        "CPU times: user 3.27 s, sys: 25.8 ms, total: 3.3 s"
       ]
      },
      {
       "output_type": "stream",
       "stream": "stderr",
       "text": [
        "WARNING:gensim.models.ldamodel:too few updates, training might not converge; consider increasing the number of passes or iterations to improve accuracy\n"
       ]
      },
      {
       "output_type": "stream",
       "stream": "stdout",
       "text": [
        "\n",
        "Wall time: 3.36 s\n",
        "CPU times: user 23.1 s, sys: 123 ms, total: 23.2 s"
       ]
      },
      {
       "output_type": "stream",
       "stream": "stderr",
       "text": [
        "WARNING:gensim.models.ldamodel:too few updates, training might not converge; consider increasing the number of passes or iterations to improve accuracy\n"
       ]
      },
      {
       "output_type": "stream",
       "stream": "stdout",
       "text": [
        "\n",
        "Wall time: 23.5 s\n",
        "CPU times: user 6.35 s, sys: 72.2 ms, total: 6.42 s"
       ]
      },
      {
       "output_type": "stream",
       "stream": "stderr",
       "text": [
        "WARNING:gensim.models.ldamodel:too few updates, training might not converge; consider increasing the number of passes or iterations to improve accuracy\n"
       ]
      },
      {
       "output_type": "stream",
       "stream": "stdout",
       "text": [
        "\n",
        "Wall time: 6.88 s\n",
        "CPU times: user 4.79 s, sys: 68.9 ms, total: 4.85 s"
       ]
      },
      {
       "output_type": "stream",
       "stream": "stderr",
       "text": [
        "WARNING:gensim.models.ldamodel:too few updates, training might not converge; consider increasing the number of passes or iterations to improve accuracy\n"
       ]
      },
      {
       "output_type": "stream",
       "stream": "stdout",
       "text": [
        "\n",
        "Wall time: 5.42 s\n",
        "CPU times: user 4.26 s, sys: 43.8 ms, total: 4.31 s"
       ]
      },
      {
       "output_type": "stream",
       "stream": "stderr",
       "text": [
        "WARNING:gensim.models.ldamodel:too few updates, training might not converge; consider increasing the number of passes or iterations to improve accuracy\n"
       ]
      },
      {
       "output_type": "stream",
       "stream": "stdout",
       "text": [
        "\n",
        "Wall time: 4.44 s\n",
        "CPU times: user 3.21 s, sys: 46.8 ms, total: 3.26 s"
       ]
      },
      {
       "output_type": "stream",
       "stream": "stdout",
       "text": [
        "\n",
        "Wall time: 3.6 s\n"
       ]
      },
      {
       "metadata": {},
       "output_type": "pyout",
       "prompt_number": 41,
       "text": [
        "[(4.0, 4.5),\n",
        " (4.0, 4.5),\n",
        " (4.0, 4.0),\n",
        " (4.0, 4.0),\n",
        " (3.5, 4.0),\n",
        " (3.5, 3.5),\n",
        " (2.5, 3.5),\n",
        " (4.0, 4.5),\n",
        " (2.5, 3.5),\n",
        " (2.5, 3.0),\n",
        " (4.0, 3.5),\n",
        " (4.0, 4.5),\n",
        " (3.5, 4.0),\n",
        " (3.5, 3.5),\n",
        " (3.0, 3.5),\n",
        " (3.5, 4.0),\n",
        " (3.0, 4.0),\n",
        " (4.5, 4.0),\n",
        " (3.5, 3.5),\n",
        " (4.0, 4.0)]"
       ]
      }
     ],
     "prompt_number": 41
    },
    {
     "cell_type": "code",
     "collapsed": false,
     "input": [
      "# Calculate total error\n",
      "error = 0.0\n",
      "for prediction in predictions:\n",
      "    error += abs(prediction[0] - prediction[1]) / prediction[1]\n",
      "    \n",
      "print \"Total error: {}%\".format(error / len(predictions) * 100)"
     ],
     "language": "python",
     "metadata": {},
     "outputs": [
      {
       "output_type": "stream",
       "stream": "stdout",
       "text": [
        "Total error: 11.0912698413%\n"
       ]
      }
     ],
     "prompt_number": 42
    },
    {
     "cell_type": "code",
     "collapsed": false,
     "input": [
      "# Let's test across different ratings\n",
      "stars = [1, 1.5, 2, 2.5, 3, 3.5, 4, 4.5, 5]\n",
      "test_size = 3\n",
      "\n",
      "errors = []\n",
      "for star in stars:\n",
      "    print \"star rating {}\".format(star)\n",
      "    \n",
      "    data = data_restaurants[data_restaurants['stars'] == star]['business_id']\n",
      "    print \"Number of restaurants available: {}\".format(len(data))\n",
      "\n",
      "    test = data.head(test_size)\n",
      "    for restaurant in test:\n",
      "        reviews = restaurant_reviews[restaurant_reviews['business_id'] == restaurant]\n",
      "        print \"Restaurant {} has {} reviews.\".format(restaurant, len(reviews))\n",
      "        \n",
      "    # Predict ratings for test set\n",
      "    predictions = []\n",
      "    for restaurant in test:\n",
      "        %time predictions.append(predictRating(restaurant))\n",
      "    \n",
      "    # Calculate total error\n",
      "    error = 0.0\n",
      "    for prediction in predictions:\n",
      "        error += abs(prediction[0] - prediction[1]) / prediction[1]\n",
      "\n",
      "    percent = (error / len(predictions) * 100)\n",
      "    errors.append([star, percent])"
     ],
     "language": "python",
     "metadata": {},
     "outputs": [
      {
       "output_type": "stream",
       "stream": "stdout",
       "text": [
        "star rating 1\n",
        "Number of restaurants available: 88\n",
        "Restaurant -sV52FN-D-I808tyRPEvwg has 18 reviews."
       ]
      },
      {
       "output_type": "stream",
       "stream": "stdout",
       "text": [
        "\n",
        "Restaurant JcWk6o9gGXeNk6EamLoA6w has 13 reviews."
       ]
      },
      {
       "output_type": "stream",
       "stream": "stdout",
       "text": [
        "\n",
        "Restaurant AAkqVCuUGIP0gvY42_CRYA has 12 reviews."
       ]
      },
      {
       "output_type": "stream",
       "stream": "stderr",
       "text": [
        "WARNING:gensim.models.ldamodel:too few updates, training might not converge; consider increasing the number of passes or iterations to improve accuracy\n"
       ]
      },
      {
       "output_type": "stream",
       "stream": "stdout",
       "text": [
        "\n",
        "CPU times: user 317 ms, sys: 3.3 ms, total: 321 ms"
       ]
      },
      {
       "output_type": "stream",
       "stream": "stderr",
       "text": [
        "WARNING:gensim.models.ldamodel:too few updates, training might not converge; consider increasing the number of passes or iterations to improve accuracy\n"
       ]
      },
      {
       "output_type": "stream",
       "stream": "stdout",
       "text": [
        "\n",
        "Wall time: 322 ms\n",
        "CPU times: user 259 ms, sys: 3.76 ms, total: 263 ms"
       ]
      },
      {
       "output_type": "stream",
       "stream": "stderr",
       "text": [
        "WARNING:gensim.models.ldamodel:too few updates, training might not converge; consider increasing the number of passes or iterations to improve accuracy\n"
       ]
      },
      {
       "output_type": "stream",
       "stream": "stdout",
       "text": [
        "\n",
        "Wall time: 265 ms\n",
        "CPU times: user 178 ms, sys: 2.56 ms, total: 181 ms"
       ]
      },
      {
       "output_type": "stream",
       "stream": "stdout",
       "text": [
        "\n",
        "Wall time: 181 ms\n",
        "star rating 1.5\n",
        "Number of restaurants available: 337\n",
        "Restaurant KVYSUfN89b-nih-_9HhF6g has 165 reviews."
       ]
      },
      {
       "output_type": "stream",
       "stream": "stdout",
       "text": [
        "\n",
        "Restaurant EF5vR_UUavzPjtgMYFCg5Q has 154 reviews."
       ]
      },
      {
       "output_type": "stream",
       "stream": "stdout",
       "text": [
        "\n",
        "Restaurant K5kU2IN6mXvMo-Cx0oQFZg has 98 reviews."
       ]
      },
      {
       "output_type": "stream",
       "stream": "stderr",
       "text": [
        "WARNING:gensim.models.ldamodel:too few updates, training might not converge; consider increasing the number of passes or iterations to improve accuracy\n"
       ]
      },
      {
       "output_type": "stream",
       "stream": "stdout",
       "text": [
        "\n",
        "CPU times: user 2.39 s, sys: 36.4 ms, total: 2.43 s"
       ]
      },
      {
       "output_type": "stream",
       "stream": "stderr",
       "text": [
        "WARNING:gensim.models.ldamodel:too few updates, training might not converge; consider increasing the number of passes or iterations to improve accuracy\n"
       ]
      },
      {
       "output_type": "stream",
       "stream": "stdout",
       "text": [
        "\n",
        "Wall time: 2.68 s\n",
        "CPU times: user 1.95 s, sys: 14.9 ms, total: 1.96 s"
       ]
      },
      {
       "output_type": "stream",
       "stream": "stderr",
       "text": [
        "WARNING:gensim.models.ldamodel:too few updates, training might not converge; consider increasing the number of passes or iterations to improve accuracy\n"
       ]
      },
      {
       "output_type": "stream",
       "stream": "stdout",
       "text": [
        "\n",
        "Wall time: 2.02 s\n",
        "CPU times: user 1.4 s, sys: 15.8 ms, total: 1.41 s"
       ]
      },
      {
       "output_type": "stream",
       "stream": "stdout",
       "text": [
        "\n",
        "Wall time: 1.49 s\n",
        "star rating 2\n",
        "Number of restaurants available: 853\n",
        "Restaurant 1ldDbggHHgPlj3k0SpBTKQ has 265 reviews."
       ]
      },
      {
       "output_type": "stream",
       "stream": "stdout",
       "text": [
        "\n",
        "Restaurant VdY6qe9afspFwsbzX1HsOQ has 262 reviews."
       ]
      },
      {
       "output_type": "stream",
       "stream": "stdout",
       "text": [
        "\n",
        "Restaurant a1t31qMLd5fQocEjbSJ61A has 233 reviews."
       ]
      },
      {
       "output_type": "stream",
       "stream": "stderr",
       "text": [
        "WARNING:gensim.models.ldamodel:too few updates, training might not converge; consider increasing the number of passes or iterations to improve accuracy\n"
       ]
      },
      {
       "output_type": "stream",
       "stream": "stdout",
       "text": [
        "\n",
        "CPU times: user 3.52 s, sys: 35.1 ms, total: 3.55 s"
       ]
      },
      {
       "output_type": "stream",
       "stream": "stderr",
       "text": [
        "WARNING:gensim.models.ldamodel:too few updates, training might not converge; consider increasing the number of passes or iterations to improve accuracy\n"
       ]
      },
      {
       "output_type": "stream",
       "stream": "stdout",
       "text": [
        "\n",
        "Wall time: 3.72 s\n",
        "CPU times: user 2.92 s, sys: 18.4 ms, total: 2.94 s"
       ]
      },
      {
       "output_type": "stream",
       "stream": "stderr",
       "text": [
        "WARNING:gensim.models.ldamodel:too few updates, training might not converge; consider increasing the number of passes or iterations to improve accuracy\n"
       ]
      },
      {
       "output_type": "stream",
       "stream": "stdout",
       "text": [
        "\n",
        "Wall time: 2.95 s\n",
        "CPU times: user 3.02 s, sys: 45.5 ms, total: 3.06 s"
       ]
      },
      {
       "output_type": "stream",
       "stream": "stdout",
       "text": [
        "\n",
        "Wall time: 3.43 s\n",
        "star rating 2.5\n",
        "Number of restaurants available: 2108\n",
        "Restaurant KJnVuzpveyDrHARVNZaYVg has 724 reviews."
       ]
      },
      {
       "output_type": "stream",
       "stream": "stdout",
       "text": [
        "\n",
        "Restaurant Zf7fMSe7yuW727JyikdBsg has 661 reviews."
       ]
      },
      {
       "output_type": "stream",
       "stream": "stdout",
       "text": [
        "\n",
        "Restaurant c12WDNrP2wyQgbnEYDdxCw has 479 reviews."
       ]
      },
      {
       "output_type": "stream",
       "stream": "stderr",
       "text": [
        "WARNING:gensim.models.ldamodel:too few updates, training might not converge; consider increasing the number of passes or iterations to improve accuracy\n"
       ]
      },
      {
       "output_type": "stream",
       "stream": "stdout",
       "text": [
        "\n",
        "CPU times: user 10.3 s, sys: 60.9 ms, total: 10.3 s"
       ]
      },
      {
       "output_type": "stream",
       "stream": "stderr",
       "text": [
        "WARNING:gensim.models.ldamodel:too few updates, training might not converge; consider increasing the number of passes or iterations to improve accuracy\n"
       ]
      },
      {
       "output_type": "stream",
       "stream": "stdout",
       "text": [
        "\n",
        "Wall time: 10.5 s\n",
        "CPU times: user 10.7 s, sys: 100 ms, total: 10.8 s"
       ]
      },
      {
       "output_type": "stream",
       "stream": "stderr",
       "text": [
        "WARNING:gensim.models.ldamodel:too few updates, training might not converge; consider increasing the number of passes or iterations to improve accuracy\n"
       ]
      },
      {
       "output_type": "stream",
       "stream": "stdout",
       "text": [
        "\n",
        "Wall time: 11.2 s\n",
        "CPU times: user 5.65 s, sys: 68.2 ms, total: 5.72 s"
       ]
      },
      {
       "output_type": "stream",
       "stream": "stdout",
       "text": [
        "\n",
        "Wall time: 6.36 s\n",
        "star rating 3\n",
        "Number of restaurants available: 3939\n",
        "Restaurant Xhg93cMdemu5pAMkDoEdtQ has 2675 reviews."
       ]
      },
      {
       "output_type": "stream",
       "stream": "stdout",
       "text": [
        "\n",
        "Restaurant SLyacGZuMUKqrQJEooSkjw has 1032 reviews."
       ]
      },
      {
       "output_type": "stream",
       "stream": "stdout",
       "text": [
        "\n",
        "Restaurant zTCCbg7mGslxACL5KlAPIQ has 987 reviews."
       ]
      },
      {
       "output_type": "stream",
       "stream": "stderr",
       "text": [
        "WARNING:gensim.models.ldamodel:too few updates, training might not converge; consider increasing the number of passes or iterations to improve accuracy\n"
       ]
      },
      {
       "output_type": "stream",
       "stream": "stdout",
       "text": [
        "\n",
        "CPU times: user 39.4 s, sys: 382 ms, total: 39.7 s"
       ]
      },
      {
       "output_type": "stream",
       "stream": "stderr",
       "text": [
        "WARNING:gensim.models.ldamodel:too few updates, training might not converge; consider increasing the number of passes or iterations to improve accuracy\n"
       ]
      },
      {
       "output_type": "stream",
       "stream": "stdout",
       "text": [
        "\n",
        "Wall time: 41.4 s\n",
        "CPU times: user 12.9 s, sys: 94.7 ms, total: 13 s"
       ]
      },
      {
       "output_type": "stream",
       "stream": "stderr",
       "text": [
        "WARNING:gensim.models.ldamodel:too few updates, training might not converge; consider increasing the number of passes or iterations to improve accuracy\n"
       ]
      },
      {
       "output_type": "stream",
       "stream": "stdout",
       "text": [
        "\n",
        "Wall time: 13.1 s\n",
        "CPU times: user 13.8 s, sys: 110 ms, total: 13.9 s"
       ]
      },
      {
       "output_type": "stream",
       "stream": "stdout",
       "text": [
        "\n",
        "Wall time: 14.2 s\n",
        "star rating 3.5\n",
        "Number of restaurants available: 6048\n",
        "Restaurant zt1TpTuJ6y9n551sw9TaEg has 3352 reviews."
       ]
      },
      {
       "output_type": "stream",
       "stream": "stdout",
       "text": [
        "\n",
        "Restaurant YNQgak-ZLtYJQxlDwN-qIg has 2619 reviews."
       ]
      },
      {
       "output_type": "stream",
       "stream": "stdout",
       "text": [
        "\n",
        "Restaurant CZjcFdvJhksq9dy58NVEzw has 2252 reviews."
       ]
      },
      {
       "output_type": "stream",
       "stream": "stderr",
       "text": [
        "WARNING:gensim.models.ldamodel:too few updates, training might not converge; consider increasing the number of passes or iterations to improve accuracy\n"
       ]
      },
      {
       "output_type": "stream",
       "stream": "stdout",
       "text": [
        "\n",
        "CPU times: user 50.7 s, sys: 257 ms, total: 50.9 s"
       ]
      },
      {
       "output_type": "stream",
       "stream": "stderr",
       "text": [
        "WARNING:gensim.models.ldamodel:too few updates, training might not converge; consider increasing the number of passes or iterations to improve accuracy\n"
       ]
      },
      {
       "output_type": "stream",
       "stream": "stdout",
       "text": [
        "\n",
        "Wall time: 51.1 s\n",
        "CPU times: user 36.1 s, sys: 146 ms, total: 36.2 s"
       ]
      },
      {
       "output_type": "stream",
       "stream": "stderr",
       "text": [
        "WARNING:gensim.models.ldamodel:too few updates, training might not converge; consider increasing the number of passes or iterations to improve accuracy\n"
       ]
      },
      {
       "output_type": "stream",
       "stream": "stdout",
       "text": [
        "\n",
        "Wall time: 36.5 s\n",
        "CPU times: user 30.7 s, sys: 243 ms, total: 31 s"
       ]
      },
      {
       "output_type": "stream",
       "stream": "stdout",
       "text": [
        "\n",
        "Wall time: 32.3 s\n",
        "star rating 4\n",
        "Number of restaurants available: 5768\n",
        "Restaurant 4bEjOyTaDG24SY5TxsaUNQ has 4137 reviews."
       ]
      },
      {
       "output_type": "stream",
       "stream": "stdout",
       "text": [
        "\n",
        "Restaurant sIyHTizqAiGu12XMLX3N3g has 2657 reviews."
       ]
      },
      {
       "output_type": "stream",
       "stream": "stdout",
       "text": [
        "\n",
        "Restaurant tFU2Js_nbIZOrnKfYJYBBg has 2337 reviews."
       ]
      },
      {
       "output_type": "stream",
       "stream": "stderr",
       "text": [
        "WARNING:gensim.models.ldamodel:too few updates, training might not converge; consider increasing the number of passes or iterations to improve accuracy\n"
       ]
      },
      {
       "output_type": "stream",
       "stream": "stdout",
       "text": [
        "\n",
        "CPU times: user 25.4 s, sys: 234 ms, total: 25.7 s"
       ]
      },
      {
       "output_type": "stream",
       "stream": "stderr",
       "text": [
        "WARNING:gensim.models.ldamodel:too few updates, training might not converge; consider increasing the number of passes or iterations to improve accuracy\n"
       ]
      },
      {
       "output_type": "stream",
       "stream": "stdout",
       "text": [
        "\n",
        "Wall time: 26.6 s\n",
        "CPU times: user 50.8 s, sys: 480 ms, total: 51.3 s"
       ]
      },
      {
       "output_type": "stream",
       "stream": "stderr",
       "text": [
        "WARNING:gensim.models.ldamodel:too few updates, training might not converge; consider increasing the number of passes or iterations to improve accuracy\n"
       ]
      },
      {
       "output_type": "stream",
       "stream": "stdout",
       "text": [
        "\n",
        "Wall time: 55.6 s\n",
        "CPU times: user 36.1 s, sys: 179 ms, total: 36.3 s"
       ]
      },
      {
       "output_type": "stream",
       "stream": "stdout",
       "text": [
        "\n",
        "Wall time: 36.7 s\n",
        "star rating 4.5\n",
        "Number of restaurants available: 2362\n",
        "Restaurant 2e2e7WgqU1BnpxmQL5jbfw has 3517 reviews."
       ]
      },
      {
       "output_type": "stream",
       "stream": "stdout",
       "text": [
        "\n",
        "Restaurant 8buIr1zBCO7OEcAQSZko7w has 1225 reviews."
       ]
      },
      {
       "output_type": "stream",
       "stream": "stdout",
       "text": [
        "\n",
        "Restaurant JokKtdXU7zXHcr20Lrk29A has 1171 reviews."
       ]
      },
      {
       "output_type": "stream",
       "stream": "stderr",
       "text": [
        "WARNING:gensim.models.ldamodel:too few updates, training might not converge; consider increasing the number of passes or iterations to improve accuracy\n"
       ]
      },
      {
       "output_type": "stream",
       "stream": "stdout",
       "text": [
        "\n",
        "CPU times: user 39.3 s, sys: 166 ms, total: 39.5 s"
       ]
      },
      {
       "output_type": "stream",
       "stream": "stderr",
       "text": [
        "WARNING:gensim.models.ldamodel:too few updates, training might not converge; consider increasing the number of passes or iterations to improve accuracy\n"
       ]
      },
      {
       "output_type": "stream",
       "stream": "stdout",
       "text": [
        "\n",
        "Wall time: 39.6 s\n",
        "CPU times: user 16.1 s, sys: 60.4 ms, total: 16.2 s"
       ]
      },
      {
       "output_type": "stream",
       "stream": "stderr",
       "text": [
        "WARNING:gensim.models.ldamodel:too few updates, training might not converge; consider increasing the number of passes or iterations to improve accuracy\n"
       ]
      },
      {
       "output_type": "stream",
       "stream": "stdout",
       "text": [
        "\n",
        "Wall time: 16.2 s\n",
        "CPU times: user 13.3 s, sys: 63.5 ms, total: 13.4 s"
       ]
      },
      {
       "output_type": "stream",
       "stream": "stdout",
       "text": [
        "\n",
        "Wall time: 13.4 s\n",
        "star rating 5\n",
        "Number of restaurants available: 389\n",
        "Restaurant rcCGdKxMPJk4lCzZZ1i_bA has 250 reviews."
       ]
      },
      {
       "output_type": "stream",
       "stream": "stdout",
       "text": [
        "\n",
        "Restaurant GmzpzmxinfLMw5OXQKFEBQ has 245 reviews."
       ]
      },
      {
       "output_type": "stream",
       "stream": "stdout",
       "text": [
        "\n",
        "Restaurant JXUX_oiCrfHm6b1sbqQd7A has 175 reviews."
       ]
      },
      {
       "output_type": "stream",
       "stream": "stderr",
       "text": [
        "WARNING:gensim.models.ldamodel:too few updates, training might not converge; consider increasing the number of passes or iterations to improve accuracy\n"
       ]
      },
      {
       "output_type": "stream",
       "stream": "stdout",
       "text": [
        "\n",
        "CPU times: user 2.88 s, sys: 12.7 ms, total: 2.89 s"
       ]
      },
      {
       "output_type": "stream",
       "stream": "stderr",
       "text": [
        "WARNING:gensim.models.ldamodel:too few updates, training might not converge; consider increasing the number of passes or iterations to improve accuracy\n"
       ]
      },
      {
       "output_type": "stream",
       "stream": "stdout",
       "text": [
        "\n",
        "Wall time: 2.91 s\n",
        "CPU times: user 3.14 s, sys: 13 ms, total: 3.15 s"
       ]
      },
      {
       "output_type": "stream",
       "stream": "stderr",
       "text": [
        "WARNING:gensim.models.ldamodel:too few updates, training might not converge; consider increasing the number of passes or iterations to improve accuracy\n"
       ]
      },
      {
       "output_type": "stream",
       "stream": "stdout",
       "text": [
        "\n",
        "Wall time: 3.16 s\n",
        "CPU times: user 2.1 s, sys: 9.29 ms, total: 2.11 s"
       ]
      },
      {
       "output_type": "stream",
       "stream": "stdout",
       "text": [
        "\n",
        "Wall time: 2.12 s\n"
       ]
      }
     ],
     "prompt_number": 62
    },
    {
     "cell_type": "code",
     "collapsed": false,
     "input": [
      "errors"
     ],
     "language": "python",
     "metadata": {},
     "outputs": [
      {
       "metadata": {},
       "output_type": "pyout",
       "prompt_number": 63,
       "text": [
        "[[1, 16.666666666666664],\n",
        " [1.5, 22.222222222222221],\n",
        " [2, 0.0],\n",
        " [2.5, 26.666666666666668],\n",
        " [3, 16.666666666666664],\n",
        " [3.5, 9.5238095238095237],\n",
        " [4, 4.1666666666666661],\n",
        " [4.5, 0.0],\n",
        " [5, 0.0]]"
       ]
      }
     ],
     "prompt_number": 63
    },
    {
     "cell_type": "code",
     "collapsed": false,
     "input": [],
     "language": "python",
     "metadata": {},
     "outputs": [],
     "prompt_number": 65
    },
    {
     "cell_type": "code",
     "collapsed": false,
     "input": [],
     "language": "python",
     "metadata": {},
     "outputs": [],
     "prompt_number": 63
    },
    {
     "cell_type": "code",
     "collapsed": false,
     "input": [],
     "language": "python",
     "metadata": {},
     "outputs": []
    },
    {
     "cell_type": "code",
     "collapsed": false,
     "input": [],
     "language": "python",
     "metadata": {},
     "outputs": []
    },
    {
     "cell_type": "code",
     "collapsed": false,
     "input": [],
     "language": "python",
     "metadata": {},
     "outputs": []
    },
    {
     "cell_type": "code",
     "collapsed": false,
     "input": [],
     "language": "python",
     "metadata": {},
     "outputs": []
    },
    {
     "cell_type": "code",
     "collapsed": false,
     "input": [],
     "language": "python",
     "metadata": {},
     "outputs": []
    },
    {
     "cell_type": "code",
     "collapsed": false,
     "input": [],
     "language": "python",
     "metadata": {},
     "outputs": []
    },
    {
     "cell_type": "code",
     "collapsed": false,
     "input": [],
     "language": "python",
     "metadata": {},
     "outputs": []
    },
    {
     "cell_type": "code",
     "collapsed": false,
     "input": [],
     "language": "python",
     "metadata": {},
     "outputs": []
    },
    {
     "cell_type": "code",
     "collapsed": false,
     "input": [],
     "language": "python",
     "metadata": {},
     "outputs": []
    },
    {
     "cell_type": "code",
     "collapsed": false,
     "input": [],
     "language": "python",
     "metadata": {},
     "outputs": []
    },
    {
     "cell_type": "code",
     "collapsed": false,
     "input": [],
     "language": "python",
     "metadata": {},
     "outputs": []
    },
    {
     "cell_type": "code",
     "collapsed": false,
     "input": [],
     "language": "python",
     "metadata": {},
     "outputs": []
    },
    {
     "cell_type": "code",
     "collapsed": false,
     "input": [],
     "language": "python",
     "metadata": {},
     "outputs": []
    }
   ],
   "metadata": {}
  }
 ]
}