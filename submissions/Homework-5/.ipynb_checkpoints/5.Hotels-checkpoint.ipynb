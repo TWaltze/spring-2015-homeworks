{
 "metadata": {
  "name": "",
  "signature": "sha256:d4287cb4c6ff42193e165cb4b6a99ecc81e4dfce9e3d2f23079851a8b76c5849"
 },
 "nbformat": 3,
 "nbformat_minor": 0,
 "worksheets": [
  {
   "cells": [
    {
     "cell_type": "markdown",
     "metadata": {},
     "source": [
      "(In order to load the stylesheet of this notebook, execute the last code cell in this notebook)"
     ]
    },
    {
     "cell_type": "heading",
     "level": 1,
     "metadata": {},
     "source": [
      "Analyzing hotel ratings on Tripadvisor"
     ]
    },
    {
     "cell_type": "markdown",
     "metadata": {},
     "source": [
      "In this homework we will focus on practicing two techniques: web scraping and regression. For the first part, we will build upon the sample code from the Lecture and attempt to get some basic information for each hotel. Then, we will fit a regression model on this information and try to analyze it.   "
     ]
    },
    {
     "cell_type": "markdown",
     "metadata": {},
     "source": [
      "One of the main disadvantages of scraping a website instead of using an API is that, without any notice, the website may change its layout and render our code useless. Something like that happened in our case. Tripadvisor changed the layout of the buttons that we use to navigate between the different pages of the results. This was the main reason people were having problem with executing the code."
     ]
    },
    {
     "cell_type": "markdown",
     "metadata": {},
     "source": [
      "**Task 1 (20 pts)**\n",
      "\n",
      "The first task of the homework is to fix the scraping code. We basically need to replace the part where we are checking if there is another page and getting its link with new code that reflects the new navigation layout. "
     ]
    },
    {
     "cell_type": "markdown",
     "metadata": {},
     "source": [
      "** Task 2 (30 pts)**\n",
      "\n",
      "Then, for each hotel that our search returns, we will \"click\" (with the code of course) on it and scrape the information below.\n",
      "\n",
      "![Information to be scraped](hotel_info.png)\n",
      "\n",
      "Of course, feel free to collect even more data if you want. "
     ]
    },
    {
     "cell_type": "markdown",
     "metadata": {},
     "source": [
      "** Task 3 (20 pts) **\n",
      "\n",
      "Now, we will use regression to analyze this information. First, we will fit a linear regression model that predicts the average rating. For example, for the hotel above, the average rating is\n",
      "\n",
      "$$ \\text{AVG_SCORE} = \\frac{1*31 + 2*33 + 3*98 + 4*504 + 5*1861}{2527}$$\n",
      "\n",
      "Use the model to analyze the important factors that decide the $\\text{AVG_SCORE}$."
     ]
    },
    {
     "cell_type": "markdown",
     "metadata": {},
     "source": [
      "** Task 4 (30 pts) **\n",
      "\n",
      "Finally, we will use logistic regression to decide if a hotel is _excellent_ or not. We classify a hotel as _excellent_ if more than **60%** of its ratings are 5 stars. This is a binary attribute on which we can fit a logistic regression model. As before, use the model to analyze the data.\n",
      "\n",
      "-------"
     ]
    },
    {
     "cell_type": "markdown",
     "metadata": {},
     "source": [
      "In order to use code from a Python script file, we need to put that file in the same folder as the notebook and import it as a library. Then, we will be able to access it's functions. For example, in the case of the lecture code, we could do the following:\n",
      "\n",
      "``` python\n",
      "import scrape_solution as scrape\n",
      "\n",
      "scrape.get_city_page()\n",
      "```\n",
      "\n",
      "Of course, you might need to modify and restructure the code so that it returns what you need."
     ]
    },
    {
     "cell_type": "markdown",
     "metadata": {},
     "source": [
      "----"
     ]
    },
    {
     "cell_type": "code",
     "collapsed": false,
     "input": [
      "import re\n",
      "import json\n",
      "import scrape_solution as scrape\n",
      "from BeautifulSoup import BeautifulSoup\n",
      "\n",
      "\n",
      "import time\n",
      "\n",
      "import numpy as np\n",
      "import matplotlib.pyplot as plt\n",
      "import pandas as pd\n",
      "\n",
      "import scipy as sp\n",
      "import scipy.sparse.linalg as linalg\n",
      "import scipy.cluster.hierarchy as hr\n",
      "from scipy.spatial.distance import pdist, squareform\n",
      "\n",
      "import sklearn.datasets as datasets\n",
      "import sklearn.metrics as metrics\n",
      "import sklearn.utils as utils\n",
      "import sklearn.linear_model as linear_model\n",
      "import sklearn.cross_validation as cross_validation\n",
      "import sklearn.cluster as cluster\n",
      "from sklearn.neighbors import KNeighborsClassifier\n",
      "from sklearn.decomposition import TruncatedSVD\n",
      "from sklearn.preprocessing import StandardScaler\n",
      "\n",
      "import statsmodels.api as sm\n",
      "\n",
      "from patsy import dmatrices\n",
      "\n",
      "import seaborn as sns\n",
      "%matplotlib inline"
     ],
     "language": "python",
     "metadata": {},
     "outputs": [],
     "prompt_number": 196
    },
    {
     "cell_type": "code",
     "collapsed": false,
     "input": [
      "reload(scrape)"
     ],
     "language": "python",
     "metadata": {},
     "outputs": [
      {
       "metadata": {},
       "output_type": "pyout",
       "prompt_number": 186,
       "text": [
        "<module 'scrape_solution' from 'scrape_solution.py'>"
       ]
      }
     ],
     "prompt_number": 186
    },
    {
     "cell_type": "code",
     "collapsed": false,
     "input": [
      "city_url = scrape.get_city_page(\"Boston\", \"MA\", \"data/\")"
     ],
     "language": "python",
     "metadata": {},
     "outputs": [],
     "prompt_number": 5
    },
    {
     "cell_type": "code",
     "collapsed": false,
     "input": [
      "html = scrape.get_hotellist_page(city_url, 1, \"Boston\")"
     ],
     "language": "python",
     "metadata": {},
     "outputs": [],
     "prompt_number": 59
    },
    {
     "cell_type": "code",
     "collapsed": false,
     "input": [
      "soup = BeautifulSoup(html)\n",
      "\n",
      "# Use regular expression because for some reason it won't\n",
      "# find a basic string.\n",
      "nextPage = soup.find(\"a\", {'class': re.compile(r'\\bsprite-pageNext\\b')})[\"href\"]\n",
      "print nextPage"
     ],
     "language": "python",
     "metadata": {},
     "outputs": [
      {
       "output_type": "stream",
       "stream": "stdout",
       "text": [
        "/Hotels-g60745-oa30-Boston_Massachusetts-Hotels.html#ACCOM_OVERVIEW\n"
       ]
      }
     ],
     "prompt_number": 76
    },
    {
     "cell_type": "code",
     "collapsed": false,
     "input": [
      "# Get all of the hotels, across multiple pages\n",
      "scrape.scrape_hotels(\"Boston\", \"MA\")"
     ],
     "language": "python",
     "metadata": {},
     "outputs": [
      {
       "output_type": "stream",
       "stream": "stderr",
       "text": [
        "[2015-04-05 15:53:45,822] Hotel name: Seaport Boston Hotel\n"
       ]
      },
      {
       "output_type": "stream",
       "stream": "stderr",
       "text": [
        "[2015-04-05 15:53:45,822] Hotel name: Seaport Boston Hotel\n"
       ]
      },
      {
       "output_type": "stream",
       "stream": "stderr",
       "text": [
        "[2015-04-05 15:53:45,822] Hotel name: Seaport Boston Hotel\n"
       ]
      },
      {
       "output_type": "stream",
       "stream": "stderr",
       "text": [
        "[2015-04-05 15:53:45,822] Hotel name: Seaport Boston Hotel\n"
       ]
      },
      {
       "output_type": "stream",
       "stream": "stderr",
       "text": [
        "[2015-04-05 15:53:45,822] Hotel name: Seaport Boston Hotel\n"
       ]
      },
      {
       "output_type": "stream",
       "stream": "stderr",
       "text": [
        "[2015-04-05 15:53:45,822] Hotel name: Seaport Boston Hotel\n"
       ]
      },
      {
       "output_type": "stream",
       "stream": "stderr",
       "text": [
        "[2015-04-05 15:53:45,822] Hotel name: Seaport Boston Hotel\n"
       ]
      },
      {
       "output_type": "stream",
       "stream": "stderr",
       "text": [
        "[2015-04-05 15:53:45,822] Hotel name: Seaport Boston Hotel\n"
       ]
      },
      {
       "output_type": "stream",
       "stream": "stderr",
       "text": [
        "[2015-04-05 15:53:45,822] Hotel name: Seaport Boston Hotel\n"
       ]
      },
      {
       "output_type": "stream",
       "stream": "stderr",
       "text": [
        "[2015-04-05 15:53:45,822] Hotel name: Seaport Boston Hotel\n"
       ]
      },
      {
       "output_type": "stream",
       "stream": "stderr",
       "text": [
        "[2015-04-05 15:53:45,822] Hotel name: Seaport Boston Hotel\n"
       ]
      },
      {
       "output_type": "stream",
       "stream": "stderr",
       "text": [
        "[2015-04-05 15:53:45,822] Hotel name: Seaport Boston Hotel\n"
       ]
      },
      {
       "output_type": "stream",
       "stream": "stderr",
       "text": [
        "[2015-04-05 15:53:45,822] Hotel name: Seaport Boston Hotel\n"
       ]
      },
      {
       "output_type": "stream",
       "stream": "stderr",
       "text": [
        "[2015-04-05 15:53:45,822] Hotel name: Seaport Boston Hotel\n"
       ]
      },
      {
       "output_type": "stream",
       "stream": "stderr",
       "text": [
        "INFO:scrape_solution:Hotel name: Seaport Boston Hotel\n"
       ]
      },
      {
       "output_type": "stream",
       "stream": "stderr",
       "text": [
        "[2015-04-05 15:53:45,831] Stars: 4.5\n"
       ]
      },
      {
       "output_type": "stream",
       "stream": "stderr",
       "text": [
        "[2015-04-05 15:53:45,831] Stars: 4.5\n"
       ]
      },
      {
       "output_type": "stream",
       "stream": "stderr",
       "text": [
        "[2015-04-05 15:53:45,831] Stars: 4.5\n"
       ]
      },
      {
       "output_type": "stream",
       "stream": "stderr",
       "text": [
        "[2015-04-05 15:53:45,831] Stars: 4.5\n"
       ]
      },
      {
       "output_type": "stream",
       "stream": "stderr",
       "text": [
        "[2015-04-05 15:53:45,831] Stars: 4.5\n"
       ]
      },
      {
       "output_type": "stream",
       "stream": "stderr",
       "text": [
        "[2015-04-05 15:53:45,831] Stars: 4.5\n"
       ]
      },
      {
       "output_type": "stream",
       "stream": "stderr",
       "text": [
        "[2015-04-05 15:53:45,831] Stars: 4.5\n"
       ]
      },
      {
       "output_type": "stream",
       "stream": "stderr",
       "text": [
        "[2015-04-05 15:53:45,831] Stars: 4.5\n"
       ]
      },
      {
       "output_type": "stream",
       "stream": "stderr",
       "text": [
        "[2015-04-05 15:53:45,831] Stars: 4.5\n"
       ]
      },
      {
       "output_type": "stream",
       "stream": "stderr",
       "text": [
        "[2015-04-05 15:53:45,831] Stars: 4.5\n"
       ]
      },
      {
       "output_type": "stream",
       "stream": "stderr",
       "text": [
        "[2015-04-05 15:53:45,831] Stars: 4.5\n"
       ]
      },
      {
       "output_type": "stream",
       "stream": "stderr",
       "text": [
        "[2015-04-05 15:53:45,831] Stars: 4.5\n"
       ]
      },
      {
       "output_type": "stream",
       "stream": "stderr",
       "text": [
        "[2015-04-05 15:53:45,831] Stars: 4.5\n"
       ]
      },
      {
       "output_type": "stream",
       "stream": "stderr",
       "text": [
        "[2015-04-05 15:53:45,831] Stars: 4.5\n"
       ]
      },
      {
       "output_type": "stream",
       "stream": "stderr",
       "text": [
        "INFO:scrape_solution:Stars: 4.5\n"
       ]
      },
      {
       "output_type": "stream",
       "stream": "stderr",
       "text": [
        "[2015-04-05 15:53:45,870] Number of reviews: 2,548 reviews \n"
       ]
      },
      {
       "output_type": "stream",
       "stream": "stderr",
       "text": [
        "[2015-04-05 15:53:45,870] Number of reviews: 2,548 reviews \n"
       ]
      },
      {
       "output_type": "stream",
       "stream": "stderr",
       "text": [
        "[2015-04-05 15:53:45,870] Number of reviews: 2,548 reviews \n"
       ]
      },
      {
       "output_type": "stream",
       "stream": "stderr",
       "text": [
        "[2015-04-05 15:53:45,870] Number of reviews: 2,548 reviews \n"
       ]
      },
      {
       "output_type": "stream",
       "stream": "stderr",
       "text": [
        "[2015-04-05 15:53:45,870] Number of reviews: 2,548 reviews \n"
       ]
      },
      {
       "output_type": "stream",
       "stream": "stderr",
       "text": [
        "[2015-04-05 15:53:45,870] Number of reviews: 2,548 reviews \n"
       ]
      },
      {
       "output_type": "stream",
       "stream": "stderr",
       "text": [
        "[2015-04-05 15:53:45,870] Number of reviews: 2,548 reviews \n"
       ]
      },
      {
       "output_type": "stream",
       "stream": "stderr",
       "text": [
        "[2015-04-05 15:53:45,870] Number of reviews: 2,548 reviews \n"
       ]
      },
      {
       "output_type": "stream",
       "stream": "stderr",
       "text": [
        "[2015-04-05 15:53:45,870] Number of reviews: 2,548 reviews \n"
       ]
      },
      {
       "output_type": "stream",
       "stream": "stderr",
       "text": [
        "[2015-04-05 15:53:45,870] Number of reviews: 2,548 reviews \n"
       ]
      },
      {
       "output_type": "stream",
       "stream": "stderr",
       "text": [
        "[2015-04-05 15:53:45,870] Number of reviews: 2,548 reviews \n"
       ]
      },
      {
       "output_type": "stream",
       "stream": "stderr",
       "text": [
        "[2015-04-05 15:53:45,870] Number of reviews: 2,548 reviews \n"
       ]
      },
      {
       "output_type": "stream",
       "stream": "stderr",
       "text": [
        "[2015-04-05 15:53:45,870] Number of reviews: 2,548 reviews \n"
       ]
      },
      {
       "output_type": "stream",
       "stream": "stderr",
       "text": [
        "[2015-04-05 15:53:45,870] Number of reviews: 2,548 reviews \n"
       ]
      },
      {
       "output_type": "stream",
       "stream": "stderr",
       "text": [
        "INFO:scrape_solution:Number of reviews: 2,548 reviews \n"
       ]
      },
      {
       "output_type": "stream",
       "stream": "stderr",
       "text": [
        "[2015-04-05 15:53:45,882] Hotel name: Hyatt Boston Harbor\n"
       ]
      },
      {
       "output_type": "stream",
       "stream": "stderr",
       "text": [
        "[2015-04-05 15:53:45,882] Hotel name: Hyatt Boston Harbor\n"
       ]
      },
      {
       "output_type": "stream",
       "stream": "stderr",
       "text": [
        "[2015-04-05 15:53:45,882] Hotel name: Hyatt Boston Harbor\n"
       ]
      },
      {
       "output_type": "stream",
       "stream": "stderr",
       "text": [
        "[2015-04-05 15:53:45,882] Hotel name: Hyatt Boston Harbor\n"
       ]
      },
      {
       "output_type": "stream",
       "stream": "stderr",
       "text": [
        "[2015-04-05 15:53:45,882] Hotel name: Hyatt Boston Harbor\n"
       ]
      },
      {
       "output_type": "stream",
       "stream": "stderr",
       "text": [
        "[2015-04-05 15:53:45,882] Hotel name: Hyatt Boston Harbor\n"
       ]
      },
      {
       "output_type": "stream",
       "stream": "stderr",
       "text": [
        "[2015-04-05 15:53:45,882] Hotel name: Hyatt Boston Harbor\n"
       ]
      },
      {
       "output_type": "stream",
       "stream": "stderr",
       "text": [
        "[2015-04-05 15:53:45,882] Hotel name: Hyatt Boston Harbor\n"
       ]
      },
      {
       "output_type": "stream",
       "stream": "stderr",
       "text": [
        "[2015-04-05 15:53:45,882] Hotel name: Hyatt Boston Harbor\n"
       ]
      },
      {
       "output_type": "stream",
       "stream": "stderr",
       "text": [
        "[2015-04-05 15:53:45,882] Hotel name: Hyatt Boston Harbor\n"
       ]
      },
      {
       "output_type": "stream",
       "stream": "stderr",
       "text": [
        "[2015-04-05 15:53:45,882] Hotel name: Hyatt Boston Harbor\n"
       ]
      },
      {
       "output_type": "stream",
       "stream": "stderr",
       "text": [
        "[2015-04-05 15:53:45,882] Hotel name: Hyatt Boston Harbor\n"
       ]
      },
      {
       "output_type": "stream",
       "stream": "stderr",
       "text": [
        "[2015-04-05 15:53:45,882] Hotel name: Hyatt Boston Harbor\n"
       ]
      },
      {
       "output_type": "stream",
       "stream": "stderr",
       "text": [
        "[2015-04-05 15:53:45,882] Hotel name: Hyatt Boston Harbor\n"
       ]
      },
      {
       "output_type": "stream",
       "stream": "stderr",
       "text": [
        "INFO:scrape_solution:Hotel name: Hyatt Boston Harbor\n"
       ]
      },
      {
       "output_type": "stream",
       "stream": "stderr",
       "text": [
        "[2015-04-05 15:53:45,900] Stars: 4\n"
       ]
      },
      {
       "output_type": "stream",
       "stream": "stderr",
       "text": [
        "[2015-04-05 15:53:45,900] Stars: 4\n"
       ]
      },
      {
       "output_type": "stream",
       "stream": "stderr",
       "text": [
        "[2015-04-05 15:53:45,900] Stars: 4\n"
       ]
      },
      {
       "output_type": "stream",
       "stream": "stderr",
       "text": [
        "[2015-04-05 15:53:45,900] Stars: 4\n"
       ]
      },
      {
       "output_type": "stream",
       "stream": "stderr",
       "text": [
        "[2015-04-05 15:53:45,900] Stars: 4\n"
       ]
      },
      {
       "output_type": "stream",
       "stream": "stderr",
       "text": [
        "[2015-04-05 15:53:45,900] Stars: 4\n"
       ]
      },
      {
       "output_type": "stream",
       "stream": "stderr",
       "text": [
        "[2015-04-05 15:53:45,900] Stars: 4\n"
       ]
      },
      {
       "output_type": "stream",
       "stream": "stderr",
       "text": [
        "[2015-04-05 15:53:45,900] Stars: 4\n"
       ]
      },
      {
       "output_type": "stream",
       "stream": "stderr",
       "text": [
        "[2015-04-05 15:53:45,900] Stars: 4\n"
       ]
      },
      {
       "output_type": "stream",
       "stream": "stderr",
       "text": [
        "[2015-04-05 15:53:45,900] Stars: 4\n"
       ]
      },
      {
       "output_type": "stream",
       "stream": "stderr",
       "text": [
        "[2015-04-05 15:53:45,900] Stars: 4\n"
       ]
      },
      {
       "output_type": "stream",
       "stream": "stderr",
       "text": [
        "[2015-04-05 15:53:45,900] Stars: 4\n"
       ]
      },
      {
       "output_type": "stream",
       "stream": "stderr",
       "text": [
        "[2015-04-05 15:53:45,900] Stars: 4\n"
       ]
      },
      {
       "output_type": "stream",
       "stream": "stderr",
       "text": [
        "[2015-04-05 15:53:45,900] Stars: 4\n"
       ]
      },
      {
       "output_type": "stream",
       "stream": "stderr",
       "text": [
        "INFO:scrape_solution:Stars: 4\n"
       ]
      },
      {
       "output_type": "stream",
       "stream": "stderr",
       "text": [
        "[2015-04-05 15:53:45,919] Number of reviews: 1,170 reviews \n"
       ]
      },
      {
       "output_type": "stream",
       "stream": "stderr",
       "text": [
        "[2015-04-05 15:53:45,919] Number of reviews: 1,170 reviews \n"
       ]
      },
      {
       "output_type": "stream",
       "stream": "stderr",
       "text": [
        "[2015-04-05 15:53:45,919] Number of reviews: 1,170 reviews \n"
       ]
      },
      {
       "output_type": "stream",
       "stream": "stderr",
       "text": [
        "[2015-04-05 15:53:45,919] Number of reviews: 1,170 reviews \n"
       ]
      },
      {
       "output_type": "stream",
       "stream": "stderr",
       "text": [
        "[2015-04-05 15:53:45,919] Number of reviews: 1,170 reviews \n"
       ]
      },
      {
       "output_type": "stream",
       "stream": "stderr",
       "text": [
        "[2015-04-05 15:53:45,919] Number of reviews: 1,170 reviews \n"
       ]
      },
      {
       "output_type": "stream",
       "stream": "stderr",
       "text": [
        "[2015-04-05 15:53:45,919] Number of reviews: 1,170 reviews \n"
       ]
      },
      {
       "output_type": "stream",
       "stream": "stderr",
       "text": [
        "[2015-04-05 15:53:45,919] Number of reviews: 1,170 reviews \n"
       ]
      },
      {
       "output_type": "stream",
       "stream": "stderr",
       "text": [
        "[2015-04-05 15:53:45,919] Number of reviews: 1,170 reviews \n"
       ]
      },
      {
       "output_type": "stream",
       "stream": "stderr",
       "text": [
        "[2015-04-05 15:53:45,919] Number of reviews: 1,170 reviews \n"
       ]
      },
      {
       "output_type": "stream",
       "stream": "stderr",
       "text": [
        "[2015-04-05 15:53:45,919] Number of reviews: 1,170 reviews \n"
       ]
      },
      {
       "output_type": "stream",
       "stream": "stderr",
       "text": [
        "[2015-04-05 15:53:45,919] Number of reviews: 1,170 reviews \n"
       ]
      },
      {
       "output_type": "stream",
       "stream": "stderr",
       "text": [
        "[2015-04-05 15:53:45,919] Number of reviews: 1,170 reviews \n"
       ]
      },
      {
       "output_type": "stream",
       "stream": "stderr",
       "text": [
        "[2015-04-05 15:53:45,919] Number of reviews: 1,170 reviews \n"
       ]
      },
      {
       "output_type": "stream",
       "stream": "stderr",
       "text": [
        "INFO:scrape_solution:Number of reviews: 1,170 reviews \n"
       ]
      },
      {
       "output_type": "stream",
       "stream": "stderr",
       "text": [
        "[2015-04-05 15:53:45,941] Hotel name: Courtyard by Marriott Boston Copley Square\n"
       ]
      },
      {
       "output_type": "stream",
       "stream": "stderr",
       "text": [
        "[2015-04-05 15:53:45,941] Hotel name: Courtyard by Marriott Boston Copley Square\n"
       ]
      },
      {
       "output_type": "stream",
       "stream": "stderr",
       "text": [
        "[2015-04-05 15:53:45,941] Hotel name: Courtyard by Marriott Boston Copley Square\n"
       ]
      },
      {
       "output_type": "stream",
       "stream": "stderr",
       "text": [
        "[2015-04-05 15:53:45,941] Hotel name: Courtyard by Marriott Boston Copley Square\n"
       ]
      },
      {
       "output_type": "stream",
       "stream": "stderr",
       "text": [
        "[2015-04-05 15:53:45,941] Hotel name: Courtyard by Marriott Boston Copley Square\n"
       ]
      },
      {
       "output_type": "stream",
       "stream": "stderr",
       "text": [
        "[2015-04-05 15:53:45,941] Hotel name: Courtyard by Marriott Boston Copley Square\n"
       ]
      },
      {
       "output_type": "stream",
       "stream": "stderr",
       "text": [
        "[2015-04-05 15:53:45,941] Hotel name: Courtyard by Marriott Boston Copley Square\n"
       ]
      },
      {
       "output_type": "stream",
       "stream": "stderr",
       "text": [
        "[2015-04-05 15:53:45,941] Hotel name: Courtyard by Marriott Boston Copley Square\n"
       ]
      },
      {
       "output_type": "stream",
       "stream": "stderr",
       "text": [
        "[2015-04-05 15:53:45,941] Hotel name: Courtyard by Marriott Boston Copley Square\n"
       ]
      },
      {
       "output_type": "stream",
       "stream": "stderr",
       "text": [
        "[2015-04-05 15:53:45,941] Hotel name: Courtyard by Marriott Boston Copley Square\n"
       ]
      },
      {
       "output_type": "stream",
       "stream": "stderr",
       "text": [
        "[2015-04-05 15:53:45,941] Hotel name: Courtyard by Marriott Boston Copley Square\n"
       ]
      },
      {
       "output_type": "stream",
       "stream": "stderr",
       "text": [
        "[2015-04-05 15:53:45,941] Hotel name: Courtyard by Marriott Boston Copley Square\n"
       ]
      },
      {
       "output_type": "stream",
       "stream": "stderr",
       "text": [
        "[2015-04-05 15:53:45,941] Hotel name: Courtyard by Marriott Boston Copley Square\n"
       ]
      },
      {
       "output_type": "stream",
       "stream": "stderr",
       "text": [
        "[2015-04-05 15:53:45,941] Hotel name: Courtyard by Marriott Boston Copley Square\n"
       ]
      },
      {
       "output_type": "stream",
       "stream": "stderr",
       "text": [
        "INFO:scrape_solution:Hotel name: Courtyard by Marriott Boston Copley Square\n"
       ]
      },
      {
       "output_type": "stream",
       "stream": "stderr",
       "text": [
        "[2015-04-05 15:53:45,954] Stars: 4.5\n"
       ]
      },
      {
       "output_type": "stream",
       "stream": "stderr",
       "text": [
        "[2015-04-05 15:53:45,954] Stars: 4.5\n"
       ]
      },
      {
       "output_type": "stream",
       "stream": "stderr",
       "text": [
        "[2015-04-05 15:53:45,954] Stars: 4.5\n"
       ]
      },
      {
       "output_type": "stream",
       "stream": "stderr",
       "text": [
        "[2015-04-05 15:53:45,954] Stars: 4.5\n"
       ]
      },
      {
       "output_type": "stream",
       "stream": "stderr",
       "text": [
        "[2015-04-05 15:53:45,954] Stars: 4.5\n"
       ]
      },
      {
       "output_type": "stream",
       "stream": "stderr",
       "text": [
        "[2015-04-05 15:53:45,954] Stars: 4.5\n"
       ]
      },
      {
       "output_type": "stream",
       "stream": "stderr",
       "text": [
        "[2015-04-05 15:53:45,954] Stars: 4.5\n"
       ]
      },
      {
       "output_type": "stream",
       "stream": "stderr",
       "text": [
        "[2015-04-05 15:53:45,954] Stars: 4.5\n"
       ]
      },
      {
       "output_type": "stream",
       "stream": "stderr",
       "text": [
        "[2015-04-05 15:53:45,954] Stars: 4.5\n"
       ]
      },
      {
       "output_type": "stream",
       "stream": "stderr",
       "text": [
        "[2015-04-05 15:53:45,954] Stars: 4.5\n"
       ]
      },
      {
       "output_type": "stream",
       "stream": "stderr",
       "text": [
        "[2015-04-05 15:53:45,954] Stars: 4.5\n"
       ]
      },
      {
       "output_type": "stream",
       "stream": "stderr",
       "text": [
        "[2015-04-05 15:53:45,954] Stars: 4.5\n"
       ]
      },
      {
       "output_type": "stream",
       "stream": "stderr",
       "text": [
        "[2015-04-05 15:53:45,954] Stars: 4.5\n"
       ]
      },
      {
       "output_type": "stream",
       "stream": "stderr",
       "text": [
        "[2015-04-05 15:53:45,954] Stars: 4.5\n"
       ]
      },
      {
       "output_type": "stream",
       "stream": "stderr",
       "text": [
        "INFO:scrape_solution:Stars: 4.5\n"
       ]
      },
      {
       "output_type": "stream",
       "stream": "stderr",
       "text": [
        "[2015-04-05 15:53:45,978] Number of reviews: 964 reviews \n"
       ]
      },
      {
       "output_type": "stream",
       "stream": "stderr",
       "text": [
        "[2015-04-05 15:53:45,978] Number of reviews: 964 reviews \n"
       ]
      },
      {
       "output_type": "stream",
       "stream": "stderr",
       "text": [
        "[2015-04-05 15:53:45,978] Number of reviews: 964 reviews \n"
       ]
      },
      {
       "output_type": "stream",
       "stream": "stderr",
       "text": [
        "[2015-04-05 15:53:45,978] Number of reviews: 964 reviews \n"
       ]
      },
      {
       "output_type": "stream",
       "stream": "stderr",
       "text": [
        "[2015-04-05 15:53:45,978] Number of reviews: 964 reviews \n"
       ]
      },
      {
       "output_type": "stream",
       "stream": "stderr",
       "text": [
        "[2015-04-05 15:53:45,978] Number of reviews: 964 reviews \n"
       ]
      },
      {
       "output_type": "stream",
       "stream": "stderr",
       "text": [
        "[2015-04-05 15:53:45,978] Number of reviews: 964 reviews \n"
       ]
      },
      {
       "output_type": "stream",
       "stream": "stderr",
       "text": [
        "[2015-04-05 15:53:45,978] Number of reviews: 964 reviews \n"
       ]
      },
      {
       "output_type": "stream",
       "stream": "stderr",
       "text": [
        "[2015-04-05 15:53:45,978] Number of reviews: 964 reviews \n"
       ]
      },
      {
       "output_type": "stream",
       "stream": "stderr",
       "text": [
        "[2015-04-05 15:53:45,978] Number of reviews: 964 reviews \n"
       ]
      },
      {
       "output_type": "stream",
       "stream": "stderr",
       "text": [
        "[2015-04-05 15:53:45,978] Number of reviews: 964 reviews \n"
       ]
      },
      {
       "output_type": "stream",
       "stream": "stderr",
       "text": [
        "[2015-04-05 15:53:45,978] Number of reviews: 964 reviews \n"
       ]
      },
      {
       "output_type": "stream",
       "stream": "stderr",
       "text": [
        "[2015-04-05 15:53:45,978] Number of reviews: 964 reviews \n"
       ]
      },
      {
       "output_type": "stream",
       "stream": "stderr",
       "text": [
        "[2015-04-05 15:53:45,978] Number of reviews: 964 reviews \n"
       ]
      },
      {
       "output_type": "stream",
       "stream": "stderr",
       "text": [
        "INFO:scrape_solution:Number of reviews: 964 reviews \n"
       ]
      },
      {
       "output_type": "stream",
       "stream": "stderr",
       "text": [
        "[2015-04-05 15:53:45,990] Hotel name: Nine Zero Hotel - a Kimpton Hotel\n"
       ]
      },
      {
       "output_type": "stream",
       "stream": "stderr",
       "text": [
        "[2015-04-05 15:53:45,990] Hotel name: Nine Zero Hotel - a Kimpton Hotel\n"
       ]
      },
      {
       "output_type": "stream",
       "stream": "stderr",
       "text": [
        "[2015-04-05 15:53:45,990] Hotel name: Nine Zero Hotel - a Kimpton Hotel\n"
       ]
      },
      {
       "output_type": "stream",
       "stream": "stderr",
       "text": [
        "[2015-04-05 15:53:45,990] Hotel name: Nine Zero Hotel - a Kimpton Hotel\n"
       ]
      },
      {
       "output_type": "stream",
       "stream": "stderr",
       "text": [
        "[2015-04-05 15:53:45,990] Hotel name: Nine Zero Hotel - a Kimpton Hotel\n"
       ]
      },
      {
       "output_type": "stream",
       "stream": "stderr",
       "text": [
        "[2015-04-05 15:53:45,990] Hotel name: Nine Zero Hotel - a Kimpton Hotel\n"
       ]
      },
      {
       "output_type": "stream",
       "stream": "stderr",
       "text": [
        "[2015-04-05 15:53:45,990] Hotel name: Nine Zero Hotel - a Kimpton Hotel\n"
       ]
      },
      {
       "output_type": "stream",
       "stream": "stderr",
       "text": [
        "[2015-04-05 15:53:45,990] Hotel name: Nine Zero Hotel - a Kimpton Hotel\n"
       ]
      },
      {
       "output_type": "stream",
       "stream": "stderr",
       "text": [
        "[2015-04-05 15:53:45,990] Hotel name: Nine Zero Hotel - a Kimpton Hotel\n"
       ]
      },
      {
       "output_type": "stream",
       "stream": "stderr",
       "text": [
        "[2015-04-05 15:53:45,990] Hotel name: Nine Zero Hotel - a Kimpton Hotel\n"
       ]
      },
      {
       "output_type": "stream",
       "stream": "stderr",
       "text": [
        "[2015-04-05 15:53:45,990] Hotel name: Nine Zero Hotel - a Kimpton Hotel\n"
       ]
      },
      {
       "output_type": "stream",
       "stream": "stderr",
       "text": [
        "[2015-04-05 15:53:45,990] Hotel name: Nine Zero Hotel - a Kimpton Hotel\n"
       ]
      },
      {
       "output_type": "stream",
       "stream": "stderr",
       "text": [
        "[2015-04-05 15:53:45,990] Hotel name: Nine Zero Hotel - a Kimpton Hotel\n"
       ]
      },
      {
       "output_type": "stream",
       "stream": "stderr",
       "text": [
        "[2015-04-05 15:53:45,990] Hotel name: Nine Zero Hotel - a Kimpton Hotel\n"
       ]
      },
      {
       "output_type": "stream",
       "stream": "stderr",
       "text": [
        "INFO:scrape_solution:Hotel name: Nine Zero Hotel - a Kimpton Hotel\n"
       ]
      },
      {
       "output_type": "stream",
       "stream": "stderr",
       "text": [
        "[2015-04-05 15:53:46,003] Stars: 4.5\n"
       ]
      },
      {
       "output_type": "stream",
       "stream": "stderr",
       "text": [
        "[2015-04-05 15:53:46,003] Stars: 4.5\n"
       ]
      },
      {
       "output_type": "stream",
       "stream": "stderr",
       "text": [
        "[2015-04-05 15:53:46,003] Stars: 4.5\n"
       ]
      },
      {
       "output_type": "stream",
       "stream": "stderr",
       "text": [
        "[2015-04-05 15:53:46,003] Stars: 4.5\n"
       ]
      },
      {
       "output_type": "stream",
       "stream": "stderr",
       "text": [
        "[2015-04-05 15:53:46,003] Stars: 4.5\n"
       ]
      },
      {
       "output_type": "stream",
       "stream": "stderr",
       "text": [
        "[2015-04-05 15:53:46,003] Stars: 4.5\n"
       ]
      },
      {
       "output_type": "stream",
       "stream": "stderr",
       "text": [
        "[2015-04-05 15:53:46,003] Stars: 4.5\n"
       ]
      },
      {
       "output_type": "stream",
       "stream": "stderr",
       "text": [
        "[2015-04-05 15:53:46,003] Stars: 4.5\n"
       ]
      },
      {
       "output_type": "stream",
       "stream": "stderr",
       "text": [
        "[2015-04-05 15:53:46,003] Stars: 4.5\n"
       ]
      },
      {
       "output_type": "stream",
       "stream": "stderr",
       "text": [
        "[2015-04-05 15:53:46,003] Stars: 4.5\n"
       ]
      },
      {
       "output_type": "stream",
       "stream": "stderr",
       "text": [
        "[2015-04-05 15:53:46,003] Stars: 4.5\n"
       ]
      },
      {
       "output_type": "stream",
       "stream": "stderr",
       "text": [
        "[2015-04-05 15:53:46,003] Stars: 4.5\n"
       ]
      },
      {
       "output_type": "stream",
       "stream": "stderr",
       "text": [
        "[2015-04-05 15:53:46,003] Stars: 4.5\n"
       ]
      },
      {
       "output_type": "stream",
       "stream": "stderr",
       "text": [
        "[2015-04-05 15:53:46,003] Stars: 4.5\n"
       ]
      },
      {
       "output_type": "stream",
       "stream": "stderr",
       "text": [
        "INFO:scrape_solution:Stars: 4.5\n"
       ]
      },
      {
       "output_type": "stream",
       "stream": "stderr",
       "text": [
        "[2015-04-05 15:53:46,018] Number of reviews: 1,829 reviews \n"
       ]
      },
      {
       "output_type": "stream",
       "stream": "stderr",
       "text": [
        "[2015-04-05 15:53:46,018] Number of reviews: 1,829 reviews \n"
       ]
      },
      {
       "output_type": "stream",
       "stream": "stderr",
       "text": [
        "[2015-04-05 15:53:46,018] Number of reviews: 1,829 reviews \n"
       ]
      },
      {
       "output_type": "stream",
       "stream": "stderr",
       "text": [
        "[2015-04-05 15:53:46,018] Number of reviews: 1,829 reviews \n"
       ]
      },
      {
       "output_type": "stream",
       "stream": "stderr",
       "text": [
        "[2015-04-05 15:53:46,018] Number of reviews: 1,829 reviews \n"
       ]
      },
      {
       "output_type": "stream",
       "stream": "stderr",
       "text": [
        "[2015-04-05 15:53:46,018] Number of reviews: 1,829 reviews \n"
       ]
      },
      {
       "output_type": "stream",
       "stream": "stderr",
       "text": [
        "[2015-04-05 15:53:46,018] Number of reviews: 1,829 reviews \n"
       ]
      },
      {
       "output_type": "stream",
       "stream": "stderr",
       "text": [
        "[2015-04-05 15:53:46,018] Number of reviews: 1,829 reviews \n"
       ]
      },
      {
       "output_type": "stream",
       "stream": "stderr",
       "text": [
        "[2015-04-05 15:53:46,018] Number of reviews: 1,829 reviews \n"
       ]
      },
      {
       "output_type": "stream",
       "stream": "stderr",
       "text": [
        "[2015-04-05 15:53:46,018] Number of reviews: 1,829 reviews \n"
       ]
      },
      {
       "output_type": "stream",
       "stream": "stderr",
       "text": [
        "[2015-04-05 15:53:46,018] Number of reviews: 1,829 reviews \n"
       ]
      },
      {
       "output_type": "stream",
       "stream": "stderr",
       "text": [
        "[2015-04-05 15:53:46,018] Number of reviews: 1,829 reviews \n"
       ]
      },
      {
       "output_type": "stream",
       "stream": "stderr",
       "text": [
        "[2015-04-05 15:53:46,018] Number of reviews: 1,829 reviews \n"
       ]
      },
      {
       "output_type": "stream",
       "stream": "stderr",
       "text": [
        "[2015-04-05 15:53:46,018] Number of reviews: 1,829 reviews \n"
       ]
      },
      {
       "output_type": "stream",
       "stream": "stderr",
       "text": [
        "INFO:scrape_solution:Number of reviews: 1,829 reviews \n"
       ]
      },
      {
       "output_type": "stream",
       "stream": "stderr",
       "text": [
        "[2015-04-05 15:53:46,028] Hotel name: The Westin Copley Place\n"
       ]
      },
      {
       "output_type": "stream",
       "stream": "stderr",
       "text": [
        "[2015-04-05 15:53:46,028] Hotel name: The Westin Copley Place\n"
       ]
      },
      {
       "output_type": "stream",
       "stream": "stderr",
       "text": [
        "[2015-04-05 15:53:46,028] Hotel name: The Westin Copley Place\n"
       ]
      },
      {
       "output_type": "stream",
       "stream": "stderr",
       "text": [
        "[2015-04-05 15:53:46,028] Hotel name: The Westin Copley Place\n"
       ]
      },
      {
       "output_type": "stream",
       "stream": "stderr",
       "text": [
        "[2015-04-05 15:53:46,028] Hotel name: The Westin Copley Place\n"
       ]
      },
      {
       "output_type": "stream",
       "stream": "stderr",
       "text": [
        "[2015-04-05 15:53:46,028] Hotel name: The Westin Copley Place\n"
       ]
      },
      {
       "output_type": "stream",
       "stream": "stderr",
       "text": [
        "[2015-04-05 15:53:46,028] Hotel name: The Westin Copley Place\n"
       ]
      },
      {
       "output_type": "stream",
       "stream": "stderr",
       "text": [
        "[2015-04-05 15:53:46,028] Hotel name: The Westin Copley Place\n"
       ]
      },
      {
       "output_type": "stream",
       "stream": "stderr",
       "text": [
        "[2015-04-05 15:53:46,028] Hotel name: The Westin Copley Place\n"
       ]
      },
      {
       "output_type": "stream",
       "stream": "stderr",
       "text": [
        "[2015-04-05 15:53:46,028] Hotel name: The Westin Copley Place\n"
       ]
      },
      {
       "output_type": "stream",
       "stream": "stderr",
       "text": [
        "[2015-04-05 15:53:46,028] Hotel name: The Westin Copley Place\n"
       ]
      },
      {
       "output_type": "stream",
       "stream": "stderr",
       "text": [
        "[2015-04-05 15:53:46,028] Hotel name: The Westin Copley Place\n"
       ]
      },
      {
       "output_type": "stream",
       "stream": "stderr",
       "text": [
        "[2015-04-05 15:53:46,028] Hotel name: The Westin Copley Place\n"
       ]
      },
      {
       "output_type": "stream",
       "stream": "stderr",
       "text": [
        "[2015-04-05 15:53:46,028] Hotel name: The Westin Copley Place\n"
       ]
      },
      {
       "output_type": "stream",
       "stream": "stderr",
       "text": [
        "INFO:scrape_solution:Hotel name: The Westin Copley Place\n"
       ]
      },
      {
       "output_type": "stream",
       "stream": "stderr",
       "text": [
        "[2015-04-05 15:53:46,046] Stars: 4\n"
       ]
      },
      {
       "output_type": "stream",
       "stream": "stderr",
       "text": [
        "[2015-04-05 15:53:46,046] Stars: 4\n"
       ]
      },
      {
       "output_type": "stream",
       "stream": "stderr",
       "text": [
        "[2015-04-05 15:53:46,046] Stars: 4\n"
       ]
      },
      {
       "output_type": "stream",
       "stream": "stderr",
       "text": [
        "[2015-04-05 15:53:46,046] Stars: 4\n"
       ]
      },
      {
       "output_type": "stream",
       "stream": "stderr",
       "text": [
        "[2015-04-05 15:53:46,046] Stars: 4\n"
       ]
      },
      {
       "output_type": "stream",
       "stream": "stderr",
       "text": [
        "[2015-04-05 15:53:46,046] Stars: 4\n"
       ]
      },
      {
       "output_type": "stream",
       "stream": "stderr",
       "text": [
        "[2015-04-05 15:53:46,046] Stars: 4\n"
       ]
      },
      {
       "output_type": "stream",
       "stream": "stderr",
       "text": [
        "[2015-04-05 15:53:46,046] Stars: 4\n"
       ]
      },
      {
       "output_type": "stream",
       "stream": "stderr",
       "text": [
        "[2015-04-05 15:53:46,046] Stars: 4\n"
       ]
      },
      {
       "output_type": "stream",
       "stream": "stderr",
       "text": [
        "[2015-04-05 15:53:46,046] Stars: 4\n"
       ]
      },
      {
       "output_type": "stream",
       "stream": "stderr",
       "text": [
        "[2015-04-05 15:53:46,046] Stars: 4\n"
       ]
      },
      {
       "output_type": "stream",
       "stream": "stderr",
       "text": [
        "[2015-04-05 15:53:46,046] Stars: 4\n"
       ]
      },
      {
       "output_type": "stream",
       "stream": "stderr",
       "text": [
        "[2015-04-05 15:53:46,046] Stars: 4\n"
       ]
      },
      {
       "output_type": "stream",
       "stream": "stderr",
       "text": [
        "[2015-04-05 15:53:46,046] Stars: 4\n"
       ]
      },
      {
       "output_type": "stream",
       "stream": "stderr",
       "text": [
        "INFO:scrape_solution:Stars: 4\n"
       ]
      },
      {
       "output_type": "stream",
       "stream": "stderr",
       "text": [
        "[2015-04-05 15:53:46,063] Number of reviews: 2,306 reviews \n"
       ]
      },
      {
       "output_type": "stream",
       "stream": "stderr",
       "text": [
        "[2015-04-05 15:53:46,063] Number of reviews: 2,306 reviews \n"
       ]
      },
      {
       "output_type": "stream",
       "stream": "stderr",
       "text": [
        "[2015-04-05 15:53:46,063] Number of reviews: 2,306 reviews \n"
       ]
      },
      {
       "output_type": "stream",
       "stream": "stderr",
       "text": [
        "[2015-04-05 15:53:46,063] Number of reviews: 2,306 reviews \n"
       ]
      },
      {
       "output_type": "stream",
       "stream": "stderr",
       "text": [
        "[2015-04-05 15:53:46,063] Number of reviews: 2,306 reviews \n"
       ]
      },
      {
       "output_type": "stream",
       "stream": "stderr",
       "text": [
        "[2015-04-05 15:53:46,063] Number of reviews: 2,306 reviews \n"
       ]
      },
      {
       "output_type": "stream",
       "stream": "stderr",
       "text": [
        "[2015-04-05 15:53:46,063] Number of reviews: 2,306 reviews \n"
       ]
      },
      {
       "output_type": "stream",
       "stream": "stderr",
       "text": [
        "[2015-04-05 15:53:46,063] Number of reviews: 2,306 reviews \n"
       ]
      },
      {
       "output_type": "stream",
       "stream": "stderr",
       "text": [
        "[2015-04-05 15:53:46,063] Number of reviews: 2,306 reviews \n"
       ]
      },
      {
       "output_type": "stream",
       "stream": "stderr",
       "text": [
        "[2015-04-05 15:53:46,063] Number of reviews: 2,306 reviews \n"
       ]
      },
      {
       "output_type": "stream",
       "stream": "stderr",
       "text": [
        "[2015-04-05 15:53:46,063] Number of reviews: 2,306 reviews \n"
       ]
      },
      {
       "output_type": "stream",
       "stream": "stderr",
       "text": [
        "[2015-04-05 15:53:46,063] Number of reviews: 2,306 reviews \n"
       ]
      },
      {
       "output_type": "stream",
       "stream": "stderr",
       "text": [
        "[2015-04-05 15:53:46,063] Number of reviews: 2,306 reviews \n"
       ]
      },
      {
       "output_type": "stream",
       "stream": "stderr",
       "text": [
        "[2015-04-05 15:53:46,063] Number of reviews: 2,306 reviews \n"
       ]
      },
      {
       "output_type": "stream",
       "stream": "stderr",
       "text": [
        "INFO:scrape_solution:Number of reviews: 2,306 reviews \n"
       ]
      },
      {
       "output_type": "stream",
       "stream": "stderr",
       "text": [
        "[2015-04-05 15:53:46,074] Hotel name: Boston Harbor Hotel\n"
       ]
      },
      {
       "output_type": "stream",
       "stream": "stderr",
       "text": [
        "[2015-04-05 15:53:46,074] Hotel name: Boston Harbor Hotel\n"
       ]
      },
      {
       "output_type": "stream",
       "stream": "stderr",
       "text": [
        "[2015-04-05 15:53:46,074] Hotel name: Boston Harbor Hotel\n"
       ]
      },
      {
       "output_type": "stream",
       "stream": "stderr",
       "text": [
        "[2015-04-05 15:53:46,074] Hotel name: Boston Harbor Hotel\n"
       ]
      },
      {
       "output_type": "stream",
       "stream": "stderr",
       "text": [
        "[2015-04-05 15:53:46,074] Hotel name: Boston Harbor Hotel\n"
       ]
      },
      {
       "output_type": "stream",
       "stream": "stderr",
       "text": [
        "[2015-04-05 15:53:46,074] Hotel name: Boston Harbor Hotel\n"
       ]
      },
      {
       "output_type": "stream",
       "stream": "stderr",
       "text": [
        "[2015-04-05 15:53:46,074] Hotel name: Boston Harbor Hotel\n"
       ]
      },
      {
       "output_type": "stream",
       "stream": "stderr",
       "text": [
        "[2015-04-05 15:53:46,074] Hotel name: Boston Harbor Hotel\n"
       ]
      },
      {
       "output_type": "stream",
       "stream": "stderr",
       "text": [
        "[2015-04-05 15:53:46,074] Hotel name: Boston Harbor Hotel\n"
       ]
      },
      {
       "output_type": "stream",
       "stream": "stderr",
       "text": [
        "[2015-04-05 15:53:46,074] Hotel name: Boston Harbor Hotel\n"
       ]
      },
      {
       "output_type": "stream",
       "stream": "stderr",
       "text": [
        "[2015-04-05 15:53:46,074] Hotel name: Boston Harbor Hotel\n"
       ]
      },
      {
       "output_type": "stream",
       "stream": "stderr",
       "text": [
        "[2015-04-05 15:53:46,074] Hotel name: Boston Harbor Hotel\n"
       ]
      },
      {
       "output_type": "stream",
       "stream": "stderr",
       "text": [
        "[2015-04-05 15:53:46,074] Hotel name: Boston Harbor Hotel\n"
       ]
      },
      {
       "output_type": "stream",
       "stream": "stderr",
       "text": [
        "[2015-04-05 15:53:46,074] Hotel name: Boston Harbor Hotel\n"
       ]
      },
      {
       "output_type": "stream",
       "stream": "stderr",
       "text": [
        "INFO:scrape_solution:Hotel name: Boston Harbor Hotel\n"
       ]
      },
      {
       "output_type": "stream",
       "stream": "stderr",
       "text": [
        "[2015-04-05 15:53:46,084] Stars: 4.5\n"
       ]
      },
      {
       "output_type": "stream",
       "stream": "stderr",
       "text": [
        "[2015-04-05 15:53:46,084] Stars: 4.5\n"
       ]
      },
      {
       "output_type": "stream",
       "stream": "stderr",
       "text": [
        "[2015-04-05 15:53:46,084] Stars: 4.5\n"
       ]
      },
      {
       "output_type": "stream",
       "stream": "stderr",
       "text": [
        "[2015-04-05 15:53:46,084] Stars: 4.5\n"
       ]
      },
      {
       "output_type": "stream",
       "stream": "stderr",
       "text": [
        "[2015-04-05 15:53:46,084] Stars: 4.5\n"
       ]
      },
      {
       "output_type": "stream",
       "stream": "stderr",
       "text": [
        "[2015-04-05 15:53:46,084] Stars: 4.5\n"
       ]
      },
      {
       "output_type": "stream",
       "stream": "stderr",
       "text": [
        "[2015-04-05 15:53:46,084] Stars: 4.5\n"
       ]
      },
      {
       "output_type": "stream",
       "stream": "stderr",
       "text": [
        "[2015-04-05 15:53:46,084] Stars: 4.5\n"
       ]
      },
      {
       "output_type": "stream",
       "stream": "stderr",
       "text": [
        "[2015-04-05 15:53:46,084] Stars: 4.5\n"
       ]
      },
      {
       "output_type": "stream",
       "stream": "stderr",
       "text": [
        "[2015-04-05 15:53:46,084] Stars: 4.5\n"
       ]
      },
      {
       "output_type": "stream",
       "stream": "stderr",
       "text": [
        "[2015-04-05 15:53:46,084] Stars: 4.5\n"
       ]
      },
      {
       "output_type": "stream",
       "stream": "stderr",
       "text": [
        "[2015-04-05 15:53:46,084] Stars: 4.5\n"
       ]
      },
      {
       "output_type": "stream",
       "stream": "stderr",
       "text": [
        "[2015-04-05 15:53:46,084] Stars: 4.5\n"
       ]
      },
      {
       "output_type": "stream",
       "stream": "stderr",
       "text": [
        "[2015-04-05 15:53:46,084] Stars: 4.5\n"
       ]
      },
      {
       "output_type": "stream",
       "stream": "stderr",
       "text": [
        "INFO:scrape_solution:Stars: 4.5\n"
       ]
      },
      {
       "output_type": "stream",
       "stream": "stderr",
       "text": [
        "[2015-04-05 15:53:46,098] Number of reviews: 1,250 reviews \n"
       ]
      },
      {
       "output_type": "stream",
       "stream": "stderr",
       "text": [
        "[2015-04-05 15:53:46,098] Number of reviews: 1,250 reviews \n"
       ]
      },
      {
       "output_type": "stream",
       "stream": "stderr",
       "text": [
        "[2015-04-05 15:53:46,098] Number of reviews: 1,250 reviews \n"
       ]
      },
      {
       "output_type": "stream",
       "stream": "stderr",
       "text": [
        "[2015-04-05 15:53:46,098] Number of reviews: 1,250 reviews \n"
       ]
      },
      {
       "output_type": "stream",
       "stream": "stderr",
       "text": [
        "[2015-04-05 15:53:46,098] Number of reviews: 1,250 reviews \n"
       ]
      },
      {
       "output_type": "stream",
       "stream": "stderr",
       "text": [
        "[2015-04-05 15:53:46,098] Number of reviews: 1,250 reviews \n"
       ]
      },
      {
       "output_type": "stream",
       "stream": "stderr",
       "text": [
        "[2015-04-05 15:53:46,098] Number of reviews: 1,250 reviews \n"
       ]
      },
      {
       "output_type": "stream",
       "stream": "stderr",
       "text": [
        "[2015-04-05 15:53:46,098] Number of reviews: 1,250 reviews \n"
       ]
      },
      {
       "output_type": "stream",
       "stream": "stderr",
       "text": [
        "[2015-04-05 15:53:46,098] Number of reviews: 1,250 reviews \n"
       ]
      },
      {
       "output_type": "stream",
       "stream": "stderr",
       "text": [
        "[2015-04-05 15:53:46,098] Number of reviews: 1,250 reviews \n"
       ]
      },
      {
       "output_type": "stream",
       "stream": "stderr",
       "text": [
        "[2015-04-05 15:53:46,098] Number of reviews: 1,250 reviews \n"
       ]
      },
      {
       "output_type": "stream",
       "stream": "stderr",
       "text": [
        "[2015-04-05 15:53:46,098] Number of reviews: 1,250 reviews \n"
       ]
      },
      {
       "output_type": "stream",
       "stream": "stderr",
       "text": [
        "[2015-04-05 15:53:46,098] Number of reviews: 1,250 reviews \n"
       ]
      },
      {
       "output_type": "stream",
       "stream": "stderr",
       "text": [
        "[2015-04-05 15:53:46,098] Number of reviews: 1,250 reviews \n"
       ]
      },
      {
       "output_type": "stream",
       "stream": "stderr",
       "text": [
        "INFO:scrape_solution:Number of reviews: 1,250 reviews \n"
       ]
      },
      {
       "output_type": "stream",
       "stream": "stderr",
       "text": [
        "[2015-04-05 15:53:46,108] Hotel name: Hotel Commonwealth\n"
       ]
      },
      {
       "output_type": "stream",
       "stream": "stderr",
       "text": [
        "[2015-04-05 15:53:46,108] Hotel name: Hotel Commonwealth\n"
       ]
      },
      {
       "output_type": "stream",
       "stream": "stderr",
       "text": [
        "[2015-04-05 15:53:46,108] Hotel name: Hotel Commonwealth\n"
       ]
      },
      {
       "output_type": "stream",
       "stream": "stderr",
       "text": [
        "[2015-04-05 15:53:46,108] Hotel name: Hotel Commonwealth\n"
       ]
      },
      {
       "output_type": "stream",
       "stream": "stderr",
       "text": [
        "[2015-04-05 15:53:46,108] Hotel name: Hotel Commonwealth\n"
       ]
      },
      {
       "output_type": "stream",
       "stream": "stderr",
       "text": [
        "[2015-04-05 15:53:46,108] Hotel name: Hotel Commonwealth\n"
       ]
      },
      {
       "output_type": "stream",
       "stream": "stderr",
       "text": [
        "[2015-04-05 15:53:46,108] Hotel name: Hotel Commonwealth\n"
       ]
      },
      {
       "output_type": "stream",
       "stream": "stderr",
       "text": [
        "[2015-04-05 15:53:46,108] Hotel name: Hotel Commonwealth\n"
       ]
      },
      {
       "output_type": "stream",
       "stream": "stderr",
       "text": [
        "[2015-04-05 15:53:46,108] Hotel name: Hotel Commonwealth\n"
       ]
      },
      {
       "output_type": "stream",
       "stream": "stderr",
       "text": [
        "[2015-04-05 15:53:46,108] Hotel name: Hotel Commonwealth\n"
       ]
      },
      {
       "output_type": "stream",
       "stream": "stderr",
       "text": [
        "[2015-04-05 15:53:46,108] Hotel name: Hotel Commonwealth\n"
       ]
      },
      {
       "output_type": "stream",
       "stream": "stderr",
       "text": [
        "[2015-04-05 15:53:46,108] Hotel name: Hotel Commonwealth\n"
       ]
      },
      {
       "output_type": "stream",
       "stream": "stderr",
       "text": [
        "[2015-04-05 15:53:46,108] Hotel name: Hotel Commonwealth\n"
       ]
      },
      {
       "output_type": "stream",
       "stream": "stderr",
       "text": [
        "[2015-04-05 15:53:46,108] Hotel name: Hotel Commonwealth\n"
       ]
      },
      {
       "output_type": "stream",
       "stream": "stderr",
       "text": [
        "INFO:scrape_solution:Hotel name: Hotel Commonwealth\n"
       ]
      },
      {
       "output_type": "stream",
       "stream": "stderr",
       "text": [
        "[2015-04-05 15:53:46,118] Stars: 4.5\n"
       ]
      },
      {
       "output_type": "stream",
       "stream": "stderr",
       "text": [
        "[2015-04-05 15:53:46,118] Stars: 4.5\n"
       ]
      },
      {
       "output_type": "stream",
       "stream": "stderr",
       "text": [
        "[2015-04-05 15:53:46,118] Stars: 4.5\n"
       ]
      },
      {
       "output_type": "stream",
       "stream": "stderr",
       "text": [
        "[2015-04-05 15:53:46,118] Stars: 4.5\n"
       ]
      },
      {
       "output_type": "stream",
       "stream": "stderr",
       "text": [
        "[2015-04-05 15:53:46,118] Stars: 4.5\n"
       ]
      },
      {
       "output_type": "stream",
       "stream": "stderr",
       "text": [
        "[2015-04-05 15:53:46,118] Stars: 4.5\n"
       ]
      },
      {
       "output_type": "stream",
       "stream": "stderr",
       "text": [
        "[2015-04-05 15:53:46,118] Stars: 4.5\n"
       ]
      },
      {
       "output_type": "stream",
       "stream": "stderr",
       "text": [
        "[2015-04-05 15:53:46,118] Stars: 4.5\n"
       ]
      },
      {
       "output_type": "stream",
       "stream": "stderr",
       "text": [
        "[2015-04-05 15:53:46,118] Stars: 4.5\n"
       ]
      },
      {
       "output_type": "stream",
       "stream": "stderr",
       "text": [
        "[2015-04-05 15:53:46,118] Stars: 4.5\n"
       ]
      },
      {
       "output_type": "stream",
       "stream": "stderr",
       "text": [
        "[2015-04-05 15:53:46,118] Stars: 4.5\n"
       ]
      },
      {
       "output_type": "stream",
       "stream": "stderr",
       "text": [
        "[2015-04-05 15:53:46,118] Stars: 4.5\n"
       ]
      },
      {
       "output_type": "stream",
       "stream": "stderr",
       "text": [
        "[2015-04-05 15:53:46,118] Stars: 4.5\n"
       ]
      },
      {
       "output_type": "stream",
       "stream": "stderr",
       "text": [
        "[2015-04-05 15:53:46,118] Stars: 4.5\n"
       ]
      },
      {
       "output_type": "stream",
       "stream": "stderr",
       "text": [
        "INFO:scrape_solution:Stars: 4.5\n"
       ]
      },
      {
       "output_type": "stream",
       "stream": "stderr",
       "text": [
        "[2015-04-05 15:53:46,131] Number of reviews: 2,945 reviews \n"
       ]
      },
      {
       "output_type": "stream",
       "stream": "stderr",
       "text": [
        "[2015-04-05 15:53:46,131] Number of reviews: 2,945 reviews \n"
       ]
      },
      {
       "output_type": "stream",
       "stream": "stderr",
       "text": [
        "[2015-04-05 15:53:46,131] Number of reviews: 2,945 reviews \n"
       ]
      },
      {
       "output_type": "stream",
       "stream": "stderr",
       "text": [
        "[2015-04-05 15:53:46,131] Number of reviews: 2,945 reviews \n"
       ]
      },
      {
       "output_type": "stream",
       "stream": "stderr",
       "text": [
        "[2015-04-05 15:53:46,131] Number of reviews: 2,945 reviews \n"
       ]
      },
      {
       "output_type": "stream",
       "stream": "stderr",
       "text": [
        "[2015-04-05 15:53:46,131] Number of reviews: 2,945 reviews \n"
       ]
      },
      {
       "output_type": "stream",
       "stream": "stderr",
       "text": [
        "[2015-04-05 15:53:46,131] Number of reviews: 2,945 reviews \n"
       ]
      },
      {
       "output_type": "stream",
       "stream": "stderr",
       "text": [
        "[2015-04-05 15:53:46,131] Number of reviews: 2,945 reviews \n"
       ]
      },
      {
       "output_type": "stream",
       "stream": "stderr",
       "text": [
        "[2015-04-05 15:53:46,131] Number of reviews: 2,945 reviews \n"
       ]
      },
      {
       "output_type": "stream",
       "stream": "stderr",
       "text": [
        "[2015-04-05 15:53:46,131] Number of reviews: 2,945 reviews \n"
       ]
      },
      {
       "output_type": "stream",
       "stream": "stderr",
       "text": [
        "[2015-04-05 15:53:46,131] Number of reviews: 2,945 reviews \n"
       ]
      },
      {
       "output_type": "stream",
       "stream": "stderr",
       "text": [
        "[2015-04-05 15:53:46,131] Number of reviews: 2,945 reviews \n"
       ]
      },
      {
       "output_type": "stream",
       "stream": "stderr",
       "text": [
        "[2015-04-05 15:53:46,131] Number of reviews: 2,945 reviews \n"
       ]
      },
      {
       "output_type": "stream",
       "stream": "stderr",
       "text": [
        "[2015-04-05 15:53:46,131] Number of reviews: 2,945 reviews \n"
       ]
      },
      {
       "output_type": "stream",
       "stream": "stderr",
       "text": [
        "INFO:scrape_solution:Number of reviews: 2,945 reviews \n"
       ]
      },
      {
       "output_type": "stream",
       "stream": "stderr",
       "text": [
        "[2015-04-05 15:53:46,142] Hotel name: Revere Hotel Boston Common\n"
       ]
      },
      {
       "output_type": "stream",
       "stream": "stderr",
       "text": [
        "[2015-04-05 15:53:46,142] Hotel name: Revere Hotel Boston Common\n"
       ]
      },
      {
       "output_type": "stream",
       "stream": "stderr",
       "text": [
        "[2015-04-05 15:53:46,142] Hotel name: Revere Hotel Boston Common\n"
       ]
      },
      {
       "output_type": "stream",
       "stream": "stderr",
       "text": [
        "[2015-04-05 15:53:46,142] Hotel name: Revere Hotel Boston Common\n"
       ]
      },
      {
       "output_type": "stream",
       "stream": "stderr",
       "text": [
        "[2015-04-05 15:53:46,142] Hotel name: Revere Hotel Boston Common\n"
       ]
      },
      {
       "output_type": "stream",
       "stream": "stderr",
       "text": [
        "[2015-04-05 15:53:46,142] Hotel name: Revere Hotel Boston Common\n"
       ]
      },
      {
       "output_type": "stream",
       "stream": "stderr",
       "text": [
        "[2015-04-05 15:53:46,142] Hotel name: Revere Hotel Boston Common\n"
       ]
      },
      {
       "output_type": "stream",
       "stream": "stderr",
       "text": [
        "[2015-04-05 15:53:46,142] Hotel name: Revere Hotel Boston Common\n"
       ]
      },
      {
       "output_type": "stream",
       "stream": "stderr",
       "text": [
        "[2015-04-05 15:53:46,142] Hotel name: Revere Hotel Boston Common\n"
       ]
      },
      {
       "output_type": "stream",
       "stream": "stderr",
       "text": [
        "[2015-04-05 15:53:46,142] Hotel name: Revere Hotel Boston Common\n"
       ]
      },
      {
       "output_type": "stream",
       "stream": "stderr",
       "text": [
        "[2015-04-05 15:53:46,142] Hotel name: Revere Hotel Boston Common\n"
       ]
      },
      {
       "output_type": "stream",
       "stream": "stderr",
       "text": [
        "[2015-04-05 15:53:46,142] Hotel name: Revere Hotel Boston Common\n"
       ]
      },
      {
       "output_type": "stream",
       "stream": "stderr",
       "text": [
        "[2015-04-05 15:53:46,142] Hotel name: Revere Hotel Boston Common\n"
       ]
      },
      {
       "output_type": "stream",
       "stream": "stderr",
       "text": [
        "[2015-04-05 15:53:46,142] Hotel name: Revere Hotel Boston Common\n"
       ]
      },
      {
       "output_type": "stream",
       "stream": "stderr",
       "text": [
        "INFO:scrape_solution:Hotel name: Revere Hotel Boston Common\n"
       ]
      },
      {
       "output_type": "stream",
       "stream": "stderr",
       "text": [
        "[2015-04-05 15:53:46,152] Stars: 4.5\n"
       ]
      },
      {
       "output_type": "stream",
       "stream": "stderr",
       "text": [
        "[2015-04-05 15:53:46,152] Stars: 4.5\n"
       ]
      },
      {
       "output_type": "stream",
       "stream": "stderr",
       "text": [
        "[2015-04-05 15:53:46,152] Stars: 4.5\n"
       ]
      },
      {
       "output_type": "stream",
       "stream": "stderr",
       "text": [
        "[2015-04-05 15:53:46,152] Stars: 4.5\n"
       ]
      },
      {
       "output_type": "stream",
       "stream": "stderr",
       "text": [
        "[2015-04-05 15:53:46,152] Stars: 4.5\n"
       ]
      },
      {
       "output_type": "stream",
       "stream": "stderr",
       "text": [
        "[2015-04-05 15:53:46,152] Stars: 4.5\n"
       ]
      },
      {
       "output_type": "stream",
       "stream": "stderr",
       "text": [
        "[2015-04-05 15:53:46,152] Stars: 4.5\n"
       ]
      },
      {
       "output_type": "stream",
       "stream": "stderr",
       "text": [
        "[2015-04-05 15:53:46,152] Stars: 4.5\n"
       ]
      },
      {
       "output_type": "stream",
       "stream": "stderr",
       "text": [
        "[2015-04-05 15:53:46,152] Stars: 4.5\n"
       ]
      },
      {
       "output_type": "stream",
       "stream": "stderr",
       "text": [
        "[2015-04-05 15:53:46,152] Stars: 4.5\n"
       ]
      },
      {
       "output_type": "stream",
       "stream": "stderr",
       "text": [
        "[2015-04-05 15:53:46,152] Stars: 4.5\n"
       ]
      },
      {
       "output_type": "stream",
       "stream": "stderr",
       "text": [
        "[2015-04-05 15:53:46,152] Stars: 4.5\n"
       ]
      },
      {
       "output_type": "stream",
       "stream": "stderr",
       "text": [
        "[2015-04-05 15:53:46,152] Stars: 4.5\n"
       ]
      },
      {
       "output_type": "stream",
       "stream": "stderr",
       "text": [
        "[2015-04-05 15:53:46,152] Stars: 4.5\n"
       ]
      },
      {
       "output_type": "stream",
       "stream": "stderr",
       "text": [
        "INFO:scrape_solution:Stars: 4.5\n"
       ]
      },
      {
       "output_type": "stream",
       "stream": "stderr",
       "text": [
        "[2015-04-05 15:53:46,166] Number of reviews: 1,949 reviews \n"
       ]
      },
      {
       "output_type": "stream",
       "stream": "stderr",
       "text": [
        "[2015-04-05 15:53:46,166] Number of reviews: 1,949 reviews \n"
       ]
      },
      {
       "output_type": "stream",
       "stream": "stderr",
       "text": [
        "[2015-04-05 15:53:46,166] Number of reviews: 1,949 reviews \n"
       ]
      },
      {
       "output_type": "stream",
       "stream": "stderr",
       "text": [
        "[2015-04-05 15:53:46,166] Number of reviews: 1,949 reviews \n"
       ]
      },
      {
       "output_type": "stream",
       "stream": "stderr",
       "text": [
        "[2015-04-05 15:53:46,166] Number of reviews: 1,949 reviews \n"
       ]
      },
      {
       "output_type": "stream",
       "stream": "stderr",
       "text": [
        "[2015-04-05 15:53:46,166] Number of reviews: 1,949 reviews \n"
       ]
      },
      {
       "output_type": "stream",
       "stream": "stderr",
       "text": [
        "[2015-04-05 15:53:46,166] Number of reviews: 1,949 reviews \n"
       ]
      },
      {
       "output_type": "stream",
       "stream": "stderr",
       "text": [
        "[2015-04-05 15:53:46,166] Number of reviews: 1,949 reviews \n"
       ]
      },
      {
       "output_type": "stream",
       "stream": "stderr",
       "text": [
        "[2015-04-05 15:53:46,166] Number of reviews: 1,949 reviews \n"
       ]
      },
      {
       "output_type": "stream",
       "stream": "stderr",
       "text": [
        "[2015-04-05 15:53:46,166] Number of reviews: 1,949 reviews \n"
       ]
      },
      {
       "output_type": "stream",
       "stream": "stderr",
       "text": [
        "[2015-04-05 15:53:46,166] Number of reviews: 1,949 reviews \n"
       ]
      },
      {
       "output_type": "stream",
       "stream": "stderr",
       "text": [
        "[2015-04-05 15:53:46,166] Number of reviews: 1,949 reviews \n"
       ]
      },
      {
       "output_type": "stream",
       "stream": "stderr",
       "text": [
        "[2015-04-05 15:53:46,166] Number of reviews: 1,949 reviews \n"
       ]
      },
      {
       "output_type": "stream",
       "stream": "stderr",
       "text": [
        "[2015-04-05 15:53:46,166] Number of reviews: 1,949 reviews \n"
       ]
      },
      {
       "output_type": "stream",
       "stream": "stderr",
       "text": [
        "INFO:scrape_solution:Number of reviews: 1,949 reviews \n"
       ]
      },
      {
       "output_type": "stream",
       "stream": "stderr",
       "text": [
        "[2015-04-05 15:53:46,177] Hotel name: Lenox Hotel\n"
       ]
      },
      {
       "output_type": "stream",
       "stream": "stderr",
       "text": [
        "[2015-04-05 15:53:46,177] Hotel name: Lenox Hotel\n"
       ]
      },
      {
       "output_type": "stream",
       "stream": "stderr",
       "text": [
        "[2015-04-05 15:53:46,177] Hotel name: Lenox Hotel\n"
       ]
      },
      {
       "output_type": "stream",
       "stream": "stderr",
       "text": [
        "[2015-04-05 15:53:46,177] Hotel name: Lenox Hotel\n"
       ]
      },
      {
       "output_type": "stream",
       "stream": "stderr",
       "text": [
        "[2015-04-05 15:53:46,177] Hotel name: Lenox Hotel\n"
       ]
      },
      {
       "output_type": "stream",
       "stream": "stderr",
       "text": [
        "[2015-04-05 15:53:46,177] Hotel name: Lenox Hotel\n"
       ]
      },
      {
       "output_type": "stream",
       "stream": "stderr",
       "text": [
        "[2015-04-05 15:53:46,177] Hotel name: Lenox Hotel\n"
       ]
      },
      {
       "output_type": "stream",
       "stream": "stderr",
       "text": [
        "[2015-04-05 15:53:46,177] Hotel name: Lenox Hotel\n"
       ]
      },
      {
       "output_type": "stream",
       "stream": "stderr",
       "text": [
        "[2015-04-05 15:53:46,177] Hotel name: Lenox Hotel\n"
       ]
      },
      {
       "output_type": "stream",
       "stream": "stderr",
       "text": [
        "[2015-04-05 15:53:46,177] Hotel name: Lenox Hotel\n"
       ]
      },
      {
       "output_type": "stream",
       "stream": "stderr",
       "text": [
        "[2015-04-05 15:53:46,177] Hotel name: Lenox Hotel\n"
       ]
      },
      {
       "output_type": "stream",
       "stream": "stderr",
       "text": [
        "[2015-04-05 15:53:46,177] Hotel name: Lenox Hotel\n"
       ]
      },
      {
       "output_type": "stream",
       "stream": "stderr",
       "text": [
        "[2015-04-05 15:53:46,177] Hotel name: Lenox Hotel\n"
       ]
      },
      {
       "output_type": "stream",
       "stream": "stderr",
       "text": [
        "[2015-04-05 15:53:46,177] Hotel name: Lenox Hotel\n"
       ]
      },
      {
       "output_type": "stream",
       "stream": "stderr",
       "text": [
        "INFO:scrape_solution:Hotel name: Lenox Hotel\n"
       ]
      },
      {
       "output_type": "stream",
       "stream": "stderr",
       "text": [
        "[2015-04-05 15:53:46,188] Stars: 4.5\n"
       ]
      },
      {
       "output_type": "stream",
       "stream": "stderr",
       "text": [
        "[2015-04-05 15:53:46,188] Stars: 4.5\n"
       ]
      },
      {
       "output_type": "stream",
       "stream": "stderr",
       "text": [
        "[2015-04-05 15:53:46,188] Stars: 4.5\n"
       ]
      },
      {
       "output_type": "stream",
       "stream": "stderr",
       "text": [
        "[2015-04-05 15:53:46,188] Stars: 4.5\n"
       ]
      },
      {
       "output_type": "stream",
       "stream": "stderr",
       "text": [
        "[2015-04-05 15:53:46,188] Stars: 4.5\n"
       ]
      },
      {
       "output_type": "stream",
       "stream": "stderr",
       "text": [
        "[2015-04-05 15:53:46,188] Stars: 4.5\n"
       ]
      },
      {
       "output_type": "stream",
       "stream": "stderr",
       "text": [
        "[2015-04-05 15:53:46,188] Stars: 4.5\n"
       ]
      },
      {
       "output_type": "stream",
       "stream": "stderr",
       "text": [
        "[2015-04-05 15:53:46,188] Stars: 4.5\n"
       ]
      },
      {
       "output_type": "stream",
       "stream": "stderr",
       "text": [
        "[2015-04-05 15:53:46,188] Stars: 4.5\n"
       ]
      },
      {
       "output_type": "stream",
       "stream": "stderr",
       "text": [
        "[2015-04-05 15:53:46,188] Stars: 4.5\n"
       ]
      },
      {
       "output_type": "stream",
       "stream": "stderr",
       "text": [
        "[2015-04-05 15:53:46,188] Stars: 4.5\n"
       ]
      },
      {
       "output_type": "stream",
       "stream": "stderr",
       "text": [
        "[2015-04-05 15:53:46,188] Stars: 4.5\n"
       ]
      },
      {
       "output_type": "stream",
       "stream": "stderr",
       "text": [
        "[2015-04-05 15:53:46,188] Stars: 4.5\n"
       ]
      },
      {
       "output_type": "stream",
       "stream": "stderr",
       "text": [
        "[2015-04-05 15:53:46,188] Stars: 4.5\n"
       ]
      },
      {
       "output_type": "stream",
       "stream": "stderr",
       "text": [
        "INFO:scrape_solution:Stars: 4.5\n"
       ]
      },
      {
       "output_type": "stream",
       "stream": "stderr",
       "text": [
        "[2015-04-05 15:53:46,201] Number of reviews: 2,566 reviews \n"
       ]
      },
      {
       "output_type": "stream",
       "stream": "stderr",
       "text": [
        "[2015-04-05 15:53:46,201] Number of reviews: 2,566 reviews \n"
       ]
      },
      {
       "output_type": "stream",
       "stream": "stderr",
       "text": [
        "[2015-04-05 15:53:46,201] Number of reviews: 2,566 reviews \n"
       ]
      },
      {
       "output_type": "stream",
       "stream": "stderr",
       "text": [
        "[2015-04-05 15:53:46,201] Number of reviews: 2,566 reviews \n"
       ]
      },
      {
       "output_type": "stream",
       "stream": "stderr",
       "text": [
        "[2015-04-05 15:53:46,201] Number of reviews: 2,566 reviews \n"
       ]
      },
      {
       "output_type": "stream",
       "stream": "stderr",
       "text": [
        "[2015-04-05 15:53:46,201] Number of reviews: 2,566 reviews \n"
       ]
      },
      {
       "output_type": "stream",
       "stream": "stderr",
       "text": [
        "[2015-04-05 15:53:46,201] Number of reviews: 2,566 reviews \n"
       ]
      },
      {
       "output_type": "stream",
       "stream": "stderr",
       "text": [
        "[2015-04-05 15:53:46,201] Number of reviews: 2,566 reviews \n"
       ]
      },
      {
       "output_type": "stream",
       "stream": "stderr",
       "text": [
        "[2015-04-05 15:53:46,201] Number of reviews: 2,566 reviews \n"
       ]
      },
      {
       "output_type": "stream",
       "stream": "stderr",
       "text": [
        "[2015-04-05 15:53:46,201] Number of reviews: 2,566 reviews \n"
       ]
      },
      {
       "output_type": "stream",
       "stream": "stderr",
       "text": [
        "[2015-04-05 15:53:46,201] Number of reviews: 2,566 reviews \n"
       ]
      },
      {
       "output_type": "stream",
       "stream": "stderr",
       "text": [
        "[2015-04-05 15:53:46,201] Number of reviews: 2,566 reviews \n"
       ]
      },
      {
       "output_type": "stream",
       "stream": "stderr",
       "text": [
        "[2015-04-05 15:53:46,201] Number of reviews: 2,566 reviews \n"
       ]
      },
      {
       "output_type": "stream",
       "stream": "stderr",
       "text": [
        "[2015-04-05 15:53:46,201] Number of reviews: 2,566 reviews \n"
       ]
      },
      {
       "output_type": "stream",
       "stream": "stderr",
       "text": [
        "INFO:scrape_solution:Number of reviews: 2,566 reviews \n"
       ]
      },
      {
       "output_type": "stream",
       "stream": "stderr",
       "text": [
        "[2015-04-05 15:53:46,213] Hotel name: enVision Hotel Boston\n"
       ]
      },
      {
       "output_type": "stream",
       "stream": "stderr",
       "text": [
        "[2015-04-05 15:53:46,213] Hotel name: enVision Hotel Boston\n"
       ]
      },
      {
       "output_type": "stream",
       "stream": "stderr",
       "text": [
        "[2015-04-05 15:53:46,213] Hotel name: enVision Hotel Boston\n"
       ]
      },
      {
       "output_type": "stream",
       "stream": "stderr",
       "text": [
        "[2015-04-05 15:53:46,213] Hotel name: enVision Hotel Boston\n"
       ]
      },
      {
       "output_type": "stream",
       "stream": "stderr",
       "text": [
        "[2015-04-05 15:53:46,213] Hotel name: enVision Hotel Boston\n"
       ]
      },
      {
       "output_type": "stream",
       "stream": "stderr",
       "text": [
        "[2015-04-05 15:53:46,213] Hotel name: enVision Hotel Boston\n"
       ]
      },
      {
       "output_type": "stream",
       "stream": "stderr",
       "text": [
        "[2015-04-05 15:53:46,213] Hotel name: enVision Hotel Boston\n"
       ]
      },
      {
       "output_type": "stream",
       "stream": "stderr",
       "text": [
        "[2015-04-05 15:53:46,213] Hotel name: enVision Hotel Boston\n"
       ]
      },
      {
       "output_type": "stream",
       "stream": "stderr",
       "text": [
        "[2015-04-05 15:53:46,213] Hotel name: enVision Hotel Boston\n"
       ]
      },
      {
       "output_type": "stream",
       "stream": "stderr",
       "text": [
        "[2015-04-05 15:53:46,213] Hotel name: enVision Hotel Boston\n"
       ]
      },
      {
       "output_type": "stream",
       "stream": "stderr",
       "text": [
        "[2015-04-05 15:53:46,213] Hotel name: enVision Hotel Boston\n"
       ]
      },
      {
       "output_type": "stream",
       "stream": "stderr",
       "text": [
        "[2015-04-05 15:53:46,213] Hotel name: enVision Hotel Boston\n"
       ]
      },
      {
       "output_type": "stream",
       "stream": "stderr",
       "text": [
        "[2015-04-05 15:53:46,213] Hotel name: enVision Hotel Boston\n"
       ]
      },
      {
       "output_type": "stream",
       "stream": "stderr",
       "text": [
        "[2015-04-05 15:53:46,213] Hotel name: enVision Hotel Boston\n"
       ]
      },
      {
       "output_type": "stream",
       "stream": "stderr",
       "text": [
        "INFO:scrape_solution:Hotel name: enVision Hotel Boston\n"
       ]
      },
      {
       "output_type": "stream",
       "stream": "stderr",
       "text": [
        "[2015-04-05 15:53:46,230] Stars: 4.5\n"
       ]
      },
      {
       "output_type": "stream",
       "stream": "stderr",
       "text": [
        "[2015-04-05 15:53:46,230] Stars: 4.5\n"
       ]
      },
      {
       "output_type": "stream",
       "stream": "stderr",
       "text": [
        "[2015-04-05 15:53:46,230] Stars: 4.5\n"
       ]
      },
      {
       "output_type": "stream",
       "stream": "stderr",
       "text": [
        "[2015-04-05 15:53:46,230] Stars: 4.5\n"
       ]
      },
      {
       "output_type": "stream",
       "stream": "stderr",
       "text": [
        "[2015-04-05 15:53:46,230] Stars: 4.5\n"
       ]
      },
      {
       "output_type": "stream",
       "stream": "stderr",
       "text": [
        "[2015-04-05 15:53:46,230] Stars: 4.5\n"
       ]
      },
      {
       "output_type": "stream",
       "stream": "stderr",
       "text": [
        "[2015-04-05 15:53:46,230] Stars: 4.5\n"
       ]
      },
      {
       "output_type": "stream",
       "stream": "stderr",
       "text": [
        "[2015-04-05 15:53:46,230] Stars: 4.5\n"
       ]
      },
      {
       "output_type": "stream",
       "stream": "stderr",
       "text": [
        "[2015-04-05 15:53:46,230] Stars: 4.5\n"
       ]
      },
      {
       "output_type": "stream",
       "stream": "stderr",
       "text": [
        "[2015-04-05 15:53:46,230] Stars: 4.5\n"
       ]
      },
      {
       "output_type": "stream",
       "stream": "stderr",
       "text": [
        "[2015-04-05 15:53:46,230] Stars: 4.5\n"
       ]
      },
      {
       "output_type": "stream",
       "stream": "stderr",
       "text": [
        "[2015-04-05 15:53:46,230] Stars: 4.5\n"
       ]
      },
      {
       "output_type": "stream",
       "stream": "stderr",
       "text": [
        "[2015-04-05 15:53:46,230] Stars: 4.5\n"
       ]
      },
      {
       "output_type": "stream",
       "stream": "stderr",
       "text": [
        "[2015-04-05 15:53:46,230] Stars: 4.5\n"
       ]
      },
      {
       "output_type": "stream",
       "stream": "stderr",
       "text": [
        "INFO:scrape_solution:Stars: 4.5\n"
       ]
      },
      {
       "output_type": "stream",
       "stream": "stderr",
       "text": [
        "[2015-04-05 15:53:46,242] Number of reviews: 360 reviews \n"
       ]
      },
      {
       "output_type": "stream",
       "stream": "stderr",
       "text": [
        "[2015-04-05 15:53:46,242] Number of reviews: 360 reviews \n"
       ]
      },
      {
       "output_type": "stream",
       "stream": "stderr",
       "text": [
        "[2015-04-05 15:53:46,242] Number of reviews: 360 reviews \n"
       ]
      },
      {
       "output_type": "stream",
       "stream": "stderr",
       "text": [
        "[2015-04-05 15:53:46,242] Number of reviews: 360 reviews \n"
       ]
      },
      {
       "output_type": "stream",
       "stream": "stderr",
       "text": [
        "[2015-04-05 15:53:46,242] Number of reviews: 360 reviews \n"
       ]
      },
      {
       "output_type": "stream",
       "stream": "stderr",
       "text": [
        "[2015-04-05 15:53:46,242] Number of reviews: 360 reviews \n"
       ]
      },
      {
       "output_type": "stream",
       "stream": "stderr",
       "text": [
        "[2015-04-05 15:53:46,242] Number of reviews: 360 reviews \n"
       ]
      },
      {
       "output_type": "stream",
       "stream": "stderr",
       "text": [
        "[2015-04-05 15:53:46,242] Number of reviews: 360 reviews \n"
       ]
      },
      {
       "output_type": "stream",
       "stream": "stderr",
       "text": [
        "[2015-04-05 15:53:46,242] Number of reviews: 360 reviews \n"
       ]
      },
      {
       "output_type": "stream",
       "stream": "stderr",
       "text": [
        "[2015-04-05 15:53:46,242] Number of reviews: 360 reviews \n"
       ]
      },
      {
       "output_type": "stream",
       "stream": "stderr",
       "text": [
        "[2015-04-05 15:53:46,242] Number of reviews: 360 reviews \n"
       ]
      },
      {
       "output_type": "stream",
       "stream": "stderr",
       "text": [
        "[2015-04-05 15:53:46,242] Number of reviews: 360 reviews \n"
       ]
      },
      {
       "output_type": "stream",
       "stream": "stderr",
       "text": [
        "[2015-04-05 15:53:46,242] Number of reviews: 360 reviews \n"
       ]
      },
      {
       "output_type": "stream",
       "stream": "stderr",
       "text": [
        "[2015-04-05 15:53:46,242] Number of reviews: 360 reviews \n"
       ]
      },
      {
       "output_type": "stream",
       "stream": "stderr",
       "text": [
        "INFO:scrape_solution:Number of reviews: 360 reviews \n"
       ]
      },
      {
       "output_type": "stream",
       "stream": "stderr",
       "text": [
        "[2015-04-05 15:53:46,250] Hotel name: Sheraton Boston Hotel\n"
       ]
      },
      {
       "output_type": "stream",
       "stream": "stderr",
       "text": [
        "[2015-04-05 15:53:46,250] Hotel name: Sheraton Boston Hotel\n"
       ]
      },
      {
       "output_type": "stream",
       "stream": "stderr",
       "text": [
        "[2015-04-05 15:53:46,250] Hotel name: Sheraton Boston Hotel\n"
       ]
      },
      {
       "output_type": "stream",
       "stream": "stderr",
       "text": [
        "[2015-04-05 15:53:46,250] Hotel name: Sheraton Boston Hotel\n"
       ]
      },
      {
       "output_type": "stream",
       "stream": "stderr",
       "text": [
        "[2015-04-05 15:53:46,250] Hotel name: Sheraton Boston Hotel\n"
       ]
      },
      {
       "output_type": "stream",
       "stream": "stderr",
       "text": [
        "[2015-04-05 15:53:46,250] Hotel name: Sheraton Boston Hotel\n"
       ]
      },
      {
       "output_type": "stream",
       "stream": "stderr",
       "text": [
        "[2015-04-05 15:53:46,250] Hotel name: Sheraton Boston Hotel\n"
       ]
      },
      {
       "output_type": "stream",
       "stream": "stderr",
       "text": [
        "[2015-04-05 15:53:46,250] Hotel name: Sheraton Boston Hotel\n"
       ]
      },
      {
       "output_type": "stream",
       "stream": "stderr",
       "text": [
        "[2015-04-05 15:53:46,250] Hotel name: Sheraton Boston Hotel\n"
       ]
      },
      {
       "output_type": "stream",
       "stream": "stderr",
       "text": [
        "[2015-04-05 15:53:46,250] Hotel name: Sheraton Boston Hotel\n"
       ]
      },
      {
       "output_type": "stream",
       "stream": "stderr",
       "text": [
        "[2015-04-05 15:53:46,250] Hotel name: Sheraton Boston Hotel\n"
       ]
      },
      {
       "output_type": "stream",
       "stream": "stderr",
       "text": [
        "[2015-04-05 15:53:46,250] Hotel name: Sheraton Boston Hotel\n"
       ]
      },
      {
       "output_type": "stream",
       "stream": "stderr",
       "text": [
        "[2015-04-05 15:53:46,250] Hotel name: Sheraton Boston Hotel\n"
       ]
      },
      {
       "output_type": "stream",
       "stream": "stderr",
       "text": [
        "[2015-04-05 15:53:46,250] Hotel name: Sheraton Boston Hotel\n"
       ]
      },
      {
       "output_type": "stream",
       "stream": "stderr",
       "text": [
        "INFO:scrape_solution:Hotel name: Sheraton Boston Hotel\n"
       ]
      },
      {
       "output_type": "stream",
       "stream": "stderr",
       "text": [
        "[2015-04-05 15:53:46,263] Stars: 4\n"
       ]
      },
      {
       "output_type": "stream",
       "stream": "stderr",
       "text": [
        "[2015-04-05 15:53:46,263] Stars: 4\n"
       ]
      },
      {
       "output_type": "stream",
       "stream": "stderr",
       "text": [
        "[2015-04-05 15:53:46,263] Stars: 4\n"
       ]
      },
      {
       "output_type": "stream",
       "stream": "stderr",
       "text": [
        "[2015-04-05 15:53:46,263] Stars: 4\n"
       ]
      },
      {
       "output_type": "stream",
       "stream": "stderr",
       "text": [
        "[2015-04-05 15:53:46,263] Stars: 4\n"
       ]
      },
      {
       "output_type": "stream",
       "stream": "stderr",
       "text": [
        "[2015-04-05 15:53:46,263] Stars: 4\n"
       ]
      },
      {
       "output_type": "stream",
       "stream": "stderr",
       "text": [
        "[2015-04-05 15:53:46,263] Stars: 4\n"
       ]
      },
      {
       "output_type": "stream",
       "stream": "stderr",
       "text": [
        "[2015-04-05 15:53:46,263] Stars: 4\n"
       ]
      },
      {
       "output_type": "stream",
       "stream": "stderr",
       "text": [
        "[2015-04-05 15:53:46,263] Stars: 4\n"
       ]
      },
      {
       "output_type": "stream",
       "stream": "stderr",
       "text": [
        "[2015-04-05 15:53:46,263] Stars: 4\n"
       ]
      },
      {
       "output_type": "stream",
       "stream": "stderr",
       "text": [
        "[2015-04-05 15:53:46,263] Stars: 4\n"
       ]
      },
      {
       "output_type": "stream",
       "stream": "stderr",
       "text": [
        "[2015-04-05 15:53:46,263] Stars: 4\n"
       ]
      },
      {
       "output_type": "stream",
       "stream": "stderr",
       "text": [
        "[2015-04-05 15:53:46,263] Stars: 4\n"
       ]
      },
      {
       "output_type": "stream",
       "stream": "stderr",
       "text": [
        "[2015-04-05 15:53:46,263] Stars: 4\n"
       ]
      },
      {
       "output_type": "stream",
       "stream": "stderr",
       "text": [
        "INFO:scrape_solution:Stars: 4\n"
       ]
      },
      {
       "output_type": "stream",
       "stream": "stderr",
       "text": [
        "[2015-04-05 15:53:46,278] Number of reviews: 532 reviews \n"
       ]
      },
      {
       "output_type": "stream",
       "stream": "stderr",
       "text": [
        "[2015-04-05 15:53:46,278] Number of reviews: 532 reviews \n"
       ]
      },
      {
       "output_type": "stream",
       "stream": "stderr",
       "text": [
        "[2015-04-05 15:53:46,278] Number of reviews: 532 reviews \n"
       ]
      },
      {
       "output_type": "stream",
       "stream": "stderr",
       "text": [
        "[2015-04-05 15:53:46,278] Number of reviews: 532 reviews \n"
       ]
      },
      {
       "output_type": "stream",
       "stream": "stderr",
       "text": [
        "[2015-04-05 15:53:46,278] Number of reviews: 532 reviews \n"
       ]
      },
      {
       "output_type": "stream",
       "stream": "stderr",
       "text": [
        "[2015-04-05 15:53:46,278] Number of reviews: 532 reviews \n"
       ]
      },
      {
       "output_type": "stream",
       "stream": "stderr",
       "text": [
        "[2015-04-05 15:53:46,278] Number of reviews: 532 reviews \n"
       ]
      },
      {
       "output_type": "stream",
       "stream": "stderr",
       "text": [
        "[2015-04-05 15:53:46,278] Number of reviews: 532 reviews \n"
       ]
      },
      {
       "output_type": "stream",
       "stream": "stderr",
       "text": [
        "[2015-04-05 15:53:46,278] Number of reviews: 532 reviews \n"
       ]
      },
      {
       "output_type": "stream",
       "stream": "stderr",
       "text": [
        "[2015-04-05 15:53:46,278] Number of reviews: 532 reviews \n"
       ]
      },
      {
       "output_type": "stream",
       "stream": "stderr",
       "text": [
        "[2015-04-05 15:53:46,278] Number of reviews: 532 reviews \n"
       ]
      },
      {
       "output_type": "stream",
       "stream": "stderr",
       "text": [
        "[2015-04-05 15:53:46,278] Number of reviews: 532 reviews \n"
       ]
      },
      {
       "output_type": "stream",
       "stream": "stderr",
       "text": [
        "[2015-04-05 15:53:46,278] Number of reviews: 532 reviews \n"
       ]
      },
      {
       "output_type": "stream",
       "stream": "stderr",
       "text": [
        "[2015-04-05 15:53:46,278] Number of reviews: 532 reviews \n"
       ]
      },
      {
       "output_type": "stream",
       "stream": "stderr",
       "text": [
        "INFO:scrape_solution:Number of reviews: 532 reviews \n"
       ]
      },
      {
       "output_type": "stream",
       "stream": "stderr",
       "text": [
        "[2015-04-05 15:53:46,285] Hotel name: Hilton Boston Back Bay\n"
       ]
      },
      {
       "output_type": "stream",
       "stream": "stderr",
       "text": [
        "[2015-04-05 15:53:46,285] Hotel name: Hilton Boston Back Bay\n"
       ]
      },
      {
       "output_type": "stream",
       "stream": "stderr",
       "text": [
        "[2015-04-05 15:53:46,285] Hotel name: Hilton Boston Back Bay\n"
       ]
      },
      {
       "output_type": "stream",
       "stream": "stderr",
       "text": [
        "[2015-04-05 15:53:46,285] Hotel name: Hilton Boston Back Bay\n"
       ]
      },
      {
       "output_type": "stream",
       "stream": "stderr",
       "text": [
        "[2015-04-05 15:53:46,285] Hotel name: Hilton Boston Back Bay\n"
       ]
      },
      {
       "output_type": "stream",
       "stream": "stderr",
       "text": [
        "[2015-04-05 15:53:46,285] Hotel name: Hilton Boston Back Bay\n"
       ]
      },
      {
       "output_type": "stream",
       "stream": "stderr",
       "text": [
        "[2015-04-05 15:53:46,285] Hotel name: Hilton Boston Back Bay\n"
       ]
      },
      {
       "output_type": "stream",
       "stream": "stderr",
       "text": [
        "[2015-04-05 15:53:46,285] Hotel name: Hilton Boston Back Bay\n"
       ]
      },
      {
       "output_type": "stream",
       "stream": "stderr",
       "text": [
        "[2015-04-05 15:53:46,285] Hotel name: Hilton Boston Back Bay\n"
       ]
      },
      {
       "output_type": "stream",
       "stream": "stderr",
       "text": [
        "[2015-04-05 15:53:46,285] Hotel name: Hilton Boston Back Bay\n"
       ]
      },
      {
       "output_type": "stream",
       "stream": "stderr",
       "text": [
        "[2015-04-05 15:53:46,285] Hotel name: Hilton Boston Back Bay\n"
       ]
      },
      {
       "output_type": "stream",
       "stream": "stderr",
       "text": [
        "[2015-04-05 15:53:46,285] Hotel name: Hilton Boston Back Bay\n"
       ]
      },
      {
       "output_type": "stream",
       "stream": "stderr",
       "text": [
        "[2015-04-05 15:53:46,285] Hotel name: Hilton Boston Back Bay\n"
       ]
      },
      {
       "output_type": "stream",
       "stream": "stderr",
       "text": [
        "[2015-04-05 15:53:46,285] Hotel name: Hilton Boston Back Bay\n"
       ]
      },
      {
       "output_type": "stream",
       "stream": "stderr",
       "text": [
        "INFO:scrape_solution:Hotel name: Hilton Boston Back Bay\n"
       ]
      },
      {
       "output_type": "stream",
       "stream": "stderr",
       "text": [
        "[2015-04-05 15:53:46,297] Stars: 4\n"
       ]
      },
      {
       "output_type": "stream",
       "stream": "stderr",
       "text": [
        "[2015-04-05 15:53:46,297] Stars: 4\n"
       ]
      },
      {
       "output_type": "stream",
       "stream": "stderr",
       "text": [
        "[2015-04-05 15:53:46,297] Stars: 4\n"
       ]
      },
      {
       "output_type": "stream",
       "stream": "stderr",
       "text": [
        "[2015-04-05 15:53:46,297] Stars: 4\n"
       ]
      },
      {
       "output_type": "stream",
       "stream": "stderr",
       "text": [
        "[2015-04-05 15:53:46,297] Stars: 4\n"
       ]
      },
      {
       "output_type": "stream",
       "stream": "stderr",
       "text": [
        "[2015-04-05 15:53:46,297] Stars: 4\n"
       ]
      },
      {
       "output_type": "stream",
       "stream": "stderr",
       "text": [
        "[2015-04-05 15:53:46,297] Stars: 4\n"
       ]
      },
      {
       "output_type": "stream",
       "stream": "stderr",
       "text": [
        "[2015-04-05 15:53:46,297] Stars: 4\n"
       ]
      },
      {
       "output_type": "stream",
       "stream": "stderr",
       "text": [
        "[2015-04-05 15:53:46,297] Stars: 4\n"
       ]
      },
      {
       "output_type": "stream",
       "stream": "stderr",
       "text": [
        "[2015-04-05 15:53:46,297] Stars: 4\n"
       ]
      },
      {
       "output_type": "stream",
       "stream": "stderr",
       "text": [
        "[2015-04-05 15:53:46,297] Stars: 4\n"
       ]
      },
      {
       "output_type": "stream",
       "stream": "stderr",
       "text": [
        "[2015-04-05 15:53:46,297] Stars: 4\n"
       ]
      },
      {
       "output_type": "stream",
       "stream": "stderr",
       "text": [
        "[2015-04-05 15:53:46,297] Stars: 4\n"
       ]
      },
      {
       "output_type": "stream",
       "stream": "stderr",
       "text": [
        "[2015-04-05 15:53:46,297] Stars: 4\n"
       ]
      },
      {
       "output_type": "stream",
       "stream": "stderr",
       "text": [
        "INFO:scrape_solution:Stars: 4\n"
       ]
      },
      {
       "output_type": "stream",
       "stream": "stderr",
       "text": [
        "[2015-04-05 15:53:46,311] Number of reviews: 1,706 reviews \n"
       ]
      },
      {
       "output_type": "stream",
       "stream": "stderr",
       "text": [
        "[2015-04-05 15:53:46,311] Number of reviews: 1,706 reviews \n"
       ]
      },
      {
       "output_type": "stream",
       "stream": "stderr",
       "text": [
        "[2015-04-05 15:53:46,311] Number of reviews: 1,706 reviews \n"
       ]
      },
      {
       "output_type": "stream",
       "stream": "stderr",
       "text": [
        "[2015-04-05 15:53:46,311] Number of reviews: 1,706 reviews \n"
       ]
      },
      {
       "output_type": "stream",
       "stream": "stderr",
       "text": [
        "[2015-04-05 15:53:46,311] Number of reviews: 1,706 reviews \n"
       ]
      },
      {
       "output_type": "stream",
       "stream": "stderr",
       "text": [
        "[2015-04-05 15:53:46,311] Number of reviews: 1,706 reviews \n"
       ]
      },
      {
       "output_type": "stream",
       "stream": "stderr",
       "text": [
        "[2015-04-05 15:53:46,311] Number of reviews: 1,706 reviews \n"
       ]
      },
      {
       "output_type": "stream",
       "stream": "stderr",
       "text": [
        "[2015-04-05 15:53:46,311] Number of reviews: 1,706 reviews \n"
       ]
      },
      {
       "output_type": "stream",
       "stream": "stderr",
       "text": [
        "[2015-04-05 15:53:46,311] Number of reviews: 1,706 reviews \n"
       ]
      },
      {
       "output_type": "stream",
       "stream": "stderr",
       "text": [
        "[2015-04-05 15:53:46,311] Number of reviews: 1,706 reviews \n"
       ]
      },
      {
       "output_type": "stream",
       "stream": "stderr",
       "text": [
        "[2015-04-05 15:53:46,311] Number of reviews: 1,706 reviews \n"
       ]
      },
      {
       "output_type": "stream",
       "stream": "stderr",
       "text": [
        "[2015-04-05 15:53:46,311] Number of reviews: 1,706 reviews \n"
       ]
      },
      {
       "output_type": "stream",
       "stream": "stderr",
       "text": [
        "[2015-04-05 15:53:46,311] Number of reviews: 1,706 reviews \n"
       ]
      },
      {
       "output_type": "stream",
       "stream": "stderr",
       "text": [
        "[2015-04-05 15:53:46,311] Number of reviews: 1,706 reviews \n"
       ]
      },
      {
       "output_type": "stream",
       "stream": "stderr",
       "text": [
        "INFO:scrape_solution:Number of reviews: 1,706 reviews \n"
       ]
      },
      {
       "output_type": "stream",
       "stream": "stderr",
       "text": [
        "[2015-04-05 15:53:46,323] Hotel name: The Langham, Boston\n"
       ]
      },
      {
       "output_type": "stream",
       "stream": "stderr",
       "text": [
        "[2015-04-05 15:53:46,323] Hotel name: The Langham, Boston\n"
       ]
      },
      {
       "output_type": "stream",
       "stream": "stderr",
       "text": [
        "[2015-04-05 15:53:46,323] Hotel name: The Langham, Boston\n"
       ]
      },
      {
       "output_type": "stream",
       "stream": "stderr",
       "text": [
        "[2015-04-05 15:53:46,323] Hotel name: The Langham, Boston\n"
       ]
      },
      {
       "output_type": "stream",
       "stream": "stderr",
       "text": [
        "[2015-04-05 15:53:46,323] Hotel name: The Langham, Boston\n"
       ]
      },
      {
       "output_type": "stream",
       "stream": "stderr",
       "text": [
        "[2015-04-05 15:53:46,323] Hotel name: The Langham, Boston\n"
       ]
      },
      {
       "output_type": "stream",
       "stream": "stderr",
       "text": [
        "[2015-04-05 15:53:46,323] Hotel name: The Langham, Boston\n"
       ]
      },
      {
       "output_type": "stream",
       "stream": "stderr",
       "text": [
        "[2015-04-05 15:53:46,323] Hotel name: The Langham, Boston\n"
       ]
      },
      {
       "output_type": "stream",
       "stream": "stderr",
       "text": [
        "[2015-04-05 15:53:46,323] Hotel name: The Langham, Boston\n"
       ]
      },
      {
       "output_type": "stream",
       "stream": "stderr",
       "text": [
        "[2015-04-05 15:53:46,323] Hotel name: The Langham, Boston\n"
       ]
      },
      {
       "output_type": "stream",
       "stream": "stderr",
       "text": [
        "[2015-04-05 15:53:46,323] Hotel name: The Langham, Boston\n"
       ]
      },
      {
       "output_type": "stream",
       "stream": "stderr",
       "text": [
        "[2015-04-05 15:53:46,323] Hotel name: The Langham, Boston\n"
       ]
      },
      {
       "output_type": "stream",
       "stream": "stderr",
       "text": [
        "[2015-04-05 15:53:46,323] Hotel name: The Langham, Boston\n"
       ]
      },
      {
       "output_type": "stream",
       "stream": "stderr",
       "text": [
        "[2015-04-05 15:53:46,323] Hotel name: The Langham, Boston\n"
       ]
      },
      {
       "output_type": "stream",
       "stream": "stderr",
       "text": [
        "INFO:scrape_solution:Hotel name: The Langham, Boston\n"
       ]
      },
      {
       "output_type": "stream",
       "stream": "stderr",
       "text": [
        "[2015-04-05 15:53:46,339] Stars: 4.5\n"
       ]
      },
      {
       "output_type": "stream",
       "stream": "stderr",
       "text": [
        "[2015-04-05 15:53:46,339] Stars: 4.5\n"
       ]
      },
      {
       "output_type": "stream",
       "stream": "stderr",
       "text": [
        "[2015-04-05 15:53:46,339] Stars: 4.5\n"
       ]
      },
      {
       "output_type": "stream",
       "stream": "stderr",
       "text": [
        "[2015-04-05 15:53:46,339] Stars: 4.5\n"
       ]
      },
      {
       "output_type": "stream",
       "stream": "stderr",
       "text": [
        "[2015-04-05 15:53:46,339] Stars: 4.5\n"
       ]
      },
      {
       "output_type": "stream",
       "stream": "stderr",
       "text": [
        "[2015-04-05 15:53:46,339] Stars: 4.5\n"
       ]
      },
      {
       "output_type": "stream",
       "stream": "stderr",
       "text": [
        "[2015-04-05 15:53:46,339] Stars: 4.5\n"
       ]
      },
      {
       "output_type": "stream",
       "stream": "stderr",
       "text": [
        "[2015-04-05 15:53:46,339] Stars: 4.5\n"
       ]
      },
      {
       "output_type": "stream",
       "stream": "stderr",
       "text": [
        "[2015-04-05 15:53:46,339] Stars: 4.5\n"
       ]
      },
      {
       "output_type": "stream",
       "stream": "stderr",
       "text": [
        "[2015-04-05 15:53:46,339] Stars: 4.5\n"
       ]
      },
      {
       "output_type": "stream",
       "stream": "stderr",
       "text": [
        "[2015-04-05 15:53:46,339] Stars: 4.5\n"
       ]
      },
      {
       "output_type": "stream",
       "stream": "stderr",
       "text": [
        "[2015-04-05 15:53:46,339] Stars: 4.5\n"
       ]
      },
      {
       "output_type": "stream",
       "stream": "stderr",
       "text": [
        "[2015-04-05 15:53:46,339] Stars: 4.5\n"
       ]
      },
      {
       "output_type": "stream",
       "stream": "stderr",
       "text": [
        "[2015-04-05 15:53:46,339] Stars: 4.5\n"
       ]
      },
      {
       "output_type": "stream",
       "stream": "stderr",
       "text": [
        "INFO:scrape_solution:Stars: 4.5\n"
       ]
      },
      {
       "output_type": "stream",
       "stream": "stderr",
       "text": [
        "[2015-04-05 15:53:46,351] Number of reviews: 1,410 reviews \n"
       ]
      },
      {
       "output_type": "stream",
       "stream": "stderr",
       "text": [
        "[2015-04-05 15:53:46,351] Number of reviews: 1,410 reviews \n"
       ]
      },
      {
       "output_type": "stream",
       "stream": "stderr",
       "text": [
        "[2015-04-05 15:53:46,351] Number of reviews: 1,410 reviews \n"
       ]
      },
      {
       "output_type": "stream",
       "stream": "stderr",
       "text": [
        "[2015-04-05 15:53:46,351] Number of reviews: 1,410 reviews \n"
       ]
      },
      {
       "output_type": "stream",
       "stream": "stderr",
       "text": [
        "[2015-04-05 15:53:46,351] Number of reviews: 1,410 reviews \n"
       ]
      },
      {
       "output_type": "stream",
       "stream": "stderr",
       "text": [
        "[2015-04-05 15:53:46,351] Number of reviews: 1,410 reviews \n"
       ]
      },
      {
       "output_type": "stream",
       "stream": "stderr",
       "text": [
        "[2015-04-05 15:53:46,351] Number of reviews: 1,410 reviews \n"
       ]
      },
      {
       "output_type": "stream",
       "stream": "stderr",
       "text": [
        "[2015-04-05 15:53:46,351] Number of reviews: 1,410 reviews \n"
       ]
      },
      {
       "output_type": "stream",
       "stream": "stderr",
       "text": [
        "[2015-04-05 15:53:46,351] Number of reviews: 1,410 reviews \n"
       ]
      },
      {
       "output_type": "stream",
       "stream": "stderr",
       "text": [
        "[2015-04-05 15:53:46,351] Number of reviews: 1,410 reviews \n"
       ]
      },
      {
       "output_type": "stream",
       "stream": "stderr",
       "text": [
        "[2015-04-05 15:53:46,351] Number of reviews: 1,410 reviews \n"
       ]
      },
      {
       "output_type": "stream",
       "stream": "stderr",
       "text": [
        "[2015-04-05 15:53:46,351] Number of reviews: 1,410 reviews \n"
       ]
      },
      {
       "output_type": "stream",
       "stream": "stderr",
       "text": [
        "[2015-04-05 15:53:46,351] Number of reviews: 1,410 reviews \n"
       ]
      },
      {
       "output_type": "stream",
       "stream": "stderr",
       "text": [
        "[2015-04-05 15:53:46,351] Number of reviews: 1,410 reviews \n"
       ]
      },
      {
       "output_type": "stream",
       "stream": "stderr",
       "text": [
        "INFO:scrape_solution:Number of reviews: 1,410 reviews \n"
       ]
      },
      {
       "output_type": "stream",
       "stream": "stderr",
       "text": [
        "[2015-04-05 15:53:46,362] Hotel name: W Boston\n"
       ]
      },
      {
       "output_type": "stream",
       "stream": "stderr",
       "text": [
        "[2015-04-05 15:53:46,362] Hotel name: W Boston\n"
       ]
      },
      {
       "output_type": "stream",
       "stream": "stderr",
       "text": [
        "[2015-04-05 15:53:46,362] Hotel name: W Boston\n"
       ]
      },
      {
       "output_type": "stream",
       "stream": "stderr",
       "text": [
        "[2015-04-05 15:53:46,362] Hotel name: W Boston\n"
       ]
      },
      {
       "output_type": "stream",
       "stream": "stderr",
       "text": [
        "[2015-04-05 15:53:46,362] Hotel name: W Boston\n"
       ]
      },
      {
       "output_type": "stream",
       "stream": "stderr",
       "text": [
        "[2015-04-05 15:53:46,362] Hotel name: W Boston\n"
       ]
      },
      {
       "output_type": "stream",
       "stream": "stderr",
       "text": [
        "[2015-04-05 15:53:46,362] Hotel name: W Boston\n"
       ]
      },
      {
       "output_type": "stream",
       "stream": "stderr",
       "text": [
        "[2015-04-05 15:53:46,362] Hotel name: W Boston\n"
       ]
      },
      {
       "output_type": "stream",
       "stream": "stderr",
       "text": [
        "[2015-04-05 15:53:46,362] Hotel name: W Boston\n"
       ]
      },
      {
       "output_type": "stream",
       "stream": "stderr",
       "text": [
        "[2015-04-05 15:53:46,362] Hotel name: W Boston\n"
       ]
      },
      {
       "output_type": "stream",
       "stream": "stderr",
       "text": [
        "[2015-04-05 15:53:46,362] Hotel name: W Boston\n"
       ]
      },
      {
       "output_type": "stream",
       "stream": "stderr",
       "text": [
        "[2015-04-05 15:53:46,362] Hotel name: W Boston\n"
       ]
      },
      {
       "output_type": "stream",
       "stream": "stderr",
       "text": [
        "[2015-04-05 15:53:46,362] Hotel name: W Boston\n"
       ]
      },
      {
       "output_type": "stream",
       "stream": "stderr",
       "text": [
        "[2015-04-05 15:53:46,362] Hotel name: W Boston\n"
       ]
      },
      {
       "output_type": "stream",
       "stream": "stderr",
       "text": [
        "INFO:scrape_solution:Hotel name: W Boston\n"
       ]
      },
      {
       "output_type": "stream",
       "stream": "stderr",
       "text": [
        "[2015-04-05 15:53:46,375] Stars: 4\n"
       ]
      },
      {
       "output_type": "stream",
       "stream": "stderr",
       "text": [
        "[2015-04-05 15:53:46,375] Stars: 4\n"
       ]
      },
      {
       "output_type": "stream",
       "stream": "stderr",
       "text": [
        "[2015-04-05 15:53:46,375] Stars: 4\n"
       ]
      },
      {
       "output_type": "stream",
       "stream": "stderr",
       "text": [
        "[2015-04-05 15:53:46,375] Stars: 4\n"
       ]
      },
      {
       "output_type": "stream",
       "stream": "stderr",
       "text": [
        "[2015-04-05 15:53:46,375] Stars: 4\n"
       ]
      },
      {
       "output_type": "stream",
       "stream": "stderr",
       "text": [
        "[2015-04-05 15:53:46,375] Stars: 4\n"
       ]
      },
      {
       "output_type": "stream",
       "stream": "stderr",
       "text": [
        "[2015-04-05 15:53:46,375] Stars: 4\n"
       ]
      },
      {
       "output_type": "stream",
       "stream": "stderr",
       "text": [
        "[2015-04-05 15:53:46,375] Stars: 4\n"
       ]
      },
      {
       "output_type": "stream",
       "stream": "stderr",
       "text": [
        "[2015-04-05 15:53:46,375] Stars: 4\n"
       ]
      },
      {
       "output_type": "stream",
       "stream": "stderr",
       "text": [
        "[2015-04-05 15:53:46,375] Stars: 4\n"
       ]
      },
      {
       "output_type": "stream",
       "stream": "stderr",
       "text": [
        "[2015-04-05 15:53:46,375] Stars: 4\n"
       ]
      },
      {
       "output_type": "stream",
       "stream": "stderr",
       "text": [
        "[2015-04-05 15:53:46,375] Stars: 4\n"
       ]
      },
      {
       "output_type": "stream",
       "stream": "stderr",
       "text": [
        "[2015-04-05 15:53:46,375] Stars: 4\n"
       ]
      },
      {
       "output_type": "stream",
       "stream": "stderr",
       "text": [
        "[2015-04-05 15:53:46,375] Stars: 4\n"
       ]
      },
      {
       "output_type": "stream",
       "stream": "stderr",
       "text": [
        "INFO:scrape_solution:Stars: 4\n"
       ]
      },
      {
       "output_type": "stream",
       "stream": "stderr",
       "text": [
        "[2015-04-05 15:53:46,388] Number of reviews: 864 reviews \n"
       ]
      },
      {
       "output_type": "stream",
       "stream": "stderr",
       "text": [
        "[2015-04-05 15:53:46,388] Number of reviews: 864 reviews \n"
       ]
      },
      {
       "output_type": "stream",
       "stream": "stderr",
       "text": [
        "[2015-04-05 15:53:46,388] Number of reviews: 864 reviews \n"
       ]
      },
      {
       "output_type": "stream",
       "stream": "stderr",
       "text": [
        "[2015-04-05 15:53:46,388] Number of reviews: 864 reviews \n"
       ]
      },
      {
       "output_type": "stream",
       "stream": "stderr",
       "text": [
        "[2015-04-05 15:53:46,388] Number of reviews: 864 reviews \n"
       ]
      },
      {
       "output_type": "stream",
       "stream": "stderr",
       "text": [
        "[2015-04-05 15:53:46,388] Number of reviews: 864 reviews \n"
       ]
      },
      {
       "output_type": "stream",
       "stream": "stderr",
       "text": [
        "[2015-04-05 15:53:46,388] Number of reviews: 864 reviews \n"
       ]
      },
      {
       "output_type": "stream",
       "stream": "stderr",
       "text": [
        "[2015-04-05 15:53:46,388] Number of reviews: 864 reviews \n"
       ]
      },
      {
       "output_type": "stream",
       "stream": "stderr",
       "text": [
        "[2015-04-05 15:53:46,388] Number of reviews: 864 reviews \n"
       ]
      },
      {
       "output_type": "stream",
       "stream": "stderr",
       "text": [
        "[2015-04-05 15:53:46,388] Number of reviews: 864 reviews \n"
       ]
      },
      {
       "output_type": "stream",
       "stream": "stderr",
       "text": [
        "[2015-04-05 15:53:46,388] Number of reviews: 864 reviews \n"
       ]
      },
      {
       "output_type": "stream",
       "stream": "stderr",
       "text": [
        "[2015-04-05 15:53:46,388] Number of reviews: 864 reviews \n"
       ]
      },
      {
       "output_type": "stream",
       "stream": "stderr",
       "text": [
        "[2015-04-05 15:53:46,388] Number of reviews: 864 reviews \n"
       ]
      },
      {
       "output_type": "stream",
       "stream": "stderr",
       "text": [
        "[2015-04-05 15:53:46,388] Number of reviews: 864 reviews \n"
       ]
      },
      {
       "output_type": "stream",
       "stream": "stderr",
       "text": [
        "INFO:scrape_solution:Number of reviews: 864 reviews \n"
       ]
      },
      {
       "output_type": "stream",
       "stream": "stderr",
       "text": [
        "[2015-04-05 15:53:46,396] Hotel name: InterContinental Boston\n"
       ]
      },
      {
       "output_type": "stream",
       "stream": "stderr",
       "text": [
        "[2015-04-05 15:53:46,396] Hotel name: InterContinental Boston\n"
       ]
      },
      {
       "output_type": "stream",
       "stream": "stderr",
       "text": [
        "[2015-04-05 15:53:46,396] Hotel name: InterContinental Boston\n"
       ]
      },
      {
       "output_type": "stream",
       "stream": "stderr",
       "text": [
        "[2015-04-05 15:53:46,396] Hotel name: InterContinental Boston\n"
       ]
      },
      {
       "output_type": "stream",
       "stream": "stderr",
       "text": [
        "[2015-04-05 15:53:46,396] Hotel name: InterContinental Boston\n"
       ]
      },
      {
       "output_type": "stream",
       "stream": "stderr",
       "text": [
        "[2015-04-05 15:53:46,396] Hotel name: InterContinental Boston\n"
       ]
      },
      {
       "output_type": "stream",
       "stream": "stderr",
       "text": [
        "[2015-04-05 15:53:46,396] Hotel name: InterContinental Boston\n"
       ]
      },
      {
       "output_type": "stream",
       "stream": "stderr",
       "text": [
        "[2015-04-05 15:53:46,396] Hotel name: InterContinental Boston\n"
       ]
      },
      {
       "output_type": "stream",
       "stream": "stderr",
       "text": [
        "[2015-04-05 15:53:46,396] Hotel name: InterContinental Boston\n"
       ]
      },
      {
       "output_type": "stream",
       "stream": "stderr",
       "text": [
        "[2015-04-05 15:53:46,396] Hotel name: InterContinental Boston\n"
       ]
      },
      {
       "output_type": "stream",
       "stream": "stderr",
       "text": [
        "[2015-04-05 15:53:46,396] Hotel name: InterContinental Boston\n"
       ]
      },
      {
       "output_type": "stream",
       "stream": "stderr",
       "text": [
        "[2015-04-05 15:53:46,396] Hotel name: InterContinental Boston\n"
       ]
      },
      {
       "output_type": "stream",
       "stream": "stderr",
       "text": [
        "[2015-04-05 15:53:46,396] Hotel name: InterContinental Boston\n"
       ]
      },
      {
       "output_type": "stream",
       "stream": "stderr",
       "text": [
        "[2015-04-05 15:53:46,396] Hotel name: InterContinental Boston\n"
       ]
      },
      {
       "output_type": "stream",
       "stream": "stderr",
       "text": [
        "INFO:scrape_solution:Hotel name: InterContinental Boston\n"
       ]
      },
      {
       "output_type": "stream",
       "stream": "stderr",
       "text": [
        "[2015-04-05 15:53:46,408] Stars: 4.5\n"
       ]
      },
      {
       "output_type": "stream",
       "stream": "stderr",
       "text": [
        "[2015-04-05 15:53:46,408] Stars: 4.5\n"
       ]
      },
      {
       "output_type": "stream",
       "stream": "stderr",
       "text": [
        "[2015-04-05 15:53:46,408] Stars: 4.5\n"
       ]
      },
      {
       "output_type": "stream",
       "stream": "stderr",
       "text": [
        "[2015-04-05 15:53:46,408] Stars: 4.5\n"
       ]
      },
      {
       "output_type": "stream",
       "stream": "stderr",
       "text": [
        "[2015-04-05 15:53:46,408] Stars: 4.5\n"
       ]
      },
      {
       "output_type": "stream",
       "stream": "stderr",
       "text": [
        "[2015-04-05 15:53:46,408] Stars: 4.5\n"
       ]
      },
      {
       "output_type": "stream",
       "stream": "stderr",
       "text": [
        "[2015-04-05 15:53:46,408] Stars: 4.5\n"
       ]
      },
      {
       "output_type": "stream",
       "stream": "stderr",
       "text": [
        "[2015-04-05 15:53:46,408] Stars: 4.5\n"
       ]
      },
      {
       "output_type": "stream",
       "stream": "stderr",
       "text": [
        "[2015-04-05 15:53:46,408] Stars: 4.5\n"
       ]
      },
      {
       "output_type": "stream",
       "stream": "stderr",
       "text": [
        "[2015-04-05 15:53:46,408] Stars: 4.5\n"
       ]
      },
      {
       "output_type": "stream",
       "stream": "stderr",
       "text": [
        "[2015-04-05 15:53:46,408] Stars: 4.5\n"
       ]
      },
      {
       "output_type": "stream",
       "stream": "stderr",
       "text": [
        "[2015-04-05 15:53:46,408] Stars: 4.5\n"
       ]
      },
      {
       "output_type": "stream",
       "stream": "stderr",
       "text": [
        "[2015-04-05 15:53:46,408] Stars: 4.5\n"
       ]
      },
      {
       "output_type": "stream",
       "stream": "stderr",
       "text": [
        "[2015-04-05 15:53:46,408] Stars: 4.5\n"
       ]
      },
      {
       "output_type": "stream",
       "stream": "stderr",
       "text": [
        "INFO:scrape_solution:Stars: 4.5\n"
       ]
      },
      {
       "output_type": "stream",
       "stream": "stderr",
       "text": [
        "[2015-04-05 15:53:46,419] Number of reviews: 1,897 reviews \n"
       ]
      },
      {
       "output_type": "stream",
       "stream": "stderr",
       "text": [
        "[2015-04-05 15:53:46,419] Number of reviews: 1,897 reviews \n"
       ]
      },
      {
       "output_type": "stream",
       "stream": "stderr",
       "text": [
        "[2015-04-05 15:53:46,419] Number of reviews: 1,897 reviews \n"
       ]
      },
      {
       "output_type": "stream",
       "stream": "stderr",
       "text": [
        "[2015-04-05 15:53:46,419] Number of reviews: 1,897 reviews \n"
       ]
      },
      {
       "output_type": "stream",
       "stream": "stderr",
       "text": [
        "[2015-04-05 15:53:46,419] Number of reviews: 1,897 reviews \n"
       ]
      },
      {
       "output_type": "stream",
       "stream": "stderr",
       "text": [
        "[2015-04-05 15:53:46,419] Number of reviews: 1,897 reviews \n"
       ]
      },
      {
       "output_type": "stream",
       "stream": "stderr",
       "text": [
        "[2015-04-05 15:53:46,419] Number of reviews: 1,897 reviews \n"
       ]
      },
      {
       "output_type": "stream",
       "stream": "stderr",
       "text": [
        "[2015-04-05 15:53:46,419] Number of reviews: 1,897 reviews \n"
       ]
      },
      {
       "output_type": "stream",
       "stream": "stderr",
       "text": [
        "[2015-04-05 15:53:46,419] Number of reviews: 1,897 reviews \n"
       ]
      },
      {
       "output_type": "stream",
       "stream": "stderr",
       "text": [
        "[2015-04-05 15:53:46,419] Number of reviews: 1,897 reviews \n"
       ]
      },
      {
       "output_type": "stream",
       "stream": "stderr",
       "text": [
        "[2015-04-05 15:53:46,419] Number of reviews: 1,897 reviews \n"
       ]
      },
      {
       "output_type": "stream",
       "stream": "stderr",
       "text": [
        "[2015-04-05 15:53:46,419] Number of reviews: 1,897 reviews \n"
       ]
      },
      {
       "output_type": "stream",
       "stream": "stderr",
       "text": [
        "[2015-04-05 15:53:46,419] Number of reviews: 1,897 reviews \n"
       ]
      },
      {
       "output_type": "stream",
       "stream": "stderr",
       "text": [
        "[2015-04-05 15:53:46,419] Number of reviews: 1,897 reviews \n"
       ]
      },
      {
       "output_type": "stream",
       "stream": "stderr",
       "text": [
        "INFO:scrape_solution:Number of reviews: 1,897 reviews \n"
       ]
      },
      {
       "output_type": "stream",
       "stream": "stderr",
       "text": [
        "[2015-04-05 15:53:46,428] Hotel name: Residence Inn Boston Back Bay / Fenway\n"
       ]
      },
      {
       "output_type": "stream",
       "stream": "stderr",
       "text": [
        "[2015-04-05 15:53:46,428] Hotel name: Residence Inn Boston Back Bay / Fenway\n"
       ]
      },
      {
       "output_type": "stream",
       "stream": "stderr",
       "text": [
        "[2015-04-05 15:53:46,428] Hotel name: Residence Inn Boston Back Bay / Fenway\n"
       ]
      },
      {
       "output_type": "stream",
       "stream": "stderr",
       "text": [
        "[2015-04-05 15:53:46,428] Hotel name: Residence Inn Boston Back Bay / Fenway\n"
       ]
      },
      {
       "output_type": "stream",
       "stream": "stderr",
       "text": [
        "[2015-04-05 15:53:46,428] Hotel name: Residence Inn Boston Back Bay / Fenway\n"
       ]
      },
      {
       "output_type": "stream",
       "stream": "stderr",
       "text": [
        "[2015-04-05 15:53:46,428] Hotel name: Residence Inn Boston Back Bay / Fenway\n"
       ]
      },
      {
       "output_type": "stream",
       "stream": "stderr",
       "text": [
        "[2015-04-05 15:53:46,428] Hotel name: Residence Inn Boston Back Bay / Fenway\n"
       ]
      },
      {
       "output_type": "stream",
       "stream": "stderr",
       "text": [
        "[2015-04-05 15:53:46,428] Hotel name: Residence Inn Boston Back Bay / Fenway\n"
       ]
      },
      {
       "output_type": "stream",
       "stream": "stderr",
       "text": [
        "[2015-04-05 15:53:46,428] Hotel name: Residence Inn Boston Back Bay / Fenway\n"
       ]
      },
      {
       "output_type": "stream",
       "stream": "stderr",
       "text": [
        "[2015-04-05 15:53:46,428] Hotel name: Residence Inn Boston Back Bay / Fenway\n"
       ]
      },
      {
       "output_type": "stream",
       "stream": "stderr",
       "text": [
        "[2015-04-05 15:53:46,428] Hotel name: Residence Inn Boston Back Bay / Fenway\n"
       ]
      },
      {
       "output_type": "stream",
       "stream": "stderr",
       "text": [
        "[2015-04-05 15:53:46,428] Hotel name: Residence Inn Boston Back Bay / Fenway\n"
       ]
      },
      {
       "output_type": "stream",
       "stream": "stderr",
       "text": [
        "[2015-04-05 15:53:46,428] Hotel name: Residence Inn Boston Back Bay / Fenway\n"
       ]
      },
      {
       "output_type": "stream",
       "stream": "stderr",
       "text": [
        "[2015-04-05 15:53:46,428] Hotel name: Residence Inn Boston Back Bay / Fenway\n"
       ]
      },
      {
       "output_type": "stream",
       "stream": "stderr",
       "text": [
        "INFO:scrape_solution:Hotel name: Residence Inn Boston Back Bay / Fenway\n"
       ]
      },
      {
       "output_type": "stream",
       "stream": "stderr",
       "text": [
        "[2015-04-05 15:53:46,439] Stars: 4.5\n"
       ]
      },
      {
       "output_type": "stream",
       "stream": "stderr",
       "text": [
        "[2015-04-05 15:53:46,439] Stars: 4.5\n"
       ]
      },
      {
       "output_type": "stream",
       "stream": "stderr",
       "text": [
        "[2015-04-05 15:53:46,439] Stars: 4.5\n"
       ]
      },
      {
       "output_type": "stream",
       "stream": "stderr",
       "text": [
        "[2015-04-05 15:53:46,439] Stars: 4.5\n"
       ]
      },
      {
       "output_type": "stream",
       "stream": "stderr",
       "text": [
        "[2015-04-05 15:53:46,439] Stars: 4.5\n"
       ]
      },
      {
       "output_type": "stream",
       "stream": "stderr",
       "text": [
        "[2015-04-05 15:53:46,439] Stars: 4.5\n"
       ]
      },
      {
       "output_type": "stream",
       "stream": "stderr",
       "text": [
        "[2015-04-05 15:53:46,439] Stars: 4.5\n"
       ]
      },
      {
       "output_type": "stream",
       "stream": "stderr",
       "text": [
        "[2015-04-05 15:53:46,439] Stars: 4.5\n"
       ]
      },
      {
       "output_type": "stream",
       "stream": "stderr",
       "text": [
        "[2015-04-05 15:53:46,439] Stars: 4.5\n"
       ]
      },
      {
       "output_type": "stream",
       "stream": "stderr",
       "text": [
        "[2015-04-05 15:53:46,439] Stars: 4.5\n"
       ]
      },
      {
       "output_type": "stream",
       "stream": "stderr",
       "text": [
        "[2015-04-05 15:53:46,439] Stars: 4.5\n"
       ]
      },
      {
       "output_type": "stream",
       "stream": "stderr",
       "text": [
        "[2015-04-05 15:53:46,439] Stars: 4.5\n"
       ]
      },
      {
       "output_type": "stream",
       "stream": "stderr",
       "text": [
        "[2015-04-05 15:53:46,439] Stars: 4.5\n"
       ]
      },
      {
       "output_type": "stream",
       "stream": "stderr",
       "text": [
        "[2015-04-05 15:53:46,439] Stars: 4.5\n"
       ]
      },
      {
       "output_type": "stream",
       "stream": "stderr",
       "text": [
        "INFO:scrape_solution:Stars: 4.5\n"
       ]
      },
      {
       "output_type": "stream",
       "stream": "stderr",
       "text": [
        "[2015-04-05 15:53:46,452] Number of reviews: 519 reviews \n"
       ]
      },
      {
       "output_type": "stream",
       "stream": "stderr",
       "text": [
        "[2015-04-05 15:53:46,452] Number of reviews: 519 reviews \n"
       ]
      },
      {
       "output_type": "stream",
       "stream": "stderr",
       "text": [
        "[2015-04-05 15:53:46,452] Number of reviews: 519 reviews \n"
       ]
      },
      {
       "output_type": "stream",
       "stream": "stderr",
       "text": [
        "[2015-04-05 15:53:46,452] Number of reviews: 519 reviews \n"
       ]
      },
      {
       "output_type": "stream",
       "stream": "stderr",
       "text": [
        "[2015-04-05 15:53:46,452] Number of reviews: 519 reviews \n"
       ]
      },
      {
       "output_type": "stream",
       "stream": "stderr",
       "text": [
        "[2015-04-05 15:53:46,452] Number of reviews: 519 reviews \n"
       ]
      },
      {
       "output_type": "stream",
       "stream": "stderr",
       "text": [
        "[2015-04-05 15:53:46,452] Number of reviews: 519 reviews \n"
       ]
      },
      {
       "output_type": "stream",
       "stream": "stderr",
       "text": [
        "[2015-04-05 15:53:46,452] Number of reviews: 519 reviews \n"
       ]
      },
      {
       "output_type": "stream",
       "stream": "stderr",
       "text": [
        "[2015-04-05 15:53:46,452] Number of reviews: 519 reviews \n"
       ]
      },
      {
       "output_type": "stream",
       "stream": "stderr",
       "text": [
        "[2015-04-05 15:53:46,452] Number of reviews: 519 reviews \n"
       ]
      },
      {
       "output_type": "stream",
       "stream": "stderr",
       "text": [
        "[2015-04-05 15:53:46,452] Number of reviews: 519 reviews \n"
       ]
      },
      {
       "output_type": "stream",
       "stream": "stderr",
       "text": [
        "[2015-04-05 15:53:46,452] Number of reviews: 519 reviews \n"
       ]
      },
      {
       "output_type": "stream",
       "stream": "stderr",
       "text": [
        "[2015-04-05 15:53:46,452] Number of reviews: 519 reviews \n"
       ]
      },
      {
       "output_type": "stream",
       "stream": "stderr",
       "text": [
        "[2015-04-05 15:53:46,452] Number of reviews: 519 reviews \n"
       ]
      },
      {
       "output_type": "stream",
       "stream": "stderr",
       "text": [
        "INFO:scrape_solution:Number of reviews: 519 reviews \n"
       ]
      },
      {
       "output_type": "stream",
       "stream": "stderr",
       "text": [
        "[2015-04-05 15:53:46,465] Hotel name: Marriott's Custom House\n"
       ]
      },
      {
       "output_type": "stream",
       "stream": "stderr",
       "text": [
        "[2015-04-05 15:53:46,465] Hotel name: Marriott's Custom House\n"
       ]
      },
      {
       "output_type": "stream",
       "stream": "stderr",
       "text": [
        "[2015-04-05 15:53:46,465] Hotel name: Marriott's Custom House\n"
       ]
      },
      {
       "output_type": "stream",
       "stream": "stderr",
       "text": [
        "[2015-04-05 15:53:46,465] Hotel name: Marriott's Custom House\n"
       ]
      },
      {
       "output_type": "stream",
       "stream": "stderr",
       "text": [
        "[2015-04-05 15:53:46,465] Hotel name: Marriott's Custom House\n"
       ]
      },
      {
       "output_type": "stream",
       "stream": "stderr",
       "text": [
        "[2015-04-05 15:53:46,465] Hotel name: Marriott's Custom House\n"
       ]
      },
      {
       "output_type": "stream",
       "stream": "stderr",
       "text": [
        "[2015-04-05 15:53:46,465] Hotel name: Marriott's Custom House\n"
       ]
      },
      {
       "output_type": "stream",
       "stream": "stderr",
       "text": [
        "[2015-04-05 15:53:46,465] Hotel name: Marriott's Custom House\n"
       ]
      },
      {
       "output_type": "stream",
       "stream": "stderr",
       "text": [
        "[2015-04-05 15:53:46,465] Hotel name: Marriott's Custom House\n"
       ]
      },
      {
       "output_type": "stream",
       "stream": "stderr",
       "text": [
        "[2015-04-05 15:53:46,465] Hotel name: Marriott's Custom House\n"
       ]
      },
      {
       "output_type": "stream",
       "stream": "stderr",
       "text": [
        "[2015-04-05 15:53:46,465] Hotel name: Marriott's Custom House\n"
       ]
      },
      {
       "output_type": "stream",
       "stream": "stderr",
       "text": [
        "[2015-04-05 15:53:46,465] Hotel name: Marriott's Custom House\n"
       ]
      },
      {
       "output_type": "stream",
       "stream": "stderr",
       "text": [
        "[2015-04-05 15:53:46,465] Hotel name: Marriott's Custom House\n"
       ]
      },
      {
       "output_type": "stream",
       "stream": "stderr",
       "text": [
        "[2015-04-05 15:53:46,465] Hotel name: Marriott's Custom House\n"
       ]
      },
      {
       "output_type": "stream",
       "stream": "stderr",
       "text": [
        "INFO:scrape_solution:Hotel name: Marriott's Custom House\n"
       ]
      },
      {
       "output_type": "stream",
       "stream": "stderr",
       "text": [
        "[2015-04-05 15:53:46,482] Stars: 4.5\n"
       ]
      },
      {
       "output_type": "stream",
       "stream": "stderr",
       "text": [
        "[2015-04-05 15:53:46,482] Stars: 4.5\n"
       ]
      },
      {
       "output_type": "stream",
       "stream": "stderr",
       "text": [
        "[2015-04-05 15:53:46,482] Stars: 4.5\n"
       ]
      },
      {
       "output_type": "stream",
       "stream": "stderr",
       "text": [
        "[2015-04-05 15:53:46,482] Stars: 4.5\n"
       ]
      },
      {
       "output_type": "stream",
       "stream": "stderr",
       "text": [
        "[2015-04-05 15:53:46,482] Stars: 4.5\n"
       ]
      },
      {
       "output_type": "stream",
       "stream": "stderr",
       "text": [
        "[2015-04-05 15:53:46,482] Stars: 4.5\n"
       ]
      },
      {
       "output_type": "stream",
       "stream": "stderr",
       "text": [
        "[2015-04-05 15:53:46,482] Stars: 4.5\n"
       ]
      },
      {
       "output_type": "stream",
       "stream": "stderr",
       "text": [
        "[2015-04-05 15:53:46,482] Stars: 4.5\n"
       ]
      },
      {
       "output_type": "stream",
       "stream": "stderr",
       "text": [
        "[2015-04-05 15:53:46,482] Stars: 4.5\n"
       ]
      },
      {
       "output_type": "stream",
       "stream": "stderr",
       "text": [
        "[2015-04-05 15:53:46,482] Stars: 4.5\n"
       ]
      },
      {
       "output_type": "stream",
       "stream": "stderr",
       "text": [
        "[2015-04-05 15:53:46,482] Stars: 4.5\n"
       ]
      },
      {
       "output_type": "stream",
       "stream": "stderr",
       "text": [
        "[2015-04-05 15:53:46,482] Stars: 4.5\n"
       ]
      },
      {
       "output_type": "stream",
       "stream": "stderr",
       "text": [
        "[2015-04-05 15:53:46,482] Stars: 4.5\n"
       ]
      },
      {
       "output_type": "stream",
       "stream": "stderr",
       "text": [
        "[2015-04-05 15:53:46,482] Stars: 4.5\n"
       ]
      },
      {
       "output_type": "stream",
       "stream": "stderr",
       "text": [
        "INFO:scrape_solution:Stars: 4.5\n"
       ]
      },
      {
       "output_type": "stream",
       "stream": "stderr",
       "text": [
        "[2015-04-05 15:53:46,499] Number of reviews: 562 reviews \n"
       ]
      },
      {
       "output_type": "stream",
       "stream": "stderr",
       "text": [
        "[2015-04-05 15:53:46,499] Number of reviews: 562 reviews \n"
       ]
      },
      {
       "output_type": "stream",
       "stream": "stderr",
       "text": [
        "[2015-04-05 15:53:46,499] Number of reviews: 562 reviews \n"
       ]
      },
      {
       "output_type": "stream",
       "stream": "stderr",
       "text": [
        "[2015-04-05 15:53:46,499] Number of reviews: 562 reviews \n"
       ]
      },
      {
       "output_type": "stream",
       "stream": "stderr",
       "text": [
        "[2015-04-05 15:53:46,499] Number of reviews: 562 reviews \n"
       ]
      },
      {
       "output_type": "stream",
       "stream": "stderr",
       "text": [
        "[2015-04-05 15:53:46,499] Number of reviews: 562 reviews \n"
       ]
      },
      {
       "output_type": "stream",
       "stream": "stderr",
       "text": [
        "[2015-04-05 15:53:46,499] Number of reviews: 562 reviews \n"
       ]
      },
      {
       "output_type": "stream",
       "stream": "stderr",
       "text": [
        "[2015-04-05 15:53:46,499] Number of reviews: 562 reviews \n"
       ]
      },
      {
       "output_type": "stream",
       "stream": "stderr",
       "text": [
        "[2015-04-05 15:53:46,499] Number of reviews: 562 reviews \n"
       ]
      },
      {
       "output_type": "stream",
       "stream": "stderr",
       "text": [
        "[2015-04-05 15:53:46,499] Number of reviews: 562 reviews \n"
       ]
      },
      {
       "output_type": "stream",
       "stream": "stderr",
       "text": [
        "[2015-04-05 15:53:46,499] Number of reviews: 562 reviews \n"
       ]
      },
      {
       "output_type": "stream",
       "stream": "stderr",
       "text": [
        "[2015-04-05 15:53:46,499] Number of reviews: 562 reviews \n"
       ]
      },
      {
       "output_type": "stream",
       "stream": "stderr",
       "text": [
        "[2015-04-05 15:53:46,499] Number of reviews: 562 reviews \n"
       ]
      },
      {
       "output_type": "stream",
       "stream": "stderr",
       "text": [
        "[2015-04-05 15:53:46,499] Number of reviews: 562 reviews \n"
       ]
      },
      {
       "output_type": "stream",
       "stream": "stderr",
       "text": [
        "INFO:scrape_solution:Number of reviews: 562 reviews \n"
       ]
      },
      {
       "output_type": "stream",
       "stream": "stderr",
       "text": [
        "[2015-04-05 15:53:46,509] Hotel name: Harborside Inn\n"
       ]
      },
      {
       "output_type": "stream",
       "stream": "stderr",
       "text": [
        "[2015-04-05 15:53:46,509] Hotel name: Harborside Inn\n"
       ]
      },
      {
       "output_type": "stream",
       "stream": "stderr",
       "text": [
        "[2015-04-05 15:53:46,509] Hotel name: Harborside Inn\n"
       ]
      },
      {
       "output_type": "stream",
       "stream": "stderr",
       "text": [
        "[2015-04-05 15:53:46,509] Hotel name: Harborside Inn\n"
       ]
      },
      {
       "output_type": "stream",
       "stream": "stderr",
       "text": [
        "[2015-04-05 15:53:46,509] Hotel name: Harborside Inn\n"
       ]
      },
      {
       "output_type": "stream",
       "stream": "stderr",
       "text": [
        "[2015-04-05 15:53:46,509] Hotel name: Harborside Inn\n"
       ]
      },
      {
       "output_type": "stream",
       "stream": "stderr",
       "text": [
        "[2015-04-05 15:53:46,509] Hotel name: Harborside Inn\n"
       ]
      },
      {
       "output_type": "stream",
       "stream": "stderr",
       "text": [
        "[2015-04-05 15:53:46,509] Hotel name: Harborside Inn\n"
       ]
      },
      {
       "output_type": "stream",
       "stream": "stderr",
       "text": [
        "[2015-04-05 15:53:46,509] Hotel name: Harborside Inn\n"
       ]
      },
      {
       "output_type": "stream",
       "stream": "stderr",
       "text": [
        "[2015-04-05 15:53:46,509] Hotel name: Harborside Inn\n"
       ]
      },
      {
       "output_type": "stream",
       "stream": "stderr",
       "text": [
        "[2015-04-05 15:53:46,509] Hotel name: Harborside Inn\n"
       ]
      },
      {
       "output_type": "stream",
       "stream": "stderr",
       "text": [
        "[2015-04-05 15:53:46,509] Hotel name: Harborside Inn\n"
       ]
      },
      {
       "output_type": "stream",
       "stream": "stderr",
       "text": [
        "[2015-04-05 15:53:46,509] Hotel name: Harborside Inn\n"
       ]
      },
      {
       "output_type": "stream",
       "stream": "stderr",
       "text": [
        "[2015-04-05 15:53:46,509] Hotel name: Harborside Inn\n"
       ]
      },
      {
       "output_type": "stream",
       "stream": "stderr",
       "text": [
        "INFO:scrape_solution:Hotel name: Harborside Inn\n"
       ]
      },
      {
       "output_type": "stream",
       "stream": "stderr",
       "text": [
        "[2015-04-05 15:53:46,519] Stars: 4\n"
       ]
      },
      {
       "output_type": "stream",
       "stream": "stderr",
       "text": [
        "[2015-04-05 15:53:46,519] Stars: 4\n"
       ]
      },
      {
       "output_type": "stream",
       "stream": "stderr",
       "text": [
        "[2015-04-05 15:53:46,519] Stars: 4\n"
       ]
      },
      {
       "output_type": "stream",
       "stream": "stderr",
       "text": [
        "[2015-04-05 15:53:46,519] Stars: 4\n"
       ]
      },
      {
       "output_type": "stream",
       "stream": "stderr",
       "text": [
        "[2015-04-05 15:53:46,519] Stars: 4\n"
       ]
      },
      {
       "output_type": "stream",
       "stream": "stderr",
       "text": [
        "[2015-04-05 15:53:46,519] Stars: 4\n"
       ]
      },
      {
       "output_type": "stream",
       "stream": "stderr",
       "text": [
        "[2015-04-05 15:53:46,519] Stars: 4\n"
       ]
      },
      {
       "output_type": "stream",
       "stream": "stderr",
       "text": [
        "[2015-04-05 15:53:46,519] Stars: 4\n"
       ]
      },
      {
       "output_type": "stream",
       "stream": "stderr",
       "text": [
        "[2015-04-05 15:53:46,519] Stars: 4\n"
       ]
      },
      {
       "output_type": "stream",
       "stream": "stderr",
       "text": [
        "[2015-04-05 15:53:46,519] Stars: 4\n"
       ]
      },
      {
       "output_type": "stream",
       "stream": "stderr",
       "text": [
        "[2015-04-05 15:53:46,519] Stars: 4\n"
       ]
      },
      {
       "output_type": "stream",
       "stream": "stderr",
       "text": [
        "[2015-04-05 15:53:46,519] Stars: 4\n"
       ]
      },
      {
       "output_type": "stream",
       "stream": "stderr",
       "text": [
        "[2015-04-05 15:53:46,519] Stars: 4\n"
       ]
      },
      {
       "output_type": "stream",
       "stream": "stderr",
       "text": [
        "[2015-04-05 15:53:46,519] Stars: 4\n"
       ]
      },
      {
       "output_type": "stream",
       "stream": "stderr",
       "text": [
        "INFO:scrape_solution:Stars: 4\n"
       ]
      },
      {
       "output_type": "stream",
       "stream": "stderr",
       "text": [
        "[2015-04-05 15:53:46,531] Number of reviews: 1,034 reviews \n"
       ]
      },
      {
       "output_type": "stream",
       "stream": "stderr",
       "text": [
        "[2015-04-05 15:53:46,531] Number of reviews: 1,034 reviews \n"
       ]
      },
      {
       "output_type": "stream",
       "stream": "stderr",
       "text": [
        "[2015-04-05 15:53:46,531] Number of reviews: 1,034 reviews \n"
       ]
      },
      {
       "output_type": "stream",
       "stream": "stderr",
       "text": [
        "[2015-04-05 15:53:46,531] Number of reviews: 1,034 reviews \n"
       ]
      },
      {
       "output_type": "stream",
       "stream": "stderr",
       "text": [
        "[2015-04-05 15:53:46,531] Number of reviews: 1,034 reviews \n"
       ]
      },
      {
       "output_type": "stream",
       "stream": "stderr",
       "text": [
        "[2015-04-05 15:53:46,531] Number of reviews: 1,034 reviews \n"
       ]
      },
      {
       "output_type": "stream",
       "stream": "stderr",
       "text": [
        "[2015-04-05 15:53:46,531] Number of reviews: 1,034 reviews \n"
       ]
      },
      {
       "output_type": "stream",
       "stream": "stderr",
       "text": [
        "[2015-04-05 15:53:46,531] Number of reviews: 1,034 reviews \n"
       ]
      },
      {
       "output_type": "stream",
       "stream": "stderr",
       "text": [
        "[2015-04-05 15:53:46,531] Number of reviews: 1,034 reviews \n"
       ]
      },
      {
       "output_type": "stream",
       "stream": "stderr",
       "text": [
        "[2015-04-05 15:53:46,531] Number of reviews: 1,034 reviews \n"
       ]
      },
      {
       "output_type": "stream",
       "stream": "stderr",
       "text": [
        "[2015-04-05 15:53:46,531] Number of reviews: 1,034 reviews \n"
       ]
      },
      {
       "output_type": "stream",
       "stream": "stderr",
       "text": [
        "[2015-04-05 15:53:46,531] Number of reviews: 1,034 reviews \n"
       ]
      },
      {
       "output_type": "stream",
       "stream": "stderr",
       "text": [
        "[2015-04-05 15:53:46,531] Number of reviews: 1,034 reviews \n"
       ]
      },
      {
       "output_type": "stream",
       "stream": "stderr",
       "text": [
        "[2015-04-05 15:53:46,531] Number of reviews: 1,034 reviews \n"
       ]
      },
      {
       "output_type": "stream",
       "stream": "stderr",
       "text": [
        "INFO:scrape_solution:Number of reviews: 1,034 reviews \n"
       ]
      },
      {
       "output_type": "stream",
       "stream": "stderr",
       "text": [
        "[2015-04-05 15:53:46,541] Hotel name: The Midtown Hotel\n"
       ]
      },
      {
       "output_type": "stream",
       "stream": "stderr",
       "text": [
        "[2015-04-05 15:53:46,541] Hotel name: The Midtown Hotel\n"
       ]
      },
      {
       "output_type": "stream",
       "stream": "stderr",
       "text": [
        "[2015-04-05 15:53:46,541] Hotel name: The Midtown Hotel\n"
       ]
      },
      {
       "output_type": "stream",
       "stream": "stderr",
       "text": [
        "[2015-04-05 15:53:46,541] Hotel name: The Midtown Hotel\n"
       ]
      },
      {
       "output_type": "stream",
       "stream": "stderr",
       "text": [
        "[2015-04-05 15:53:46,541] Hotel name: The Midtown Hotel\n"
       ]
      },
      {
       "output_type": "stream",
       "stream": "stderr",
       "text": [
        "[2015-04-05 15:53:46,541] Hotel name: The Midtown Hotel\n"
       ]
      },
      {
       "output_type": "stream",
       "stream": "stderr",
       "text": [
        "[2015-04-05 15:53:46,541] Hotel name: The Midtown Hotel\n"
       ]
      },
      {
       "output_type": "stream",
       "stream": "stderr",
       "text": [
        "[2015-04-05 15:53:46,541] Hotel name: The Midtown Hotel\n"
       ]
      },
      {
       "output_type": "stream",
       "stream": "stderr",
       "text": [
        "[2015-04-05 15:53:46,541] Hotel name: The Midtown Hotel\n"
       ]
      },
      {
       "output_type": "stream",
       "stream": "stderr",
       "text": [
        "[2015-04-05 15:53:46,541] Hotel name: The Midtown Hotel\n"
       ]
      },
      {
       "output_type": "stream",
       "stream": "stderr",
       "text": [
        "[2015-04-05 15:53:46,541] Hotel name: The Midtown Hotel\n"
       ]
      },
      {
       "output_type": "stream",
       "stream": "stderr",
       "text": [
        "[2015-04-05 15:53:46,541] Hotel name: The Midtown Hotel\n"
       ]
      },
      {
       "output_type": "stream",
       "stream": "stderr",
       "text": [
        "[2015-04-05 15:53:46,541] Hotel name: The Midtown Hotel\n"
       ]
      },
      {
       "output_type": "stream",
       "stream": "stderr",
       "text": [
        "[2015-04-05 15:53:46,541] Hotel name: The Midtown Hotel\n"
       ]
      },
      {
       "output_type": "stream",
       "stream": "stderr",
       "text": [
        "INFO:scrape_solution:Hotel name: The Midtown Hotel\n"
       ]
      },
      {
       "output_type": "stream",
       "stream": "stderr",
       "text": [
        "[2015-04-05 15:53:46,552] Stars: 3.5\n"
       ]
      },
      {
       "output_type": "stream",
       "stream": "stderr",
       "text": [
        "[2015-04-05 15:53:46,552] Stars: 3.5\n"
       ]
      },
      {
       "output_type": "stream",
       "stream": "stderr",
       "text": [
        "[2015-04-05 15:53:46,552] Stars: 3.5\n"
       ]
      },
      {
       "output_type": "stream",
       "stream": "stderr",
       "text": [
        "[2015-04-05 15:53:46,552] Stars: 3.5\n"
       ]
      },
      {
       "output_type": "stream",
       "stream": "stderr",
       "text": [
        "[2015-04-05 15:53:46,552] Stars: 3.5\n"
       ]
      },
      {
       "output_type": "stream",
       "stream": "stderr",
       "text": [
        "[2015-04-05 15:53:46,552] Stars: 3.5\n"
       ]
      },
      {
       "output_type": "stream",
       "stream": "stderr",
       "text": [
        "[2015-04-05 15:53:46,552] Stars: 3.5\n"
       ]
      },
      {
       "output_type": "stream",
       "stream": "stderr",
       "text": [
        "[2015-04-05 15:53:46,552] Stars: 3.5\n"
       ]
      },
      {
       "output_type": "stream",
       "stream": "stderr",
       "text": [
        "[2015-04-05 15:53:46,552] Stars: 3.5\n"
       ]
      },
      {
       "output_type": "stream",
       "stream": "stderr",
       "text": [
        "[2015-04-05 15:53:46,552] Stars: 3.5\n"
       ]
      },
      {
       "output_type": "stream",
       "stream": "stderr",
       "text": [
        "[2015-04-05 15:53:46,552] Stars: 3.5\n"
       ]
      },
      {
       "output_type": "stream",
       "stream": "stderr",
       "text": [
        "[2015-04-05 15:53:46,552] Stars: 3.5\n"
       ]
      },
      {
       "output_type": "stream",
       "stream": "stderr",
       "text": [
        "[2015-04-05 15:53:46,552] Stars: 3.5\n"
       ]
      },
      {
       "output_type": "stream",
       "stream": "stderr",
       "text": [
        "[2015-04-05 15:53:46,552] Stars: 3.5\n"
       ]
      },
      {
       "output_type": "stream",
       "stream": "stderr",
       "text": [
        "INFO:scrape_solution:Stars: 3.5\n"
       ]
      },
      {
       "output_type": "stream",
       "stream": "stderr",
       "text": [
        "[2015-04-05 15:53:46,567] Number of reviews: 1,380 reviews \n"
       ]
      },
      {
       "output_type": "stream",
       "stream": "stderr",
       "text": [
        "[2015-04-05 15:53:46,567] Number of reviews: 1,380 reviews \n"
       ]
      },
      {
       "output_type": "stream",
       "stream": "stderr",
       "text": [
        "[2015-04-05 15:53:46,567] Number of reviews: 1,380 reviews \n"
       ]
      },
      {
       "output_type": "stream",
       "stream": "stderr",
       "text": [
        "[2015-04-05 15:53:46,567] Number of reviews: 1,380 reviews \n"
       ]
      },
      {
       "output_type": "stream",
       "stream": "stderr",
       "text": [
        "[2015-04-05 15:53:46,567] Number of reviews: 1,380 reviews \n"
       ]
      },
      {
       "output_type": "stream",
       "stream": "stderr",
       "text": [
        "[2015-04-05 15:53:46,567] Number of reviews: 1,380 reviews \n"
       ]
      },
      {
       "output_type": "stream",
       "stream": "stderr",
       "text": [
        "[2015-04-05 15:53:46,567] Number of reviews: 1,380 reviews \n"
       ]
      },
      {
       "output_type": "stream",
       "stream": "stderr",
       "text": [
        "[2015-04-05 15:53:46,567] Number of reviews: 1,380 reviews \n"
       ]
      },
      {
       "output_type": "stream",
       "stream": "stderr",
       "text": [
        "[2015-04-05 15:53:46,567] Number of reviews: 1,380 reviews \n"
       ]
      },
      {
       "output_type": "stream",
       "stream": "stderr",
       "text": [
        "[2015-04-05 15:53:46,567] Number of reviews: 1,380 reviews \n"
       ]
      },
      {
       "output_type": "stream",
       "stream": "stderr",
       "text": [
        "[2015-04-05 15:53:46,567] Number of reviews: 1,380 reviews \n"
       ]
      },
      {
       "output_type": "stream",
       "stream": "stderr",
       "text": [
        "[2015-04-05 15:53:46,567] Number of reviews: 1,380 reviews \n"
       ]
      },
      {
       "output_type": "stream",
       "stream": "stderr",
       "text": [
        "[2015-04-05 15:53:46,567] Number of reviews: 1,380 reviews \n"
       ]
      },
      {
       "output_type": "stream",
       "stream": "stderr",
       "text": [
        "[2015-04-05 15:53:46,567] Number of reviews: 1,380 reviews \n"
       ]
      },
      {
       "output_type": "stream",
       "stream": "stderr",
       "text": [
        "INFO:scrape_solution:Number of reviews: 1,380 reviews \n"
       ]
      },
      {
       "output_type": "stream",
       "stream": "stderr",
       "text": [
        "[2015-04-05 15:53:46,583] Hotel name: Holiday Inn Express Boston\n"
       ]
      },
      {
       "output_type": "stream",
       "stream": "stderr",
       "text": [
        "[2015-04-05 15:53:46,583] Hotel name: Holiday Inn Express Boston\n"
       ]
      },
      {
       "output_type": "stream",
       "stream": "stderr",
       "text": [
        "[2015-04-05 15:53:46,583] Hotel name: Holiday Inn Express Boston\n"
       ]
      },
      {
       "output_type": "stream",
       "stream": "stderr",
       "text": [
        "[2015-04-05 15:53:46,583] Hotel name: Holiday Inn Express Boston\n"
       ]
      },
      {
       "output_type": "stream",
       "stream": "stderr",
       "text": [
        "[2015-04-05 15:53:46,583] Hotel name: Holiday Inn Express Boston\n"
       ]
      },
      {
       "output_type": "stream",
       "stream": "stderr",
       "text": [
        "[2015-04-05 15:53:46,583] Hotel name: Holiday Inn Express Boston\n"
       ]
      },
      {
       "output_type": "stream",
       "stream": "stderr",
       "text": [
        "[2015-04-05 15:53:46,583] Hotel name: Holiday Inn Express Boston\n"
       ]
      },
      {
       "output_type": "stream",
       "stream": "stderr",
       "text": [
        "[2015-04-05 15:53:46,583] Hotel name: Holiday Inn Express Boston\n"
       ]
      },
      {
       "output_type": "stream",
       "stream": "stderr",
       "text": [
        "[2015-04-05 15:53:46,583] Hotel name: Holiday Inn Express Boston\n"
       ]
      },
      {
       "output_type": "stream",
       "stream": "stderr",
       "text": [
        "[2015-04-05 15:53:46,583] Hotel name: Holiday Inn Express Boston\n"
       ]
      },
      {
       "output_type": "stream",
       "stream": "stderr",
       "text": [
        "[2015-04-05 15:53:46,583] Hotel name: Holiday Inn Express Boston\n"
       ]
      },
      {
       "output_type": "stream",
       "stream": "stderr",
       "text": [
        "[2015-04-05 15:53:46,583] Hotel name: Holiday Inn Express Boston\n"
       ]
      },
      {
       "output_type": "stream",
       "stream": "stderr",
       "text": [
        "[2015-04-05 15:53:46,583] Hotel name: Holiday Inn Express Boston\n"
       ]
      },
      {
       "output_type": "stream",
       "stream": "stderr",
       "text": [
        "[2015-04-05 15:53:46,583] Hotel name: Holiday Inn Express Boston\n"
       ]
      },
      {
       "output_type": "stream",
       "stream": "stderr",
       "text": [
        "INFO:scrape_solution:Hotel name: Holiday Inn Express Boston\n"
       ]
      },
      {
       "output_type": "stream",
       "stream": "stderr",
       "text": [
        "[2015-04-05 15:53:46,615] Stars: 4\n"
       ]
      },
      {
       "output_type": "stream",
       "stream": "stderr",
       "text": [
        "[2015-04-05 15:53:46,615] Stars: 4\n"
       ]
      },
      {
       "output_type": "stream",
       "stream": "stderr",
       "text": [
        "[2015-04-05 15:53:46,615] Stars: 4\n"
       ]
      },
      {
       "output_type": "stream",
       "stream": "stderr",
       "text": [
        "[2015-04-05 15:53:46,615] Stars: 4\n"
       ]
      },
      {
       "output_type": "stream",
       "stream": "stderr",
       "text": [
        "[2015-04-05 15:53:46,615] Stars: 4\n"
       ]
      },
      {
       "output_type": "stream",
       "stream": "stderr",
       "text": [
        "[2015-04-05 15:53:46,615] Stars: 4\n"
       ]
      },
      {
       "output_type": "stream",
       "stream": "stderr",
       "text": [
        "[2015-04-05 15:53:46,615] Stars: 4\n"
       ]
      },
      {
       "output_type": "stream",
       "stream": "stderr",
       "text": [
        "[2015-04-05 15:53:46,615] Stars: 4\n"
       ]
      },
      {
       "output_type": "stream",
       "stream": "stderr",
       "text": [
        "[2015-04-05 15:53:46,615] Stars: 4\n"
       ]
      },
      {
       "output_type": "stream",
       "stream": "stderr",
       "text": [
        "[2015-04-05 15:53:46,615] Stars: 4\n"
       ]
      },
      {
       "output_type": "stream",
       "stream": "stderr",
       "text": [
        "[2015-04-05 15:53:46,615] Stars: 4\n"
       ]
      },
      {
       "output_type": "stream",
       "stream": "stderr",
       "text": [
        "[2015-04-05 15:53:46,615] Stars: 4\n"
       ]
      },
      {
       "output_type": "stream",
       "stream": "stderr",
       "text": [
        "[2015-04-05 15:53:46,615] Stars: 4\n"
       ]
      },
      {
       "output_type": "stream",
       "stream": "stderr",
       "text": [
        "[2015-04-05 15:53:46,615] Stars: 4\n"
       ]
      },
      {
       "output_type": "stream",
       "stream": "stderr",
       "text": [
        "INFO:scrape_solution:Stars: 4\n"
       ]
      },
      {
       "output_type": "stream",
       "stream": "stderr",
       "text": [
        "[2015-04-05 15:53:46,635] Number of reviews: 536 reviews \n"
       ]
      },
      {
       "output_type": "stream",
       "stream": "stderr",
       "text": [
        "[2015-04-05 15:53:46,635] Number of reviews: 536 reviews \n"
       ]
      },
      {
       "output_type": "stream",
       "stream": "stderr",
       "text": [
        "[2015-04-05 15:53:46,635] Number of reviews: 536 reviews \n"
       ]
      },
      {
       "output_type": "stream",
       "stream": "stderr",
       "text": [
        "[2015-04-05 15:53:46,635] Number of reviews: 536 reviews \n"
       ]
      },
      {
       "output_type": "stream",
       "stream": "stderr",
       "text": [
        "[2015-04-05 15:53:46,635] Number of reviews: 536 reviews \n"
       ]
      },
      {
       "output_type": "stream",
       "stream": "stderr",
       "text": [
        "[2015-04-05 15:53:46,635] Number of reviews: 536 reviews \n"
       ]
      },
      {
       "output_type": "stream",
       "stream": "stderr",
       "text": [
        "[2015-04-05 15:53:46,635] Number of reviews: 536 reviews \n"
       ]
      },
      {
       "output_type": "stream",
       "stream": "stderr",
       "text": [
        "[2015-04-05 15:53:46,635] Number of reviews: 536 reviews \n"
       ]
      },
      {
       "output_type": "stream",
       "stream": "stderr",
       "text": [
        "[2015-04-05 15:53:46,635] Number of reviews: 536 reviews \n"
       ]
      },
      {
       "output_type": "stream",
       "stream": "stderr",
       "text": [
        "[2015-04-05 15:53:46,635] Number of reviews: 536 reviews \n"
       ]
      },
      {
       "output_type": "stream",
       "stream": "stderr",
       "text": [
        "[2015-04-05 15:53:46,635] Number of reviews: 536 reviews \n"
       ]
      },
      {
       "output_type": "stream",
       "stream": "stderr",
       "text": [
        "[2015-04-05 15:53:46,635] Number of reviews: 536 reviews \n"
       ]
      },
      {
       "output_type": "stream",
       "stream": "stderr",
       "text": [
        "[2015-04-05 15:53:46,635] Number of reviews: 536 reviews \n"
       ]
      },
      {
       "output_type": "stream",
       "stream": "stderr",
       "text": [
        "[2015-04-05 15:53:46,635] Number of reviews: 536 reviews \n"
       ]
      },
      {
       "output_type": "stream",
       "stream": "stderr",
       "text": [
        "INFO:scrape_solution:Number of reviews: 536 reviews \n"
       ]
      },
      {
       "output_type": "stream",
       "stream": "stderr",
       "text": [
        "[2015-04-05 15:53:46,788] Hotel name: Omni Parker House\n"
       ]
      },
      {
       "output_type": "stream",
       "stream": "stderr",
       "text": [
        "[2015-04-05 15:53:46,788] Hotel name: Omni Parker House\n"
       ]
      },
      {
       "output_type": "stream",
       "stream": "stderr",
       "text": [
        "[2015-04-05 15:53:46,788] Hotel name: Omni Parker House\n"
       ]
      },
      {
       "output_type": "stream",
       "stream": "stderr",
       "text": [
        "[2015-04-05 15:53:46,788] Hotel name: Omni Parker House\n"
       ]
      },
      {
       "output_type": "stream",
       "stream": "stderr",
       "text": [
        "[2015-04-05 15:53:46,788] Hotel name: Omni Parker House\n"
       ]
      },
      {
       "output_type": "stream",
       "stream": "stderr",
       "text": [
        "[2015-04-05 15:53:46,788] Hotel name: Omni Parker House\n"
       ]
      },
      {
       "output_type": "stream",
       "stream": "stderr",
       "text": [
        "[2015-04-05 15:53:46,788] Hotel name: Omni Parker House\n"
       ]
      },
      {
       "output_type": "stream",
       "stream": "stderr",
       "text": [
        "[2015-04-05 15:53:46,788] Hotel name: Omni Parker House\n"
       ]
      },
      {
       "output_type": "stream",
       "stream": "stderr",
       "text": [
        "[2015-04-05 15:53:46,788] Hotel name: Omni Parker House\n"
       ]
      },
      {
       "output_type": "stream",
       "stream": "stderr",
       "text": [
        "[2015-04-05 15:53:46,788] Hotel name: Omni Parker House\n"
       ]
      },
      {
       "output_type": "stream",
       "stream": "stderr",
       "text": [
        "[2015-04-05 15:53:46,788] Hotel name: Omni Parker House\n"
       ]
      },
      {
       "output_type": "stream",
       "stream": "stderr",
       "text": [
        "[2015-04-05 15:53:46,788] Hotel name: Omni Parker House\n"
       ]
      },
      {
       "output_type": "stream",
       "stream": "stderr",
       "text": [
        "[2015-04-05 15:53:46,788] Hotel name: Omni Parker House\n"
       ]
      },
      {
       "output_type": "stream",
       "stream": "stderr",
       "text": [
        "[2015-04-05 15:53:46,788] Hotel name: Omni Parker House\n"
       ]
      },
      {
       "output_type": "stream",
       "stream": "stderr",
       "text": [
        "INFO:scrape_solution:Hotel name: Omni Parker House\n"
       ]
      },
      {
       "output_type": "stream",
       "stream": "stderr",
       "text": [
        "[2015-04-05 15:53:46,799] Stars: 4\n"
       ]
      },
      {
       "output_type": "stream",
       "stream": "stderr",
       "text": [
        "[2015-04-05 15:53:46,799] Stars: 4\n"
       ]
      },
      {
       "output_type": "stream",
       "stream": "stderr",
       "text": [
        "[2015-04-05 15:53:46,799] Stars: 4\n"
       ]
      },
      {
       "output_type": "stream",
       "stream": "stderr",
       "text": [
        "[2015-04-05 15:53:46,799] Stars: 4\n"
       ]
      },
      {
       "output_type": "stream",
       "stream": "stderr",
       "text": [
        "[2015-04-05 15:53:46,799] Stars: 4\n"
       ]
      },
      {
       "output_type": "stream",
       "stream": "stderr",
       "text": [
        "[2015-04-05 15:53:46,799] Stars: 4\n"
       ]
      },
      {
       "output_type": "stream",
       "stream": "stderr",
       "text": [
        "[2015-04-05 15:53:46,799] Stars: 4\n"
       ]
      },
      {
       "output_type": "stream",
       "stream": "stderr",
       "text": [
        "[2015-04-05 15:53:46,799] Stars: 4\n"
       ]
      },
      {
       "output_type": "stream",
       "stream": "stderr",
       "text": [
        "[2015-04-05 15:53:46,799] Stars: 4\n"
       ]
      },
      {
       "output_type": "stream",
       "stream": "stderr",
       "text": [
        "[2015-04-05 15:53:46,799] Stars: 4\n"
       ]
      },
      {
       "output_type": "stream",
       "stream": "stderr",
       "text": [
        "[2015-04-05 15:53:46,799] Stars: 4\n"
       ]
      },
      {
       "output_type": "stream",
       "stream": "stderr",
       "text": [
        "[2015-04-05 15:53:46,799] Stars: 4\n"
       ]
      },
      {
       "output_type": "stream",
       "stream": "stderr",
       "text": [
        "[2015-04-05 15:53:46,799] Stars: 4\n"
       ]
      },
      {
       "output_type": "stream",
       "stream": "stderr",
       "text": [
        "[2015-04-05 15:53:46,799] Stars: 4\n"
       ]
      },
      {
       "output_type": "stream",
       "stream": "stderr",
       "text": [
        "INFO:scrape_solution:Stars: 4\n"
       ]
      },
      {
       "output_type": "stream",
       "stream": "stderr",
       "text": [
        "[2015-04-05 15:53:46,821] Number of reviews: 4,461 reviews \n"
       ]
      },
      {
       "output_type": "stream",
       "stream": "stderr",
       "text": [
        "[2015-04-05 15:53:46,821] Number of reviews: 4,461 reviews \n"
       ]
      },
      {
       "output_type": "stream",
       "stream": "stderr",
       "text": [
        "[2015-04-05 15:53:46,821] Number of reviews: 4,461 reviews \n"
       ]
      },
      {
       "output_type": "stream",
       "stream": "stderr",
       "text": [
        "[2015-04-05 15:53:46,821] Number of reviews: 4,461 reviews \n"
       ]
      },
      {
       "output_type": "stream",
       "stream": "stderr",
       "text": [
        "[2015-04-05 15:53:46,821] Number of reviews: 4,461 reviews \n"
       ]
      },
      {
       "output_type": "stream",
       "stream": "stderr",
       "text": [
        "[2015-04-05 15:53:46,821] Number of reviews: 4,461 reviews \n"
       ]
      },
      {
       "output_type": "stream",
       "stream": "stderr",
       "text": [
        "[2015-04-05 15:53:46,821] Number of reviews: 4,461 reviews \n"
       ]
      },
      {
       "output_type": "stream",
       "stream": "stderr",
       "text": [
        "[2015-04-05 15:53:46,821] Number of reviews: 4,461 reviews \n"
       ]
      },
      {
       "output_type": "stream",
       "stream": "stderr",
       "text": [
        "[2015-04-05 15:53:46,821] Number of reviews: 4,461 reviews \n"
       ]
      },
      {
       "output_type": "stream",
       "stream": "stderr",
       "text": [
        "[2015-04-05 15:53:46,821] Number of reviews: 4,461 reviews \n"
       ]
      },
      {
       "output_type": "stream",
       "stream": "stderr",
       "text": [
        "[2015-04-05 15:53:46,821] Number of reviews: 4,461 reviews \n"
       ]
      },
      {
       "output_type": "stream",
       "stream": "stderr",
       "text": [
        "[2015-04-05 15:53:46,821] Number of reviews: 4,461 reviews \n"
       ]
      },
      {
       "output_type": "stream",
       "stream": "stderr",
       "text": [
        "[2015-04-05 15:53:46,821] Number of reviews: 4,461 reviews \n"
       ]
      },
      {
       "output_type": "stream",
       "stream": "stderr",
       "text": [
        "[2015-04-05 15:53:46,821] Number of reviews: 4,461 reviews \n"
       ]
      },
      {
       "output_type": "stream",
       "stream": "stderr",
       "text": [
        "INFO:scrape_solution:Number of reviews: 4,461 reviews \n"
       ]
      },
      {
       "output_type": "stream",
       "stream": "stderr",
       "text": [
        "[2015-04-05 15:53:46,833] Hotel name: Boston Park Plaza\n"
       ]
      },
      {
       "output_type": "stream",
       "stream": "stderr",
       "text": [
        "[2015-04-05 15:53:46,833] Hotel name: Boston Park Plaza\n"
       ]
      },
      {
       "output_type": "stream",
       "stream": "stderr",
       "text": [
        "[2015-04-05 15:53:46,833] Hotel name: Boston Park Plaza\n"
       ]
      },
      {
       "output_type": "stream",
       "stream": "stderr",
       "text": [
        "[2015-04-05 15:53:46,833] Hotel name: Boston Park Plaza\n"
       ]
      },
      {
       "output_type": "stream",
       "stream": "stderr",
       "text": [
        "[2015-04-05 15:53:46,833] Hotel name: Boston Park Plaza\n"
       ]
      },
      {
       "output_type": "stream",
       "stream": "stderr",
       "text": [
        "[2015-04-05 15:53:46,833] Hotel name: Boston Park Plaza\n"
       ]
      },
      {
       "output_type": "stream",
       "stream": "stderr",
       "text": [
        "[2015-04-05 15:53:46,833] Hotel name: Boston Park Plaza\n"
       ]
      },
      {
       "output_type": "stream",
       "stream": "stderr",
       "text": [
        "[2015-04-05 15:53:46,833] Hotel name: Boston Park Plaza\n"
       ]
      },
      {
       "output_type": "stream",
       "stream": "stderr",
       "text": [
        "[2015-04-05 15:53:46,833] Hotel name: Boston Park Plaza\n"
       ]
      },
      {
       "output_type": "stream",
       "stream": "stderr",
       "text": [
        "[2015-04-05 15:53:46,833] Hotel name: Boston Park Plaza\n"
       ]
      },
      {
       "output_type": "stream",
       "stream": "stderr",
       "text": [
        "[2015-04-05 15:53:46,833] Hotel name: Boston Park Plaza\n"
       ]
      },
      {
       "output_type": "stream",
       "stream": "stderr",
       "text": [
        "[2015-04-05 15:53:46,833] Hotel name: Boston Park Plaza\n"
       ]
      },
      {
       "output_type": "stream",
       "stream": "stderr",
       "text": [
        "[2015-04-05 15:53:46,833] Hotel name: Boston Park Plaza\n"
       ]
      },
      {
       "output_type": "stream",
       "stream": "stderr",
       "text": [
        "[2015-04-05 15:53:46,833] Hotel name: Boston Park Plaza\n"
       ]
      },
      {
       "output_type": "stream",
       "stream": "stderr",
       "text": [
        "INFO:scrape_solution:Hotel name: Boston Park Plaza\n"
       ]
      },
      {
       "output_type": "stream",
       "stream": "stderr",
       "text": [
        "[2015-04-05 15:53:46,851] Stars: 3.5\n"
       ]
      },
      {
       "output_type": "stream",
       "stream": "stderr",
       "text": [
        "[2015-04-05 15:53:46,851] Stars: 3.5\n"
       ]
      },
      {
       "output_type": "stream",
       "stream": "stderr",
       "text": [
        "[2015-04-05 15:53:46,851] Stars: 3.5\n"
       ]
      },
      {
       "output_type": "stream",
       "stream": "stderr",
       "text": [
        "[2015-04-05 15:53:46,851] Stars: 3.5\n"
       ]
      },
      {
       "output_type": "stream",
       "stream": "stderr",
       "text": [
        "[2015-04-05 15:53:46,851] Stars: 3.5\n"
       ]
      },
      {
       "output_type": "stream",
       "stream": "stderr",
       "text": [
        "[2015-04-05 15:53:46,851] Stars: 3.5\n"
       ]
      },
      {
       "output_type": "stream",
       "stream": "stderr",
       "text": [
        "[2015-04-05 15:53:46,851] Stars: 3.5\n"
       ]
      },
      {
       "output_type": "stream",
       "stream": "stderr",
       "text": [
        "[2015-04-05 15:53:46,851] Stars: 3.5\n"
       ]
      },
      {
       "output_type": "stream",
       "stream": "stderr",
       "text": [
        "[2015-04-05 15:53:46,851] Stars: 3.5\n"
       ]
      },
      {
       "output_type": "stream",
       "stream": "stderr",
       "text": [
        "[2015-04-05 15:53:46,851] Stars: 3.5\n"
       ]
      },
      {
       "output_type": "stream",
       "stream": "stderr",
       "text": [
        "[2015-04-05 15:53:46,851] Stars: 3.5\n"
       ]
      },
      {
       "output_type": "stream",
       "stream": "stderr",
       "text": [
        "[2015-04-05 15:53:46,851] Stars: 3.5\n"
       ]
      },
      {
       "output_type": "stream",
       "stream": "stderr",
       "text": [
        "[2015-04-05 15:53:46,851] Stars: 3.5\n"
       ]
      },
      {
       "output_type": "stream",
       "stream": "stderr",
       "text": [
        "[2015-04-05 15:53:46,851] Stars: 3.5\n"
       ]
      },
      {
       "output_type": "stream",
       "stream": "stderr",
       "text": [
        "INFO:scrape_solution:Stars: 3.5\n"
       ]
      },
      {
       "output_type": "stream",
       "stream": "stderr",
       "text": [
        "[2015-04-05 15:53:46,867] Number of reviews: 4,233 reviews \n"
       ]
      },
      {
       "output_type": "stream",
       "stream": "stderr",
       "text": [
        "[2015-04-05 15:53:46,867] Number of reviews: 4,233 reviews \n"
       ]
      },
      {
       "output_type": "stream",
       "stream": "stderr",
       "text": [
        "[2015-04-05 15:53:46,867] Number of reviews: 4,233 reviews \n"
       ]
      },
      {
       "output_type": "stream",
       "stream": "stderr",
       "text": [
        "[2015-04-05 15:53:46,867] Number of reviews: 4,233 reviews \n"
       ]
      },
      {
       "output_type": "stream",
       "stream": "stderr",
       "text": [
        "[2015-04-05 15:53:46,867] Number of reviews: 4,233 reviews \n"
       ]
      },
      {
       "output_type": "stream",
       "stream": "stderr",
       "text": [
        "[2015-04-05 15:53:46,867] Number of reviews: 4,233 reviews \n"
       ]
      },
      {
       "output_type": "stream",
       "stream": "stderr",
       "text": [
        "[2015-04-05 15:53:46,867] Number of reviews: 4,233 reviews \n"
       ]
      },
      {
       "output_type": "stream",
       "stream": "stderr",
       "text": [
        "[2015-04-05 15:53:46,867] Number of reviews: 4,233 reviews \n"
       ]
      },
      {
       "output_type": "stream",
       "stream": "stderr",
       "text": [
        "[2015-04-05 15:53:46,867] Number of reviews: 4,233 reviews \n"
       ]
      },
      {
       "output_type": "stream",
       "stream": "stderr",
       "text": [
        "[2015-04-05 15:53:46,867] Number of reviews: 4,233 reviews \n"
       ]
      },
      {
       "output_type": "stream",
       "stream": "stderr",
       "text": [
        "[2015-04-05 15:53:46,867] Number of reviews: 4,233 reviews \n"
       ]
      },
      {
       "output_type": "stream",
       "stream": "stderr",
       "text": [
        "[2015-04-05 15:53:46,867] Number of reviews: 4,233 reviews \n"
       ]
      },
      {
       "output_type": "stream",
       "stream": "stderr",
       "text": [
        "[2015-04-05 15:53:46,867] Number of reviews: 4,233 reviews \n"
       ]
      },
      {
       "output_type": "stream",
       "stream": "stderr",
       "text": [
        "[2015-04-05 15:53:46,867] Number of reviews: 4,233 reviews \n"
       ]
      },
      {
       "output_type": "stream",
       "stream": "stderr",
       "text": [
        "INFO:scrape_solution:Number of reviews: 4,233 reviews \n"
       ]
      },
      {
       "output_type": "stream",
       "stream": "stderr",
       "text": [
        "[2015-04-05 15:53:46,881] Hotel name: The Liberty Hotel\n"
       ]
      },
      {
       "output_type": "stream",
       "stream": "stderr",
       "text": [
        "[2015-04-05 15:53:46,881] Hotel name: The Liberty Hotel\n"
       ]
      },
      {
       "output_type": "stream",
       "stream": "stderr",
       "text": [
        "[2015-04-05 15:53:46,881] Hotel name: The Liberty Hotel\n"
       ]
      },
      {
       "output_type": "stream",
       "stream": "stderr",
       "text": [
        "[2015-04-05 15:53:46,881] Hotel name: The Liberty Hotel\n"
       ]
      },
      {
       "output_type": "stream",
       "stream": "stderr",
       "text": [
        "[2015-04-05 15:53:46,881] Hotel name: The Liberty Hotel\n"
       ]
      },
      {
       "output_type": "stream",
       "stream": "stderr",
       "text": [
        "[2015-04-05 15:53:46,881] Hotel name: The Liberty Hotel\n"
       ]
      },
      {
       "output_type": "stream",
       "stream": "stderr",
       "text": [
        "[2015-04-05 15:53:46,881] Hotel name: The Liberty Hotel\n"
       ]
      },
      {
       "output_type": "stream",
       "stream": "stderr",
       "text": [
        "[2015-04-05 15:53:46,881] Hotel name: The Liberty Hotel\n"
       ]
      },
      {
       "output_type": "stream",
       "stream": "stderr",
       "text": [
        "[2015-04-05 15:53:46,881] Hotel name: The Liberty Hotel\n"
       ]
      },
      {
       "output_type": "stream",
       "stream": "stderr",
       "text": [
        "[2015-04-05 15:53:46,881] Hotel name: The Liberty Hotel\n"
       ]
      },
      {
       "output_type": "stream",
       "stream": "stderr",
       "text": [
        "[2015-04-05 15:53:46,881] Hotel name: The Liberty Hotel\n"
       ]
      },
      {
       "output_type": "stream",
       "stream": "stderr",
       "text": [
        "[2015-04-05 15:53:46,881] Hotel name: The Liberty Hotel\n"
       ]
      },
      {
       "output_type": "stream",
       "stream": "stderr",
       "text": [
        "[2015-04-05 15:53:46,881] Hotel name: The Liberty Hotel\n"
       ]
      },
      {
       "output_type": "stream",
       "stream": "stderr",
       "text": [
        "[2015-04-05 15:53:46,881] Hotel name: The Liberty Hotel\n"
       ]
      },
      {
       "output_type": "stream",
       "stream": "stderr",
       "text": [
        "INFO:scrape_solution:Hotel name: The Liberty Hotel\n"
       ]
      },
      {
       "output_type": "stream",
       "stream": "stderr",
       "text": [
        "[2015-04-05 15:53:46,899] Stars: 4\n"
       ]
      },
      {
       "output_type": "stream",
       "stream": "stderr",
       "text": [
        "[2015-04-05 15:53:46,899] Stars: 4\n"
       ]
      },
      {
       "output_type": "stream",
       "stream": "stderr",
       "text": [
        "[2015-04-05 15:53:46,899] Stars: 4\n"
       ]
      },
      {
       "output_type": "stream",
       "stream": "stderr",
       "text": [
        "[2015-04-05 15:53:46,899] Stars: 4\n"
       ]
      },
      {
       "output_type": "stream",
       "stream": "stderr",
       "text": [
        "[2015-04-05 15:53:46,899] Stars: 4\n"
       ]
      },
      {
       "output_type": "stream",
       "stream": "stderr",
       "text": [
        "[2015-04-05 15:53:46,899] Stars: 4\n"
       ]
      },
      {
       "output_type": "stream",
       "stream": "stderr",
       "text": [
        "[2015-04-05 15:53:46,899] Stars: 4\n"
       ]
      },
      {
       "output_type": "stream",
       "stream": "stderr",
       "text": [
        "[2015-04-05 15:53:46,899] Stars: 4\n"
       ]
      },
      {
       "output_type": "stream",
       "stream": "stderr",
       "text": [
        "[2015-04-05 15:53:46,899] Stars: 4\n"
       ]
      },
      {
       "output_type": "stream",
       "stream": "stderr",
       "text": [
        "[2015-04-05 15:53:46,899] Stars: 4\n"
       ]
      },
      {
       "output_type": "stream",
       "stream": "stderr",
       "text": [
        "[2015-04-05 15:53:46,899] Stars: 4\n"
       ]
      },
      {
       "output_type": "stream",
       "stream": "stderr",
       "text": [
        "[2015-04-05 15:53:46,899] Stars: 4\n"
       ]
      },
      {
       "output_type": "stream",
       "stream": "stderr",
       "text": [
        "[2015-04-05 15:53:46,899] Stars: 4\n"
       ]
      },
      {
       "output_type": "stream",
       "stream": "stderr",
       "text": [
        "[2015-04-05 15:53:46,899] Stars: 4\n"
       ]
      },
      {
       "output_type": "stream",
       "stream": "stderr",
       "text": [
        "INFO:scrape_solution:Stars: 4\n"
       ]
      },
      {
       "output_type": "stream",
       "stream": "stderr",
       "text": [
        "[2015-04-05 15:53:46,914] Number of reviews: 743 reviews \n"
       ]
      },
      {
       "output_type": "stream",
       "stream": "stderr",
       "text": [
        "[2015-04-05 15:53:46,914] Number of reviews: 743 reviews \n"
       ]
      },
      {
       "output_type": "stream",
       "stream": "stderr",
       "text": [
        "[2015-04-05 15:53:46,914] Number of reviews: 743 reviews \n"
       ]
      },
      {
       "output_type": "stream",
       "stream": "stderr",
       "text": [
        "[2015-04-05 15:53:46,914] Number of reviews: 743 reviews \n"
       ]
      },
      {
       "output_type": "stream",
       "stream": "stderr",
       "text": [
        "[2015-04-05 15:53:46,914] Number of reviews: 743 reviews \n"
       ]
      },
      {
       "output_type": "stream",
       "stream": "stderr",
       "text": [
        "[2015-04-05 15:53:46,914] Number of reviews: 743 reviews \n"
       ]
      },
      {
       "output_type": "stream",
       "stream": "stderr",
       "text": [
        "[2015-04-05 15:53:46,914] Number of reviews: 743 reviews \n"
       ]
      },
      {
       "output_type": "stream",
       "stream": "stderr",
       "text": [
        "[2015-04-05 15:53:46,914] Number of reviews: 743 reviews \n"
       ]
      },
      {
       "output_type": "stream",
       "stream": "stderr",
       "text": [
        "[2015-04-05 15:53:46,914] Number of reviews: 743 reviews \n"
       ]
      },
      {
       "output_type": "stream",
       "stream": "stderr",
       "text": [
        "[2015-04-05 15:53:46,914] Number of reviews: 743 reviews \n"
       ]
      },
      {
       "output_type": "stream",
       "stream": "stderr",
       "text": [
        "[2015-04-05 15:53:46,914] Number of reviews: 743 reviews \n"
       ]
      },
      {
       "output_type": "stream",
       "stream": "stderr",
       "text": [
        "[2015-04-05 15:53:46,914] Number of reviews: 743 reviews \n"
       ]
      },
      {
       "output_type": "stream",
       "stream": "stderr",
       "text": [
        "[2015-04-05 15:53:46,914] Number of reviews: 743 reviews \n"
       ]
      },
      {
       "output_type": "stream",
       "stream": "stderr",
       "text": [
        "[2015-04-05 15:53:46,914] Number of reviews: 743 reviews \n"
       ]
      },
      {
       "output_type": "stream",
       "stream": "stderr",
       "text": [
        "INFO:scrape_solution:Number of reviews: 743 reviews \n"
       ]
      },
      {
       "output_type": "stream",
       "stream": "stderr",
       "text": [
        "[2015-04-05 15:53:46,931] Hotel name: The Verb Hotel\n"
       ]
      },
      {
       "output_type": "stream",
       "stream": "stderr",
       "text": [
        "[2015-04-05 15:53:46,931] Hotel name: The Verb Hotel\n"
       ]
      },
      {
       "output_type": "stream",
       "stream": "stderr",
       "text": [
        "[2015-04-05 15:53:46,931] Hotel name: The Verb Hotel\n"
       ]
      },
      {
       "output_type": "stream",
       "stream": "stderr",
       "text": [
        "[2015-04-05 15:53:46,931] Hotel name: The Verb Hotel\n"
       ]
      },
      {
       "output_type": "stream",
       "stream": "stderr",
       "text": [
        "[2015-04-05 15:53:46,931] Hotel name: The Verb Hotel\n"
       ]
      },
      {
       "output_type": "stream",
       "stream": "stderr",
       "text": [
        "[2015-04-05 15:53:46,931] Hotel name: The Verb Hotel\n"
       ]
      },
      {
       "output_type": "stream",
       "stream": "stderr",
       "text": [
        "[2015-04-05 15:53:46,931] Hotel name: The Verb Hotel\n"
       ]
      },
      {
       "output_type": "stream",
       "stream": "stderr",
       "text": [
        "[2015-04-05 15:53:46,931] Hotel name: The Verb Hotel\n"
       ]
      },
      {
       "output_type": "stream",
       "stream": "stderr",
       "text": [
        "[2015-04-05 15:53:46,931] Hotel name: The Verb Hotel\n"
       ]
      },
      {
       "output_type": "stream",
       "stream": "stderr",
       "text": [
        "[2015-04-05 15:53:46,931] Hotel name: The Verb Hotel\n"
       ]
      },
      {
       "output_type": "stream",
       "stream": "stderr",
       "text": [
        "[2015-04-05 15:53:46,931] Hotel name: The Verb Hotel\n"
       ]
      },
      {
       "output_type": "stream",
       "stream": "stderr",
       "text": [
        "[2015-04-05 15:53:46,931] Hotel name: The Verb Hotel\n"
       ]
      },
      {
       "output_type": "stream",
       "stream": "stderr",
       "text": [
        "[2015-04-05 15:53:46,931] Hotel name: The Verb Hotel\n"
       ]
      },
      {
       "output_type": "stream",
       "stream": "stderr",
       "text": [
        "[2015-04-05 15:53:46,931] Hotel name: The Verb Hotel\n"
       ]
      },
      {
       "output_type": "stream",
       "stream": "stderr",
       "text": [
        "INFO:scrape_solution:Hotel name: The Verb Hotel\n"
       ]
      },
      {
       "output_type": "stream",
       "stream": "stderr",
       "text": [
        "[2015-04-05 15:53:46,949] Stars: 4.5\n"
       ]
      },
      {
       "output_type": "stream",
       "stream": "stderr",
       "text": [
        "[2015-04-05 15:53:46,949] Stars: 4.5\n"
       ]
      },
      {
       "output_type": "stream",
       "stream": "stderr",
       "text": [
        "[2015-04-05 15:53:46,949] Stars: 4.5\n"
       ]
      },
      {
       "output_type": "stream",
       "stream": "stderr",
       "text": [
        "[2015-04-05 15:53:46,949] Stars: 4.5\n"
       ]
      },
      {
       "output_type": "stream",
       "stream": "stderr",
       "text": [
        "[2015-04-05 15:53:46,949] Stars: 4.5\n"
       ]
      },
      {
       "output_type": "stream",
       "stream": "stderr",
       "text": [
        "[2015-04-05 15:53:46,949] Stars: 4.5\n"
       ]
      },
      {
       "output_type": "stream",
       "stream": "stderr",
       "text": [
        "[2015-04-05 15:53:46,949] Stars: 4.5\n"
       ]
      },
      {
       "output_type": "stream",
       "stream": "stderr",
       "text": [
        "[2015-04-05 15:53:46,949] Stars: 4.5\n"
       ]
      },
      {
       "output_type": "stream",
       "stream": "stderr",
       "text": [
        "[2015-04-05 15:53:46,949] Stars: 4.5\n"
       ]
      },
      {
       "output_type": "stream",
       "stream": "stderr",
       "text": [
        "[2015-04-05 15:53:46,949] Stars: 4.5\n"
       ]
      },
      {
       "output_type": "stream",
       "stream": "stderr",
       "text": [
        "[2015-04-05 15:53:46,949] Stars: 4.5\n"
       ]
      },
      {
       "output_type": "stream",
       "stream": "stderr",
       "text": [
        "[2015-04-05 15:53:46,949] Stars: 4.5\n"
       ]
      },
      {
       "output_type": "stream",
       "stream": "stderr",
       "text": [
        "[2015-04-05 15:53:46,949] Stars: 4.5\n"
       ]
      },
      {
       "output_type": "stream",
       "stream": "stderr",
       "text": [
        "[2015-04-05 15:53:46,949] Stars: 4.5\n"
       ]
      },
      {
       "output_type": "stream",
       "stream": "stderr",
       "text": [
        "INFO:scrape_solution:Stars: 4.5\n"
       ]
      },
      {
       "output_type": "stream",
       "stream": "stderr",
       "text": [
        "[2015-04-05 15:53:46,967] Number of reviews: 244 reviews \n"
       ]
      },
      {
       "output_type": "stream",
       "stream": "stderr",
       "text": [
        "[2015-04-05 15:53:46,967] Number of reviews: 244 reviews \n"
       ]
      },
      {
       "output_type": "stream",
       "stream": "stderr",
       "text": [
        "[2015-04-05 15:53:46,967] Number of reviews: 244 reviews \n"
       ]
      },
      {
       "output_type": "stream",
       "stream": "stderr",
       "text": [
        "[2015-04-05 15:53:46,967] Number of reviews: 244 reviews \n"
       ]
      },
      {
       "output_type": "stream",
       "stream": "stderr",
       "text": [
        "[2015-04-05 15:53:46,967] Number of reviews: 244 reviews \n"
       ]
      },
      {
       "output_type": "stream",
       "stream": "stderr",
       "text": [
        "[2015-04-05 15:53:46,967] Number of reviews: 244 reviews \n"
       ]
      },
      {
       "output_type": "stream",
       "stream": "stderr",
       "text": [
        "[2015-04-05 15:53:46,967] Number of reviews: 244 reviews \n"
       ]
      },
      {
       "output_type": "stream",
       "stream": "stderr",
       "text": [
        "[2015-04-05 15:53:46,967] Number of reviews: 244 reviews \n"
       ]
      },
      {
       "output_type": "stream",
       "stream": "stderr",
       "text": [
        "[2015-04-05 15:53:46,967] Number of reviews: 244 reviews \n"
       ]
      },
      {
       "output_type": "stream",
       "stream": "stderr",
       "text": [
        "[2015-04-05 15:53:46,967] Number of reviews: 244 reviews \n"
       ]
      },
      {
       "output_type": "stream",
       "stream": "stderr",
       "text": [
        "[2015-04-05 15:53:46,967] Number of reviews: 244 reviews \n"
       ]
      },
      {
       "output_type": "stream",
       "stream": "stderr",
       "text": [
        "[2015-04-05 15:53:46,967] Number of reviews: 244 reviews \n"
       ]
      },
      {
       "output_type": "stream",
       "stream": "stderr",
       "text": [
        "[2015-04-05 15:53:46,967] Number of reviews: 244 reviews \n"
       ]
      },
      {
       "output_type": "stream",
       "stream": "stderr",
       "text": [
        "[2015-04-05 15:53:46,967] Number of reviews: 244 reviews \n"
       ]
      },
      {
       "output_type": "stream",
       "stream": "stderr",
       "text": [
        "INFO:scrape_solution:Number of reviews: 244 reviews \n"
       ]
      },
      {
       "output_type": "stream",
       "stream": "stderr",
       "text": [
        "[2015-04-05 15:53:46,982] Hotel name: Millennium Bostonian Hotel\n"
       ]
      },
      {
       "output_type": "stream",
       "stream": "stderr",
       "text": [
        "[2015-04-05 15:53:46,982] Hotel name: Millennium Bostonian Hotel\n"
       ]
      },
      {
       "output_type": "stream",
       "stream": "stderr",
       "text": [
        "[2015-04-05 15:53:46,982] Hotel name: Millennium Bostonian Hotel\n"
       ]
      },
      {
       "output_type": "stream",
       "stream": "stderr",
       "text": [
        "[2015-04-05 15:53:46,982] Hotel name: Millennium Bostonian Hotel\n"
       ]
      },
      {
       "output_type": "stream",
       "stream": "stderr",
       "text": [
        "[2015-04-05 15:53:46,982] Hotel name: Millennium Bostonian Hotel\n"
       ]
      },
      {
       "output_type": "stream",
       "stream": "stderr",
       "text": [
        "[2015-04-05 15:53:46,982] Hotel name: Millennium Bostonian Hotel\n"
       ]
      },
      {
       "output_type": "stream",
       "stream": "stderr",
       "text": [
        "[2015-04-05 15:53:46,982] Hotel name: Millennium Bostonian Hotel\n"
       ]
      },
      {
       "output_type": "stream",
       "stream": "stderr",
       "text": [
        "[2015-04-05 15:53:46,982] Hotel name: Millennium Bostonian Hotel\n"
       ]
      },
      {
       "output_type": "stream",
       "stream": "stderr",
       "text": [
        "[2015-04-05 15:53:46,982] Hotel name: Millennium Bostonian Hotel\n"
       ]
      },
      {
       "output_type": "stream",
       "stream": "stderr",
       "text": [
        "[2015-04-05 15:53:46,982] Hotel name: Millennium Bostonian Hotel\n"
       ]
      },
      {
       "output_type": "stream",
       "stream": "stderr",
       "text": [
        "[2015-04-05 15:53:46,982] Hotel name: Millennium Bostonian Hotel\n"
       ]
      },
      {
       "output_type": "stream",
       "stream": "stderr",
       "text": [
        "[2015-04-05 15:53:46,982] Hotel name: Millennium Bostonian Hotel\n"
       ]
      },
      {
       "output_type": "stream",
       "stream": "stderr",
       "text": [
        "[2015-04-05 15:53:46,982] Hotel name: Millennium Bostonian Hotel\n"
       ]
      },
      {
       "output_type": "stream",
       "stream": "stderr",
       "text": [
        "[2015-04-05 15:53:46,982] Hotel name: Millennium Bostonian Hotel\n"
       ]
      },
      {
       "output_type": "stream",
       "stream": "stderr",
       "text": [
        "INFO:scrape_solution:Hotel name: Millennium Bostonian Hotel\n"
       ]
      },
      {
       "output_type": "stream",
       "stream": "stderr",
       "text": [
        "[2015-04-05 15:53:47,000] Stars: 4\n"
       ]
      },
      {
       "output_type": "stream",
       "stream": "stderr",
       "text": [
        "[2015-04-05 15:53:47,000] Stars: 4\n"
       ]
      },
      {
       "output_type": "stream",
       "stream": "stderr",
       "text": [
        "[2015-04-05 15:53:47,000] Stars: 4\n"
       ]
      },
      {
       "output_type": "stream",
       "stream": "stderr",
       "text": [
        "[2015-04-05 15:53:47,000] Stars: 4\n"
       ]
      },
      {
       "output_type": "stream",
       "stream": "stderr",
       "text": [
        "[2015-04-05 15:53:47,000] Stars: 4\n"
       ]
      },
      {
       "output_type": "stream",
       "stream": "stderr",
       "text": [
        "[2015-04-05 15:53:47,000] Stars: 4\n"
       ]
      },
      {
       "output_type": "stream",
       "stream": "stderr",
       "text": [
        "[2015-04-05 15:53:47,000] Stars: 4\n"
       ]
      },
      {
       "output_type": "stream",
       "stream": "stderr",
       "text": [
        "[2015-04-05 15:53:47,000] Stars: 4\n"
       ]
      },
      {
       "output_type": "stream",
       "stream": "stderr",
       "text": [
        "[2015-04-05 15:53:47,000] Stars: 4\n"
       ]
      },
      {
       "output_type": "stream",
       "stream": "stderr",
       "text": [
        "[2015-04-05 15:53:47,000] Stars: 4\n"
       ]
      },
      {
       "output_type": "stream",
       "stream": "stderr",
       "text": [
        "[2015-04-05 15:53:47,000] Stars: 4\n"
       ]
      },
      {
       "output_type": "stream",
       "stream": "stderr",
       "text": [
        "[2015-04-05 15:53:47,000] Stars: 4\n"
       ]
      },
      {
       "output_type": "stream",
       "stream": "stderr",
       "text": [
        "[2015-04-05 15:53:47,000] Stars: 4\n"
       ]
      },
      {
       "output_type": "stream",
       "stream": "stderr",
       "text": [
        "[2015-04-05 15:53:47,000] Stars: 4\n"
       ]
      },
      {
       "output_type": "stream",
       "stream": "stderr",
       "text": [
        "INFO:scrape_solution:Stars: 4\n"
       ]
      },
      {
       "output_type": "stream",
       "stream": "stderr",
       "text": [
        "[2015-04-05 15:53:47,050] Number of reviews: 1,019 reviews \n"
       ]
      },
      {
       "output_type": "stream",
       "stream": "stderr",
       "text": [
        "[2015-04-05 15:53:47,050] Number of reviews: 1,019 reviews \n"
       ]
      },
      {
       "output_type": "stream",
       "stream": "stderr",
       "text": [
        "[2015-04-05 15:53:47,050] Number of reviews: 1,019 reviews \n"
       ]
      },
      {
       "output_type": "stream",
       "stream": "stderr",
       "text": [
        "[2015-04-05 15:53:47,050] Number of reviews: 1,019 reviews \n"
       ]
      },
      {
       "output_type": "stream",
       "stream": "stderr",
       "text": [
        "[2015-04-05 15:53:47,050] Number of reviews: 1,019 reviews \n"
       ]
      },
      {
       "output_type": "stream",
       "stream": "stderr",
       "text": [
        "[2015-04-05 15:53:47,050] Number of reviews: 1,019 reviews \n"
       ]
      },
      {
       "output_type": "stream",
       "stream": "stderr",
       "text": [
        "[2015-04-05 15:53:47,050] Number of reviews: 1,019 reviews \n"
       ]
      },
      {
       "output_type": "stream",
       "stream": "stderr",
       "text": [
        "[2015-04-05 15:53:47,050] Number of reviews: 1,019 reviews \n"
       ]
      },
      {
       "output_type": "stream",
       "stream": "stderr",
       "text": [
        "[2015-04-05 15:53:47,050] Number of reviews: 1,019 reviews \n"
       ]
      },
      {
       "output_type": "stream",
       "stream": "stderr",
       "text": [
        "[2015-04-05 15:53:47,050] Number of reviews: 1,019 reviews \n"
       ]
      },
      {
       "output_type": "stream",
       "stream": "stderr",
       "text": [
        "[2015-04-05 15:53:47,050] Number of reviews: 1,019 reviews \n"
       ]
      },
      {
       "output_type": "stream",
       "stream": "stderr",
       "text": [
        "[2015-04-05 15:53:47,050] Number of reviews: 1,019 reviews \n"
       ]
      },
      {
       "output_type": "stream",
       "stream": "stderr",
       "text": [
        "[2015-04-05 15:53:47,050] Number of reviews: 1,019 reviews \n"
       ]
      },
      {
       "output_type": "stream",
       "stream": "stderr",
       "text": [
        "[2015-04-05 15:53:47,050] Number of reviews: 1,019 reviews \n"
       ]
      },
      {
       "output_type": "stream",
       "stream": "stderr",
       "text": [
        "INFO:scrape_solution:Number of reviews: 1,019 reviews \n"
       ]
      },
      {
       "output_type": "stream",
       "stream": "stderr",
       "text": [
        "[2015-04-05 15:53:47,075] Hotel name: Loews Boston Hotel\n"
       ]
      },
      {
       "output_type": "stream",
       "stream": "stderr",
       "text": [
        "[2015-04-05 15:53:47,075] Hotel name: Loews Boston Hotel\n"
       ]
      },
      {
       "output_type": "stream",
       "stream": "stderr",
       "text": [
        "[2015-04-05 15:53:47,075] Hotel name: Loews Boston Hotel\n"
       ]
      },
      {
       "output_type": "stream",
       "stream": "stderr",
       "text": [
        "[2015-04-05 15:53:47,075] Hotel name: Loews Boston Hotel\n"
       ]
      },
      {
       "output_type": "stream",
       "stream": "stderr",
       "text": [
        "[2015-04-05 15:53:47,075] Hotel name: Loews Boston Hotel\n"
       ]
      },
      {
       "output_type": "stream",
       "stream": "stderr",
       "text": [
        "[2015-04-05 15:53:47,075] Hotel name: Loews Boston Hotel\n"
       ]
      },
      {
       "output_type": "stream",
       "stream": "stderr",
       "text": [
        "[2015-04-05 15:53:47,075] Hotel name: Loews Boston Hotel\n"
       ]
      },
      {
       "output_type": "stream",
       "stream": "stderr",
       "text": [
        "[2015-04-05 15:53:47,075] Hotel name: Loews Boston Hotel\n"
       ]
      },
      {
       "output_type": "stream",
       "stream": "stderr",
       "text": [
        "[2015-04-05 15:53:47,075] Hotel name: Loews Boston Hotel\n"
       ]
      },
      {
       "output_type": "stream",
       "stream": "stderr",
       "text": [
        "[2015-04-05 15:53:47,075] Hotel name: Loews Boston Hotel\n"
       ]
      },
      {
       "output_type": "stream",
       "stream": "stderr",
       "text": [
        "[2015-04-05 15:53:47,075] Hotel name: Loews Boston Hotel\n"
       ]
      },
      {
       "output_type": "stream",
       "stream": "stderr",
       "text": [
        "[2015-04-05 15:53:47,075] Hotel name: Loews Boston Hotel\n"
       ]
      },
      {
       "output_type": "stream",
       "stream": "stderr",
       "text": [
        "[2015-04-05 15:53:47,075] Hotel name: Loews Boston Hotel\n"
       ]
      },
      {
       "output_type": "stream",
       "stream": "stderr",
       "text": [
        "[2015-04-05 15:53:47,075] Hotel name: Loews Boston Hotel\n"
       ]
      },
      {
       "output_type": "stream",
       "stream": "stderr",
       "text": [
        "INFO:scrape_solution:Hotel name: Loews Boston Hotel\n"
       ]
      },
      {
       "output_type": "stream",
       "stream": "stderr",
       "text": [
        "[2015-04-05 15:53:47,111] Stars: 4.5\n"
       ]
      },
      {
       "output_type": "stream",
       "stream": "stderr",
       "text": [
        "[2015-04-05 15:53:47,111] Stars: 4.5\n"
       ]
      },
      {
       "output_type": "stream",
       "stream": "stderr",
       "text": [
        "[2015-04-05 15:53:47,111] Stars: 4.5\n"
       ]
      },
      {
       "output_type": "stream",
       "stream": "stderr",
       "text": [
        "[2015-04-05 15:53:47,111] Stars: 4.5\n"
       ]
      },
      {
       "output_type": "stream",
       "stream": "stderr",
       "text": [
        "[2015-04-05 15:53:47,111] Stars: 4.5\n"
       ]
      },
      {
       "output_type": "stream",
       "stream": "stderr",
       "text": [
        "[2015-04-05 15:53:47,111] Stars: 4.5\n"
       ]
      },
      {
       "output_type": "stream",
       "stream": "stderr",
       "text": [
        "[2015-04-05 15:53:47,111] Stars: 4.5\n"
       ]
      },
      {
       "output_type": "stream",
       "stream": "stderr",
       "text": [
        "[2015-04-05 15:53:47,111] Stars: 4.5\n"
       ]
      },
      {
       "output_type": "stream",
       "stream": "stderr",
       "text": [
        "[2015-04-05 15:53:47,111] Stars: 4.5\n"
       ]
      },
      {
       "output_type": "stream",
       "stream": "stderr",
       "text": [
        "[2015-04-05 15:53:47,111] Stars: 4.5\n"
       ]
      },
      {
       "output_type": "stream",
       "stream": "stderr",
       "text": [
        "[2015-04-05 15:53:47,111] Stars: 4.5\n"
       ]
      },
      {
       "output_type": "stream",
       "stream": "stderr",
       "text": [
        "[2015-04-05 15:53:47,111] Stars: 4.5\n"
       ]
      },
      {
       "output_type": "stream",
       "stream": "stderr",
       "text": [
        "[2015-04-05 15:53:47,111] Stars: 4.5\n"
       ]
      },
      {
       "output_type": "stream",
       "stream": "stderr",
       "text": [
        "[2015-04-05 15:53:47,111] Stars: 4.5\n"
       ]
      },
      {
       "output_type": "stream",
       "stream": "stderr",
       "text": [
        "INFO:scrape_solution:Stars: 4.5\n"
       ]
      },
      {
       "output_type": "stream",
       "stream": "stderr",
       "text": [
        "[2015-04-05 15:53:47,140] Number of reviews: 769 reviews \n"
       ]
      },
      {
       "output_type": "stream",
       "stream": "stderr",
       "text": [
        "[2015-04-05 15:53:47,140] Number of reviews: 769 reviews \n"
       ]
      },
      {
       "output_type": "stream",
       "stream": "stderr",
       "text": [
        "[2015-04-05 15:53:47,140] Number of reviews: 769 reviews \n"
       ]
      },
      {
       "output_type": "stream",
       "stream": "stderr",
       "text": [
        "[2015-04-05 15:53:47,140] Number of reviews: 769 reviews \n"
       ]
      },
      {
       "output_type": "stream",
       "stream": "stderr",
       "text": [
        "[2015-04-05 15:53:47,140] Number of reviews: 769 reviews \n"
       ]
      },
      {
       "output_type": "stream",
       "stream": "stderr",
       "text": [
        "[2015-04-05 15:53:47,140] Number of reviews: 769 reviews \n"
       ]
      },
      {
       "output_type": "stream",
       "stream": "stderr",
       "text": [
        "[2015-04-05 15:53:47,140] Number of reviews: 769 reviews \n"
       ]
      },
      {
       "output_type": "stream",
       "stream": "stderr",
       "text": [
        "[2015-04-05 15:53:47,140] Number of reviews: 769 reviews \n"
       ]
      },
      {
       "output_type": "stream",
       "stream": "stderr",
       "text": [
        "[2015-04-05 15:53:47,140] Number of reviews: 769 reviews \n"
       ]
      },
      {
       "output_type": "stream",
       "stream": "stderr",
       "text": [
        "[2015-04-05 15:53:47,140] Number of reviews: 769 reviews \n"
       ]
      },
      {
       "output_type": "stream",
       "stream": "stderr",
       "text": [
        "[2015-04-05 15:53:47,140] Number of reviews: 769 reviews \n"
       ]
      },
      {
       "output_type": "stream",
       "stream": "stderr",
       "text": [
        "[2015-04-05 15:53:47,140] Number of reviews: 769 reviews \n"
       ]
      },
      {
       "output_type": "stream",
       "stream": "stderr",
       "text": [
        "[2015-04-05 15:53:47,140] Number of reviews: 769 reviews \n"
       ]
      },
      {
       "output_type": "stream",
       "stream": "stderr",
       "text": [
        "[2015-04-05 15:53:47,140] Number of reviews: 769 reviews \n"
       ]
      },
      {
       "output_type": "stream",
       "stream": "stderr",
       "text": [
        "INFO:scrape_solution:Number of reviews: 769 reviews \n"
       ]
      },
      {
       "output_type": "stream",
       "stream": "stderr",
       "text": [
        "[2015-04-05 15:53:47,158] Hotel name: The Fairmont Copley Plaza, Boston\n"
       ]
      },
      {
       "output_type": "stream",
       "stream": "stderr",
       "text": [
        "[2015-04-05 15:53:47,158] Hotel name: The Fairmont Copley Plaza, Boston\n"
       ]
      },
      {
       "output_type": "stream",
       "stream": "stderr",
       "text": [
        "[2015-04-05 15:53:47,158] Hotel name: The Fairmont Copley Plaza, Boston\n"
       ]
      },
      {
       "output_type": "stream",
       "stream": "stderr",
       "text": [
        "[2015-04-05 15:53:47,158] Hotel name: The Fairmont Copley Plaza, Boston\n"
       ]
      },
      {
       "output_type": "stream",
       "stream": "stderr",
       "text": [
        "[2015-04-05 15:53:47,158] Hotel name: The Fairmont Copley Plaza, Boston\n"
       ]
      },
      {
       "output_type": "stream",
       "stream": "stderr",
       "text": [
        "[2015-04-05 15:53:47,158] Hotel name: The Fairmont Copley Plaza, Boston\n"
       ]
      },
      {
       "output_type": "stream",
       "stream": "stderr",
       "text": [
        "[2015-04-05 15:53:47,158] Hotel name: The Fairmont Copley Plaza, Boston\n"
       ]
      },
      {
       "output_type": "stream",
       "stream": "stderr",
       "text": [
        "[2015-04-05 15:53:47,158] Hotel name: The Fairmont Copley Plaza, Boston\n"
       ]
      },
      {
       "output_type": "stream",
       "stream": "stderr",
       "text": [
        "[2015-04-05 15:53:47,158] Hotel name: The Fairmont Copley Plaza, Boston\n"
       ]
      },
      {
       "output_type": "stream",
       "stream": "stderr",
       "text": [
        "[2015-04-05 15:53:47,158] Hotel name: The Fairmont Copley Plaza, Boston\n"
       ]
      },
      {
       "output_type": "stream",
       "stream": "stderr",
       "text": [
        "[2015-04-05 15:53:47,158] Hotel name: The Fairmont Copley Plaza, Boston\n"
       ]
      },
      {
       "output_type": "stream",
       "stream": "stderr",
       "text": [
        "[2015-04-05 15:53:47,158] Hotel name: The Fairmont Copley Plaza, Boston\n"
       ]
      },
      {
       "output_type": "stream",
       "stream": "stderr",
       "text": [
        "[2015-04-05 15:53:47,158] Hotel name: The Fairmont Copley Plaza, Boston\n"
       ]
      },
      {
       "output_type": "stream",
       "stream": "stderr",
       "text": [
        "[2015-04-05 15:53:47,158] Hotel name: The Fairmont Copley Plaza, Boston\n"
       ]
      },
      {
       "output_type": "stream",
       "stream": "stderr",
       "text": [
        "INFO:scrape_solution:Hotel name: The Fairmont Copley Plaza, Boston\n"
       ]
      },
      {
       "output_type": "stream",
       "stream": "stderr",
       "text": [
        "[2015-04-05 15:53:47,182] Stars: 4.5\n"
       ]
      },
      {
       "output_type": "stream",
       "stream": "stderr",
       "text": [
        "[2015-04-05 15:53:47,182] Stars: 4.5\n"
       ]
      },
      {
       "output_type": "stream",
       "stream": "stderr",
       "text": [
        "[2015-04-05 15:53:47,182] Stars: 4.5\n"
       ]
      },
      {
       "output_type": "stream",
       "stream": "stderr",
       "text": [
        "[2015-04-05 15:53:47,182] Stars: 4.5\n"
       ]
      },
      {
       "output_type": "stream",
       "stream": "stderr",
       "text": [
        "[2015-04-05 15:53:47,182] Stars: 4.5\n"
       ]
      },
      {
       "output_type": "stream",
       "stream": "stderr",
       "text": [
        "[2015-04-05 15:53:47,182] Stars: 4.5\n"
       ]
      },
      {
       "output_type": "stream",
       "stream": "stderr",
       "text": [
        "[2015-04-05 15:53:47,182] Stars: 4.5\n"
       ]
      },
      {
       "output_type": "stream",
       "stream": "stderr",
       "text": [
        "[2015-04-05 15:53:47,182] Stars: 4.5\n"
       ]
      },
      {
       "output_type": "stream",
       "stream": "stderr",
       "text": [
        "[2015-04-05 15:53:47,182] Stars: 4.5\n"
       ]
      },
      {
       "output_type": "stream",
       "stream": "stderr",
       "text": [
        "[2015-04-05 15:53:47,182] Stars: 4.5\n"
       ]
      },
      {
       "output_type": "stream",
       "stream": "stderr",
       "text": [
        "[2015-04-05 15:53:47,182] Stars: 4.5\n"
       ]
      },
      {
       "output_type": "stream",
       "stream": "stderr",
       "text": [
        "[2015-04-05 15:53:47,182] Stars: 4.5\n"
       ]
      },
      {
       "output_type": "stream",
       "stream": "stderr",
       "text": [
        "[2015-04-05 15:53:47,182] Stars: 4.5\n"
       ]
      },
      {
       "output_type": "stream",
       "stream": "stderr",
       "text": [
        "[2015-04-05 15:53:47,182] Stars: 4.5\n"
       ]
      },
      {
       "output_type": "stream",
       "stream": "stderr",
       "text": [
        "INFO:scrape_solution:Stars: 4.5\n"
       ]
      },
      {
       "output_type": "stream",
       "stream": "stderr",
       "text": [
        "[2015-04-05 15:53:47,214] Number of reviews: 1,611 reviews \n"
       ]
      },
      {
       "output_type": "stream",
       "stream": "stderr",
       "text": [
        "[2015-04-05 15:53:47,214] Number of reviews: 1,611 reviews \n"
       ]
      },
      {
       "output_type": "stream",
       "stream": "stderr",
       "text": [
        "[2015-04-05 15:53:47,214] Number of reviews: 1,611 reviews \n"
       ]
      },
      {
       "output_type": "stream",
       "stream": "stderr",
       "text": [
        "[2015-04-05 15:53:47,214] Number of reviews: 1,611 reviews \n"
       ]
      },
      {
       "output_type": "stream",
       "stream": "stderr",
       "text": [
        "[2015-04-05 15:53:47,214] Number of reviews: 1,611 reviews \n"
       ]
      },
      {
       "output_type": "stream",
       "stream": "stderr",
       "text": [
        "[2015-04-05 15:53:47,214] Number of reviews: 1,611 reviews \n"
       ]
      },
      {
       "output_type": "stream",
       "stream": "stderr",
       "text": [
        "[2015-04-05 15:53:47,214] Number of reviews: 1,611 reviews \n"
       ]
      },
      {
       "output_type": "stream",
       "stream": "stderr",
       "text": [
        "[2015-04-05 15:53:47,214] Number of reviews: 1,611 reviews \n"
       ]
      },
      {
       "output_type": "stream",
       "stream": "stderr",
       "text": [
        "[2015-04-05 15:53:47,214] Number of reviews: 1,611 reviews \n"
       ]
      },
      {
       "output_type": "stream",
       "stream": "stderr",
       "text": [
        "[2015-04-05 15:53:47,214] Number of reviews: 1,611 reviews \n"
       ]
      },
      {
       "output_type": "stream",
       "stream": "stderr",
       "text": [
        "[2015-04-05 15:53:47,214] Number of reviews: 1,611 reviews \n"
       ]
      },
      {
       "output_type": "stream",
       "stream": "stderr",
       "text": [
        "[2015-04-05 15:53:47,214] Number of reviews: 1,611 reviews \n"
       ]
      },
      {
       "output_type": "stream",
       "stream": "stderr",
       "text": [
        "[2015-04-05 15:53:47,214] Number of reviews: 1,611 reviews \n"
       ]
      },
      {
       "output_type": "stream",
       "stream": "stderr",
       "text": [
        "[2015-04-05 15:53:47,214] Number of reviews: 1,611 reviews \n"
       ]
      },
      {
       "output_type": "stream",
       "stream": "stderr",
       "text": [
        "INFO:scrape_solution:Number of reviews: 1,611 reviews \n"
       ]
      },
      {
       "output_type": "stream",
       "stream": "stderr",
       "text": [
        "[2015-04-05 15:53:47,233] Hotel name: Copley Square Hotel\n"
       ]
      },
      {
       "output_type": "stream",
       "stream": "stderr",
       "text": [
        "[2015-04-05 15:53:47,233] Hotel name: Copley Square Hotel\n"
       ]
      },
      {
       "output_type": "stream",
       "stream": "stderr",
       "text": [
        "[2015-04-05 15:53:47,233] Hotel name: Copley Square Hotel\n"
       ]
      },
      {
       "output_type": "stream",
       "stream": "stderr",
       "text": [
        "[2015-04-05 15:53:47,233] Hotel name: Copley Square Hotel\n"
       ]
      },
      {
       "output_type": "stream",
       "stream": "stderr",
       "text": [
        "[2015-04-05 15:53:47,233] Hotel name: Copley Square Hotel\n"
       ]
      },
      {
       "output_type": "stream",
       "stream": "stderr",
       "text": [
        "[2015-04-05 15:53:47,233] Hotel name: Copley Square Hotel\n"
       ]
      },
      {
       "output_type": "stream",
       "stream": "stderr",
       "text": [
        "[2015-04-05 15:53:47,233] Hotel name: Copley Square Hotel\n"
       ]
      },
      {
       "output_type": "stream",
       "stream": "stderr",
       "text": [
        "[2015-04-05 15:53:47,233] Hotel name: Copley Square Hotel\n"
       ]
      },
      {
       "output_type": "stream",
       "stream": "stderr",
       "text": [
        "[2015-04-05 15:53:47,233] Hotel name: Copley Square Hotel\n"
       ]
      },
      {
       "output_type": "stream",
       "stream": "stderr",
       "text": [
        "[2015-04-05 15:53:47,233] Hotel name: Copley Square Hotel\n"
       ]
      },
      {
       "output_type": "stream",
       "stream": "stderr",
       "text": [
        "[2015-04-05 15:53:47,233] Hotel name: Copley Square Hotel\n"
       ]
      },
      {
       "output_type": "stream",
       "stream": "stderr",
       "text": [
        "[2015-04-05 15:53:47,233] Hotel name: Copley Square Hotel\n"
       ]
      },
      {
       "output_type": "stream",
       "stream": "stderr",
       "text": [
        "[2015-04-05 15:53:47,233] Hotel name: Copley Square Hotel\n"
       ]
      },
      {
       "output_type": "stream",
       "stream": "stderr",
       "text": [
        "[2015-04-05 15:53:47,233] Hotel name: Copley Square Hotel\n"
       ]
      },
      {
       "output_type": "stream",
       "stream": "stderr",
       "text": [
        "INFO:scrape_solution:Hotel name: Copley Square Hotel\n"
       ]
      },
      {
       "output_type": "stream",
       "stream": "stderr",
       "text": [
        "[2015-04-05 15:53:47,253] Stars: 4.5\n"
       ]
      },
      {
       "output_type": "stream",
       "stream": "stderr",
       "text": [
        "[2015-04-05 15:53:47,253] Stars: 4.5\n"
       ]
      },
      {
       "output_type": "stream",
       "stream": "stderr",
       "text": [
        "[2015-04-05 15:53:47,253] Stars: 4.5\n"
       ]
      },
      {
       "output_type": "stream",
       "stream": "stderr",
       "text": [
        "[2015-04-05 15:53:47,253] Stars: 4.5\n"
       ]
      },
      {
       "output_type": "stream",
       "stream": "stderr",
       "text": [
        "[2015-04-05 15:53:47,253] Stars: 4.5\n"
       ]
      },
      {
       "output_type": "stream",
       "stream": "stderr",
       "text": [
        "[2015-04-05 15:53:47,253] Stars: 4.5\n"
       ]
      },
      {
       "output_type": "stream",
       "stream": "stderr",
       "text": [
        "[2015-04-05 15:53:47,253] Stars: 4.5\n"
       ]
      },
      {
       "output_type": "stream",
       "stream": "stderr",
       "text": [
        "[2015-04-05 15:53:47,253] Stars: 4.5\n"
       ]
      },
      {
       "output_type": "stream",
       "stream": "stderr",
       "text": [
        "[2015-04-05 15:53:47,253] Stars: 4.5\n"
       ]
      },
      {
       "output_type": "stream",
       "stream": "stderr",
       "text": [
        "[2015-04-05 15:53:47,253] Stars: 4.5\n"
       ]
      },
      {
       "output_type": "stream",
       "stream": "stderr",
       "text": [
        "[2015-04-05 15:53:47,253] Stars: 4.5\n"
       ]
      },
      {
       "output_type": "stream",
       "stream": "stderr",
       "text": [
        "[2015-04-05 15:53:47,253] Stars: 4.5\n"
       ]
      },
      {
       "output_type": "stream",
       "stream": "stderr",
       "text": [
        "[2015-04-05 15:53:47,253] Stars: 4.5\n"
       ]
      },
      {
       "output_type": "stream",
       "stream": "stderr",
       "text": [
        "[2015-04-05 15:53:47,253] Stars: 4.5\n"
       ]
      },
      {
       "output_type": "stream",
       "stream": "stderr",
       "text": [
        "INFO:scrape_solution:Stars: 4.5\n"
       ]
      },
      {
       "output_type": "stream",
       "stream": "stderr",
       "text": [
        "[2015-04-05 15:53:47,277] Number of reviews: 1,044 reviews \n"
       ]
      },
      {
       "output_type": "stream",
       "stream": "stderr",
       "text": [
        "[2015-04-05 15:53:47,277] Number of reviews: 1,044 reviews \n"
       ]
      },
      {
       "output_type": "stream",
       "stream": "stderr",
       "text": [
        "[2015-04-05 15:53:47,277] Number of reviews: 1,044 reviews \n"
       ]
      },
      {
       "output_type": "stream",
       "stream": "stderr",
       "text": [
        "[2015-04-05 15:53:47,277] Number of reviews: 1,044 reviews \n"
       ]
      },
      {
       "output_type": "stream",
       "stream": "stderr",
       "text": [
        "[2015-04-05 15:53:47,277] Number of reviews: 1,044 reviews \n"
       ]
      },
      {
       "output_type": "stream",
       "stream": "stderr",
       "text": [
        "[2015-04-05 15:53:47,277] Number of reviews: 1,044 reviews \n"
       ]
      },
      {
       "output_type": "stream",
       "stream": "stderr",
       "text": [
        "[2015-04-05 15:53:47,277] Number of reviews: 1,044 reviews \n"
       ]
      },
      {
       "output_type": "stream",
       "stream": "stderr",
       "text": [
        "[2015-04-05 15:53:47,277] Number of reviews: 1,044 reviews \n"
       ]
      },
      {
       "output_type": "stream",
       "stream": "stderr",
       "text": [
        "[2015-04-05 15:53:47,277] Number of reviews: 1,044 reviews \n"
       ]
      },
      {
       "output_type": "stream",
       "stream": "stderr",
       "text": [
        "[2015-04-05 15:53:47,277] Number of reviews: 1,044 reviews \n"
       ]
      },
      {
       "output_type": "stream",
       "stream": "stderr",
       "text": [
        "[2015-04-05 15:53:47,277] Number of reviews: 1,044 reviews \n"
       ]
      },
      {
       "output_type": "stream",
       "stream": "stderr",
       "text": [
        "[2015-04-05 15:53:47,277] Number of reviews: 1,044 reviews \n"
       ]
      },
      {
       "output_type": "stream",
       "stream": "stderr",
       "text": [
        "[2015-04-05 15:53:47,277] Number of reviews: 1,044 reviews \n"
       ]
      },
      {
       "output_type": "stream",
       "stream": "stderr",
       "text": [
        "[2015-04-05 15:53:47,277] Number of reviews: 1,044 reviews \n"
       ]
      },
      {
       "output_type": "stream",
       "stream": "stderr",
       "text": [
        "INFO:scrape_solution:Number of reviews: 1,044 reviews \n"
       ]
      },
      {
       "output_type": "stream",
       "stream": "stderr",
       "text": [
        "[2015-04-05 15:53:47,296] Hotel name: Embassy Suites Boston Logan Airport\n"
       ]
      },
      {
       "output_type": "stream",
       "stream": "stderr",
       "text": [
        "[2015-04-05 15:53:47,296] Hotel name: Embassy Suites Boston Logan Airport\n"
       ]
      },
      {
       "output_type": "stream",
       "stream": "stderr",
       "text": [
        "[2015-04-05 15:53:47,296] Hotel name: Embassy Suites Boston Logan Airport\n"
       ]
      },
      {
       "output_type": "stream",
       "stream": "stderr",
       "text": [
        "[2015-04-05 15:53:47,296] Hotel name: Embassy Suites Boston Logan Airport\n"
       ]
      },
      {
       "output_type": "stream",
       "stream": "stderr",
       "text": [
        "[2015-04-05 15:53:47,296] Hotel name: Embassy Suites Boston Logan Airport\n"
       ]
      },
      {
       "output_type": "stream",
       "stream": "stderr",
       "text": [
        "[2015-04-05 15:53:47,296] Hotel name: Embassy Suites Boston Logan Airport\n"
       ]
      },
      {
       "output_type": "stream",
       "stream": "stderr",
       "text": [
        "[2015-04-05 15:53:47,296] Hotel name: Embassy Suites Boston Logan Airport\n"
       ]
      },
      {
       "output_type": "stream",
       "stream": "stderr",
       "text": [
        "[2015-04-05 15:53:47,296] Hotel name: Embassy Suites Boston Logan Airport\n"
       ]
      },
      {
       "output_type": "stream",
       "stream": "stderr",
       "text": [
        "[2015-04-05 15:53:47,296] Hotel name: Embassy Suites Boston Logan Airport\n"
       ]
      },
      {
       "output_type": "stream",
       "stream": "stderr",
       "text": [
        "[2015-04-05 15:53:47,296] Hotel name: Embassy Suites Boston Logan Airport\n"
       ]
      },
      {
       "output_type": "stream",
       "stream": "stderr",
       "text": [
        "[2015-04-05 15:53:47,296] Hotel name: Embassy Suites Boston Logan Airport\n"
       ]
      },
      {
       "output_type": "stream",
       "stream": "stderr",
       "text": [
        "[2015-04-05 15:53:47,296] Hotel name: Embassy Suites Boston Logan Airport\n"
       ]
      },
      {
       "output_type": "stream",
       "stream": "stderr",
       "text": [
        "[2015-04-05 15:53:47,296] Hotel name: Embassy Suites Boston Logan Airport\n"
       ]
      },
      {
       "output_type": "stream",
       "stream": "stderr",
       "text": [
        "[2015-04-05 15:53:47,296] Hotel name: Embassy Suites Boston Logan Airport\n"
       ]
      },
      {
       "output_type": "stream",
       "stream": "stderr",
       "text": [
        "INFO:scrape_solution:Hotel name: Embassy Suites Boston Logan Airport\n"
       ]
      },
      {
       "output_type": "stream",
       "stream": "stderr",
       "text": [
        "[2015-04-05 15:53:47,316] Stars: 4\n"
       ]
      },
      {
       "output_type": "stream",
       "stream": "stderr",
       "text": [
        "[2015-04-05 15:53:47,316] Stars: 4\n"
       ]
      },
      {
       "output_type": "stream",
       "stream": "stderr",
       "text": [
        "[2015-04-05 15:53:47,316] Stars: 4\n"
       ]
      },
      {
       "output_type": "stream",
       "stream": "stderr",
       "text": [
        "[2015-04-05 15:53:47,316] Stars: 4\n"
       ]
      },
      {
       "output_type": "stream",
       "stream": "stderr",
       "text": [
        "[2015-04-05 15:53:47,316] Stars: 4\n"
       ]
      },
      {
       "output_type": "stream",
       "stream": "stderr",
       "text": [
        "[2015-04-05 15:53:47,316] Stars: 4\n"
       ]
      },
      {
       "output_type": "stream",
       "stream": "stderr",
       "text": [
        "[2015-04-05 15:53:47,316] Stars: 4\n"
       ]
      },
      {
       "output_type": "stream",
       "stream": "stderr",
       "text": [
        "[2015-04-05 15:53:47,316] Stars: 4\n"
       ]
      },
      {
       "output_type": "stream",
       "stream": "stderr",
       "text": [
        "[2015-04-05 15:53:47,316] Stars: 4\n"
       ]
      },
      {
       "output_type": "stream",
       "stream": "stderr",
       "text": [
        "[2015-04-05 15:53:47,316] Stars: 4\n"
       ]
      },
      {
       "output_type": "stream",
       "stream": "stderr",
       "text": [
        "[2015-04-05 15:53:47,316] Stars: 4\n"
       ]
      },
      {
       "output_type": "stream",
       "stream": "stderr",
       "text": [
        "[2015-04-05 15:53:47,316] Stars: 4\n"
       ]
      },
      {
       "output_type": "stream",
       "stream": "stderr",
       "text": [
        "[2015-04-05 15:53:47,316] Stars: 4\n"
       ]
      },
      {
       "output_type": "stream",
       "stream": "stderr",
       "text": [
        "[2015-04-05 15:53:47,316] Stars: 4\n"
       ]
      },
      {
       "output_type": "stream",
       "stream": "stderr",
       "text": [
        "INFO:scrape_solution:Stars: 4\n"
       ]
      },
      {
       "output_type": "stream",
       "stream": "stderr",
       "text": [
        "[2015-04-05 15:53:47,384] Number of reviews: 1,320 reviews \n"
       ]
      },
      {
       "output_type": "stream",
       "stream": "stderr",
       "text": [
        "[2015-04-05 15:53:47,384] Number of reviews: 1,320 reviews \n"
       ]
      },
      {
       "output_type": "stream",
       "stream": "stderr",
       "text": [
        "[2015-04-05 15:53:47,384] Number of reviews: 1,320 reviews \n"
       ]
      },
      {
       "output_type": "stream",
       "stream": "stderr",
       "text": [
        "[2015-04-05 15:53:47,384] Number of reviews: 1,320 reviews \n"
       ]
      },
      {
       "output_type": "stream",
       "stream": "stderr",
       "text": [
        "[2015-04-05 15:53:47,384] Number of reviews: 1,320 reviews \n"
       ]
      },
      {
       "output_type": "stream",
       "stream": "stderr",
       "text": [
        "[2015-04-05 15:53:47,384] Number of reviews: 1,320 reviews \n"
       ]
      },
      {
       "output_type": "stream",
       "stream": "stderr",
       "text": [
        "[2015-04-05 15:53:47,384] Number of reviews: 1,320 reviews \n"
       ]
      },
      {
       "output_type": "stream",
       "stream": "stderr",
       "text": [
        "[2015-04-05 15:53:47,384] Number of reviews: 1,320 reviews \n"
       ]
      },
      {
       "output_type": "stream",
       "stream": "stderr",
       "text": [
        "[2015-04-05 15:53:47,384] Number of reviews: 1,320 reviews \n"
       ]
      },
      {
       "output_type": "stream",
       "stream": "stderr",
       "text": [
        "[2015-04-05 15:53:47,384] Number of reviews: 1,320 reviews \n"
       ]
      },
      {
       "output_type": "stream",
       "stream": "stderr",
       "text": [
        "[2015-04-05 15:53:47,384] Number of reviews: 1,320 reviews \n"
       ]
      },
      {
       "output_type": "stream",
       "stream": "stderr",
       "text": [
        "[2015-04-05 15:53:47,384] Number of reviews: 1,320 reviews \n"
       ]
      },
      {
       "output_type": "stream",
       "stream": "stderr",
       "text": [
        "[2015-04-05 15:53:47,384] Number of reviews: 1,320 reviews \n"
       ]
      },
      {
       "output_type": "stream",
       "stream": "stderr",
       "text": [
        "[2015-04-05 15:53:47,384] Number of reviews: 1,320 reviews \n"
       ]
      },
      {
       "output_type": "stream",
       "stream": "stderr",
       "text": [
        "INFO:scrape_solution:Number of reviews: 1,320 reviews \n"
       ]
      },
      {
       "output_type": "stream",
       "stream": "stderr",
       "text": [
        "[2015-04-05 15:53:47,433] Hotel name: Taj Boston\n"
       ]
      },
      {
       "output_type": "stream",
       "stream": "stderr",
       "text": [
        "[2015-04-05 15:53:47,433] Hotel name: Taj Boston\n"
       ]
      },
      {
       "output_type": "stream",
       "stream": "stderr",
       "text": [
        "[2015-04-05 15:53:47,433] Hotel name: Taj Boston\n"
       ]
      },
      {
       "output_type": "stream",
       "stream": "stderr",
       "text": [
        "[2015-04-05 15:53:47,433] Hotel name: Taj Boston\n"
       ]
      },
      {
       "output_type": "stream",
       "stream": "stderr",
       "text": [
        "[2015-04-05 15:53:47,433] Hotel name: Taj Boston\n"
       ]
      },
      {
       "output_type": "stream",
       "stream": "stderr",
       "text": [
        "[2015-04-05 15:53:47,433] Hotel name: Taj Boston\n"
       ]
      },
      {
       "output_type": "stream",
       "stream": "stderr",
       "text": [
        "[2015-04-05 15:53:47,433] Hotel name: Taj Boston\n"
       ]
      },
      {
       "output_type": "stream",
       "stream": "stderr",
       "text": [
        "[2015-04-05 15:53:47,433] Hotel name: Taj Boston\n"
       ]
      },
      {
       "output_type": "stream",
       "stream": "stderr",
       "text": [
        "[2015-04-05 15:53:47,433] Hotel name: Taj Boston\n"
       ]
      },
      {
       "output_type": "stream",
       "stream": "stderr",
       "text": [
        "[2015-04-05 15:53:47,433] Hotel name: Taj Boston\n"
       ]
      },
      {
       "output_type": "stream",
       "stream": "stderr",
       "text": [
        "[2015-04-05 15:53:47,433] Hotel name: Taj Boston\n"
       ]
      },
      {
       "output_type": "stream",
       "stream": "stderr",
       "text": [
        "[2015-04-05 15:53:47,433] Hotel name: Taj Boston\n"
       ]
      },
      {
       "output_type": "stream",
       "stream": "stderr",
       "text": [
        "[2015-04-05 15:53:47,433] Hotel name: Taj Boston\n"
       ]
      },
      {
       "output_type": "stream",
       "stream": "stderr",
       "text": [
        "[2015-04-05 15:53:47,433] Hotel name: Taj Boston\n"
       ]
      },
      {
       "output_type": "stream",
       "stream": "stderr",
       "text": [
        "INFO:scrape_solution:Hotel name: Taj Boston\n"
       ]
      },
      {
       "output_type": "stream",
       "stream": "stderr",
       "text": [
        "[2015-04-05 15:53:47,475] Stars: 4\n"
       ]
      },
      {
       "output_type": "stream",
       "stream": "stderr",
       "text": [
        "[2015-04-05 15:53:47,475] Stars: 4\n"
       ]
      },
      {
       "output_type": "stream",
       "stream": "stderr",
       "text": [
        "[2015-04-05 15:53:47,475] Stars: 4\n"
       ]
      },
      {
       "output_type": "stream",
       "stream": "stderr",
       "text": [
        "[2015-04-05 15:53:47,475] Stars: 4\n"
       ]
      },
      {
       "output_type": "stream",
       "stream": "stderr",
       "text": [
        "[2015-04-05 15:53:47,475] Stars: 4\n"
       ]
      },
      {
       "output_type": "stream",
       "stream": "stderr",
       "text": [
        "[2015-04-05 15:53:47,475] Stars: 4\n"
       ]
      },
      {
       "output_type": "stream",
       "stream": "stderr",
       "text": [
        "[2015-04-05 15:53:47,475] Stars: 4\n"
       ]
      },
      {
       "output_type": "stream",
       "stream": "stderr",
       "text": [
        "[2015-04-05 15:53:47,475] Stars: 4\n"
       ]
      },
      {
       "output_type": "stream",
       "stream": "stderr",
       "text": [
        "[2015-04-05 15:53:47,475] Stars: 4\n"
       ]
      },
      {
       "output_type": "stream",
       "stream": "stderr",
       "text": [
        "[2015-04-05 15:53:47,475] Stars: 4\n"
       ]
      },
      {
       "output_type": "stream",
       "stream": "stderr",
       "text": [
        "[2015-04-05 15:53:47,475] Stars: 4\n"
       ]
      },
      {
       "output_type": "stream",
       "stream": "stderr",
       "text": [
        "[2015-04-05 15:53:47,475] Stars: 4\n"
       ]
      },
      {
       "output_type": "stream",
       "stream": "stderr",
       "text": [
        "[2015-04-05 15:53:47,475] Stars: 4\n"
       ]
      },
      {
       "output_type": "stream",
       "stream": "stderr",
       "text": [
        "[2015-04-05 15:53:47,475] Stars: 4\n"
       ]
      },
      {
       "output_type": "stream",
       "stream": "stderr",
       "text": [
        "INFO:scrape_solution:Stars: 4\n"
       ]
      },
      {
       "output_type": "stream",
       "stream": "stderr",
       "text": [
        "[2015-04-05 15:53:47,515] Number of reviews: 1,145 reviews \n"
       ]
      },
      {
       "output_type": "stream",
       "stream": "stderr",
       "text": [
        "[2015-04-05 15:53:47,515] Number of reviews: 1,145 reviews \n"
       ]
      },
      {
       "output_type": "stream",
       "stream": "stderr",
       "text": [
        "[2015-04-05 15:53:47,515] Number of reviews: 1,145 reviews \n"
       ]
      },
      {
       "output_type": "stream",
       "stream": "stderr",
       "text": [
        "[2015-04-05 15:53:47,515] Number of reviews: 1,145 reviews \n"
       ]
      },
      {
       "output_type": "stream",
       "stream": "stderr",
       "text": [
        "[2015-04-05 15:53:47,515] Number of reviews: 1,145 reviews \n"
       ]
      },
      {
       "output_type": "stream",
       "stream": "stderr",
       "text": [
        "[2015-04-05 15:53:47,515] Number of reviews: 1,145 reviews \n"
       ]
      },
      {
       "output_type": "stream",
       "stream": "stderr",
       "text": [
        "[2015-04-05 15:53:47,515] Number of reviews: 1,145 reviews \n"
       ]
      },
      {
       "output_type": "stream",
       "stream": "stderr",
       "text": [
        "[2015-04-05 15:53:47,515] Number of reviews: 1,145 reviews \n"
       ]
      },
      {
       "output_type": "stream",
       "stream": "stderr",
       "text": [
        "[2015-04-05 15:53:47,515] Number of reviews: 1,145 reviews \n"
       ]
      },
      {
       "output_type": "stream",
       "stream": "stderr",
       "text": [
        "[2015-04-05 15:53:47,515] Number of reviews: 1,145 reviews \n"
       ]
      },
      {
       "output_type": "stream",
       "stream": "stderr",
       "text": [
        "[2015-04-05 15:53:47,515] Number of reviews: 1,145 reviews \n"
       ]
      },
      {
       "output_type": "stream",
       "stream": "stderr",
       "text": [
        "[2015-04-05 15:53:47,515] Number of reviews: 1,145 reviews \n"
       ]
      },
      {
       "output_type": "stream",
       "stream": "stderr",
       "text": [
        "[2015-04-05 15:53:47,515] Number of reviews: 1,145 reviews \n"
       ]
      },
      {
       "output_type": "stream",
       "stream": "stderr",
       "text": [
        "[2015-04-05 15:53:47,515] Number of reviews: 1,145 reviews \n"
       ]
      },
      {
       "output_type": "stream",
       "stream": "stderr",
       "text": [
        "INFO:scrape_solution:Number of reviews: 1,145 reviews \n"
       ]
      },
      {
       "output_type": "stream",
       "stream": "stdout",
       "text": [
        "(1, u'/Hotels-g60745-Boston_Massachusetts-Hotels.html')\n",
        "(2, u'/Hotels-g60745-oa30-Boston_Massachusetts-Hotels.html#ACCOM_OVERVIEW')"
       ]
      },
      {
       "output_type": "stream",
       "stream": "stderr",
       "text": [
        "[2015-04-05 15:53:54,277] Hotel name: Hyatt Regency Boston\n"
       ]
      },
      {
       "output_type": "stream",
       "stream": "stderr",
       "text": [
        "[2015-04-05 15:53:54,277] Hotel name: Hyatt Regency Boston\n"
       ]
      },
      {
       "output_type": "stream",
       "stream": "stderr",
       "text": [
        "[2015-04-05 15:53:54,277] Hotel name: Hyatt Regency Boston\n"
       ]
      },
      {
       "output_type": "stream",
       "stream": "stderr",
       "text": [
        "[2015-04-05 15:53:54,277] Hotel name: Hyatt Regency Boston\n"
       ]
      },
      {
       "output_type": "stream",
       "stream": "stderr",
       "text": [
        "[2015-04-05 15:53:54,277] Hotel name: Hyatt Regency Boston\n"
       ]
      },
      {
       "output_type": "stream",
       "stream": "stderr",
       "text": [
        "[2015-04-05 15:53:54,277] Hotel name: Hyatt Regency Boston\n"
       ]
      },
      {
       "output_type": "stream",
       "stream": "stderr",
       "text": [
        "[2015-04-05 15:53:54,277] Hotel name: Hyatt Regency Boston\n"
       ]
      },
      {
       "output_type": "stream",
       "stream": "stderr",
       "text": [
        "[2015-04-05 15:53:54,277] Hotel name: Hyatt Regency Boston\n"
       ]
      },
      {
       "output_type": "stream",
       "stream": "stderr",
       "text": [
        "[2015-04-05 15:53:54,277] Hotel name: Hyatt Regency Boston\n"
       ]
      },
      {
       "output_type": "stream",
       "stream": "stderr",
       "text": [
        "[2015-04-05 15:53:54,277] Hotel name: Hyatt Regency Boston\n"
       ]
      },
      {
       "output_type": "stream",
       "stream": "stderr",
       "text": [
        "[2015-04-05 15:53:54,277] Hotel name: Hyatt Regency Boston\n"
       ]
      },
      {
       "output_type": "stream",
       "stream": "stderr",
       "text": [
        "[2015-04-05 15:53:54,277] Hotel name: Hyatt Regency Boston\n"
       ]
      },
      {
       "output_type": "stream",
       "stream": "stderr",
       "text": [
        "[2015-04-05 15:53:54,277] Hotel name: Hyatt Regency Boston\n"
       ]
      },
      {
       "output_type": "stream",
       "stream": "stderr",
       "text": [
        "[2015-04-05 15:53:54,277] Hotel name: Hyatt Regency Boston\n"
       ]
      },
      {
       "output_type": "stream",
       "stream": "stderr",
       "text": [
        "INFO:scrape_solution:Hotel name: Hyatt Regency Boston\n"
       ]
      },
      {
       "output_type": "stream",
       "stream": "stderr",
       "text": [
        "[2015-04-05 15:53:54,286] Stars: 4\n"
       ]
      },
      {
       "output_type": "stream",
       "stream": "stderr",
       "text": [
        "[2015-04-05 15:53:54,286] Stars: 4\n"
       ]
      },
      {
       "output_type": "stream",
       "stream": "stderr",
       "text": [
        "[2015-04-05 15:53:54,286] Stars: 4\n"
       ]
      },
      {
       "output_type": "stream",
       "stream": "stderr",
       "text": [
        "[2015-04-05 15:53:54,286] Stars: 4\n"
       ]
      },
      {
       "output_type": "stream",
       "stream": "stderr",
       "text": [
        "[2015-04-05 15:53:54,286] Stars: 4\n"
       ]
      },
      {
       "output_type": "stream",
       "stream": "stderr",
       "text": [
        "[2015-04-05 15:53:54,286] Stars: 4\n"
       ]
      },
      {
       "output_type": "stream",
       "stream": "stderr",
       "text": [
        "[2015-04-05 15:53:54,286] Stars: 4\n"
       ]
      },
      {
       "output_type": "stream",
       "stream": "stderr",
       "text": [
        "[2015-04-05 15:53:54,286] Stars: 4\n"
       ]
      },
      {
       "output_type": "stream",
       "stream": "stderr",
       "text": [
        "[2015-04-05 15:53:54,286] Stars: 4\n"
       ]
      },
      {
       "output_type": "stream",
       "stream": "stderr",
       "text": [
        "[2015-04-05 15:53:54,286] Stars: 4\n"
       ]
      },
      {
       "output_type": "stream",
       "stream": "stderr",
       "text": [
        "[2015-04-05 15:53:54,286] Stars: 4\n"
       ]
      },
      {
       "output_type": "stream",
       "stream": "stderr",
       "text": [
        "[2015-04-05 15:53:54,286] Stars: 4\n"
       ]
      },
      {
       "output_type": "stream",
       "stream": "stderr",
       "text": [
        "[2015-04-05 15:53:54,286] Stars: 4\n"
       ]
      },
      {
       "output_type": "stream",
       "stream": "stderr",
       "text": [
        "[2015-04-05 15:53:54,286] Stars: 4\n"
       ]
      },
      {
       "output_type": "stream",
       "stream": "stderr",
       "text": [
        "INFO:scrape_solution:Stars: 4\n"
       ]
      },
      {
       "output_type": "stream",
       "stream": "stderr",
       "text": [
        "[2015-04-05 15:53:54,296] Number of reviews: 1,931 reviews \n"
       ]
      },
      {
       "output_type": "stream",
       "stream": "stderr",
       "text": [
        "[2015-04-05 15:53:54,296] Number of reviews: 1,931 reviews \n"
       ]
      },
      {
       "output_type": "stream",
       "stream": "stderr",
       "text": [
        "[2015-04-05 15:53:54,296] Number of reviews: 1,931 reviews \n"
       ]
      },
      {
       "output_type": "stream",
       "stream": "stderr",
       "text": [
        "[2015-04-05 15:53:54,296] Number of reviews: 1,931 reviews \n"
       ]
      },
      {
       "output_type": "stream",
       "stream": "stderr",
       "text": [
        "[2015-04-05 15:53:54,296] Number of reviews: 1,931 reviews \n"
       ]
      },
      {
       "output_type": "stream",
       "stream": "stderr",
       "text": [
        "[2015-04-05 15:53:54,296] Number of reviews: 1,931 reviews \n"
       ]
      },
      {
       "output_type": "stream",
       "stream": "stderr",
       "text": [
        "[2015-04-05 15:53:54,296] Number of reviews: 1,931 reviews \n"
       ]
      },
      {
       "output_type": "stream",
       "stream": "stderr",
       "text": [
        "[2015-04-05 15:53:54,296] Number of reviews: 1,931 reviews \n"
       ]
      },
      {
       "output_type": "stream",
       "stream": "stderr",
       "text": [
        "[2015-04-05 15:53:54,296] Number of reviews: 1,931 reviews \n"
       ]
      },
      {
       "output_type": "stream",
       "stream": "stderr",
       "text": [
        "[2015-04-05 15:53:54,296] Number of reviews: 1,931 reviews \n"
       ]
      },
      {
       "output_type": "stream",
       "stream": "stderr",
       "text": [
        "[2015-04-05 15:53:54,296] Number of reviews: 1,931 reviews \n"
       ]
      },
      {
       "output_type": "stream",
       "stream": "stderr",
       "text": [
        "[2015-04-05 15:53:54,296] Number of reviews: 1,931 reviews \n"
       ]
      },
      {
       "output_type": "stream",
       "stream": "stderr",
       "text": [
        "[2015-04-05 15:53:54,296] Number of reviews: 1,931 reviews \n"
       ]
      },
      {
       "output_type": "stream",
       "stream": "stderr",
       "text": [
        "[2015-04-05 15:53:54,296] Number of reviews: 1,931 reviews \n"
       ]
      },
      {
       "output_type": "stream",
       "stream": "stderr",
       "text": [
        "INFO:scrape_solution:Number of reviews: 1,931 reviews \n"
       ]
      },
      {
       "output_type": "stream",
       "stream": "stderr",
       "text": [
        "[2015-04-05 15:53:54,309] Hotel name: W Boston\n"
       ]
      },
      {
       "output_type": "stream",
       "stream": "stderr",
       "text": [
        "[2015-04-05 15:53:54,309] Hotel name: W Boston\n"
       ]
      },
      {
       "output_type": "stream",
       "stream": "stderr",
       "text": [
        "[2015-04-05 15:53:54,309] Hotel name: W Boston\n"
       ]
      },
      {
       "output_type": "stream",
       "stream": "stderr",
       "text": [
        "[2015-04-05 15:53:54,309] Hotel name: W Boston\n"
       ]
      },
      {
       "output_type": "stream",
       "stream": "stderr",
       "text": [
        "[2015-04-05 15:53:54,309] Hotel name: W Boston\n"
       ]
      },
      {
       "output_type": "stream",
       "stream": "stderr",
       "text": [
        "[2015-04-05 15:53:54,309] Hotel name: W Boston\n"
       ]
      },
      {
       "output_type": "stream",
       "stream": "stderr",
       "text": [
        "[2015-04-05 15:53:54,309] Hotel name: W Boston\n"
       ]
      },
      {
       "output_type": "stream",
       "stream": "stderr",
       "text": [
        "[2015-04-05 15:53:54,309] Hotel name: W Boston\n"
       ]
      },
      {
       "output_type": "stream",
       "stream": "stderr",
       "text": [
        "[2015-04-05 15:53:54,309] Hotel name: W Boston\n"
       ]
      },
      {
       "output_type": "stream",
       "stream": "stderr",
       "text": [
        "[2015-04-05 15:53:54,309] Hotel name: W Boston\n"
       ]
      },
      {
       "output_type": "stream",
       "stream": "stderr",
       "text": [
        "[2015-04-05 15:53:54,309] Hotel name: W Boston\n"
       ]
      },
      {
       "output_type": "stream",
       "stream": "stderr",
       "text": [
        "[2015-04-05 15:53:54,309] Hotel name: W Boston\n"
       ]
      },
      {
       "output_type": "stream",
       "stream": "stderr",
       "text": [
        "[2015-04-05 15:53:54,309] Hotel name: W Boston\n"
       ]
      },
      {
       "output_type": "stream",
       "stream": "stderr",
       "text": [
        "[2015-04-05 15:53:54,309] Hotel name: W Boston\n"
       ]
      },
      {
       "output_type": "stream",
       "stream": "stderr",
       "text": [
        "INFO:scrape_solution:Hotel name: W Boston\n"
       ]
      },
      {
       "output_type": "stream",
       "stream": "stderr",
       "text": [
        "[2015-04-05 15:53:54,317] Stars: 4\n"
       ]
      },
      {
       "output_type": "stream",
       "stream": "stderr",
       "text": [
        "[2015-04-05 15:53:54,317] Stars: 4\n"
       ]
      },
      {
       "output_type": "stream",
       "stream": "stderr",
       "text": [
        "[2015-04-05 15:53:54,317] Stars: 4\n"
       ]
      },
      {
       "output_type": "stream",
       "stream": "stderr",
       "text": [
        "[2015-04-05 15:53:54,317] Stars: 4\n"
       ]
      },
      {
       "output_type": "stream",
       "stream": "stderr",
       "text": [
        "[2015-04-05 15:53:54,317] Stars: 4\n"
       ]
      },
      {
       "output_type": "stream",
       "stream": "stderr",
       "text": [
        "[2015-04-05 15:53:54,317] Stars: 4\n"
       ]
      },
      {
       "output_type": "stream",
       "stream": "stderr",
       "text": [
        "[2015-04-05 15:53:54,317] Stars: 4\n"
       ]
      },
      {
       "output_type": "stream",
       "stream": "stderr",
       "text": [
        "[2015-04-05 15:53:54,317] Stars: 4\n"
       ]
      },
      {
       "output_type": "stream",
       "stream": "stderr",
       "text": [
        "[2015-04-05 15:53:54,317] Stars: 4\n"
       ]
      },
      {
       "output_type": "stream",
       "stream": "stderr",
       "text": [
        "[2015-04-05 15:53:54,317] Stars: 4\n"
       ]
      },
      {
       "output_type": "stream",
       "stream": "stderr",
       "text": [
        "[2015-04-05 15:53:54,317] Stars: 4\n"
       ]
      },
      {
       "output_type": "stream",
       "stream": "stderr",
       "text": [
        "[2015-04-05 15:53:54,317] Stars: 4\n"
       ]
      },
      {
       "output_type": "stream",
       "stream": "stderr",
       "text": [
        "[2015-04-05 15:53:54,317] Stars: 4\n"
       ]
      },
      {
       "output_type": "stream",
       "stream": "stderr",
       "text": [
        "[2015-04-05 15:53:54,317] Stars: 4\n"
       ]
      },
      {
       "output_type": "stream",
       "stream": "stderr",
       "text": [
        "INFO:scrape_solution:Stars: 4\n"
       ]
      },
      {
       "output_type": "stream",
       "stream": "stderr",
       "text": [
        "[2015-04-05 15:53:54,334] Number of reviews: 864 reviews \n"
       ]
      },
      {
       "output_type": "stream",
       "stream": "stderr",
       "text": [
        "[2015-04-05 15:53:54,334] Number of reviews: 864 reviews \n"
       ]
      },
      {
       "output_type": "stream",
       "stream": "stderr",
       "text": [
        "[2015-04-05 15:53:54,334] Number of reviews: 864 reviews \n"
       ]
      },
      {
       "output_type": "stream",
       "stream": "stderr",
       "text": [
        "[2015-04-05 15:53:54,334] Number of reviews: 864 reviews \n"
       ]
      },
      {
       "output_type": "stream",
       "stream": "stderr",
       "text": [
        "[2015-04-05 15:53:54,334] Number of reviews: 864 reviews \n"
       ]
      },
      {
       "output_type": "stream",
       "stream": "stderr",
       "text": [
        "[2015-04-05 15:53:54,334] Number of reviews: 864 reviews \n"
       ]
      },
      {
       "output_type": "stream",
       "stream": "stderr",
       "text": [
        "[2015-04-05 15:53:54,334] Number of reviews: 864 reviews \n"
       ]
      },
      {
       "output_type": "stream",
       "stream": "stderr",
       "text": [
        "[2015-04-05 15:53:54,334] Number of reviews: 864 reviews \n"
       ]
      },
      {
       "output_type": "stream",
       "stream": "stderr",
       "text": [
        "[2015-04-05 15:53:54,334] Number of reviews: 864 reviews \n"
       ]
      },
      {
       "output_type": "stream",
       "stream": "stderr",
       "text": [
        "[2015-04-05 15:53:54,334] Number of reviews: 864 reviews \n"
       ]
      },
      {
       "output_type": "stream",
       "stream": "stderr",
       "text": [
        "[2015-04-05 15:53:54,334] Number of reviews: 864 reviews \n"
       ]
      },
      {
       "output_type": "stream",
       "stream": "stderr",
       "text": [
        "[2015-04-05 15:53:54,334] Number of reviews: 864 reviews \n"
       ]
      },
      {
       "output_type": "stream",
       "stream": "stderr",
       "text": [
        "[2015-04-05 15:53:54,334] Number of reviews: 864 reviews \n"
       ]
      },
      {
       "output_type": "stream",
       "stream": "stderr",
       "text": [
        "[2015-04-05 15:53:54,334] Number of reviews: 864 reviews \n"
       ]
      },
      {
       "output_type": "stream",
       "stream": "stderr",
       "text": [
        "INFO:scrape_solution:Number of reviews: 864 reviews \n"
       ]
      },
      {
       "output_type": "stream",
       "stream": "stderr",
       "text": [
        "[2015-04-05 15:53:54,345] Hotel name: DoubleTree by Hilton Hotel Boston - Downtown\n"
       ]
      },
      {
       "output_type": "stream",
       "stream": "stderr",
       "text": [
        "[2015-04-05 15:53:54,345] Hotel name: DoubleTree by Hilton Hotel Boston - Downtown\n"
       ]
      },
      {
       "output_type": "stream",
       "stream": "stderr",
       "text": [
        "[2015-04-05 15:53:54,345] Hotel name: DoubleTree by Hilton Hotel Boston - Downtown\n"
       ]
      },
      {
       "output_type": "stream",
       "stream": "stderr",
       "text": [
        "[2015-04-05 15:53:54,345] Hotel name: DoubleTree by Hilton Hotel Boston - Downtown\n"
       ]
      },
      {
       "output_type": "stream",
       "stream": "stderr",
       "text": [
        "[2015-04-05 15:53:54,345] Hotel name: DoubleTree by Hilton Hotel Boston - Downtown\n"
       ]
      },
      {
       "output_type": "stream",
       "stream": "stderr",
       "text": [
        "[2015-04-05 15:53:54,345] Hotel name: DoubleTree by Hilton Hotel Boston - Downtown\n"
       ]
      },
      {
       "output_type": "stream",
       "stream": "stderr",
       "text": [
        "[2015-04-05 15:53:54,345] Hotel name: DoubleTree by Hilton Hotel Boston - Downtown\n"
       ]
      },
      {
       "output_type": "stream",
       "stream": "stderr",
       "text": [
        "[2015-04-05 15:53:54,345] Hotel name: DoubleTree by Hilton Hotel Boston - Downtown\n"
       ]
      },
      {
       "output_type": "stream",
       "stream": "stderr",
       "text": [
        "[2015-04-05 15:53:54,345] Hotel name: DoubleTree by Hilton Hotel Boston - Downtown\n"
       ]
      },
      {
       "output_type": "stream",
       "stream": "stderr",
       "text": [
        "[2015-04-05 15:53:54,345] Hotel name: DoubleTree by Hilton Hotel Boston - Downtown\n"
       ]
      },
      {
       "output_type": "stream",
       "stream": "stderr",
       "text": [
        "[2015-04-05 15:53:54,345] Hotel name: DoubleTree by Hilton Hotel Boston - Downtown\n"
       ]
      },
      {
       "output_type": "stream",
       "stream": "stderr",
       "text": [
        "[2015-04-05 15:53:54,345] Hotel name: DoubleTree by Hilton Hotel Boston - Downtown\n"
       ]
      },
      {
       "output_type": "stream",
       "stream": "stderr",
       "text": [
        "[2015-04-05 15:53:54,345] Hotel name: DoubleTree by Hilton Hotel Boston - Downtown\n"
       ]
      },
      {
       "output_type": "stream",
       "stream": "stderr",
       "text": [
        "[2015-04-05 15:53:54,345] Hotel name: DoubleTree by Hilton Hotel Boston - Downtown\n"
       ]
      },
      {
       "output_type": "stream",
       "stream": "stderr",
       "text": [
        "INFO:scrape_solution:Hotel name: DoubleTree by Hilton Hotel Boston - Downtown\n"
       ]
      },
      {
       "output_type": "stream",
       "stream": "stderr",
       "text": [
        "[2015-04-05 15:53:54,356] Stars: 4\n"
       ]
      },
      {
       "output_type": "stream",
       "stream": "stderr",
       "text": [
        "[2015-04-05 15:53:54,356] Stars: 4\n"
       ]
      },
      {
       "output_type": "stream",
       "stream": "stderr",
       "text": [
        "[2015-04-05 15:53:54,356] Stars: 4\n"
       ]
      },
      {
       "output_type": "stream",
       "stream": "stderr",
       "text": [
        "[2015-04-05 15:53:54,356] Stars: 4\n"
       ]
      },
      {
       "output_type": "stream",
       "stream": "stderr",
       "text": [
        "[2015-04-05 15:53:54,356] Stars: 4\n"
       ]
      },
      {
       "output_type": "stream",
       "stream": "stderr",
       "text": [
        "[2015-04-05 15:53:54,356] Stars: 4\n"
       ]
      },
      {
       "output_type": "stream",
       "stream": "stderr",
       "text": [
        "[2015-04-05 15:53:54,356] Stars: 4\n"
       ]
      },
      {
       "output_type": "stream",
       "stream": "stderr",
       "text": [
        "[2015-04-05 15:53:54,356] Stars: 4\n"
       ]
      },
      {
       "output_type": "stream",
       "stream": "stderr",
       "text": [
        "[2015-04-05 15:53:54,356] Stars: 4\n"
       ]
      },
      {
       "output_type": "stream",
       "stream": "stderr",
       "text": [
        "[2015-04-05 15:53:54,356] Stars: 4\n"
       ]
      },
      {
       "output_type": "stream",
       "stream": "stderr",
       "text": [
        "[2015-04-05 15:53:54,356] Stars: 4\n"
       ]
      },
      {
       "output_type": "stream",
       "stream": "stderr",
       "text": [
        "[2015-04-05 15:53:54,356] Stars: 4\n"
       ]
      },
      {
       "output_type": "stream",
       "stream": "stderr",
       "text": [
        "[2015-04-05 15:53:54,356] Stars: 4\n"
       ]
      },
      {
       "output_type": "stream",
       "stream": "stderr",
       "text": [
        "[2015-04-05 15:53:54,356] Stars: 4\n"
       ]
      },
      {
       "output_type": "stream",
       "stream": "stderr",
       "text": [
        "INFO:scrape_solution:Stars: 4\n"
       ]
      },
      {
       "output_type": "stream",
       "stream": "stderr",
       "text": [
        "[2015-04-05 15:53:54,365] Number of reviews: 469 reviews \n"
       ]
      },
      {
       "output_type": "stream",
       "stream": "stderr",
       "text": [
        "[2015-04-05 15:53:54,365] Number of reviews: 469 reviews \n"
       ]
      },
      {
       "output_type": "stream",
       "stream": "stderr",
       "text": [
        "[2015-04-05 15:53:54,365] Number of reviews: 469 reviews \n"
       ]
      },
      {
       "output_type": "stream",
       "stream": "stderr",
       "text": [
        "[2015-04-05 15:53:54,365] Number of reviews: 469 reviews \n"
       ]
      },
      {
       "output_type": "stream",
       "stream": "stderr",
       "text": [
        "[2015-04-05 15:53:54,365] Number of reviews: 469 reviews \n"
       ]
      },
      {
       "output_type": "stream",
       "stream": "stderr",
       "text": [
        "[2015-04-05 15:53:54,365] Number of reviews: 469 reviews \n"
       ]
      },
      {
       "output_type": "stream",
       "stream": "stderr",
       "text": [
        "[2015-04-05 15:53:54,365] Number of reviews: 469 reviews \n"
       ]
      },
      {
       "output_type": "stream",
       "stream": "stderr",
       "text": [
        "[2015-04-05 15:53:54,365] Number of reviews: 469 reviews \n"
       ]
      },
      {
       "output_type": "stream",
       "stream": "stderr",
       "text": [
        "[2015-04-05 15:53:54,365] Number of reviews: 469 reviews \n"
       ]
      },
      {
       "output_type": "stream",
       "stream": "stderr",
       "text": [
        "[2015-04-05 15:53:54,365] Number of reviews: 469 reviews \n"
       ]
      },
      {
       "output_type": "stream",
       "stream": "stderr",
       "text": [
        "[2015-04-05 15:53:54,365] Number of reviews: 469 reviews \n"
       ]
      },
      {
       "output_type": "stream",
       "stream": "stderr",
       "text": [
        "[2015-04-05 15:53:54,365] Number of reviews: 469 reviews \n"
       ]
      },
      {
       "output_type": "stream",
       "stream": "stderr",
       "text": [
        "[2015-04-05 15:53:54,365] Number of reviews: 469 reviews \n"
       ]
      },
      {
       "output_type": "stream",
       "stream": "stderr",
       "text": [
        "[2015-04-05 15:53:54,365] Number of reviews: 469 reviews \n"
       ]
      },
      {
       "output_type": "stream",
       "stream": "stderr",
       "text": [
        "INFO:scrape_solution:Number of reviews: 469 reviews \n"
       ]
      },
      {
       "output_type": "stream",
       "stream": "stderr",
       "text": [
        "[2015-04-05 15:53:54,377] Hotel name: Colonnade Hotel\n"
       ]
      },
      {
       "output_type": "stream",
       "stream": "stderr",
       "text": [
        "[2015-04-05 15:53:54,377] Hotel name: Colonnade Hotel\n"
       ]
      },
      {
       "output_type": "stream",
       "stream": "stderr",
       "text": [
        "[2015-04-05 15:53:54,377] Hotel name: Colonnade Hotel\n"
       ]
      },
      {
       "output_type": "stream",
       "stream": "stderr",
       "text": [
        "[2015-04-05 15:53:54,377] Hotel name: Colonnade Hotel\n"
       ]
      },
      {
       "output_type": "stream",
       "stream": "stderr",
       "text": [
        "[2015-04-05 15:53:54,377] Hotel name: Colonnade Hotel\n"
       ]
      },
      {
       "output_type": "stream",
       "stream": "stderr",
       "text": [
        "[2015-04-05 15:53:54,377] Hotel name: Colonnade Hotel\n"
       ]
      },
      {
       "output_type": "stream",
       "stream": "stderr",
       "text": [
        "[2015-04-05 15:53:54,377] Hotel name: Colonnade Hotel\n"
       ]
      },
      {
       "output_type": "stream",
       "stream": "stderr",
       "text": [
        "[2015-04-05 15:53:54,377] Hotel name: Colonnade Hotel\n"
       ]
      },
      {
       "output_type": "stream",
       "stream": "stderr",
       "text": [
        "[2015-04-05 15:53:54,377] Hotel name: Colonnade Hotel\n"
       ]
      },
      {
       "output_type": "stream",
       "stream": "stderr",
       "text": [
        "[2015-04-05 15:53:54,377] Hotel name: Colonnade Hotel\n"
       ]
      },
      {
       "output_type": "stream",
       "stream": "stderr",
       "text": [
        "[2015-04-05 15:53:54,377] Hotel name: Colonnade Hotel\n"
       ]
      },
      {
       "output_type": "stream",
       "stream": "stderr",
       "text": [
        "[2015-04-05 15:53:54,377] Hotel name: Colonnade Hotel\n"
       ]
      },
      {
       "output_type": "stream",
       "stream": "stderr",
       "text": [
        "[2015-04-05 15:53:54,377] Hotel name: Colonnade Hotel\n"
       ]
      },
      {
       "output_type": "stream",
       "stream": "stderr",
       "text": [
        "[2015-04-05 15:53:54,377] Hotel name: Colonnade Hotel\n"
       ]
      },
      {
       "output_type": "stream",
       "stream": "stderr",
       "text": [
        "INFO:scrape_solution:Hotel name: Colonnade Hotel\n"
       ]
      },
      {
       "output_type": "stream",
       "stream": "stderr",
       "text": [
        "[2015-04-05 15:53:54,394] Stars: 4.5\n"
       ]
      },
      {
       "output_type": "stream",
       "stream": "stderr",
       "text": [
        "[2015-04-05 15:53:54,394] Stars: 4.5\n"
       ]
      },
      {
       "output_type": "stream",
       "stream": "stderr",
       "text": [
        "[2015-04-05 15:53:54,394] Stars: 4.5\n"
       ]
      },
      {
       "output_type": "stream",
       "stream": "stderr",
       "text": [
        "[2015-04-05 15:53:54,394] Stars: 4.5\n"
       ]
      },
      {
       "output_type": "stream",
       "stream": "stderr",
       "text": [
        "[2015-04-05 15:53:54,394] Stars: 4.5\n"
       ]
      },
      {
       "output_type": "stream",
       "stream": "stderr",
       "text": [
        "[2015-04-05 15:53:54,394] Stars: 4.5\n"
       ]
      },
      {
       "output_type": "stream",
       "stream": "stderr",
       "text": [
        "[2015-04-05 15:53:54,394] Stars: 4.5\n"
       ]
      },
      {
       "output_type": "stream",
       "stream": "stderr",
       "text": [
        "[2015-04-05 15:53:54,394] Stars: 4.5\n"
       ]
      },
      {
       "output_type": "stream",
       "stream": "stderr",
       "text": [
        "[2015-04-05 15:53:54,394] Stars: 4.5\n"
       ]
      },
      {
       "output_type": "stream",
       "stream": "stderr",
       "text": [
        "[2015-04-05 15:53:54,394] Stars: 4.5\n"
       ]
      },
      {
       "output_type": "stream",
       "stream": "stderr",
       "text": [
        "[2015-04-05 15:53:54,394] Stars: 4.5\n"
       ]
      },
      {
       "output_type": "stream",
       "stream": "stderr",
       "text": [
        "[2015-04-05 15:53:54,394] Stars: 4.5\n"
       ]
      },
      {
       "output_type": "stream",
       "stream": "stderr",
       "text": [
        "[2015-04-05 15:53:54,394] Stars: 4.5\n"
       ]
      },
      {
       "output_type": "stream",
       "stream": "stderr",
       "text": [
        "[2015-04-05 15:53:54,394] Stars: 4.5\n"
       ]
      },
      {
       "output_type": "stream",
       "stream": "stderr",
       "text": [
        "INFO:scrape_solution:Stars: 4.5\n"
       ]
      },
      {
       "output_type": "stream",
       "stream": "stderr",
       "text": [
        "[2015-04-05 15:53:54,421] Number of reviews: 2,062 reviews \n"
       ]
      },
      {
       "output_type": "stream",
       "stream": "stderr",
       "text": [
        "[2015-04-05 15:53:54,421] Number of reviews: 2,062 reviews \n"
       ]
      },
      {
       "output_type": "stream",
       "stream": "stderr",
       "text": [
        "[2015-04-05 15:53:54,421] Number of reviews: 2,062 reviews \n"
       ]
      },
      {
       "output_type": "stream",
       "stream": "stderr",
       "text": [
        "[2015-04-05 15:53:54,421] Number of reviews: 2,062 reviews \n"
       ]
      },
      {
       "output_type": "stream",
       "stream": "stderr",
       "text": [
        "[2015-04-05 15:53:54,421] Number of reviews: 2,062 reviews \n"
       ]
      },
      {
       "output_type": "stream",
       "stream": "stderr",
       "text": [
        "[2015-04-05 15:53:54,421] Number of reviews: 2,062 reviews \n"
       ]
      },
      {
       "output_type": "stream",
       "stream": "stderr",
       "text": [
        "[2015-04-05 15:53:54,421] Number of reviews: 2,062 reviews \n"
       ]
      },
      {
       "output_type": "stream",
       "stream": "stderr",
       "text": [
        "[2015-04-05 15:53:54,421] Number of reviews: 2,062 reviews \n"
       ]
      },
      {
       "output_type": "stream",
       "stream": "stderr",
       "text": [
        "[2015-04-05 15:53:54,421] Number of reviews: 2,062 reviews \n"
       ]
      },
      {
       "output_type": "stream",
       "stream": "stderr",
       "text": [
        "[2015-04-05 15:53:54,421] Number of reviews: 2,062 reviews \n"
       ]
      },
      {
       "output_type": "stream",
       "stream": "stderr",
       "text": [
        "[2015-04-05 15:53:54,421] Number of reviews: 2,062 reviews \n"
       ]
      },
      {
       "output_type": "stream",
       "stream": "stderr",
       "text": [
        "[2015-04-05 15:53:54,421] Number of reviews: 2,062 reviews \n"
       ]
      },
      {
       "output_type": "stream",
       "stream": "stderr",
       "text": [
        "[2015-04-05 15:53:54,421] Number of reviews: 2,062 reviews \n"
       ]
      },
      {
       "output_type": "stream",
       "stream": "stderr",
       "text": [
        "[2015-04-05 15:53:54,421] Number of reviews: 2,062 reviews \n"
       ]
      },
      {
       "output_type": "stream",
       "stream": "stderr",
       "text": [
        "INFO:scrape_solution:Number of reviews: 2,062 reviews \n"
       ]
      },
      {
       "output_type": "stream",
       "stream": "stderr",
       "text": [
        "[2015-04-05 15:53:54,433] Hotel name: Chandler Inn\n"
       ]
      },
      {
       "output_type": "stream",
       "stream": "stderr",
       "text": [
        "[2015-04-05 15:53:54,433] Hotel name: Chandler Inn\n"
       ]
      },
      {
       "output_type": "stream",
       "stream": "stderr",
       "text": [
        "[2015-04-05 15:53:54,433] Hotel name: Chandler Inn\n"
       ]
      },
      {
       "output_type": "stream",
       "stream": "stderr",
       "text": [
        "[2015-04-05 15:53:54,433] Hotel name: Chandler Inn\n"
       ]
      },
      {
       "output_type": "stream",
       "stream": "stderr",
       "text": [
        "[2015-04-05 15:53:54,433] Hotel name: Chandler Inn\n"
       ]
      },
      {
       "output_type": "stream",
       "stream": "stderr",
       "text": [
        "[2015-04-05 15:53:54,433] Hotel name: Chandler Inn\n"
       ]
      },
      {
       "output_type": "stream",
       "stream": "stderr",
       "text": [
        "[2015-04-05 15:53:54,433] Hotel name: Chandler Inn\n"
       ]
      },
      {
       "output_type": "stream",
       "stream": "stderr",
       "text": [
        "[2015-04-05 15:53:54,433] Hotel name: Chandler Inn\n"
       ]
      },
      {
       "output_type": "stream",
       "stream": "stderr",
       "text": [
        "[2015-04-05 15:53:54,433] Hotel name: Chandler Inn\n"
       ]
      },
      {
       "output_type": "stream",
       "stream": "stderr",
       "text": [
        "[2015-04-05 15:53:54,433] Hotel name: Chandler Inn\n"
       ]
      },
      {
       "output_type": "stream",
       "stream": "stderr",
       "text": [
        "[2015-04-05 15:53:54,433] Hotel name: Chandler Inn\n"
       ]
      },
      {
       "output_type": "stream",
       "stream": "stderr",
       "text": [
        "[2015-04-05 15:53:54,433] Hotel name: Chandler Inn\n"
       ]
      },
      {
       "output_type": "stream",
       "stream": "stderr",
       "text": [
        "[2015-04-05 15:53:54,433] Hotel name: Chandler Inn\n"
       ]
      },
      {
       "output_type": "stream",
       "stream": "stderr",
       "text": [
        "[2015-04-05 15:53:54,433] Hotel name: Chandler Inn\n"
       ]
      },
      {
       "output_type": "stream",
       "stream": "stderr",
       "text": [
        "INFO:scrape_solution:Hotel name: Chandler Inn\n"
       ]
      },
      {
       "output_type": "stream",
       "stream": "stderr",
       "text": [
        "[2015-04-05 15:53:54,450] Stars: 4\n"
       ]
      },
      {
       "output_type": "stream",
       "stream": "stderr",
       "text": [
        "[2015-04-05 15:53:54,450] Stars: 4\n"
       ]
      },
      {
       "output_type": "stream",
       "stream": "stderr",
       "text": [
        "[2015-04-05 15:53:54,450] Stars: 4\n"
       ]
      },
      {
       "output_type": "stream",
       "stream": "stderr",
       "text": [
        "[2015-04-05 15:53:54,450] Stars: 4\n"
       ]
      },
      {
       "output_type": "stream",
       "stream": "stderr",
       "text": [
        "[2015-04-05 15:53:54,450] Stars: 4\n"
       ]
      },
      {
       "output_type": "stream",
       "stream": "stderr",
       "text": [
        "[2015-04-05 15:53:54,450] Stars: 4\n"
       ]
      },
      {
       "output_type": "stream",
       "stream": "stderr",
       "text": [
        "[2015-04-05 15:53:54,450] Stars: 4\n"
       ]
      },
      {
       "output_type": "stream",
       "stream": "stderr",
       "text": [
        "[2015-04-05 15:53:54,450] Stars: 4\n"
       ]
      },
      {
       "output_type": "stream",
       "stream": "stderr",
       "text": [
        "[2015-04-05 15:53:54,450] Stars: 4\n"
       ]
      },
      {
       "output_type": "stream",
       "stream": "stderr",
       "text": [
        "[2015-04-05 15:53:54,450] Stars: 4\n"
       ]
      },
      {
       "output_type": "stream",
       "stream": "stderr",
       "text": [
        "[2015-04-05 15:53:54,450] Stars: 4\n"
       ]
      },
      {
       "output_type": "stream",
       "stream": "stderr",
       "text": [
        "[2015-04-05 15:53:54,450] Stars: 4\n"
       ]
      },
      {
       "output_type": "stream",
       "stream": "stderr",
       "text": [
        "[2015-04-05 15:53:54,450] Stars: 4\n"
       ]
      },
      {
       "output_type": "stream",
       "stream": "stderr",
       "text": [
        "[2015-04-05 15:53:54,450] Stars: 4\n"
       ]
      },
      {
       "output_type": "stream",
       "stream": "stderr",
       "text": [
        "INFO:scrape_solution:Stars: 4\n"
       ]
      },
      {
       "output_type": "stream",
       "stream": "stderr",
       "text": [
        "[2015-04-05 15:53:54,466] Number of reviews: 858 reviews \n"
       ]
      },
      {
       "output_type": "stream",
       "stream": "stderr",
       "text": [
        "[2015-04-05 15:53:54,466] Number of reviews: 858 reviews \n"
       ]
      },
      {
       "output_type": "stream",
       "stream": "stderr",
       "text": [
        "[2015-04-05 15:53:54,466] Number of reviews: 858 reviews \n"
       ]
      },
      {
       "output_type": "stream",
       "stream": "stderr",
       "text": [
        "[2015-04-05 15:53:54,466] Number of reviews: 858 reviews \n"
       ]
      },
      {
       "output_type": "stream",
       "stream": "stderr",
       "text": [
        "[2015-04-05 15:53:54,466] Number of reviews: 858 reviews \n"
       ]
      },
      {
       "output_type": "stream",
       "stream": "stderr",
       "text": [
        "[2015-04-05 15:53:54,466] Number of reviews: 858 reviews \n"
       ]
      },
      {
       "output_type": "stream",
       "stream": "stderr",
       "text": [
        "[2015-04-05 15:53:54,466] Number of reviews: 858 reviews \n"
       ]
      },
      {
       "output_type": "stream",
       "stream": "stderr",
       "text": [
        "[2015-04-05 15:53:54,466] Number of reviews: 858 reviews \n"
       ]
      },
      {
       "output_type": "stream",
       "stream": "stderr",
       "text": [
        "[2015-04-05 15:53:54,466] Number of reviews: 858 reviews \n"
       ]
      },
      {
       "output_type": "stream",
       "stream": "stderr",
       "text": [
        "[2015-04-05 15:53:54,466] Number of reviews: 858 reviews \n"
       ]
      },
      {
       "output_type": "stream",
       "stream": "stderr",
       "text": [
        "[2015-04-05 15:53:54,466] Number of reviews: 858 reviews \n"
       ]
      },
      {
       "output_type": "stream",
       "stream": "stderr",
       "text": [
        "[2015-04-05 15:53:54,466] Number of reviews: 858 reviews \n"
       ]
      },
      {
       "output_type": "stream",
       "stream": "stderr",
       "text": [
        "[2015-04-05 15:53:54,466] Number of reviews: 858 reviews \n"
       ]
      },
      {
       "output_type": "stream",
       "stream": "stderr",
       "text": [
        "[2015-04-05 15:53:54,466] Number of reviews: 858 reviews \n"
       ]
      },
      {
       "output_type": "stream",
       "stream": "stderr",
       "text": [
        "INFO:scrape_solution:Number of reviews: 858 reviews \n"
       ]
      },
      {
       "output_type": "stream",
       "stream": "stderr",
       "text": [
        "[2015-04-05 15:53:54,481] Hotel name: Hotel 140\n"
       ]
      },
      {
       "output_type": "stream",
       "stream": "stderr",
       "text": [
        "[2015-04-05 15:53:54,481] Hotel name: Hotel 140\n"
       ]
      },
      {
       "output_type": "stream",
       "stream": "stderr",
       "text": [
        "[2015-04-05 15:53:54,481] Hotel name: Hotel 140\n"
       ]
      },
      {
       "output_type": "stream",
       "stream": "stderr",
       "text": [
        "[2015-04-05 15:53:54,481] Hotel name: Hotel 140\n"
       ]
      },
      {
       "output_type": "stream",
       "stream": "stderr",
       "text": [
        "[2015-04-05 15:53:54,481] Hotel name: Hotel 140\n"
       ]
      },
      {
       "output_type": "stream",
       "stream": "stderr",
       "text": [
        "[2015-04-05 15:53:54,481] Hotel name: Hotel 140\n"
       ]
      },
      {
       "output_type": "stream",
       "stream": "stderr",
       "text": [
        "[2015-04-05 15:53:54,481] Hotel name: Hotel 140\n"
       ]
      },
      {
       "output_type": "stream",
       "stream": "stderr",
       "text": [
        "[2015-04-05 15:53:54,481] Hotel name: Hotel 140\n"
       ]
      },
      {
       "output_type": "stream",
       "stream": "stderr",
       "text": [
        "[2015-04-05 15:53:54,481] Hotel name: Hotel 140\n"
       ]
      },
      {
       "output_type": "stream",
       "stream": "stderr",
       "text": [
        "[2015-04-05 15:53:54,481] Hotel name: Hotel 140\n"
       ]
      },
      {
       "output_type": "stream",
       "stream": "stderr",
       "text": [
        "[2015-04-05 15:53:54,481] Hotel name: Hotel 140\n"
       ]
      },
      {
       "output_type": "stream",
       "stream": "stderr",
       "text": [
        "[2015-04-05 15:53:54,481] Hotel name: Hotel 140\n"
       ]
      },
      {
       "output_type": "stream",
       "stream": "stderr",
       "text": [
        "[2015-04-05 15:53:54,481] Hotel name: Hotel 140\n"
       ]
      },
      {
       "output_type": "stream",
       "stream": "stderr",
       "text": [
        "[2015-04-05 15:53:54,481] Hotel name: Hotel 140\n"
       ]
      },
      {
       "output_type": "stream",
       "stream": "stderr",
       "text": [
        "INFO:scrape_solution:Hotel name: Hotel 140\n"
       ]
      },
      {
       "output_type": "stream",
       "stream": "stderr",
       "text": [
        "[2015-04-05 15:53:54,493] Stars: 4\n"
       ]
      },
      {
       "output_type": "stream",
       "stream": "stderr",
       "text": [
        "[2015-04-05 15:53:54,493] Stars: 4\n"
       ]
      },
      {
       "output_type": "stream",
       "stream": "stderr",
       "text": [
        "[2015-04-05 15:53:54,493] Stars: 4\n"
       ]
      },
      {
       "output_type": "stream",
       "stream": "stderr",
       "text": [
        "[2015-04-05 15:53:54,493] Stars: 4\n"
       ]
      },
      {
       "output_type": "stream",
       "stream": "stderr",
       "text": [
        "[2015-04-05 15:53:54,493] Stars: 4\n"
       ]
      },
      {
       "output_type": "stream",
       "stream": "stderr",
       "text": [
        "[2015-04-05 15:53:54,493] Stars: 4\n"
       ]
      },
      {
       "output_type": "stream",
       "stream": "stderr",
       "text": [
        "[2015-04-05 15:53:54,493] Stars: 4\n"
       ]
      },
      {
       "output_type": "stream",
       "stream": "stderr",
       "text": [
        "[2015-04-05 15:53:54,493] Stars: 4\n"
       ]
      },
      {
       "output_type": "stream",
       "stream": "stderr",
       "text": [
        "[2015-04-05 15:53:54,493] Stars: 4\n"
       ]
      },
      {
       "output_type": "stream",
       "stream": "stderr",
       "text": [
        "[2015-04-05 15:53:54,493] Stars: 4\n"
       ]
      },
      {
       "output_type": "stream",
       "stream": "stderr",
       "text": [
        "[2015-04-05 15:53:54,493] Stars: 4\n"
       ]
      },
      {
       "output_type": "stream",
       "stream": "stderr",
       "text": [
        "[2015-04-05 15:53:54,493] Stars: 4\n"
       ]
      },
      {
       "output_type": "stream",
       "stream": "stderr",
       "text": [
        "[2015-04-05 15:53:54,493] Stars: 4\n"
       ]
      },
      {
       "output_type": "stream",
       "stream": "stderr",
       "text": [
        "[2015-04-05 15:53:54,493] Stars: 4\n"
       ]
      },
      {
       "output_type": "stream",
       "stream": "stderr",
       "text": [
        "INFO:scrape_solution:Stars: 4\n"
       ]
      },
      {
       "output_type": "stream",
       "stream": "stderr",
       "text": [
        "[2015-04-05 15:53:54,504] Number of reviews: 969 reviews \n"
       ]
      },
      {
       "output_type": "stream",
       "stream": "stderr",
       "text": [
        "[2015-04-05 15:53:54,504] Number of reviews: 969 reviews \n"
       ]
      },
      {
       "output_type": "stream",
       "stream": "stderr",
       "text": [
        "[2015-04-05 15:53:54,504] Number of reviews: 969 reviews \n"
       ]
      },
      {
       "output_type": "stream",
       "stream": "stderr",
       "text": [
        "[2015-04-05 15:53:54,504] Number of reviews: 969 reviews \n"
       ]
      },
      {
       "output_type": "stream",
       "stream": "stderr",
       "text": [
        "[2015-04-05 15:53:54,504] Number of reviews: 969 reviews \n"
       ]
      },
      {
       "output_type": "stream",
       "stream": "stderr",
       "text": [
        "[2015-04-05 15:53:54,504] Number of reviews: 969 reviews \n"
       ]
      },
      {
       "output_type": "stream",
       "stream": "stderr",
       "text": [
        "[2015-04-05 15:53:54,504] Number of reviews: 969 reviews \n"
       ]
      },
      {
       "output_type": "stream",
       "stream": "stderr",
       "text": [
        "[2015-04-05 15:53:54,504] Number of reviews: 969 reviews \n"
       ]
      },
      {
       "output_type": "stream",
       "stream": "stderr",
       "text": [
        "[2015-04-05 15:53:54,504] Number of reviews: 969 reviews \n"
       ]
      },
      {
       "output_type": "stream",
       "stream": "stderr",
       "text": [
        "[2015-04-05 15:53:54,504] Number of reviews: 969 reviews \n"
       ]
      },
      {
       "output_type": "stream",
       "stream": "stderr",
       "text": [
        "[2015-04-05 15:53:54,504] Number of reviews: 969 reviews \n"
       ]
      },
      {
       "output_type": "stream",
       "stream": "stderr",
       "text": [
        "[2015-04-05 15:53:54,504] Number of reviews: 969 reviews \n"
       ]
      },
      {
       "output_type": "stream",
       "stream": "stderr",
       "text": [
        "[2015-04-05 15:53:54,504] Number of reviews: 969 reviews \n"
       ]
      },
      {
       "output_type": "stream",
       "stream": "stderr",
       "text": [
        "[2015-04-05 15:53:54,504] Number of reviews: 969 reviews \n"
       ]
      },
      {
       "output_type": "stream",
       "stream": "stderr",
       "text": [
        "INFO:scrape_solution:Number of reviews: 969 reviews \n"
       ]
      },
      {
       "output_type": "stream",
       "stream": "stderr",
       "text": [
        "[2015-04-05 15:53:54,514] Hotel name: The Inn at Longwood Medical\n"
       ]
      },
      {
       "output_type": "stream",
       "stream": "stderr",
       "text": [
        "[2015-04-05 15:53:54,514] Hotel name: The Inn at Longwood Medical\n"
       ]
      },
      {
       "output_type": "stream",
       "stream": "stderr",
       "text": [
        "[2015-04-05 15:53:54,514] Hotel name: The Inn at Longwood Medical\n"
       ]
      },
      {
       "output_type": "stream",
       "stream": "stderr",
       "text": [
        "[2015-04-05 15:53:54,514] Hotel name: The Inn at Longwood Medical\n"
       ]
      },
      {
       "output_type": "stream",
       "stream": "stderr",
       "text": [
        "[2015-04-05 15:53:54,514] Hotel name: The Inn at Longwood Medical\n"
       ]
      },
      {
       "output_type": "stream",
       "stream": "stderr",
       "text": [
        "[2015-04-05 15:53:54,514] Hotel name: The Inn at Longwood Medical\n"
       ]
      },
      {
       "output_type": "stream",
       "stream": "stderr",
       "text": [
        "[2015-04-05 15:53:54,514] Hotel name: The Inn at Longwood Medical\n"
       ]
      },
      {
       "output_type": "stream",
       "stream": "stderr",
       "text": [
        "[2015-04-05 15:53:54,514] Hotel name: The Inn at Longwood Medical\n"
       ]
      },
      {
       "output_type": "stream",
       "stream": "stderr",
       "text": [
        "[2015-04-05 15:53:54,514] Hotel name: The Inn at Longwood Medical\n"
       ]
      },
      {
       "output_type": "stream",
       "stream": "stderr",
       "text": [
        "[2015-04-05 15:53:54,514] Hotel name: The Inn at Longwood Medical\n"
       ]
      },
      {
       "output_type": "stream",
       "stream": "stderr",
       "text": [
        "[2015-04-05 15:53:54,514] Hotel name: The Inn at Longwood Medical\n"
       ]
      },
      {
       "output_type": "stream",
       "stream": "stderr",
       "text": [
        "[2015-04-05 15:53:54,514] Hotel name: The Inn at Longwood Medical\n"
       ]
      },
      {
       "output_type": "stream",
       "stream": "stderr",
       "text": [
        "[2015-04-05 15:53:54,514] Hotel name: The Inn at Longwood Medical\n"
       ]
      },
      {
       "output_type": "stream",
       "stream": "stderr",
       "text": [
        "[2015-04-05 15:53:54,514] Hotel name: The Inn at Longwood Medical\n"
       ]
      },
      {
       "output_type": "stream",
       "stream": "stderr",
       "text": [
        "INFO:scrape_solution:Hotel name: The Inn at Longwood Medical\n"
       ]
      },
      {
       "output_type": "stream",
       "stream": "stderr",
       "text": [
        "[2015-04-05 15:53:54,525] Stars: 4\n"
       ]
      },
      {
       "output_type": "stream",
       "stream": "stderr",
       "text": [
        "[2015-04-05 15:53:54,525] Stars: 4\n"
       ]
      },
      {
       "output_type": "stream",
       "stream": "stderr",
       "text": [
        "[2015-04-05 15:53:54,525] Stars: 4\n"
       ]
      },
      {
       "output_type": "stream",
       "stream": "stderr",
       "text": [
        "[2015-04-05 15:53:54,525] Stars: 4\n"
       ]
      },
      {
       "output_type": "stream",
       "stream": "stderr",
       "text": [
        "[2015-04-05 15:53:54,525] Stars: 4\n"
       ]
      },
      {
       "output_type": "stream",
       "stream": "stderr",
       "text": [
        "[2015-04-05 15:53:54,525] Stars: 4\n"
       ]
      },
      {
       "output_type": "stream",
       "stream": "stderr",
       "text": [
        "[2015-04-05 15:53:54,525] Stars: 4\n"
       ]
      },
      {
       "output_type": "stream",
       "stream": "stderr",
       "text": [
        "[2015-04-05 15:53:54,525] Stars: 4\n"
       ]
      },
      {
       "output_type": "stream",
       "stream": "stderr",
       "text": [
        "[2015-04-05 15:53:54,525] Stars: 4\n"
       ]
      },
      {
       "output_type": "stream",
       "stream": "stderr",
       "text": [
        "[2015-04-05 15:53:54,525] Stars: 4\n"
       ]
      },
      {
       "output_type": "stream",
       "stream": "stderr",
       "text": [
        "[2015-04-05 15:53:54,525] Stars: 4\n"
       ]
      },
      {
       "output_type": "stream",
       "stream": "stderr",
       "text": [
        "[2015-04-05 15:53:54,525] Stars: 4\n"
       ]
      },
      {
       "output_type": "stream",
       "stream": "stderr",
       "text": [
        "[2015-04-05 15:53:54,525] Stars: 4\n"
       ]
      },
      {
       "output_type": "stream",
       "stream": "stderr",
       "text": [
        "[2015-04-05 15:53:54,525] Stars: 4\n"
       ]
      },
      {
       "output_type": "stream",
       "stream": "stderr",
       "text": [
        "INFO:scrape_solution:Stars: 4\n"
       ]
      },
      {
       "output_type": "stream",
       "stream": "stderr",
       "text": [
        "[2015-04-05 15:53:54,534] Number of reviews: 686 reviews \n"
       ]
      },
      {
       "output_type": "stream",
       "stream": "stderr",
       "text": [
        "[2015-04-05 15:53:54,534] Number of reviews: 686 reviews \n"
       ]
      },
      {
       "output_type": "stream",
       "stream": "stderr",
       "text": [
        "[2015-04-05 15:53:54,534] Number of reviews: 686 reviews \n"
       ]
      },
      {
       "output_type": "stream",
       "stream": "stderr",
       "text": [
        "[2015-04-05 15:53:54,534] Number of reviews: 686 reviews \n"
       ]
      },
      {
       "output_type": "stream",
       "stream": "stderr",
       "text": [
        "[2015-04-05 15:53:54,534] Number of reviews: 686 reviews \n"
       ]
      },
      {
       "output_type": "stream",
       "stream": "stderr",
       "text": [
        "[2015-04-05 15:53:54,534] Number of reviews: 686 reviews \n"
       ]
      },
      {
       "output_type": "stream",
       "stream": "stderr",
       "text": [
        "[2015-04-05 15:53:54,534] Number of reviews: 686 reviews \n"
       ]
      },
      {
       "output_type": "stream",
       "stream": "stderr",
       "text": [
        "[2015-04-05 15:53:54,534] Number of reviews: 686 reviews \n"
       ]
      },
      {
       "output_type": "stream",
       "stream": "stderr",
       "text": [
        "[2015-04-05 15:53:54,534] Number of reviews: 686 reviews \n"
       ]
      },
      {
       "output_type": "stream",
       "stream": "stderr",
       "text": [
        "[2015-04-05 15:53:54,534] Number of reviews: 686 reviews \n"
       ]
      },
      {
       "output_type": "stream",
       "stream": "stderr",
       "text": [
        "[2015-04-05 15:53:54,534] Number of reviews: 686 reviews \n"
       ]
      },
      {
       "output_type": "stream",
       "stream": "stderr",
       "text": [
        "[2015-04-05 15:53:54,534] Number of reviews: 686 reviews \n"
       ]
      },
      {
       "output_type": "stream",
       "stream": "stderr",
       "text": [
        "[2015-04-05 15:53:54,534] Number of reviews: 686 reviews \n"
       ]
      },
      {
       "output_type": "stream",
       "stream": "stderr",
       "text": [
        "[2015-04-05 15:53:54,534] Number of reviews: 686 reviews \n"
       ]
      },
      {
       "output_type": "stream",
       "stream": "stderr",
       "text": [
        "INFO:scrape_solution:Number of reviews: 686 reviews \n"
       ]
      },
      {
       "output_type": "stream",
       "stream": "stderr",
       "text": [
        "[2015-04-05 15:53:54,543] Hotel name: Hilton Boston Logan Airport\n"
       ]
      },
      {
       "output_type": "stream",
       "stream": "stderr",
       "text": [
        "[2015-04-05 15:53:54,543] Hotel name: Hilton Boston Logan Airport\n"
       ]
      },
      {
       "output_type": "stream",
       "stream": "stderr",
       "text": [
        "[2015-04-05 15:53:54,543] Hotel name: Hilton Boston Logan Airport\n"
       ]
      },
      {
       "output_type": "stream",
       "stream": "stderr",
       "text": [
        "[2015-04-05 15:53:54,543] Hotel name: Hilton Boston Logan Airport\n"
       ]
      },
      {
       "output_type": "stream",
       "stream": "stderr",
       "text": [
        "[2015-04-05 15:53:54,543] Hotel name: Hilton Boston Logan Airport\n"
       ]
      },
      {
       "output_type": "stream",
       "stream": "stderr",
       "text": [
        "[2015-04-05 15:53:54,543] Hotel name: Hilton Boston Logan Airport\n"
       ]
      },
      {
       "output_type": "stream",
       "stream": "stderr",
       "text": [
        "[2015-04-05 15:53:54,543] Hotel name: Hilton Boston Logan Airport\n"
       ]
      },
      {
       "output_type": "stream",
       "stream": "stderr",
       "text": [
        "[2015-04-05 15:53:54,543] Hotel name: Hilton Boston Logan Airport\n"
       ]
      },
      {
       "output_type": "stream",
       "stream": "stderr",
       "text": [
        "[2015-04-05 15:53:54,543] Hotel name: Hilton Boston Logan Airport\n"
       ]
      },
      {
       "output_type": "stream",
       "stream": "stderr",
       "text": [
        "[2015-04-05 15:53:54,543] Hotel name: Hilton Boston Logan Airport\n"
       ]
      },
      {
       "output_type": "stream",
       "stream": "stderr",
       "text": [
        "[2015-04-05 15:53:54,543] Hotel name: Hilton Boston Logan Airport\n"
       ]
      },
      {
       "output_type": "stream",
       "stream": "stderr",
       "text": [
        "[2015-04-05 15:53:54,543] Hotel name: Hilton Boston Logan Airport\n"
       ]
      },
      {
       "output_type": "stream",
       "stream": "stderr",
       "text": [
        "[2015-04-05 15:53:54,543] Hotel name: Hilton Boston Logan Airport\n"
       ]
      },
      {
       "output_type": "stream",
       "stream": "stderr",
       "text": [
        "[2015-04-05 15:53:54,543] Hotel name: Hilton Boston Logan Airport\n"
       ]
      },
      {
       "output_type": "stream",
       "stream": "stderr",
       "text": [
        "INFO:scrape_solution:Hotel name: Hilton Boston Logan Airport\n"
       ]
      },
      {
       "output_type": "stream",
       "stream": "stderr",
       "text": [
        "[2015-04-05 15:53:54,554] Stars: 4\n"
       ]
      },
      {
       "output_type": "stream",
       "stream": "stderr",
       "text": [
        "[2015-04-05 15:53:54,554] Stars: 4\n"
       ]
      },
      {
       "output_type": "stream",
       "stream": "stderr",
       "text": [
        "[2015-04-05 15:53:54,554] Stars: 4\n"
       ]
      },
      {
       "output_type": "stream",
       "stream": "stderr",
       "text": [
        "[2015-04-05 15:53:54,554] Stars: 4\n"
       ]
      },
      {
       "output_type": "stream",
       "stream": "stderr",
       "text": [
        "[2015-04-05 15:53:54,554] Stars: 4\n"
       ]
      },
      {
       "output_type": "stream",
       "stream": "stderr",
       "text": [
        "[2015-04-05 15:53:54,554] Stars: 4\n"
       ]
      },
      {
       "output_type": "stream",
       "stream": "stderr",
       "text": [
        "[2015-04-05 15:53:54,554] Stars: 4\n"
       ]
      },
      {
       "output_type": "stream",
       "stream": "stderr",
       "text": [
        "[2015-04-05 15:53:54,554] Stars: 4\n"
       ]
      },
      {
       "output_type": "stream",
       "stream": "stderr",
       "text": [
        "[2015-04-05 15:53:54,554] Stars: 4\n"
       ]
      },
      {
       "output_type": "stream",
       "stream": "stderr",
       "text": [
        "[2015-04-05 15:53:54,554] Stars: 4\n"
       ]
      },
      {
       "output_type": "stream",
       "stream": "stderr",
       "text": [
        "[2015-04-05 15:53:54,554] Stars: 4\n"
       ]
      },
      {
       "output_type": "stream",
       "stream": "stderr",
       "text": [
        "[2015-04-05 15:53:54,554] Stars: 4\n"
       ]
      },
      {
       "output_type": "stream",
       "stream": "stderr",
       "text": [
        "[2015-04-05 15:53:54,554] Stars: 4\n"
       ]
      },
      {
       "output_type": "stream",
       "stream": "stderr",
       "text": [
        "[2015-04-05 15:53:54,554] Stars: 4\n"
       ]
      },
      {
       "output_type": "stream",
       "stream": "stderr",
       "text": [
        "INFO:scrape_solution:Stars: 4\n"
       ]
      },
      {
       "output_type": "stream",
       "stream": "stderr",
       "text": [
        "[2015-04-05 15:53:54,564] Number of reviews: 1,968 reviews \n"
       ]
      },
      {
       "output_type": "stream",
       "stream": "stderr",
       "text": [
        "[2015-04-05 15:53:54,564] Number of reviews: 1,968 reviews \n"
       ]
      },
      {
       "output_type": "stream",
       "stream": "stderr",
       "text": [
        "[2015-04-05 15:53:54,564] Number of reviews: 1,968 reviews \n"
       ]
      },
      {
       "output_type": "stream",
       "stream": "stderr",
       "text": [
        "[2015-04-05 15:53:54,564] Number of reviews: 1,968 reviews \n"
       ]
      },
      {
       "output_type": "stream",
       "stream": "stderr",
       "text": [
        "[2015-04-05 15:53:54,564] Number of reviews: 1,968 reviews \n"
       ]
      },
      {
       "output_type": "stream",
       "stream": "stderr",
       "text": [
        "[2015-04-05 15:53:54,564] Number of reviews: 1,968 reviews \n"
       ]
      },
      {
       "output_type": "stream",
       "stream": "stderr",
       "text": [
        "[2015-04-05 15:53:54,564] Number of reviews: 1,968 reviews \n"
       ]
      },
      {
       "output_type": "stream",
       "stream": "stderr",
       "text": [
        "[2015-04-05 15:53:54,564] Number of reviews: 1,968 reviews \n"
       ]
      },
      {
       "output_type": "stream",
       "stream": "stderr",
       "text": [
        "[2015-04-05 15:53:54,564] Number of reviews: 1,968 reviews \n"
       ]
      },
      {
       "output_type": "stream",
       "stream": "stderr",
       "text": [
        "[2015-04-05 15:53:54,564] Number of reviews: 1,968 reviews \n"
       ]
      },
      {
       "output_type": "stream",
       "stream": "stderr",
       "text": [
        "[2015-04-05 15:53:54,564] Number of reviews: 1,968 reviews \n"
       ]
      },
      {
       "output_type": "stream",
       "stream": "stderr",
       "text": [
        "[2015-04-05 15:53:54,564] Number of reviews: 1,968 reviews \n"
       ]
      },
      {
       "output_type": "stream",
       "stream": "stderr",
       "text": [
        "[2015-04-05 15:53:54,564] Number of reviews: 1,968 reviews \n"
       ]
      },
      {
       "output_type": "stream",
       "stream": "stderr",
       "text": [
        "[2015-04-05 15:53:54,564] Number of reviews: 1,968 reviews \n"
       ]
      },
      {
       "output_type": "stream",
       "stream": "stderr",
       "text": [
        "INFO:scrape_solution:Number of reviews: 1,968 reviews \n"
       ]
      },
      {
       "output_type": "stream",
       "stream": "stderr",
       "text": [
        "[2015-04-05 15:53:54,576] Hotel name: Hilton Boston Downtown / Faneuil Hall\n"
       ]
      },
      {
       "output_type": "stream",
       "stream": "stderr",
       "text": [
        "[2015-04-05 15:53:54,576] Hotel name: Hilton Boston Downtown / Faneuil Hall\n"
       ]
      },
      {
       "output_type": "stream",
       "stream": "stderr",
       "text": [
        "[2015-04-05 15:53:54,576] Hotel name: Hilton Boston Downtown / Faneuil Hall\n"
       ]
      },
      {
       "output_type": "stream",
       "stream": "stderr",
       "text": [
        "[2015-04-05 15:53:54,576] Hotel name: Hilton Boston Downtown / Faneuil Hall\n"
       ]
      },
      {
       "output_type": "stream",
       "stream": "stderr",
       "text": [
        "[2015-04-05 15:53:54,576] Hotel name: Hilton Boston Downtown / Faneuil Hall\n"
       ]
      },
      {
       "output_type": "stream",
       "stream": "stderr",
       "text": [
        "[2015-04-05 15:53:54,576] Hotel name: Hilton Boston Downtown / Faneuil Hall\n"
       ]
      },
      {
       "output_type": "stream",
       "stream": "stderr",
       "text": [
        "[2015-04-05 15:53:54,576] Hotel name: Hilton Boston Downtown / Faneuil Hall\n"
       ]
      },
      {
       "output_type": "stream",
       "stream": "stderr",
       "text": [
        "[2015-04-05 15:53:54,576] Hotel name: Hilton Boston Downtown / Faneuil Hall\n"
       ]
      },
      {
       "output_type": "stream",
       "stream": "stderr",
       "text": [
        "[2015-04-05 15:53:54,576] Hotel name: Hilton Boston Downtown / Faneuil Hall\n"
       ]
      },
      {
       "output_type": "stream",
       "stream": "stderr",
       "text": [
        "[2015-04-05 15:53:54,576] Hotel name: Hilton Boston Downtown / Faneuil Hall\n"
       ]
      },
      {
       "output_type": "stream",
       "stream": "stderr",
       "text": [
        "[2015-04-05 15:53:54,576] Hotel name: Hilton Boston Downtown / Faneuil Hall\n"
       ]
      },
      {
       "output_type": "stream",
       "stream": "stderr",
       "text": [
        "[2015-04-05 15:53:54,576] Hotel name: Hilton Boston Downtown / Faneuil Hall\n"
       ]
      },
      {
       "output_type": "stream",
       "stream": "stderr",
       "text": [
        "[2015-04-05 15:53:54,576] Hotel name: Hilton Boston Downtown / Faneuil Hall\n"
       ]
      },
      {
       "output_type": "stream",
       "stream": "stderr",
       "text": [
        "[2015-04-05 15:53:54,576] Hotel name: Hilton Boston Downtown / Faneuil Hall\n"
       ]
      },
      {
       "output_type": "stream",
       "stream": "stderr",
       "text": [
        "INFO:scrape_solution:Hotel name: Hilton Boston Downtown / Faneuil Hall\n"
       ]
      },
      {
       "output_type": "stream",
       "stream": "stderr",
       "text": [
        "[2015-04-05 15:53:54,584] Stars: 4\n"
       ]
      },
      {
       "output_type": "stream",
       "stream": "stderr",
       "text": [
        "[2015-04-05 15:53:54,584] Stars: 4\n"
       ]
      },
      {
       "output_type": "stream",
       "stream": "stderr",
       "text": [
        "[2015-04-05 15:53:54,584] Stars: 4\n"
       ]
      },
      {
       "output_type": "stream",
       "stream": "stderr",
       "text": [
        "[2015-04-05 15:53:54,584] Stars: 4\n"
       ]
      },
      {
       "output_type": "stream",
       "stream": "stderr",
       "text": [
        "[2015-04-05 15:53:54,584] Stars: 4\n"
       ]
      },
      {
       "output_type": "stream",
       "stream": "stderr",
       "text": [
        "[2015-04-05 15:53:54,584] Stars: 4\n"
       ]
      },
      {
       "output_type": "stream",
       "stream": "stderr",
       "text": [
        "[2015-04-05 15:53:54,584] Stars: 4\n"
       ]
      },
      {
       "output_type": "stream",
       "stream": "stderr",
       "text": [
        "[2015-04-05 15:53:54,584] Stars: 4\n"
       ]
      },
      {
       "output_type": "stream",
       "stream": "stderr",
       "text": [
        "[2015-04-05 15:53:54,584] Stars: 4\n"
       ]
      },
      {
       "output_type": "stream",
       "stream": "stderr",
       "text": [
        "[2015-04-05 15:53:54,584] Stars: 4\n"
       ]
      },
      {
       "output_type": "stream",
       "stream": "stderr",
       "text": [
        "[2015-04-05 15:53:54,584] Stars: 4\n"
       ]
      },
      {
       "output_type": "stream",
       "stream": "stderr",
       "text": [
        "[2015-04-05 15:53:54,584] Stars: 4\n"
       ]
      },
      {
       "output_type": "stream",
       "stream": "stderr",
       "text": [
        "[2015-04-05 15:53:54,584] Stars: 4\n"
       ]
      },
      {
       "output_type": "stream",
       "stream": "stderr",
       "text": [
        "[2015-04-05 15:53:54,584] Stars: 4\n"
       ]
      },
      {
       "output_type": "stream",
       "stream": "stderr",
       "text": [
        "INFO:scrape_solution:Stars: 4\n"
       ]
      },
      {
       "output_type": "stream",
       "stream": "stderr",
       "text": [
        "[2015-04-05 15:53:54,599] Number of reviews: 874 reviews \n"
       ]
      },
      {
       "output_type": "stream",
       "stream": "stderr",
       "text": [
        "[2015-04-05 15:53:54,599] Number of reviews: 874 reviews \n"
       ]
      },
      {
       "output_type": "stream",
       "stream": "stderr",
       "text": [
        "[2015-04-05 15:53:54,599] Number of reviews: 874 reviews \n"
       ]
      },
      {
       "output_type": "stream",
       "stream": "stderr",
       "text": [
        "[2015-04-05 15:53:54,599] Number of reviews: 874 reviews \n"
       ]
      },
      {
       "output_type": "stream",
       "stream": "stderr",
       "text": [
        "[2015-04-05 15:53:54,599] Number of reviews: 874 reviews \n"
       ]
      },
      {
       "output_type": "stream",
       "stream": "stderr",
       "text": [
        "[2015-04-05 15:53:54,599] Number of reviews: 874 reviews \n"
       ]
      },
      {
       "output_type": "stream",
       "stream": "stderr",
       "text": [
        "[2015-04-05 15:53:54,599] Number of reviews: 874 reviews \n"
       ]
      },
      {
       "output_type": "stream",
       "stream": "stderr",
       "text": [
        "[2015-04-05 15:53:54,599] Number of reviews: 874 reviews \n"
       ]
      },
      {
       "output_type": "stream",
       "stream": "stderr",
       "text": [
        "[2015-04-05 15:53:54,599] Number of reviews: 874 reviews \n"
       ]
      },
      {
       "output_type": "stream",
       "stream": "stderr",
       "text": [
        "[2015-04-05 15:53:54,599] Number of reviews: 874 reviews \n"
       ]
      },
      {
       "output_type": "stream",
       "stream": "stderr",
       "text": [
        "[2015-04-05 15:53:54,599] Number of reviews: 874 reviews \n"
       ]
      },
      {
       "output_type": "stream",
       "stream": "stderr",
       "text": [
        "[2015-04-05 15:53:54,599] Number of reviews: 874 reviews \n"
       ]
      },
      {
       "output_type": "stream",
       "stream": "stderr",
       "text": [
        "[2015-04-05 15:53:54,599] Number of reviews: 874 reviews \n"
       ]
      },
      {
       "output_type": "stream",
       "stream": "stderr",
       "text": [
        "[2015-04-05 15:53:54,599] Number of reviews: 874 reviews \n"
       ]
      },
      {
       "output_type": "stream",
       "stream": "stderr",
       "text": [
        "INFO:scrape_solution:Number of reviews: 874 reviews \n"
       ]
      },
      {
       "output_type": "stream",
       "stream": "stderr",
       "text": [
        "[2015-04-05 15:53:54,609] Hotel name: Battery Wharf Hotel, Boston Waterfront\n"
       ]
      },
      {
       "output_type": "stream",
       "stream": "stderr",
       "text": [
        "[2015-04-05 15:53:54,609] Hotel name: Battery Wharf Hotel, Boston Waterfront\n"
       ]
      },
      {
       "output_type": "stream",
       "stream": "stderr",
       "text": [
        "[2015-04-05 15:53:54,609] Hotel name: Battery Wharf Hotel, Boston Waterfront\n"
       ]
      },
      {
       "output_type": "stream",
       "stream": "stderr",
       "text": [
        "[2015-04-05 15:53:54,609] Hotel name: Battery Wharf Hotel, Boston Waterfront\n"
       ]
      },
      {
       "output_type": "stream",
       "stream": "stderr",
       "text": [
        "[2015-04-05 15:53:54,609] Hotel name: Battery Wharf Hotel, Boston Waterfront\n"
       ]
      },
      {
       "output_type": "stream",
       "stream": "stderr",
       "text": [
        "[2015-04-05 15:53:54,609] Hotel name: Battery Wharf Hotel, Boston Waterfront\n"
       ]
      },
      {
       "output_type": "stream",
       "stream": "stderr",
       "text": [
        "[2015-04-05 15:53:54,609] Hotel name: Battery Wharf Hotel, Boston Waterfront\n"
       ]
      },
      {
       "output_type": "stream",
       "stream": "stderr",
       "text": [
        "[2015-04-05 15:53:54,609] Hotel name: Battery Wharf Hotel, Boston Waterfront\n"
       ]
      },
      {
       "output_type": "stream",
       "stream": "stderr",
       "text": [
        "[2015-04-05 15:53:54,609] Hotel name: Battery Wharf Hotel, Boston Waterfront\n"
       ]
      },
      {
       "output_type": "stream",
       "stream": "stderr",
       "text": [
        "[2015-04-05 15:53:54,609] Hotel name: Battery Wharf Hotel, Boston Waterfront\n"
       ]
      },
      {
       "output_type": "stream",
       "stream": "stderr",
       "text": [
        "[2015-04-05 15:53:54,609] Hotel name: Battery Wharf Hotel, Boston Waterfront\n"
       ]
      },
      {
       "output_type": "stream",
       "stream": "stderr",
       "text": [
        "[2015-04-05 15:53:54,609] Hotel name: Battery Wharf Hotel, Boston Waterfront\n"
       ]
      },
      {
       "output_type": "stream",
       "stream": "stderr",
       "text": [
        "[2015-04-05 15:53:54,609] Hotel name: Battery Wharf Hotel, Boston Waterfront\n"
       ]
      },
      {
       "output_type": "stream",
       "stream": "stderr",
       "text": [
        "[2015-04-05 15:53:54,609] Hotel name: Battery Wharf Hotel, Boston Waterfront\n"
       ]
      },
      {
       "output_type": "stream",
       "stream": "stderr",
       "text": [
        "INFO:scrape_solution:Hotel name: Battery Wharf Hotel, Boston Waterfront\n"
       ]
      },
      {
       "output_type": "stream",
       "stream": "stderr",
       "text": [
        "[2015-04-05 15:53:54,620] Stars: 4.5\n"
       ]
      },
      {
       "output_type": "stream",
       "stream": "stderr",
       "text": [
        "[2015-04-05 15:53:54,620] Stars: 4.5\n"
       ]
      },
      {
       "output_type": "stream",
       "stream": "stderr",
       "text": [
        "[2015-04-05 15:53:54,620] Stars: 4.5\n"
       ]
      },
      {
       "output_type": "stream",
       "stream": "stderr",
       "text": [
        "[2015-04-05 15:53:54,620] Stars: 4.5\n"
       ]
      },
      {
       "output_type": "stream",
       "stream": "stderr",
       "text": [
        "[2015-04-05 15:53:54,620] Stars: 4.5\n"
       ]
      },
      {
       "output_type": "stream",
       "stream": "stderr",
       "text": [
        "[2015-04-05 15:53:54,620] Stars: 4.5\n"
       ]
      },
      {
       "output_type": "stream",
       "stream": "stderr",
       "text": [
        "[2015-04-05 15:53:54,620] Stars: 4.5\n"
       ]
      },
      {
       "output_type": "stream",
       "stream": "stderr",
       "text": [
        "[2015-04-05 15:53:54,620] Stars: 4.5\n"
       ]
      },
      {
       "output_type": "stream",
       "stream": "stderr",
       "text": [
        "[2015-04-05 15:53:54,620] Stars: 4.5\n"
       ]
      },
      {
       "output_type": "stream",
       "stream": "stderr",
       "text": [
        "[2015-04-05 15:53:54,620] Stars: 4.5\n"
       ]
      },
      {
       "output_type": "stream",
       "stream": "stderr",
       "text": [
        "[2015-04-05 15:53:54,620] Stars: 4.5\n"
       ]
      },
      {
       "output_type": "stream",
       "stream": "stderr",
       "text": [
        "[2015-04-05 15:53:54,620] Stars: 4.5\n"
       ]
      },
      {
       "output_type": "stream",
       "stream": "stderr",
       "text": [
        "[2015-04-05 15:53:54,620] Stars: 4.5\n"
       ]
      },
      {
       "output_type": "stream",
       "stream": "stderr",
       "text": [
        "[2015-04-05 15:53:54,620] Stars: 4.5\n"
       ]
      },
      {
       "output_type": "stream",
       "stream": "stderr",
       "text": [
        "INFO:scrape_solution:Stars: 4.5\n"
       ]
      },
      {
       "output_type": "stream",
       "stream": "stderr",
       "text": [
        "[2015-04-05 15:53:54,633] Number of reviews: 864 reviews \n"
       ]
      },
      {
       "output_type": "stream",
       "stream": "stderr",
       "text": [
        "[2015-04-05 15:53:54,633] Number of reviews: 864 reviews \n"
       ]
      },
      {
       "output_type": "stream",
       "stream": "stderr",
       "text": [
        "[2015-04-05 15:53:54,633] Number of reviews: 864 reviews \n"
       ]
      },
      {
       "output_type": "stream",
       "stream": "stderr",
       "text": [
        "[2015-04-05 15:53:54,633] Number of reviews: 864 reviews \n"
       ]
      },
      {
       "output_type": "stream",
       "stream": "stderr",
       "text": [
        "[2015-04-05 15:53:54,633] Number of reviews: 864 reviews \n"
       ]
      },
      {
       "output_type": "stream",
       "stream": "stderr",
       "text": [
        "[2015-04-05 15:53:54,633] Number of reviews: 864 reviews \n"
       ]
      },
      {
       "output_type": "stream",
       "stream": "stderr",
       "text": [
        "[2015-04-05 15:53:54,633] Number of reviews: 864 reviews \n"
       ]
      },
      {
       "output_type": "stream",
       "stream": "stderr",
       "text": [
        "[2015-04-05 15:53:54,633] Number of reviews: 864 reviews \n"
       ]
      },
      {
       "output_type": "stream",
       "stream": "stderr",
       "text": [
        "[2015-04-05 15:53:54,633] Number of reviews: 864 reviews \n"
       ]
      },
      {
       "output_type": "stream",
       "stream": "stderr",
       "text": [
        "[2015-04-05 15:53:54,633] Number of reviews: 864 reviews \n"
       ]
      },
      {
       "output_type": "stream",
       "stream": "stderr",
       "text": [
        "[2015-04-05 15:53:54,633] Number of reviews: 864 reviews \n"
       ]
      },
      {
       "output_type": "stream",
       "stream": "stderr",
       "text": [
        "[2015-04-05 15:53:54,633] Number of reviews: 864 reviews \n"
       ]
      },
      {
       "output_type": "stream",
       "stream": "stderr",
       "text": [
        "[2015-04-05 15:53:54,633] Number of reviews: 864 reviews \n"
       ]
      },
      {
       "output_type": "stream",
       "stream": "stderr",
       "text": [
        "[2015-04-05 15:53:54,633] Number of reviews: 864 reviews \n"
       ]
      },
      {
       "output_type": "stream",
       "stream": "stderr",
       "text": [
        "INFO:scrape_solution:Number of reviews: 864 reviews \n"
       ]
      },
      {
       "output_type": "stream",
       "stream": "stderr",
       "text": [
        "[2015-04-05 15:53:54,677] Hotel name: Boston Marriott Long Wharf\n"
       ]
      },
      {
       "output_type": "stream",
       "stream": "stderr",
       "text": [
        "[2015-04-05 15:53:54,677] Hotel name: Boston Marriott Long Wharf\n"
       ]
      },
      {
       "output_type": "stream",
       "stream": "stderr",
       "text": [
        "[2015-04-05 15:53:54,677] Hotel name: Boston Marriott Long Wharf\n"
       ]
      },
      {
       "output_type": "stream",
       "stream": "stderr",
       "text": [
        "[2015-04-05 15:53:54,677] Hotel name: Boston Marriott Long Wharf\n"
       ]
      },
      {
       "output_type": "stream",
       "stream": "stderr",
       "text": [
        "[2015-04-05 15:53:54,677] Hotel name: Boston Marriott Long Wharf\n"
       ]
      },
      {
       "output_type": "stream",
       "stream": "stderr",
       "text": [
        "[2015-04-05 15:53:54,677] Hotel name: Boston Marriott Long Wharf\n"
       ]
      },
      {
       "output_type": "stream",
       "stream": "stderr",
       "text": [
        "[2015-04-05 15:53:54,677] Hotel name: Boston Marriott Long Wharf\n"
       ]
      },
      {
       "output_type": "stream",
       "stream": "stderr",
       "text": [
        "[2015-04-05 15:53:54,677] Hotel name: Boston Marriott Long Wharf\n"
       ]
      },
      {
       "output_type": "stream",
       "stream": "stderr",
       "text": [
        "[2015-04-05 15:53:54,677] Hotel name: Boston Marriott Long Wharf\n"
       ]
      },
      {
       "output_type": "stream",
       "stream": "stderr",
       "text": [
        "[2015-04-05 15:53:54,677] Hotel name: Boston Marriott Long Wharf\n"
       ]
      },
      {
       "output_type": "stream",
       "stream": "stderr",
       "text": [
        "[2015-04-05 15:53:54,677] Hotel name: Boston Marriott Long Wharf\n"
       ]
      },
      {
       "output_type": "stream",
       "stream": "stderr",
       "text": [
        "[2015-04-05 15:53:54,677] Hotel name: Boston Marriott Long Wharf\n"
       ]
      },
      {
       "output_type": "stream",
       "stream": "stderr",
       "text": [
        "[2015-04-05 15:53:54,677] Hotel name: Boston Marriott Long Wharf\n"
       ]
      },
      {
       "output_type": "stream",
       "stream": "stderr",
       "text": [
        "[2015-04-05 15:53:54,677] Hotel name: Boston Marriott Long Wharf\n"
       ]
      },
      {
       "output_type": "stream",
       "stream": "stderr",
       "text": [
        "INFO:scrape_solution:Hotel name: Boston Marriott Long Wharf\n"
       ]
      },
      {
       "output_type": "stream",
       "stream": "stderr",
       "text": [
        "[2015-04-05 15:53:54,749] Stars: 4\n"
       ]
      },
      {
       "output_type": "stream",
       "stream": "stderr",
       "text": [
        "[2015-04-05 15:53:54,749] Stars: 4\n"
       ]
      },
      {
       "output_type": "stream",
       "stream": "stderr",
       "text": [
        "[2015-04-05 15:53:54,749] Stars: 4\n"
       ]
      },
      {
       "output_type": "stream",
       "stream": "stderr",
       "text": [
        "[2015-04-05 15:53:54,749] Stars: 4\n"
       ]
      },
      {
       "output_type": "stream",
       "stream": "stderr",
       "text": [
        "[2015-04-05 15:53:54,749] Stars: 4\n"
       ]
      },
      {
       "output_type": "stream",
       "stream": "stderr",
       "text": [
        "[2015-04-05 15:53:54,749] Stars: 4\n"
       ]
      },
      {
       "output_type": "stream",
       "stream": "stderr",
       "text": [
        "[2015-04-05 15:53:54,749] Stars: 4\n"
       ]
      },
      {
       "output_type": "stream",
       "stream": "stderr",
       "text": [
        "[2015-04-05 15:53:54,749] Stars: 4\n"
       ]
      },
      {
       "output_type": "stream",
       "stream": "stderr",
       "text": [
        "[2015-04-05 15:53:54,749] Stars: 4\n"
       ]
      },
      {
       "output_type": "stream",
       "stream": "stderr",
       "text": [
        "[2015-04-05 15:53:54,749] Stars: 4\n"
       ]
      },
      {
       "output_type": "stream",
       "stream": "stderr",
       "text": [
        "[2015-04-05 15:53:54,749] Stars: 4\n"
       ]
      },
      {
       "output_type": "stream",
       "stream": "stderr",
       "text": [
        "[2015-04-05 15:53:54,749] Stars: 4\n"
       ]
      },
      {
       "output_type": "stream",
       "stream": "stderr",
       "text": [
        "[2015-04-05 15:53:54,749] Stars: 4\n"
       ]
      },
      {
       "output_type": "stream",
       "stream": "stderr",
       "text": [
        "[2015-04-05 15:53:54,749] Stars: 4\n"
       ]
      },
      {
       "output_type": "stream",
       "stream": "stderr",
       "text": [
        "INFO:scrape_solution:Stars: 4\n"
       ]
      },
      {
       "output_type": "stream",
       "stream": "stderr",
       "text": [
        "[2015-04-05 15:53:54,765] Number of reviews: 1,289 reviews \n"
       ]
      },
      {
       "output_type": "stream",
       "stream": "stderr",
       "text": [
        "[2015-04-05 15:53:54,765] Number of reviews: 1,289 reviews \n"
       ]
      },
      {
       "output_type": "stream",
       "stream": "stderr",
       "text": [
        "[2015-04-05 15:53:54,765] Number of reviews: 1,289 reviews \n"
       ]
      },
      {
       "output_type": "stream",
       "stream": "stderr",
       "text": [
        "[2015-04-05 15:53:54,765] Number of reviews: 1,289 reviews \n"
       ]
      },
      {
       "output_type": "stream",
       "stream": "stderr",
       "text": [
        "[2015-04-05 15:53:54,765] Number of reviews: 1,289 reviews \n"
       ]
      },
      {
       "output_type": "stream",
       "stream": "stderr",
       "text": [
        "[2015-04-05 15:53:54,765] Number of reviews: 1,289 reviews \n"
       ]
      },
      {
       "output_type": "stream",
       "stream": "stderr",
       "text": [
        "[2015-04-05 15:53:54,765] Number of reviews: 1,289 reviews \n"
       ]
      },
      {
       "output_type": "stream",
       "stream": "stderr",
       "text": [
        "[2015-04-05 15:53:54,765] Number of reviews: 1,289 reviews \n"
       ]
      },
      {
       "output_type": "stream",
       "stream": "stderr",
       "text": [
        "[2015-04-05 15:53:54,765] Number of reviews: 1,289 reviews \n"
       ]
      },
      {
       "output_type": "stream",
       "stream": "stderr",
       "text": [
        "[2015-04-05 15:53:54,765] Number of reviews: 1,289 reviews \n"
       ]
      },
      {
       "output_type": "stream",
       "stream": "stderr",
       "text": [
        "[2015-04-05 15:53:54,765] Number of reviews: 1,289 reviews \n"
       ]
      },
      {
       "output_type": "stream",
       "stream": "stderr",
       "text": [
        "[2015-04-05 15:53:54,765] Number of reviews: 1,289 reviews \n"
       ]
      },
      {
       "output_type": "stream",
       "stream": "stderr",
       "text": [
        "[2015-04-05 15:53:54,765] Number of reviews: 1,289 reviews \n"
       ]
      },
      {
       "output_type": "stream",
       "stream": "stderr",
       "text": [
        "[2015-04-05 15:53:54,765] Number of reviews: 1,289 reviews \n"
       ]
      },
      {
       "output_type": "stream",
       "stream": "stderr",
       "text": [
        "INFO:scrape_solution:Number of reviews: 1,289 reviews \n"
       ]
      },
      {
       "output_type": "stream",
       "stream": "stderr",
       "text": [
        "[2015-04-05 15:53:54,775] Hotel name: Onyx Hotel - a Kimpton Hotel\n"
       ]
      },
      {
       "output_type": "stream",
       "stream": "stderr",
       "text": [
        "[2015-04-05 15:53:54,775] Hotel name: Onyx Hotel - a Kimpton Hotel\n"
       ]
      },
      {
       "output_type": "stream",
       "stream": "stderr",
       "text": [
        "[2015-04-05 15:53:54,775] Hotel name: Onyx Hotel - a Kimpton Hotel\n"
       ]
      },
      {
       "output_type": "stream",
       "stream": "stderr",
       "text": [
        "[2015-04-05 15:53:54,775] Hotel name: Onyx Hotel - a Kimpton Hotel\n"
       ]
      },
      {
       "output_type": "stream",
       "stream": "stderr",
       "text": [
        "[2015-04-05 15:53:54,775] Hotel name: Onyx Hotel - a Kimpton Hotel\n"
       ]
      },
      {
       "output_type": "stream",
       "stream": "stderr",
       "text": [
        "[2015-04-05 15:53:54,775] Hotel name: Onyx Hotel - a Kimpton Hotel\n"
       ]
      },
      {
       "output_type": "stream",
       "stream": "stderr",
       "text": [
        "[2015-04-05 15:53:54,775] Hotel name: Onyx Hotel - a Kimpton Hotel\n"
       ]
      },
      {
       "output_type": "stream",
       "stream": "stderr",
       "text": [
        "[2015-04-05 15:53:54,775] Hotel name: Onyx Hotel - a Kimpton Hotel\n"
       ]
      },
      {
       "output_type": "stream",
       "stream": "stderr",
       "text": [
        "[2015-04-05 15:53:54,775] Hotel name: Onyx Hotel - a Kimpton Hotel\n"
       ]
      },
      {
       "output_type": "stream",
       "stream": "stderr",
       "text": [
        "[2015-04-05 15:53:54,775] Hotel name: Onyx Hotel - a Kimpton Hotel\n"
       ]
      },
      {
       "output_type": "stream",
       "stream": "stderr",
       "text": [
        "[2015-04-05 15:53:54,775] Hotel name: Onyx Hotel - a Kimpton Hotel\n"
       ]
      },
      {
       "output_type": "stream",
       "stream": "stderr",
       "text": [
        "[2015-04-05 15:53:54,775] Hotel name: Onyx Hotel - a Kimpton Hotel\n"
       ]
      },
      {
       "output_type": "stream",
       "stream": "stderr",
       "text": [
        "[2015-04-05 15:53:54,775] Hotel name: Onyx Hotel - a Kimpton Hotel\n"
       ]
      },
      {
       "output_type": "stream",
       "stream": "stderr",
       "text": [
        "[2015-04-05 15:53:54,775] Hotel name: Onyx Hotel - a Kimpton Hotel\n"
       ]
      },
      {
       "output_type": "stream",
       "stream": "stderr",
       "text": [
        "INFO:scrape_solution:Hotel name: Onyx Hotel - a Kimpton Hotel\n"
       ]
      },
      {
       "output_type": "stream",
       "stream": "stderr",
       "text": [
        "[2015-04-05 15:53:54,786] Stars: 4\n"
       ]
      },
      {
       "output_type": "stream",
       "stream": "stderr",
       "text": [
        "[2015-04-05 15:53:54,786] Stars: 4\n"
       ]
      },
      {
       "output_type": "stream",
       "stream": "stderr",
       "text": [
        "[2015-04-05 15:53:54,786] Stars: 4\n"
       ]
      },
      {
       "output_type": "stream",
       "stream": "stderr",
       "text": [
        "[2015-04-05 15:53:54,786] Stars: 4\n"
       ]
      },
      {
       "output_type": "stream",
       "stream": "stderr",
       "text": [
        "[2015-04-05 15:53:54,786] Stars: 4\n"
       ]
      },
      {
       "output_type": "stream",
       "stream": "stderr",
       "text": [
        "[2015-04-05 15:53:54,786] Stars: 4\n"
       ]
      },
      {
       "output_type": "stream",
       "stream": "stderr",
       "text": [
        "[2015-04-05 15:53:54,786] Stars: 4\n"
       ]
      },
      {
       "output_type": "stream",
       "stream": "stderr",
       "text": [
        "[2015-04-05 15:53:54,786] Stars: 4\n"
       ]
      },
      {
       "output_type": "stream",
       "stream": "stderr",
       "text": [
        "[2015-04-05 15:53:54,786] Stars: 4\n"
       ]
      },
      {
       "output_type": "stream",
       "stream": "stderr",
       "text": [
        "[2015-04-05 15:53:54,786] Stars: 4\n"
       ]
      },
      {
       "output_type": "stream",
       "stream": "stderr",
       "text": [
        "[2015-04-05 15:53:54,786] Stars: 4\n"
       ]
      },
      {
       "output_type": "stream",
       "stream": "stderr",
       "text": [
        "[2015-04-05 15:53:54,786] Stars: 4\n"
       ]
      },
      {
       "output_type": "stream",
       "stream": "stderr",
       "text": [
        "[2015-04-05 15:53:54,786] Stars: 4\n"
       ]
      },
      {
       "output_type": "stream",
       "stream": "stderr",
       "text": [
        "[2015-04-05 15:53:54,786] Stars: 4\n"
       ]
      },
      {
       "output_type": "stream",
       "stream": "stderr",
       "text": [
        "INFO:scrape_solution:Stars: 4\n"
       ]
      },
      {
       "output_type": "stream",
       "stream": "stderr",
       "text": [
        "[2015-04-05 15:53:54,798] Number of reviews: 981 reviews \n"
       ]
      },
      {
       "output_type": "stream",
       "stream": "stderr",
       "text": [
        "[2015-04-05 15:53:54,798] Number of reviews: 981 reviews \n"
       ]
      },
      {
       "output_type": "stream",
       "stream": "stderr",
       "text": [
        "[2015-04-05 15:53:54,798] Number of reviews: 981 reviews \n"
       ]
      },
      {
       "output_type": "stream",
       "stream": "stderr",
       "text": [
        "[2015-04-05 15:53:54,798] Number of reviews: 981 reviews \n"
       ]
      },
      {
       "output_type": "stream",
       "stream": "stderr",
       "text": [
        "[2015-04-05 15:53:54,798] Number of reviews: 981 reviews \n"
       ]
      },
      {
       "output_type": "stream",
       "stream": "stderr",
       "text": [
        "[2015-04-05 15:53:54,798] Number of reviews: 981 reviews \n"
       ]
      },
      {
       "output_type": "stream",
       "stream": "stderr",
       "text": [
        "[2015-04-05 15:53:54,798] Number of reviews: 981 reviews \n"
       ]
      },
      {
       "output_type": "stream",
       "stream": "stderr",
       "text": [
        "[2015-04-05 15:53:54,798] Number of reviews: 981 reviews \n"
       ]
      },
      {
       "output_type": "stream",
       "stream": "stderr",
       "text": [
        "[2015-04-05 15:53:54,798] Number of reviews: 981 reviews \n"
       ]
      },
      {
       "output_type": "stream",
       "stream": "stderr",
       "text": [
        "[2015-04-05 15:53:54,798] Number of reviews: 981 reviews \n"
       ]
      },
      {
       "output_type": "stream",
       "stream": "stderr",
       "text": [
        "[2015-04-05 15:53:54,798] Number of reviews: 981 reviews \n"
       ]
      },
      {
       "output_type": "stream",
       "stream": "stderr",
       "text": [
        "[2015-04-05 15:53:54,798] Number of reviews: 981 reviews \n"
       ]
      },
      {
       "output_type": "stream",
       "stream": "stderr",
       "text": [
        "[2015-04-05 15:53:54,798] Number of reviews: 981 reviews \n"
       ]
      },
      {
       "output_type": "stream",
       "stream": "stderr",
       "text": [
        "[2015-04-05 15:53:54,798] Number of reviews: 981 reviews \n"
       ]
      },
      {
       "output_type": "stream",
       "stream": "stderr",
       "text": [
        "INFO:scrape_solution:Number of reviews: 981 reviews \n"
       ]
      },
      {
       "output_type": "stream",
       "stream": "stderr",
       "text": [
        "[2015-04-05 15:53:54,806] Hotel name: Hampton Inn & Suites Boston Crosstown Center\n"
       ]
      },
      {
       "output_type": "stream",
       "stream": "stderr",
       "text": [
        "[2015-04-05 15:53:54,806] Hotel name: Hampton Inn & Suites Boston Crosstown Center\n"
       ]
      },
      {
       "output_type": "stream",
       "stream": "stderr",
       "text": [
        "[2015-04-05 15:53:54,806] Hotel name: Hampton Inn & Suites Boston Crosstown Center\n"
       ]
      },
      {
       "output_type": "stream",
       "stream": "stderr",
       "text": [
        "[2015-04-05 15:53:54,806] Hotel name: Hampton Inn & Suites Boston Crosstown Center\n"
       ]
      },
      {
       "output_type": "stream",
       "stream": "stderr",
       "text": [
        "[2015-04-05 15:53:54,806] Hotel name: Hampton Inn & Suites Boston Crosstown Center\n"
       ]
      },
      {
       "output_type": "stream",
       "stream": "stderr",
       "text": [
        "[2015-04-05 15:53:54,806] Hotel name: Hampton Inn & Suites Boston Crosstown Center\n"
       ]
      },
      {
       "output_type": "stream",
       "stream": "stderr",
       "text": [
        "[2015-04-05 15:53:54,806] Hotel name: Hampton Inn & Suites Boston Crosstown Center\n"
       ]
      },
      {
       "output_type": "stream",
       "stream": "stderr",
       "text": [
        "[2015-04-05 15:53:54,806] Hotel name: Hampton Inn & Suites Boston Crosstown Center\n"
       ]
      },
      {
       "output_type": "stream",
       "stream": "stderr",
       "text": [
        "[2015-04-05 15:53:54,806] Hotel name: Hampton Inn & Suites Boston Crosstown Center\n"
       ]
      },
      {
       "output_type": "stream",
       "stream": "stderr",
       "text": [
        "[2015-04-05 15:53:54,806] Hotel name: Hampton Inn & Suites Boston Crosstown Center\n"
       ]
      },
      {
       "output_type": "stream",
       "stream": "stderr",
       "text": [
        "[2015-04-05 15:53:54,806] Hotel name: Hampton Inn & Suites Boston Crosstown Center\n"
       ]
      },
      {
       "output_type": "stream",
       "stream": "stderr",
       "text": [
        "[2015-04-05 15:53:54,806] Hotel name: Hampton Inn & Suites Boston Crosstown Center\n"
       ]
      },
      {
       "output_type": "stream",
       "stream": "stderr",
       "text": [
        "[2015-04-05 15:53:54,806] Hotel name: Hampton Inn & Suites Boston Crosstown Center\n"
       ]
      },
      {
       "output_type": "stream",
       "stream": "stderr",
       "text": [
        "[2015-04-05 15:53:54,806] Hotel name: Hampton Inn & Suites Boston Crosstown Center\n"
       ]
      },
      {
       "output_type": "stream",
       "stream": "stderr",
       "text": [
        "INFO:scrape_solution:Hotel name: Hampton Inn & Suites Boston Crosstown Center\n"
       ]
      },
      {
       "output_type": "stream",
       "stream": "stderr",
       "text": [
        "[2015-04-05 15:53:54,819] Stars: 4\n"
       ]
      },
      {
       "output_type": "stream",
       "stream": "stderr",
       "text": [
        "[2015-04-05 15:53:54,819] Stars: 4\n"
       ]
      },
      {
       "output_type": "stream",
       "stream": "stderr",
       "text": [
        "[2015-04-05 15:53:54,819] Stars: 4\n"
       ]
      },
      {
       "output_type": "stream",
       "stream": "stderr",
       "text": [
        "[2015-04-05 15:53:54,819] Stars: 4\n"
       ]
      },
      {
       "output_type": "stream",
       "stream": "stderr",
       "text": [
        "[2015-04-05 15:53:54,819] Stars: 4\n"
       ]
      },
      {
       "output_type": "stream",
       "stream": "stderr",
       "text": [
        "[2015-04-05 15:53:54,819] Stars: 4\n"
       ]
      },
      {
       "output_type": "stream",
       "stream": "stderr",
       "text": [
        "[2015-04-05 15:53:54,819] Stars: 4\n"
       ]
      },
      {
       "output_type": "stream",
       "stream": "stderr",
       "text": [
        "[2015-04-05 15:53:54,819] Stars: 4\n"
       ]
      },
      {
       "output_type": "stream",
       "stream": "stderr",
       "text": [
        "[2015-04-05 15:53:54,819] Stars: 4\n"
       ]
      },
      {
       "output_type": "stream",
       "stream": "stderr",
       "text": [
        "[2015-04-05 15:53:54,819] Stars: 4\n"
       ]
      },
      {
       "output_type": "stream",
       "stream": "stderr",
       "text": [
        "[2015-04-05 15:53:54,819] Stars: 4\n"
       ]
      },
      {
       "output_type": "stream",
       "stream": "stderr",
       "text": [
        "[2015-04-05 15:53:54,819] Stars: 4\n"
       ]
      },
      {
       "output_type": "stream",
       "stream": "stderr",
       "text": [
        "[2015-04-05 15:53:54,819] Stars: 4\n"
       ]
      },
      {
       "output_type": "stream",
       "stream": "stderr",
       "text": [
        "[2015-04-05 15:53:54,819] Stars: 4\n"
       ]
      },
      {
       "output_type": "stream",
       "stream": "stderr",
       "text": [
        "INFO:scrape_solution:Stars: 4\n"
       ]
      },
      {
       "output_type": "stream",
       "stream": "stderr",
       "text": [
        "[2015-04-05 15:53:54,839] Number of reviews: 567 reviews \n"
       ]
      },
      {
       "output_type": "stream",
       "stream": "stderr",
       "text": [
        "[2015-04-05 15:53:54,839] Number of reviews: 567 reviews \n"
       ]
      },
      {
       "output_type": "stream",
       "stream": "stderr",
       "text": [
        "[2015-04-05 15:53:54,839] Number of reviews: 567 reviews \n"
       ]
      },
      {
       "output_type": "stream",
       "stream": "stderr",
       "text": [
        "[2015-04-05 15:53:54,839] Number of reviews: 567 reviews \n"
       ]
      },
      {
       "output_type": "stream",
       "stream": "stderr",
       "text": [
        "[2015-04-05 15:53:54,839] Number of reviews: 567 reviews \n"
       ]
      },
      {
       "output_type": "stream",
       "stream": "stderr",
       "text": [
        "[2015-04-05 15:53:54,839] Number of reviews: 567 reviews \n"
       ]
      },
      {
       "output_type": "stream",
       "stream": "stderr",
       "text": [
        "[2015-04-05 15:53:54,839] Number of reviews: 567 reviews \n"
       ]
      },
      {
       "output_type": "stream",
       "stream": "stderr",
       "text": [
        "[2015-04-05 15:53:54,839] Number of reviews: 567 reviews \n"
       ]
      },
      {
       "output_type": "stream",
       "stream": "stderr",
       "text": [
        "[2015-04-05 15:53:54,839] Number of reviews: 567 reviews \n"
       ]
      },
      {
       "output_type": "stream",
       "stream": "stderr",
       "text": [
        "[2015-04-05 15:53:54,839] Number of reviews: 567 reviews \n"
       ]
      },
      {
       "output_type": "stream",
       "stream": "stderr",
       "text": [
        "[2015-04-05 15:53:54,839] Number of reviews: 567 reviews \n"
       ]
      },
      {
       "output_type": "stream",
       "stream": "stderr",
       "text": [
        "[2015-04-05 15:53:54,839] Number of reviews: 567 reviews \n"
       ]
      },
      {
       "output_type": "stream",
       "stream": "stderr",
       "text": [
        "[2015-04-05 15:53:54,839] Number of reviews: 567 reviews \n"
       ]
      },
      {
       "output_type": "stream",
       "stream": "stderr",
       "text": [
        "[2015-04-05 15:53:54,839] Number of reviews: 567 reviews \n"
       ]
      },
      {
       "output_type": "stream",
       "stream": "stderr",
       "text": [
        "INFO:scrape_solution:Number of reviews: 567 reviews \n"
       ]
      },
      {
       "output_type": "stream",
       "stream": "stderr",
       "text": [
        "[2015-04-05 15:53:54,850] Hotel name: Holiday Inn Express Boston\n"
       ]
      },
      {
       "output_type": "stream",
       "stream": "stderr",
       "text": [
        "[2015-04-05 15:53:54,850] Hotel name: Holiday Inn Express Boston\n"
       ]
      },
      {
       "output_type": "stream",
       "stream": "stderr",
       "text": [
        "[2015-04-05 15:53:54,850] Hotel name: Holiday Inn Express Boston\n"
       ]
      },
      {
       "output_type": "stream",
       "stream": "stderr",
       "text": [
        "[2015-04-05 15:53:54,850] Hotel name: Holiday Inn Express Boston\n"
       ]
      },
      {
       "output_type": "stream",
       "stream": "stderr",
       "text": [
        "[2015-04-05 15:53:54,850] Hotel name: Holiday Inn Express Boston\n"
       ]
      },
      {
       "output_type": "stream",
       "stream": "stderr",
       "text": [
        "[2015-04-05 15:53:54,850] Hotel name: Holiday Inn Express Boston\n"
       ]
      },
      {
       "output_type": "stream",
       "stream": "stderr",
       "text": [
        "[2015-04-05 15:53:54,850] Hotel name: Holiday Inn Express Boston\n"
       ]
      },
      {
       "output_type": "stream",
       "stream": "stderr",
       "text": [
        "[2015-04-05 15:53:54,850] Hotel name: Holiday Inn Express Boston\n"
       ]
      },
      {
       "output_type": "stream",
       "stream": "stderr",
       "text": [
        "[2015-04-05 15:53:54,850] Hotel name: Holiday Inn Express Boston\n"
       ]
      },
      {
       "output_type": "stream",
       "stream": "stderr",
       "text": [
        "[2015-04-05 15:53:54,850] Hotel name: Holiday Inn Express Boston\n"
       ]
      },
      {
       "output_type": "stream",
       "stream": "stderr",
       "text": [
        "[2015-04-05 15:53:54,850] Hotel name: Holiday Inn Express Boston\n"
       ]
      },
      {
       "output_type": "stream",
       "stream": "stderr",
       "text": [
        "[2015-04-05 15:53:54,850] Hotel name: Holiday Inn Express Boston\n"
       ]
      },
      {
       "output_type": "stream",
       "stream": "stderr",
       "text": [
        "[2015-04-05 15:53:54,850] Hotel name: Holiday Inn Express Boston\n"
       ]
      },
      {
       "output_type": "stream",
       "stream": "stderr",
       "text": [
        "[2015-04-05 15:53:54,850] Hotel name: Holiday Inn Express Boston\n"
       ]
      },
      {
       "output_type": "stream",
       "stream": "stderr",
       "text": [
        "INFO:scrape_solution:Hotel name: Holiday Inn Express Boston\n"
       ]
      },
      {
       "output_type": "stream",
       "stream": "stderr",
       "text": [
        "[2015-04-05 15:53:54,865] Stars: 4\n"
       ]
      },
      {
       "output_type": "stream",
       "stream": "stderr",
       "text": [
        "[2015-04-05 15:53:54,865] Stars: 4\n"
       ]
      },
      {
       "output_type": "stream",
       "stream": "stderr",
       "text": [
        "[2015-04-05 15:53:54,865] Stars: 4\n"
       ]
      },
      {
       "output_type": "stream",
       "stream": "stderr",
       "text": [
        "[2015-04-05 15:53:54,865] Stars: 4\n"
       ]
      },
      {
       "output_type": "stream",
       "stream": "stderr",
       "text": [
        "[2015-04-05 15:53:54,865] Stars: 4\n"
       ]
      },
      {
       "output_type": "stream",
       "stream": "stderr",
       "text": [
        "[2015-04-05 15:53:54,865] Stars: 4\n"
       ]
      },
      {
       "output_type": "stream",
       "stream": "stderr",
       "text": [
        "[2015-04-05 15:53:54,865] Stars: 4\n"
       ]
      },
      {
       "output_type": "stream",
       "stream": "stderr",
       "text": [
        "[2015-04-05 15:53:54,865] Stars: 4\n"
       ]
      },
      {
       "output_type": "stream",
       "stream": "stderr",
       "text": [
        "[2015-04-05 15:53:54,865] Stars: 4\n"
       ]
      },
      {
       "output_type": "stream",
       "stream": "stderr",
       "text": [
        "[2015-04-05 15:53:54,865] Stars: 4\n"
       ]
      },
      {
       "output_type": "stream",
       "stream": "stderr",
       "text": [
        "[2015-04-05 15:53:54,865] Stars: 4\n"
       ]
      },
      {
       "output_type": "stream",
       "stream": "stderr",
       "text": [
        "[2015-04-05 15:53:54,865] Stars: 4\n"
       ]
      },
      {
       "output_type": "stream",
       "stream": "stderr",
       "text": [
        "[2015-04-05 15:53:54,865] Stars: 4\n"
       ]
      },
      {
       "output_type": "stream",
       "stream": "stderr",
       "text": [
        "[2015-04-05 15:53:54,865] Stars: 4\n"
       ]
      },
      {
       "output_type": "stream",
       "stream": "stderr",
       "text": [
        "INFO:scrape_solution:Stars: 4\n"
       ]
      },
      {
       "output_type": "stream",
       "stream": "stderr",
       "text": [
        "[2015-04-05 15:53:54,878] Number of reviews: 536 reviews \n"
       ]
      },
      {
       "output_type": "stream",
       "stream": "stderr",
       "text": [
        "[2015-04-05 15:53:54,878] Number of reviews: 536 reviews \n"
       ]
      },
      {
       "output_type": "stream",
       "stream": "stderr",
       "text": [
        "[2015-04-05 15:53:54,878] Number of reviews: 536 reviews \n"
       ]
      },
      {
       "output_type": "stream",
       "stream": "stderr",
       "text": [
        "[2015-04-05 15:53:54,878] Number of reviews: 536 reviews \n"
       ]
      },
      {
       "output_type": "stream",
       "stream": "stderr",
       "text": [
        "[2015-04-05 15:53:54,878] Number of reviews: 536 reviews \n"
       ]
      },
      {
       "output_type": "stream",
       "stream": "stderr",
       "text": [
        "[2015-04-05 15:53:54,878] Number of reviews: 536 reviews \n"
       ]
      },
      {
       "output_type": "stream",
       "stream": "stderr",
       "text": [
        "[2015-04-05 15:53:54,878] Number of reviews: 536 reviews \n"
       ]
      },
      {
       "output_type": "stream",
       "stream": "stderr",
       "text": [
        "[2015-04-05 15:53:54,878] Number of reviews: 536 reviews \n"
       ]
      },
      {
       "output_type": "stream",
       "stream": "stderr",
       "text": [
        "[2015-04-05 15:53:54,878] Number of reviews: 536 reviews \n"
       ]
      },
      {
       "output_type": "stream",
       "stream": "stderr",
       "text": [
        "[2015-04-05 15:53:54,878] Number of reviews: 536 reviews \n"
       ]
      },
      {
       "output_type": "stream",
       "stream": "stderr",
       "text": [
        "[2015-04-05 15:53:54,878] Number of reviews: 536 reviews \n"
       ]
      },
      {
       "output_type": "stream",
       "stream": "stderr",
       "text": [
        "[2015-04-05 15:53:54,878] Number of reviews: 536 reviews \n"
       ]
      },
      {
       "output_type": "stream",
       "stream": "stderr",
       "text": [
        "[2015-04-05 15:53:54,878] Number of reviews: 536 reviews \n"
       ]
      },
      {
       "output_type": "stream",
       "stream": "stderr",
       "text": [
        "[2015-04-05 15:53:54,878] Number of reviews: 536 reviews \n"
       ]
      },
      {
       "output_type": "stream",
       "stream": "stderr",
       "text": [
        "INFO:scrape_solution:Number of reviews: 536 reviews \n"
       ]
      },
      {
       "output_type": "stream",
       "stream": "stderr",
       "text": [
        "[2015-04-05 15:53:54,884] Hotel name: Four Seasons Hotel Boston\n"
       ]
      },
      {
       "output_type": "stream",
       "stream": "stderr",
       "text": [
        "[2015-04-05 15:53:54,884] Hotel name: Four Seasons Hotel Boston\n"
       ]
      },
      {
       "output_type": "stream",
       "stream": "stderr",
       "text": [
        "[2015-04-05 15:53:54,884] Hotel name: Four Seasons Hotel Boston\n"
       ]
      },
      {
       "output_type": "stream",
       "stream": "stderr",
       "text": [
        "[2015-04-05 15:53:54,884] Hotel name: Four Seasons Hotel Boston\n"
       ]
      },
      {
       "output_type": "stream",
       "stream": "stderr",
       "text": [
        "[2015-04-05 15:53:54,884] Hotel name: Four Seasons Hotel Boston\n"
       ]
      },
      {
       "output_type": "stream",
       "stream": "stderr",
       "text": [
        "[2015-04-05 15:53:54,884] Hotel name: Four Seasons Hotel Boston\n"
       ]
      },
      {
       "output_type": "stream",
       "stream": "stderr",
       "text": [
        "[2015-04-05 15:53:54,884] Hotel name: Four Seasons Hotel Boston\n"
       ]
      },
      {
       "output_type": "stream",
       "stream": "stderr",
       "text": [
        "[2015-04-05 15:53:54,884] Hotel name: Four Seasons Hotel Boston\n"
       ]
      },
      {
       "output_type": "stream",
       "stream": "stderr",
       "text": [
        "[2015-04-05 15:53:54,884] Hotel name: Four Seasons Hotel Boston\n"
       ]
      },
      {
       "output_type": "stream",
       "stream": "stderr",
       "text": [
        "[2015-04-05 15:53:54,884] Hotel name: Four Seasons Hotel Boston\n"
       ]
      },
      {
       "output_type": "stream",
       "stream": "stderr",
       "text": [
        "[2015-04-05 15:53:54,884] Hotel name: Four Seasons Hotel Boston\n"
       ]
      },
      {
       "output_type": "stream",
       "stream": "stderr",
       "text": [
        "[2015-04-05 15:53:54,884] Hotel name: Four Seasons Hotel Boston\n"
       ]
      },
      {
       "output_type": "stream",
       "stream": "stderr",
       "text": [
        "[2015-04-05 15:53:54,884] Hotel name: Four Seasons Hotel Boston\n"
       ]
      },
      {
       "output_type": "stream",
       "stream": "stderr",
       "text": [
        "[2015-04-05 15:53:54,884] Hotel name: Four Seasons Hotel Boston\n"
       ]
      },
      {
       "output_type": "stream",
       "stream": "stderr",
       "text": [
        "INFO:scrape_solution:Hotel name: Four Seasons Hotel Boston\n"
       ]
      },
      {
       "output_type": "stream",
       "stream": "stderr",
       "text": [
        "[2015-04-05 15:53:54,895] Stars: 4.5\n"
       ]
      },
      {
       "output_type": "stream",
       "stream": "stderr",
       "text": [
        "[2015-04-05 15:53:54,895] Stars: 4.5\n"
       ]
      },
      {
       "output_type": "stream",
       "stream": "stderr",
       "text": [
        "[2015-04-05 15:53:54,895] Stars: 4.5\n"
       ]
      },
      {
       "output_type": "stream",
       "stream": "stderr",
       "text": [
        "[2015-04-05 15:53:54,895] Stars: 4.5\n"
       ]
      },
      {
       "output_type": "stream",
       "stream": "stderr",
       "text": [
        "[2015-04-05 15:53:54,895] Stars: 4.5\n"
       ]
      },
      {
       "output_type": "stream",
       "stream": "stderr",
       "text": [
        "[2015-04-05 15:53:54,895] Stars: 4.5\n"
       ]
      },
      {
       "output_type": "stream",
       "stream": "stderr",
       "text": [
        "[2015-04-05 15:53:54,895] Stars: 4.5\n"
       ]
      },
      {
       "output_type": "stream",
       "stream": "stderr",
       "text": [
        "[2015-04-05 15:53:54,895] Stars: 4.5\n"
       ]
      },
      {
       "output_type": "stream",
       "stream": "stderr",
       "text": [
        "[2015-04-05 15:53:54,895] Stars: 4.5\n"
       ]
      },
      {
       "output_type": "stream",
       "stream": "stderr",
       "text": [
        "[2015-04-05 15:53:54,895] Stars: 4.5\n"
       ]
      },
      {
       "output_type": "stream",
       "stream": "stderr",
       "text": [
        "[2015-04-05 15:53:54,895] Stars: 4.5\n"
       ]
      },
      {
       "output_type": "stream",
       "stream": "stderr",
       "text": [
        "[2015-04-05 15:53:54,895] Stars: 4.5\n"
       ]
      },
      {
       "output_type": "stream",
       "stream": "stderr",
       "text": [
        "[2015-04-05 15:53:54,895] Stars: 4.5\n"
       ]
      },
      {
       "output_type": "stream",
       "stream": "stderr",
       "text": [
        "[2015-04-05 15:53:54,895] Stars: 4.5\n"
       ]
      },
      {
       "output_type": "stream",
       "stream": "stderr",
       "text": [
        "INFO:scrape_solution:Stars: 4.5\n"
       ]
      },
      {
       "output_type": "stream",
       "stream": "stderr",
       "text": [
        "[2015-04-05 15:53:54,906] Number of reviews: 1,032 reviews \n"
       ]
      },
      {
       "output_type": "stream",
       "stream": "stderr",
       "text": [
        "[2015-04-05 15:53:54,906] Number of reviews: 1,032 reviews \n"
       ]
      },
      {
       "output_type": "stream",
       "stream": "stderr",
       "text": [
        "[2015-04-05 15:53:54,906] Number of reviews: 1,032 reviews \n"
       ]
      },
      {
       "output_type": "stream",
       "stream": "stderr",
       "text": [
        "[2015-04-05 15:53:54,906] Number of reviews: 1,032 reviews \n"
       ]
      },
      {
       "output_type": "stream",
       "stream": "stderr",
       "text": [
        "[2015-04-05 15:53:54,906] Number of reviews: 1,032 reviews \n"
       ]
      },
      {
       "output_type": "stream",
       "stream": "stderr",
       "text": [
        "[2015-04-05 15:53:54,906] Number of reviews: 1,032 reviews \n"
       ]
      },
      {
       "output_type": "stream",
       "stream": "stderr",
       "text": [
        "[2015-04-05 15:53:54,906] Number of reviews: 1,032 reviews \n"
       ]
      },
      {
       "output_type": "stream",
       "stream": "stderr",
       "text": [
        "[2015-04-05 15:53:54,906] Number of reviews: 1,032 reviews \n"
       ]
      },
      {
       "output_type": "stream",
       "stream": "stderr",
       "text": [
        "[2015-04-05 15:53:54,906] Number of reviews: 1,032 reviews \n"
       ]
      },
      {
       "output_type": "stream",
       "stream": "stderr",
       "text": [
        "[2015-04-05 15:53:54,906] Number of reviews: 1,032 reviews \n"
       ]
      },
      {
       "output_type": "stream",
       "stream": "stderr",
       "text": [
        "[2015-04-05 15:53:54,906] Number of reviews: 1,032 reviews \n"
       ]
      },
      {
       "output_type": "stream",
       "stream": "stderr",
       "text": [
        "[2015-04-05 15:53:54,906] Number of reviews: 1,032 reviews \n"
       ]
      },
      {
       "output_type": "stream",
       "stream": "stderr",
       "text": [
        "[2015-04-05 15:53:54,906] Number of reviews: 1,032 reviews \n"
       ]
      },
      {
       "output_type": "stream",
       "stream": "stderr",
       "text": [
        "[2015-04-05 15:53:54,906] Number of reviews: 1,032 reviews \n"
       ]
      },
      {
       "output_type": "stream",
       "stream": "stderr",
       "text": [
        "INFO:scrape_solution:Number of reviews: 1,032 reviews \n"
       ]
      },
      {
       "output_type": "stream",
       "stream": "stderr",
       "text": [
        "[2015-04-05 15:53:54,915] Hotel name: The Boxer Boston\n"
       ]
      },
      {
       "output_type": "stream",
       "stream": "stderr",
       "text": [
        "[2015-04-05 15:53:54,915] Hotel name: The Boxer Boston\n"
       ]
      },
      {
       "output_type": "stream",
       "stream": "stderr",
       "text": [
        "[2015-04-05 15:53:54,915] Hotel name: The Boxer Boston\n"
       ]
      },
      {
       "output_type": "stream",
       "stream": "stderr",
       "text": [
        "[2015-04-05 15:53:54,915] Hotel name: The Boxer Boston\n"
       ]
      },
      {
       "output_type": "stream",
       "stream": "stderr",
       "text": [
        "[2015-04-05 15:53:54,915] Hotel name: The Boxer Boston\n"
       ]
      },
      {
       "output_type": "stream",
       "stream": "stderr",
       "text": [
        "[2015-04-05 15:53:54,915] Hotel name: The Boxer Boston\n"
       ]
      },
      {
       "output_type": "stream",
       "stream": "stderr",
       "text": [
        "[2015-04-05 15:53:54,915] Hotel name: The Boxer Boston\n"
       ]
      },
      {
       "output_type": "stream",
       "stream": "stderr",
       "text": [
        "[2015-04-05 15:53:54,915] Hotel name: The Boxer Boston\n"
       ]
      },
      {
       "output_type": "stream",
       "stream": "stderr",
       "text": [
        "[2015-04-05 15:53:54,915] Hotel name: The Boxer Boston\n"
       ]
      },
      {
       "output_type": "stream",
       "stream": "stderr",
       "text": [
        "[2015-04-05 15:53:54,915] Hotel name: The Boxer Boston\n"
       ]
      },
      {
       "output_type": "stream",
       "stream": "stderr",
       "text": [
        "[2015-04-05 15:53:54,915] Hotel name: The Boxer Boston\n"
       ]
      },
      {
       "output_type": "stream",
       "stream": "stderr",
       "text": [
        "[2015-04-05 15:53:54,915] Hotel name: The Boxer Boston\n"
       ]
      },
      {
       "output_type": "stream",
       "stream": "stderr",
       "text": [
        "[2015-04-05 15:53:54,915] Hotel name: The Boxer Boston\n"
       ]
      },
      {
       "output_type": "stream",
       "stream": "stderr",
       "text": [
        "[2015-04-05 15:53:54,915] Hotel name: The Boxer Boston\n"
       ]
      },
      {
       "output_type": "stream",
       "stream": "stderr",
       "text": [
        "INFO:scrape_solution:Hotel name: The Boxer Boston\n"
       ]
      },
      {
       "output_type": "stream",
       "stream": "stderr",
       "text": [
        "[2015-04-05 15:53:54,925] Stars: 4\n"
       ]
      },
      {
       "output_type": "stream",
       "stream": "stderr",
       "text": [
        "[2015-04-05 15:53:54,925] Stars: 4\n"
       ]
      },
      {
       "output_type": "stream",
       "stream": "stderr",
       "text": [
        "[2015-04-05 15:53:54,925] Stars: 4\n"
       ]
      },
      {
       "output_type": "stream",
       "stream": "stderr",
       "text": [
        "[2015-04-05 15:53:54,925] Stars: 4\n"
       ]
      },
      {
       "output_type": "stream",
       "stream": "stderr",
       "text": [
        "[2015-04-05 15:53:54,925] Stars: 4\n"
       ]
      },
      {
       "output_type": "stream",
       "stream": "stderr",
       "text": [
        "[2015-04-05 15:53:54,925] Stars: 4\n"
       ]
      },
      {
       "output_type": "stream",
       "stream": "stderr",
       "text": [
        "[2015-04-05 15:53:54,925] Stars: 4\n"
       ]
      },
      {
       "output_type": "stream",
       "stream": "stderr",
       "text": [
        "[2015-04-05 15:53:54,925] Stars: 4\n"
       ]
      },
      {
       "output_type": "stream",
       "stream": "stderr",
       "text": [
        "[2015-04-05 15:53:54,925] Stars: 4\n"
       ]
      },
      {
       "output_type": "stream",
       "stream": "stderr",
       "text": [
        "[2015-04-05 15:53:54,925] Stars: 4\n"
       ]
      },
      {
       "output_type": "stream",
       "stream": "stderr",
       "text": [
        "[2015-04-05 15:53:54,925] Stars: 4\n"
       ]
      },
      {
       "output_type": "stream",
       "stream": "stderr",
       "text": [
        "[2015-04-05 15:53:54,925] Stars: 4\n"
       ]
      },
      {
       "output_type": "stream",
       "stream": "stderr",
       "text": [
        "[2015-04-05 15:53:54,925] Stars: 4\n"
       ]
      },
      {
       "output_type": "stream",
       "stream": "stderr",
       "text": [
        "[2015-04-05 15:53:54,925] Stars: 4\n"
       ]
      },
      {
       "output_type": "stream",
       "stream": "stderr",
       "text": [
        "INFO:scrape_solution:Stars: 4\n"
       ]
      },
      {
       "output_type": "stream",
       "stream": "stderr",
       "text": [
        "[2015-04-05 15:53:54,933] Number of reviews: 368 reviews \n"
       ]
      },
      {
       "output_type": "stream",
       "stream": "stderr",
       "text": [
        "[2015-04-05 15:53:54,933] Number of reviews: 368 reviews \n"
       ]
      },
      {
       "output_type": "stream",
       "stream": "stderr",
       "text": [
        "[2015-04-05 15:53:54,933] Number of reviews: 368 reviews \n"
       ]
      },
      {
       "output_type": "stream",
       "stream": "stderr",
       "text": [
        "[2015-04-05 15:53:54,933] Number of reviews: 368 reviews \n"
       ]
      },
      {
       "output_type": "stream",
       "stream": "stderr",
       "text": [
        "[2015-04-05 15:53:54,933] Number of reviews: 368 reviews \n"
       ]
      },
      {
       "output_type": "stream",
       "stream": "stderr",
       "text": [
        "[2015-04-05 15:53:54,933] Number of reviews: 368 reviews \n"
       ]
      },
      {
       "output_type": "stream",
       "stream": "stderr",
       "text": [
        "[2015-04-05 15:53:54,933] Number of reviews: 368 reviews \n"
       ]
      },
      {
       "output_type": "stream",
       "stream": "stderr",
       "text": [
        "[2015-04-05 15:53:54,933] Number of reviews: 368 reviews \n"
       ]
      },
      {
       "output_type": "stream",
       "stream": "stderr",
       "text": [
        "[2015-04-05 15:53:54,933] Number of reviews: 368 reviews \n"
       ]
      },
      {
       "output_type": "stream",
       "stream": "stderr",
       "text": [
        "[2015-04-05 15:53:54,933] Number of reviews: 368 reviews \n"
       ]
      },
      {
       "output_type": "stream",
       "stream": "stderr",
       "text": [
        "[2015-04-05 15:53:54,933] Number of reviews: 368 reviews \n"
       ]
      },
      {
       "output_type": "stream",
       "stream": "stderr",
       "text": [
        "[2015-04-05 15:53:54,933] Number of reviews: 368 reviews \n"
       ]
      },
      {
       "output_type": "stream",
       "stream": "stderr",
       "text": [
        "[2015-04-05 15:53:54,933] Number of reviews: 368 reviews \n"
       ]
      },
      {
       "output_type": "stream",
       "stream": "stderr",
       "text": [
        "[2015-04-05 15:53:54,933] Number of reviews: 368 reviews \n"
       ]
      },
      {
       "output_type": "stream",
       "stream": "stderr",
       "text": [
        "INFO:scrape_solution:Number of reviews: 368 reviews \n"
       ]
      },
      {
       "output_type": "stream",
       "stream": "stderr",
       "text": [
        "[2015-04-05 15:53:54,943] Hotel name: Residence Inn by Marriott Boston Harbor on Tudor Wharf\n"
       ]
      },
      {
       "output_type": "stream",
       "stream": "stderr",
       "text": [
        "[2015-04-05 15:53:54,943] Hotel name: Residence Inn by Marriott Boston Harbor on Tudor Wharf\n"
       ]
      },
      {
       "output_type": "stream",
       "stream": "stderr",
       "text": [
        "[2015-04-05 15:53:54,943] Hotel name: Residence Inn by Marriott Boston Harbor on Tudor Wharf\n"
       ]
      },
      {
       "output_type": "stream",
       "stream": "stderr",
       "text": [
        "[2015-04-05 15:53:54,943] Hotel name: Residence Inn by Marriott Boston Harbor on Tudor Wharf\n"
       ]
      },
      {
       "output_type": "stream",
       "stream": "stderr",
       "text": [
        "[2015-04-05 15:53:54,943] Hotel name: Residence Inn by Marriott Boston Harbor on Tudor Wharf\n"
       ]
      },
      {
       "output_type": "stream",
       "stream": "stderr",
       "text": [
        "[2015-04-05 15:53:54,943] Hotel name: Residence Inn by Marriott Boston Harbor on Tudor Wharf\n"
       ]
      },
      {
       "output_type": "stream",
       "stream": "stderr",
       "text": [
        "[2015-04-05 15:53:54,943] Hotel name: Residence Inn by Marriott Boston Harbor on Tudor Wharf\n"
       ]
      },
      {
       "output_type": "stream",
       "stream": "stderr",
       "text": [
        "[2015-04-05 15:53:54,943] Hotel name: Residence Inn by Marriott Boston Harbor on Tudor Wharf\n"
       ]
      },
      {
       "output_type": "stream",
       "stream": "stderr",
       "text": [
        "[2015-04-05 15:53:54,943] Hotel name: Residence Inn by Marriott Boston Harbor on Tudor Wharf\n"
       ]
      },
      {
       "output_type": "stream",
       "stream": "stderr",
       "text": [
        "[2015-04-05 15:53:54,943] Hotel name: Residence Inn by Marriott Boston Harbor on Tudor Wharf\n"
       ]
      },
      {
       "output_type": "stream",
       "stream": "stderr",
       "text": [
        "[2015-04-05 15:53:54,943] Hotel name: Residence Inn by Marriott Boston Harbor on Tudor Wharf\n"
       ]
      },
      {
       "output_type": "stream",
       "stream": "stderr",
       "text": [
        "[2015-04-05 15:53:54,943] Hotel name: Residence Inn by Marriott Boston Harbor on Tudor Wharf\n"
       ]
      },
      {
       "output_type": "stream",
       "stream": "stderr",
       "text": [
        "[2015-04-05 15:53:54,943] Hotel name: Residence Inn by Marriott Boston Harbor on Tudor Wharf\n"
       ]
      },
      {
       "output_type": "stream",
       "stream": "stderr",
       "text": [
        "[2015-04-05 15:53:54,943] Hotel name: Residence Inn by Marriott Boston Harbor on Tudor Wharf\n"
       ]
      },
      {
       "output_type": "stream",
       "stream": "stderr",
       "text": [
        "INFO:scrape_solution:Hotel name: Residence Inn by Marriott Boston Harbor on Tudor Wharf\n"
       ]
      },
      {
       "output_type": "stream",
       "stream": "stderr",
       "text": [
        "[2015-04-05 15:53:54,951] Stars: 4.5\n"
       ]
      },
      {
       "output_type": "stream",
       "stream": "stderr",
       "text": [
        "[2015-04-05 15:53:54,951] Stars: 4.5\n"
       ]
      },
      {
       "output_type": "stream",
       "stream": "stderr",
       "text": [
        "[2015-04-05 15:53:54,951] Stars: 4.5\n"
       ]
      },
      {
       "output_type": "stream",
       "stream": "stderr",
       "text": [
        "[2015-04-05 15:53:54,951] Stars: 4.5\n"
       ]
      },
      {
       "output_type": "stream",
       "stream": "stderr",
       "text": [
        "[2015-04-05 15:53:54,951] Stars: 4.5\n"
       ]
      },
      {
       "output_type": "stream",
       "stream": "stderr",
       "text": [
        "[2015-04-05 15:53:54,951] Stars: 4.5\n"
       ]
      },
      {
       "output_type": "stream",
       "stream": "stderr",
       "text": [
        "[2015-04-05 15:53:54,951] Stars: 4.5\n"
       ]
      },
      {
       "output_type": "stream",
       "stream": "stderr",
       "text": [
        "[2015-04-05 15:53:54,951] Stars: 4.5\n"
       ]
      },
      {
       "output_type": "stream",
       "stream": "stderr",
       "text": [
        "[2015-04-05 15:53:54,951] Stars: 4.5\n"
       ]
      },
      {
       "output_type": "stream",
       "stream": "stderr",
       "text": [
        "[2015-04-05 15:53:54,951] Stars: 4.5\n"
       ]
      },
      {
       "output_type": "stream",
       "stream": "stderr",
       "text": [
        "[2015-04-05 15:53:54,951] Stars: 4.5\n"
       ]
      },
      {
       "output_type": "stream",
       "stream": "stderr",
       "text": [
        "[2015-04-05 15:53:54,951] Stars: 4.5\n"
       ]
      },
      {
       "output_type": "stream",
       "stream": "stderr",
       "text": [
        "[2015-04-05 15:53:54,951] Stars: 4.5\n"
       ]
      },
      {
       "output_type": "stream",
       "stream": "stderr",
       "text": [
        "[2015-04-05 15:53:54,951] Stars: 4.5\n"
       ]
      },
      {
       "output_type": "stream",
       "stream": "stderr",
       "text": [
        "INFO:scrape_solution:Stars: 4.5\n"
       ]
      },
      {
       "output_type": "stream",
       "stream": "stderr",
       "text": [
        "[2015-04-05 15:53:54,963] Number of reviews: 519 reviews \n"
       ]
      },
      {
       "output_type": "stream",
       "stream": "stderr",
       "text": [
        "[2015-04-05 15:53:54,963] Number of reviews: 519 reviews \n"
       ]
      },
      {
       "output_type": "stream",
       "stream": "stderr",
       "text": [
        "[2015-04-05 15:53:54,963] Number of reviews: 519 reviews \n"
       ]
      },
      {
       "output_type": "stream",
       "stream": "stderr",
       "text": [
        "[2015-04-05 15:53:54,963] Number of reviews: 519 reviews \n"
       ]
      },
      {
       "output_type": "stream",
       "stream": "stderr",
       "text": [
        "[2015-04-05 15:53:54,963] Number of reviews: 519 reviews \n"
       ]
      },
      {
       "output_type": "stream",
       "stream": "stderr",
       "text": [
        "[2015-04-05 15:53:54,963] Number of reviews: 519 reviews \n"
       ]
      },
      {
       "output_type": "stream",
       "stream": "stderr",
       "text": [
        "[2015-04-05 15:53:54,963] Number of reviews: 519 reviews \n"
       ]
      },
      {
       "output_type": "stream",
       "stream": "stderr",
       "text": [
        "[2015-04-05 15:53:54,963] Number of reviews: 519 reviews \n"
       ]
      },
      {
       "output_type": "stream",
       "stream": "stderr",
       "text": [
        "[2015-04-05 15:53:54,963] Number of reviews: 519 reviews \n"
       ]
      },
      {
       "output_type": "stream",
       "stream": "stderr",
       "text": [
        "[2015-04-05 15:53:54,963] Number of reviews: 519 reviews \n"
       ]
      },
      {
       "output_type": "stream",
       "stream": "stderr",
       "text": [
        "[2015-04-05 15:53:54,963] Number of reviews: 519 reviews \n"
       ]
      },
      {
       "output_type": "stream",
       "stream": "stderr",
       "text": [
        "[2015-04-05 15:53:54,963] Number of reviews: 519 reviews \n"
       ]
      },
      {
       "output_type": "stream",
       "stream": "stderr",
       "text": [
        "[2015-04-05 15:53:54,963] Number of reviews: 519 reviews \n"
       ]
      },
      {
       "output_type": "stream",
       "stream": "stderr",
       "text": [
        "[2015-04-05 15:53:54,963] Number of reviews: 519 reviews \n"
       ]
      },
      {
       "output_type": "stream",
       "stream": "stderr",
       "text": [
        "INFO:scrape_solution:Number of reviews: 519 reviews \n"
       ]
      },
      {
       "output_type": "stream",
       "stream": "stderr",
       "text": [
        "[2015-04-05 15:53:54,971] Hotel name: DoubleTree Club by Hilton Hotel Boston Bayside\n"
       ]
      },
      {
       "output_type": "stream",
       "stream": "stderr",
       "text": [
        "[2015-04-05 15:53:54,971] Hotel name: DoubleTree Club by Hilton Hotel Boston Bayside\n"
       ]
      },
      {
       "output_type": "stream",
       "stream": "stderr",
       "text": [
        "[2015-04-05 15:53:54,971] Hotel name: DoubleTree Club by Hilton Hotel Boston Bayside\n"
       ]
      },
      {
       "output_type": "stream",
       "stream": "stderr",
       "text": [
        "[2015-04-05 15:53:54,971] Hotel name: DoubleTree Club by Hilton Hotel Boston Bayside\n"
       ]
      },
      {
       "output_type": "stream",
       "stream": "stderr",
       "text": [
        "[2015-04-05 15:53:54,971] Hotel name: DoubleTree Club by Hilton Hotel Boston Bayside\n"
       ]
      },
      {
       "output_type": "stream",
       "stream": "stderr",
       "text": [
        "[2015-04-05 15:53:54,971] Hotel name: DoubleTree Club by Hilton Hotel Boston Bayside\n"
       ]
      },
      {
       "output_type": "stream",
       "stream": "stderr",
       "text": [
        "[2015-04-05 15:53:54,971] Hotel name: DoubleTree Club by Hilton Hotel Boston Bayside\n"
       ]
      },
      {
       "output_type": "stream",
       "stream": "stderr",
       "text": [
        "[2015-04-05 15:53:54,971] Hotel name: DoubleTree Club by Hilton Hotel Boston Bayside\n"
       ]
      },
      {
       "output_type": "stream",
       "stream": "stderr",
       "text": [
        "[2015-04-05 15:53:54,971] Hotel name: DoubleTree Club by Hilton Hotel Boston Bayside\n"
       ]
      },
      {
       "output_type": "stream",
       "stream": "stderr",
       "text": [
        "[2015-04-05 15:53:54,971] Hotel name: DoubleTree Club by Hilton Hotel Boston Bayside\n"
       ]
      },
      {
       "output_type": "stream",
       "stream": "stderr",
       "text": [
        "[2015-04-05 15:53:54,971] Hotel name: DoubleTree Club by Hilton Hotel Boston Bayside\n"
       ]
      },
      {
       "output_type": "stream",
       "stream": "stderr",
       "text": [
        "[2015-04-05 15:53:54,971] Hotel name: DoubleTree Club by Hilton Hotel Boston Bayside\n"
       ]
      },
      {
       "output_type": "stream",
       "stream": "stderr",
       "text": [
        "[2015-04-05 15:53:54,971] Hotel name: DoubleTree Club by Hilton Hotel Boston Bayside\n"
       ]
      },
      {
       "output_type": "stream",
       "stream": "stderr",
       "text": [
        "[2015-04-05 15:53:54,971] Hotel name: DoubleTree Club by Hilton Hotel Boston Bayside\n"
       ]
      },
      {
       "output_type": "stream",
       "stream": "stderr",
       "text": [
        "INFO:scrape_solution:Hotel name: DoubleTree Club by Hilton Hotel Boston Bayside\n"
       ]
      },
      {
       "output_type": "stream",
       "stream": "stderr",
       "text": [
        "[2015-04-05 15:53:54,979] Stars: 4\n"
       ]
      },
      {
       "output_type": "stream",
       "stream": "stderr",
       "text": [
        "[2015-04-05 15:53:54,979] Stars: 4\n"
       ]
      },
      {
       "output_type": "stream",
       "stream": "stderr",
       "text": [
        "[2015-04-05 15:53:54,979] Stars: 4\n"
       ]
      },
      {
       "output_type": "stream",
       "stream": "stderr",
       "text": [
        "[2015-04-05 15:53:54,979] Stars: 4\n"
       ]
      },
      {
       "output_type": "stream",
       "stream": "stderr",
       "text": [
        "[2015-04-05 15:53:54,979] Stars: 4\n"
       ]
      },
      {
       "output_type": "stream",
       "stream": "stderr",
       "text": [
        "[2015-04-05 15:53:54,979] Stars: 4\n"
       ]
      },
      {
       "output_type": "stream",
       "stream": "stderr",
       "text": [
        "[2015-04-05 15:53:54,979] Stars: 4\n"
       ]
      },
      {
       "output_type": "stream",
       "stream": "stderr",
       "text": [
        "[2015-04-05 15:53:54,979] Stars: 4\n"
       ]
      },
      {
       "output_type": "stream",
       "stream": "stderr",
       "text": [
        "[2015-04-05 15:53:54,979] Stars: 4\n"
       ]
      },
      {
       "output_type": "stream",
       "stream": "stderr",
       "text": [
        "[2015-04-05 15:53:54,979] Stars: 4\n"
       ]
      },
      {
       "output_type": "stream",
       "stream": "stderr",
       "text": [
        "[2015-04-05 15:53:54,979] Stars: 4\n"
       ]
      },
      {
       "output_type": "stream",
       "stream": "stderr",
       "text": [
        "[2015-04-05 15:53:54,979] Stars: 4\n"
       ]
      },
      {
       "output_type": "stream",
       "stream": "stderr",
       "text": [
        "[2015-04-05 15:53:54,979] Stars: 4\n"
       ]
      },
      {
       "output_type": "stream",
       "stream": "stderr",
       "text": [
        "[2015-04-05 15:53:54,979] Stars: 4\n"
       ]
      },
      {
       "output_type": "stream",
       "stream": "stderr",
       "text": [
        "INFO:scrape_solution:Stars: 4\n"
       ]
      },
      {
       "output_type": "stream",
       "stream": "stderr",
       "text": [
        "[2015-04-05 15:53:54,990] Number of reviews: 946 reviews \n"
       ]
      },
      {
       "output_type": "stream",
       "stream": "stderr",
       "text": [
        "[2015-04-05 15:53:54,990] Number of reviews: 946 reviews \n"
       ]
      },
      {
       "output_type": "stream",
       "stream": "stderr",
       "text": [
        "[2015-04-05 15:53:54,990] Number of reviews: 946 reviews \n"
       ]
      },
      {
       "output_type": "stream",
       "stream": "stderr",
       "text": [
        "[2015-04-05 15:53:54,990] Number of reviews: 946 reviews \n"
       ]
      },
      {
       "output_type": "stream",
       "stream": "stderr",
       "text": [
        "[2015-04-05 15:53:54,990] Number of reviews: 946 reviews \n"
       ]
      },
      {
       "output_type": "stream",
       "stream": "stderr",
       "text": [
        "[2015-04-05 15:53:54,990] Number of reviews: 946 reviews \n"
       ]
      },
      {
       "output_type": "stream",
       "stream": "stderr",
       "text": [
        "[2015-04-05 15:53:54,990] Number of reviews: 946 reviews \n"
       ]
      },
      {
       "output_type": "stream",
       "stream": "stderr",
       "text": [
        "[2015-04-05 15:53:54,990] Number of reviews: 946 reviews \n"
       ]
      },
      {
       "output_type": "stream",
       "stream": "stderr",
       "text": [
        "[2015-04-05 15:53:54,990] Number of reviews: 946 reviews \n"
       ]
      },
      {
       "output_type": "stream",
       "stream": "stderr",
       "text": [
        "[2015-04-05 15:53:54,990] Number of reviews: 946 reviews \n"
       ]
      },
      {
       "output_type": "stream",
       "stream": "stderr",
       "text": [
        "[2015-04-05 15:53:54,990] Number of reviews: 946 reviews \n"
       ]
      },
      {
       "output_type": "stream",
       "stream": "stderr",
       "text": [
        "[2015-04-05 15:53:54,990] Number of reviews: 946 reviews \n"
       ]
      },
      {
       "output_type": "stream",
       "stream": "stderr",
       "text": [
        "[2015-04-05 15:53:54,990] Number of reviews: 946 reviews \n"
       ]
      },
      {
       "output_type": "stream",
       "stream": "stderr",
       "text": [
        "[2015-04-05 15:53:54,990] Number of reviews: 946 reviews \n"
       ]
      },
      {
       "output_type": "stream",
       "stream": "stderr",
       "text": [
        "INFO:scrape_solution:Number of reviews: 946 reviews \n"
       ]
      },
      {
       "output_type": "stream",
       "stream": "stderr",
       "text": [
        "[2015-04-05 15:53:54,997] Hotel name: Wyndham Boston Beacon Hill\n"
       ]
      },
      {
       "output_type": "stream",
       "stream": "stderr",
       "text": [
        "[2015-04-05 15:53:54,997] Hotel name: Wyndham Boston Beacon Hill\n"
       ]
      },
      {
       "output_type": "stream",
       "stream": "stderr",
       "text": [
        "[2015-04-05 15:53:54,997] Hotel name: Wyndham Boston Beacon Hill\n"
       ]
      },
      {
       "output_type": "stream",
       "stream": "stderr",
       "text": [
        "[2015-04-05 15:53:54,997] Hotel name: Wyndham Boston Beacon Hill\n"
       ]
      },
      {
       "output_type": "stream",
       "stream": "stderr",
       "text": [
        "[2015-04-05 15:53:54,997] Hotel name: Wyndham Boston Beacon Hill\n"
       ]
      },
      {
       "output_type": "stream",
       "stream": "stderr",
       "text": [
        "[2015-04-05 15:53:54,997] Hotel name: Wyndham Boston Beacon Hill\n"
       ]
      },
      {
       "output_type": "stream",
       "stream": "stderr",
       "text": [
        "[2015-04-05 15:53:54,997] Hotel name: Wyndham Boston Beacon Hill\n"
       ]
      },
      {
       "output_type": "stream",
       "stream": "stderr",
       "text": [
        "[2015-04-05 15:53:54,997] Hotel name: Wyndham Boston Beacon Hill\n"
       ]
      },
      {
       "output_type": "stream",
       "stream": "stderr",
       "text": [
        "[2015-04-05 15:53:54,997] Hotel name: Wyndham Boston Beacon Hill\n"
       ]
      },
      {
       "output_type": "stream",
       "stream": "stderr",
       "text": [
        "[2015-04-05 15:53:54,997] Hotel name: Wyndham Boston Beacon Hill\n"
       ]
      },
      {
       "output_type": "stream",
       "stream": "stderr",
       "text": [
        "[2015-04-05 15:53:54,997] Hotel name: Wyndham Boston Beacon Hill\n"
       ]
      },
      {
       "output_type": "stream",
       "stream": "stderr",
       "text": [
        "[2015-04-05 15:53:54,997] Hotel name: Wyndham Boston Beacon Hill\n"
       ]
      },
      {
       "output_type": "stream",
       "stream": "stderr",
       "text": [
        "[2015-04-05 15:53:54,997] Hotel name: Wyndham Boston Beacon Hill\n"
       ]
      },
      {
       "output_type": "stream",
       "stream": "stderr",
       "text": [
        "[2015-04-05 15:53:54,997] Hotel name: Wyndham Boston Beacon Hill\n"
       ]
      },
      {
       "output_type": "stream",
       "stream": "stderr",
       "text": [
        "INFO:scrape_solution:Hotel name: Wyndham Boston Beacon Hill\n"
       ]
      },
      {
       "output_type": "stream",
       "stream": "stderr",
       "text": [
        "[2015-04-05 15:53:55,007] Stars: 4\n"
       ]
      },
      {
       "output_type": "stream",
       "stream": "stderr",
       "text": [
        "[2015-04-05 15:53:55,007] Stars: 4\n"
       ]
      },
      {
       "output_type": "stream",
       "stream": "stderr",
       "text": [
        "[2015-04-05 15:53:55,007] Stars: 4\n"
       ]
      },
      {
       "output_type": "stream",
       "stream": "stderr",
       "text": [
        "[2015-04-05 15:53:55,007] Stars: 4\n"
       ]
      },
      {
       "output_type": "stream",
       "stream": "stderr",
       "text": [
        "[2015-04-05 15:53:55,007] Stars: 4\n"
       ]
      },
      {
       "output_type": "stream",
       "stream": "stderr",
       "text": [
        "[2015-04-05 15:53:55,007] Stars: 4\n"
       ]
      },
      {
       "output_type": "stream",
       "stream": "stderr",
       "text": [
        "[2015-04-05 15:53:55,007] Stars: 4\n"
       ]
      },
      {
       "output_type": "stream",
       "stream": "stderr",
       "text": [
        "[2015-04-05 15:53:55,007] Stars: 4\n"
       ]
      },
      {
       "output_type": "stream",
       "stream": "stderr",
       "text": [
        "[2015-04-05 15:53:55,007] Stars: 4\n"
       ]
      },
      {
       "output_type": "stream",
       "stream": "stderr",
       "text": [
        "[2015-04-05 15:53:55,007] Stars: 4\n"
       ]
      },
      {
       "output_type": "stream",
       "stream": "stderr",
       "text": [
        "[2015-04-05 15:53:55,007] Stars: 4\n"
       ]
      },
      {
       "output_type": "stream",
       "stream": "stderr",
       "text": [
        "[2015-04-05 15:53:55,007] Stars: 4\n"
       ]
      },
      {
       "output_type": "stream",
       "stream": "stderr",
       "text": [
        "[2015-04-05 15:53:55,007] Stars: 4\n"
       ]
      },
      {
       "output_type": "stream",
       "stream": "stderr",
       "text": [
        "[2015-04-05 15:53:55,007] Stars: 4\n"
       ]
      },
      {
       "output_type": "stream",
       "stream": "stderr",
       "text": [
        "INFO:scrape_solution:Stars: 4\n"
       ]
      },
      {
       "output_type": "stream",
       "stream": "stderr",
       "text": [
        "[2015-04-05 15:53:55,018] Number of reviews: 1,036 reviews \n"
       ]
      },
      {
       "output_type": "stream",
       "stream": "stderr",
       "text": [
        "[2015-04-05 15:53:55,018] Number of reviews: 1,036 reviews \n"
       ]
      },
      {
       "output_type": "stream",
       "stream": "stderr",
       "text": [
        "[2015-04-05 15:53:55,018] Number of reviews: 1,036 reviews \n"
       ]
      },
      {
       "output_type": "stream",
       "stream": "stderr",
       "text": [
        "[2015-04-05 15:53:55,018] Number of reviews: 1,036 reviews \n"
       ]
      },
      {
       "output_type": "stream",
       "stream": "stderr",
       "text": [
        "[2015-04-05 15:53:55,018] Number of reviews: 1,036 reviews \n"
       ]
      },
      {
       "output_type": "stream",
       "stream": "stderr",
       "text": [
        "[2015-04-05 15:53:55,018] Number of reviews: 1,036 reviews \n"
       ]
      },
      {
       "output_type": "stream",
       "stream": "stderr",
       "text": [
        "[2015-04-05 15:53:55,018] Number of reviews: 1,036 reviews \n"
       ]
      },
      {
       "output_type": "stream",
       "stream": "stderr",
       "text": [
        "[2015-04-05 15:53:55,018] Number of reviews: 1,036 reviews \n"
       ]
      },
      {
       "output_type": "stream",
       "stream": "stderr",
       "text": [
        "[2015-04-05 15:53:55,018] Number of reviews: 1,036 reviews \n"
       ]
      },
      {
       "output_type": "stream",
       "stream": "stderr",
       "text": [
        "[2015-04-05 15:53:55,018] Number of reviews: 1,036 reviews \n"
       ]
      },
      {
       "output_type": "stream",
       "stream": "stderr",
       "text": [
        "[2015-04-05 15:53:55,018] Number of reviews: 1,036 reviews \n"
       ]
      },
      {
       "output_type": "stream",
       "stream": "stderr",
       "text": [
        "[2015-04-05 15:53:55,018] Number of reviews: 1,036 reviews \n"
       ]
      },
      {
       "output_type": "stream",
       "stream": "stderr",
       "text": [
        "[2015-04-05 15:53:55,018] Number of reviews: 1,036 reviews \n"
       ]
      },
      {
       "output_type": "stream",
       "stream": "stderr",
       "text": [
        "[2015-04-05 15:53:55,018] Number of reviews: 1,036 reviews \n"
       ]
      },
      {
       "output_type": "stream",
       "stream": "stderr",
       "text": [
        "INFO:scrape_solution:Number of reviews: 1,036 reviews \n"
       ]
      },
      {
       "output_type": "stream",
       "stream": "stderr",
       "text": [
        "[2015-04-05 15:53:55,026] Hotel name: BEST WESTERN University Hotel Boston-Brighton\n"
       ]
      },
      {
       "output_type": "stream",
       "stream": "stderr",
       "text": [
        "[2015-04-05 15:53:55,026] Hotel name: BEST WESTERN University Hotel Boston-Brighton\n"
       ]
      },
      {
       "output_type": "stream",
       "stream": "stderr",
       "text": [
        "[2015-04-05 15:53:55,026] Hotel name: BEST WESTERN University Hotel Boston-Brighton\n"
       ]
      },
      {
       "output_type": "stream",
       "stream": "stderr",
       "text": [
        "[2015-04-05 15:53:55,026] Hotel name: BEST WESTERN University Hotel Boston-Brighton\n"
       ]
      },
      {
       "output_type": "stream",
       "stream": "stderr",
       "text": [
        "[2015-04-05 15:53:55,026] Hotel name: BEST WESTERN University Hotel Boston-Brighton\n"
       ]
      },
      {
       "output_type": "stream",
       "stream": "stderr",
       "text": [
        "[2015-04-05 15:53:55,026] Hotel name: BEST WESTERN University Hotel Boston-Brighton\n"
       ]
      },
      {
       "output_type": "stream",
       "stream": "stderr",
       "text": [
        "[2015-04-05 15:53:55,026] Hotel name: BEST WESTERN University Hotel Boston-Brighton\n"
       ]
      },
      {
       "output_type": "stream",
       "stream": "stderr",
       "text": [
        "[2015-04-05 15:53:55,026] Hotel name: BEST WESTERN University Hotel Boston-Brighton\n"
       ]
      },
      {
       "output_type": "stream",
       "stream": "stderr",
       "text": [
        "[2015-04-05 15:53:55,026] Hotel name: BEST WESTERN University Hotel Boston-Brighton\n"
       ]
      },
      {
       "output_type": "stream",
       "stream": "stderr",
       "text": [
        "[2015-04-05 15:53:55,026] Hotel name: BEST WESTERN University Hotel Boston-Brighton\n"
       ]
      },
      {
       "output_type": "stream",
       "stream": "stderr",
       "text": [
        "[2015-04-05 15:53:55,026] Hotel name: BEST WESTERN University Hotel Boston-Brighton\n"
       ]
      },
      {
       "output_type": "stream",
       "stream": "stderr",
       "text": [
        "[2015-04-05 15:53:55,026] Hotel name: BEST WESTERN University Hotel Boston-Brighton\n"
       ]
      },
      {
       "output_type": "stream",
       "stream": "stderr",
       "text": [
        "[2015-04-05 15:53:55,026] Hotel name: BEST WESTERN University Hotel Boston-Brighton\n"
       ]
      },
      {
       "output_type": "stream",
       "stream": "stderr",
       "text": [
        "[2015-04-05 15:53:55,026] Hotel name: BEST WESTERN University Hotel Boston-Brighton\n"
       ]
      },
      {
       "output_type": "stream",
       "stream": "stderr",
       "text": [
        "INFO:scrape_solution:Hotel name: BEST WESTERN University Hotel Boston-Brighton\n"
       ]
      },
      {
       "output_type": "stream",
       "stream": "stderr",
       "text": [
        "[2015-04-05 15:53:55,034] Stars: 3.5\n"
       ]
      },
      {
       "output_type": "stream",
       "stream": "stderr",
       "text": [
        "[2015-04-05 15:53:55,034] Stars: 3.5\n"
       ]
      },
      {
       "output_type": "stream",
       "stream": "stderr",
       "text": [
        "[2015-04-05 15:53:55,034] Stars: 3.5\n"
       ]
      },
      {
       "output_type": "stream",
       "stream": "stderr",
       "text": [
        "[2015-04-05 15:53:55,034] Stars: 3.5\n"
       ]
      },
      {
       "output_type": "stream",
       "stream": "stderr",
       "text": [
        "[2015-04-05 15:53:55,034] Stars: 3.5\n"
       ]
      },
      {
       "output_type": "stream",
       "stream": "stderr",
       "text": [
        "[2015-04-05 15:53:55,034] Stars: 3.5\n"
       ]
      },
      {
       "output_type": "stream",
       "stream": "stderr",
       "text": [
        "[2015-04-05 15:53:55,034] Stars: 3.5\n"
       ]
      },
      {
       "output_type": "stream",
       "stream": "stderr",
       "text": [
        "[2015-04-05 15:53:55,034] Stars: 3.5\n"
       ]
      },
      {
       "output_type": "stream",
       "stream": "stderr",
       "text": [
        "[2015-04-05 15:53:55,034] Stars: 3.5\n"
       ]
      },
      {
       "output_type": "stream",
       "stream": "stderr",
       "text": [
        "[2015-04-05 15:53:55,034] Stars: 3.5\n"
       ]
      },
      {
       "output_type": "stream",
       "stream": "stderr",
       "text": [
        "[2015-04-05 15:53:55,034] Stars: 3.5\n"
       ]
      },
      {
       "output_type": "stream",
       "stream": "stderr",
       "text": [
        "[2015-04-05 15:53:55,034] Stars: 3.5\n"
       ]
      },
      {
       "output_type": "stream",
       "stream": "stderr",
       "text": [
        "[2015-04-05 15:53:55,034] Stars: 3.5\n"
       ]
      },
      {
       "output_type": "stream",
       "stream": "stderr",
       "text": [
        "[2015-04-05 15:53:55,034] Stars: 3.5\n"
       ]
      },
      {
       "output_type": "stream",
       "stream": "stderr",
       "text": [
        "INFO:scrape_solution:Stars: 3.5\n"
       ]
      },
      {
       "output_type": "stream",
       "stream": "stderr",
       "text": [
        "[2015-04-05 15:53:55,045] Number of reviews: 361 reviews \n"
       ]
      },
      {
       "output_type": "stream",
       "stream": "stderr",
       "text": [
        "[2015-04-05 15:53:55,045] Number of reviews: 361 reviews \n"
       ]
      },
      {
       "output_type": "stream",
       "stream": "stderr",
       "text": [
        "[2015-04-05 15:53:55,045] Number of reviews: 361 reviews \n"
       ]
      },
      {
       "output_type": "stream",
       "stream": "stderr",
       "text": [
        "[2015-04-05 15:53:55,045] Number of reviews: 361 reviews \n"
       ]
      },
      {
       "output_type": "stream",
       "stream": "stderr",
       "text": [
        "[2015-04-05 15:53:55,045] Number of reviews: 361 reviews \n"
       ]
      },
      {
       "output_type": "stream",
       "stream": "stderr",
       "text": [
        "[2015-04-05 15:53:55,045] Number of reviews: 361 reviews \n"
       ]
      },
      {
       "output_type": "stream",
       "stream": "stderr",
       "text": [
        "[2015-04-05 15:53:55,045] Number of reviews: 361 reviews \n"
       ]
      },
      {
       "output_type": "stream",
       "stream": "stderr",
       "text": [
        "[2015-04-05 15:53:55,045] Number of reviews: 361 reviews \n"
       ]
      },
      {
       "output_type": "stream",
       "stream": "stderr",
       "text": [
        "[2015-04-05 15:53:55,045] Number of reviews: 361 reviews \n"
       ]
      },
      {
       "output_type": "stream",
       "stream": "stderr",
       "text": [
        "[2015-04-05 15:53:55,045] Number of reviews: 361 reviews \n"
       ]
      },
      {
       "output_type": "stream",
       "stream": "stderr",
       "text": [
        "[2015-04-05 15:53:55,045] Number of reviews: 361 reviews \n"
       ]
      },
      {
       "output_type": "stream",
       "stream": "stderr",
       "text": [
        "[2015-04-05 15:53:55,045] Number of reviews: 361 reviews \n"
       ]
      },
      {
       "output_type": "stream",
       "stream": "stderr",
       "text": [
        "[2015-04-05 15:53:55,045] Number of reviews: 361 reviews \n"
       ]
      },
      {
       "output_type": "stream",
       "stream": "stderr",
       "text": [
        "[2015-04-05 15:53:55,045] Number of reviews: 361 reviews \n"
       ]
      },
      {
       "output_type": "stream",
       "stream": "stderr",
       "text": [
        "INFO:scrape_solution:Number of reviews: 361 reviews \n"
       ]
      },
      {
       "output_type": "stream",
       "stream": "stderr",
       "text": [
        "[2015-04-05 15:53:55,052] Hotel name: Eliot Hotel\n"
       ]
      },
      {
       "output_type": "stream",
       "stream": "stderr",
       "text": [
        "[2015-04-05 15:53:55,052] Hotel name: Eliot Hotel\n"
       ]
      },
      {
       "output_type": "stream",
       "stream": "stderr",
       "text": [
        "[2015-04-05 15:53:55,052] Hotel name: Eliot Hotel\n"
       ]
      },
      {
       "output_type": "stream",
       "stream": "stderr",
       "text": [
        "[2015-04-05 15:53:55,052] Hotel name: Eliot Hotel\n"
       ]
      },
      {
       "output_type": "stream",
       "stream": "stderr",
       "text": [
        "[2015-04-05 15:53:55,052] Hotel name: Eliot Hotel\n"
       ]
      },
      {
       "output_type": "stream",
       "stream": "stderr",
       "text": [
        "[2015-04-05 15:53:55,052] Hotel name: Eliot Hotel\n"
       ]
      },
      {
       "output_type": "stream",
       "stream": "stderr",
       "text": [
        "[2015-04-05 15:53:55,052] Hotel name: Eliot Hotel\n"
       ]
      },
      {
       "output_type": "stream",
       "stream": "stderr",
       "text": [
        "[2015-04-05 15:53:55,052] Hotel name: Eliot Hotel\n"
       ]
      },
      {
       "output_type": "stream",
       "stream": "stderr",
       "text": [
        "[2015-04-05 15:53:55,052] Hotel name: Eliot Hotel\n"
       ]
      },
      {
       "output_type": "stream",
       "stream": "stderr",
       "text": [
        "[2015-04-05 15:53:55,052] Hotel name: Eliot Hotel\n"
       ]
      },
      {
       "output_type": "stream",
       "stream": "stderr",
       "text": [
        "[2015-04-05 15:53:55,052] Hotel name: Eliot Hotel\n"
       ]
      },
      {
       "output_type": "stream",
       "stream": "stderr",
       "text": [
        "[2015-04-05 15:53:55,052] Hotel name: Eliot Hotel\n"
       ]
      },
      {
       "output_type": "stream",
       "stream": "stderr",
       "text": [
        "[2015-04-05 15:53:55,052] Hotel name: Eliot Hotel\n"
       ]
      },
      {
       "output_type": "stream",
       "stream": "stderr",
       "text": [
        "[2015-04-05 15:53:55,052] Hotel name: Eliot Hotel\n"
       ]
      },
      {
       "output_type": "stream",
       "stream": "stderr",
       "text": [
        "INFO:scrape_solution:Hotel name: Eliot Hotel\n"
       ]
      },
      {
       "output_type": "stream",
       "stream": "stderr",
       "text": [
        "[2015-04-05 15:53:55,062] Stars: 4.5\n"
       ]
      },
      {
       "output_type": "stream",
       "stream": "stderr",
       "text": [
        "[2015-04-05 15:53:55,062] Stars: 4.5\n"
       ]
      },
      {
       "output_type": "stream",
       "stream": "stderr",
       "text": [
        "[2015-04-05 15:53:55,062] Stars: 4.5\n"
       ]
      },
      {
       "output_type": "stream",
       "stream": "stderr",
       "text": [
        "[2015-04-05 15:53:55,062] Stars: 4.5\n"
       ]
      },
      {
       "output_type": "stream",
       "stream": "stderr",
       "text": [
        "[2015-04-05 15:53:55,062] Stars: 4.5\n"
       ]
      },
      {
       "output_type": "stream",
       "stream": "stderr",
       "text": [
        "[2015-04-05 15:53:55,062] Stars: 4.5\n"
       ]
      },
      {
       "output_type": "stream",
       "stream": "stderr",
       "text": [
        "[2015-04-05 15:53:55,062] Stars: 4.5\n"
       ]
      },
      {
       "output_type": "stream",
       "stream": "stderr",
       "text": [
        "[2015-04-05 15:53:55,062] Stars: 4.5\n"
       ]
      },
      {
       "output_type": "stream",
       "stream": "stderr",
       "text": [
        "[2015-04-05 15:53:55,062] Stars: 4.5\n"
       ]
      },
      {
       "output_type": "stream",
       "stream": "stderr",
       "text": [
        "[2015-04-05 15:53:55,062] Stars: 4.5\n"
       ]
      },
      {
       "output_type": "stream",
       "stream": "stderr",
       "text": [
        "[2015-04-05 15:53:55,062] Stars: 4.5\n"
       ]
      },
      {
       "output_type": "stream",
       "stream": "stderr",
       "text": [
        "[2015-04-05 15:53:55,062] Stars: 4.5\n"
       ]
      },
      {
       "output_type": "stream",
       "stream": "stderr",
       "text": [
        "[2015-04-05 15:53:55,062] Stars: 4.5\n"
       ]
      },
      {
       "output_type": "stream",
       "stream": "stderr",
       "text": [
        "[2015-04-05 15:53:55,062] Stars: 4.5\n"
       ]
      },
      {
       "output_type": "stream",
       "stream": "stderr",
       "text": [
        "INFO:scrape_solution:Stars: 4.5\n"
       ]
      },
      {
       "output_type": "stream",
       "stream": "stderr",
       "text": [
        "[2015-04-05 15:53:55,073] Number of reviews: 746 reviews \n"
       ]
      },
      {
       "output_type": "stream",
       "stream": "stderr",
       "text": [
        "[2015-04-05 15:53:55,073] Number of reviews: 746 reviews \n"
       ]
      },
      {
       "output_type": "stream",
       "stream": "stderr",
       "text": [
        "[2015-04-05 15:53:55,073] Number of reviews: 746 reviews \n"
       ]
      },
      {
       "output_type": "stream",
       "stream": "stderr",
       "text": [
        "[2015-04-05 15:53:55,073] Number of reviews: 746 reviews \n"
       ]
      },
      {
       "output_type": "stream",
       "stream": "stderr",
       "text": [
        "[2015-04-05 15:53:55,073] Number of reviews: 746 reviews \n"
       ]
      },
      {
       "output_type": "stream",
       "stream": "stderr",
       "text": [
        "[2015-04-05 15:53:55,073] Number of reviews: 746 reviews \n"
       ]
      },
      {
       "output_type": "stream",
       "stream": "stderr",
       "text": [
        "[2015-04-05 15:53:55,073] Number of reviews: 746 reviews \n"
       ]
      },
      {
       "output_type": "stream",
       "stream": "stderr",
       "text": [
        "[2015-04-05 15:53:55,073] Number of reviews: 746 reviews \n"
       ]
      },
      {
       "output_type": "stream",
       "stream": "stderr",
       "text": [
        "[2015-04-05 15:53:55,073] Number of reviews: 746 reviews \n"
       ]
      },
      {
       "output_type": "stream",
       "stream": "stderr",
       "text": [
        "[2015-04-05 15:53:55,073] Number of reviews: 746 reviews \n"
       ]
      },
      {
       "output_type": "stream",
       "stream": "stderr",
       "text": [
        "[2015-04-05 15:53:55,073] Number of reviews: 746 reviews \n"
       ]
      },
      {
       "output_type": "stream",
       "stream": "stderr",
       "text": [
        "[2015-04-05 15:53:55,073] Number of reviews: 746 reviews \n"
       ]
      },
      {
       "output_type": "stream",
       "stream": "stderr",
       "text": [
        "[2015-04-05 15:53:55,073] Number of reviews: 746 reviews \n"
       ]
      },
      {
       "output_type": "stream",
       "stream": "stderr",
       "text": [
        "[2015-04-05 15:53:55,073] Number of reviews: 746 reviews \n"
       ]
      },
      {
       "output_type": "stream",
       "stream": "stderr",
       "text": [
        "INFO:scrape_solution:Number of reviews: 746 reviews \n"
       ]
      },
      {
       "output_type": "stream",
       "stream": "stderr",
       "text": [
        "[2015-04-05 15:53:55,080] Hotel name: The Westin Boston Waterfront\n"
       ]
      },
      {
       "output_type": "stream",
       "stream": "stderr",
       "text": [
        "[2015-04-05 15:53:55,080] Hotel name: The Westin Boston Waterfront\n"
       ]
      },
      {
       "output_type": "stream",
       "stream": "stderr",
       "text": [
        "[2015-04-05 15:53:55,080] Hotel name: The Westin Boston Waterfront\n"
       ]
      },
      {
       "output_type": "stream",
       "stream": "stderr",
       "text": [
        "[2015-04-05 15:53:55,080] Hotel name: The Westin Boston Waterfront\n"
       ]
      },
      {
       "output_type": "stream",
       "stream": "stderr",
       "text": [
        "[2015-04-05 15:53:55,080] Hotel name: The Westin Boston Waterfront\n"
       ]
      },
      {
       "output_type": "stream",
       "stream": "stderr",
       "text": [
        "[2015-04-05 15:53:55,080] Hotel name: The Westin Boston Waterfront\n"
       ]
      },
      {
       "output_type": "stream",
       "stream": "stderr",
       "text": [
        "[2015-04-05 15:53:55,080] Hotel name: The Westin Boston Waterfront\n"
       ]
      },
      {
       "output_type": "stream",
       "stream": "stderr",
       "text": [
        "[2015-04-05 15:53:55,080] Hotel name: The Westin Boston Waterfront\n"
       ]
      },
      {
       "output_type": "stream",
       "stream": "stderr",
       "text": [
        "[2015-04-05 15:53:55,080] Hotel name: The Westin Boston Waterfront\n"
       ]
      },
      {
       "output_type": "stream",
       "stream": "stderr",
       "text": [
        "[2015-04-05 15:53:55,080] Hotel name: The Westin Boston Waterfront\n"
       ]
      },
      {
       "output_type": "stream",
       "stream": "stderr",
       "text": [
        "[2015-04-05 15:53:55,080] Hotel name: The Westin Boston Waterfront\n"
       ]
      },
      {
       "output_type": "stream",
       "stream": "stderr",
       "text": [
        "[2015-04-05 15:53:55,080] Hotel name: The Westin Boston Waterfront\n"
       ]
      },
      {
       "output_type": "stream",
       "stream": "stderr",
       "text": [
        "[2015-04-05 15:53:55,080] Hotel name: The Westin Boston Waterfront\n"
       ]
      },
      {
       "output_type": "stream",
       "stream": "stderr",
       "text": [
        "[2015-04-05 15:53:55,080] Hotel name: The Westin Boston Waterfront\n"
       ]
      },
      {
       "output_type": "stream",
       "stream": "stderr",
       "text": [
        "INFO:scrape_solution:Hotel name: The Westin Boston Waterfront\n"
       ]
      },
      {
       "output_type": "stream",
       "stream": "stderr",
       "text": [
        "[2015-04-05 15:53:55,090] Stars: 4\n"
       ]
      },
      {
       "output_type": "stream",
       "stream": "stderr",
       "text": [
        "[2015-04-05 15:53:55,090] Stars: 4\n"
       ]
      },
      {
       "output_type": "stream",
       "stream": "stderr",
       "text": [
        "[2015-04-05 15:53:55,090] Stars: 4\n"
       ]
      },
      {
       "output_type": "stream",
       "stream": "stderr",
       "text": [
        "[2015-04-05 15:53:55,090] Stars: 4\n"
       ]
      },
      {
       "output_type": "stream",
       "stream": "stderr",
       "text": [
        "[2015-04-05 15:53:55,090] Stars: 4\n"
       ]
      },
      {
       "output_type": "stream",
       "stream": "stderr",
       "text": [
        "[2015-04-05 15:53:55,090] Stars: 4\n"
       ]
      },
      {
       "output_type": "stream",
       "stream": "stderr",
       "text": [
        "[2015-04-05 15:53:55,090] Stars: 4\n"
       ]
      },
      {
       "output_type": "stream",
       "stream": "stderr",
       "text": [
        "[2015-04-05 15:53:55,090] Stars: 4\n"
       ]
      },
      {
       "output_type": "stream",
       "stream": "stderr",
       "text": [
        "[2015-04-05 15:53:55,090] Stars: 4\n"
       ]
      },
      {
       "output_type": "stream",
       "stream": "stderr",
       "text": [
        "[2015-04-05 15:53:55,090] Stars: 4\n"
       ]
      },
      {
       "output_type": "stream",
       "stream": "stderr",
       "text": [
        "[2015-04-05 15:53:55,090] Stars: 4\n"
       ]
      },
      {
       "output_type": "stream",
       "stream": "stderr",
       "text": [
        "[2015-04-05 15:53:55,090] Stars: 4\n"
       ]
      },
      {
       "output_type": "stream",
       "stream": "stderr",
       "text": [
        "[2015-04-05 15:53:55,090] Stars: 4\n"
       ]
      },
      {
       "output_type": "stream",
       "stream": "stderr",
       "text": [
        "[2015-04-05 15:53:55,090] Stars: 4\n"
       ]
      },
      {
       "output_type": "stream",
       "stream": "stderr",
       "text": [
        "INFO:scrape_solution:Stars: 4\n"
       ]
      },
      {
       "output_type": "stream",
       "stream": "stderr",
       "text": [
        "[2015-04-05 15:53:55,101] Number of reviews: 1,621 reviews \n"
       ]
      },
      {
       "output_type": "stream",
       "stream": "stderr",
       "text": [
        "[2015-04-05 15:53:55,101] Number of reviews: 1,621 reviews \n"
       ]
      },
      {
       "output_type": "stream",
       "stream": "stderr",
       "text": [
        "[2015-04-05 15:53:55,101] Number of reviews: 1,621 reviews \n"
       ]
      },
      {
       "output_type": "stream",
       "stream": "stderr",
       "text": [
        "[2015-04-05 15:53:55,101] Number of reviews: 1,621 reviews \n"
       ]
      },
      {
       "output_type": "stream",
       "stream": "stderr",
       "text": [
        "[2015-04-05 15:53:55,101] Number of reviews: 1,621 reviews \n"
       ]
      },
      {
       "output_type": "stream",
       "stream": "stderr",
       "text": [
        "[2015-04-05 15:53:55,101] Number of reviews: 1,621 reviews \n"
       ]
      },
      {
       "output_type": "stream",
       "stream": "stderr",
       "text": [
        "[2015-04-05 15:53:55,101] Number of reviews: 1,621 reviews \n"
       ]
      },
      {
       "output_type": "stream",
       "stream": "stderr",
       "text": [
        "[2015-04-05 15:53:55,101] Number of reviews: 1,621 reviews \n"
       ]
      },
      {
       "output_type": "stream",
       "stream": "stderr",
       "text": [
        "[2015-04-05 15:53:55,101] Number of reviews: 1,621 reviews \n"
       ]
      },
      {
       "output_type": "stream",
       "stream": "stderr",
       "text": [
        "[2015-04-05 15:53:55,101] Number of reviews: 1,621 reviews \n"
       ]
      },
      {
       "output_type": "stream",
       "stream": "stderr",
       "text": [
        "[2015-04-05 15:53:55,101] Number of reviews: 1,621 reviews \n"
       ]
      },
      {
       "output_type": "stream",
       "stream": "stderr",
       "text": [
        "[2015-04-05 15:53:55,101] Number of reviews: 1,621 reviews \n"
       ]
      },
      {
       "output_type": "stream",
       "stream": "stderr",
       "text": [
        "[2015-04-05 15:53:55,101] Number of reviews: 1,621 reviews \n"
       ]
      },
      {
       "output_type": "stream",
       "stream": "stderr",
       "text": [
        "[2015-04-05 15:53:55,101] Number of reviews: 1,621 reviews \n"
       ]
      },
      {
       "output_type": "stream",
       "stream": "stderr",
       "text": [
        "INFO:scrape_solution:Number of reviews: 1,621 reviews \n"
       ]
      },
      {
       "output_type": "stream",
       "stream": "stderr",
       "text": [
        "[2015-04-05 15:53:55,110] Hotel name: Club Quarters Boston\n"
       ]
      },
      {
       "output_type": "stream",
       "stream": "stderr",
       "text": [
        "[2015-04-05 15:53:55,110] Hotel name: Club Quarters Boston\n"
       ]
      },
      {
       "output_type": "stream",
       "stream": "stderr",
       "text": [
        "[2015-04-05 15:53:55,110] Hotel name: Club Quarters Boston\n"
       ]
      },
      {
       "output_type": "stream",
       "stream": "stderr",
       "text": [
        "[2015-04-05 15:53:55,110] Hotel name: Club Quarters Boston\n"
       ]
      },
      {
       "output_type": "stream",
       "stream": "stderr",
       "text": [
        "[2015-04-05 15:53:55,110] Hotel name: Club Quarters Boston\n"
       ]
      },
      {
       "output_type": "stream",
       "stream": "stderr",
       "text": [
        "[2015-04-05 15:53:55,110] Hotel name: Club Quarters Boston\n"
       ]
      },
      {
       "output_type": "stream",
       "stream": "stderr",
       "text": [
        "[2015-04-05 15:53:55,110] Hotel name: Club Quarters Boston\n"
       ]
      },
      {
       "output_type": "stream",
       "stream": "stderr",
       "text": [
        "[2015-04-05 15:53:55,110] Hotel name: Club Quarters Boston\n"
       ]
      },
      {
       "output_type": "stream",
       "stream": "stderr",
       "text": [
        "[2015-04-05 15:53:55,110] Hotel name: Club Quarters Boston\n"
       ]
      },
      {
       "output_type": "stream",
       "stream": "stderr",
       "text": [
        "[2015-04-05 15:53:55,110] Hotel name: Club Quarters Boston\n"
       ]
      },
      {
       "output_type": "stream",
       "stream": "stderr",
       "text": [
        "[2015-04-05 15:53:55,110] Hotel name: Club Quarters Boston\n"
       ]
      },
      {
       "output_type": "stream",
       "stream": "stderr",
       "text": [
        "[2015-04-05 15:53:55,110] Hotel name: Club Quarters Boston\n"
       ]
      },
      {
       "output_type": "stream",
       "stream": "stderr",
       "text": [
        "[2015-04-05 15:53:55,110] Hotel name: Club Quarters Boston\n"
       ]
      },
      {
       "output_type": "stream",
       "stream": "stderr",
       "text": [
        "[2015-04-05 15:53:55,110] Hotel name: Club Quarters Boston\n"
       ]
      },
      {
       "output_type": "stream",
       "stream": "stderr",
       "text": [
        "INFO:scrape_solution:Hotel name: Club Quarters Boston\n"
       ]
      },
      {
       "output_type": "stream",
       "stream": "stderr",
       "text": [
        "[2015-04-05 15:53:55,121] Stars: 4\n"
       ]
      },
      {
       "output_type": "stream",
       "stream": "stderr",
       "text": [
        "[2015-04-05 15:53:55,121] Stars: 4\n"
       ]
      },
      {
       "output_type": "stream",
       "stream": "stderr",
       "text": [
        "[2015-04-05 15:53:55,121] Stars: 4\n"
       ]
      },
      {
       "output_type": "stream",
       "stream": "stderr",
       "text": [
        "[2015-04-05 15:53:55,121] Stars: 4\n"
       ]
      },
      {
       "output_type": "stream",
       "stream": "stderr",
       "text": [
        "[2015-04-05 15:53:55,121] Stars: 4\n"
       ]
      },
      {
       "output_type": "stream",
       "stream": "stderr",
       "text": [
        "[2015-04-05 15:53:55,121] Stars: 4\n"
       ]
      },
      {
       "output_type": "stream",
       "stream": "stderr",
       "text": [
        "[2015-04-05 15:53:55,121] Stars: 4\n"
       ]
      },
      {
       "output_type": "stream",
       "stream": "stderr",
       "text": [
        "[2015-04-05 15:53:55,121] Stars: 4\n"
       ]
      },
      {
       "output_type": "stream",
       "stream": "stderr",
       "text": [
        "[2015-04-05 15:53:55,121] Stars: 4\n"
       ]
      },
      {
       "output_type": "stream",
       "stream": "stderr",
       "text": [
        "[2015-04-05 15:53:55,121] Stars: 4\n"
       ]
      },
      {
       "output_type": "stream",
       "stream": "stderr",
       "text": [
        "[2015-04-05 15:53:55,121] Stars: 4\n"
       ]
      },
      {
       "output_type": "stream",
       "stream": "stderr",
       "text": [
        "[2015-04-05 15:53:55,121] Stars: 4\n"
       ]
      },
      {
       "output_type": "stream",
       "stream": "stderr",
       "text": [
        "[2015-04-05 15:53:55,121] Stars: 4\n"
       ]
      },
      {
       "output_type": "stream",
       "stream": "stderr",
       "text": [
        "[2015-04-05 15:53:55,121] Stars: 4\n"
       ]
      },
      {
       "output_type": "stream",
       "stream": "stderr",
       "text": [
        "INFO:scrape_solution:Stars: 4\n"
       ]
      },
      {
       "output_type": "stream",
       "stream": "stderr",
       "text": [
        "[2015-04-05 15:53:55,131] Number of reviews: 1,051 reviews \n"
       ]
      },
      {
       "output_type": "stream",
       "stream": "stderr",
       "text": [
        "[2015-04-05 15:53:55,131] Number of reviews: 1,051 reviews \n"
       ]
      },
      {
       "output_type": "stream",
       "stream": "stderr",
       "text": [
        "[2015-04-05 15:53:55,131] Number of reviews: 1,051 reviews \n"
       ]
      },
      {
       "output_type": "stream",
       "stream": "stderr",
       "text": [
        "[2015-04-05 15:53:55,131] Number of reviews: 1,051 reviews \n"
       ]
      },
      {
       "output_type": "stream",
       "stream": "stderr",
       "text": [
        "[2015-04-05 15:53:55,131] Number of reviews: 1,051 reviews \n"
       ]
      },
      {
       "output_type": "stream",
       "stream": "stderr",
       "text": [
        "[2015-04-05 15:53:55,131] Number of reviews: 1,051 reviews \n"
       ]
      },
      {
       "output_type": "stream",
       "stream": "stderr",
       "text": [
        "[2015-04-05 15:53:55,131] Number of reviews: 1,051 reviews \n"
       ]
      },
      {
       "output_type": "stream",
       "stream": "stderr",
       "text": [
        "[2015-04-05 15:53:55,131] Number of reviews: 1,051 reviews \n"
       ]
      },
      {
       "output_type": "stream",
       "stream": "stderr",
       "text": [
        "[2015-04-05 15:53:55,131] Number of reviews: 1,051 reviews \n"
       ]
      },
      {
       "output_type": "stream",
       "stream": "stderr",
       "text": [
        "[2015-04-05 15:53:55,131] Number of reviews: 1,051 reviews \n"
       ]
      },
      {
       "output_type": "stream",
       "stream": "stderr",
       "text": [
        "[2015-04-05 15:53:55,131] Number of reviews: 1,051 reviews \n"
       ]
      },
      {
       "output_type": "stream",
       "stream": "stderr",
       "text": [
        "[2015-04-05 15:53:55,131] Number of reviews: 1,051 reviews \n"
       ]
      },
      {
       "output_type": "stream",
       "stream": "stderr",
       "text": [
        "[2015-04-05 15:53:55,131] Number of reviews: 1,051 reviews \n"
       ]
      },
      {
       "output_type": "stream",
       "stream": "stderr",
       "text": [
        "[2015-04-05 15:53:55,131] Number of reviews: 1,051 reviews \n"
       ]
      },
      {
       "output_type": "stream",
       "stream": "stderr",
       "text": [
        "INFO:scrape_solution:Number of reviews: 1,051 reviews \n"
       ]
      },
      {
       "output_type": "stream",
       "stream": "stderr",
       "text": [
        "[2015-04-05 15:53:55,139] Hotel name: Copley House\n"
       ]
      },
      {
       "output_type": "stream",
       "stream": "stderr",
       "text": [
        "[2015-04-05 15:53:55,139] Hotel name: Copley House\n"
       ]
      },
      {
       "output_type": "stream",
       "stream": "stderr",
       "text": [
        "[2015-04-05 15:53:55,139] Hotel name: Copley House\n"
       ]
      },
      {
       "output_type": "stream",
       "stream": "stderr",
       "text": [
        "[2015-04-05 15:53:55,139] Hotel name: Copley House\n"
       ]
      },
      {
       "output_type": "stream",
       "stream": "stderr",
       "text": [
        "[2015-04-05 15:53:55,139] Hotel name: Copley House\n"
       ]
      },
      {
       "output_type": "stream",
       "stream": "stderr",
       "text": [
        "[2015-04-05 15:53:55,139] Hotel name: Copley House\n"
       ]
      },
      {
       "output_type": "stream",
       "stream": "stderr",
       "text": [
        "[2015-04-05 15:53:55,139] Hotel name: Copley House\n"
       ]
      },
      {
       "output_type": "stream",
       "stream": "stderr",
       "text": [
        "[2015-04-05 15:53:55,139] Hotel name: Copley House\n"
       ]
      },
      {
       "output_type": "stream",
       "stream": "stderr",
       "text": [
        "[2015-04-05 15:53:55,139] Hotel name: Copley House\n"
       ]
      },
      {
       "output_type": "stream",
       "stream": "stderr",
       "text": [
        "[2015-04-05 15:53:55,139] Hotel name: Copley House\n"
       ]
      },
      {
       "output_type": "stream",
       "stream": "stderr",
       "text": [
        "[2015-04-05 15:53:55,139] Hotel name: Copley House\n"
       ]
      },
      {
       "output_type": "stream",
       "stream": "stderr",
       "text": [
        "[2015-04-05 15:53:55,139] Hotel name: Copley House\n"
       ]
      },
      {
       "output_type": "stream",
       "stream": "stderr",
       "text": [
        "[2015-04-05 15:53:55,139] Hotel name: Copley House\n"
       ]
      },
      {
       "output_type": "stream",
       "stream": "stderr",
       "text": [
        "[2015-04-05 15:53:55,139] Hotel name: Copley House\n"
       ]
      },
      {
       "output_type": "stream",
       "stream": "stderr",
       "text": [
        "INFO:scrape_solution:Hotel name: Copley House\n"
       ]
      },
      {
       "output_type": "stream",
       "stream": "stderr",
       "text": [
        "[2015-04-05 15:53:55,150] Stars: 3.5\n"
       ]
      },
      {
       "output_type": "stream",
       "stream": "stderr",
       "text": [
        "[2015-04-05 15:53:55,150] Stars: 3.5\n"
       ]
      },
      {
       "output_type": "stream",
       "stream": "stderr",
       "text": [
        "[2015-04-05 15:53:55,150] Stars: 3.5\n"
       ]
      },
      {
       "output_type": "stream",
       "stream": "stderr",
       "text": [
        "[2015-04-05 15:53:55,150] Stars: 3.5\n"
       ]
      },
      {
       "output_type": "stream",
       "stream": "stderr",
       "text": [
        "[2015-04-05 15:53:55,150] Stars: 3.5\n"
       ]
      },
      {
       "output_type": "stream",
       "stream": "stderr",
       "text": [
        "[2015-04-05 15:53:55,150] Stars: 3.5\n"
       ]
      },
      {
       "output_type": "stream",
       "stream": "stderr",
       "text": [
        "[2015-04-05 15:53:55,150] Stars: 3.5\n"
       ]
      },
      {
       "output_type": "stream",
       "stream": "stderr",
       "text": [
        "[2015-04-05 15:53:55,150] Stars: 3.5\n"
       ]
      },
      {
       "output_type": "stream",
       "stream": "stderr",
       "text": [
        "[2015-04-05 15:53:55,150] Stars: 3.5\n"
       ]
      },
      {
       "output_type": "stream",
       "stream": "stderr",
       "text": [
        "[2015-04-05 15:53:55,150] Stars: 3.5\n"
       ]
      },
      {
       "output_type": "stream",
       "stream": "stderr",
       "text": [
        "[2015-04-05 15:53:55,150] Stars: 3.5\n"
       ]
      },
      {
       "output_type": "stream",
       "stream": "stderr",
       "text": [
        "[2015-04-05 15:53:55,150] Stars: 3.5\n"
       ]
      },
      {
       "output_type": "stream",
       "stream": "stderr",
       "text": [
        "[2015-04-05 15:53:55,150] Stars: 3.5\n"
       ]
      },
      {
       "output_type": "stream",
       "stream": "stderr",
       "text": [
        "[2015-04-05 15:53:55,150] Stars: 3.5\n"
       ]
      },
      {
       "output_type": "stream",
       "stream": "stderr",
       "text": [
        "INFO:scrape_solution:Stars: 3.5\n"
       ]
      },
      {
       "output_type": "stream",
       "stream": "stderr",
       "text": [
        "[2015-04-05 15:53:55,165] Number of reviews: 380 reviews \n"
       ]
      },
      {
       "output_type": "stream",
       "stream": "stderr",
       "text": [
        "[2015-04-05 15:53:55,165] Number of reviews: 380 reviews \n"
       ]
      },
      {
       "output_type": "stream",
       "stream": "stderr",
       "text": [
        "[2015-04-05 15:53:55,165] Number of reviews: 380 reviews \n"
       ]
      },
      {
       "output_type": "stream",
       "stream": "stderr",
       "text": [
        "[2015-04-05 15:53:55,165] Number of reviews: 380 reviews \n"
       ]
      },
      {
       "output_type": "stream",
       "stream": "stderr",
       "text": [
        "[2015-04-05 15:53:55,165] Number of reviews: 380 reviews \n"
       ]
      },
      {
       "output_type": "stream",
       "stream": "stderr",
       "text": [
        "[2015-04-05 15:53:55,165] Number of reviews: 380 reviews \n"
       ]
      },
      {
       "output_type": "stream",
       "stream": "stderr",
       "text": [
        "[2015-04-05 15:53:55,165] Number of reviews: 380 reviews \n"
       ]
      },
      {
       "output_type": "stream",
       "stream": "stderr",
       "text": [
        "[2015-04-05 15:53:55,165] Number of reviews: 380 reviews \n"
       ]
      },
      {
       "output_type": "stream",
       "stream": "stderr",
       "text": [
        "[2015-04-05 15:53:55,165] Number of reviews: 380 reviews \n"
       ]
      },
      {
       "output_type": "stream",
       "stream": "stderr",
       "text": [
        "[2015-04-05 15:53:55,165] Number of reviews: 380 reviews \n"
       ]
      },
      {
       "output_type": "stream",
       "stream": "stderr",
       "text": [
        "[2015-04-05 15:53:55,165] Number of reviews: 380 reviews \n"
       ]
      },
      {
       "output_type": "stream",
       "stream": "stderr",
       "text": [
        "[2015-04-05 15:53:55,165] Number of reviews: 380 reviews \n"
       ]
      },
      {
       "output_type": "stream",
       "stream": "stderr",
       "text": [
        "[2015-04-05 15:53:55,165] Number of reviews: 380 reviews \n"
       ]
      },
      {
       "output_type": "stream",
       "stream": "stderr",
       "text": [
        "[2015-04-05 15:53:55,165] Number of reviews: 380 reviews \n"
       ]
      },
      {
       "output_type": "stream",
       "stream": "stderr",
       "text": [
        "INFO:scrape_solution:Number of reviews: 380 reviews \n"
       ]
      },
      {
       "output_type": "stream",
       "stream": "stderr",
       "text": [
        "[2015-04-05 15:53:55,175] Hotel name: Renaissance Boston Waterfront Hotel\n"
       ]
      },
      {
       "output_type": "stream",
       "stream": "stderr",
       "text": [
        "[2015-04-05 15:53:55,175] Hotel name: Renaissance Boston Waterfront Hotel\n"
       ]
      },
      {
       "output_type": "stream",
       "stream": "stderr",
       "text": [
        "[2015-04-05 15:53:55,175] Hotel name: Renaissance Boston Waterfront Hotel\n"
       ]
      },
      {
       "output_type": "stream",
       "stream": "stderr",
       "text": [
        "[2015-04-05 15:53:55,175] Hotel name: Renaissance Boston Waterfront Hotel\n"
       ]
      },
      {
       "output_type": "stream",
       "stream": "stderr",
       "text": [
        "[2015-04-05 15:53:55,175] Hotel name: Renaissance Boston Waterfront Hotel\n"
       ]
      },
      {
       "output_type": "stream",
       "stream": "stderr",
       "text": [
        "[2015-04-05 15:53:55,175] Hotel name: Renaissance Boston Waterfront Hotel\n"
       ]
      },
      {
       "output_type": "stream",
       "stream": "stderr",
       "text": [
        "[2015-04-05 15:53:55,175] Hotel name: Renaissance Boston Waterfront Hotel\n"
       ]
      },
      {
       "output_type": "stream",
       "stream": "stderr",
       "text": [
        "[2015-04-05 15:53:55,175] Hotel name: Renaissance Boston Waterfront Hotel\n"
       ]
      },
      {
       "output_type": "stream",
       "stream": "stderr",
       "text": [
        "[2015-04-05 15:53:55,175] Hotel name: Renaissance Boston Waterfront Hotel\n"
       ]
      },
      {
       "output_type": "stream",
       "stream": "stderr",
       "text": [
        "[2015-04-05 15:53:55,175] Hotel name: Renaissance Boston Waterfront Hotel\n"
       ]
      },
      {
       "output_type": "stream",
       "stream": "stderr",
       "text": [
        "[2015-04-05 15:53:55,175] Hotel name: Renaissance Boston Waterfront Hotel\n"
       ]
      },
      {
       "output_type": "stream",
       "stream": "stderr",
       "text": [
        "[2015-04-05 15:53:55,175] Hotel name: Renaissance Boston Waterfront Hotel\n"
       ]
      },
      {
       "output_type": "stream",
       "stream": "stderr",
       "text": [
        "[2015-04-05 15:53:55,175] Hotel name: Renaissance Boston Waterfront Hotel\n"
       ]
      },
      {
       "output_type": "stream",
       "stream": "stderr",
       "text": [
        "[2015-04-05 15:53:55,175] Hotel name: Renaissance Boston Waterfront Hotel\n"
       ]
      },
      {
       "output_type": "stream",
       "stream": "stderr",
       "text": [
        "INFO:scrape_solution:Hotel name: Renaissance Boston Waterfront Hotel\n"
       ]
      },
      {
       "output_type": "stream",
       "stream": "stderr",
       "text": [
        "[2015-04-05 15:53:55,183] Stars: 4\n"
       ]
      },
      {
       "output_type": "stream",
       "stream": "stderr",
       "text": [
        "[2015-04-05 15:53:55,183] Stars: 4\n"
       ]
      },
      {
       "output_type": "stream",
       "stream": "stderr",
       "text": [
        "[2015-04-05 15:53:55,183] Stars: 4\n"
       ]
      },
      {
       "output_type": "stream",
       "stream": "stderr",
       "text": [
        "[2015-04-05 15:53:55,183] Stars: 4\n"
       ]
      },
      {
       "output_type": "stream",
       "stream": "stderr",
       "text": [
        "[2015-04-05 15:53:55,183] Stars: 4\n"
       ]
      },
      {
       "output_type": "stream",
       "stream": "stderr",
       "text": [
        "[2015-04-05 15:53:55,183] Stars: 4\n"
       ]
      },
      {
       "output_type": "stream",
       "stream": "stderr",
       "text": [
        "[2015-04-05 15:53:55,183] Stars: 4\n"
       ]
      },
      {
       "output_type": "stream",
       "stream": "stderr",
       "text": [
        "[2015-04-05 15:53:55,183] Stars: 4\n"
       ]
      },
      {
       "output_type": "stream",
       "stream": "stderr",
       "text": [
        "[2015-04-05 15:53:55,183] Stars: 4\n"
       ]
      },
      {
       "output_type": "stream",
       "stream": "stderr",
       "text": [
        "[2015-04-05 15:53:55,183] Stars: 4\n"
       ]
      },
      {
       "output_type": "stream",
       "stream": "stderr",
       "text": [
        "[2015-04-05 15:53:55,183] Stars: 4\n"
       ]
      },
      {
       "output_type": "stream",
       "stream": "stderr",
       "text": [
        "[2015-04-05 15:53:55,183] Stars: 4\n"
       ]
      },
      {
       "output_type": "stream",
       "stream": "stderr",
       "text": [
        "[2015-04-05 15:53:55,183] Stars: 4\n"
       ]
      },
      {
       "output_type": "stream",
       "stream": "stderr",
       "text": [
        "[2015-04-05 15:53:55,183] Stars: 4\n"
       ]
      },
      {
       "output_type": "stream",
       "stream": "stderr",
       "text": [
        "INFO:scrape_solution:Stars: 4\n"
       ]
      },
      {
       "output_type": "stream",
       "stream": "stderr",
       "text": [
        "[2015-04-05 15:53:55,196] Number of reviews: 871 reviews \n"
       ]
      },
      {
       "output_type": "stream",
       "stream": "stderr",
       "text": [
        "[2015-04-05 15:53:55,196] Number of reviews: 871 reviews \n"
       ]
      },
      {
       "output_type": "stream",
       "stream": "stderr",
       "text": [
        "[2015-04-05 15:53:55,196] Number of reviews: 871 reviews \n"
       ]
      },
      {
       "output_type": "stream",
       "stream": "stderr",
       "text": [
        "[2015-04-05 15:53:55,196] Number of reviews: 871 reviews \n"
       ]
      },
      {
       "output_type": "stream",
       "stream": "stderr",
       "text": [
        "[2015-04-05 15:53:55,196] Number of reviews: 871 reviews \n"
       ]
      },
      {
       "output_type": "stream",
       "stream": "stderr",
       "text": [
        "[2015-04-05 15:53:55,196] Number of reviews: 871 reviews \n"
       ]
      },
      {
       "output_type": "stream",
       "stream": "stderr",
       "text": [
        "[2015-04-05 15:53:55,196] Number of reviews: 871 reviews \n"
       ]
      },
      {
       "output_type": "stream",
       "stream": "stderr",
       "text": [
        "[2015-04-05 15:53:55,196] Number of reviews: 871 reviews \n"
       ]
      },
      {
       "output_type": "stream",
       "stream": "stderr",
       "text": [
        "[2015-04-05 15:53:55,196] Number of reviews: 871 reviews \n"
       ]
      },
      {
       "output_type": "stream",
       "stream": "stderr",
       "text": [
        "[2015-04-05 15:53:55,196] Number of reviews: 871 reviews \n"
       ]
      },
      {
       "output_type": "stream",
       "stream": "stderr",
       "text": [
        "[2015-04-05 15:53:55,196] Number of reviews: 871 reviews \n"
       ]
      },
      {
       "output_type": "stream",
       "stream": "stderr",
       "text": [
        "[2015-04-05 15:53:55,196] Number of reviews: 871 reviews \n"
       ]
      },
      {
       "output_type": "stream",
       "stream": "stderr",
       "text": [
        "[2015-04-05 15:53:55,196] Number of reviews: 871 reviews \n"
       ]
      },
      {
       "output_type": "stream",
       "stream": "stderr",
       "text": [
        "[2015-04-05 15:53:55,196] Number of reviews: 871 reviews \n"
       ]
      },
      {
       "output_type": "stream",
       "stream": "stderr",
       "text": [
        "INFO:scrape_solution:Number of reviews: 871 reviews \n"
       ]
      },
      {
       "output_type": "stream",
       "stream": "stderr",
       "text": [
        "[2015-04-05 15:53:55,204] Hotel name: DoubleTree Suites by Hilton Boston-Cambridge\n"
       ]
      },
      {
       "output_type": "stream",
       "stream": "stderr",
       "text": [
        "[2015-04-05 15:53:55,204] Hotel name: DoubleTree Suites by Hilton Boston-Cambridge\n"
       ]
      },
      {
       "output_type": "stream",
       "stream": "stderr",
       "text": [
        "[2015-04-05 15:53:55,204] Hotel name: DoubleTree Suites by Hilton Boston-Cambridge\n"
       ]
      },
      {
       "output_type": "stream",
       "stream": "stderr",
       "text": [
        "[2015-04-05 15:53:55,204] Hotel name: DoubleTree Suites by Hilton Boston-Cambridge\n"
       ]
      },
      {
       "output_type": "stream",
       "stream": "stderr",
       "text": [
        "[2015-04-05 15:53:55,204] Hotel name: DoubleTree Suites by Hilton Boston-Cambridge\n"
       ]
      },
      {
       "output_type": "stream",
       "stream": "stderr",
       "text": [
        "[2015-04-05 15:53:55,204] Hotel name: DoubleTree Suites by Hilton Boston-Cambridge\n"
       ]
      },
      {
       "output_type": "stream",
       "stream": "stderr",
       "text": [
        "[2015-04-05 15:53:55,204] Hotel name: DoubleTree Suites by Hilton Boston-Cambridge\n"
       ]
      },
      {
       "output_type": "stream",
       "stream": "stderr",
       "text": [
        "[2015-04-05 15:53:55,204] Hotel name: DoubleTree Suites by Hilton Boston-Cambridge\n"
       ]
      },
      {
       "output_type": "stream",
       "stream": "stderr",
       "text": [
        "[2015-04-05 15:53:55,204] Hotel name: DoubleTree Suites by Hilton Boston-Cambridge\n"
       ]
      },
      {
       "output_type": "stream",
       "stream": "stderr",
       "text": [
        "[2015-04-05 15:53:55,204] Hotel name: DoubleTree Suites by Hilton Boston-Cambridge\n"
       ]
      },
      {
       "output_type": "stream",
       "stream": "stderr",
       "text": [
        "[2015-04-05 15:53:55,204] Hotel name: DoubleTree Suites by Hilton Boston-Cambridge\n"
       ]
      },
      {
       "output_type": "stream",
       "stream": "stderr",
       "text": [
        "[2015-04-05 15:53:55,204] Hotel name: DoubleTree Suites by Hilton Boston-Cambridge\n"
       ]
      },
      {
       "output_type": "stream",
       "stream": "stderr",
       "text": [
        "[2015-04-05 15:53:55,204] Hotel name: DoubleTree Suites by Hilton Boston-Cambridge\n"
       ]
      },
      {
       "output_type": "stream",
       "stream": "stderr",
       "text": [
        "[2015-04-05 15:53:55,204] Hotel name: DoubleTree Suites by Hilton Boston-Cambridge\n"
       ]
      },
      {
       "output_type": "stream",
       "stream": "stderr",
       "text": [
        "INFO:scrape_solution:Hotel name: DoubleTree Suites by Hilton Boston-Cambridge\n"
       ]
      },
      {
       "output_type": "stream",
       "stream": "stderr",
       "text": [
        "[2015-04-05 15:53:55,216] Stars: 4\n"
       ]
      },
      {
       "output_type": "stream",
       "stream": "stderr",
       "text": [
        "[2015-04-05 15:53:55,216] Stars: 4\n"
       ]
      },
      {
       "output_type": "stream",
       "stream": "stderr",
       "text": [
        "[2015-04-05 15:53:55,216] Stars: 4\n"
       ]
      },
      {
       "output_type": "stream",
       "stream": "stderr",
       "text": [
        "[2015-04-05 15:53:55,216] Stars: 4\n"
       ]
      },
      {
       "output_type": "stream",
       "stream": "stderr",
       "text": [
        "[2015-04-05 15:53:55,216] Stars: 4\n"
       ]
      },
      {
       "output_type": "stream",
       "stream": "stderr",
       "text": [
        "[2015-04-05 15:53:55,216] Stars: 4\n"
       ]
      },
      {
       "output_type": "stream",
       "stream": "stderr",
       "text": [
        "[2015-04-05 15:53:55,216] Stars: 4\n"
       ]
      },
      {
       "output_type": "stream",
       "stream": "stderr",
       "text": [
        "[2015-04-05 15:53:55,216] Stars: 4\n"
       ]
      },
      {
       "output_type": "stream",
       "stream": "stderr",
       "text": [
        "[2015-04-05 15:53:55,216] Stars: 4\n"
       ]
      },
      {
       "output_type": "stream",
       "stream": "stderr",
       "text": [
        "[2015-04-05 15:53:55,216] Stars: 4\n"
       ]
      },
      {
       "output_type": "stream",
       "stream": "stderr",
       "text": [
        "[2015-04-05 15:53:55,216] Stars: 4\n"
       ]
      },
      {
       "output_type": "stream",
       "stream": "stderr",
       "text": [
        "[2015-04-05 15:53:55,216] Stars: 4\n"
       ]
      },
      {
       "output_type": "stream",
       "stream": "stderr",
       "text": [
        "[2015-04-05 15:53:55,216] Stars: 4\n"
       ]
      },
      {
       "output_type": "stream",
       "stream": "stderr",
       "text": [
        "[2015-04-05 15:53:55,216] Stars: 4\n"
       ]
      },
      {
       "output_type": "stream",
       "stream": "stderr",
       "text": [
        "INFO:scrape_solution:Stars: 4\n"
       ]
      },
      {
       "output_type": "stream",
       "stream": "stderr",
       "text": [
        "[2015-04-05 15:53:55,226] Number of reviews: 1,064 reviews \n"
       ]
      },
      {
       "output_type": "stream",
       "stream": "stderr",
       "text": [
        "[2015-04-05 15:53:55,226] Number of reviews: 1,064 reviews \n"
       ]
      },
      {
       "output_type": "stream",
       "stream": "stderr",
       "text": [
        "[2015-04-05 15:53:55,226] Number of reviews: 1,064 reviews \n"
       ]
      },
      {
       "output_type": "stream",
       "stream": "stderr",
       "text": [
        "[2015-04-05 15:53:55,226] Number of reviews: 1,064 reviews \n"
       ]
      },
      {
       "output_type": "stream",
       "stream": "stderr",
       "text": [
        "[2015-04-05 15:53:55,226] Number of reviews: 1,064 reviews \n"
       ]
      },
      {
       "output_type": "stream",
       "stream": "stderr",
       "text": [
        "[2015-04-05 15:53:55,226] Number of reviews: 1,064 reviews \n"
       ]
      },
      {
       "output_type": "stream",
       "stream": "stderr",
       "text": [
        "[2015-04-05 15:53:55,226] Number of reviews: 1,064 reviews \n"
       ]
      },
      {
       "output_type": "stream",
       "stream": "stderr",
       "text": [
        "[2015-04-05 15:53:55,226] Number of reviews: 1,064 reviews \n"
       ]
      },
      {
       "output_type": "stream",
       "stream": "stderr",
       "text": [
        "[2015-04-05 15:53:55,226] Number of reviews: 1,064 reviews \n"
       ]
      },
      {
       "output_type": "stream",
       "stream": "stderr",
       "text": [
        "[2015-04-05 15:53:55,226] Number of reviews: 1,064 reviews \n"
       ]
      },
      {
       "output_type": "stream",
       "stream": "stderr",
       "text": [
        "[2015-04-05 15:53:55,226] Number of reviews: 1,064 reviews \n"
       ]
      },
      {
       "output_type": "stream",
       "stream": "stderr",
       "text": [
        "[2015-04-05 15:53:55,226] Number of reviews: 1,064 reviews \n"
       ]
      },
      {
       "output_type": "stream",
       "stream": "stderr",
       "text": [
        "[2015-04-05 15:53:55,226] Number of reviews: 1,064 reviews \n"
       ]
      },
      {
       "output_type": "stream",
       "stream": "stderr",
       "text": [
        "[2015-04-05 15:53:55,226] Number of reviews: 1,064 reviews \n"
       ]
      },
      {
       "output_type": "stream",
       "stream": "stderr",
       "text": [
        "INFO:scrape_solution:Number of reviews: 1,064 reviews \n"
       ]
      },
      {
       "output_type": "stream",
       "stream": "stderr",
       "text": [
        "[2015-04-05 15:53:55,233] Hotel name: Newbury Guest House\n"
       ]
      },
      {
       "output_type": "stream",
       "stream": "stderr",
       "text": [
        "[2015-04-05 15:53:55,233] Hotel name: Newbury Guest House\n"
       ]
      },
      {
       "output_type": "stream",
       "stream": "stderr",
       "text": [
        "[2015-04-05 15:53:55,233] Hotel name: Newbury Guest House\n"
       ]
      },
      {
       "output_type": "stream",
       "stream": "stderr",
       "text": [
        "[2015-04-05 15:53:55,233] Hotel name: Newbury Guest House\n"
       ]
      },
      {
       "output_type": "stream",
       "stream": "stderr",
       "text": [
        "[2015-04-05 15:53:55,233] Hotel name: Newbury Guest House\n"
       ]
      },
      {
       "output_type": "stream",
       "stream": "stderr",
       "text": [
        "[2015-04-05 15:53:55,233] Hotel name: Newbury Guest House\n"
       ]
      },
      {
       "output_type": "stream",
       "stream": "stderr",
       "text": [
        "[2015-04-05 15:53:55,233] Hotel name: Newbury Guest House\n"
       ]
      },
      {
       "output_type": "stream",
       "stream": "stderr",
       "text": [
        "[2015-04-05 15:53:55,233] Hotel name: Newbury Guest House\n"
       ]
      },
      {
       "output_type": "stream",
       "stream": "stderr",
       "text": [
        "[2015-04-05 15:53:55,233] Hotel name: Newbury Guest House\n"
       ]
      },
      {
       "output_type": "stream",
       "stream": "stderr",
       "text": [
        "[2015-04-05 15:53:55,233] Hotel name: Newbury Guest House\n"
       ]
      },
      {
       "output_type": "stream",
       "stream": "stderr",
       "text": [
        "[2015-04-05 15:53:55,233] Hotel name: Newbury Guest House\n"
       ]
      },
      {
       "output_type": "stream",
       "stream": "stderr",
       "text": [
        "[2015-04-05 15:53:55,233] Hotel name: Newbury Guest House\n"
       ]
      },
      {
       "output_type": "stream",
       "stream": "stderr",
       "text": [
        "[2015-04-05 15:53:55,233] Hotel name: Newbury Guest House\n"
       ]
      },
      {
       "output_type": "stream",
       "stream": "stderr",
       "text": [
        "[2015-04-05 15:53:55,233] Hotel name: Newbury Guest House\n"
       ]
      },
      {
       "output_type": "stream",
       "stream": "stderr",
       "text": [
        "INFO:scrape_solution:Hotel name: Newbury Guest House\n"
       ]
      },
      {
       "output_type": "stream",
       "stream": "stderr",
       "text": [
        "[2015-04-05 15:53:55,246] Stars: 4\n"
       ]
      },
      {
       "output_type": "stream",
       "stream": "stderr",
       "text": [
        "[2015-04-05 15:53:55,246] Stars: 4\n"
       ]
      },
      {
       "output_type": "stream",
       "stream": "stderr",
       "text": [
        "[2015-04-05 15:53:55,246] Stars: 4\n"
       ]
      },
      {
       "output_type": "stream",
       "stream": "stderr",
       "text": [
        "[2015-04-05 15:53:55,246] Stars: 4\n"
       ]
      },
      {
       "output_type": "stream",
       "stream": "stderr",
       "text": [
        "[2015-04-05 15:53:55,246] Stars: 4\n"
       ]
      },
      {
       "output_type": "stream",
       "stream": "stderr",
       "text": [
        "[2015-04-05 15:53:55,246] Stars: 4\n"
       ]
      },
      {
       "output_type": "stream",
       "stream": "stderr",
       "text": [
        "[2015-04-05 15:53:55,246] Stars: 4\n"
       ]
      },
      {
       "output_type": "stream",
       "stream": "stderr",
       "text": [
        "[2015-04-05 15:53:55,246] Stars: 4\n"
       ]
      },
      {
       "output_type": "stream",
       "stream": "stderr",
       "text": [
        "[2015-04-05 15:53:55,246] Stars: 4\n"
       ]
      },
      {
       "output_type": "stream",
       "stream": "stderr",
       "text": [
        "[2015-04-05 15:53:55,246] Stars: 4\n"
       ]
      },
      {
       "output_type": "stream",
       "stream": "stderr",
       "text": [
        "[2015-04-05 15:53:55,246] Stars: 4\n"
       ]
      },
      {
       "output_type": "stream",
       "stream": "stderr",
       "text": [
        "[2015-04-05 15:53:55,246] Stars: 4\n"
       ]
      },
      {
       "output_type": "stream",
       "stream": "stderr",
       "text": [
        "[2015-04-05 15:53:55,246] Stars: 4\n"
       ]
      },
      {
       "output_type": "stream",
       "stream": "stderr",
       "text": [
        "[2015-04-05 15:53:55,246] Stars: 4\n"
       ]
      },
      {
       "output_type": "stream",
       "stream": "stderr",
       "text": [
        "INFO:scrape_solution:Stars: 4\n"
       ]
      },
      {
       "output_type": "stream",
       "stream": "stderr",
       "text": [
        "[2015-04-05 15:53:55,259] Number of reviews: 435 reviews \n"
       ]
      },
      {
       "output_type": "stream",
       "stream": "stderr",
       "text": [
        "[2015-04-05 15:53:55,259] Number of reviews: 435 reviews \n"
       ]
      },
      {
       "output_type": "stream",
       "stream": "stderr",
       "text": [
        "[2015-04-05 15:53:55,259] Number of reviews: 435 reviews \n"
       ]
      },
      {
       "output_type": "stream",
       "stream": "stderr",
       "text": [
        "[2015-04-05 15:53:55,259] Number of reviews: 435 reviews \n"
       ]
      },
      {
       "output_type": "stream",
       "stream": "stderr",
       "text": [
        "[2015-04-05 15:53:55,259] Number of reviews: 435 reviews \n"
       ]
      },
      {
       "output_type": "stream",
       "stream": "stderr",
       "text": [
        "[2015-04-05 15:53:55,259] Number of reviews: 435 reviews \n"
       ]
      },
      {
       "output_type": "stream",
       "stream": "stderr",
       "text": [
        "[2015-04-05 15:53:55,259] Number of reviews: 435 reviews \n"
       ]
      },
      {
       "output_type": "stream",
       "stream": "stderr",
       "text": [
        "[2015-04-05 15:53:55,259] Number of reviews: 435 reviews \n"
       ]
      },
      {
       "output_type": "stream",
       "stream": "stderr",
       "text": [
        "[2015-04-05 15:53:55,259] Number of reviews: 435 reviews \n"
       ]
      },
      {
       "output_type": "stream",
       "stream": "stderr",
       "text": [
        "[2015-04-05 15:53:55,259] Number of reviews: 435 reviews \n"
       ]
      },
      {
       "output_type": "stream",
       "stream": "stderr",
       "text": [
        "[2015-04-05 15:53:55,259] Number of reviews: 435 reviews \n"
       ]
      },
      {
       "output_type": "stream",
       "stream": "stderr",
       "text": [
        "[2015-04-05 15:53:55,259] Number of reviews: 435 reviews \n"
       ]
      },
      {
       "output_type": "stream",
       "stream": "stderr",
       "text": [
        "[2015-04-05 15:53:55,259] Number of reviews: 435 reviews \n"
       ]
      },
      {
       "output_type": "stream",
       "stream": "stderr",
       "text": [
        "[2015-04-05 15:53:55,259] Number of reviews: 435 reviews \n"
       ]
      },
      {
       "output_type": "stream",
       "stream": "stderr",
       "text": [
        "INFO:scrape_solution:Number of reviews: 435 reviews \n"
       ]
      },
      {
       "output_type": "stream",
       "stream": "stderr",
       "text": [
        "[2015-04-05 15:53:55,270] Hotel name: BEST WESTERN PLUS Roundhouse Suites\n"
       ]
      },
      {
       "output_type": "stream",
       "stream": "stderr",
       "text": [
        "[2015-04-05 15:53:55,270] Hotel name: BEST WESTERN PLUS Roundhouse Suites\n"
       ]
      },
      {
       "output_type": "stream",
       "stream": "stderr",
       "text": [
        "[2015-04-05 15:53:55,270] Hotel name: BEST WESTERN PLUS Roundhouse Suites\n"
       ]
      },
      {
       "output_type": "stream",
       "stream": "stderr",
       "text": [
        "[2015-04-05 15:53:55,270] Hotel name: BEST WESTERN PLUS Roundhouse Suites\n"
       ]
      },
      {
       "output_type": "stream",
       "stream": "stderr",
       "text": [
        "[2015-04-05 15:53:55,270] Hotel name: BEST WESTERN PLUS Roundhouse Suites\n"
       ]
      },
      {
       "output_type": "stream",
       "stream": "stderr",
       "text": [
        "[2015-04-05 15:53:55,270] Hotel name: BEST WESTERN PLUS Roundhouse Suites\n"
       ]
      },
      {
       "output_type": "stream",
       "stream": "stderr",
       "text": [
        "[2015-04-05 15:53:55,270] Hotel name: BEST WESTERN PLUS Roundhouse Suites\n"
       ]
      },
      {
       "output_type": "stream",
       "stream": "stderr",
       "text": [
        "[2015-04-05 15:53:55,270] Hotel name: BEST WESTERN PLUS Roundhouse Suites\n"
       ]
      },
      {
       "output_type": "stream",
       "stream": "stderr",
       "text": [
        "[2015-04-05 15:53:55,270] Hotel name: BEST WESTERN PLUS Roundhouse Suites\n"
       ]
      },
      {
       "output_type": "stream",
       "stream": "stderr",
       "text": [
        "[2015-04-05 15:53:55,270] Hotel name: BEST WESTERN PLUS Roundhouse Suites\n"
       ]
      },
      {
       "output_type": "stream",
       "stream": "stderr",
       "text": [
        "[2015-04-05 15:53:55,270] Hotel name: BEST WESTERN PLUS Roundhouse Suites\n"
       ]
      },
      {
       "output_type": "stream",
       "stream": "stderr",
       "text": [
        "[2015-04-05 15:53:55,270] Hotel name: BEST WESTERN PLUS Roundhouse Suites\n"
       ]
      },
      {
       "output_type": "stream",
       "stream": "stderr",
       "text": [
        "[2015-04-05 15:53:55,270] Hotel name: BEST WESTERN PLUS Roundhouse Suites\n"
       ]
      },
      {
       "output_type": "stream",
       "stream": "stderr",
       "text": [
        "[2015-04-05 15:53:55,270] Hotel name: BEST WESTERN PLUS Roundhouse Suites\n"
       ]
      },
      {
       "output_type": "stream",
       "stream": "stderr",
       "text": [
        "INFO:scrape_solution:Hotel name: BEST WESTERN PLUS Roundhouse Suites\n"
       ]
      },
      {
       "output_type": "stream",
       "stream": "stderr",
       "text": [
        "[2015-04-05 15:53:55,281] Stars: 3.5\n"
       ]
      },
      {
       "output_type": "stream",
       "stream": "stderr",
       "text": [
        "[2015-04-05 15:53:55,281] Stars: 3.5\n"
       ]
      },
      {
       "output_type": "stream",
       "stream": "stderr",
       "text": [
        "[2015-04-05 15:53:55,281] Stars: 3.5\n"
       ]
      },
      {
       "output_type": "stream",
       "stream": "stderr",
       "text": [
        "[2015-04-05 15:53:55,281] Stars: 3.5\n"
       ]
      },
      {
       "output_type": "stream",
       "stream": "stderr",
       "text": [
        "[2015-04-05 15:53:55,281] Stars: 3.5\n"
       ]
      },
      {
       "output_type": "stream",
       "stream": "stderr",
       "text": [
        "[2015-04-05 15:53:55,281] Stars: 3.5\n"
       ]
      },
      {
       "output_type": "stream",
       "stream": "stderr",
       "text": [
        "[2015-04-05 15:53:55,281] Stars: 3.5\n"
       ]
      },
      {
       "output_type": "stream",
       "stream": "stderr",
       "text": [
        "[2015-04-05 15:53:55,281] Stars: 3.5\n"
       ]
      },
      {
       "output_type": "stream",
       "stream": "stderr",
       "text": [
        "[2015-04-05 15:53:55,281] Stars: 3.5\n"
       ]
      },
      {
       "output_type": "stream",
       "stream": "stderr",
       "text": [
        "[2015-04-05 15:53:55,281] Stars: 3.5\n"
       ]
      },
      {
       "output_type": "stream",
       "stream": "stderr",
       "text": [
        "[2015-04-05 15:53:55,281] Stars: 3.5\n"
       ]
      },
      {
       "output_type": "stream",
       "stream": "stderr",
       "text": [
        "[2015-04-05 15:53:55,281] Stars: 3.5\n"
       ]
      },
      {
       "output_type": "stream",
       "stream": "stderr",
       "text": [
        "[2015-04-05 15:53:55,281] Stars: 3.5\n"
       ]
      },
      {
       "output_type": "stream",
       "stream": "stderr",
       "text": [
        "[2015-04-05 15:53:55,281] Stars: 3.5\n"
       ]
      },
      {
       "output_type": "stream",
       "stream": "stderr",
       "text": [
        "INFO:scrape_solution:Stars: 3.5\n"
       ]
      },
      {
       "output_type": "stream",
       "stream": "stderr",
       "text": [
        "[2015-04-05 15:53:55,295] Number of reviews: 716 reviews \n"
       ]
      },
      {
       "output_type": "stream",
       "stream": "stderr",
       "text": [
        "[2015-04-05 15:53:55,295] Number of reviews: 716 reviews \n"
       ]
      },
      {
       "output_type": "stream",
       "stream": "stderr",
       "text": [
        "[2015-04-05 15:53:55,295] Number of reviews: 716 reviews \n"
       ]
      },
      {
       "output_type": "stream",
       "stream": "stderr",
       "text": [
        "[2015-04-05 15:53:55,295] Number of reviews: 716 reviews \n"
       ]
      },
      {
       "output_type": "stream",
       "stream": "stderr",
       "text": [
        "[2015-04-05 15:53:55,295] Number of reviews: 716 reviews \n"
       ]
      },
      {
       "output_type": "stream",
       "stream": "stderr",
       "text": [
        "[2015-04-05 15:53:55,295] Number of reviews: 716 reviews \n"
       ]
      },
      {
       "output_type": "stream",
       "stream": "stderr",
       "text": [
        "[2015-04-05 15:53:55,295] Number of reviews: 716 reviews \n"
       ]
      },
      {
       "output_type": "stream",
       "stream": "stderr",
       "text": [
        "[2015-04-05 15:53:55,295] Number of reviews: 716 reviews \n"
       ]
      },
      {
       "output_type": "stream",
       "stream": "stderr",
       "text": [
        "[2015-04-05 15:53:55,295] Number of reviews: 716 reviews \n"
       ]
      },
      {
       "output_type": "stream",
       "stream": "stderr",
       "text": [
        "[2015-04-05 15:53:55,295] Number of reviews: 716 reviews \n"
       ]
      },
      {
       "output_type": "stream",
       "stream": "stderr",
       "text": [
        "[2015-04-05 15:53:55,295] Number of reviews: 716 reviews \n"
       ]
      },
      {
       "output_type": "stream",
       "stream": "stderr",
       "text": [
        "[2015-04-05 15:53:55,295] Number of reviews: 716 reviews \n"
       ]
      },
      {
       "output_type": "stream",
       "stream": "stderr",
       "text": [
        "[2015-04-05 15:53:55,295] Number of reviews: 716 reviews \n"
       ]
      },
      {
       "output_type": "stream",
       "stream": "stderr",
       "text": [
        "[2015-04-05 15:53:55,295] Number of reviews: 716 reviews \n"
       ]
      },
      {
       "output_type": "stream",
       "stream": "stderr",
       "text": [
        "INFO:scrape_solution:Number of reviews: 716 reviews \n"
       ]
      },
      {
       "output_type": "stream",
       "stream": "stderr",
       "text": [
        "[2015-04-05 15:53:55,302] Hotel name: Charlesmark Hotel\n"
       ]
      },
      {
       "output_type": "stream",
       "stream": "stderr",
       "text": [
        "[2015-04-05 15:53:55,302] Hotel name: Charlesmark Hotel\n"
       ]
      },
      {
       "output_type": "stream",
       "stream": "stderr",
       "text": [
        "[2015-04-05 15:53:55,302] Hotel name: Charlesmark Hotel\n"
       ]
      },
      {
       "output_type": "stream",
       "stream": "stderr",
       "text": [
        "[2015-04-05 15:53:55,302] Hotel name: Charlesmark Hotel\n"
       ]
      },
      {
       "output_type": "stream",
       "stream": "stderr",
       "text": [
        "[2015-04-05 15:53:55,302] Hotel name: Charlesmark Hotel\n"
       ]
      },
      {
       "output_type": "stream",
       "stream": "stderr",
       "text": [
        "[2015-04-05 15:53:55,302] Hotel name: Charlesmark Hotel\n"
       ]
      },
      {
       "output_type": "stream",
       "stream": "stderr",
       "text": [
        "[2015-04-05 15:53:55,302] Hotel name: Charlesmark Hotel\n"
       ]
      },
      {
       "output_type": "stream",
       "stream": "stderr",
       "text": [
        "[2015-04-05 15:53:55,302] Hotel name: Charlesmark Hotel\n"
       ]
      },
      {
       "output_type": "stream",
       "stream": "stderr",
       "text": [
        "[2015-04-05 15:53:55,302] Hotel name: Charlesmark Hotel\n"
       ]
      },
      {
       "output_type": "stream",
       "stream": "stderr",
       "text": [
        "[2015-04-05 15:53:55,302] Hotel name: Charlesmark Hotel\n"
       ]
      },
      {
       "output_type": "stream",
       "stream": "stderr",
       "text": [
        "[2015-04-05 15:53:55,302] Hotel name: Charlesmark Hotel\n"
       ]
      },
      {
       "output_type": "stream",
       "stream": "stderr",
       "text": [
        "[2015-04-05 15:53:55,302] Hotel name: Charlesmark Hotel\n"
       ]
      },
      {
       "output_type": "stream",
       "stream": "stderr",
       "text": [
        "[2015-04-05 15:53:55,302] Hotel name: Charlesmark Hotel\n"
       ]
      },
      {
       "output_type": "stream",
       "stream": "stderr",
       "text": [
        "[2015-04-05 15:53:55,302] Hotel name: Charlesmark Hotel\n"
       ]
      },
      {
       "output_type": "stream",
       "stream": "stderr",
       "text": [
        "INFO:scrape_solution:Hotel name: Charlesmark Hotel\n"
       ]
      },
      {
       "output_type": "stream",
       "stream": "stderr",
       "text": [
        "[2015-04-05 15:53:55,312] Stars: 4\n"
       ]
      },
      {
       "output_type": "stream",
       "stream": "stderr",
       "text": [
        "[2015-04-05 15:53:55,312] Stars: 4\n"
       ]
      },
      {
       "output_type": "stream",
       "stream": "stderr",
       "text": [
        "[2015-04-05 15:53:55,312] Stars: 4\n"
       ]
      },
      {
       "output_type": "stream",
       "stream": "stderr",
       "text": [
        "[2015-04-05 15:53:55,312] Stars: 4\n"
       ]
      },
      {
       "output_type": "stream",
       "stream": "stderr",
       "text": [
        "[2015-04-05 15:53:55,312] Stars: 4\n"
       ]
      },
      {
       "output_type": "stream",
       "stream": "stderr",
       "text": [
        "[2015-04-05 15:53:55,312] Stars: 4\n"
       ]
      },
      {
       "output_type": "stream",
       "stream": "stderr",
       "text": [
        "[2015-04-05 15:53:55,312] Stars: 4\n"
       ]
      },
      {
       "output_type": "stream",
       "stream": "stderr",
       "text": [
        "[2015-04-05 15:53:55,312] Stars: 4\n"
       ]
      },
      {
       "output_type": "stream",
       "stream": "stderr",
       "text": [
        "[2015-04-05 15:53:55,312] Stars: 4\n"
       ]
      },
      {
       "output_type": "stream",
       "stream": "stderr",
       "text": [
        "[2015-04-05 15:53:55,312] Stars: 4\n"
       ]
      },
      {
       "output_type": "stream",
       "stream": "stderr",
       "text": [
        "[2015-04-05 15:53:55,312] Stars: 4\n"
       ]
      },
      {
       "output_type": "stream",
       "stream": "stderr",
       "text": [
        "[2015-04-05 15:53:55,312] Stars: 4\n"
       ]
      },
      {
       "output_type": "stream",
       "stream": "stderr",
       "text": [
        "[2015-04-05 15:53:55,312] Stars: 4\n"
       ]
      },
      {
       "output_type": "stream",
       "stream": "stderr",
       "text": [
        "[2015-04-05 15:53:55,312] Stars: 4\n"
       ]
      },
      {
       "output_type": "stream",
       "stream": "stderr",
       "text": [
        "INFO:scrape_solution:Stars: 4\n"
       ]
      },
      {
       "output_type": "stream",
       "stream": "stderr",
       "text": [
        "[2015-04-05 15:53:55,338] Number of reviews: 754 reviews \n"
       ]
      },
      {
       "output_type": "stream",
       "stream": "stderr",
       "text": [
        "[2015-04-05 15:53:55,338] Number of reviews: 754 reviews \n"
       ]
      },
      {
       "output_type": "stream",
       "stream": "stderr",
       "text": [
        "[2015-04-05 15:53:55,338] Number of reviews: 754 reviews \n"
       ]
      },
      {
       "output_type": "stream",
       "stream": "stderr",
       "text": [
        "[2015-04-05 15:53:55,338] Number of reviews: 754 reviews \n"
       ]
      },
      {
       "output_type": "stream",
       "stream": "stderr",
       "text": [
        "[2015-04-05 15:53:55,338] Number of reviews: 754 reviews \n"
       ]
      },
      {
       "output_type": "stream",
       "stream": "stderr",
       "text": [
        "[2015-04-05 15:53:55,338] Number of reviews: 754 reviews \n"
       ]
      },
      {
       "output_type": "stream",
       "stream": "stderr",
       "text": [
        "[2015-04-05 15:53:55,338] Number of reviews: 754 reviews \n"
       ]
      },
      {
       "output_type": "stream",
       "stream": "stderr",
       "text": [
        "[2015-04-05 15:53:55,338] Number of reviews: 754 reviews \n"
       ]
      },
      {
       "output_type": "stream",
       "stream": "stderr",
       "text": [
        "[2015-04-05 15:53:55,338] Number of reviews: 754 reviews \n"
       ]
      },
      {
       "output_type": "stream",
       "stream": "stderr",
       "text": [
        "[2015-04-05 15:53:55,338] Number of reviews: 754 reviews \n"
       ]
      },
      {
       "output_type": "stream",
       "stream": "stderr",
       "text": [
        "[2015-04-05 15:53:55,338] Number of reviews: 754 reviews \n"
       ]
      },
      {
       "output_type": "stream",
       "stream": "stderr",
       "text": [
        "[2015-04-05 15:53:55,338] Number of reviews: 754 reviews \n"
       ]
      },
      {
       "output_type": "stream",
       "stream": "stderr",
       "text": [
        "[2015-04-05 15:53:55,338] Number of reviews: 754 reviews \n"
       ]
      },
      {
       "output_type": "stream",
       "stream": "stderr",
       "text": [
        "[2015-04-05 15:53:55,338] Number of reviews: 754 reviews \n"
       ]
      },
      {
       "output_type": "stream",
       "stream": "stderr",
       "text": [
        "INFO:scrape_solution:Number of reviews: 754 reviews \n"
       ]
      },
      {
       "output_type": "stream",
       "stream": "stderr",
       "text": [
        "[2015-04-05 15:53:55,346] Hotel name: Mandarin Oriental, Boston\n"
       ]
      },
      {
       "output_type": "stream",
       "stream": "stderr",
       "text": [
        "[2015-04-05 15:53:55,346] Hotel name: Mandarin Oriental, Boston\n"
       ]
      },
      {
       "output_type": "stream",
       "stream": "stderr",
       "text": [
        "[2015-04-05 15:53:55,346] Hotel name: Mandarin Oriental, Boston\n"
       ]
      },
      {
       "output_type": "stream",
       "stream": "stderr",
       "text": [
        "[2015-04-05 15:53:55,346] Hotel name: Mandarin Oriental, Boston\n"
       ]
      },
      {
       "output_type": "stream",
       "stream": "stderr",
       "text": [
        "[2015-04-05 15:53:55,346] Hotel name: Mandarin Oriental, Boston\n"
       ]
      },
      {
       "output_type": "stream",
       "stream": "stderr",
       "text": [
        "[2015-04-05 15:53:55,346] Hotel name: Mandarin Oriental, Boston\n"
       ]
      },
      {
       "output_type": "stream",
       "stream": "stderr",
       "text": [
        "[2015-04-05 15:53:55,346] Hotel name: Mandarin Oriental, Boston\n"
       ]
      },
      {
       "output_type": "stream",
       "stream": "stderr",
       "text": [
        "[2015-04-05 15:53:55,346] Hotel name: Mandarin Oriental, Boston\n"
       ]
      },
      {
       "output_type": "stream",
       "stream": "stderr",
       "text": [
        "[2015-04-05 15:53:55,346] Hotel name: Mandarin Oriental, Boston\n"
       ]
      },
      {
       "output_type": "stream",
       "stream": "stderr",
       "text": [
        "[2015-04-05 15:53:55,346] Hotel name: Mandarin Oriental, Boston\n"
       ]
      },
      {
       "output_type": "stream",
       "stream": "stderr",
       "text": [
        "[2015-04-05 15:53:55,346] Hotel name: Mandarin Oriental, Boston\n"
       ]
      },
      {
       "output_type": "stream",
       "stream": "stderr",
       "text": [
        "[2015-04-05 15:53:55,346] Hotel name: Mandarin Oriental, Boston\n"
       ]
      },
      {
       "output_type": "stream",
       "stream": "stderr",
       "text": [
        "[2015-04-05 15:53:55,346] Hotel name: Mandarin Oriental, Boston\n"
       ]
      },
      {
       "output_type": "stream",
       "stream": "stderr",
       "text": [
        "[2015-04-05 15:53:55,346] Hotel name: Mandarin Oriental, Boston\n"
       ]
      },
      {
       "output_type": "stream",
       "stream": "stderr",
       "text": [
        "INFO:scrape_solution:Hotel name: Mandarin Oriental, Boston\n"
       ]
      },
      {
       "output_type": "stream",
       "stream": "stderr",
       "text": [
        "[2015-04-05 15:53:55,354] Stars: 4.5\n"
       ]
      },
      {
       "output_type": "stream",
       "stream": "stderr",
       "text": [
        "[2015-04-05 15:53:55,354] Stars: 4.5\n"
       ]
      },
      {
       "output_type": "stream",
       "stream": "stderr",
       "text": [
        "[2015-04-05 15:53:55,354] Stars: 4.5\n"
       ]
      },
      {
       "output_type": "stream",
       "stream": "stderr",
       "text": [
        "[2015-04-05 15:53:55,354] Stars: 4.5\n"
       ]
      },
      {
       "output_type": "stream",
       "stream": "stderr",
       "text": [
        "[2015-04-05 15:53:55,354] Stars: 4.5\n"
       ]
      },
      {
       "output_type": "stream",
       "stream": "stderr",
       "text": [
        "[2015-04-05 15:53:55,354] Stars: 4.5\n"
       ]
      },
      {
       "output_type": "stream",
       "stream": "stderr",
       "text": [
        "[2015-04-05 15:53:55,354] Stars: 4.5\n"
       ]
      },
      {
       "output_type": "stream",
       "stream": "stderr",
       "text": [
        "[2015-04-05 15:53:55,354] Stars: 4.5\n"
       ]
      },
      {
       "output_type": "stream",
       "stream": "stderr",
       "text": [
        "[2015-04-05 15:53:55,354] Stars: 4.5\n"
       ]
      },
      {
       "output_type": "stream",
       "stream": "stderr",
       "text": [
        "[2015-04-05 15:53:55,354] Stars: 4.5\n"
       ]
      },
      {
       "output_type": "stream",
       "stream": "stderr",
       "text": [
        "[2015-04-05 15:53:55,354] Stars: 4.5\n"
       ]
      },
      {
       "output_type": "stream",
       "stream": "stderr",
       "text": [
        "[2015-04-05 15:53:55,354] Stars: 4.5\n"
       ]
      },
      {
       "output_type": "stream",
       "stream": "stderr",
       "text": [
        "[2015-04-05 15:53:55,354] Stars: 4.5\n"
       ]
      },
      {
       "output_type": "stream",
       "stream": "stderr",
       "text": [
        "[2015-04-05 15:53:55,354] Stars: 4.5\n"
       ]
      },
      {
       "output_type": "stream",
       "stream": "stderr",
       "text": [
        "INFO:scrape_solution:Stars: 4.5\n"
       ]
      },
      {
       "output_type": "stream",
       "stream": "stderr",
       "text": [
        "[2015-04-05 15:53:55,364] Number of reviews: 406 reviews \n"
       ]
      },
      {
       "output_type": "stream",
       "stream": "stderr",
       "text": [
        "[2015-04-05 15:53:55,364] Number of reviews: 406 reviews \n"
       ]
      },
      {
       "output_type": "stream",
       "stream": "stderr",
       "text": [
        "[2015-04-05 15:53:55,364] Number of reviews: 406 reviews \n"
       ]
      },
      {
       "output_type": "stream",
       "stream": "stderr",
       "text": [
        "[2015-04-05 15:53:55,364] Number of reviews: 406 reviews \n"
       ]
      },
      {
       "output_type": "stream",
       "stream": "stderr",
       "text": [
        "[2015-04-05 15:53:55,364] Number of reviews: 406 reviews \n"
       ]
      },
      {
       "output_type": "stream",
       "stream": "stderr",
       "text": [
        "[2015-04-05 15:53:55,364] Number of reviews: 406 reviews \n"
       ]
      },
      {
       "output_type": "stream",
       "stream": "stderr",
       "text": [
        "[2015-04-05 15:53:55,364] Number of reviews: 406 reviews \n"
       ]
      },
      {
       "output_type": "stream",
       "stream": "stderr",
       "text": [
        "[2015-04-05 15:53:55,364] Number of reviews: 406 reviews \n"
       ]
      },
      {
       "output_type": "stream",
       "stream": "stderr",
       "text": [
        "[2015-04-05 15:53:55,364] Number of reviews: 406 reviews \n"
       ]
      },
      {
       "output_type": "stream",
       "stream": "stderr",
       "text": [
        "[2015-04-05 15:53:55,364] Number of reviews: 406 reviews \n"
       ]
      },
      {
       "output_type": "stream",
       "stream": "stderr",
       "text": [
        "[2015-04-05 15:53:55,364] Number of reviews: 406 reviews \n"
       ]
      },
      {
       "output_type": "stream",
       "stream": "stderr",
       "text": [
        "[2015-04-05 15:53:55,364] Number of reviews: 406 reviews \n"
       ]
      },
      {
       "output_type": "stream",
       "stream": "stderr",
       "text": [
        "[2015-04-05 15:53:55,364] Number of reviews: 406 reviews \n"
       ]
      },
      {
       "output_type": "stream",
       "stream": "stderr",
       "text": [
        "[2015-04-05 15:53:55,364] Number of reviews: 406 reviews \n"
       ]
      },
      {
       "output_type": "stream",
       "stream": "stderr",
       "text": [
        "INFO:scrape_solution:Number of reviews: 406 reviews \n"
       ]
      },
      {
       "output_type": "stream",
       "stream": "stdout",
       "text": [
        "\n",
        "(3, u'/Hotels-g60745-oa60-Boston_Massachusetts-Hotels.html#ACCOM_OVERVIEW')"
       ]
      },
      {
       "output_type": "stream",
       "stream": "stderr",
       "text": [
        "[2015-04-05 15:54:01,393] #################################### Option 2 ######################################\n"
       ]
      },
      {
       "output_type": "stream",
       "stream": "stderr",
       "text": [
        "[2015-04-05 15:54:01,393] #################################### Option 2 ######################################\n"
       ]
      },
      {
       "output_type": "stream",
       "stream": "stderr",
       "text": [
        "[2015-04-05 15:54:01,393] #################################### Option 2 ######################################\n"
       ]
      },
      {
       "output_type": "stream",
       "stream": "stderr",
       "text": [
        "[2015-04-05 15:54:01,393] #################################### Option 2 ######################################\n"
       ]
      },
      {
       "output_type": "stream",
       "stream": "stderr",
       "text": [
        "[2015-04-05 15:54:01,393] #################################### Option 2 ######################################\n"
       ]
      },
      {
       "output_type": "stream",
       "stream": "stderr",
       "text": [
        "[2015-04-05 15:54:01,393] #################################### Option 2 ######################################\n"
       ]
      },
      {
       "output_type": "stream",
       "stream": "stderr",
       "text": [
        "[2015-04-05 15:54:01,393] #################################### Option 2 ######################################\n"
       ]
      },
      {
       "output_type": "stream",
       "stream": "stderr",
       "text": [
        "[2015-04-05 15:54:01,393] #################################### Option 2 ######################################\n"
       ]
      },
      {
       "output_type": "stream",
       "stream": "stderr",
       "text": [
        "[2015-04-05 15:54:01,393] #################################### Option 2 ######################################\n"
       ]
      },
      {
       "output_type": "stream",
       "stream": "stderr",
       "text": [
        "[2015-04-05 15:54:01,393] #################################### Option 2 ######################################\n"
       ]
      },
      {
       "output_type": "stream",
       "stream": "stderr",
       "text": [
        "[2015-04-05 15:54:01,393] #################################### Option 2 ######################################\n"
       ]
      },
      {
       "output_type": "stream",
       "stream": "stderr",
       "text": [
        "[2015-04-05 15:54:01,393] #################################### Option 2 ######################################\n"
       ]
      },
      {
       "output_type": "stream",
       "stream": "stderr",
       "text": [
        "[2015-04-05 15:54:01,393] #################################### Option 2 ######################################\n"
       ]
      },
      {
       "output_type": "stream",
       "stream": "stderr",
       "text": [
        "[2015-04-05 15:54:01,393] #################################### Option 2 ######################################\n"
       ]
      },
      {
       "output_type": "stream",
       "stream": "stderr",
       "text": [
        "INFO:scrape_solution:#################################### Option 2 ######################################\n"
       ]
      },
      {
       "output_type": "stream",
       "stream": "stderr",
       "text": [
        "[2015-04-05 15:54:01,783] #################################### Option 3 ######################################\n"
       ]
      },
      {
       "output_type": "stream",
       "stream": "stderr",
       "text": [
        "[2015-04-05 15:54:01,783] #################################### Option 3 ######################################\n"
       ]
      },
      {
       "output_type": "stream",
       "stream": "stderr",
       "text": [
        "[2015-04-05 15:54:01,783] #################################### Option 3 ######################################\n"
       ]
      },
      {
       "output_type": "stream",
       "stream": "stderr",
       "text": [
        "[2015-04-05 15:54:01,783] #################################### Option 3 ######################################\n"
       ]
      },
      {
       "output_type": "stream",
       "stream": "stderr",
       "text": [
        "[2015-04-05 15:54:01,783] #################################### Option 3 ######################################\n"
       ]
      },
      {
       "output_type": "stream",
       "stream": "stderr",
       "text": [
        "[2015-04-05 15:54:01,783] #################################### Option 3 ######################################\n"
       ]
      },
      {
       "output_type": "stream",
       "stream": "stderr",
       "text": [
        "[2015-04-05 15:54:01,783] #################################### Option 3 ######################################\n"
       ]
      },
      {
       "output_type": "stream",
       "stream": "stderr",
       "text": [
        "[2015-04-05 15:54:01,783] #################################### Option 3 ######################################\n"
       ]
      },
      {
       "output_type": "stream",
       "stream": "stderr",
       "text": [
        "[2015-04-05 15:54:01,783] #################################### Option 3 ######################################\n"
       ]
      },
      {
       "output_type": "stream",
       "stream": "stderr",
       "text": [
        "[2015-04-05 15:54:01,783] #################################### Option 3 ######################################\n"
       ]
      },
      {
       "output_type": "stream",
       "stream": "stderr",
       "text": [
        "[2015-04-05 15:54:01,783] #################################### Option 3 ######################################\n"
       ]
      },
      {
       "output_type": "stream",
       "stream": "stderr",
       "text": [
        "[2015-04-05 15:54:01,783] #################################### Option 3 ######################################\n"
       ]
      },
      {
       "output_type": "stream",
       "stream": "stderr",
       "text": [
        "[2015-04-05 15:54:01,783] #################################### Option 3 ######################################\n"
       ]
      },
      {
       "output_type": "stream",
       "stream": "stderr",
       "text": [
        "[2015-04-05 15:54:01,783] #################################### Option 3 ######################################\n"
       ]
      },
      {
       "output_type": "stream",
       "stream": "stderr",
       "text": [
        "INFO:scrape_solution:#################################### Option 3 ######################################\n"
       ]
      },
      {
       "output_type": "stream",
       "stream": "stderr",
       "text": [
        "[2015-04-05 15:54:01,974] Hotel name: Holiday Inn Express Hotel & Suites Boston Garden\n"
       ]
      },
      {
       "output_type": "stream",
       "stream": "stderr",
       "text": [
        "[2015-04-05 15:54:01,974] Hotel name: Holiday Inn Express Hotel & Suites Boston Garden\n"
       ]
      },
      {
       "output_type": "stream",
       "stream": "stderr",
       "text": [
        "[2015-04-05 15:54:01,974] Hotel name: Holiday Inn Express Hotel & Suites Boston Garden\n"
       ]
      },
      {
       "output_type": "stream",
       "stream": "stderr",
       "text": [
        "[2015-04-05 15:54:01,974] Hotel name: Holiday Inn Express Hotel & Suites Boston Garden\n"
       ]
      },
      {
       "output_type": "stream",
       "stream": "stderr",
       "text": [
        "[2015-04-05 15:54:01,974] Hotel name: Holiday Inn Express Hotel & Suites Boston Garden\n"
       ]
      },
      {
       "output_type": "stream",
       "stream": "stderr",
       "text": [
        "[2015-04-05 15:54:01,974] Hotel name: Holiday Inn Express Hotel & Suites Boston Garden\n"
       ]
      },
      {
       "output_type": "stream",
       "stream": "stderr",
       "text": [
        "[2015-04-05 15:54:01,974] Hotel name: Holiday Inn Express Hotel & Suites Boston Garden\n"
       ]
      },
      {
       "output_type": "stream",
       "stream": "stderr",
       "text": [
        "[2015-04-05 15:54:01,974] Hotel name: Holiday Inn Express Hotel & Suites Boston Garden\n"
       ]
      },
      {
       "output_type": "stream",
       "stream": "stderr",
       "text": [
        "[2015-04-05 15:54:01,974] Hotel name: Holiday Inn Express Hotel & Suites Boston Garden\n"
       ]
      },
      {
       "output_type": "stream",
       "stream": "stderr",
       "text": [
        "[2015-04-05 15:54:01,974] Hotel name: Holiday Inn Express Hotel & Suites Boston Garden\n"
       ]
      },
      {
       "output_type": "stream",
       "stream": "stderr",
       "text": [
        "[2015-04-05 15:54:01,974] Hotel name: Holiday Inn Express Hotel & Suites Boston Garden\n"
       ]
      },
      {
       "output_type": "stream",
       "stream": "stderr",
       "text": [
        "[2015-04-05 15:54:01,974] Hotel name: Holiday Inn Express Hotel & Suites Boston Garden\n"
       ]
      },
      {
       "output_type": "stream",
       "stream": "stderr",
       "text": [
        "[2015-04-05 15:54:01,974] Hotel name: Holiday Inn Express Hotel & Suites Boston Garden\n"
       ]
      },
      {
       "output_type": "stream",
       "stream": "stderr",
       "text": [
        "[2015-04-05 15:54:01,974] Hotel name: Holiday Inn Express Hotel & Suites Boston Garden\n"
       ]
      },
      {
       "output_type": "stream",
       "stream": "stderr",
       "text": [
        "INFO:scrape_solution:Hotel name: Holiday Inn Express Hotel & Suites Boston Garden\n"
       ]
      },
      {
       "output_type": "stream",
       "stream": "stderr",
       "text": [
        "[2015-04-05 15:54:01,984] Stars: 3.5\n"
       ]
      },
      {
       "output_type": "stream",
       "stream": "stderr",
       "text": [
        "[2015-04-05 15:54:01,984] Stars: 3.5\n"
       ]
      },
      {
       "output_type": "stream",
       "stream": "stderr",
       "text": [
        "[2015-04-05 15:54:01,984] Stars: 3.5\n"
       ]
      },
      {
       "output_type": "stream",
       "stream": "stderr",
       "text": [
        "[2015-04-05 15:54:01,984] Stars: 3.5\n"
       ]
      },
      {
       "output_type": "stream",
       "stream": "stderr",
       "text": [
        "[2015-04-05 15:54:01,984] Stars: 3.5\n"
       ]
      },
      {
       "output_type": "stream",
       "stream": "stderr",
       "text": [
        "[2015-04-05 15:54:01,984] Stars: 3.5\n"
       ]
      },
      {
       "output_type": "stream",
       "stream": "stderr",
       "text": [
        "[2015-04-05 15:54:01,984] Stars: 3.5\n"
       ]
      },
      {
       "output_type": "stream",
       "stream": "stderr",
       "text": [
        "[2015-04-05 15:54:01,984] Stars: 3.5\n"
       ]
      },
      {
       "output_type": "stream",
       "stream": "stderr",
       "text": [
        "[2015-04-05 15:54:01,984] Stars: 3.5\n"
       ]
      },
      {
       "output_type": "stream",
       "stream": "stderr",
       "text": [
        "[2015-04-05 15:54:01,984] Stars: 3.5\n"
       ]
      },
      {
       "output_type": "stream",
       "stream": "stderr",
       "text": [
        "[2015-04-05 15:54:01,984] Stars: 3.5\n"
       ]
      },
      {
       "output_type": "stream",
       "stream": "stderr",
       "text": [
        "[2015-04-05 15:54:01,984] Stars: 3.5\n"
       ]
      },
      {
       "output_type": "stream",
       "stream": "stderr",
       "text": [
        "[2015-04-05 15:54:01,984] Stars: 3.5\n"
       ]
      },
      {
       "output_type": "stream",
       "stream": "stderr",
       "text": [
        "[2015-04-05 15:54:01,984] Stars: 3.5\n"
       ]
      },
      {
       "output_type": "stream",
       "stream": "stderr",
       "text": [
        "INFO:scrape_solution:Stars: 3.5\n"
       ]
      },
      {
       "output_type": "stream",
       "stream": "stderr",
       "text": [
        "[2015-04-05 15:54:01,999] Number of reviews: 305 reviews \n"
       ]
      },
      {
       "output_type": "stream",
       "stream": "stderr",
       "text": [
        "[2015-04-05 15:54:01,999] Number of reviews: 305 reviews \n"
       ]
      },
      {
       "output_type": "stream",
       "stream": "stderr",
       "text": [
        "[2015-04-05 15:54:01,999] Number of reviews: 305 reviews \n"
       ]
      },
      {
       "output_type": "stream",
       "stream": "stderr",
       "text": [
        "[2015-04-05 15:54:01,999] Number of reviews: 305 reviews \n"
       ]
      },
      {
       "output_type": "stream",
       "stream": "stderr",
       "text": [
        "[2015-04-05 15:54:01,999] Number of reviews: 305 reviews \n"
       ]
      },
      {
       "output_type": "stream",
       "stream": "stderr",
       "text": [
        "[2015-04-05 15:54:01,999] Number of reviews: 305 reviews \n"
       ]
      },
      {
       "output_type": "stream",
       "stream": "stderr",
       "text": [
        "[2015-04-05 15:54:01,999] Number of reviews: 305 reviews \n"
       ]
      },
      {
       "output_type": "stream",
       "stream": "stderr",
       "text": [
        "[2015-04-05 15:54:01,999] Number of reviews: 305 reviews \n"
       ]
      },
      {
       "output_type": "stream",
       "stream": "stderr",
       "text": [
        "[2015-04-05 15:54:01,999] Number of reviews: 305 reviews \n"
       ]
      },
      {
       "output_type": "stream",
       "stream": "stderr",
       "text": [
        "[2015-04-05 15:54:01,999] Number of reviews: 305 reviews \n"
       ]
      },
      {
       "output_type": "stream",
       "stream": "stderr",
       "text": [
        "[2015-04-05 15:54:01,999] Number of reviews: 305 reviews \n"
       ]
      },
      {
       "output_type": "stream",
       "stream": "stderr",
       "text": [
        "[2015-04-05 15:54:01,999] Number of reviews: 305 reviews \n"
       ]
      },
      {
       "output_type": "stream",
       "stream": "stderr",
       "text": [
        "[2015-04-05 15:54:01,999] Number of reviews: 305 reviews \n"
       ]
      },
      {
       "output_type": "stream",
       "stream": "stderr",
       "text": [
        "[2015-04-05 15:54:01,999] Number of reviews: 305 reviews \n"
       ]
      },
      {
       "output_type": "stream",
       "stream": "stderr",
       "text": [
        "INFO:scrape_solution:Number of reviews: 305 reviews \n"
       ]
      },
      {
       "output_type": "stream",
       "stream": "stderr",
       "text": [
        "[2015-04-05 15:54:02,011] Hotel name: Ames Boston Hotel\n"
       ]
      },
      {
       "output_type": "stream",
       "stream": "stderr",
       "text": [
        "[2015-04-05 15:54:02,011] Hotel name: Ames Boston Hotel\n"
       ]
      },
      {
       "output_type": "stream",
       "stream": "stderr",
       "text": [
        "[2015-04-05 15:54:02,011] Hotel name: Ames Boston Hotel\n"
       ]
      },
      {
       "output_type": "stream",
       "stream": "stderr",
       "text": [
        "[2015-04-05 15:54:02,011] Hotel name: Ames Boston Hotel\n"
       ]
      },
      {
       "output_type": "stream",
       "stream": "stderr",
       "text": [
        "[2015-04-05 15:54:02,011] Hotel name: Ames Boston Hotel\n"
       ]
      },
      {
       "output_type": "stream",
       "stream": "stderr",
       "text": [
        "[2015-04-05 15:54:02,011] Hotel name: Ames Boston Hotel\n"
       ]
      },
      {
       "output_type": "stream",
       "stream": "stderr",
       "text": [
        "[2015-04-05 15:54:02,011] Hotel name: Ames Boston Hotel\n"
       ]
      },
      {
       "output_type": "stream",
       "stream": "stderr",
       "text": [
        "[2015-04-05 15:54:02,011] Hotel name: Ames Boston Hotel\n"
       ]
      },
      {
       "output_type": "stream",
       "stream": "stderr",
       "text": [
        "[2015-04-05 15:54:02,011] Hotel name: Ames Boston Hotel\n"
       ]
      },
      {
       "output_type": "stream",
       "stream": "stderr",
       "text": [
        "[2015-04-05 15:54:02,011] Hotel name: Ames Boston Hotel\n"
       ]
      },
      {
       "output_type": "stream",
       "stream": "stderr",
       "text": [
        "[2015-04-05 15:54:02,011] Hotel name: Ames Boston Hotel\n"
       ]
      },
      {
       "output_type": "stream",
       "stream": "stderr",
       "text": [
        "[2015-04-05 15:54:02,011] Hotel name: Ames Boston Hotel\n"
       ]
      },
      {
       "output_type": "stream",
       "stream": "stderr",
       "text": [
        "[2015-04-05 15:54:02,011] Hotel name: Ames Boston Hotel\n"
       ]
      },
      {
       "output_type": "stream",
       "stream": "stderr",
       "text": [
        "[2015-04-05 15:54:02,011] Hotel name: Ames Boston Hotel\n"
       ]
      },
      {
       "output_type": "stream",
       "stream": "stderr",
       "text": [
        "INFO:scrape_solution:Hotel name: Ames Boston Hotel\n"
       ]
      },
      {
       "output_type": "stream",
       "stream": "stderr",
       "text": [
        "[2015-04-05 15:54:02,024] Stars: 4.5\n"
       ]
      },
      {
       "output_type": "stream",
       "stream": "stderr",
       "text": [
        "[2015-04-05 15:54:02,024] Stars: 4.5\n"
       ]
      },
      {
       "output_type": "stream",
       "stream": "stderr",
       "text": [
        "[2015-04-05 15:54:02,024] Stars: 4.5\n"
       ]
      },
      {
       "output_type": "stream",
       "stream": "stderr",
       "text": [
        "[2015-04-05 15:54:02,024] Stars: 4.5\n"
       ]
      },
      {
       "output_type": "stream",
       "stream": "stderr",
       "text": [
        "[2015-04-05 15:54:02,024] Stars: 4.5\n"
       ]
      },
      {
       "output_type": "stream",
       "stream": "stderr",
       "text": [
        "[2015-04-05 15:54:02,024] Stars: 4.5\n"
       ]
      },
      {
       "output_type": "stream",
       "stream": "stderr",
       "text": [
        "[2015-04-05 15:54:02,024] Stars: 4.5\n"
       ]
      },
      {
       "output_type": "stream",
       "stream": "stderr",
       "text": [
        "[2015-04-05 15:54:02,024] Stars: 4.5\n"
       ]
      },
      {
       "output_type": "stream",
       "stream": "stderr",
       "text": [
        "[2015-04-05 15:54:02,024] Stars: 4.5\n"
       ]
      },
      {
       "output_type": "stream",
       "stream": "stderr",
       "text": [
        "[2015-04-05 15:54:02,024] Stars: 4.5\n"
       ]
      },
      {
       "output_type": "stream",
       "stream": "stderr",
       "text": [
        "[2015-04-05 15:54:02,024] Stars: 4.5\n"
       ]
      },
      {
       "output_type": "stream",
       "stream": "stderr",
       "text": [
        "[2015-04-05 15:54:02,024] Stars: 4.5\n"
       ]
      },
      {
       "output_type": "stream",
       "stream": "stderr",
       "text": [
        "[2015-04-05 15:54:02,024] Stars: 4.5\n"
       ]
      },
      {
       "output_type": "stream",
       "stream": "stderr",
       "text": [
        "[2015-04-05 15:54:02,024] Stars: 4.5\n"
       ]
      },
      {
       "output_type": "stream",
       "stream": "stderr",
       "text": [
        "INFO:scrape_solution:Stars: 4.5\n"
       ]
      },
      {
       "output_type": "stream",
       "stream": "stderr",
       "text": [
        "[2015-04-05 15:54:02,033] Number of reviews: 870 reviews \n"
       ]
      },
      {
       "output_type": "stream",
       "stream": "stderr",
       "text": [
        "[2015-04-05 15:54:02,033] Number of reviews: 870 reviews \n"
       ]
      },
      {
       "output_type": "stream",
       "stream": "stderr",
       "text": [
        "[2015-04-05 15:54:02,033] Number of reviews: 870 reviews \n"
       ]
      },
      {
       "output_type": "stream",
       "stream": "stderr",
       "text": [
        "[2015-04-05 15:54:02,033] Number of reviews: 870 reviews \n"
       ]
      },
      {
       "output_type": "stream",
       "stream": "stderr",
       "text": [
        "[2015-04-05 15:54:02,033] Number of reviews: 870 reviews \n"
       ]
      },
      {
       "output_type": "stream",
       "stream": "stderr",
       "text": [
        "[2015-04-05 15:54:02,033] Number of reviews: 870 reviews \n"
       ]
      },
      {
       "output_type": "stream",
       "stream": "stderr",
       "text": [
        "[2015-04-05 15:54:02,033] Number of reviews: 870 reviews \n"
       ]
      },
      {
       "output_type": "stream",
       "stream": "stderr",
       "text": [
        "[2015-04-05 15:54:02,033] Number of reviews: 870 reviews \n"
       ]
      },
      {
       "output_type": "stream",
       "stream": "stderr",
       "text": [
        "[2015-04-05 15:54:02,033] Number of reviews: 870 reviews \n"
       ]
      },
      {
       "output_type": "stream",
       "stream": "stderr",
       "text": [
        "[2015-04-05 15:54:02,033] Number of reviews: 870 reviews \n"
       ]
      },
      {
       "output_type": "stream",
       "stream": "stderr",
       "text": [
        "[2015-04-05 15:54:02,033] Number of reviews: 870 reviews \n"
       ]
      },
      {
       "output_type": "stream",
       "stream": "stderr",
       "text": [
        "[2015-04-05 15:54:02,033] Number of reviews: 870 reviews \n"
       ]
      },
      {
       "output_type": "stream",
       "stream": "stderr",
       "text": [
        "[2015-04-05 15:54:02,033] Number of reviews: 870 reviews \n"
       ]
      },
      {
       "output_type": "stream",
       "stream": "stderr",
       "text": [
        "[2015-04-05 15:54:02,033] Number of reviews: 870 reviews \n"
       ]
      },
      {
       "output_type": "stream",
       "stream": "stderr",
       "text": [
        "INFO:scrape_solution:Number of reviews: 870 reviews \n"
       ]
      },
      {
       "output_type": "stream",
       "stream": "stderr",
       "text": [
        "[2015-04-05 15:54:02,040] Hotel name: The Ritz-Carlton Boston Common\n"
       ]
      },
      {
       "output_type": "stream",
       "stream": "stderr",
       "text": [
        "[2015-04-05 15:54:02,040] Hotel name: The Ritz-Carlton Boston Common\n"
       ]
      },
      {
       "output_type": "stream",
       "stream": "stderr",
       "text": [
        "[2015-04-05 15:54:02,040] Hotel name: The Ritz-Carlton Boston Common\n"
       ]
      },
      {
       "output_type": "stream",
       "stream": "stderr",
       "text": [
        "[2015-04-05 15:54:02,040] Hotel name: The Ritz-Carlton Boston Common\n"
       ]
      },
      {
       "output_type": "stream",
       "stream": "stderr",
       "text": [
        "[2015-04-05 15:54:02,040] Hotel name: The Ritz-Carlton Boston Common\n"
       ]
      },
      {
       "output_type": "stream",
       "stream": "stderr",
       "text": [
        "[2015-04-05 15:54:02,040] Hotel name: The Ritz-Carlton Boston Common\n"
       ]
      },
      {
       "output_type": "stream",
       "stream": "stderr",
       "text": [
        "[2015-04-05 15:54:02,040] Hotel name: The Ritz-Carlton Boston Common\n"
       ]
      },
      {
       "output_type": "stream",
       "stream": "stderr",
       "text": [
        "[2015-04-05 15:54:02,040] Hotel name: The Ritz-Carlton Boston Common\n"
       ]
      },
      {
       "output_type": "stream",
       "stream": "stderr",
       "text": [
        "[2015-04-05 15:54:02,040] Hotel name: The Ritz-Carlton Boston Common\n"
       ]
      },
      {
       "output_type": "stream",
       "stream": "stderr",
       "text": [
        "[2015-04-05 15:54:02,040] Hotel name: The Ritz-Carlton Boston Common\n"
       ]
      },
      {
       "output_type": "stream",
       "stream": "stderr",
       "text": [
        "[2015-04-05 15:54:02,040] Hotel name: The Ritz-Carlton Boston Common\n"
       ]
      },
      {
       "output_type": "stream",
       "stream": "stderr",
       "text": [
        "[2015-04-05 15:54:02,040] Hotel name: The Ritz-Carlton Boston Common\n"
       ]
      },
      {
       "output_type": "stream",
       "stream": "stderr",
       "text": [
        "[2015-04-05 15:54:02,040] Hotel name: The Ritz-Carlton Boston Common\n"
       ]
      },
      {
       "output_type": "stream",
       "stream": "stderr",
       "text": [
        "[2015-04-05 15:54:02,040] Hotel name: The Ritz-Carlton Boston Common\n"
       ]
      },
      {
       "output_type": "stream",
       "stream": "stderr",
       "text": [
        "INFO:scrape_solution:Hotel name: The Ritz-Carlton Boston Common\n"
       ]
      },
      {
       "output_type": "stream",
       "stream": "stderr",
       "text": [
        "[2015-04-05 15:54:02,048] Stars: 4.5\n"
       ]
      },
      {
       "output_type": "stream",
       "stream": "stderr",
       "text": [
        "[2015-04-05 15:54:02,048] Stars: 4.5\n"
       ]
      },
      {
       "output_type": "stream",
       "stream": "stderr",
       "text": [
        "[2015-04-05 15:54:02,048] Stars: 4.5\n"
       ]
      },
      {
       "output_type": "stream",
       "stream": "stderr",
       "text": [
        "[2015-04-05 15:54:02,048] Stars: 4.5\n"
       ]
      },
      {
       "output_type": "stream",
       "stream": "stderr",
       "text": [
        "[2015-04-05 15:54:02,048] Stars: 4.5\n"
       ]
      },
      {
       "output_type": "stream",
       "stream": "stderr",
       "text": [
        "[2015-04-05 15:54:02,048] Stars: 4.5\n"
       ]
      },
      {
       "output_type": "stream",
       "stream": "stderr",
       "text": [
        "[2015-04-05 15:54:02,048] Stars: 4.5\n"
       ]
      },
      {
       "output_type": "stream",
       "stream": "stderr",
       "text": [
        "[2015-04-05 15:54:02,048] Stars: 4.5\n"
       ]
      },
      {
       "output_type": "stream",
       "stream": "stderr",
       "text": [
        "[2015-04-05 15:54:02,048] Stars: 4.5\n"
       ]
      },
      {
       "output_type": "stream",
       "stream": "stderr",
       "text": [
        "[2015-04-05 15:54:02,048] Stars: 4.5\n"
       ]
      },
      {
       "output_type": "stream",
       "stream": "stderr",
       "text": [
        "[2015-04-05 15:54:02,048] Stars: 4.5\n"
       ]
      },
      {
       "output_type": "stream",
       "stream": "stderr",
       "text": [
        "[2015-04-05 15:54:02,048] Stars: 4.5\n"
       ]
      },
      {
       "output_type": "stream",
       "stream": "stderr",
       "text": [
        "[2015-04-05 15:54:02,048] Stars: 4.5\n"
       ]
      },
      {
       "output_type": "stream",
       "stream": "stderr",
       "text": [
        "[2015-04-05 15:54:02,048] Stars: 4.5\n"
       ]
      },
      {
       "output_type": "stream",
       "stream": "stderr",
       "text": [
        "INFO:scrape_solution:Stars: 4.5\n"
       ]
      },
      {
       "output_type": "stream",
       "stream": "stderr",
       "text": [
        "[2015-04-05 15:54:02,057] Number of reviews: 513 reviews \n"
       ]
      },
      {
       "output_type": "stream",
       "stream": "stderr",
       "text": [
        "[2015-04-05 15:54:02,057] Number of reviews: 513 reviews \n"
       ]
      },
      {
       "output_type": "stream",
       "stream": "stderr",
       "text": [
        "[2015-04-05 15:54:02,057] Number of reviews: 513 reviews \n"
       ]
      },
      {
       "output_type": "stream",
       "stream": "stderr",
       "text": [
        "[2015-04-05 15:54:02,057] Number of reviews: 513 reviews \n"
       ]
      },
      {
       "output_type": "stream",
       "stream": "stderr",
       "text": [
        "[2015-04-05 15:54:02,057] Number of reviews: 513 reviews \n"
       ]
      },
      {
       "output_type": "stream",
       "stream": "stderr",
       "text": [
        "[2015-04-05 15:54:02,057] Number of reviews: 513 reviews \n"
       ]
      },
      {
       "output_type": "stream",
       "stream": "stderr",
       "text": [
        "[2015-04-05 15:54:02,057] Number of reviews: 513 reviews \n"
       ]
      },
      {
       "output_type": "stream",
       "stream": "stderr",
       "text": [
        "[2015-04-05 15:54:02,057] Number of reviews: 513 reviews \n"
       ]
      },
      {
       "output_type": "stream",
       "stream": "stderr",
       "text": [
        "[2015-04-05 15:54:02,057] Number of reviews: 513 reviews \n"
       ]
      },
      {
       "output_type": "stream",
       "stream": "stderr",
       "text": [
        "[2015-04-05 15:54:02,057] Number of reviews: 513 reviews \n"
       ]
      },
      {
       "output_type": "stream",
       "stream": "stderr",
       "text": [
        "[2015-04-05 15:54:02,057] Number of reviews: 513 reviews \n"
       ]
      },
      {
       "output_type": "stream",
       "stream": "stderr",
       "text": [
        "[2015-04-05 15:54:02,057] Number of reviews: 513 reviews \n"
       ]
      },
      {
       "output_type": "stream",
       "stream": "stderr",
       "text": [
        "[2015-04-05 15:54:02,057] Number of reviews: 513 reviews \n"
       ]
      },
      {
       "output_type": "stream",
       "stream": "stderr",
       "text": [
        "[2015-04-05 15:54:02,057] Number of reviews: 513 reviews \n"
       ]
      },
      {
       "output_type": "stream",
       "stream": "stderr",
       "text": [
        "INFO:scrape_solution:Number of reviews: 513 reviews \n"
       ]
      },
      {
       "output_type": "stream",
       "stream": "stderr",
       "text": [
        "[2015-04-05 15:54:02,063] Hotel name: Courtyard by Marriott Boston Logan Airport\n"
       ]
      },
      {
       "output_type": "stream",
       "stream": "stderr",
       "text": [
        "[2015-04-05 15:54:02,063] Hotel name: Courtyard by Marriott Boston Logan Airport\n"
       ]
      },
      {
       "output_type": "stream",
       "stream": "stderr",
       "text": [
        "[2015-04-05 15:54:02,063] Hotel name: Courtyard by Marriott Boston Logan Airport\n"
       ]
      },
      {
       "output_type": "stream",
       "stream": "stderr",
       "text": [
        "[2015-04-05 15:54:02,063] Hotel name: Courtyard by Marriott Boston Logan Airport\n"
       ]
      },
      {
       "output_type": "stream",
       "stream": "stderr",
       "text": [
        "[2015-04-05 15:54:02,063] Hotel name: Courtyard by Marriott Boston Logan Airport\n"
       ]
      },
      {
       "output_type": "stream",
       "stream": "stderr",
       "text": [
        "[2015-04-05 15:54:02,063] Hotel name: Courtyard by Marriott Boston Logan Airport\n"
       ]
      },
      {
       "output_type": "stream",
       "stream": "stderr",
       "text": [
        "[2015-04-05 15:54:02,063] Hotel name: Courtyard by Marriott Boston Logan Airport\n"
       ]
      },
      {
       "output_type": "stream",
       "stream": "stderr",
       "text": [
        "[2015-04-05 15:54:02,063] Hotel name: Courtyard by Marriott Boston Logan Airport\n"
       ]
      },
      {
       "output_type": "stream",
       "stream": "stderr",
       "text": [
        "[2015-04-05 15:54:02,063] Hotel name: Courtyard by Marriott Boston Logan Airport\n"
       ]
      },
      {
       "output_type": "stream",
       "stream": "stderr",
       "text": [
        "[2015-04-05 15:54:02,063] Hotel name: Courtyard by Marriott Boston Logan Airport\n"
       ]
      },
      {
       "output_type": "stream",
       "stream": "stderr",
       "text": [
        "[2015-04-05 15:54:02,063] Hotel name: Courtyard by Marriott Boston Logan Airport\n"
       ]
      },
      {
       "output_type": "stream",
       "stream": "stderr",
       "text": [
        "[2015-04-05 15:54:02,063] Hotel name: Courtyard by Marriott Boston Logan Airport\n"
       ]
      },
      {
       "output_type": "stream",
       "stream": "stderr",
       "text": [
        "[2015-04-05 15:54:02,063] Hotel name: Courtyard by Marriott Boston Logan Airport\n"
       ]
      },
      {
       "output_type": "stream",
       "stream": "stderr",
       "text": [
        "[2015-04-05 15:54:02,063] Hotel name: Courtyard by Marriott Boston Logan Airport\n"
       ]
      },
      {
       "output_type": "stream",
       "stream": "stderr",
       "text": [
        "INFO:scrape_solution:Hotel name: Courtyard by Marriott Boston Logan Airport\n"
       ]
      },
      {
       "output_type": "stream",
       "stream": "stderr",
       "text": [
        "[2015-04-05 15:54:02,069] Stars: 3.5\n"
       ]
      },
      {
       "output_type": "stream",
       "stream": "stderr",
       "text": [
        "[2015-04-05 15:54:02,069] Stars: 3.5\n"
       ]
      },
      {
       "output_type": "stream",
       "stream": "stderr",
       "text": [
        "[2015-04-05 15:54:02,069] Stars: 3.5\n"
       ]
      },
      {
       "output_type": "stream",
       "stream": "stderr",
       "text": [
        "[2015-04-05 15:54:02,069] Stars: 3.5\n"
       ]
      },
      {
       "output_type": "stream",
       "stream": "stderr",
       "text": [
        "[2015-04-05 15:54:02,069] Stars: 3.5\n"
       ]
      },
      {
       "output_type": "stream",
       "stream": "stderr",
       "text": [
        "[2015-04-05 15:54:02,069] Stars: 3.5\n"
       ]
      },
      {
       "output_type": "stream",
       "stream": "stderr",
       "text": [
        "[2015-04-05 15:54:02,069] Stars: 3.5\n"
       ]
      },
      {
       "output_type": "stream",
       "stream": "stderr",
       "text": [
        "[2015-04-05 15:54:02,069] Stars: 3.5\n"
       ]
      },
      {
       "output_type": "stream",
       "stream": "stderr",
       "text": [
        "[2015-04-05 15:54:02,069] Stars: 3.5\n"
       ]
      },
      {
       "output_type": "stream",
       "stream": "stderr",
       "text": [
        "[2015-04-05 15:54:02,069] Stars: 3.5\n"
       ]
      },
      {
       "output_type": "stream",
       "stream": "stderr",
       "text": [
        "[2015-04-05 15:54:02,069] Stars: 3.5\n"
       ]
      },
      {
       "output_type": "stream",
       "stream": "stderr",
       "text": [
        "[2015-04-05 15:54:02,069] Stars: 3.5\n"
       ]
      },
      {
       "output_type": "stream",
       "stream": "stderr",
       "text": [
        "[2015-04-05 15:54:02,069] Stars: 3.5\n"
       ]
      },
      {
       "output_type": "stream",
       "stream": "stderr",
       "text": [
        "[2015-04-05 15:54:02,069] Stars: 3.5\n"
       ]
      },
      {
       "output_type": "stream",
       "stream": "stderr",
       "text": [
        "INFO:scrape_solution:Stars: 3.5\n"
       ]
      },
      {
       "output_type": "stream",
       "stream": "stderr",
       "text": [
        "[2015-04-05 15:54:02,077] Number of reviews: 429 reviews \n"
       ]
      },
      {
       "output_type": "stream",
       "stream": "stderr",
       "text": [
        "[2015-04-05 15:54:02,077] Number of reviews: 429 reviews \n"
       ]
      },
      {
       "output_type": "stream",
       "stream": "stderr",
       "text": [
        "[2015-04-05 15:54:02,077] Number of reviews: 429 reviews \n"
       ]
      },
      {
       "output_type": "stream",
       "stream": "stderr",
       "text": [
        "[2015-04-05 15:54:02,077] Number of reviews: 429 reviews \n"
       ]
      },
      {
       "output_type": "stream",
       "stream": "stderr",
       "text": [
        "[2015-04-05 15:54:02,077] Number of reviews: 429 reviews \n"
       ]
      },
      {
       "output_type": "stream",
       "stream": "stderr",
       "text": [
        "[2015-04-05 15:54:02,077] Number of reviews: 429 reviews \n"
       ]
      },
      {
       "output_type": "stream",
       "stream": "stderr",
       "text": [
        "[2015-04-05 15:54:02,077] Number of reviews: 429 reviews \n"
       ]
      },
      {
       "output_type": "stream",
       "stream": "stderr",
       "text": [
        "[2015-04-05 15:54:02,077] Number of reviews: 429 reviews \n"
       ]
      },
      {
       "output_type": "stream",
       "stream": "stderr",
       "text": [
        "[2015-04-05 15:54:02,077] Number of reviews: 429 reviews \n"
       ]
      },
      {
       "output_type": "stream",
       "stream": "stderr",
       "text": [
        "[2015-04-05 15:54:02,077] Number of reviews: 429 reviews \n"
       ]
      },
      {
       "output_type": "stream",
       "stream": "stderr",
       "text": [
        "[2015-04-05 15:54:02,077] Number of reviews: 429 reviews \n"
       ]
      },
      {
       "output_type": "stream",
       "stream": "stderr",
       "text": [
        "[2015-04-05 15:54:02,077] Number of reviews: 429 reviews \n"
       ]
      },
      {
       "output_type": "stream",
       "stream": "stderr",
       "text": [
        "[2015-04-05 15:54:02,077] Number of reviews: 429 reviews \n"
       ]
      },
      {
       "output_type": "stream",
       "stream": "stderr",
       "text": [
        "[2015-04-05 15:54:02,077] Number of reviews: 429 reviews \n"
       ]
      },
      {
       "output_type": "stream",
       "stream": "stderr",
       "text": [
        "INFO:scrape_solution:Number of reviews: 429 reviews \n"
       ]
      },
      {
       "output_type": "stream",
       "stream": "stderr",
       "text": [
        "[2015-04-05 15:54:02,083] Hotel name: The Inn At St Botolph\n"
       ]
      },
      {
       "output_type": "stream",
       "stream": "stderr",
       "text": [
        "[2015-04-05 15:54:02,083] Hotel name: The Inn At St Botolph\n"
       ]
      },
      {
       "output_type": "stream",
       "stream": "stderr",
       "text": [
        "[2015-04-05 15:54:02,083] Hotel name: The Inn At St Botolph\n"
       ]
      },
      {
       "output_type": "stream",
       "stream": "stderr",
       "text": [
        "[2015-04-05 15:54:02,083] Hotel name: The Inn At St Botolph\n"
       ]
      },
      {
       "output_type": "stream",
       "stream": "stderr",
       "text": [
        "[2015-04-05 15:54:02,083] Hotel name: The Inn At St Botolph\n"
       ]
      },
      {
       "output_type": "stream",
       "stream": "stderr",
       "text": [
        "[2015-04-05 15:54:02,083] Hotel name: The Inn At St Botolph\n"
       ]
      },
      {
       "output_type": "stream",
       "stream": "stderr",
       "text": [
        "[2015-04-05 15:54:02,083] Hotel name: The Inn At St Botolph\n"
       ]
      },
      {
       "output_type": "stream",
       "stream": "stderr",
       "text": [
        "[2015-04-05 15:54:02,083] Hotel name: The Inn At St Botolph\n"
       ]
      },
      {
       "output_type": "stream",
       "stream": "stderr",
       "text": [
        "[2015-04-05 15:54:02,083] Hotel name: The Inn At St Botolph\n"
       ]
      },
      {
       "output_type": "stream",
       "stream": "stderr",
       "text": [
        "[2015-04-05 15:54:02,083] Hotel name: The Inn At St Botolph\n"
       ]
      },
      {
       "output_type": "stream",
       "stream": "stderr",
       "text": [
        "[2015-04-05 15:54:02,083] Hotel name: The Inn At St Botolph\n"
       ]
      },
      {
       "output_type": "stream",
       "stream": "stderr",
       "text": [
        "[2015-04-05 15:54:02,083] Hotel name: The Inn At St Botolph\n"
       ]
      },
      {
       "output_type": "stream",
       "stream": "stderr",
       "text": [
        "[2015-04-05 15:54:02,083] Hotel name: The Inn At St Botolph\n"
       ]
      },
      {
       "output_type": "stream",
       "stream": "stderr",
       "text": [
        "[2015-04-05 15:54:02,083] Hotel name: The Inn At St Botolph\n"
       ]
      },
      {
       "output_type": "stream",
       "stream": "stderr",
       "text": [
        "INFO:scrape_solution:Hotel name: The Inn At St Botolph\n"
       ]
      },
      {
       "output_type": "stream",
       "stream": "stderr",
       "text": [
        "[2015-04-05 15:54:02,091] Stars: 4.5\n"
       ]
      },
      {
       "output_type": "stream",
       "stream": "stderr",
       "text": [
        "[2015-04-05 15:54:02,091] Stars: 4.5\n"
       ]
      },
      {
       "output_type": "stream",
       "stream": "stderr",
       "text": [
        "[2015-04-05 15:54:02,091] Stars: 4.5\n"
       ]
      },
      {
       "output_type": "stream",
       "stream": "stderr",
       "text": [
        "[2015-04-05 15:54:02,091] Stars: 4.5\n"
       ]
      },
      {
       "output_type": "stream",
       "stream": "stderr",
       "text": [
        "[2015-04-05 15:54:02,091] Stars: 4.5\n"
       ]
      },
      {
       "output_type": "stream",
       "stream": "stderr",
       "text": [
        "[2015-04-05 15:54:02,091] Stars: 4.5\n"
       ]
      },
      {
       "output_type": "stream",
       "stream": "stderr",
       "text": [
        "[2015-04-05 15:54:02,091] Stars: 4.5\n"
       ]
      },
      {
       "output_type": "stream",
       "stream": "stderr",
       "text": [
        "[2015-04-05 15:54:02,091] Stars: 4.5\n"
       ]
      },
      {
       "output_type": "stream",
       "stream": "stderr",
       "text": [
        "[2015-04-05 15:54:02,091] Stars: 4.5\n"
       ]
      },
      {
       "output_type": "stream",
       "stream": "stderr",
       "text": [
        "[2015-04-05 15:54:02,091] Stars: 4.5\n"
       ]
      },
      {
       "output_type": "stream",
       "stream": "stderr",
       "text": [
        "[2015-04-05 15:54:02,091] Stars: 4.5\n"
       ]
      },
      {
       "output_type": "stream",
       "stream": "stderr",
       "text": [
        "[2015-04-05 15:54:02,091] Stars: 4.5\n"
       ]
      },
      {
       "output_type": "stream",
       "stream": "stderr",
       "text": [
        "[2015-04-05 15:54:02,091] Stars: 4.5\n"
       ]
      },
      {
       "output_type": "stream",
       "stream": "stderr",
       "text": [
        "[2015-04-05 15:54:02,091] Stars: 4.5\n"
       ]
      },
      {
       "output_type": "stream",
       "stream": "stderr",
       "text": [
        "INFO:scrape_solution:Stars: 4.5\n"
       ]
      },
      {
       "output_type": "stream",
       "stream": "stderr",
       "text": [
        "[2015-04-05 15:54:02,100] Number of reviews: 429 reviews \n"
       ]
      },
      {
       "output_type": "stream",
       "stream": "stderr",
       "text": [
        "[2015-04-05 15:54:02,100] Number of reviews: 429 reviews \n"
       ]
      },
      {
       "output_type": "stream",
       "stream": "stderr",
       "text": [
        "[2015-04-05 15:54:02,100] Number of reviews: 429 reviews \n"
       ]
      },
      {
       "output_type": "stream",
       "stream": "stderr",
       "text": [
        "[2015-04-05 15:54:02,100] Number of reviews: 429 reviews \n"
       ]
      },
      {
       "output_type": "stream",
       "stream": "stderr",
       "text": [
        "[2015-04-05 15:54:02,100] Number of reviews: 429 reviews \n"
       ]
      },
      {
       "output_type": "stream",
       "stream": "stderr",
       "text": [
        "[2015-04-05 15:54:02,100] Number of reviews: 429 reviews \n"
       ]
      },
      {
       "output_type": "stream",
       "stream": "stderr",
       "text": [
        "[2015-04-05 15:54:02,100] Number of reviews: 429 reviews \n"
       ]
      },
      {
       "output_type": "stream",
       "stream": "stderr",
       "text": [
        "[2015-04-05 15:54:02,100] Number of reviews: 429 reviews \n"
       ]
      },
      {
       "output_type": "stream",
       "stream": "stderr",
       "text": [
        "[2015-04-05 15:54:02,100] Number of reviews: 429 reviews \n"
       ]
      },
      {
       "output_type": "stream",
       "stream": "stderr",
       "text": [
        "[2015-04-05 15:54:02,100] Number of reviews: 429 reviews \n"
       ]
      },
      {
       "output_type": "stream",
       "stream": "stderr",
       "text": [
        "[2015-04-05 15:54:02,100] Number of reviews: 429 reviews \n"
       ]
      },
      {
       "output_type": "stream",
       "stream": "stderr",
       "text": [
        "[2015-04-05 15:54:02,100] Number of reviews: 429 reviews \n"
       ]
      },
      {
       "output_type": "stream",
       "stream": "stderr",
       "text": [
        "[2015-04-05 15:54:02,100] Number of reviews: 429 reviews \n"
       ]
      },
      {
       "output_type": "stream",
       "stream": "stderr",
       "text": [
        "[2015-04-05 15:54:02,100] Number of reviews: 429 reviews \n"
       ]
      },
      {
       "output_type": "stream",
       "stream": "stderr",
       "text": [
        "INFO:scrape_solution:Number of reviews: 429 reviews \n"
       ]
      },
      {
       "output_type": "stream",
       "stream": "stderr",
       "text": [
        "[2015-04-05 15:54:02,109] Hotel name: Residence Inn Boston Downtown Seaport\n"
       ]
      },
      {
       "output_type": "stream",
       "stream": "stderr",
       "text": [
        "[2015-04-05 15:54:02,109] Hotel name: Residence Inn Boston Downtown Seaport\n"
       ]
      },
      {
       "output_type": "stream",
       "stream": "stderr",
       "text": [
        "[2015-04-05 15:54:02,109] Hotel name: Residence Inn Boston Downtown Seaport\n"
       ]
      },
      {
       "output_type": "stream",
       "stream": "stderr",
       "text": [
        "[2015-04-05 15:54:02,109] Hotel name: Residence Inn Boston Downtown Seaport\n"
       ]
      },
      {
       "output_type": "stream",
       "stream": "stderr",
       "text": [
        "[2015-04-05 15:54:02,109] Hotel name: Residence Inn Boston Downtown Seaport\n"
       ]
      },
      {
       "output_type": "stream",
       "stream": "stderr",
       "text": [
        "[2015-04-05 15:54:02,109] Hotel name: Residence Inn Boston Downtown Seaport\n"
       ]
      },
      {
       "output_type": "stream",
       "stream": "stderr",
       "text": [
        "[2015-04-05 15:54:02,109] Hotel name: Residence Inn Boston Downtown Seaport\n"
       ]
      },
      {
       "output_type": "stream",
       "stream": "stderr",
       "text": [
        "[2015-04-05 15:54:02,109] Hotel name: Residence Inn Boston Downtown Seaport\n"
       ]
      },
      {
       "output_type": "stream",
       "stream": "stderr",
       "text": [
        "[2015-04-05 15:54:02,109] Hotel name: Residence Inn Boston Downtown Seaport\n"
       ]
      },
      {
       "output_type": "stream",
       "stream": "stderr",
       "text": [
        "[2015-04-05 15:54:02,109] Hotel name: Residence Inn Boston Downtown Seaport\n"
       ]
      },
      {
       "output_type": "stream",
       "stream": "stderr",
       "text": [
        "[2015-04-05 15:54:02,109] Hotel name: Residence Inn Boston Downtown Seaport\n"
       ]
      },
      {
       "output_type": "stream",
       "stream": "stderr",
       "text": [
        "[2015-04-05 15:54:02,109] Hotel name: Residence Inn Boston Downtown Seaport\n"
       ]
      },
      {
       "output_type": "stream",
       "stream": "stderr",
       "text": [
        "[2015-04-05 15:54:02,109] Hotel name: Residence Inn Boston Downtown Seaport\n"
       ]
      },
      {
       "output_type": "stream",
       "stream": "stderr",
       "text": [
        "[2015-04-05 15:54:02,109] Hotel name: Residence Inn Boston Downtown Seaport\n"
       ]
      },
      {
       "output_type": "stream",
       "stream": "stderr",
       "text": [
        "INFO:scrape_solution:Hotel name: Residence Inn Boston Downtown Seaport\n"
       ]
      },
      {
       "output_type": "stream",
       "stream": "stderr",
       "text": [
        "[2015-04-05 15:54:02,118] Stars: 4.5\n"
       ]
      },
      {
       "output_type": "stream",
       "stream": "stderr",
       "text": [
        "[2015-04-05 15:54:02,118] Stars: 4.5\n"
       ]
      },
      {
       "output_type": "stream",
       "stream": "stderr",
       "text": [
        "[2015-04-05 15:54:02,118] Stars: 4.5\n"
       ]
      },
      {
       "output_type": "stream",
       "stream": "stderr",
       "text": [
        "[2015-04-05 15:54:02,118] Stars: 4.5\n"
       ]
      },
      {
       "output_type": "stream",
       "stream": "stderr",
       "text": [
        "[2015-04-05 15:54:02,118] Stars: 4.5\n"
       ]
      },
      {
       "output_type": "stream",
       "stream": "stderr",
       "text": [
        "[2015-04-05 15:54:02,118] Stars: 4.5\n"
       ]
      },
      {
       "output_type": "stream",
       "stream": "stderr",
       "text": [
        "[2015-04-05 15:54:02,118] Stars: 4.5\n"
       ]
      },
      {
       "output_type": "stream",
       "stream": "stderr",
       "text": [
        "[2015-04-05 15:54:02,118] Stars: 4.5\n"
       ]
      },
      {
       "output_type": "stream",
       "stream": "stderr",
       "text": [
        "[2015-04-05 15:54:02,118] Stars: 4.5\n"
       ]
      },
      {
       "output_type": "stream",
       "stream": "stderr",
       "text": [
        "[2015-04-05 15:54:02,118] Stars: 4.5\n"
       ]
      },
      {
       "output_type": "stream",
       "stream": "stderr",
       "text": [
        "[2015-04-05 15:54:02,118] Stars: 4.5\n"
       ]
      },
      {
       "output_type": "stream",
       "stream": "stderr",
       "text": [
        "[2015-04-05 15:54:02,118] Stars: 4.5\n"
       ]
      },
      {
       "output_type": "stream",
       "stream": "stderr",
       "text": [
        "[2015-04-05 15:54:02,118] Stars: 4.5\n"
       ]
      },
      {
       "output_type": "stream",
       "stream": "stderr",
       "text": [
        "[2015-04-05 15:54:02,118] Stars: 4.5\n"
       ]
      },
      {
       "output_type": "stream",
       "stream": "stderr",
       "text": [
        "INFO:scrape_solution:Stars: 4.5\n"
       ]
      },
      {
       "output_type": "stream",
       "stream": "stderr",
       "text": [
        "[2015-04-05 15:54:02,125] Number of reviews: 233 reviews \n"
       ]
      },
      {
       "output_type": "stream",
       "stream": "stderr",
       "text": [
        "[2015-04-05 15:54:02,125] Number of reviews: 233 reviews \n"
       ]
      },
      {
       "output_type": "stream",
       "stream": "stderr",
       "text": [
        "[2015-04-05 15:54:02,125] Number of reviews: 233 reviews \n"
       ]
      },
      {
       "output_type": "stream",
       "stream": "stderr",
       "text": [
        "[2015-04-05 15:54:02,125] Number of reviews: 233 reviews \n"
       ]
      },
      {
       "output_type": "stream",
       "stream": "stderr",
       "text": [
        "[2015-04-05 15:54:02,125] Number of reviews: 233 reviews \n"
       ]
      },
      {
       "output_type": "stream",
       "stream": "stderr",
       "text": [
        "[2015-04-05 15:54:02,125] Number of reviews: 233 reviews \n"
       ]
      },
      {
       "output_type": "stream",
       "stream": "stderr",
       "text": [
        "[2015-04-05 15:54:02,125] Number of reviews: 233 reviews \n"
       ]
      },
      {
       "output_type": "stream",
       "stream": "stderr",
       "text": [
        "[2015-04-05 15:54:02,125] Number of reviews: 233 reviews \n"
       ]
      },
      {
       "output_type": "stream",
       "stream": "stderr",
       "text": [
        "[2015-04-05 15:54:02,125] Number of reviews: 233 reviews \n"
       ]
      },
      {
       "output_type": "stream",
       "stream": "stderr",
       "text": [
        "[2015-04-05 15:54:02,125] Number of reviews: 233 reviews \n"
       ]
      },
      {
       "output_type": "stream",
       "stream": "stderr",
       "text": [
        "[2015-04-05 15:54:02,125] Number of reviews: 233 reviews \n"
       ]
      },
      {
       "output_type": "stream",
       "stream": "stderr",
       "text": [
        "[2015-04-05 15:54:02,125] Number of reviews: 233 reviews \n"
       ]
      },
      {
       "output_type": "stream",
       "stream": "stderr",
       "text": [
        "[2015-04-05 15:54:02,125] Number of reviews: 233 reviews \n"
       ]
      },
      {
       "output_type": "stream",
       "stream": "stderr",
       "text": [
        "[2015-04-05 15:54:02,125] Number of reviews: 233 reviews \n"
       ]
      },
      {
       "output_type": "stream",
       "stream": "stderr",
       "text": [
        "INFO:scrape_solution:Number of reviews: 233 reviews \n"
       ]
      },
      {
       "output_type": "stream",
       "stream": "stderr",
       "text": [
        "[2015-04-05 15:54:02,131] Hotel name: Courtyard Boston-South Boston\n"
       ]
      },
      {
       "output_type": "stream",
       "stream": "stderr",
       "text": [
        "[2015-04-05 15:54:02,131] Hotel name: Courtyard Boston-South Boston\n"
       ]
      },
      {
       "output_type": "stream",
       "stream": "stderr",
       "text": [
        "[2015-04-05 15:54:02,131] Hotel name: Courtyard Boston-South Boston\n"
       ]
      },
      {
       "output_type": "stream",
       "stream": "stderr",
       "text": [
        "[2015-04-05 15:54:02,131] Hotel name: Courtyard Boston-South Boston\n"
       ]
      },
      {
       "output_type": "stream",
       "stream": "stderr",
       "text": [
        "[2015-04-05 15:54:02,131] Hotel name: Courtyard Boston-South Boston\n"
       ]
      },
      {
       "output_type": "stream",
       "stream": "stderr",
       "text": [
        "[2015-04-05 15:54:02,131] Hotel name: Courtyard Boston-South Boston\n"
       ]
      },
      {
       "output_type": "stream",
       "stream": "stderr",
       "text": [
        "[2015-04-05 15:54:02,131] Hotel name: Courtyard Boston-South Boston\n"
       ]
      },
      {
       "output_type": "stream",
       "stream": "stderr",
       "text": [
        "[2015-04-05 15:54:02,131] Hotel name: Courtyard Boston-South Boston\n"
       ]
      },
      {
       "output_type": "stream",
       "stream": "stderr",
       "text": [
        "[2015-04-05 15:54:02,131] Hotel name: Courtyard Boston-South Boston\n"
       ]
      },
      {
       "output_type": "stream",
       "stream": "stderr",
       "text": [
        "[2015-04-05 15:54:02,131] Hotel name: Courtyard Boston-South Boston\n"
       ]
      },
      {
       "output_type": "stream",
       "stream": "stderr",
       "text": [
        "[2015-04-05 15:54:02,131] Hotel name: Courtyard Boston-South Boston\n"
       ]
      },
      {
       "output_type": "stream",
       "stream": "stderr",
       "text": [
        "[2015-04-05 15:54:02,131] Hotel name: Courtyard Boston-South Boston\n"
       ]
      },
      {
       "output_type": "stream",
       "stream": "stderr",
       "text": [
        "[2015-04-05 15:54:02,131] Hotel name: Courtyard Boston-South Boston\n"
       ]
      },
      {
       "output_type": "stream",
       "stream": "stderr",
       "text": [
        "[2015-04-05 15:54:02,131] Hotel name: Courtyard Boston-South Boston\n"
       ]
      },
      {
       "output_type": "stream",
       "stream": "stderr",
       "text": [
        "INFO:scrape_solution:Hotel name: Courtyard Boston-South Boston\n"
       ]
      },
      {
       "output_type": "stream",
       "stream": "stderr",
       "text": [
        "[2015-04-05 15:54:02,139] Stars: 4\n"
       ]
      },
      {
       "output_type": "stream",
       "stream": "stderr",
       "text": [
        "[2015-04-05 15:54:02,139] Stars: 4\n"
       ]
      },
      {
       "output_type": "stream",
       "stream": "stderr",
       "text": [
        "[2015-04-05 15:54:02,139] Stars: 4\n"
       ]
      },
      {
       "output_type": "stream",
       "stream": "stderr",
       "text": [
        "[2015-04-05 15:54:02,139] Stars: 4\n"
       ]
      },
      {
       "output_type": "stream",
       "stream": "stderr",
       "text": [
        "[2015-04-05 15:54:02,139] Stars: 4\n"
       ]
      },
      {
       "output_type": "stream",
       "stream": "stderr",
       "text": [
        "[2015-04-05 15:54:02,139] Stars: 4\n"
       ]
      },
      {
       "output_type": "stream",
       "stream": "stderr",
       "text": [
        "[2015-04-05 15:54:02,139] Stars: 4\n"
       ]
      },
      {
       "output_type": "stream",
       "stream": "stderr",
       "text": [
        "[2015-04-05 15:54:02,139] Stars: 4\n"
       ]
      },
      {
       "output_type": "stream",
       "stream": "stderr",
       "text": [
        "[2015-04-05 15:54:02,139] Stars: 4\n"
       ]
      },
      {
       "output_type": "stream",
       "stream": "stderr",
       "text": [
        "[2015-04-05 15:54:02,139] Stars: 4\n"
       ]
      },
      {
       "output_type": "stream",
       "stream": "stderr",
       "text": [
        "[2015-04-05 15:54:02,139] Stars: 4\n"
       ]
      },
      {
       "output_type": "stream",
       "stream": "stderr",
       "text": [
        "[2015-04-05 15:54:02,139] Stars: 4\n"
       ]
      },
      {
       "output_type": "stream",
       "stream": "stderr",
       "text": [
        "[2015-04-05 15:54:02,139] Stars: 4\n"
       ]
      },
      {
       "output_type": "stream",
       "stream": "stderr",
       "text": [
        "[2015-04-05 15:54:02,139] Stars: 4\n"
       ]
      },
      {
       "output_type": "stream",
       "stream": "stderr",
       "text": [
        "INFO:scrape_solution:Stars: 4\n"
       ]
      },
      {
       "output_type": "stream",
       "stream": "stderr",
       "text": [
        "[2015-04-05 15:54:02,148] Number of reviews: 343 reviews \n"
       ]
      },
      {
       "output_type": "stream",
       "stream": "stderr",
       "text": [
        "[2015-04-05 15:54:02,148] Number of reviews: 343 reviews \n"
       ]
      },
      {
       "output_type": "stream",
       "stream": "stderr",
       "text": [
        "[2015-04-05 15:54:02,148] Number of reviews: 343 reviews \n"
       ]
      },
      {
       "output_type": "stream",
       "stream": "stderr",
       "text": [
        "[2015-04-05 15:54:02,148] Number of reviews: 343 reviews \n"
       ]
      },
      {
       "output_type": "stream",
       "stream": "stderr",
       "text": [
        "[2015-04-05 15:54:02,148] Number of reviews: 343 reviews \n"
       ]
      },
      {
       "output_type": "stream",
       "stream": "stderr",
       "text": [
        "[2015-04-05 15:54:02,148] Number of reviews: 343 reviews \n"
       ]
      },
      {
       "output_type": "stream",
       "stream": "stderr",
       "text": [
        "[2015-04-05 15:54:02,148] Number of reviews: 343 reviews \n"
       ]
      },
      {
       "output_type": "stream",
       "stream": "stderr",
       "text": [
        "[2015-04-05 15:54:02,148] Number of reviews: 343 reviews \n"
       ]
      },
      {
       "output_type": "stream",
       "stream": "stderr",
       "text": [
        "[2015-04-05 15:54:02,148] Number of reviews: 343 reviews \n"
       ]
      },
      {
       "output_type": "stream",
       "stream": "stderr",
       "text": [
        "[2015-04-05 15:54:02,148] Number of reviews: 343 reviews \n"
       ]
      },
      {
       "output_type": "stream",
       "stream": "stderr",
       "text": [
        "[2015-04-05 15:54:02,148] Number of reviews: 343 reviews \n"
       ]
      },
      {
       "output_type": "stream",
       "stream": "stderr",
       "text": [
        "[2015-04-05 15:54:02,148] Number of reviews: 343 reviews \n"
       ]
      },
      {
       "output_type": "stream",
       "stream": "stderr",
       "text": [
        "[2015-04-05 15:54:02,148] Number of reviews: 343 reviews \n"
       ]
      },
      {
       "output_type": "stream",
       "stream": "stderr",
       "text": [
        "[2015-04-05 15:54:02,148] Number of reviews: 343 reviews \n"
       ]
      },
      {
       "output_type": "stream",
       "stream": "stderr",
       "text": [
        "INFO:scrape_solution:Number of reviews: 343 reviews \n"
       ]
      },
      {
       "output_type": "stream",
       "stream": "stderr",
       "text": [
        "[2015-04-05 15:54:02,153] Hotel name: Beacon Hill Hotel and Bistro\n"
       ]
      },
      {
       "output_type": "stream",
       "stream": "stderr",
       "text": [
        "[2015-04-05 15:54:02,153] Hotel name: Beacon Hill Hotel and Bistro\n"
       ]
      },
      {
       "output_type": "stream",
       "stream": "stderr",
       "text": [
        "[2015-04-05 15:54:02,153] Hotel name: Beacon Hill Hotel and Bistro\n"
       ]
      },
      {
       "output_type": "stream",
       "stream": "stderr",
       "text": [
        "[2015-04-05 15:54:02,153] Hotel name: Beacon Hill Hotel and Bistro\n"
       ]
      },
      {
       "output_type": "stream",
       "stream": "stderr",
       "text": [
        "[2015-04-05 15:54:02,153] Hotel name: Beacon Hill Hotel and Bistro\n"
       ]
      },
      {
       "output_type": "stream",
       "stream": "stderr",
       "text": [
        "[2015-04-05 15:54:02,153] Hotel name: Beacon Hill Hotel and Bistro\n"
       ]
      },
      {
       "output_type": "stream",
       "stream": "stderr",
       "text": [
        "[2015-04-05 15:54:02,153] Hotel name: Beacon Hill Hotel and Bistro\n"
       ]
      },
      {
       "output_type": "stream",
       "stream": "stderr",
       "text": [
        "[2015-04-05 15:54:02,153] Hotel name: Beacon Hill Hotel and Bistro\n"
       ]
      },
      {
       "output_type": "stream",
       "stream": "stderr",
       "text": [
        "[2015-04-05 15:54:02,153] Hotel name: Beacon Hill Hotel and Bistro\n"
       ]
      },
      {
       "output_type": "stream",
       "stream": "stderr",
       "text": [
        "[2015-04-05 15:54:02,153] Hotel name: Beacon Hill Hotel and Bistro\n"
       ]
      },
      {
       "output_type": "stream",
       "stream": "stderr",
       "text": [
        "[2015-04-05 15:54:02,153] Hotel name: Beacon Hill Hotel and Bistro\n"
       ]
      },
      {
       "output_type": "stream",
       "stream": "stderr",
       "text": [
        "[2015-04-05 15:54:02,153] Hotel name: Beacon Hill Hotel and Bistro\n"
       ]
      },
      {
       "output_type": "stream",
       "stream": "stderr",
       "text": [
        "[2015-04-05 15:54:02,153] Hotel name: Beacon Hill Hotel and Bistro\n"
       ]
      },
      {
       "output_type": "stream",
       "stream": "stderr",
       "text": [
        "[2015-04-05 15:54:02,153] Hotel name: Beacon Hill Hotel and Bistro\n"
       ]
      },
      {
       "output_type": "stream",
       "stream": "stderr",
       "text": [
        "INFO:scrape_solution:Hotel name: Beacon Hill Hotel and Bistro\n"
       ]
      },
      {
       "output_type": "stream",
       "stream": "stderr",
       "text": [
        "[2015-04-05 15:54:02,164] Stars: 4\n"
       ]
      },
      {
       "output_type": "stream",
       "stream": "stderr",
       "text": [
        "[2015-04-05 15:54:02,164] Stars: 4\n"
       ]
      },
      {
       "output_type": "stream",
       "stream": "stderr",
       "text": [
        "[2015-04-05 15:54:02,164] Stars: 4\n"
       ]
      },
      {
       "output_type": "stream",
       "stream": "stderr",
       "text": [
        "[2015-04-05 15:54:02,164] Stars: 4\n"
       ]
      },
      {
       "output_type": "stream",
       "stream": "stderr",
       "text": [
        "[2015-04-05 15:54:02,164] Stars: 4\n"
       ]
      },
      {
       "output_type": "stream",
       "stream": "stderr",
       "text": [
        "[2015-04-05 15:54:02,164] Stars: 4\n"
       ]
      },
      {
       "output_type": "stream",
       "stream": "stderr",
       "text": [
        "[2015-04-05 15:54:02,164] Stars: 4\n"
       ]
      },
      {
       "output_type": "stream",
       "stream": "stderr",
       "text": [
        "[2015-04-05 15:54:02,164] Stars: 4\n"
       ]
      },
      {
       "output_type": "stream",
       "stream": "stderr",
       "text": [
        "[2015-04-05 15:54:02,164] Stars: 4\n"
       ]
      },
      {
       "output_type": "stream",
       "stream": "stderr",
       "text": [
        "[2015-04-05 15:54:02,164] Stars: 4\n"
       ]
      },
      {
       "output_type": "stream",
       "stream": "stderr",
       "text": [
        "[2015-04-05 15:54:02,164] Stars: 4\n"
       ]
      },
      {
       "output_type": "stream",
       "stream": "stderr",
       "text": [
        "[2015-04-05 15:54:02,164] Stars: 4\n"
       ]
      },
      {
       "output_type": "stream",
       "stream": "stderr",
       "text": [
        "[2015-04-05 15:54:02,164] Stars: 4\n"
       ]
      },
      {
       "output_type": "stream",
       "stream": "stderr",
       "text": [
        "[2015-04-05 15:54:02,164] Stars: 4\n"
       ]
      },
      {
       "output_type": "stream",
       "stream": "stderr",
       "text": [
        "INFO:scrape_solution:Stars: 4\n"
       ]
      },
      {
       "output_type": "stream",
       "stream": "stderr",
       "text": [
        "[2015-04-05 15:54:02,178] Number of reviews: 143 reviews \n"
       ]
      },
      {
       "output_type": "stream",
       "stream": "stderr",
       "text": [
        "[2015-04-05 15:54:02,178] Number of reviews: 143 reviews \n"
       ]
      },
      {
       "output_type": "stream",
       "stream": "stderr",
       "text": [
        "[2015-04-05 15:54:02,178] Number of reviews: 143 reviews \n"
       ]
      },
      {
       "output_type": "stream",
       "stream": "stderr",
       "text": [
        "[2015-04-05 15:54:02,178] Number of reviews: 143 reviews \n"
       ]
      },
      {
       "output_type": "stream",
       "stream": "stderr",
       "text": [
        "[2015-04-05 15:54:02,178] Number of reviews: 143 reviews \n"
       ]
      },
      {
       "output_type": "stream",
       "stream": "stderr",
       "text": [
        "[2015-04-05 15:54:02,178] Number of reviews: 143 reviews \n"
       ]
      },
      {
       "output_type": "stream",
       "stream": "stderr",
       "text": [
        "[2015-04-05 15:54:02,178] Number of reviews: 143 reviews \n"
       ]
      },
      {
       "output_type": "stream",
       "stream": "stderr",
       "text": [
        "[2015-04-05 15:54:02,178] Number of reviews: 143 reviews \n"
       ]
      },
      {
       "output_type": "stream",
       "stream": "stderr",
       "text": [
        "[2015-04-05 15:54:02,178] Number of reviews: 143 reviews \n"
       ]
      },
      {
       "output_type": "stream",
       "stream": "stderr",
       "text": [
        "[2015-04-05 15:54:02,178] Number of reviews: 143 reviews \n"
       ]
      },
      {
       "output_type": "stream",
       "stream": "stderr",
       "text": [
        "[2015-04-05 15:54:02,178] Number of reviews: 143 reviews \n"
       ]
      },
      {
       "output_type": "stream",
       "stream": "stderr",
       "text": [
        "[2015-04-05 15:54:02,178] Number of reviews: 143 reviews \n"
       ]
      },
      {
       "output_type": "stream",
       "stream": "stderr",
       "text": [
        "[2015-04-05 15:54:02,178] Number of reviews: 143 reviews \n"
       ]
      },
      {
       "output_type": "stream",
       "stream": "stderr",
       "text": [
        "[2015-04-05 15:54:02,178] Number of reviews: 143 reviews \n"
       ]
      },
      {
       "output_type": "stream",
       "stream": "stderr",
       "text": [
        "INFO:scrape_solution:Number of reviews: 143 reviews \n"
       ]
      },
      {
       "output_type": "stream",
       "stream": "stderr",
       "text": [
        "[2015-04-05 15:54:02,185] Hotel name: Comfort Inn - Boston\n"
       ]
      },
      {
       "output_type": "stream",
       "stream": "stderr",
       "text": [
        "[2015-04-05 15:54:02,185] Hotel name: Comfort Inn - Boston\n"
       ]
      },
      {
       "output_type": "stream",
       "stream": "stderr",
       "text": [
        "[2015-04-05 15:54:02,185] Hotel name: Comfort Inn - Boston\n"
       ]
      },
      {
       "output_type": "stream",
       "stream": "stderr",
       "text": [
        "[2015-04-05 15:54:02,185] Hotel name: Comfort Inn - Boston\n"
       ]
      },
      {
       "output_type": "stream",
       "stream": "stderr",
       "text": [
        "[2015-04-05 15:54:02,185] Hotel name: Comfort Inn - Boston\n"
       ]
      },
      {
       "output_type": "stream",
       "stream": "stderr",
       "text": [
        "[2015-04-05 15:54:02,185] Hotel name: Comfort Inn - Boston\n"
       ]
      },
      {
       "output_type": "stream",
       "stream": "stderr",
       "text": [
        "[2015-04-05 15:54:02,185] Hotel name: Comfort Inn - Boston\n"
       ]
      },
      {
       "output_type": "stream",
       "stream": "stderr",
       "text": [
        "[2015-04-05 15:54:02,185] Hotel name: Comfort Inn - Boston\n"
       ]
      },
      {
       "output_type": "stream",
       "stream": "stderr",
       "text": [
        "[2015-04-05 15:54:02,185] Hotel name: Comfort Inn - Boston\n"
       ]
      },
      {
       "output_type": "stream",
       "stream": "stderr",
       "text": [
        "[2015-04-05 15:54:02,185] Hotel name: Comfort Inn - Boston\n"
       ]
      },
      {
       "output_type": "stream",
       "stream": "stderr",
       "text": [
        "[2015-04-05 15:54:02,185] Hotel name: Comfort Inn - Boston\n"
       ]
      },
      {
       "output_type": "stream",
       "stream": "stderr",
       "text": [
        "[2015-04-05 15:54:02,185] Hotel name: Comfort Inn - Boston\n"
       ]
      },
      {
       "output_type": "stream",
       "stream": "stderr",
       "text": [
        "[2015-04-05 15:54:02,185] Hotel name: Comfort Inn - Boston\n"
       ]
      },
      {
       "output_type": "stream",
       "stream": "stderr",
       "text": [
        "[2015-04-05 15:54:02,185] Hotel name: Comfort Inn - Boston\n"
       ]
      },
      {
       "output_type": "stream",
       "stream": "stderr",
       "text": [
        "INFO:scrape_solution:Hotel name: Comfort Inn - Boston\n"
       ]
      },
      {
       "output_type": "stream",
       "stream": "stderr",
       "text": [
        "[2015-04-05 15:54:02,193] Stars: 3.5\n"
       ]
      },
      {
       "output_type": "stream",
       "stream": "stderr",
       "text": [
        "[2015-04-05 15:54:02,193] Stars: 3.5\n"
       ]
      },
      {
       "output_type": "stream",
       "stream": "stderr",
       "text": [
        "[2015-04-05 15:54:02,193] Stars: 3.5\n"
       ]
      },
      {
       "output_type": "stream",
       "stream": "stderr",
       "text": [
        "[2015-04-05 15:54:02,193] Stars: 3.5\n"
       ]
      },
      {
       "output_type": "stream",
       "stream": "stderr",
       "text": [
        "[2015-04-05 15:54:02,193] Stars: 3.5\n"
       ]
      },
      {
       "output_type": "stream",
       "stream": "stderr",
       "text": [
        "[2015-04-05 15:54:02,193] Stars: 3.5\n"
       ]
      },
      {
       "output_type": "stream",
       "stream": "stderr",
       "text": [
        "[2015-04-05 15:54:02,193] Stars: 3.5\n"
       ]
      },
      {
       "output_type": "stream",
       "stream": "stderr",
       "text": [
        "[2015-04-05 15:54:02,193] Stars: 3.5\n"
       ]
      },
      {
       "output_type": "stream",
       "stream": "stderr",
       "text": [
        "[2015-04-05 15:54:02,193] Stars: 3.5\n"
       ]
      },
      {
       "output_type": "stream",
       "stream": "stderr",
       "text": [
        "[2015-04-05 15:54:02,193] Stars: 3.5\n"
       ]
      },
      {
       "output_type": "stream",
       "stream": "stderr",
       "text": [
        "[2015-04-05 15:54:02,193] Stars: 3.5\n"
       ]
      },
      {
       "output_type": "stream",
       "stream": "stderr",
       "text": [
        "[2015-04-05 15:54:02,193] Stars: 3.5\n"
       ]
      },
      {
       "output_type": "stream",
       "stream": "stderr",
       "text": [
        "[2015-04-05 15:54:02,193] Stars: 3.5\n"
       ]
      },
      {
       "output_type": "stream",
       "stream": "stderr",
       "text": [
        "[2015-04-05 15:54:02,193] Stars: 3.5\n"
       ]
      },
      {
       "output_type": "stream",
       "stream": "stderr",
       "text": [
        "INFO:scrape_solution:Stars: 3.5\n"
       ]
      },
      {
       "output_type": "stream",
       "stream": "stderr",
       "text": [
        "[2015-04-05 15:54:02,200] Number of reviews: 287 reviews \n"
       ]
      },
      {
       "output_type": "stream",
       "stream": "stderr",
       "text": [
        "[2015-04-05 15:54:02,200] Number of reviews: 287 reviews \n"
       ]
      },
      {
       "output_type": "stream",
       "stream": "stderr",
       "text": [
        "[2015-04-05 15:54:02,200] Number of reviews: 287 reviews \n"
       ]
      },
      {
       "output_type": "stream",
       "stream": "stderr",
       "text": [
        "[2015-04-05 15:54:02,200] Number of reviews: 287 reviews \n"
       ]
      },
      {
       "output_type": "stream",
       "stream": "stderr",
       "text": [
        "[2015-04-05 15:54:02,200] Number of reviews: 287 reviews \n"
       ]
      },
      {
       "output_type": "stream",
       "stream": "stderr",
       "text": [
        "[2015-04-05 15:54:02,200] Number of reviews: 287 reviews \n"
       ]
      },
      {
       "output_type": "stream",
       "stream": "stderr",
       "text": [
        "[2015-04-05 15:54:02,200] Number of reviews: 287 reviews \n"
       ]
      },
      {
       "output_type": "stream",
       "stream": "stderr",
       "text": [
        "[2015-04-05 15:54:02,200] Number of reviews: 287 reviews \n"
       ]
      },
      {
       "output_type": "stream",
       "stream": "stderr",
       "text": [
        "[2015-04-05 15:54:02,200] Number of reviews: 287 reviews \n"
       ]
      },
      {
       "output_type": "stream",
       "stream": "stderr",
       "text": [
        "[2015-04-05 15:54:02,200] Number of reviews: 287 reviews \n"
       ]
      },
      {
       "output_type": "stream",
       "stream": "stderr",
       "text": [
        "[2015-04-05 15:54:02,200] Number of reviews: 287 reviews \n"
       ]
      },
      {
       "output_type": "stream",
       "stream": "stderr",
       "text": [
        "[2015-04-05 15:54:02,200] Number of reviews: 287 reviews \n"
       ]
      },
      {
       "output_type": "stream",
       "stream": "stderr",
       "text": [
        "[2015-04-05 15:54:02,200] Number of reviews: 287 reviews \n"
       ]
      },
      {
       "output_type": "stream",
       "stream": "stderr",
       "text": [
        "[2015-04-05 15:54:02,200] Number of reviews: 287 reviews \n"
       ]
      },
      {
       "output_type": "stream",
       "stream": "stderr",
       "text": [
        "INFO:scrape_solution:Number of reviews: 287 reviews \n"
       ]
      },
      {
       "output_type": "stream",
       "stream": "stderr",
       "text": [
        "[2015-04-05 15:54:02,207] Hotel name: The Boston Common Hotel and Conference Center\n"
       ]
      },
      {
       "output_type": "stream",
       "stream": "stderr",
       "text": [
        "[2015-04-05 15:54:02,207] Hotel name: The Boston Common Hotel and Conference Center\n"
       ]
      },
      {
       "output_type": "stream",
       "stream": "stderr",
       "text": [
        "[2015-04-05 15:54:02,207] Hotel name: The Boston Common Hotel and Conference Center\n"
       ]
      },
      {
       "output_type": "stream",
       "stream": "stderr",
       "text": [
        "[2015-04-05 15:54:02,207] Hotel name: The Boston Common Hotel and Conference Center\n"
       ]
      },
      {
       "output_type": "stream",
       "stream": "stderr",
       "text": [
        "[2015-04-05 15:54:02,207] Hotel name: The Boston Common Hotel and Conference Center\n"
       ]
      },
      {
       "output_type": "stream",
       "stream": "stderr",
       "text": [
        "[2015-04-05 15:54:02,207] Hotel name: The Boston Common Hotel and Conference Center\n"
       ]
      },
      {
       "output_type": "stream",
       "stream": "stderr",
       "text": [
        "[2015-04-05 15:54:02,207] Hotel name: The Boston Common Hotel and Conference Center\n"
       ]
      },
      {
       "output_type": "stream",
       "stream": "stderr",
       "text": [
        "[2015-04-05 15:54:02,207] Hotel name: The Boston Common Hotel and Conference Center\n"
       ]
      },
      {
       "output_type": "stream",
       "stream": "stderr",
       "text": [
        "[2015-04-05 15:54:02,207] Hotel name: The Boston Common Hotel and Conference Center\n"
       ]
      },
      {
       "output_type": "stream",
       "stream": "stderr",
       "text": [
        "[2015-04-05 15:54:02,207] Hotel name: The Boston Common Hotel and Conference Center\n"
       ]
      },
      {
       "output_type": "stream",
       "stream": "stderr",
       "text": [
        "[2015-04-05 15:54:02,207] Hotel name: The Boston Common Hotel and Conference Center\n"
       ]
      },
      {
       "output_type": "stream",
       "stream": "stderr",
       "text": [
        "[2015-04-05 15:54:02,207] Hotel name: The Boston Common Hotel and Conference Center\n"
       ]
      },
      {
       "output_type": "stream",
       "stream": "stderr",
       "text": [
        "[2015-04-05 15:54:02,207] Hotel name: The Boston Common Hotel and Conference Center\n"
       ]
      },
      {
       "output_type": "stream",
       "stream": "stderr",
       "text": [
        "[2015-04-05 15:54:02,207] Hotel name: The Boston Common Hotel and Conference Center\n"
       ]
      },
      {
       "output_type": "stream",
       "stream": "stderr",
       "text": [
        "INFO:scrape_solution:Hotel name: The Boston Common Hotel and Conference Center\n"
       ]
      },
      {
       "output_type": "stream",
       "stream": "stderr",
       "text": [
        "[2015-04-05 15:54:02,214] Stars: 3.5\n"
       ]
      },
      {
       "output_type": "stream",
       "stream": "stderr",
       "text": [
        "[2015-04-05 15:54:02,214] Stars: 3.5\n"
       ]
      },
      {
       "output_type": "stream",
       "stream": "stderr",
       "text": [
        "[2015-04-05 15:54:02,214] Stars: 3.5\n"
       ]
      },
      {
       "output_type": "stream",
       "stream": "stderr",
       "text": [
        "[2015-04-05 15:54:02,214] Stars: 3.5\n"
       ]
      },
      {
       "output_type": "stream",
       "stream": "stderr",
       "text": [
        "[2015-04-05 15:54:02,214] Stars: 3.5\n"
       ]
      },
      {
       "output_type": "stream",
       "stream": "stderr",
       "text": [
        "[2015-04-05 15:54:02,214] Stars: 3.5\n"
       ]
      },
      {
       "output_type": "stream",
       "stream": "stderr",
       "text": [
        "[2015-04-05 15:54:02,214] Stars: 3.5\n"
       ]
      },
      {
       "output_type": "stream",
       "stream": "stderr",
       "text": [
        "[2015-04-05 15:54:02,214] Stars: 3.5\n"
       ]
      },
      {
       "output_type": "stream",
       "stream": "stderr",
       "text": [
        "[2015-04-05 15:54:02,214] Stars: 3.5\n"
       ]
      },
      {
       "output_type": "stream",
       "stream": "stderr",
       "text": [
        "[2015-04-05 15:54:02,214] Stars: 3.5\n"
       ]
      },
      {
       "output_type": "stream",
       "stream": "stderr",
       "text": [
        "[2015-04-05 15:54:02,214] Stars: 3.5\n"
       ]
      },
      {
       "output_type": "stream",
       "stream": "stderr",
       "text": [
        "[2015-04-05 15:54:02,214] Stars: 3.5\n"
       ]
      },
      {
       "output_type": "stream",
       "stream": "stderr",
       "text": [
        "[2015-04-05 15:54:02,214] Stars: 3.5\n"
       ]
      },
      {
       "output_type": "stream",
       "stream": "stderr",
       "text": [
        "[2015-04-05 15:54:02,214] Stars: 3.5\n"
       ]
      },
      {
       "output_type": "stream",
       "stream": "stderr",
       "text": [
        "INFO:scrape_solution:Stars: 3.5\n"
       ]
      },
      {
       "output_type": "stream",
       "stream": "stderr",
       "text": [
        "[2015-04-05 15:54:02,220] Number of reviews: 442 reviews \n"
       ]
      },
      {
       "output_type": "stream",
       "stream": "stderr",
       "text": [
        "[2015-04-05 15:54:02,220] Number of reviews: 442 reviews \n"
       ]
      },
      {
       "output_type": "stream",
       "stream": "stderr",
       "text": [
        "[2015-04-05 15:54:02,220] Number of reviews: 442 reviews \n"
       ]
      },
      {
       "output_type": "stream",
       "stream": "stderr",
       "text": [
        "[2015-04-05 15:54:02,220] Number of reviews: 442 reviews \n"
       ]
      },
      {
       "output_type": "stream",
       "stream": "stderr",
       "text": [
        "[2015-04-05 15:54:02,220] Number of reviews: 442 reviews \n"
       ]
      },
      {
       "output_type": "stream",
       "stream": "stderr",
       "text": [
        "[2015-04-05 15:54:02,220] Number of reviews: 442 reviews \n"
       ]
      },
      {
       "output_type": "stream",
       "stream": "stderr",
       "text": [
        "[2015-04-05 15:54:02,220] Number of reviews: 442 reviews \n"
       ]
      },
      {
       "output_type": "stream",
       "stream": "stderr",
       "text": [
        "[2015-04-05 15:54:02,220] Number of reviews: 442 reviews \n"
       ]
      },
      {
       "output_type": "stream",
       "stream": "stderr",
       "text": [
        "[2015-04-05 15:54:02,220] Number of reviews: 442 reviews \n"
       ]
      },
      {
       "output_type": "stream",
       "stream": "stderr",
       "text": [
        "[2015-04-05 15:54:02,220] Number of reviews: 442 reviews \n"
       ]
      },
      {
       "output_type": "stream",
       "stream": "stderr",
       "text": [
        "[2015-04-05 15:54:02,220] Number of reviews: 442 reviews \n"
       ]
      },
      {
       "output_type": "stream",
       "stream": "stderr",
       "text": [
        "[2015-04-05 15:54:02,220] Number of reviews: 442 reviews \n"
       ]
      },
      {
       "output_type": "stream",
       "stream": "stderr",
       "text": [
        "[2015-04-05 15:54:02,220] Number of reviews: 442 reviews \n"
       ]
      },
      {
       "output_type": "stream",
       "stream": "stderr",
       "text": [
        "[2015-04-05 15:54:02,220] Number of reviews: 442 reviews \n"
       ]
      },
      {
       "output_type": "stream",
       "stream": "stderr",
       "text": [
        "INFO:scrape_solution:Number of reviews: 442 reviews \n"
       ]
      },
      {
       "output_type": "stream",
       "stream": "stderr",
       "text": [
        "[2015-04-05 15:54:02,226] Hotel name: Boston Park Plaza\n"
       ]
      },
      {
       "output_type": "stream",
       "stream": "stderr",
       "text": [
        "[2015-04-05 15:54:02,226] Hotel name: Boston Park Plaza\n"
       ]
      },
      {
       "output_type": "stream",
       "stream": "stderr",
       "text": [
        "[2015-04-05 15:54:02,226] Hotel name: Boston Park Plaza\n"
       ]
      },
      {
       "output_type": "stream",
       "stream": "stderr",
       "text": [
        "[2015-04-05 15:54:02,226] Hotel name: Boston Park Plaza\n"
       ]
      },
      {
       "output_type": "stream",
       "stream": "stderr",
       "text": [
        "[2015-04-05 15:54:02,226] Hotel name: Boston Park Plaza\n"
       ]
      },
      {
       "output_type": "stream",
       "stream": "stderr",
       "text": [
        "[2015-04-05 15:54:02,226] Hotel name: Boston Park Plaza\n"
       ]
      },
      {
       "output_type": "stream",
       "stream": "stderr",
       "text": [
        "[2015-04-05 15:54:02,226] Hotel name: Boston Park Plaza\n"
       ]
      },
      {
       "output_type": "stream",
       "stream": "stderr",
       "text": [
        "[2015-04-05 15:54:02,226] Hotel name: Boston Park Plaza\n"
       ]
      },
      {
       "output_type": "stream",
       "stream": "stderr",
       "text": [
        "[2015-04-05 15:54:02,226] Hotel name: Boston Park Plaza\n"
       ]
      },
      {
       "output_type": "stream",
       "stream": "stderr",
       "text": [
        "[2015-04-05 15:54:02,226] Hotel name: Boston Park Plaza\n"
       ]
      },
      {
       "output_type": "stream",
       "stream": "stderr",
       "text": [
        "[2015-04-05 15:54:02,226] Hotel name: Boston Park Plaza\n"
       ]
      },
      {
       "output_type": "stream",
       "stream": "stderr",
       "text": [
        "[2015-04-05 15:54:02,226] Hotel name: Boston Park Plaza\n"
       ]
      },
      {
       "output_type": "stream",
       "stream": "stderr",
       "text": [
        "[2015-04-05 15:54:02,226] Hotel name: Boston Park Plaza\n"
       ]
      },
      {
       "output_type": "stream",
       "stream": "stderr",
       "text": [
        "[2015-04-05 15:54:02,226] Hotel name: Boston Park Plaza\n"
       ]
      },
      {
       "output_type": "stream",
       "stream": "stderr",
       "text": [
        "INFO:scrape_solution:Hotel name: Boston Park Plaza\n"
       ]
      },
      {
       "output_type": "stream",
       "stream": "stderr",
       "text": [
        "[2015-04-05 15:54:02,234] Stars: 3.5\n"
       ]
      },
      {
       "output_type": "stream",
       "stream": "stderr",
       "text": [
        "[2015-04-05 15:54:02,234] Stars: 3.5\n"
       ]
      },
      {
       "output_type": "stream",
       "stream": "stderr",
       "text": [
        "[2015-04-05 15:54:02,234] Stars: 3.5\n"
       ]
      },
      {
       "output_type": "stream",
       "stream": "stderr",
       "text": [
        "[2015-04-05 15:54:02,234] Stars: 3.5\n"
       ]
      },
      {
       "output_type": "stream",
       "stream": "stderr",
       "text": [
        "[2015-04-05 15:54:02,234] Stars: 3.5\n"
       ]
      },
      {
       "output_type": "stream",
       "stream": "stderr",
       "text": [
        "[2015-04-05 15:54:02,234] Stars: 3.5\n"
       ]
      },
      {
       "output_type": "stream",
       "stream": "stderr",
       "text": [
        "[2015-04-05 15:54:02,234] Stars: 3.5\n"
       ]
      },
      {
       "output_type": "stream",
       "stream": "stderr",
       "text": [
        "[2015-04-05 15:54:02,234] Stars: 3.5\n"
       ]
      },
      {
       "output_type": "stream",
       "stream": "stderr",
       "text": [
        "[2015-04-05 15:54:02,234] Stars: 3.5\n"
       ]
      },
      {
       "output_type": "stream",
       "stream": "stderr",
       "text": [
        "[2015-04-05 15:54:02,234] Stars: 3.5\n"
       ]
      },
      {
       "output_type": "stream",
       "stream": "stderr",
       "text": [
        "[2015-04-05 15:54:02,234] Stars: 3.5\n"
       ]
      },
      {
       "output_type": "stream",
       "stream": "stderr",
       "text": [
        "[2015-04-05 15:54:02,234] Stars: 3.5\n"
       ]
      },
      {
       "output_type": "stream",
       "stream": "stderr",
       "text": [
        "[2015-04-05 15:54:02,234] Stars: 3.5\n"
       ]
      },
      {
       "output_type": "stream",
       "stream": "stderr",
       "text": [
        "[2015-04-05 15:54:02,234] Stars: 3.5\n"
       ]
      },
      {
       "output_type": "stream",
       "stream": "stderr",
       "text": [
        "INFO:scrape_solution:Stars: 3.5\n"
       ]
      },
      {
       "output_type": "stream",
       "stream": "stderr",
       "text": [
        "[2015-04-05 15:54:02,242] Number of reviews: 4,233 reviews \n"
       ]
      },
      {
       "output_type": "stream",
       "stream": "stderr",
       "text": [
        "[2015-04-05 15:54:02,242] Number of reviews: 4,233 reviews \n"
       ]
      },
      {
       "output_type": "stream",
       "stream": "stderr",
       "text": [
        "[2015-04-05 15:54:02,242] Number of reviews: 4,233 reviews \n"
       ]
      },
      {
       "output_type": "stream",
       "stream": "stderr",
       "text": [
        "[2015-04-05 15:54:02,242] Number of reviews: 4,233 reviews \n"
       ]
      },
      {
       "output_type": "stream",
       "stream": "stderr",
       "text": [
        "[2015-04-05 15:54:02,242] Number of reviews: 4,233 reviews \n"
       ]
      },
      {
       "output_type": "stream",
       "stream": "stderr",
       "text": [
        "[2015-04-05 15:54:02,242] Number of reviews: 4,233 reviews \n"
       ]
      },
      {
       "output_type": "stream",
       "stream": "stderr",
       "text": [
        "[2015-04-05 15:54:02,242] Number of reviews: 4,233 reviews \n"
       ]
      },
      {
       "output_type": "stream",
       "stream": "stderr",
       "text": [
        "[2015-04-05 15:54:02,242] Number of reviews: 4,233 reviews \n"
       ]
      },
      {
       "output_type": "stream",
       "stream": "stderr",
       "text": [
        "[2015-04-05 15:54:02,242] Number of reviews: 4,233 reviews \n"
       ]
      },
      {
       "output_type": "stream",
       "stream": "stderr",
       "text": [
        "[2015-04-05 15:54:02,242] Number of reviews: 4,233 reviews \n"
       ]
      },
      {
       "output_type": "stream",
       "stream": "stderr",
       "text": [
        "[2015-04-05 15:54:02,242] Number of reviews: 4,233 reviews \n"
       ]
      },
      {
       "output_type": "stream",
       "stream": "stderr",
       "text": [
        "[2015-04-05 15:54:02,242] Number of reviews: 4,233 reviews \n"
       ]
      },
      {
       "output_type": "stream",
       "stream": "stderr",
       "text": [
        "[2015-04-05 15:54:02,242] Number of reviews: 4,233 reviews \n"
       ]
      },
      {
       "output_type": "stream",
       "stream": "stderr",
       "text": [
        "[2015-04-05 15:54:02,242] Number of reviews: 4,233 reviews \n"
       ]
      },
      {
       "output_type": "stream",
       "stream": "stderr",
       "text": [
        "INFO:scrape_solution:Number of reviews: 4,233 reviews \n"
       ]
      },
      {
       "output_type": "stream",
       "stream": "stderr",
       "text": [
        "[2015-04-05 15:54:02,251] Hotel name: Courtyard Boston Downtown\n"
       ]
      },
      {
       "output_type": "stream",
       "stream": "stderr",
       "text": [
        "[2015-04-05 15:54:02,251] Hotel name: Courtyard Boston Downtown\n"
       ]
      },
      {
       "output_type": "stream",
       "stream": "stderr",
       "text": [
        "[2015-04-05 15:54:02,251] Hotel name: Courtyard Boston Downtown\n"
       ]
      },
      {
       "output_type": "stream",
       "stream": "stderr",
       "text": [
        "[2015-04-05 15:54:02,251] Hotel name: Courtyard Boston Downtown\n"
       ]
      },
      {
       "output_type": "stream",
       "stream": "stderr",
       "text": [
        "[2015-04-05 15:54:02,251] Hotel name: Courtyard Boston Downtown\n"
       ]
      },
      {
       "output_type": "stream",
       "stream": "stderr",
       "text": [
        "[2015-04-05 15:54:02,251] Hotel name: Courtyard Boston Downtown\n"
       ]
      },
      {
       "output_type": "stream",
       "stream": "stderr",
       "text": [
        "[2015-04-05 15:54:02,251] Hotel name: Courtyard Boston Downtown\n"
       ]
      },
      {
       "output_type": "stream",
       "stream": "stderr",
       "text": [
        "[2015-04-05 15:54:02,251] Hotel name: Courtyard Boston Downtown\n"
       ]
      },
      {
       "output_type": "stream",
       "stream": "stderr",
       "text": [
        "[2015-04-05 15:54:02,251] Hotel name: Courtyard Boston Downtown\n"
       ]
      },
      {
       "output_type": "stream",
       "stream": "stderr",
       "text": [
        "[2015-04-05 15:54:02,251] Hotel name: Courtyard Boston Downtown\n"
       ]
      },
      {
       "output_type": "stream",
       "stream": "stderr",
       "text": [
        "[2015-04-05 15:54:02,251] Hotel name: Courtyard Boston Downtown\n"
       ]
      },
      {
       "output_type": "stream",
       "stream": "stderr",
       "text": [
        "[2015-04-05 15:54:02,251] Hotel name: Courtyard Boston Downtown\n"
       ]
      },
      {
       "output_type": "stream",
       "stream": "stderr",
       "text": [
        "[2015-04-05 15:54:02,251] Hotel name: Courtyard Boston Downtown\n"
       ]
      },
      {
       "output_type": "stream",
       "stream": "stderr",
       "text": [
        "[2015-04-05 15:54:02,251] Hotel name: Courtyard Boston Downtown\n"
       ]
      },
      {
       "output_type": "stream",
       "stream": "stderr",
       "text": [
        "INFO:scrape_solution:Hotel name: Courtyard Boston Downtown\n"
       ]
      },
      {
       "output_type": "stream",
       "stream": "stderr",
       "text": [
        "[2015-04-05 15:54:02,261] Stars: 3\n"
       ]
      },
      {
       "output_type": "stream",
       "stream": "stderr",
       "text": [
        "[2015-04-05 15:54:02,261] Stars: 3\n"
       ]
      },
      {
       "output_type": "stream",
       "stream": "stderr",
       "text": [
        "[2015-04-05 15:54:02,261] Stars: 3\n"
       ]
      },
      {
       "output_type": "stream",
       "stream": "stderr",
       "text": [
        "[2015-04-05 15:54:02,261] Stars: 3\n"
       ]
      },
      {
       "output_type": "stream",
       "stream": "stderr",
       "text": [
        "[2015-04-05 15:54:02,261] Stars: 3\n"
       ]
      },
      {
       "output_type": "stream",
       "stream": "stderr",
       "text": [
        "[2015-04-05 15:54:02,261] Stars: 3\n"
       ]
      },
      {
       "output_type": "stream",
       "stream": "stderr",
       "text": [
        "[2015-04-05 15:54:02,261] Stars: 3\n"
       ]
      },
      {
       "output_type": "stream",
       "stream": "stderr",
       "text": [
        "[2015-04-05 15:54:02,261] Stars: 3\n"
       ]
      },
      {
       "output_type": "stream",
       "stream": "stderr",
       "text": [
        "[2015-04-05 15:54:02,261] Stars: 3\n"
       ]
      },
      {
       "output_type": "stream",
       "stream": "stderr",
       "text": [
        "[2015-04-05 15:54:02,261] Stars: 3\n"
       ]
      },
      {
       "output_type": "stream",
       "stream": "stderr",
       "text": [
        "[2015-04-05 15:54:02,261] Stars: 3\n"
       ]
      },
      {
       "output_type": "stream",
       "stream": "stderr",
       "text": [
        "[2015-04-05 15:54:02,261] Stars: 3\n"
       ]
      },
      {
       "output_type": "stream",
       "stream": "stderr",
       "text": [
        "[2015-04-05 15:54:02,261] Stars: 3\n"
       ]
      },
      {
       "output_type": "stream",
       "stream": "stderr",
       "text": [
        "[2015-04-05 15:54:02,261] Stars: 3\n"
       ]
      },
      {
       "output_type": "stream",
       "stream": "stderr",
       "text": [
        "INFO:scrape_solution:Stars: 3\n"
       ]
      },
      {
       "output_type": "stream",
       "stream": "stderr",
       "text": [
        "[2015-04-05 15:54:02,269] Number of reviews: 805 reviews \n"
       ]
      },
      {
       "output_type": "stream",
       "stream": "stderr",
       "text": [
        "[2015-04-05 15:54:02,269] Number of reviews: 805 reviews \n"
       ]
      },
      {
       "output_type": "stream",
       "stream": "stderr",
       "text": [
        "[2015-04-05 15:54:02,269] Number of reviews: 805 reviews \n"
       ]
      },
      {
       "output_type": "stream",
       "stream": "stderr",
       "text": [
        "[2015-04-05 15:54:02,269] Number of reviews: 805 reviews \n"
       ]
      },
      {
       "output_type": "stream",
       "stream": "stderr",
       "text": [
        "[2015-04-05 15:54:02,269] Number of reviews: 805 reviews \n"
       ]
      },
      {
       "output_type": "stream",
       "stream": "stderr",
       "text": [
        "[2015-04-05 15:54:02,269] Number of reviews: 805 reviews \n"
       ]
      },
      {
       "output_type": "stream",
       "stream": "stderr",
       "text": [
        "[2015-04-05 15:54:02,269] Number of reviews: 805 reviews \n"
       ]
      },
      {
       "output_type": "stream",
       "stream": "stderr",
       "text": [
        "[2015-04-05 15:54:02,269] Number of reviews: 805 reviews \n"
       ]
      },
      {
       "output_type": "stream",
       "stream": "stderr",
       "text": [
        "[2015-04-05 15:54:02,269] Number of reviews: 805 reviews \n"
       ]
      },
      {
       "output_type": "stream",
       "stream": "stderr",
       "text": [
        "[2015-04-05 15:54:02,269] Number of reviews: 805 reviews \n"
       ]
      },
      {
       "output_type": "stream",
       "stream": "stderr",
       "text": [
        "[2015-04-05 15:54:02,269] Number of reviews: 805 reviews \n"
       ]
      },
      {
       "output_type": "stream",
       "stream": "stderr",
       "text": [
        "[2015-04-05 15:54:02,269] Number of reviews: 805 reviews \n"
       ]
      },
      {
       "output_type": "stream",
       "stream": "stderr",
       "text": [
        "[2015-04-05 15:54:02,269] Number of reviews: 805 reviews \n"
       ]
      },
      {
       "output_type": "stream",
       "stream": "stderr",
       "text": [
        "[2015-04-05 15:54:02,269] Number of reviews: 805 reviews \n"
       ]
      },
      {
       "output_type": "stream",
       "stream": "stderr",
       "text": [
        "INFO:scrape_solution:Number of reviews: 805 reviews \n"
       ]
      },
      {
       "output_type": "stream",
       "stream": "stderr",
       "text": [
        "[2015-04-05 15:54:02,275] Hotel name: Ramada Boston\n"
       ]
      },
      {
       "output_type": "stream",
       "stream": "stderr",
       "text": [
        "[2015-04-05 15:54:02,275] Hotel name: Ramada Boston\n"
       ]
      },
      {
       "output_type": "stream",
       "stream": "stderr",
       "text": [
        "[2015-04-05 15:54:02,275] Hotel name: Ramada Boston\n"
       ]
      },
      {
       "output_type": "stream",
       "stream": "stderr",
       "text": [
        "[2015-04-05 15:54:02,275] Hotel name: Ramada Boston\n"
       ]
      },
      {
       "output_type": "stream",
       "stream": "stderr",
       "text": [
        "[2015-04-05 15:54:02,275] Hotel name: Ramada Boston\n"
       ]
      },
      {
       "output_type": "stream",
       "stream": "stderr",
       "text": [
        "[2015-04-05 15:54:02,275] Hotel name: Ramada Boston\n"
       ]
      },
      {
       "output_type": "stream",
       "stream": "stderr",
       "text": [
        "[2015-04-05 15:54:02,275] Hotel name: Ramada Boston\n"
       ]
      },
      {
       "output_type": "stream",
       "stream": "stderr",
       "text": [
        "[2015-04-05 15:54:02,275] Hotel name: Ramada Boston\n"
       ]
      },
      {
       "output_type": "stream",
       "stream": "stderr",
       "text": [
        "[2015-04-05 15:54:02,275] Hotel name: Ramada Boston\n"
       ]
      },
      {
       "output_type": "stream",
       "stream": "stderr",
       "text": [
        "[2015-04-05 15:54:02,275] Hotel name: Ramada Boston\n"
       ]
      },
      {
       "output_type": "stream",
       "stream": "stderr",
       "text": [
        "[2015-04-05 15:54:02,275] Hotel name: Ramada Boston\n"
       ]
      },
      {
       "output_type": "stream",
       "stream": "stderr",
       "text": [
        "[2015-04-05 15:54:02,275] Hotel name: Ramada Boston\n"
       ]
      },
      {
       "output_type": "stream",
       "stream": "stderr",
       "text": [
        "[2015-04-05 15:54:02,275] Hotel name: Ramada Boston\n"
       ]
      },
      {
       "output_type": "stream",
       "stream": "stderr",
       "text": [
        "[2015-04-05 15:54:02,275] Hotel name: Ramada Boston\n"
       ]
      },
      {
       "output_type": "stream",
       "stream": "stderr",
       "text": [
        "INFO:scrape_solution:Hotel name: Ramada Boston\n"
       ]
      },
      {
       "output_type": "stream",
       "stream": "stderr",
       "text": [
        "[2015-04-05 15:54:02,282] Stars: 3\n"
       ]
      },
      {
       "output_type": "stream",
       "stream": "stderr",
       "text": [
        "[2015-04-05 15:54:02,282] Stars: 3\n"
       ]
      },
      {
       "output_type": "stream",
       "stream": "stderr",
       "text": [
        "[2015-04-05 15:54:02,282] Stars: 3\n"
       ]
      },
      {
       "output_type": "stream",
       "stream": "stderr",
       "text": [
        "[2015-04-05 15:54:02,282] Stars: 3\n"
       ]
      },
      {
       "output_type": "stream",
       "stream": "stderr",
       "text": [
        "[2015-04-05 15:54:02,282] Stars: 3\n"
       ]
      },
      {
       "output_type": "stream",
       "stream": "stderr",
       "text": [
        "[2015-04-05 15:54:02,282] Stars: 3\n"
       ]
      },
      {
       "output_type": "stream",
       "stream": "stderr",
       "text": [
        "[2015-04-05 15:54:02,282] Stars: 3\n"
       ]
      },
      {
       "output_type": "stream",
       "stream": "stderr",
       "text": [
        "[2015-04-05 15:54:02,282] Stars: 3\n"
       ]
      },
      {
       "output_type": "stream",
       "stream": "stderr",
       "text": [
        "[2015-04-05 15:54:02,282] Stars: 3\n"
       ]
      },
      {
       "output_type": "stream",
       "stream": "stderr",
       "text": [
        "[2015-04-05 15:54:02,282] Stars: 3\n"
       ]
      },
      {
       "output_type": "stream",
       "stream": "stderr",
       "text": [
        "[2015-04-05 15:54:02,282] Stars: 3\n"
       ]
      },
      {
       "output_type": "stream",
       "stream": "stderr",
       "text": [
        "[2015-04-05 15:54:02,282] Stars: 3\n"
       ]
      },
      {
       "output_type": "stream",
       "stream": "stderr",
       "text": [
        "[2015-04-05 15:54:02,282] Stars: 3\n"
       ]
      },
      {
       "output_type": "stream",
       "stream": "stderr",
       "text": [
        "[2015-04-05 15:54:02,282] Stars: 3\n"
       ]
      },
      {
       "output_type": "stream",
       "stream": "stderr",
       "text": [
        "INFO:scrape_solution:Stars: 3\n"
       ]
      },
      {
       "output_type": "stream",
       "stream": "stderr",
       "text": [
        "[2015-04-05 15:54:02,290] Number of reviews: 920 reviews \n"
       ]
      },
      {
       "output_type": "stream",
       "stream": "stderr",
       "text": [
        "[2015-04-05 15:54:02,290] Number of reviews: 920 reviews \n"
       ]
      },
      {
       "output_type": "stream",
       "stream": "stderr",
       "text": [
        "[2015-04-05 15:54:02,290] Number of reviews: 920 reviews \n"
       ]
      },
      {
       "output_type": "stream",
       "stream": "stderr",
       "text": [
        "[2015-04-05 15:54:02,290] Number of reviews: 920 reviews \n"
       ]
      },
      {
       "output_type": "stream",
       "stream": "stderr",
       "text": [
        "[2015-04-05 15:54:02,290] Number of reviews: 920 reviews \n"
       ]
      },
      {
       "output_type": "stream",
       "stream": "stderr",
       "text": [
        "[2015-04-05 15:54:02,290] Number of reviews: 920 reviews \n"
       ]
      },
      {
       "output_type": "stream",
       "stream": "stderr",
       "text": [
        "[2015-04-05 15:54:02,290] Number of reviews: 920 reviews \n"
       ]
      },
      {
       "output_type": "stream",
       "stream": "stderr",
       "text": [
        "[2015-04-05 15:54:02,290] Number of reviews: 920 reviews \n"
       ]
      },
      {
       "output_type": "stream",
       "stream": "stderr",
       "text": [
        "[2015-04-05 15:54:02,290] Number of reviews: 920 reviews \n"
       ]
      },
      {
       "output_type": "stream",
       "stream": "stderr",
       "text": [
        "[2015-04-05 15:54:02,290] Number of reviews: 920 reviews \n"
       ]
      },
      {
       "output_type": "stream",
       "stream": "stderr",
       "text": [
        "[2015-04-05 15:54:02,290] Number of reviews: 920 reviews \n"
       ]
      },
      {
       "output_type": "stream",
       "stream": "stderr",
       "text": [
        "[2015-04-05 15:54:02,290] Number of reviews: 920 reviews \n"
       ]
      },
      {
       "output_type": "stream",
       "stream": "stderr",
       "text": [
        "[2015-04-05 15:54:02,290] Number of reviews: 920 reviews \n"
       ]
      },
      {
       "output_type": "stream",
       "stream": "stderr",
       "text": [
        "[2015-04-05 15:54:02,290] Number of reviews: 920 reviews \n"
       ]
      },
      {
       "output_type": "stream",
       "stream": "stderr",
       "text": [
        "INFO:scrape_solution:Number of reviews: 920 reviews \n"
       ]
      },
      {
       "output_type": "stream",
       "stream": "stderr",
       "text": [
        "[2015-04-05 15:54:02,297] Hotel name: Milner Hotel\n"
       ]
      },
      {
       "output_type": "stream",
       "stream": "stderr",
       "text": [
        "[2015-04-05 15:54:02,297] Hotel name: Milner Hotel\n"
       ]
      },
      {
       "output_type": "stream",
       "stream": "stderr",
       "text": [
        "[2015-04-05 15:54:02,297] Hotel name: Milner Hotel\n"
       ]
      },
      {
       "output_type": "stream",
       "stream": "stderr",
       "text": [
        "[2015-04-05 15:54:02,297] Hotel name: Milner Hotel\n"
       ]
      },
      {
       "output_type": "stream",
       "stream": "stderr",
       "text": [
        "[2015-04-05 15:54:02,297] Hotel name: Milner Hotel\n"
       ]
      },
      {
       "output_type": "stream",
       "stream": "stderr",
       "text": [
        "[2015-04-05 15:54:02,297] Hotel name: Milner Hotel\n"
       ]
      },
      {
       "output_type": "stream",
       "stream": "stderr",
       "text": [
        "[2015-04-05 15:54:02,297] Hotel name: Milner Hotel\n"
       ]
      },
      {
       "output_type": "stream",
       "stream": "stderr",
       "text": [
        "[2015-04-05 15:54:02,297] Hotel name: Milner Hotel\n"
       ]
      },
      {
       "output_type": "stream",
       "stream": "stderr",
       "text": [
        "[2015-04-05 15:54:02,297] Hotel name: Milner Hotel\n"
       ]
      },
      {
       "output_type": "stream",
       "stream": "stderr",
       "text": [
        "[2015-04-05 15:54:02,297] Hotel name: Milner Hotel\n"
       ]
      },
      {
       "output_type": "stream",
       "stream": "stderr",
       "text": [
        "[2015-04-05 15:54:02,297] Hotel name: Milner Hotel\n"
       ]
      },
      {
       "output_type": "stream",
       "stream": "stderr",
       "text": [
        "[2015-04-05 15:54:02,297] Hotel name: Milner Hotel\n"
       ]
      },
      {
       "output_type": "stream",
       "stream": "stderr",
       "text": [
        "[2015-04-05 15:54:02,297] Hotel name: Milner Hotel\n"
       ]
      },
      {
       "output_type": "stream",
       "stream": "stderr",
       "text": [
        "[2015-04-05 15:54:02,297] Hotel name: Milner Hotel\n"
       ]
      },
      {
       "output_type": "stream",
       "stream": "stderr",
       "text": [
        "INFO:scrape_solution:Hotel name: Milner Hotel\n"
       ]
      },
      {
       "output_type": "stream",
       "stream": "stderr",
       "text": [
        "[2015-04-05 15:54:02,303] Stars: 3\n"
       ]
      },
      {
       "output_type": "stream",
       "stream": "stderr",
       "text": [
        "[2015-04-05 15:54:02,303] Stars: 3\n"
       ]
      },
      {
       "output_type": "stream",
       "stream": "stderr",
       "text": [
        "[2015-04-05 15:54:02,303] Stars: 3\n"
       ]
      },
      {
       "output_type": "stream",
       "stream": "stderr",
       "text": [
        "[2015-04-05 15:54:02,303] Stars: 3\n"
       ]
      },
      {
       "output_type": "stream",
       "stream": "stderr",
       "text": [
        "[2015-04-05 15:54:02,303] Stars: 3\n"
       ]
      },
      {
       "output_type": "stream",
       "stream": "stderr",
       "text": [
        "[2015-04-05 15:54:02,303] Stars: 3\n"
       ]
      },
      {
       "output_type": "stream",
       "stream": "stderr",
       "text": [
        "[2015-04-05 15:54:02,303] Stars: 3\n"
       ]
      },
      {
       "output_type": "stream",
       "stream": "stderr",
       "text": [
        "[2015-04-05 15:54:02,303] Stars: 3\n"
       ]
      },
      {
       "output_type": "stream",
       "stream": "stderr",
       "text": [
        "[2015-04-05 15:54:02,303] Stars: 3\n"
       ]
      },
      {
       "output_type": "stream",
       "stream": "stderr",
       "text": [
        "[2015-04-05 15:54:02,303] Stars: 3\n"
       ]
      },
      {
       "output_type": "stream",
       "stream": "stderr",
       "text": [
        "[2015-04-05 15:54:02,303] Stars: 3\n"
       ]
      },
      {
       "output_type": "stream",
       "stream": "stderr",
       "text": [
        "[2015-04-05 15:54:02,303] Stars: 3\n"
       ]
      },
      {
       "output_type": "stream",
       "stream": "stderr",
       "text": [
        "[2015-04-05 15:54:02,303] Stars: 3\n"
       ]
      },
      {
       "output_type": "stream",
       "stream": "stderr",
       "text": [
        "[2015-04-05 15:54:02,303] Stars: 3\n"
       ]
      },
      {
       "output_type": "stream",
       "stream": "stderr",
       "text": [
        "INFO:scrape_solution:Stars: 3\n"
       ]
      },
      {
       "output_type": "stream",
       "stream": "stderr",
       "text": [
        "[2015-04-05 15:54:02,308] Number of reviews: 368 reviews \n"
       ]
      },
      {
       "output_type": "stream",
       "stream": "stderr",
       "text": [
        "[2015-04-05 15:54:02,308] Number of reviews: 368 reviews \n"
       ]
      },
      {
       "output_type": "stream",
       "stream": "stderr",
       "text": [
        "[2015-04-05 15:54:02,308] Number of reviews: 368 reviews \n"
       ]
      },
      {
       "output_type": "stream",
       "stream": "stderr",
       "text": [
        "[2015-04-05 15:54:02,308] Number of reviews: 368 reviews \n"
       ]
      },
      {
       "output_type": "stream",
       "stream": "stderr",
       "text": [
        "[2015-04-05 15:54:02,308] Number of reviews: 368 reviews \n"
       ]
      },
      {
       "output_type": "stream",
       "stream": "stderr",
       "text": [
        "[2015-04-05 15:54:02,308] Number of reviews: 368 reviews \n"
       ]
      },
      {
       "output_type": "stream",
       "stream": "stderr",
       "text": [
        "[2015-04-05 15:54:02,308] Number of reviews: 368 reviews \n"
       ]
      },
      {
       "output_type": "stream",
       "stream": "stderr",
       "text": [
        "[2015-04-05 15:54:02,308] Number of reviews: 368 reviews \n"
       ]
      },
      {
       "output_type": "stream",
       "stream": "stderr",
       "text": [
        "[2015-04-05 15:54:02,308] Number of reviews: 368 reviews \n"
       ]
      },
      {
       "output_type": "stream",
       "stream": "stderr",
       "text": [
        "[2015-04-05 15:54:02,308] Number of reviews: 368 reviews \n"
       ]
      },
      {
       "output_type": "stream",
       "stream": "stderr",
       "text": [
        "[2015-04-05 15:54:02,308] Number of reviews: 368 reviews \n"
       ]
      },
      {
       "output_type": "stream",
       "stream": "stderr",
       "text": [
        "[2015-04-05 15:54:02,308] Number of reviews: 368 reviews \n"
       ]
      },
      {
       "output_type": "stream",
       "stream": "stderr",
       "text": [
        "[2015-04-05 15:54:02,308] Number of reviews: 368 reviews \n"
       ]
      },
      {
       "output_type": "stream",
       "stream": "stderr",
       "text": [
        "[2015-04-05 15:54:02,308] Number of reviews: 368 reviews \n"
       ]
      },
      {
       "output_type": "stream",
       "stream": "stderr",
       "text": [
        "INFO:scrape_solution:Number of reviews: 368 reviews \n"
       ]
      },
      {
       "output_type": "stream",
       "stream": "stderr",
       "text": [
        "[2015-04-05 15:54:02,316] Hotel name: Constitution Inn\n"
       ]
      },
      {
       "output_type": "stream",
       "stream": "stderr",
       "text": [
        "[2015-04-05 15:54:02,316] Hotel name: Constitution Inn\n"
       ]
      },
      {
       "output_type": "stream",
       "stream": "stderr",
       "text": [
        "[2015-04-05 15:54:02,316] Hotel name: Constitution Inn\n"
       ]
      },
      {
       "output_type": "stream",
       "stream": "stderr",
       "text": [
        "[2015-04-05 15:54:02,316] Hotel name: Constitution Inn\n"
       ]
      },
      {
       "output_type": "stream",
       "stream": "stderr",
       "text": [
        "[2015-04-05 15:54:02,316] Hotel name: Constitution Inn\n"
       ]
      },
      {
       "output_type": "stream",
       "stream": "stderr",
       "text": [
        "[2015-04-05 15:54:02,316] Hotel name: Constitution Inn\n"
       ]
      },
      {
       "output_type": "stream",
       "stream": "stderr",
       "text": [
        "[2015-04-05 15:54:02,316] Hotel name: Constitution Inn\n"
       ]
      },
      {
       "output_type": "stream",
       "stream": "stderr",
       "text": [
        "[2015-04-05 15:54:02,316] Hotel name: Constitution Inn\n"
       ]
      },
      {
       "output_type": "stream",
       "stream": "stderr",
       "text": [
        "[2015-04-05 15:54:02,316] Hotel name: Constitution Inn\n"
       ]
      },
      {
       "output_type": "stream",
       "stream": "stderr",
       "text": [
        "[2015-04-05 15:54:02,316] Hotel name: Constitution Inn\n"
       ]
      },
      {
       "output_type": "stream",
       "stream": "stderr",
       "text": [
        "[2015-04-05 15:54:02,316] Hotel name: Constitution Inn\n"
       ]
      },
      {
       "output_type": "stream",
       "stream": "stderr",
       "text": [
        "[2015-04-05 15:54:02,316] Hotel name: Constitution Inn\n"
       ]
      },
      {
       "output_type": "stream",
       "stream": "stderr",
       "text": [
        "[2015-04-05 15:54:02,316] Hotel name: Constitution Inn\n"
       ]
      },
      {
       "output_type": "stream",
       "stream": "stderr",
       "text": [
        "[2015-04-05 15:54:02,316] Hotel name: Constitution Inn\n"
       ]
      },
      {
       "output_type": "stream",
       "stream": "stderr",
       "text": [
        "INFO:scrape_solution:Hotel name: Constitution Inn\n"
       ]
      },
      {
       "output_type": "stream",
       "stream": "stderr",
       "text": [
        "[2015-04-05 15:54:02,442] Stars: 3\n"
       ]
      },
      {
       "output_type": "stream",
       "stream": "stderr",
       "text": [
        "[2015-04-05 15:54:02,442] Stars: 3\n"
       ]
      },
      {
       "output_type": "stream",
       "stream": "stderr",
       "text": [
        "[2015-04-05 15:54:02,442] Stars: 3\n"
       ]
      },
      {
       "output_type": "stream",
       "stream": "stderr",
       "text": [
        "[2015-04-05 15:54:02,442] Stars: 3\n"
       ]
      },
      {
       "output_type": "stream",
       "stream": "stderr",
       "text": [
        "[2015-04-05 15:54:02,442] Stars: 3\n"
       ]
      },
      {
       "output_type": "stream",
       "stream": "stderr",
       "text": [
        "[2015-04-05 15:54:02,442] Stars: 3\n"
       ]
      },
      {
       "output_type": "stream",
       "stream": "stderr",
       "text": [
        "[2015-04-05 15:54:02,442] Stars: 3\n"
       ]
      },
      {
       "output_type": "stream",
       "stream": "stderr",
       "text": [
        "[2015-04-05 15:54:02,442] Stars: 3\n"
       ]
      },
      {
       "output_type": "stream",
       "stream": "stderr",
       "text": [
        "[2015-04-05 15:54:02,442] Stars: 3\n"
       ]
      },
      {
       "output_type": "stream",
       "stream": "stderr",
       "text": [
        "[2015-04-05 15:54:02,442] Stars: 3\n"
       ]
      },
      {
       "output_type": "stream",
       "stream": "stderr",
       "text": [
        "[2015-04-05 15:54:02,442] Stars: 3\n"
       ]
      },
      {
       "output_type": "stream",
       "stream": "stderr",
       "text": [
        "[2015-04-05 15:54:02,442] Stars: 3\n"
       ]
      },
      {
       "output_type": "stream",
       "stream": "stderr",
       "text": [
        "[2015-04-05 15:54:02,442] Stars: 3\n"
       ]
      },
      {
       "output_type": "stream",
       "stream": "stderr",
       "text": [
        "[2015-04-05 15:54:02,442] Stars: 3\n"
       ]
      },
      {
       "output_type": "stream",
       "stream": "stderr",
       "text": [
        "INFO:scrape_solution:Stars: 3\n"
       ]
      },
      {
       "output_type": "stream",
       "stream": "stderr",
       "text": [
        "[2015-04-05 15:54:02,454] Number of reviews: 411 reviews \n"
       ]
      },
      {
       "output_type": "stream",
       "stream": "stderr",
       "text": [
        "[2015-04-05 15:54:02,454] Number of reviews: 411 reviews \n"
       ]
      },
      {
       "output_type": "stream",
       "stream": "stderr",
       "text": [
        "[2015-04-05 15:54:02,454] Number of reviews: 411 reviews \n"
       ]
      },
      {
       "output_type": "stream",
       "stream": "stderr",
       "text": [
        "[2015-04-05 15:54:02,454] Number of reviews: 411 reviews \n"
       ]
      },
      {
       "output_type": "stream",
       "stream": "stderr",
       "text": [
        "[2015-04-05 15:54:02,454] Number of reviews: 411 reviews \n"
       ]
      },
      {
       "output_type": "stream",
       "stream": "stderr",
       "text": [
        "[2015-04-05 15:54:02,454] Number of reviews: 411 reviews \n"
       ]
      },
      {
       "output_type": "stream",
       "stream": "stderr",
       "text": [
        "[2015-04-05 15:54:02,454] Number of reviews: 411 reviews \n"
       ]
      },
      {
       "output_type": "stream",
       "stream": "stderr",
       "text": [
        "[2015-04-05 15:54:02,454] Number of reviews: 411 reviews \n"
       ]
      },
      {
       "output_type": "stream",
       "stream": "stderr",
       "text": [
        "[2015-04-05 15:54:02,454] Number of reviews: 411 reviews \n"
       ]
      },
      {
       "output_type": "stream",
       "stream": "stderr",
       "text": [
        "[2015-04-05 15:54:02,454] Number of reviews: 411 reviews \n"
       ]
      },
      {
       "output_type": "stream",
       "stream": "stderr",
       "text": [
        "[2015-04-05 15:54:02,454] Number of reviews: 411 reviews \n"
       ]
      },
      {
       "output_type": "stream",
       "stream": "stderr",
       "text": [
        "[2015-04-05 15:54:02,454] Number of reviews: 411 reviews \n"
       ]
      },
      {
       "output_type": "stream",
       "stream": "stderr",
       "text": [
        "[2015-04-05 15:54:02,454] Number of reviews: 411 reviews \n"
       ]
      },
      {
       "output_type": "stream",
       "stream": "stderr",
       "text": [
        "[2015-04-05 15:54:02,454] Number of reviews: 411 reviews \n"
       ]
      },
      {
       "output_type": "stream",
       "stream": "stderr",
       "text": [
        "INFO:scrape_solution:Number of reviews: 411 reviews \n"
       ]
      },
      {
       "output_type": "stream",
       "stream": "stderr",
       "text": [
        "[2015-04-05 15:54:02,475] Hotel name: Days Hotel Boston\n"
       ]
      },
      {
       "output_type": "stream",
       "stream": "stderr",
       "text": [
        "[2015-04-05 15:54:02,475] Hotel name: Days Hotel Boston\n"
       ]
      },
      {
       "output_type": "stream",
       "stream": "stderr",
       "text": [
        "[2015-04-05 15:54:02,475] Hotel name: Days Hotel Boston\n"
       ]
      },
      {
       "output_type": "stream",
       "stream": "stderr",
       "text": [
        "[2015-04-05 15:54:02,475] Hotel name: Days Hotel Boston\n"
       ]
      },
      {
       "output_type": "stream",
       "stream": "stderr",
       "text": [
        "[2015-04-05 15:54:02,475] Hotel name: Days Hotel Boston\n"
       ]
      },
      {
       "output_type": "stream",
       "stream": "stderr",
       "text": [
        "[2015-04-05 15:54:02,475] Hotel name: Days Hotel Boston\n"
       ]
      },
      {
       "output_type": "stream",
       "stream": "stderr",
       "text": [
        "[2015-04-05 15:54:02,475] Hotel name: Days Hotel Boston\n"
       ]
      },
      {
       "output_type": "stream",
       "stream": "stderr",
       "text": [
        "[2015-04-05 15:54:02,475] Hotel name: Days Hotel Boston\n"
       ]
      },
      {
       "output_type": "stream",
       "stream": "stderr",
       "text": [
        "[2015-04-05 15:54:02,475] Hotel name: Days Hotel Boston\n"
       ]
      },
      {
       "output_type": "stream",
       "stream": "stderr",
       "text": [
        "[2015-04-05 15:54:02,475] Hotel name: Days Hotel Boston\n"
       ]
      },
      {
       "output_type": "stream",
       "stream": "stderr",
       "text": [
        "[2015-04-05 15:54:02,475] Hotel name: Days Hotel Boston\n"
       ]
      },
      {
       "output_type": "stream",
       "stream": "stderr",
       "text": [
        "[2015-04-05 15:54:02,475] Hotel name: Days Hotel Boston\n"
       ]
      },
      {
       "output_type": "stream",
       "stream": "stderr",
       "text": [
        "[2015-04-05 15:54:02,475] Hotel name: Days Hotel Boston\n"
       ]
      },
      {
       "output_type": "stream",
       "stream": "stderr",
       "text": [
        "[2015-04-05 15:54:02,475] Hotel name: Days Hotel Boston\n"
       ]
      },
      {
       "output_type": "stream",
       "stream": "stderr",
       "text": [
        "INFO:scrape_solution:Hotel name: Days Hotel Boston\n"
       ]
      },
      {
       "output_type": "stream",
       "stream": "stderr",
       "text": [
        "[2015-04-05 15:54:02,488] Stars: 3\n"
       ]
      },
      {
       "output_type": "stream",
       "stream": "stderr",
       "text": [
        "[2015-04-05 15:54:02,488] Stars: 3\n"
       ]
      },
      {
       "output_type": "stream",
       "stream": "stderr",
       "text": [
        "[2015-04-05 15:54:02,488] Stars: 3\n"
       ]
      },
      {
       "output_type": "stream",
       "stream": "stderr",
       "text": [
        "[2015-04-05 15:54:02,488] Stars: 3\n"
       ]
      },
      {
       "output_type": "stream",
       "stream": "stderr",
       "text": [
        "[2015-04-05 15:54:02,488] Stars: 3\n"
       ]
      },
      {
       "output_type": "stream",
       "stream": "stderr",
       "text": [
        "[2015-04-05 15:54:02,488] Stars: 3\n"
       ]
      },
      {
       "output_type": "stream",
       "stream": "stderr",
       "text": [
        "[2015-04-05 15:54:02,488] Stars: 3\n"
       ]
      },
      {
       "output_type": "stream",
       "stream": "stderr",
       "text": [
        "[2015-04-05 15:54:02,488] Stars: 3\n"
       ]
      },
      {
       "output_type": "stream",
       "stream": "stderr",
       "text": [
        "[2015-04-05 15:54:02,488] Stars: 3\n"
       ]
      },
      {
       "output_type": "stream",
       "stream": "stderr",
       "text": [
        "[2015-04-05 15:54:02,488] Stars: 3\n"
       ]
      },
      {
       "output_type": "stream",
       "stream": "stderr",
       "text": [
        "[2015-04-05 15:54:02,488] Stars: 3\n"
       ]
      },
      {
       "output_type": "stream",
       "stream": "stderr",
       "text": [
        "[2015-04-05 15:54:02,488] Stars: 3\n"
       ]
      },
      {
       "output_type": "stream",
       "stream": "stderr",
       "text": [
        "[2015-04-05 15:54:02,488] Stars: 3\n"
       ]
      },
      {
       "output_type": "stream",
       "stream": "stderr",
       "text": [
        "[2015-04-05 15:54:02,488] Stars: 3\n"
       ]
      },
      {
       "output_type": "stream",
       "stream": "stderr",
       "text": [
        "INFO:scrape_solution:Stars: 3\n"
       ]
      },
      {
       "output_type": "stream",
       "stream": "stderr",
       "text": [
        "[2015-04-05 15:54:02,499] Number of reviews: 190 reviews \n"
       ]
      },
      {
       "output_type": "stream",
       "stream": "stderr",
       "text": [
        "[2015-04-05 15:54:02,499] Number of reviews: 190 reviews \n"
       ]
      },
      {
       "output_type": "stream",
       "stream": "stderr",
       "text": [
        "[2015-04-05 15:54:02,499] Number of reviews: 190 reviews \n"
       ]
      },
      {
       "output_type": "stream",
       "stream": "stderr",
       "text": [
        "[2015-04-05 15:54:02,499] Number of reviews: 190 reviews \n"
       ]
      },
      {
       "output_type": "stream",
       "stream": "stderr",
       "text": [
        "[2015-04-05 15:54:02,499] Number of reviews: 190 reviews \n"
       ]
      },
      {
       "output_type": "stream",
       "stream": "stderr",
       "text": [
        "[2015-04-05 15:54:02,499] Number of reviews: 190 reviews \n"
       ]
      },
      {
       "output_type": "stream",
       "stream": "stderr",
       "text": [
        "[2015-04-05 15:54:02,499] Number of reviews: 190 reviews \n"
       ]
      },
      {
       "output_type": "stream",
       "stream": "stderr",
       "text": [
        "[2015-04-05 15:54:02,499] Number of reviews: 190 reviews \n"
       ]
      },
      {
       "output_type": "stream",
       "stream": "stderr",
       "text": [
        "[2015-04-05 15:54:02,499] Number of reviews: 190 reviews \n"
       ]
      },
      {
       "output_type": "stream",
       "stream": "stderr",
       "text": [
        "[2015-04-05 15:54:02,499] Number of reviews: 190 reviews \n"
       ]
      },
      {
       "output_type": "stream",
       "stream": "stderr",
       "text": [
        "[2015-04-05 15:54:02,499] Number of reviews: 190 reviews \n"
       ]
      },
      {
       "output_type": "stream",
       "stream": "stderr",
       "text": [
        "[2015-04-05 15:54:02,499] Number of reviews: 190 reviews \n"
       ]
      },
      {
       "output_type": "stream",
       "stream": "stderr",
       "text": [
        "[2015-04-05 15:54:02,499] Number of reviews: 190 reviews \n"
       ]
      },
      {
       "output_type": "stream",
       "stream": "stderr",
       "text": [
        "[2015-04-05 15:54:02,499] Number of reviews: 190 reviews \n"
       ]
      },
      {
       "output_type": "stream",
       "stream": "stderr",
       "text": [
        "INFO:scrape_solution:Number of reviews: 190 reviews \n"
       ]
      },
      {
       "output_type": "stream",
       "stream": "stderr",
       "text": [
        "[2015-04-05 15:54:02,506] Hotel name: Americas Best Value Inn\n"
       ]
      },
      {
       "output_type": "stream",
       "stream": "stderr",
       "text": [
        "[2015-04-05 15:54:02,506] Hotel name: Americas Best Value Inn\n"
       ]
      },
      {
       "output_type": "stream",
       "stream": "stderr",
       "text": [
        "[2015-04-05 15:54:02,506] Hotel name: Americas Best Value Inn\n"
       ]
      },
      {
       "output_type": "stream",
       "stream": "stderr",
       "text": [
        "[2015-04-05 15:54:02,506] Hotel name: Americas Best Value Inn\n"
       ]
      },
      {
       "output_type": "stream",
       "stream": "stderr",
       "text": [
        "[2015-04-05 15:54:02,506] Hotel name: Americas Best Value Inn\n"
       ]
      },
      {
       "output_type": "stream",
       "stream": "stderr",
       "text": [
        "[2015-04-05 15:54:02,506] Hotel name: Americas Best Value Inn\n"
       ]
      },
      {
       "output_type": "stream",
       "stream": "stderr",
       "text": [
        "[2015-04-05 15:54:02,506] Hotel name: Americas Best Value Inn\n"
       ]
      },
      {
       "output_type": "stream",
       "stream": "stderr",
       "text": [
        "[2015-04-05 15:54:02,506] Hotel name: Americas Best Value Inn\n"
       ]
      },
      {
       "output_type": "stream",
       "stream": "stderr",
       "text": [
        "[2015-04-05 15:54:02,506] Hotel name: Americas Best Value Inn\n"
       ]
      },
      {
       "output_type": "stream",
       "stream": "stderr",
       "text": [
        "[2015-04-05 15:54:02,506] Hotel name: Americas Best Value Inn\n"
       ]
      },
      {
       "output_type": "stream",
       "stream": "stderr",
       "text": [
        "[2015-04-05 15:54:02,506] Hotel name: Americas Best Value Inn\n"
       ]
      },
      {
       "output_type": "stream",
       "stream": "stderr",
       "text": [
        "[2015-04-05 15:54:02,506] Hotel name: Americas Best Value Inn\n"
       ]
      },
      {
       "output_type": "stream",
       "stream": "stderr",
       "text": [
        "[2015-04-05 15:54:02,506] Hotel name: Americas Best Value Inn\n"
       ]
      },
      {
       "output_type": "stream",
       "stream": "stderr",
       "text": [
        "[2015-04-05 15:54:02,506] Hotel name: Americas Best Value Inn\n"
       ]
      },
      {
       "output_type": "stream",
       "stream": "stderr",
       "text": [
        "INFO:scrape_solution:Hotel name: Americas Best Value Inn\n"
       ]
      },
      {
       "output_type": "stream",
       "stream": "stderr",
       "text": [
        "[2015-04-05 15:54:02,511] Stars: 2.5\n"
       ]
      },
      {
       "output_type": "stream",
       "stream": "stderr",
       "text": [
        "[2015-04-05 15:54:02,511] Stars: 2.5\n"
       ]
      },
      {
       "output_type": "stream",
       "stream": "stderr",
       "text": [
        "[2015-04-05 15:54:02,511] Stars: 2.5\n"
       ]
      },
      {
       "output_type": "stream",
       "stream": "stderr",
       "text": [
        "[2015-04-05 15:54:02,511] Stars: 2.5\n"
       ]
      },
      {
       "output_type": "stream",
       "stream": "stderr",
       "text": [
        "[2015-04-05 15:54:02,511] Stars: 2.5\n"
       ]
      },
      {
       "output_type": "stream",
       "stream": "stderr",
       "text": [
        "[2015-04-05 15:54:02,511] Stars: 2.5\n"
       ]
      },
      {
       "output_type": "stream",
       "stream": "stderr",
       "text": [
        "[2015-04-05 15:54:02,511] Stars: 2.5\n"
       ]
      },
      {
       "output_type": "stream",
       "stream": "stderr",
       "text": [
        "[2015-04-05 15:54:02,511] Stars: 2.5\n"
       ]
      },
      {
       "output_type": "stream",
       "stream": "stderr",
       "text": [
        "[2015-04-05 15:54:02,511] Stars: 2.5\n"
       ]
      },
      {
       "output_type": "stream",
       "stream": "stderr",
       "text": [
        "[2015-04-05 15:54:02,511] Stars: 2.5\n"
       ]
      },
      {
       "output_type": "stream",
       "stream": "stderr",
       "text": [
        "[2015-04-05 15:54:02,511] Stars: 2.5\n"
       ]
      },
      {
       "output_type": "stream",
       "stream": "stderr",
       "text": [
        "[2015-04-05 15:54:02,511] Stars: 2.5\n"
       ]
      },
      {
       "output_type": "stream",
       "stream": "stderr",
       "text": [
        "[2015-04-05 15:54:02,511] Stars: 2.5\n"
       ]
      },
      {
       "output_type": "stream",
       "stream": "stderr",
       "text": [
        "[2015-04-05 15:54:02,511] Stars: 2.5\n"
       ]
      },
      {
       "output_type": "stream",
       "stream": "stderr",
       "text": [
        "INFO:scrape_solution:Stars: 2.5\n"
       ]
      },
      {
       "output_type": "stream",
       "stream": "stderr",
       "text": [
        "[2015-04-05 15:54:02,520] Number of reviews: 18 reviews \n"
       ]
      },
      {
       "output_type": "stream",
       "stream": "stderr",
       "text": [
        "[2015-04-05 15:54:02,520] Number of reviews: 18 reviews \n"
       ]
      },
      {
       "output_type": "stream",
       "stream": "stderr",
       "text": [
        "[2015-04-05 15:54:02,520] Number of reviews: 18 reviews \n"
       ]
      },
      {
       "output_type": "stream",
       "stream": "stderr",
       "text": [
        "[2015-04-05 15:54:02,520] Number of reviews: 18 reviews \n"
       ]
      },
      {
       "output_type": "stream",
       "stream": "stderr",
       "text": [
        "[2015-04-05 15:54:02,520] Number of reviews: 18 reviews \n"
       ]
      },
      {
       "output_type": "stream",
       "stream": "stderr",
       "text": [
        "[2015-04-05 15:54:02,520] Number of reviews: 18 reviews \n"
       ]
      },
      {
       "output_type": "stream",
       "stream": "stderr",
       "text": [
        "[2015-04-05 15:54:02,520] Number of reviews: 18 reviews \n"
       ]
      },
      {
       "output_type": "stream",
       "stream": "stderr",
       "text": [
        "[2015-04-05 15:54:02,520] Number of reviews: 18 reviews \n"
       ]
      },
      {
       "output_type": "stream",
       "stream": "stderr",
       "text": [
        "[2015-04-05 15:54:02,520] Number of reviews: 18 reviews \n"
       ]
      },
      {
       "output_type": "stream",
       "stream": "stderr",
       "text": [
        "[2015-04-05 15:54:02,520] Number of reviews: 18 reviews \n"
       ]
      },
      {
       "output_type": "stream",
       "stream": "stderr",
       "text": [
        "[2015-04-05 15:54:02,520] Number of reviews: 18 reviews \n"
       ]
      },
      {
       "output_type": "stream",
       "stream": "stderr",
       "text": [
        "[2015-04-05 15:54:02,520] Number of reviews: 18 reviews \n"
       ]
      },
      {
       "output_type": "stream",
       "stream": "stderr",
       "text": [
        "[2015-04-05 15:54:02,520] Number of reviews: 18 reviews \n"
       ]
      },
      {
       "output_type": "stream",
       "stream": "stderr",
       "text": [
        "[2015-04-05 15:54:02,520] Number of reviews: 18 reviews \n"
       ]
      },
      {
       "output_type": "stream",
       "stream": "stderr",
       "text": [
        "INFO:scrape_solution:Number of reviews: 18 reviews \n"
       ]
      },
      {
       "output_type": "stream",
       "stream": "stdout",
       "text": [
        "\n",
        "We reached last page"
       ]
      },
      {
       "output_type": "stream",
       "stream": "stdout",
       "text": [
        "\n"
       ]
      }
     ],
     "prompt_number": 98
    },
    {
     "cell_type": "code",
     "collapsed": false,
     "input": [
      "# Given a page of hotels, go through and grab detailed info on each hotel.\n",
      "hotels = scrape.get_list_of_hotels()\n",
      "\n",
      "hotelDetails = []\n",
      "for hotel in hotels[:5]:\n",
      "    hotelDetails.append(scrape.get_hotel_info(hotel['url']))"
     ],
     "language": "python",
     "metadata": {},
     "outputs": [],
     "prompt_number": 192
    },
    {
     "cell_type": "code",
     "collapsed": false,
     "input": [
      "hotels = {}\n",
      "with open('data/hotel-info.json', 'r') as encoded:\n",
      "        hotels = json.loads(encoded.read())\n",
      "\n",
      "def averageRating(row):\n",
      "    excel = row['Excellent'] * 5\n",
      "    good = row['Very good'] * 4\n",
      "    avg = row['Average'] * 3\n",
      "    poor = row['Poor'] * 2\n",
      "    terrible = row['Terrible'] * 1\n",
      "    total = row['Excellent'] + row['Very good'] + row['Average'] + row['Poor'] + row['Terrible']\n",
      "    \n",
      "    return (excel + good + avg + poor + terrible) / float(total)\n",
      "\n",
      "# DataFrame containing ratings of each hotel\n",
      "ratings = []\n",
      "for hotel in hotels:\n",
      "    rating = hotel['ratings']\n",
      "    rating['avg'] = averageRating(rating)\n",
      "    \n",
      "    ratings.append(rating)\n",
      "\n",
      "ratings = pd.DataFrame(ratings)\n",
      "plt.scatter(ratings.index, ratings['avg'])"
     ],
     "language": "python",
     "metadata": {},
     "outputs": [
      {
       "metadata": {},
       "output_type": "pyout",
       "prompt_number": 236,
       "text": [
        "<matplotlib.collections.PathCollection at 0x116675150>"
       ]
      },
      {
       "metadata": {},
       "output_type": "display_data",
       "png": "[encoded data removed]",
       "text": [
        "<matplotlib.figure.Figure at 0x11809b7d0>"
       ]
      }
     ],
     "prompt_number": 236
    },
    {
     "cell_type": "code",
     "collapsed": false,
     "input": [
      "import collections\n",
      "def flatten(d, parent_key='', sep='_'):\n",
      "    items = []\n",
      "    for k, v in d.items():\n",
      "        new_key = parent_key + sep + k if parent_key else k\n",
      "        if isinstance(v, collections.MutableMapping):\n",
      "            items.extend(flatten(v, new_key, sep=sep).items())\n",
      "        else:\n",
      "            items.append((new_key, v))\n",
      "    return dict(items)\n",
      "\n",
      "# Flatten and namespace hotel attributes\n",
      "hotels_flat = []\n",
      "for hotel in hotels:\n",
      "    hotels_flat.append(flatten(hotel))\n",
      "    \n",
      "h = pd.DataFrame(hotels_flat)\n",
      "h"
     ],
     "language": "python",
     "metadata": {},
     "outputs": [
      {
       "html": [
        "<div style=\"max-height:1000px;max-width:1500px;overflow:auto;\">\n",
        "<table border=\"1\" class=\"dataframe\">\n",
        "  <thead>\n",
        "    <tr style=\"text-align: right;\">\n",
        "      <th></th>\n",
        "      <th>ratings_Average</th>\n",
        "      <th>ratings_Excellent</th>\n",
        "      <th>ratings_Poor</th>\n",
        "      <th>ratings_Terrible</th>\n",
        "      <th>ratings_Very good</th>\n",
        "      <th>ratings_avg</th>\n",
        "      <th>reviews</th>\n",
        "      <th>summary_Cleanliness</th>\n",
        "      <th>summary_Location</th>\n",
        "      <th>summary_Rooms</th>\n",
        "      <th>summary_Service</th>\n",
        "      <th>summary_Sleep Quality</th>\n",
        "      <th>summary_Value</th>\n",
        "      <th>tripType_Business</th>\n",
        "      <th>tripType_Couples</th>\n",
        "      <th>tripType_Families</th>\n",
        "      <th>tripType_Solo</th>\n",
        "    </tr>\n",
        "  </thead>\n",
        "  <tbody>\n",
        "    <tr>\n",
        "      <th>0 </th>\n",
        "      <td>   98</td>\n",
        "      <td> 1880</td>\n",
        "      <td>  33</td>\n",
        "      <td>  31</td>\n",
        "      <td>  506</td>\n",
        "      <td> 4.636970</td>\n",
        "      <td> 2548</td>\n",
        "      <td> 5.0</td>\n",
        "      <td> 4.5</td>\n",
        "      <td> 4.5</td>\n",
        "      <td> 4.5</td>\n",
        "      <td> 4.5</td>\n",
        "      <td> 4.5</td>\n",
        "      <td> 1111</td>\n",
        "      <td>  551</td>\n",
        "      <td> 461</td>\n",
        "      <td> 108</td>\n",
        "    </tr>\n",
        "    <tr>\n",
        "      <th>1 </th>\n",
        "      <td>  166</td>\n",
        "      <td>  479</td>\n",
        "      <td>  67</td>\n",
        "      <td>  34</td>\n",
        "      <td>  424</td>\n",
        "      <td> 4.065812</td>\n",
        "      <td> 1170</td>\n",
        "      <td> 4.5</td>\n",
        "      <td> 4.5</td>\n",
        "      <td> 4.0</td>\n",
        "      <td> 4.5</td>\n",
        "      <td> 4.0</td>\n",
        "      <td> 4.0</td>\n",
        "      <td>  329</td>\n",
        "      <td>  335</td>\n",
        "      <td> 239</td>\n",
        "      <td> 105</td>\n",
        "    </tr>\n",
        "    <tr>\n",
        "      <th>2 </th>\n",
        "      <td>   43</td>\n",
        "      <td>  628</td>\n",
        "      <td>   8</td>\n",
        "      <td>  11</td>\n",
        "      <td>  274</td>\n",
        "      <td> 4.556017</td>\n",
        "      <td>  964</td>\n",
        "      <td> 4.5</td>\n",
        "      <td> 5.0</td>\n",
        "      <td> 4.5</td>\n",
        "      <td> 4.5</td>\n",
        "      <td> 4.5</td>\n",
        "      <td> 4.5</td>\n",
        "      <td>  300</td>\n",
        "      <td>  222</td>\n",
        "      <td> 229</td>\n",
        "      <td>  70</td>\n",
        "    </tr>\n",
        "    <tr>\n",
        "      <th>3 </th>\n",
        "      <td>  105</td>\n",
        "      <td> 1179</td>\n",
        "      <td>  30</td>\n",
        "      <td>  19</td>\n",
        "      <td>  496</td>\n",
        "      <td> 4.523237</td>\n",
        "      <td> 1829</td>\n",
        "      <td> 4.5</td>\n",
        "      <td> 5.0</td>\n",
        "      <td> 4.5</td>\n",
        "      <td> 4.5</td>\n",
        "      <td> 4.5</td>\n",
        "      <td> 4.0</td>\n",
        "      <td>  324</td>\n",
        "      <td>  830</td>\n",
        "      <td> 328</td>\n",
        "      <td> 119</td>\n",
        "    </tr>\n",
        "    <tr>\n",
        "      <th>4 </th>\n",
        "      <td>  276</td>\n",
        "      <td> 1071</td>\n",
        "      <td>  93</td>\n",
        "      <td>  34</td>\n",
        "      <td>  832</td>\n",
        "      <td> 4.219861</td>\n",
        "      <td> 2306</td>\n",
        "      <td> 4.5</td>\n",
        "      <td> 5.0</td>\n",
        "      <td> 4.5</td>\n",
        "      <td> 4.5</td>\n",
        "      <td> 4.5</td>\n",
        "      <td> 4.0</td>\n",
        "      <td>  774</td>\n",
        "      <td>  495</td>\n",
        "      <td> 546</td>\n",
        "      <td> 103</td>\n",
        "    </tr>\n",
        "    <tr>\n",
        "      <th>5 </th>\n",
        "      <td>   44</td>\n",
        "      <td>  991</td>\n",
        "      <td>  15</td>\n",
        "      <td>  11</td>\n",
        "      <td>  189</td>\n",
        "      <td> 4.707200</td>\n",
        "      <td> 1250</td>\n",
        "      <td> 5.0</td>\n",
        "      <td> 5.0</td>\n",
        "      <td> 4.5</td>\n",
        "      <td> 5.0</td>\n",
        "      <td> 4.5</td>\n",
        "      <td> 4.5</td>\n",
        "      <td>  255</td>\n",
        "      <td>  462</td>\n",
        "      <td> 284</td>\n",
        "      <td>  55</td>\n",
        "    </tr>\n",
        "    <tr>\n",
        "      <th>6 </th>\n",
        "      <td>   81</td>\n",
        "      <td> 2370</td>\n",
        "      <td>  39</td>\n",
        "      <td>  13</td>\n",
        "      <td>  442</td>\n",
        "      <td> 4.737521</td>\n",
        "      <td> 2945</td>\n",
        "      <td> 5.0</td>\n",
        "      <td> 5.0</td>\n",
        "      <td> 5.0</td>\n",
        "      <td> 5.0</td>\n",
        "      <td> 5.0</td>\n",
        "      <td> 4.5</td>\n",
        "      <td>  585</td>\n",
        "      <td>  853</td>\n",
        "      <td> 914</td>\n",
        "      <td> 147</td>\n",
        "    </tr>\n",
        "    <tr>\n",
        "      <th>7 </th>\n",
        "      <td>  181</td>\n",
        "      <td> 1093</td>\n",
        "      <td>  39</td>\n",
        "      <td>  17</td>\n",
        "      <td>  619</td>\n",
        "      <td> 4.401744</td>\n",
        "      <td> 1949</td>\n",
        "      <td> 4.5</td>\n",
        "      <td> 4.5</td>\n",
        "      <td> 4.5</td>\n",
        "      <td> 4.5</td>\n",
        "      <td> 4.5</td>\n",
        "      <td> 4.0</td>\n",
        "      <td>  300</td>\n",
        "      <td>  624</td>\n",
        "      <td> 445</td>\n",
        "      <td>  78</td>\n",
        "    </tr>\n",
        "    <tr>\n",
        "      <th>8 </th>\n",
        "      <td>  107</td>\n",
        "      <td> 1884</td>\n",
        "      <td>  46</td>\n",
        "      <td>  20</td>\n",
        "      <td>  509</td>\n",
        "      <td> 4.633281</td>\n",
        "      <td> 2566</td>\n",
        "      <td> 5.0</td>\n",
        "      <td> 5.0</td>\n",
        "      <td> 4.5</td>\n",
        "      <td> 5.0</td>\n",
        "      <td> 4.5</td>\n",
        "      <td> 4.5</td>\n",
        "      <td>  383</td>\n",
        "      <td>  986</td>\n",
        "      <td> 632</td>\n",
        "      <td> 143</td>\n",
        "    </tr>\n",
        "    <tr>\n",
        "      <th>9 </th>\n",
        "      <td>   21</td>\n",
        "      <td>  246</td>\n",
        "      <td>   7</td>\n",
        "      <td>   1</td>\n",
        "      <td>   85</td>\n",
        "      <td> 4.577778</td>\n",
        "      <td>  360</td>\n",
        "      <td> 5.0</td>\n",
        "      <td> 4.0</td>\n",
        "      <td> 4.5</td>\n",
        "      <td> 4.5</td>\n",
        "      <td> 4.5</td>\n",
        "      <td> 4.5</td>\n",
        "      <td>   64</td>\n",
        "      <td>  102</td>\n",
        "      <td> 104</td>\n",
        "      <td>  29</td>\n",
        "    </tr>\n",
        "    <tr>\n",
        "      <th>10</th>\n",
        "      <td>   74</td>\n",
        "      <td>  197</td>\n",
        "      <td>  19</td>\n",
        "      <td>  19</td>\n",
        "      <td>  223</td>\n",
        "      <td> 4.052632</td>\n",
        "      <td>  532</td>\n",
        "      <td> 4.5</td>\n",
        "      <td> 4.5</td>\n",
        "      <td> 4.0</td>\n",
        "      <td> 4.0</td>\n",
        "      <td> 4.5</td>\n",
        "      <td> 4.0</td>\n",
        "      <td>  203</td>\n",
        "      <td>  127</td>\n",
        "      <td> 107</td>\n",
        "      <td>  17</td>\n",
        "    </tr>\n",
        "    <tr>\n",
        "      <th>11</th>\n",
        "      <td>  282</td>\n",
        "      <td>  575</td>\n",
        "      <td>  91</td>\n",
        "      <td>  27</td>\n",
        "      <td>  731</td>\n",
        "      <td> 4.017585</td>\n",
        "      <td> 1706</td>\n",
        "      <td> 4.5</td>\n",
        "      <td> 4.5</td>\n",
        "      <td> 4.0</td>\n",
        "      <td> 4.0</td>\n",
        "      <td> 4.0</td>\n",
        "      <td> 4.0</td>\n",
        "      <td>  471</td>\n",
        "      <td>  458</td>\n",
        "      <td> 412</td>\n",
        "      <td> 116</td>\n",
        "    </tr>\n",
        "    <tr>\n",
        "      <th>12</th>\n",
        "      <td>  112</td>\n",
        "      <td>  809</td>\n",
        "      <td>  41</td>\n",
        "      <td>  29</td>\n",
        "      <td>  419</td>\n",
        "      <td> 4.374468</td>\n",
        "      <td> 1410</td>\n",
        "      <td> 4.5</td>\n",
        "      <td> 4.5</td>\n",
        "      <td> 4.5</td>\n",
        "      <td> 4.5</td>\n",
        "      <td> 4.5</td>\n",
        "      <td> 4.0</td>\n",
        "      <td>  324</td>\n",
        "      <td>  559</td>\n",
        "      <td> 249</td>\n",
        "      <td>  51</td>\n",
        "    </tr>\n",
        "    <tr>\n",
        "      <th>13</th>\n",
        "      <td>  107</td>\n",
        "      <td>  418</td>\n",
        "      <td>  50</td>\n",
        "      <td>  28</td>\n",
        "      <td>  261</td>\n",
        "      <td> 4.146991</td>\n",
        "      <td>  864</td>\n",
        "      <td> 4.5</td>\n",
        "      <td> 4.5</td>\n",
        "      <td> 4.0</td>\n",
        "      <td> 4.5</td>\n",
        "      <td> 4.5</td>\n",
        "      <td> 3.5</td>\n",
        "      <td>  217</td>\n",
        "      <td>  312</td>\n",
        "      <td> 128</td>\n",
        "      <td>  67</td>\n",
        "    </tr>\n",
        "    <tr>\n",
        "      <th>14</th>\n",
        "      <td>  130</td>\n",
        "      <td> 1138</td>\n",
        "      <td>  56</td>\n",
        "      <td>  47</td>\n",
        "      <td>  526</td>\n",
        "      <td> 4.397997</td>\n",
        "      <td> 1897</td>\n",
        "      <td> 4.5</td>\n",
        "      <td> 4.5</td>\n",
        "      <td> 4.5</td>\n",
        "      <td> 4.5</td>\n",
        "      <td> 4.5</td>\n",
        "      <td> 4.0</td>\n",
        "      <td>  475</td>\n",
        "      <td>  665</td>\n",
        "      <td> 383</td>\n",
        "      <td> 127</td>\n",
        "    </tr>\n",
        "    <tr>\n",
        "      <th>15</th>\n",
        "      <td>   22</td>\n",
        "      <td>  351</td>\n",
        "      <td>   9</td>\n",
        "      <td>   3</td>\n",
        "      <td>  134</td>\n",
        "      <td> 4.581888</td>\n",
        "      <td>  519</td>\n",
        "      <td> 5.0</td>\n",
        "      <td> 4.5</td>\n",
        "      <td> 4.5</td>\n",
        "      <td> 4.5</td>\n",
        "      <td> 4.5</td>\n",
        "      <td> 4.5</td>\n",
        "      <td>   85</td>\n",
        "      <td>   86</td>\n",
        "      <td> 196</td>\n",
        "      <td>  16</td>\n",
        "    </tr>\n",
        "    <tr>\n",
        "      <th>16</th>\n",
        "      <td>   11</td>\n",
        "      <td>  381</td>\n",
        "      <td>  12</td>\n",
        "      <td>  12</td>\n",
        "      <td>  146</td>\n",
        "      <td> 4.551601</td>\n",
        "      <td>  562</td>\n",
        "      <td> 4.5</td>\n",
        "      <td> 5.0</td>\n",
        "      <td> 4.5</td>\n",
        "      <td> 4.5</td>\n",
        "      <td> 4.5</td>\n",
        "      <td> 4.0</td>\n",
        "      <td>   45</td>\n",
        "      <td>  179</td>\n",
        "      <td> 218</td>\n",
        "      <td>  15</td>\n",
        "    </tr>\n",
        "    <tr>\n",
        "      <th>17</th>\n",
        "      <td>   98</td>\n",
        "      <td>  388</td>\n",
        "      <td>  47</td>\n",
        "      <td>  41</td>\n",
        "      <td>  460</td>\n",
        "      <td> 4.070600</td>\n",
        "      <td> 1034</td>\n",
        "      <td> 4.5</td>\n",
        "      <td> 5.0</td>\n",
        "      <td> 4.0</td>\n",
        "      <td> 4.0</td>\n",
        "      <td> 4.0</td>\n",
        "      <td> 4.0</td>\n",
        "      <td>  113</td>\n",
        "      <td>  545</td>\n",
        "      <td>  87</td>\n",
        "      <td>  74</td>\n",
        "    </tr>\n",
        "    <tr>\n",
        "      <th>18</th>\n",
        "      <td>  337</td>\n",
        "      <td>  249</td>\n",
        "      <td> 124</td>\n",
        "      <td>  63</td>\n",
        "      <td>  607</td>\n",
        "      <td> 3.619565</td>\n",
        "      <td> 1380</td>\n",
        "      <td> 4.0</td>\n",
        "      <td> 4.5</td>\n",
        "      <td> 3.5</td>\n",
        "      <td> 4.0</td>\n",
        "      <td> 4.0</td>\n",
        "      <td> 4.0</td>\n",
        "      <td>  241</td>\n",
        "      <td>  325</td>\n",
        "      <td> 394</td>\n",
        "      <td> 105</td>\n",
        "    </tr>\n",
        "    <tr>\n",
        "      <th>19</th>\n",
        "      <td>   99</td>\n",
        "      <td>  133</td>\n",
        "      <td>  27</td>\n",
        "      <td>  23</td>\n",
        "      <td>  254</td>\n",
        "      <td> 3.833955</td>\n",
        "      <td>  536</td>\n",
        "      <td> 4.0</td>\n",
        "      <td> 3.5</td>\n",
        "      <td> 4.0</td>\n",
        "      <td> 4.0</td>\n",
        "      <td> 4.0</td>\n",
        "      <td> 4.0</td>\n",
        "      <td>   78</td>\n",
        "      <td>  194</td>\n",
        "      <td> 130</td>\n",
        "      <td>  38</td>\n",
        "    </tr>\n",
        "    <tr>\n",
        "      <th>20</th>\n",
        "      <td>  563</td>\n",
        "      <td> 2032</td>\n",
        "      <td> 244</td>\n",
        "      <td> 134</td>\n",
        "      <td> 1488</td>\n",
        "      <td> 4.129792</td>\n",
        "      <td> 4461</td>\n",
        "      <td> 4.5</td>\n",
        "      <td> 5.0</td>\n",
        "      <td> 4.0</td>\n",
        "      <td> 4.5</td>\n",
        "      <td> 4.0</td>\n",
        "      <td> 4.0</td>\n",
        "      <td> 1012</td>\n",
        "      <td> 1520</td>\n",
        "      <td> 919</td>\n",
        "      <td> 252</td>\n",
        "    </tr>\n",
        "    <tr>\n",
        "      <th>21</th>\n",
        "      <td> 1005</td>\n",
        "      <td>  739</td>\n",
        "      <td> 662</td>\n",
        "      <td> 512</td>\n",
        "      <td> 1315</td>\n",
        "      <td> 3.261517</td>\n",
        "      <td> 4233</td>\n",
        "      <td> 3.5</td>\n",
        "      <td> 4.5</td>\n",
        "      <td> 3.0</td>\n",
        "      <td> 3.5</td>\n",
        "      <td> 3.5</td>\n",
        "      <td> 3.5</td>\n",
        "      <td> 1185</td>\n",
        "      <td> 1241</td>\n",
        "      <td> 626</td>\n",
        "      <td> 292</td>\n",
        "    </tr>\n",
        "    <tr>\n",
        "      <th>22</th>\n",
        "      <td>   77</td>\n",
        "      <td>  395</td>\n",
        "      <td>  28</td>\n",
        "      <td>  32</td>\n",
        "      <td>  211</td>\n",
        "      <td> 4.223419</td>\n",
        "      <td>  743</td>\n",
        "      <td> 4.5</td>\n",
        "      <td> 4.5</td>\n",
        "      <td> 4.0</td>\n",
        "      <td> 4.5</td>\n",
        "      <td> 4.0</td>\n",
        "      <td> 3.5</td>\n",
        "      <td>  173</td>\n",
        "      <td>  264</td>\n",
        "      <td> 126</td>\n",
        "      <td>  28</td>\n",
        "    </tr>\n",
        "    <tr>\n",
        "      <th>23</th>\n",
        "      <td>    9</td>\n",
        "      <td>  176</td>\n",
        "      <td>   1</td>\n",
        "      <td>   2</td>\n",
        "      <td>   56</td>\n",
        "      <td> 4.651639</td>\n",
        "      <td>  244</td>\n",
        "      <td> 5.0</td>\n",
        "      <td> 4.5</td>\n",
        "      <td> 4.5</td>\n",
        "      <td> 4.5</td>\n",
        "      <td> 4.5</td>\n",
        "      <td> 4.5</td>\n",
        "      <td>   31</td>\n",
        "      <td>   77</td>\n",
        "      <td>  41</td>\n",
        "      <td>  18</td>\n",
        "    </tr>\n",
        "    <tr>\n",
        "      <th>24</th>\n",
        "      <td>  116</td>\n",
        "      <td>  438</td>\n",
        "      <td>  55</td>\n",
        "      <td>  33</td>\n",
        "      <td>  377</td>\n",
        "      <td> 4.110893</td>\n",
        "      <td> 1019</td>\n",
        "      <td> 4.5</td>\n",
        "      <td> 5.0</td>\n",
        "      <td> 4.0</td>\n",
        "      <td> 4.0</td>\n",
        "      <td> 4.0</td>\n",
        "      <td> 4.0</td>\n",
        "      <td>  156</td>\n",
        "      <td>  415</td>\n",
        "      <td> 188</td>\n",
        "      <td>  60</td>\n",
        "    </tr>\n",
        "    <tr>\n",
        "      <th>25</th>\n",
        "      <td>   58</td>\n",
        "      <td>  477</td>\n",
        "      <td>  15</td>\n",
        "      <td>   3</td>\n",
        "      <td>  216</td>\n",
        "      <td> 4.494148</td>\n",
        "      <td>  769</td>\n",
        "      <td> 4.5</td>\n",
        "      <td> 4.5</td>\n",
        "      <td> 4.5</td>\n",
        "      <td> 4.5</td>\n",
        "      <td> 4.5</td>\n",
        "      <td> 4.0</td>\n",
        "      <td>  151</td>\n",
        "      <td>  275</td>\n",
        "      <td> 174</td>\n",
        "      <td>  22</td>\n",
        "    </tr>\n",
        "    <tr>\n",
        "      <th>26</th>\n",
        "      <td>  157</td>\n",
        "      <td>  923</td>\n",
        "      <td>  68</td>\n",
        "      <td>  29</td>\n",
        "      <td>  434</td>\n",
        "      <td> 4.337058</td>\n",
        "      <td> 1611</td>\n",
        "      <td> 4.5</td>\n",
        "      <td> 5.0</td>\n",
        "      <td> 4.0</td>\n",
        "      <td> 4.5</td>\n",
        "      <td> 4.5</td>\n",
        "      <td> 4.0</td>\n",
        "      <td>  444</td>\n",
        "      <td>  557</td>\n",
        "      <td> 316</td>\n",
        "      <td>  71</td>\n",
        "    </tr>\n",
        "    <tr>\n",
        "      <th>27</th>\n",
        "      <td>  103</td>\n",
        "      <td>  539</td>\n",
        "      <td>  28</td>\n",
        "      <td>  15</td>\n",
        "      <td>  359</td>\n",
        "      <td> 4.320881</td>\n",
        "      <td> 1044</td>\n",
        "      <td> 4.5</td>\n",
        "      <td> 5.0</td>\n",
        "      <td> 4.0</td>\n",
        "      <td> 4.5</td>\n",
        "      <td> 4.5</td>\n",
        "      <td> 4.0</td>\n",
        "      <td>  223</td>\n",
        "      <td>  417</td>\n",
        "      <td> 188</td>\n",
        "      <td>  88</td>\n",
        "    </tr>\n",
        "    <tr>\n",
        "      <th>28</th>\n",
        "      <td>  217</td>\n",
        "      <td>  481</td>\n",
        "      <td>  65</td>\n",
        "      <td>  40</td>\n",
        "      <td>  517</td>\n",
        "      <td> 4.010606</td>\n",
        "      <td> 1320</td>\n",
        "      <td> 4.5</td>\n",
        "      <td> 4.0</td>\n",
        "      <td> 4.0</td>\n",
        "      <td> 4.0</td>\n",
        "      <td> 4.5</td>\n",
        "      <td> 4.0</td>\n",
        "      <td>  301</td>\n",
        "      <td>  307</td>\n",
        "      <td> 428</td>\n",
        "      <td>  77</td>\n",
        "    </tr>\n",
        "    <tr>\n",
        "      <th>29</th>\n",
        "      <td>  149</td>\n",
        "      <td>  508</td>\n",
        "      <td>  83</td>\n",
        "      <td>  32</td>\n",
        "      <td>  373</td>\n",
        "      <td> 4.084716</td>\n",
        "      <td> 1145</td>\n",
        "      <td> 4.5</td>\n",
        "      <td> 5.0</td>\n",
        "      <td> 4.0</td>\n",
        "      <td> 4.0</td>\n",
        "      <td> 4.5</td>\n",
        "      <td> 4.0</td>\n",
        "      <td>  244</td>\n",
        "      <td>  432</td>\n",
        "      <td> 241</td>\n",
        "      <td>  76</td>\n",
        "    </tr>\n",
        "    <tr>\n",
        "      <th>30</th>\n",
        "      <td>  381</td>\n",
        "      <td>  625</td>\n",
        "      <td> 133</td>\n",
        "      <td>  55</td>\n",
        "      <td>  737</td>\n",
        "      <td> 3.903159</td>\n",
        "      <td> 1931</td>\n",
        "      <td> 4.5</td>\n",
        "      <td> 4.5</td>\n",
        "      <td> 4.0</td>\n",
        "      <td> 4.0</td>\n",
        "      <td> 4.0</td>\n",
        "      <td> 3.5</td>\n",
        "      <td>  473</td>\n",
        "      <td>  567</td>\n",
        "      <td> 392</td>\n",
        "      <td> 115</td>\n",
        "    </tr>\n",
        "    <tr>\n",
        "      <th>31</th>\n",
        "      <td>  107</td>\n",
        "      <td>  418</td>\n",
        "      <td>  50</td>\n",
        "      <td>  28</td>\n",
        "      <td>  261</td>\n",
        "      <td> 4.146991</td>\n",
        "      <td>  864</td>\n",
        "      <td> 4.5</td>\n",
        "      <td> 4.5</td>\n",
        "      <td> 4.0</td>\n",
        "      <td> 4.5</td>\n",
        "      <td> 4.5</td>\n",
        "      <td> 3.5</td>\n",
        "      <td>  217</td>\n",
        "      <td>  312</td>\n",
        "      <td> 128</td>\n",
        "      <td>  67</td>\n",
        "    </tr>\n",
        "    <tr>\n",
        "      <th>32</th>\n",
        "      <td>   61</td>\n",
        "      <td>  204</td>\n",
        "      <td>  19</td>\n",
        "      <td>   8</td>\n",
        "      <td>  177</td>\n",
        "      <td> 4.172708</td>\n",
        "      <td>  469</td>\n",
        "      <td> 4.5</td>\n",
        "      <td> 4.5</td>\n",
        "      <td> 4.5</td>\n",
        "      <td> 4.5</td>\n",
        "      <td> 4.5</td>\n",
        "      <td> 4.0</td>\n",
        "      <td>  145</td>\n",
        "      <td>  110</td>\n",
        "      <td> 113</td>\n",
        "      <td>  19</td>\n",
        "    </tr>\n",
        "    <tr>\n",
        "      <th>33</th>\n",
        "      <td>  160</td>\n",
        "      <td> 1277</td>\n",
        "      <td>  63</td>\n",
        "      <td>  49</td>\n",
        "      <td>  513</td>\n",
        "      <td> 4.409311</td>\n",
        "      <td> 2062</td>\n",
        "      <td> 4.5</td>\n",
        "      <td> 5.0</td>\n",
        "      <td> 4.5</td>\n",
        "      <td> 4.5</td>\n",
        "      <td> 4.5</td>\n",
        "      <td> 4.0</td>\n",
        "      <td>  526</td>\n",
        "      <td>  616</td>\n",
        "      <td> 471</td>\n",
        "      <td> 103</td>\n",
        "    </tr>\n",
        "    <tr>\n",
        "      <th>34</th>\n",
        "      <td>  110</td>\n",
        "      <td>  269</td>\n",
        "      <td>  48</td>\n",
        "      <td>  25</td>\n",
        "      <td>  406</td>\n",
        "      <td> 3.986014</td>\n",
        "      <td>  858</td>\n",
        "      <td> 4.5</td>\n",
        "      <td> 4.5</td>\n",
        "      <td> 4.0</td>\n",
        "      <td> 4.0</td>\n",
        "      <td> 4.0</td>\n",
        "      <td> 4.0</td>\n",
        "      <td>  120</td>\n",
        "      <td>  367</td>\n",
        "      <td>  77</td>\n",
        "      <td> 126</td>\n",
        "    </tr>\n",
        "    <tr>\n",
        "      <th>35</th>\n",
        "      <td>  160</td>\n",
        "      <td>  319</td>\n",
        "      <td>  55</td>\n",
        "      <td>  45</td>\n",
        "      <td>  390</td>\n",
        "      <td> 3.911249</td>\n",
        "      <td>  969</td>\n",
        "      <td> 4.5</td>\n",
        "      <td> 4.5</td>\n",
        "      <td> 3.5</td>\n",
        "      <td> 4.0</td>\n",
        "      <td> 4.0</td>\n",
        "      <td> 4.0</td>\n",
        "      <td>  148</td>\n",
        "      <td>  417</td>\n",
        "      <td> 118</td>\n",
        "      <td> 108</td>\n",
        "    </tr>\n",
        "    <tr>\n",
        "      <th>36</th>\n",
        "      <td>   96</td>\n",
        "      <td>  347</td>\n",
        "      <td>  43</td>\n",
        "      <td>  39</td>\n",
        "      <td>  161</td>\n",
        "      <td> 4.069971</td>\n",
        "      <td>  686</td>\n",
        "      <td> 4.0</td>\n",
        "      <td> 4.5</td>\n",
        "      <td> 4.0</td>\n",
        "      <td> 4.5</td>\n",
        "      <td> 4.0</td>\n",
        "      <td> 4.0</td>\n",
        "      <td>  187</td>\n",
        "      <td>  100</td>\n",
        "      <td> 237</td>\n",
        "      <td>  61</td>\n",
        "    </tr>\n",
        "    <tr>\n",
        "      <th>37</th>\n",
        "      <td>  295</td>\n",
        "      <td>  684</td>\n",
        "      <td>  85</td>\n",
        "      <td>  47</td>\n",
        "      <td>  857</td>\n",
        "      <td> 4.039634</td>\n",
        "      <td> 1968</td>\n",
        "      <td> 4.5</td>\n",
        "      <td> 4.5</td>\n",
        "      <td> 4.0</td>\n",
        "      <td> 4.0</td>\n",
        "      <td> 4.5</td>\n",
        "      <td> 3.5</td>\n",
        "      <td>  603</td>\n",
        "      <td>  514</td>\n",
        "      <td> 422</td>\n",
        "      <td> 192</td>\n",
        "    </tr>\n",
        "    <tr>\n",
        "      <th>38</th>\n",
        "      <td>  162</td>\n",
        "      <td>  301</td>\n",
        "      <td>  42</td>\n",
        "      <td>  30</td>\n",
        "      <td>  339</td>\n",
        "      <td> 3.959954</td>\n",
        "      <td>  874</td>\n",
        "      <td> 4.5</td>\n",
        "      <td> 4.5</td>\n",
        "      <td> 4.0</td>\n",
        "      <td> 4.0</td>\n",
        "      <td> 4.0</td>\n",
        "      <td> 3.5</td>\n",
        "      <td>  230</td>\n",
        "      <td>  251</td>\n",
        "      <td> 206</td>\n",
        "      <td>  30</td>\n",
        "    </tr>\n",
        "    <tr>\n",
        "      <th>39</th>\n",
        "      <td>   74</td>\n",
        "      <td>  560</td>\n",
        "      <td>  24</td>\n",
        "      <td>   9</td>\n",
        "      <td>  197</td>\n",
        "      <td> 4.475694</td>\n",
        "      <td>  864</td>\n",
        "      <td> 4.5</td>\n",
        "      <td> 4.5</td>\n",
        "      <td> 4.5</td>\n",
        "      <td> 4.5</td>\n",
        "      <td> 4.5</td>\n",
        "      <td> 4.0</td>\n",
        "      <td>  128</td>\n",
        "      <td>  407</td>\n",
        "      <td> 175</td>\n",
        "      <td>  51</td>\n",
        "    </tr>\n",
        "    <tr>\n",
        "      <th>40</th>\n",
        "      <td>  137</td>\n",
        "      <td>  610</td>\n",
        "      <td>  49</td>\n",
        "      <td>  26</td>\n",
        "      <td>  467</td>\n",
        "      <td> 4.230411</td>\n",
        "      <td> 1289</td>\n",
        "      <td> 4.5</td>\n",
        "      <td> 5.0</td>\n",
        "      <td> 4.0</td>\n",
        "      <td> 4.5</td>\n",
        "      <td> 4.0</td>\n",
        "      <td> 3.5</td>\n",
        "      <td>  253</td>\n",
        "      <td>  344</td>\n",
        "      <td> 433</td>\n",
        "      <td>  38</td>\n",
        "    </tr>\n",
        "    <tr>\n",
        "      <th>41</th>\n",
        "      <td>  109</td>\n",
        "      <td>  476</td>\n",
        "      <td>  48</td>\n",
        "      <td>  22</td>\n",
        "      <td>  326</td>\n",
        "      <td> 4.208970</td>\n",
        "      <td>  981</td>\n",
        "      <td> 4.5</td>\n",
        "      <td> 4.5</td>\n",
        "      <td> 4.0</td>\n",
        "      <td> 4.5</td>\n",
        "      <td> 4.5</td>\n",
        "      <td> 4.0</td>\n",
        "      <td>  148</td>\n",
        "      <td>  372</td>\n",
        "      <td> 173</td>\n",
        "      <td>  55</td>\n",
        "    </tr>\n",
        "    <tr>\n",
        "      <th>42</th>\n",
        "      <td>   94</td>\n",
        "      <td>  203</td>\n",
        "      <td>  34</td>\n",
        "      <td>  22</td>\n",
        "      <td>  214</td>\n",
        "      <td> 3.955908</td>\n",
        "      <td>  567</td>\n",
        "      <td> 4.5</td>\n",
        "      <td> 3.5</td>\n",
        "      <td> 4.5</td>\n",
        "      <td> 4.0</td>\n",
        "      <td> 4.0</td>\n",
        "      <td> 4.0</td>\n",
        "      <td>  162</td>\n",
        "      <td>   95</td>\n",
        "      <td> 173</td>\n",
        "      <td>  56</td>\n",
        "    </tr>\n",
        "    <tr>\n",
        "      <th>43</th>\n",
        "      <td>   99</td>\n",
        "      <td>  133</td>\n",
        "      <td>  27</td>\n",
        "      <td>  23</td>\n",
        "      <td>  254</td>\n",
        "      <td> 3.833955</td>\n",
        "      <td>  536</td>\n",
        "      <td> 4.0</td>\n",
        "      <td> 3.5</td>\n",
        "      <td> 4.0</td>\n",
        "      <td> 4.0</td>\n",
        "      <td> 4.0</td>\n",
        "      <td> 4.0</td>\n",
        "      <td>   78</td>\n",
        "      <td>  194</td>\n",
        "      <td> 130</td>\n",
        "      <td>  38</td>\n",
        "    </tr>\n",
        "    <tr>\n",
        "      <th>44</th>\n",
        "      <td>   47</td>\n",
        "      <td>  810</td>\n",
        "      <td>  22</td>\n",
        "      <td>  13</td>\n",
        "      <td>  140</td>\n",
        "      <td> 4.658915</td>\n",
        "      <td> 1032</td>\n",
        "      <td> 5.0</td>\n",
        "      <td> 5.0</td>\n",
        "      <td> 4.5</td>\n",
        "      <td> 5.0</td>\n",
        "      <td> 5.0</td>\n",
        "      <td> 4.0</td>\n",
        "      <td>  317</td>\n",
        "      <td>  256</td>\n",
        "      <td> 292</td>\n",
        "      <td>  47</td>\n",
        "    </tr>\n",
        "    <tr>\n",
        "      <th>45</th>\n",
        "      <td>   45</td>\n",
        "      <td>  173</td>\n",
        "      <td>   8</td>\n",
        "      <td>   8</td>\n",
        "      <td>  134</td>\n",
        "      <td> 4.239130</td>\n",
        "      <td>  368</td>\n",
        "      <td> 4.5</td>\n",
        "      <td> 4.5</td>\n",
        "      <td> 4.0</td>\n",
        "      <td> 4.5</td>\n",
        "      <td> 4.5</td>\n",
        "      <td> 4.0</td>\n",
        "      <td>   56</td>\n",
        "      <td>  145</td>\n",
        "      <td>  57</td>\n",
        "      <td>  18</td>\n",
        "    </tr>\n",
        "    <tr>\n",
        "      <th>46</th>\n",
        "      <td>   42</td>\n",
        "      <td>  277</td>\n",
        "      <td>  14</td>\n",
        "      <td>   4</td>\n",
        "      <td>  182</td>\n",
        "      <td> 4.375723</td>\n",
        "      <td>  519</td>\n",
        "      <td> 4.5</td>\n",
        "      <td> 4.5</td>\n",
        "      <td> 4.5</td>\n",
        "      <td> 4.5</td>\n",
        "      <td> 4.5</td>\n",
        "      <td> 4.0</td>\n",
        "      <td>   71</td>\n",
        "      <td>  140</td>\n",
        "      <td> 196</td>\n",
        "      <td>  25</td>\n",
        "    </tr>\n",
        "    <tr>\n",
        "      <th>47</th>\n",
        "      <td>  228</td>\n",
        "      <td>  259</td>\n",
        "      <td>  76</td>\n",
        "      <td>  37</td>\n",
        "      <td>  346</td>\n",
        "      <td> 3.754757</td>\n",
        "      <td>  946</td>\n",
        "      <td> 4.0</td>\n",
        "      <td> 3.5</td>\n",
        "      <td> 4.0</td>\n",
        "      <td> 4.0</td>\n",
        "      <td> 4.0</td>\n",
        "      <td> 3.5</td>\n",
        "      <td>  224</td>\n",
        "      <td>  247</td>\n",
        "      <td> 234</td>\n",
        "      <td>  76</td>\n",
        "    </tr>\n",
        "    <tr>\n",
        "      <th>48</th>\n",
        "      <td>  184</td>\n",
        "      <td>  348</td>\n",
        "      <td>  69</td>\n",
        "      <td>  32</td>\n",
        "      <td>  403</td>\n",
        "      <td> 3.932432</td>\n",
        "      <td> 1036</td>\n",
        "      <td> 4.5</td>\n",
        "      <td> 4.5</td>\n",
        "      <td> 4.0</td>\n",
        "      <td> 4.0</td>\n",
        "      <td> 4.0</td>\n",
        "      <td> 3.5</td>\n",
        "      <td>  280</td>\n",
        "      <td>  167</td>\n",
        "      <td> 360</td>\n",
        "      <td> 101</td>\n",
        "    </tr>\n",
        "    <tr>\n",
        "      <th>49</th>\n",
        "      <td>   78</td>\n",
        "      <td>   97</td>\n",
        "      <td>  33</td>\n",
        "      <td>  21</td>\n",
        "      <td>  132</td>\n",
        "      <td> 3.695291</td>\n",
        "      <td>  361</td>\n",
        "      <td> 4.0</td>\n",
        "      <td> 4.0</td>\n",
        "      <td> 3.5</td>\n",
        "      <td> 4.0</td>\n",
        "      <td> 4.0</td>\n",
        "      <td> 4.0</td>\n",
        "      <td>   49</td>\n",
        "      <td>   59</td>\n",
        "      <td> 166</td>\n",
        "      <td>  27</td>\n",
        "    </tr>\n",
        "    <tr>\n",
        "      <th>50</th>\n",
        "      <td>   65</td>\n",
        "      <td>  433</td>\n",
        "      <td>  29</td>\n",
        "      <td>  23</td>\n",
        "      <td>  196</td>\n",
        "      <td> 4.323056</td>\n",
        "      <td>  746</td>\n",
        "      <td> 4.5</td>\n",
        "      <td> 4.5</td>\n",
        "      <td> 4.5</td>\n",
        "      <td> 4.5</td>\n",
        "      <td> 4.5</td>\n",
        "      <td> 4.0</td>\n",
        "      <td>  117</td>\n",
        "      <td>  206</td>\n",
        "      <td> 223</td>\n",
        "      <td>  29</td>\n",
        "    </tr>\n",
        "    <tr>\n",
        "      <th>51</th>\n",
        "      <td>  267</td>\n",
        "      <td>  586</td>\n",
        "      <td>  85</td>\n",
        "      <td>  46</td>\n",
        "      <td>  637</td>\n",
        "      <td> 4.006786</td>\n",
        "      <td> 1621</td>\n",
        "      <td> 4.5</td>\n",
        "      <td> 3.5</td>\n",
        "      <td> 4.0</td>\n",
        "      <td> 4.0</td>\n",
        "      <td> 4.5</td>\n",
        "      <td> 3.5</td>\n",
        "      <td>  728</td>\n",
        "      <td>  383</td>\n",
        "      <td> 234</td>\n",
        "      <td> 107</td>\n",
        "    </tr>\n",
        "    <tr>\n",
        "      <th>52</th>\n",
        "      <td>  133</td>\n",
        "      <td>  415</td>\n",
        "      <td>  49</td>\n",
        "      <td>  34</td>\n",
        "      <td>  420</td>\n",
        "      <td> 4.078021</td>\n",
        "      <td> 1051</td>\n",
        "      <td> 4.5</td>\n",
        "      <td> 4.5</td>\n",
        "      <td> 4.0</td>\n",
        "      <td> 4.0</td>\n",
        "      <td> 4.0</td>\n",
        "      <td> 4.0</td>\n",
        "      <td>  239</td>\n",
        "      <td>  354</td>\n",
        "      <td> 111</td>\n",
        "      <td> 112</td>\n",
        "    </tr>\n",
        "    <tr>\n",
        "      <th>53</th>\n",
        "      <td>   60</td>\n",
        "      <td>  109</td>\n",
        "      <td>  32</td>\n",
        "      <td>  41</td>\n",
        "      <td>  138</td>\n",
        "      <td> 3.636842</td>\n",
        "      <td>  380</td>\n",
        "      <td> 3.5</td>\n",
        "      <td> 4.5</td>\n",
        "      <td> 3.5</td>\n",
        "      <td> 3.5</td>\n",
        "      <td> 3.5</td>\n",
        "      <td> 4.0</td>\n",
        "      <td>   67</td>\n",
        "      <td>  113</td>\n",
        "      <td>  80</td>\n",
        "      <td>  37</td>\n",
        "    </tr>\n",
        "    <tr>\n",
        "      <th>54</th>\n",
        "      <td>  104</td>\n",
        "      <td>  336</td>\n",
        "      <td>  34</td>\n",
        "      <td>  15</td>\n",
        "      <td>  382</td>\n",
        "      <td> 4.136625</td>\n",
        "      <td>  871</td>\n",
        "      <td> 4.5</td>\n",
        "      <td> 4.0</td>\n",
        "      <td> 4.5</td>\n",
        "      <td> 4.5</td>\n",
        "      <td> 4.5</td>\n",
        "      <td> 4.0</td>\n",
        "      <td>  371</td>\n",
        "      <td>  214</td>\n",
        "      <td> 139</td>\n",
        "      <td>  62</td>\n",
        "    </tr>\n",
        "    <tr>\n",
        "      <th>55</th>\n",
        "      <td>  138</td>\n",
        "      <td>  390</td>\n",
        "      <td>  58</td>\n",
        "      <td>  35</td>\n",
        "      <td>  443</td>\n",
        "      <td> 4.029135</td>\n",
        "      <td> 1064</td>\n",
        "      <td> 4.5</td>\n",
        "      <td> 4.0</td>\n",
        "      <td> 4.0</td>\n",
        "      <td> 4.0</td>\n",
        "      <td> 4.0</td>\n",
        "      <td> 4.0</td>\n",
        "      <td>  293</td>\n",
        "      <td>  191</td>\n",
        "      <td> 364</td>\n",
        "      <td>  68</td>\n",
        "    </tr>\n",
        "    <tr>\n",
        "      <th>56</th>\n",
        "      <td>   44</td>\n",
        "      <td>  173</td>\n",
        "      <td>  20</td>\n",
        "      <td>  14</td>\n",
        "      <td>  184</td>\n",
        "      <td> 4.108046</td>\n",
        "      <td>  435</td>\n",
        "      <td> 4.5</td>\n",
        "      <td> 5.0</td>\n",
        "      <td> 4.0</td>\n",
        "      <td> 4.0</td>\n",
        "      <td> 4.5</td>\n",
        "      <td> 4.0</td>\n",
        "      <td>   45</td>\n",
        "      <td>  200</td>\n",
        "      <td>  64</td>\n",
        "      <td>  25</td>\n",
        "    </tr>\n",
        "    <tr>\n",
        "      <th>57</th>\n",
        "      <td>  129</td>\n",
        "      <td>  179</td>\n",
        "      <td>  69</td>\n",
        "      <td>  34</td>\n",
        "      <td>  305</td>\n",
        "      <td> 3.734637</td>\n",
        "      <td>  716</td>\n",
        "      <td> 4.0</td>\n",
        "      <td> 3.5</td>\n",
        "      <td> 4.0</td>\n",
        "      <td> 4.0</td>\n",
        "      <td> 4.0</td>\n",
        "      <td> 4.0</td>\n",
        "      <td>  104</td>\n",
        "      <td>  179</td>\n",
        "      <td> 257</td>\n",
        "      <td>  17</td>\n",
        "    </tr>\n",
        "    <tr>\n",
        "      <th>58</th>\n",
        "      <td>   71</td>\n",
        "      <td>  329</td>\n",
        "      <td>  34</td>\n",
        "      <td>  18</td>\n",
        "      <td>  302</td>\n",
        "      <td> 4.180371</td>\n",
        "      <td>  754</td>\n",
        "      <td> 4.5</td>\n",
        "      <td> 5.0</td>\n",
        "      <td> 4.0</td>\n",
        "      <td> 4.0</td>\n",
        "      <td> 4.0</td>\n",
        "      <td> 4.0</td>\n",
        "      <td>  140</td>\n",
        "      <td>  304</td>\n",
        "      <td>  44</td>\n",
        "      <td>  95</td>\n",
        "    </tr>\n",
        "    <tr>\n",
        "      <th>59</th>\n",
        "      <td>   20</td>\n",
        "      <td>  312</td>\n",
        "      <td>   7</td>\n",
        "      <td>   6</td>\n",
        "      <td>   61</td>\n",
        "      <td> 4.640394</td>\n",
        "      <td>  406</td>\n",
        "      <td> 5.0</td>\n",
        "      <td> 5.0</td>\n",
        "      <td> 4.5</td>\n",
        "      <td> 4.5</td>\n",
        "      <td> 5.0</td>\n",
        "      <td> 4.0</td>\n",
        "      <td>  132</td>\n",
        "      <td>  114</td>\n",
        "      <td>  78</td>\n",
        "      <td>  30</td>\n",
        "    </tr>\n",
        "  </tbody>\n",
        "</table>\n",
        "</div>"
       ],
       "metadata": {},
       "output_type": "pyout",
       "prompt_number": 246,
       "text": [
        "    ratings_Average  ratings_Excellent  ratings_Poor  ratings_Terrible  \\\n",
        "0                98               1880            33                31   \n",
        "1               166                479            67                34   \n",
        "2                43                628             8                11   \n",
        "3               105               1179            30                19   \n",
        "4               276               1071            93                34   \n",
        "5                44                991            15                11   \n",
        "6                81               2370            39                13   \n",
        "7               181               1093            39                17   \n",
        "8               107               1884            46                20   \n",
        "9                21                246             7                 1   \n",
        "10               74                197            19                19   \n",
        "11              282                575            91                27   \n",
        "12              112                809            41                29   \n",
        "13              107                418            50                28   \n",
        "14              130               1138            56                47   \n",
        "15               22                351             9                 3   \n",
        "16               11                381            12                12   \n",
        "17               98                388            47                41   \n",
        "18              337                249           124                63   \n",
        "19               99                133            27                23   \n",
        "20              563               2032           244               134   \n",
        "21             1005                739           662               512   \n",
        "22               77                395            28                32   \n",
        "23                9                176             1                 2   \n",
        "24              116                438            55                33   \n",
        "25               58                477            15                 3   \n",
        "26              157                923            68                29   \n",
        "27              103                539            28                15   \n",
        "28              217                481            65                40   \n",
        "29              149                508            83                32   \n",
        "30              381                625           133                55   \n",
        "31              107                418            50                28   \n",
        "32               61                204            19                 8   \n",
        "33              160               1277            63                49   \n",
        "34              110                269            48                25   \n",
        "35              160                319            55                45   \n",
        "36               96                347            43                39   \n",
        "37              295                684            85                47   \n",
        "38              162                301            42                30   \n",
        "39               74                560            24                 9   \n",
        "40              137                610            49                26   \n",
        "41              109                476            48                22   \n",
        "42               94                203            34                22   \n",
        "43               99                133            27                23   \n",
        "44               47                810            22                13   \n",
        "45               45                173             8                 8   \n",
        "46               42                277            14                 4   \n",
        "47              228                259            76                37   \n",
        "48              184                348            69                32   \n",
        "49               78                 97            33                21   \n",
        "50               65                433            29                23   \n",
        "51              267                586            85                46   \n",
        "52              133                415            49                34   \n",
        "53               60                109            32                41   \n",
        "54              104                336            34                15   \n",
        "55              138                390            58                35   \n",
        "56               44                173            20                14   \n",
        "57              129                179            69                34   \n",
        "58               71                329            34                18   \n",
        "59               20                312             7                 6   \n",
        "\n",
        "    ratings_Very good  ratings_avg  reviews  summary_Cleanliness  \\\n",
        "0                 506     4.636970     2548                  5.0   \n",
        "1                 424     4.065812     1170                  4.5   \n",
        "2                 274     4.556017      964                  4.5   \n",
        "3                 496     4.523237     1829                  4.5   \n",
        "4                 832     4.219861     2306                  4.5   \n",
        "5                 189     4.707200     1250                  5.0   \n",
        "6                 442     4.737521     2945                  5.0   \n",
        "7                 619     4.401744     1949                  4.5   \n",
        "8                 509     4.633281     2566                  5.0   \n",
        "9                  85     4.577778      360                  5.0   \n",
        "10                223     4.052632      532                  4.5   \n",
        "11                731     4.017585     1706                  4.5   \n",
        "12                419     4.374468     1410                  4.5   \n",
        "13                261     4.146991      864                  4.5   \n",
        "14                526     4.397997     1897                  4.5   \n",
        "15                134     4.581888      519                  5.0   \n",
        "16                146     4.551601      562                  4.5   \n",
        "17                460     4.070600     1034                  4.5   \n",
        "18                607     3.619565     1380                  4.0   \n",
        "19                254     3.833955      536                  4.0   \n",
        "20               1488     4.129792     4461                  4.5   \n",
        "21               1315     3.261517     4233                  3.5   \n",
        "22                211     4.223419      743                  4.5   \n",
        "23                 56     4.651639      244                  5.0   \n",
        "24                377     4.110893     1019                  4.5   \n",
        "25                216     4.494148      769                  4.5   \n",
        "26                434     4.337058     1611                  4.5   \n",
        "27                359     4.320881     1044                  4.5   \n",
        "28                517     4.010606     1320                  4.5   \n",
        "29                373     4.084716     1145                  4.5   \n",
        "30                737     3.903159     1931                  4.5   \n",
        "31                261     4.146991      864                  4.5   \n",
        "32                177     4.172708      469                  4.5   \n",
        "33                513     4.409311     2062                  4.5   \n",
        "34                406     3.986014      858                  4.5   \n",
        "35                390     3.911249      969                  4.5   \n",
        "36                161     4.069971      686                  4.0   \n",
        "37                857     4.039634     1968                  4.5   \n",
        "38                339     3.959954      874                  4.5   \n",
        "39                197     4.475694      864                  4.5   \n",
        "40                467     4.230411     1289                  4.5   \n",
        "41                326     4.208970      981                  4.5   \n",
        "42                214     3.955908      567                  4.5   \n",
        "43                254     3.833955      536                  4.0   \n",
        "44                140     4.658915     1032                  5.0   \n",
        "45                134     4.239130      368                  4.5   \n",
        "46                182     4.375723      519                  4.5   \n",
        "47                346     3.754757      946                  4.0   \n",
        "48                403     3.932432     1036                  4.5   \n",
        "49                132     3.695291      361                  4.0   \n",
        "50                196     4.323056      746                  4.5   \n",
        "51                637     4.006786     1621                  4.5   \n",
        "52                420     4.078021     1051                  4.5   \n",
        "53                138     3.636842      380                  3.5   \n",
        "54                382     4.136625      871                  4.5   \n",
        "55                443     4.029135     1064                  4.5   \n",
        "56                184     4.108046      435                  4.5   \n",
        "57                305     3.734637      716                  4.0   \n",
        "58                302     4.180371      754                  4.5   \n",
        "59                 61     4.640394      406                  5.0   \n",
        "\n",
        "    summary_Location  summary_Rooms  summary_Service  summary_Sleep Quality  \\\n",
        "0                4.5            4.5              4.5                    4.5   \n",
        "1                4.5            4.0              4.5                    4.0   \n",
        "2                5.0            4.5              4.5                    4.5   \n",
        "3                5.0            4.5              4.5                    4.5   \n",
        "4                5.0            4.5              4.5                    4.5   \n",
        "5                5.0            4.5              5.0                    4.5   \n",
        "6                5.0            5.0              5.0                    5.0   \n",
        "7                4.5            4.5              4.5                    4.5   \n",
        "8                5.0            4.5              5.0                    4.5   \n",
        "9                4.0            4.5              4.5                    4.5   \n",
        "10               4.5            4.0              4.0                    4.5   \n",
        "11               4.5            4.0              4.0                    4.0   \n",
        "12               4.5            4.5              4.5                    4.5   \n",
        "13               4.5            4.0              4.5                    4.5   \n",
        "14               4.5            4.5              4.5                    4.5   \n",
        "15               4.5            4.5              4.5                    4.5   \n",
        "16               5.0            4.5              4.5                    4.5   \n",
        "17               5.0            4.0              4.0                    4.0   \n",
        "18               4.5            3.5              4.0                    4.0   \n",
        "19               3.5            4.0              4.0                    4.0   \n",
        "20               5.0            4.0              4.5                    4.0   \n",
        "21               4.5            3.0              3.5                    3.5   \n",
        "22               4.5            4.0              4.5                    4.0   \n",
        "23               4.5            4.5              4.5                    4.5   \n",
        "24               5.0            4.0              4.0                    4.0   \n",
        "25               4.5            4.5              4.5                    4.5   \n",
        "26               5.0            4.0              4.5                    4.5   \n",
        "27               5.0            4.0              4.5                    4.5   \n",
        "28               4.0            4.0              4.0                    4.5   \n",
        "29               5.0            4.0              4.0                    4.5   \n",
        "30               4.5            4.0              4.0                    4.0   \n",
        "31               4.5            4.0              4.5                    4.5   \n",
        "32               4.5            4.5              4.5                    4.5   \n",
        "33               5.0            4.5              4.5                    4.5   \n",
        "34               4.5            4.0              4.0                    4.0   \n",
        "35               4.5            3.5              4.0                    4.0   \n",
        "36               4.5            4.0              4.5                    4.0   \n",
        "37               4.5            4.0              4.0                    4.5   \n",
        "38               4.5            4.0              4.0                    4.0   \n",
        "39               4.5            4.5              4.5                    4.5   \n",
        "40               5.0            4.0              4.5                    4.0   \n",
        "41               4.5            4.0              4.5                    4.5   \n",
        "42               3.5            4.5              4.0                    4.0   \n",
        "43               3.5            4.0              4.0                    4.0   \n",
        "44               5.0            4.5              5.0                    5.0   \n",
        "45               4.5            4.0              4.5                    4.5   \n",
        "46               4.5            4.5              4.5                    4.5   \n",
        "47               3.5            4.0              4.0                    4.0   \n",
        "48               4.5            4.0              4.0                    4.0   \n",
        "49               4.0            3.5              4.0                    4.0   \n",
        "50               4.5            4.5              4.5                    4.5   \n",
        "51               3.5            4.0              4.0                    4.5   \n",
        "52               4.5            4.0              4.0                    4.0   \n",
        "53               4.5            3.5              3.5                    3.5   \n",
        "54               4.0            4.5              4.5                    4.5   \n",
        "55               4.0            4.0              4.0                    4.0   \n",
        "56               5.0            4.0              4.0                    4.5   \n",
        "57               3.5            4.0              4.0                    4.0   \n",
        "58               5.0            4.0              4.0                    4.0   \n",
        "59               5.0            4.5              4.5                    5.0   \n",
        "\n",
        "    summary_Value  tripType_Business  tripType_Couples  tripType_Families  \\\n",
        "0             4.5               1111               551                461   \n",
        "1             4.0                329               335                239   \n",
        "2             4.5                300               222                229   \n",
        "3             4.0                324               830                328   \n",
        "4             4.0                774               495                546   \n",
        "5             4.5                255               462                284   \n",
        "6             4.5                585               853                914   \n",
        "7             4.0                300               624                445   \n",
        "8             4.5                383               986                632   \n",
        "9             4.5                 64               102                104   \n",
        "10            4.0                203               127                107   \n",
        "11            4.0                471               458                412   \n",
        "12            4.0                324               559                249   \n",
        "13            3.5                217               312                128   \n",
        "14            4.0                475               665                383   \n",
        "15            4.5                 85                86                196   \n",
        "16            4.0                 45               179                218   \n",
        "17            4.0                113               545                 87   \n",
        "18            4.0                241               325                394   \n",
        "19            4.0                 78               194                130   \n",
        "20            4.0               1012              1520                919   \n",
        "21            3.5               1185              1241                626   \n",
        "22            3.5                173               264                126   \n",
        "23            4.5                 31                77                 41   \n",
        "24            4.0                156               415                188   \n",
        "25            4.0                151               275                174   \n",
        "26            4.0                444               557                316   \n",
        "27            4.0                223               417                188   \n",
        "28            4.0                301               307                428   \n",
        "29            4.0                244               432                241   \n",
        "30            3.5                473               567                392   \n",
        "31            3.5                217               312                128   \n",
        "32            4.0                145               110                113   \n",
        "33            4.0                526               616                471   \n",
        "34            4.0                120               367                 77   \n",
        "35            4.0                148               417                118   \n",
        "36            4.0                187               100                237   \n",
        "37            3.5                603               514                422   \n",
        "38            3.5                230               251                206   \n",
        "39            4.0                128               407                175   \n",
        "40            3.5                253               344                433   \n",
        "41            4.0                148               372                173   \n",
        "42            4.0                162                95                173   \n",
        "43            4.0                 78               194                130   \n",
        "44            4.0                317               256                292   \n",
        "45            4.0                 56               145                 57   \n",
        "46            4.0                 71               140                196   \n",
        "47            3.5                224               247                234   \n",
        "48            3.5                280               167                360   \n",
        "49            4.0                 49                59                166   \n",
        "50            4.0                117               206                223   \n",
        "51            3.5                728               383                234   \n",
        "52            4.0                239               354                111   \n",
        "53            4.0                 67               113                 80   \n",
        "54            4.0                371               214                139   \n",
        "55            4.0                293               191                364   \n",
        "56            4.0                 45               200                 64   \n",
        "57            4.0                104               179                257   \n",
        "58            4.0                140               304                 44   \n",
        "59            4.0                132               114                 78   \n",
        "\n",
        "    tripType_Solo  \n",
        "0             108  \n",
        "1             105  \n",
        "2              70  \n",
        "3             119  \n",
        "4             103  \n",
        "5              55  \n",
        "6             147  \n",
        "7              78  \n",
        "8             143  \n",
        "9              29  \n",
        "10             17  \n",
        "11            116  \n",
        "12             51  \n",
        "13             67  \n",
        "14            127  \n",
        "15             16  \n",
        "16             15  \n",
        "17             74  \n",
        "18            105  \n",
        "19             38  \n",
        "20            252  \n",
        "21            292  \n",
        "22             28  \n",
        "23             18  \n",
        "24             60  \n",
        "25             22  \n",
        "26             71  \n",
        "27             88  \n",
        "28             77  \n",
        "29             76  \n",
        "30            115  \n",
        "31             67  \n",
        "32             19  \n",
        "33            103  \n",
        "34            126  \n",
        "35            108  \n",
        "36             61  \n",
        "37            192  \n",
        "38             30  \n",
        "39             51  \n",
        "40             38  \n",
        "41             55  \n",
        "42             56  \n",
        "43             38  \n",
        "44             47  \n",
        "45             18  \n",
        "46             25  \n",
        "47             76  \n",
        "48            101  \n",
        "49             27  \n",
        "50             29  \n",
        "51            107  \n",
        "52            112  \n",
        "53             37  \n",
        "54             62  \n",
        "55             68  \n",
        "56             25  \n",
        "57             17  \n",
        "58             95  \n",
        "59             30  "
       ]
      }
     ],
     "prompt_number": 246
    },
    {
     "cell_type": "code",
     "collapsed": false,
     "input": [
      "model = sm.OLS(h['ratings_avg'], h.drop('ratings_avg', axis=1))\n",
      "results = model.fit()\n",
      "print results.summary()\n",
      "print \"Confidence Intervals:\", results.conf_int()\n",
      "print \"Parameters:\", results.params"
     ],
     "language": "python",
     "metadata": {},
     "outputs": [
      {
       "output_type": "stream",
       "stream": "stdout",
       "text": [
        "                            OLS Regression Results                            \n",
        "==============================================================================\n",
        "Dep. Variable:            ratings_avg   R-squared:                       1.000\n",
        "Model:                            OLS   Adj. R-squared:                  1.000\n",
        "Method:                 Least Squares   F-statistic:                 1.157e+04\n",
        "Date:                Sun, 05 Apr 2015   Prob (F-statistic):           1.80e-75\n",
        "Time:                        19:00:09   Log-Likelihood:                 76.522\n",
        "No. Observations:                  60   AIC:                            -123.0\n",
        "Df Residuals:                      45   BIC:                            -91.63\n",
        "Df Model:                          15                                         \n",
        "=========================================================================================\n",
        "                            coef    std err          t      P>|t|      [95.0% Conf. Int.]\n",
        "-----------------------------------------------------------------------------------------\n",
        "ratings_Average           0.0001      0.001      0.202      0.841        -0.001     0.001\n",
        "ratings_Excellent      -2.55e-05   9.97e-05     -0.256      0.799        -0.000     0.000\n",
        "ratings_Poor             -0.0024      0.001     -1.903      0.063        -0.005     0.000\n",
        "ratings_Terrible          0.0025      0.001      2.221      0.031         0.000     0.005\n",
        "ratings_Very good        -0.0002      0.000     -0.923      0.361        -0.001     0.000\n",
        "reviews               -1.365e-05      0.000     -0.073      0.942        -0.000     0.000\n",
        "summary_Cleanliness       0.2605      0.057      4.569      0.000         0.146     0.375\n",
        "summary_Location          0.1184      0.030      3.989      0.000         0.059     0.178\n",
        "summary_Rooms             0.2661      0.059      4.535      0.000         0.148     0.384\n",
        "summary_Service           0.1968      0.059      3.343      0.002         0.078     0.315\n",
        "summary_Sleep Quality     0.0612      0.057      1.070      0.290        -0.054     0.176\n",
        "summary_Value             0.0769      0.042      1.832      0.074        -0.008     0.161\n",
        "tripType_Business         0.0002      0.000      0.604      0.549        -0.000     0.001\n",
        "tripType_Couples          0.0002      0.000      0.745      0.460        -0.000     0.001\n",
        "tripType_Families     -5.513e-05      0.000     -0.168      0.867        -0.001     0.001\n",
        "tripType_Solo            -0.0005      0.000     -0.910      0.368        -0.001     0.001\n",
        "==============================================================================\n",
        "Omnibus:                        0.607   Durbin-Watson:                   2.273\n",
        "Prob(Omnibus):                  0.738   Jarque-Bera (JB):                0.714\n",
        "Skew:                          -0.212   Prob(JB):                        0.700\n",
        "Kurtosis:                       2.676   Cond. No.                          nan\n",
        "==============================================================================\n",
        "\n",
        "Warnings:\n",
        "[1] The smallest eigenvalue is -2.77e-09. This might indicate that there are\n",
        "strong multicollinearity problems or that the design matrix is singular.\n",
        "Confidence Intervals:                               0         1\n",
        "ratings_Average       -0.001041  0.001274\n",
        "ratings_Excellent     -0.000226  0.000175\n",
        "ratings_Poor          -0.004980  0.000142\n",
        "ratings_Terrible       0.000230  0.004717\n",
        "ratings_Very good     -0.000505  0.000188\n",
        "reviews               -0.000391  0.000364\n",
        "summary_Cleanliness    0.145650  0.375311\n",
        "summary_Location       0.058612  0.178175\n",
        "summary_Rooms          0.147937  0.384298\n",
        "summary_Service        0.078215  0.315364\n",
        "summary_Sleep Quality -0.054042  0.176487\n",
        "summary_Value         -0.007655  0.161442\n",
        "tripType_Business     -0.000374  0.000695\n",
        "tripType_Couples      -0.000422  0.000918\n",
        "tripType_Families     -0.000714  0.000604\n",
        "tripType_Solo         -0.001447  0.000546\n",
        "Parameters: ratings_Average          0.000116\n",
        "ratings_Excellent       -0.000025\n",
        "ratings_Poor            -0.002419\n",
        "ratings_Terrible         0.002474\n",
        "ratings_Very good       -0.000159\n",
        "reviews                 -0.000014\n",
        "summary_Cleanliness      0.260481\n",
        "summary_Location         0.118394\n",
        "summary_Rooms            0.266117\n",
        "summary_Service          0.196789\n",
        "summary_Sleep Quality    0.061222\n",
        "summary_Value            0.076893\n",
        "tripType_Business        0.000160\n",
        "tripType_Couples         0.000248\n",
        "tripType_Families       -0.000055\n",
        "tripType_Solo           -0.000450\n",
        "dtype: float64\n"
       ]
      }
     ],
     "prompt_number": 252
    },
    {
     "cell_type": "code",
     "collapsed": false,
     "input": [
      "X, y = utils.shuffle(h.drop('ratings_avg', axis=1), h['ratings_avg'], random_state=1)"
     ],
     "language": "python",
     "metadata": {},
     "outputs": [],
     "prompt_number": 256
    },
    {
     "cell_type": "code",
     "collapsed": false,
     "input": [
      "X_train, X_test, y_train, y_test = cross_validation.train_test_split(X, y, test_size=0.4, random_state=0)\n",
      "print(X_train.shape), y_train.shape\n",
      "print(X_test.shape), y_test.shape"
     ],
     "language": "python",
     "metadata": {},
     "outputs": [
      {
       "output_type": "stream",
       "stream": "stdout",
       "text": [
        "(36, 16) (36,)\n",
        "(24, 16) (24,)\n"
       ]
      }
     ],
     "prompt_number": 257
    },
    {
     "cell_type": "code",
     "collapsed": false,
     "input": [
      "subX_train = X_train[:,0]\n",
      "subX_test = X_test[:,0]\n",
      "plt.scatter(subX_train, y_train, c=\"slategray\", alpha=0.4, linewidths=0.3)\n",
      "# plt.scatter(subX_test, y_test, c=\"seagreen\", alpha=0.2, linewidths=0.3)\n",
      "plt.xlabel('Data')\n",
      "plt.ylabel('Target');"
     ],
     "language": "python",
     "metadata": {},
     "outputs": [
      {
       "metadata": {},
       "output_type": "display_data",
       "png": "[encoded data removed]",
       "text": [
        "<matplotlib.figure.Figure at 0x10e2bb490>"
       ]
      }
     ],
     "prompt_number": 258
    },
    {
     "cell_type": "code",
     "collapsed": false,
     "input": [
      "fig, axes = plt.subplots(2,4,figsize=(15,10))\n",
      "\n",
      "for i in range(8):\n",
      "    plt_i = i // 4\n",
      "    plt_j = i % 4\n",
      "    subX_train = X_train[:,i]\n",
      "    # plt.subplot(2, 4, 1 + i)\n",
      "    axes[plt_i][plt_j].scatter(subX_train, y_train, c=\"slategray\", alpha=0.4, linewidths=0.3)\n",
      "    #plt.scatter(subX_test, y_test)\n",
      "    axes[plt_i][plt_j].set_xlabel('Data')\n",
      "    axes[plt_i][plt_j].set_ylabel('Target'); "
     ],
     "language": "python",
     "metadata": {},
     "outputs": [
      {
       "metadata": {},
       "output_type": "display_data",
       "png": "[encoded data removed]",
       "text": [
        "<matplotlib.figure.Figure at 0x1180acd90>"
       ]
      }
     ],
     "prompt_number": 259
    },
    {
     "cell_type": "code",
     "collapsed": false,
     "input": [
      "regr = linear_model.LinearRegression()"
     ],
     "language": "python",
     "metadata": {},
     "outputs": [],
     "prompt_number": 260
    },
    {
     "cell_type": "code",
     "collapsed": false,
     "input": [
      "print X_train.shape\n",
      "regr.fit(X_train, y_train);"
     ],
     "language": "python",
     "metadata": {},
     "outputs": [
      {
       "output_type": "stream",
       "stream": "stdout",
       "text": [
        "(36, 16)\n"
       ]
      }
     ],
     "prompt_number": 261
    },
    {
     "cell_type": "code",
     "collapsed": false,
     "input": [
      "# The mean square error\n",
      "print(\"Training error: \", metrics.mean_squared_error(regr.predict(X_train),y_train))\n",
      "print(\"Test     error: \", metrics.mean_squared_error(regr.predict(X_test),y_test))"
     ],
     "language": "python",
     "metadata": {},
     "outputs": [
      {
       "output_type": "stream",
       "stream": "stdout",
       "text": [
        "('Training error: ', 0.0043298118623544685)\n",
        "('Test     error: ', 0.0085821673930611044)\n"
       ]
      }
     ],
     "prompt_number": 262
    },
    {
     "cell_type": "code",
     "collapsed": false,
     "input": [
      "train_score = regr.score(X_train,y_train)\n",
      "test_score = regr.score(X_test,y_test)\n",
      "print(\"Training score: \", train_score)\n",
      "print(\"Test     score: \", test_score)"
     ],
     "language": "python",
     "metadata": {},
     "outputs": [
      {
       "output_type": "stream",
       "stream": "stdout",
       "text": [
        "('Training score: ', 0.95781298138514337)\n",
        "('Test     score: ', 0.89052717572373297)\n"
       ]
      }
     ],
     "prompt_number": 263
    },
    {
     "cell_type": "code",
     "collapsed": false,
     "input": [
      "print pd.DataFrame(zip(h.keys(), np.transpose(coefficients))).sort([1], ascending=False)"
     ],
     "language": "python",
     "metadata": {},
     "outputs": [
      {
       "output_type": "stream",
       "stream": "stdout",
       "text": [
        "                        0         1\n",
        "9           summary_Rooms  0.285048\n",
        "6                 reviews  0.281263\n",
        "8        summary_Location  0.240375\n",
        "11  summary_Sleep Quality  0.135808\n",
        "7     summary_Cleanliness  0.117209\n",
        "10        summary_Service  0.033448\n",
        "3        ratings_Terrible  0.001708\n",
        "0         ratings_Average  0.000813\n",
        "13      tripType_Business  0.000271\n",
        "12          summary_Value  0.000121\n",
        "1       ratings_Excellent  0.000005\n",
        "4       ratings_Very good -0.000033\n",
        "5             ratings_avg -0.000054\n",
        "14       tripType_Couples -0.000178\n",
        "15      tripType_Families -0.000533\n",
        "2            ratings_Poor -0.002547\n"
       ]
      }
     ],
     "prompt_number": 274
    },
    {
     "cell_type": "code",
     "collapsed": false,
     "input": [
      "regr = linear_model.LinearRegression()\n",
      "scores = cross_validation.cross_val_score(regr, X, y, cv=5)\n",
      "print scores"
     ],
     "language": "python",
     "metadata": {},
     "outputs": [
      {
       "output_type": "stream",
       "stream": "stdout",
       "text": [
        "[ 0.94059983  0.82883179  0.79973878  0.88896381  0.93505903]\n"
       ]
      }
     ],
     "prompt_number": 269
    },
    {
     "cell_type": "code",
     "collapsed": false,
     "input": [
      "print(\"Regression score: %0.2f (+/- %0.2f)\" % (scores.mean(), scores.std() * 2))"
     ],
     "language": "python",
     "metadata": {},
     "outputs": [
      {
       "output_type": "stream",
       "stream": "stdout",
       "text": [
        "Regression score: 0.88 (+/- 0.11)\n"
       ]
      }
     ],
     "prompt_number": 270
    },
    {
     "cell_type": "code",
     "collapsed": false,
     "input": [
      "# Well this looks weird...\n",
      "subX_train = X_train[:,0]\n",
      "subX_test = X_test[:,0]\n",
      "plt.scatter(subX_train, y_train, c=\"slategray\", alpha=0.4, linewidths=0.3)\n",
      "plt.plot(subX_train, coefficients[0]*subX_train, color='seagreen', linewidth=3, alpha=.8);\n",
      "plt.xlabel('Data')\n",
      "plt.ylabel('Target');"
     ],
     "language": "python",
     "metadata": {},
     "outputs": [
      {
       "metadata": {},
       "output_type": "display_data",
       "png": "[encoded data removed]",
       "text": [
        "<matplotlib.figure.Figure at 0x117331dd0>"
       ]
      }
     ],
     "prompt_number": 271
    },
    {
     "cell_type": "code",
     "collapsed": false,
     "input": [
      "# Based on the above table, it seems that a hotel's \"summary\"\n",
      "# (Location, Sleep Quality, Rooms, Service, Value, and Cleanliness)\n",
      "# are, in general, the greatest contributors and indicators of a \n",
      "# hotel's general rating. Out of these, it's interesting which had\n",
      "# the highest/lowerest correlation. The rating a user gave to a hotel's\n",
      "# room had the greatest influence, which makes sense. Rooms leave a large\n",
      "# impression on guests, as they are the main focus of a hotel. The overall\n",
      "# value though had the lowest relation, which is interesting because it shows\n",
      "# there is a disconnect between what users rate a hotel and how they percieve\n",
      "# its value.\n",
      "#\n",
      "# The model's ability to accurately guess the average rating is also\n",
      "# high. This was somewhat surprising considering how small a dataset\n",
      "# used."
     ],
     "language": "python",
     "metadata": {},
     "outputs": []
    },
    {
     "cell_type": "code",
     "collapsed": false,
     "input": [],
     "language": "python",
     "metadata": {},
     "outputs": []
    },
    {
     "cell_type": "code",
     "collapsed": false,
     "input": [],
     "language": "python",
     "metadata": {},
     "outputs": []
    },
    {
     "cell_type": "code",
     "collapsed": false,
     "input": [
      "# Code for setting the style of the notebook\n",
      "from IPython.core.display import HTML\n",
      "def css_styling():\n",
      "    styles = open(\"../../theme/custom.css\", \"r\").read()\n",
      "    return HTML(styles)\n",
      "css_styling()"
     ],
     "language": "python",
     "metadata": {},
     "outputs": [
      {
       "html": [
        "<link href='http://fonts.googleapis.com/css?family=EB+Garamond' rel='stylesheet' type='text/css'>\n",
        "<link href='http://fonts.googleapis.com/css?family=Alegreya+Sans:100,300,400,500,700,800,900,100italic,300italic,400italic,500italic,700italic,800italic,900italic' rel='stylesheet' type='text/css'>\n",
        "<link href='http://fonts.googleapis.com/css?family=Source+Code+Pro:300,400' rel='stylesheet' type='text/css'>\n",
        "<style>\n",
        "    @font-face {\n",
        "        font-family: \"Computer Modern\";\n",
        "        src: url('http://mirrors.ctan.org/fonts/cm-unicode/fonts/otf/cmunss.otf');\n",
        "    }\n",
        "    .code_cell {\n",
        "        width: 105ex !important ;\n",
        "        margin-bottom: 15px !important;\n",
        "    }\n",
        "    div.cell {\n",
        "        margin-left: auto;\n",
        "        margin-right: auto;\n",
        "        width: 70%;\n",
        "    }    \n",
        "    div.cell.selected {\n",
        "        border: thin rgba(171, 171, 171, 0.5) dashed;\n",
        "    }\n",
        "    h1 {\n",
        "        font-family: 'Alegreya Sans', sans-serif;\n",
        "    }\n",
        "    h2 {\n",
        "        font-family: 'EB Garamond', serif;\n",
        "    }\n",
        "    h3 {\n",
        "        font-family: 'EB Garamond', serif;\n",
        "        margin-top:12px;\n",
        "        margin-bottom: 3px;\n",
        "    }\n",
        "    h4 {\n",
        "        font-family: 'EB Garamond', serif;\n",
        "    }\n",
        "    h5 {\n",
        "        font-family: 'Alegreya Sans', sans-serif;\n",
        "    }\n",
        "    div.text_cell_render {\n",
        "        font-family: 'EB Garamond',Computer Modern, \"Helvetica Neue\", Arial, Helvetica, Geneva, sans-serif;\n",
        "        line-height: 145%;\n",
        "        font-size: 140%;\n",
        "    }\n",
        "    div.input_area {\n",
        "        border-color: rgba(0,0,0,0.10) !important;\n",
        "        background: #fafafa;\n",
        "    }\n",
        "    .CodeMirror {\n",
        "            font-family: \"Source Code Pro\";\n",
        "            font-size: 90%;\n",
        "    }\n",
        "    .prompt {\n",
        "        display: None;\n",
        "    }\n",
        "    .output {\n",
        "        padding-left: 50px;\n",
        "        padding-top: 5px;\n",
        "    }\n",
        "    .output_wrapper {\n",
        "        padding-left: 5px;\n",
        "        padding-top: inherit;\n",
        "    }\n",
        "    div.output_scroll {\n",
        "        width: inherit;\n",
        "    }\n",
        "    .inner_cell {\n",
        "        padding-left: 5px;\n",
        "    }\n",
        "    .text_cell_render h1 {\n",
        "        font-weight: 200;\n",
        "        font-size: 50pt;\n",
        "        line-height: 100%;\n",
        "        color:#CD2305;\n",
        "        margin-bottom: 0.5em;\n",
        "        margin-top: 0.5em;\n",
        "        display: block;\n",
        "    }\n",
        "    .text_cell_render h5 {\n",
        "        font-weight: 300;\n",
        "        font-size: 16pt;\n",
        "        color: #CD2305;\n",
        "        font-style: italic;\n",
        "        margin-bottom: .5em;\n",
        "        margin-top: 0.5em;\n",
        "        display: block;\n",
        "    }\n",
        "    .warning {\n",
        "        color: rgb( 240, 20, 20 )\n",
        "        }  \n",
        "</style>\n",
        "<script>\n",
        "    MathJax.Hub.Config({\n",
        "                        TeX: {\n",
        "                           extensions: [\"AMSmath.js\"]\n",
        "                           },\n",
        "                tex2jax: {\n",
        "                    inlineMath: [ ['$','$'], [\"\\\\(\",\"\\\\)\"] ],\n",
        "                    displayMath: [ ['$$','$$'], [\"\\\\[\",\"\\\\]\"] ]\n",
        "                },\n",
        "                displayAlign: 'center', // Change this to 'center' to center equations.\n",
        "                \"HTML-CSS\": {\n",
        "                    styles: {'.MathJax_Display': {\"margin\": 4}}\n",
        "                }\n",
        "        });\n",
        "</script>"
       ],
       "metadata": {},
       "output_type": "pyout",
       "prompt_number": 2,
       "text": [
        "<IPython.core.display.HTML at 0x3a6e978>"
       ]
      }
     ],
     "prompt_number": 2
    }
   ],
   "metadata": {}
  }
 ]
}