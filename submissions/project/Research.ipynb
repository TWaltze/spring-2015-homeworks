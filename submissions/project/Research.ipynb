{
 "metadata": {
  "name": "",
  "signature": "sha256:9e5b06734cf242b0d9346ea0eba1cc4ae59adf2130cae681215183f63da6706f"
 },
 "nbformat": 3,
 "nbformat_minor": 0,
 "worksheets": [
  {
   "cells": [
    {
     "cell_type": "code",
     "collapsed": false,
     "input": [
      "# import and setup modules we'll be using in this notebook\n",
      "import logging\n",
      "import os\n",
      "import sys\n",
      "import re\n",
      "import tarfile\n",
      "import itertools\n",
      "import json\n",
      "import math\n",
      "import collections\n",
      "from glob import glob\n",
      "\n",
      "import pandas as pd\n",
      "\n",
      "import nltk, nltk.classify.util, nltk.metrics\n",
      "from nltk.classify import NaiveBayesClassifier\n",
      "from nltk.probability import FreqDist, ConditionalFreqDist\n",
      "from nltk.collocations import TrigramCollocationFinder\n",
      "from nltk.metrics import BigramAssocMeasures, TrigramAssocMeasures\n",
      "\n",
      "import numpy as np\n",
      "\n",
      "import sklearn.cross_validation as cross_validation\n",
      "\n",
      "import gensim\n",
      "from gensim.utils import smart_open, simple_preprocess\n",
      "from gensim.corpora.wikicorpus import _extract_pages, filter_wiki\n",
      "from gensim.parsing.preprocessing import STOPWORDS\n",
      "\n",
      "import matplotlib.pyplot as plt\n",
      "import matplotlib as mpl\n",
      "import seaborn as sns\n",
      "\n",
      "%matplotlib inline"
     ],
     "language": "python",
     "metadata": {},
     "outputs": [],
     "prompt_number": 278
    },
    {
     "cell_type": "code",
     "collapsed": false,
     "input": [
      "#########################################################\n",
      "#\n",
      "# See very last cell to get neccessary csv files.\n",
      "#\n",
      "# Original data files: http://www.yelp.com/dataset_challenge \n",
      "#\n",
      "#########################################################"
     ],
     "language": "python",
     "metadata": {},
     "outputs": [],
     "prompt_number": 277
    },
    {
     "cell_type": "code",
     "collapsed": false,
     "input": [
      "###################\n",
      "#\n",
      "# Useful variables\n",
      "#\n",
      "###################\n",
      "\n",
      "data = './yelp_data/'\n",
      "\n",
      "# All reviews\n",
      "data_reviews = pd.read_csv(data + 'yelp_academic_dataset_review.csv')\n",
      "\n",
      "# All businesses, though only their interesting columns\n",
      "interestingColumns = ['business_id', 'name', 'review_count', 'stars', 'latitude', 'longitude', 'type', 'categories']\n",
      "data_business = pd.read_csv(data + 'yelp_academic_dataset_business.csv')[interestingColumns]\n",
      "data_business = data_business.sort(['stars'], ascending=False)\n",
      "data_business.index = data_business['business_id'].values\n",
      "\n",
      "# All checkins\n",
      "data_checkins = pd.read_csv(data + 'yelp_academic_dataset_checkin.csv').fillna(0)\n",
      "data_checkins.index = data_checkins['business_id'].values\n",
      "data_checkins = data_checkins.drop(['type', 'business_id'], axis=1)\n",
      "data_checkins['total_checkins'] = data_checkins.sum(axis=1)"
     ],
     "language": "python",
     "metadata": {},
     "outputs": [],
     "prompt_number": 147
    },
    {
     "cell_type": "code",
     "collapsed": false,
     "input": [
      "# Only restaurants\n",
      "data_restaurants = data_business[data_business['categories'].str.contains(\"R,e,s,t,a,u\")].sort(['review_count'], ascending=False)\n",
      "\n",
      "# Only restaurant reviews\n",
      "restaurant_ids = data_restaurants['business_id']\n",
      "restaurant_reviews = data_reviews[data_reviews['business_id'].isin(restaurant_ids)]\n",
      "restaurant_reviews.index = range(0, len(restaurant_reviews))"
     ],
     "language": "python",
     "metadata": {},
     "outputs": [],
     "prompt_number": 148
    },
    {
     "cell_type": "code",
     "collapsed": false,
     "input": [
      "print \"Number of restaurants: {}\".format(len(restaurant_ids))\n",
      "\n",
      "# Restaurants with a large number of reviews\n",
      "lots = 250\n",
      "restaurants_lots_of_reviews = data_restaurants[data_restaurants['review_count'] > lots]\n",
      "restaurants_lots_of_reviews_ids = restaurants_lots_of_reviews['business_id']\n",
      "print \"Number of restaurants with >{} reviews: {}\".format(lots, len(restaurants_lots_of_reviews))"
     ],
     "language": "python",
     "metadata": {},
     "outputs": [
      {
       "output_type": "stream",
       "stream": "stdout",
       "text": [
        "Number of restaurants: 21892\n",
        "Number of restaurants with >250 reviews: 710\n"
       ]
      }
     ],
     "prompt_number": 4
    },
    {
     "cell_type": "code",
     "collapsed": false,
     "input": [
      "###################\n",
      "#\n",
      "# Useful functions\n",
      "#\n",
      "###################\n",
      "\n",
      "def tokenize(text):\n",
      "    return [token for token in simple_preprocess(text) if token not in STOPWORDS]\n",
      "\n",
      "def iter_reviews(reviews):\n",
      "    \"\"\"Yield each review from the restaurant's reviews, as a `(id, tokens)` 2-tuple.\"\"\"\n",
      "    for idx, review in enumerate(reviews):\n",
      "        tokens = tokenize(review)\n",
      "        if len(tokens) < 5:\n",
      "            continue  # ignore short reviews\n",
      "        yield idx, tokens\n",
      "        \n",
      "class ReviewCorpus(object):\n",
      "    def __init__(self, dump_file, dictionary, clip_docs=None):\n",
      "        \"\"\"\n",
      "        Parse the first `clip_docs` reviews from array `dump_file`.\n",
      "        Yield each review in turn, as a list of tokens (unicode strings).\n",
      "        \n",
      "        \"\"\"\n",
      "        self.dump_file = dump_file\n",
      "        self.dictionary = dictionary\n",
      "        self.clip_docs = clip_docs\n",
      "    \n",
      "    def __iter__(self):\n",
      "        self.titles = []\n",
      "        for idx, tokens in itertools.islice(iter_reviews(self.dump_file), self.clip_docs):\n",
      "            self.titles.append(idx)\n",
      "            yield self.dictionary.doc2bow(tokens)\n",
      "    \n",
      "    def __len__(self):\n",
      "        return self.clip_docs\n",
      "    \n",
      "def topNWords(data_set, n):\n",
      "    review_stream = (tokens for _, tokens in itertools.islice(iter_reviews(data_set), 10000))\n",
      "\n",
      "    id2word_review = gensim.corpora.Dictionary(review_stream)\n",
      "\n",
      "    # ignore words that appear in less than 20 reviews or more than 10% reviews\n",
      "    #id2word_review.filter_extremes(no_below=20, no_above=0.1)\n",
      "\n",
      "    # create a stream of bag-of-words vectors\n",
      "    review_corpus = ReviewCorpus(data_set, id2word_review, clip_docs=5000)\n",
      "    vector = next(iter(review_corpus))\n",
      "\n",
      "    clipped_corpus = gensim.utils.ClippedCorpus(review_corpus, len(data_set) / 2)  # use fewer documents during training, LDA is slow\n",
      "    lda_model = gensim.models.LdaModel(clipped_corpus, num_topics=10, id2word=id2word_review, passes=4)\n",
      "\n",
      "    # select top 30 words for each of the LDA topics\n",
      "    top_words = [[word for _, word in lda_model.show_topic(topicno, topn=30)] for topicno in range(lda_model.num_topics)]\n",
      "\n",
      "    # get all top N words in all topics, as one large set\n",
      "    all_words = set(itertools.chain.from_iterable(top_words))\n",
      "\n",
      "    return all_words\n",
      "\n",
      "def importantReviews(reviews, n):\n",
      "    reviews_simple = reviews['text'].values\n",
      "    # Get the important words\n",
      "    importantWords = topNWords(reviews_simple, 30)\n",
      "    \n",
      "    # Give each review an \"importance score\"\n",
      "    review_scores = []\n",
      "    for idx, review in enumerate(reviews_simple):\n",
      "        tokens = tokenize(review)\n",
      "        score = 0\n",
      "\n",
      "        for word in importantWords:\n",
      "            score += tokens.count(word)\n",
      "\n",
      "        review_scores.append(score)\n",
      "\n",
      "    review_scores = np.array(review_scores)\n",
      "    review_scores = pd.DataFrame(review_scores, columns=['importance']).sort(['importance'], ascending=False)\n",
      "    \n",
      "    # Get the top n reviews\n",
      "    topReviews_idx = review_scores.head(n).index\n",
      "\n",
      "    # Top reviews\n",
      "    topReviews = reviews.ix[topReviews_idx]\n",
      "    \n",
      "    return topReviews\n",
      "\n",
      "def round_nearest_half(number):\n",
      "    return round(number * 2) / 2\n",
      "\n",
      "def predictRating(business_id):\n",
      "    # Get all the reviews for this business\n",
      "    reviews = restaurant_reviews[restaurant_reviews['business_id'] == business_id]\n",
      "    reviews.index = range(0, len(reviews))\n",
      "    \n",
      "    # Get the top 10 most important reviews\n",
      "    important_reviews = importantReviews(reviews, 10)\n",
      "    \n",
      "    # Average star rating based on top reviews\n",
      "    predictedRating = round_nearest_half(important_reviews['stars'].mean())\n",
      "\n",
      "    # Actual rating\n",
      "    actualRating = data_restaurants.ix[business_id]['stars']\n",
      "\n",
      "    # Return a restaurant's predicted rating, along with their actual rating\n",
      "    return (predictedRating, actualRating)\n",
      "\n",
      "def takeSample(data, size):\n",
      "    return data.loc[np.random.choice(data.index, size, replace=False)]"
     ],
     "language": "python",
     "metadata": {},
     "outputs": [],
     "prompt_number": 142
    },
    {
     "cell_type": "code",
     "collapsed": false,
     "input": [
      "# Create a test set\n",
      "test_size = 20\n",
      "restaurant_train, restaurant_test = cross_validation.train_test_split(restaurants_lots_of_reviews_ids, test_size=test_size, random_state=0)\n",
      "\n",
      "for restaurant in restaurant_test:\n",
      "    reviews = restaurant_reviews[restaurant_reviews['business_id'] == restaurant]\n",
      "    \n",
      "    print \"Restaurant {} has {} reviews.\".format(restaurant, len(reviews))"
     ],
     "language": "python",
     "metadata": {},
     "outputs": [
      {
       "output_type": "stream",
       "stream": "stdout",
       "text": [
        "Restaurant foDMwBRGJvKw791v0AT7OA has 343 reviews.\n",
        "Restaurant MN0OLvP8i0SirMJ7AMuMzA has 553 reviews."
       ]
      },
      {
       "output_type": "stream",
       "stream": "stdout",
       "text": [
        "\n",
        "Restaurant LXrq0Fw6MCz70KMA928ldQ has 438 reviews."
       ]
      },
      {
       "output_type": "stream",
       "stream": "stdout",
       "text": [
        "\n",
        "Restaurant b5cEoKR8iQliq-yT2_O0LQ has 432 reviews."
       ]
      },
      {
       "output_type": "stream",
       "stream": "stdout",
       "text": [
        "\n",
        "Restaurant KPoTixdjoJxSqRSEApSAGg has 304 reviews."
       ]
      },
      {
       "output_type": "stream",
       "stream": "stdout",
       "text": [
        "\n",
        "Restaurant 5FPU_0VSLtR2yY7IQzaH5g has 290 reviews."
       ]
      },
      {
       "output_type": "stream",
       "stream": "stdout",
       "text": [
        "\n",
        "Restaurant bOB11LVavtN9PWTNwR52Tw has 324 reviews."
       ]
      },
      {
       "output_type": "stream",
       "stream": "stdout",
       "text": [
        "\n",
        "Restaurant RhbOa-Ft3sZB4B_1j5LfyA has 969 reviews."
       ]
      },
      {
       "output_type": "stream",
       "stream": "stdout",
       "text": [
        "\n",
        "Restaurant iNT6pcUugoXsDlZgRTyhtw has 350 reviews."
       ]
      },
      {
       "output_type": "stream",
       "stream": "stdout",
       "text": [
        "\n",
        "Restaurant KcSJUq1kwO8awZRMS6Q49g has 656 reviews."
       ]
      },
      {
       "output_type": "stream",
       "stream": "stdout",
       "text": [
        "\n",
        "Restaurant 23SJEjfyU5gxY2chAKhgcw has 416 reviews."
       ]
      },
      {
       "output_type": "stream",
       "stream": "stdout",
       "text": [
        "\n",
        "Restaurant ADTZPVMIYJN0jAvvHxcBMw has 427 reviews."
       ]
      },
      {
       "output_type": "stream",
       "stream": "stdout",
       "text": [
        "\n",
        "Restaurant JUATTlFUONx_er9_YRFDrw has 303 reviews."
       ]
      },
      {
       "output_type": "stream",
       "stream": "stdout",
       "text": [
        "\n",
        "Restaurant 17FKJgS11HppOf00qXKEqA has 294 reviews."
       ]
      },
      {
       "output_type": "stream",
       "stream": "stdout",
       "text": [
        "\n",
        "Restaurant 1Fupq7erFi4uqC_gd9ypQg has 237 reviews."
       ]
      },
      {
       "output_type": "stream",
       "stream": "stdout",
       "text": [
        "\n",
        "Restaurant xyTJYlbE_MLouK6rCou6zg has 1782 reviews."
       ]
      },
      {
       "output_type": "stream",
       "stream": "stdout",
       "text": [
        "\n",
        "Restaurant k8bSp5BfCNCKqTXcKALXtw has 456 reviews."
       ]
      },
      {
       "output_type": "stream",
       "stream": "stdout",
       "text": [
        "\n",
        "Restaurant Iyy4pDmnKTZkAorzclO4Eg has 265 reviews."
       ]
      },
      {
       "output_type": "stream",
       "stream": "stdout",
       "text": [
        "\n",
        "Restaurant TwxHMCcRdF_CQb_EZ6kPQQ has 319 reviews."
       ]
      },
      {
       "output_type": "stream",
       "stream": "stdout",
       "text": [
        "\n",
        "Restaurant 5ambRqdTJt9vGwFzVI9HBw has 250 reviews."
       ]
      },
      {
       "output_type": "stream",
       "stream": "stdout",
       "text": [
        "\n"
       ]
      }
     ],
     "prompt_number": 40
    },
    {
     "cell_type": "code",
     "collapsed": false,
     "input": [
      "# Predict ratings for test set\n",
      "predictions = []\n",
      "for restaurant in restaurant_test:\n",
      "    %time predictions.append(predictRating(restaurant))\n",
      "    \n",
      "predictions"
     ],
     "language": "python",
     "metadata": {},
     "outputs": [
      {
       "output_type": "stream",
       "stream": "stderr",
       "text": [
        "WARNING:gensim.models.ldamodel:too few updates, training might not converge; consider increasing the number of passes or iterations to improve accuracy\n"
       ]
      },
      {
       "output_type": "stream",
       "stream": "stderr",
       "text": [
        "WARNING:gensim.models.ldamodel:too few updates, training might not converge; consider increasing the number of passes or iterations to improve accuracy\n"
       ]
      },
      {
       "output_type": "stream",
       "stream": "stdout",
       "text": [
        "CPU times: user 5.29 s, sys: 38.9 ms, total: 5.33 s\n",
        "Wall time: 5.5 s\n",
        "CPU times: user 6.4 s, sys: 42.1 ms, total: 6.44 s"
       ]
      },
      {
       "output_type": "stream",
       "stream": "stderr",
       "text": [
        "WARNING:gensim.models.ldamodel:too few updates, training might not converge; consider increasing the number of passes or iterations to improve accuracy\n"
       ]
      },
      {
       "output_type": "stream",
       "stream": "stdout",
       "text": [
        "\n",
        "Wall time: 6.45 s\n",
        "CPU times: user 6.51 s, sys: 42.4 ms, total: 6.55 s"
       ]
      },
      {
       "output_type": "stream",
       "stream": "stderr",
       "text": [
        "WARNING:gensim.models.ldamodel:too few updates, training might not converge; consider increasing the number of passes or iterations to improve accuracy\n"
       ]
      },
      {
       "output_type": "stream",
       "stream": "stdout",
       "text": [
        "\n",
        "Wall time: 6.69 s\n",
        "CPU times: user 4.81 s, sys: 16.6 ms, total: 4.82 s"
       ]
      },
      {
       "output_type": "stream",
       "stream": "stderr",
       "text": [
        "WARNING:gensim.models.ldamodel:too few updates, training might not converge; consider increasing the number of passes or iterations to improve accuracy\n"
       ]
      },
      {
       "output_type": "stream",
       "stream": "stdout",
       "text": [
        "\n",
        "Wall time: 4.84 s\n",
        "CPU times: user 3.62 s, sys: 27.6 ms, total: 3.65 s"
       ]
      },
      {
       "output_type": "stream",
       "stream": "stderr",
       "text": [
        "WARNING:gensim.models.ldamodel:too few updates, training might not converge; consider increasing the number of passes or iterations to improve accuracy\n"
       ]
      },
      {
       "output_type": "stream",
       "stream": "stdout",
       "text": [
        "\n",
        "Wall time: 3.7 s\n",
        "CPU times: user 3.84 s, sys: 36.3 ms, total: 3.88 s"
       ]
      },
      {
       "output_type": "stream",
       "stream": "stderr",
       "text": [
        "WARNING:gensim.models.ldamodel:too few updates, training might not converge; consider increasing the number of passes or iterations to improve accuracy\n"
       ]
      },
      {
       "output_type": "stream",
       "stream": "stdout",
       "text": [
        "\n",
        "Wall time: 4.19 s\n",
        "CPU times: user 5.04 s, sys: 74.6 ms, total: 5.11 s"
       ]
      },
      {
       "output_type": "stream",
       "stream": "stderr",
       "text": [
        "WARNING:gensim.models.ldamodel:too few updates, training might not converge; consider increasing the number of passes or iterations to improve accuracy\n"
       ]
      },
      {
       "output_type": "stream",
       "stream": "stdout",
       "text": [
        "\n",
        "Wall time: 5.87 s\n",
        "CPU times: user 9.9 s, sys: 97.6 ms, total: 10 s"
       ]
      },
      {
       "output_type": "stream",
       "stream": "stderr",
       "text": [
        "WARNING:gensim.models.ldamodel:too few updates, training might not converge; consider increasing the number of passes or iterations to improve accuracy\n"
       ]
      },
      {
       "output_type": "stream",
       "stream": "stdout",
       "text": [
        "\n",
        "Wall time: 10.7 s\n",
        "CPU times: user 5.92 s, sys: 52.3 ms, total: 5.97 s"
       ]
      },
      {
       "output_type": "stream",
       "stream": "stderr",
       "text": [
        "WARNING:gensim.models.ldamodel:too few updates, training might not converge; consider increasing the number of passes or iterations to improve accuracy\n"
       ]
      },
      {
       "output_type": "stream",
       "stream": "stdout",
       "text": [
        "\n",
        "Wall time: 6.17 s\n",
        "CPU times: user 6.71 s, sys: 24.1 ms, total: 6.73 s"
       ]
      },
      {
       "output_type": "stream",
       "stream": "stderr",
       "text": [
        "WARNING:gensim.models.ldamodel:too few updates, training might not converge; consider increasing the number of passes or iterations to improve accuracy\n"
       ]
      },
      {
       "output_type": "stream",
       "stream": "stdout",
       "text": [
        "\n",
        "Wall time: 6.75 s\n",
        "CPU times: user 5.01 s, sys: 26.5 ms, total: 5.04 s"
       ]
      },
      {
       "output_type": "stream",
       "stream": "stderr",
       "text": [
        "WARNING:gensim.models.ldamodel:too few updates, training might not converge; consider increasing the number of passes or iterations to improve accuracy\n"
       ]
      },
      {
       "output_type": "stream",
       "stream": "stdout",
       "text": [
        "\n",
        "Wall time: 5.08 s\n",
        "CPU times: user 5.23 s, sys: 35.7 ms, total: 5.27 s"
       ]
      },
      {
       "output_type": "stream",
       "stream": "stderr",
       "text": [
        "WARNING:gensim.models.ldamodel:too few updates, training might not converge; consider increasing the number of passes or iterations to improve accuracy\n"
       ]
      },
      {
       "output_type": "stream",
       "stream": "stdout",
       "text": [
        "\n",
        "Wall time: 5.27 s\n",
        "CPU times: user 3.77 s, sys: 17 ms, total: 3.79 s"
       ]
      },
      {
       "output_type": "stream",
       "stream": "stderr",
       "text": [
        "WARNING:gensim.models.ldamodel:too few updates, training might not converge; consider increasing the number of passes or iterations to improve accuracy\n"
       ]
      },
      {
       "output_type": "stream",
       "stream": "stdout",
       "text": [
        "\n",
        "Wall time: 3.8 s\n",
        "CPU times: user 3.39 s, sys: 34.5 ms, total: 3.42 s"
       ]
      },
      {
       "output_type": "stream",
       "stream": "stderr",
       "text": [
        "WARNING:gensim.models.ldamodel:too few updates, training might not converge; consider increasing the number of passes or iterations to improve accuracy\n"
       ]
      },
      {
       "output_type": "stream",
       "stream": "stdout",
       "text": [
        "\n",
        "Wall time: 3.43 s\n",
        "CPU times: user 3.27 s, sys: 25.8 ms, total: 3.3 s"
       ]
      },
      {
       "output_type": "stream",
       "stream": "stderr",
       "text": [
        "WARNING:gensim.models.ldamodel:too few updates, training might not converge; consider increasing the number of passes or iterations to improve accuracy\n"
       ]
      },
      {
       "output_type": "stream",
       "stream": "stdout",
       "text": [
        "\n",
        "Wall time: 3.36 s\n",
        "CPU times: user 23.1 s, sys: 123 ms, total: 23.2 s"
       ]
      },
      {
       "output_type": "stream",
       "stream": "stderr",
       "text": [
        "WARNING:gensim.models.ldamodel:too few updates, training might not converge; consider increasing the number of passes or iterations to improve accuracy\n"
       ]
      },
      {
       "output_type": "stream",
       "stream": "stdout",
       "text": [
        "\n",
        "Wall time: 23.5 s\n",
        "CPU times: user 6.35 s, sys: 72.2 ms, total: 6.42 s"
       ]
      },
      {
       "output_type": "stream",
       "stream": "stderr",
       "text": [
        "WARNING:gensim.models.ldamodel:too few updates, training might not converge; consider increasing the number of passes or iterations to improve accuracy\n"
       ]
      },
      {
       "output_type": "stream",
       "stream": "stdout",
       "text": [
        "\n",
        "Wall time: 6.88 s\n",
        "CPU times: user 4.79 s, sys: 68.9 ms, total: 4.85 s"
       ]
      },
      {
       "output_type": "stream",
       "stream": "stderr",
       "text": [
        "WARNING:gensim.models.ldamodel:too few updates, training might not converge; consider increasing the number of passes or iterations to improve accuracy\n"
       ]
      },
      {
       "output_type": "stream",
       "stream": "stdout",
       "text": [
        "\n",
        "Wall time: 5.42 s\n",
        "CPU times: user 4.26 s, sys: 43.8 ms, total: 4.31 s"
       ]
      },
      {
       "output_type": "stream",
       "stream": "stderr",
       "text": [
        "WARNING:gensim.models.ldamodel:too few updates, training might not converge; consider increasing the number of passes or iterations to improve accuracy\n"
       ]
      },
      {
       "output_type": "stream",
       "stream": "stdout",
       "text": [
        "\n",
        "Wall time: 4.44 s\n",
        "CPU times: user 3.21 s, sys: 46.8 ms, total: 3.26 s"
       ]
      },
      {
       "output_type": "stream",
       "stream": "stdout",
       "text": [
        "\n",
        "Wall time: 3.6 s\n"
       ]
      },
      {
       "metadata": {},
       "output_type": "pyout",
       "prompt_number": 41,
       "text": [
        "[(4.0, 4.5),\n",
        " (4.0, 4.5),\n",
        " (4.0, 4.0),\n",
        " (4.0, 4.0),\n",
        " (3.5, 4.0),\n",
        " (3.5, 3.5),\n",
        " (2.5, 3.5),\n",
        " (4.0, 4.5),\n",
        " (2.5, 3.5),\n",
        " (2.5, 3.0),\n",
        " (4.0, 3.5),\n",
        " (4.0, 4.5),\n",
        " (3.5, 4.0),\n",
        " (3.5, 3.5),\n",
        " (3.0, 3.5),\n",
        " (3.5, 4.0),\n",
        " (3.0, 4.0),\n",
        " (4.5, 4.0),\n",
        " (3.5, 3.5),\n",
        " (4.0, 4.0)]"
       ]
      }
     ],
     "prompt_number": 41
    },
    {
     "cell_type": "code",
     "collapsed": false,
     "input": [
      "# Calculate total error\n",
      "error = 0.0\n",
      "for prediction in predictions:\n",
      "    error += abs(prediction[0] - prediction[1]) / prediction[1]\n",
      "    \n",
      "print \"Total error: {}%\".format(error / len(predictions) * 100)"
     ],
     "language": "python",
     "metadata": {},
     "outputs": [
      {
       "output_type": "stream",
       "stream": "stdout",
       "text": [
        "Total error: 11.0912698413%\n"
       ]
      }
     ],
     "prompt_number": 42
    },
    {
     "cell_type": "code",
     "collapsed": false,
     "input": [
      "# Let's test across different ratings\n",
      "stars = [1, 1.5, 2, 2.5, 3, 3.5, 4, 4.5, 5]\n",
      "test_size = 10\n",
      "\n",
      "errors = []\n",
      "for star in stars:\n",
      "    print \"star rating {}\".format(star)\n",
      "    \n",
      "    data = data_restaurants[data_restaurants['stars'] == star]['business_id']\n",
      "    print \"Number of restaurants available: {}\".format(len(data))\n",
      "\n",
      "    test = data.head(test_size)\n",
      "    for restaurant in test:\n",
      "        reviews = restaurant_reviews[restaurant_reviews['business_id'] == restaurant]\n",
      "        print \"Restaurant {} has {} reviews.\".format(restaurant, len(reviews))\n",
      "        \n",
      "    # Predict ratings for test set\n",
      "    predictions = []\n",
      "    for restaurant in test:\n",
      "        %time predictions.append(predictRating(restaurant))\n",
      "    \n",
      "    # Calculate total error\n",
      "    error = 0.0\n",
      "    for prediction in predictions:\n",
      "        error += abs(prediction[0] - prediction[1]) / prediction[1]\n",
      "\n",
      "    percent = (error / len(predictions) * 100)\n",
      "    errors.append([star, percent])"
     ],
     "language": "python",
     "metadata": {},
     "outputs": [
      {
       "output_type": "stream",
       "stream": "stdout",
       "text": [
        "star rating 1\n",
        "Number of restaurants available: 88\n",
        "Restaurant -sV52FN-D-I808tyRPEvwg has 18 reviews."
       ]
      },
      {
       "output_type": "stream",
       "stream": "stdout",
       "text": [
        "\n",
        "Restaurant JcWk6o9gGXeNk6EamLoA6w has 13 reviews."
       ]
      },
      {
       "output_type": "stream",
       "stream": "stdout",
       "text": [
        "\n",
        "Restaurant AAkqVCuUGIP0gvY42_CRYA has 12 reviews."
       ]
      },
      {
       "output_type": "stream",
       "stream": "stdout",
       "text": [
        "\n",
        "Restaurant RR7nf12D8cOkNi6HQAQbBA has 10 reviews."
       ]
      },
      {
       "output_type": "stream",
       "stream": "stdout",
       "text": [
        "\n",
        "Restaurant eQdQYR5hvMLiYDF41lOtCw has 9 reviews."
       ]
      },
      {
       "output_type": "stream",
       "stream": "stdout",
       "text": [
        "\n",
        "Restaurant uWcNxbYw4mxf12QfWXyuDg has 7 reviews."
       ]
      },
      {
       "output_type": "stream",
       "stream": "stdout",
       "text": [
        "\n",
        "Restaurant PBToP8q81MezfE7LfJzEgA has 6 reviews."
       ]
      },
      {
       "output_type": "stream",
       "stream": "stdout",
       "text": [
        "\n",
        "Restaurant BrTeICW0znNrZRFO60wuBA has 7 reviews."
       ]
      },
      {
       "output_type": "stream",
       "stream": "stdout",
       "text": [
        "\n",
        "Restaurant UARN2BF_4ijjkB_YEYA8sw has 6 reviews."
       ]
      },
      {
       "output_type": "stream",
       "stream": "stdout",
       "text": [
        "\n",
        "Restaurant N2Q9-LaYbMzFJJI5NmZdyw has 4 reviews."
       ]
      },
      {
       "output_type": "stream",
       "stream": "stderr",
       "text": [
        "WARNING:gensim.models.ldamodel:too few updates, training might not converge; consider increasing the number of passes or iterations to improve accuracy\n"
       ]
      },
      {
       "output_type": "stream",
       "stream": "stdout",
       "text": [
        "\n",
        "CPU times: user 306 ms, sys: 3.66 ms, total: 309 ms"
       ]
      },
      {
       "output_type": "stream",
       "stream": "stderr",
       "text": [
        "WARNING:gensim.models.ldamodel:too few updates, training might not converge; consider increasing the number of passes or iterations to improve accuracy\n"
       ]
      },
      {
       "output_type": "stream",
       "stream": "stdout",
       "text": [
        "\n",
        "Wall time: 311 ms\n",
        "CPU times: user 249 ms, sys: 2.7 ms, total: 251 ms"
       ]
      },
      {
       "output_type": "stream",
       "stream": "stderr",
       "text": [
        "WARNING:gensim.models.ldamodel:too few updates, training might not converge; consider increasing the number of passes or iterations to improve accuracy\n"
       ]
      },
      {
       "output_type": "stream",
       "stream": "stdout",
       "text": [
        "\n",
        "Wall time: 252 ms\n",
        "CPU times: user 166 ms, sys: 2.38 ms, total: 168 ms"
       ]
      },
      {
       "output_type": "stream",
       "stream": "stderr",
       "text": [
        "WARNING:gensim.models.ldamodel:too few updates, training might not converge; consider increasing the number of passes or iterations to improve accuracy\n"
       ]
      },
      {
       "output_type": "stream",
       "stream": "stdout",
       "text": [
        "\n",
        "Wall time: 168 ms\n",
        "CPU times: user 202 ms, sys: 3 ms, total: 205 ms"
       ]
      },
      {
       "output_type": "stream",
       "stream": "stderr",
       "text": [
        "WARNING:gensim.models.ldamodel:too few updates, training might not converge; consider increasing the number of passes or iterations to improve accuracy\n"
       ]
      },
      {
       "output_type": "stream",
       "stream": "stdout",
       "text": [
        "\n",
        "Wall time: 208 ms\n",
        "CPU times: user 153 ms, sys: 3.35 ms, total: 157 ms"
       ]
      },
      {
       "output_type": "stream",
       "stream": "stderr",
       "text": [
        "WARNING:gensim.models.ldamodel:too few updates, training might not converge; consider increasing the number of passes or iterations to improve accuracy\n"
       ]
      },
      {
       "output_type": "stream",
       "stream": "stdout",
       "text": [
        "\n",
        "Wall time: 160 ms\n",
        "CPU times: user 153 ms, sys: 3.56 ms, total: 157 ms"
       ]
      },
      {
       "output_type": "stream",
       "stream": "stderr",
       "text": [
        "WARNING:gensim.models.ldamodel:too few updates, training might not converge; consider increasing the number of passes or iterations to improve accuracy\n"
       ]
      },
      {
       "output_type": "stream",
       "stream": "stdout",
       "text": [
        "\n",
        "Wall time: 159 ms\n",
        "CPU times: user 157 ms, sys: 3.58 ms, total: 161 ms"
       ]
      },
      {
       "output_type": "stream",
       "stream": "stderr",
       "text": [
        "WARNING:gensim.models.ldamodel:too few updates, training might not converge; consider increasing the number of passes or iterations to improve accuracy\n"
       ]
      },
      {
       "output_type": "stream",
       "stream": "stdout",
       "text": [
        "\n",
        "Wall time: 163 ms\n",
        "CPU times: user 166 ms, sys: 4.27 ms, total: 170 ms"
       ]
      },
      {
       "output_type": "stream",
       "stream": "stderr",
       "text": [
        "WARNING:gensim.models.ldamodel:too few updates, training might not converge; consider increasing the number of passes or iterations to improve accuracy\n"
       ]
      },
      {
       "output_type": "stream",
       "stream": "stdout",
       "text": [
        "\n",
        "Wall time: 174 ms\n",
        "CPU times: user 171 ms, sys: 3.84 ms, total: 175 ms"
       ]
      },
      {
       "output_type": "stream",
       "stream": "stderr",
       "text": [
        "WARNING:gensim.models.ldamodel:too few updates, training might not converge; consider increasing the number of passes or iterations to improve accuracy\n"
       ]
      },
      {
       "output_type": "stream",
       "stream": "stdout",
       "text": [
        "\n",
        "Wall time: 182 ms\n",
        "CPU times: user 135 ms, sys: 3.62 ms, total: 139 ms"
       ]
      },
      {
       "output_type": "stream",
       "stream": "stdout",
       "text": [
        "\n",
        "Wall time: 142 ms\n",
        "star rating 1.5\n",
        "Number of restaurants available: 337\n",
        "Restaurant KVYSUfN89b-nih-_9HhF6g has 165 reviews."
       ]
      },
      {
       "output_type": "stream",
       "stream": "stdout",
       "text": [
        "\n",
        "Restaurant EF5vR_UUavzPjtgMYFCg5Q has 154 reviews."
       ]
      },
      {
       "output_type": "stream",
       "stream": "stdout",
       "text": [
        "\n",
        "Restaurant K5kU2IN6mXvMo-Cx0oQFZg has 98 reviews."
       ]
      },
      {
       "output_type": "stream",
       "stream": "stdout",
       "text": [
        "\n",
        "Restaurant PdZj1gylTC5AaTO21eOYcA has 76 reviews."
       ]
      },
      {
       "output_type": "stream",
       "stream": "stdout",
       "text": [
        "\n",
        "Restaurant CJ8IURVsHxTIu2Kzp2Kumw has 53 reviews."
       ]
      },
      {
       "output_type": "stream",
       "stream": "stdout",
       "text": [
        "\n",
        "Restaurant f2eVsiYVUuDKElCP_tMEcw has 37 reviews."
       ]
      },
      {
       "output_type": "stream",
       "stream": "stdout",
       "text": [
        "\n",
        "Restaurant dvjYiddhJ2HrosdSBAqngg has 28 reviews."
       ]
      },
      {
       "output_type": "stream",
       "stream": "stdout",
       "text": [
        "\n",
        "Restaurant 5PPZZq8-A96Fm3rZvP6fcQ has 27 reviews."
       ]
      },
      {
       "output_type": "stream",
       "stream": "stdout",
       "text": [
        "\n",
        "Restaurant 4wcDUnb2y2fW8sSzFd8EaQ has 28 reviews."
       ]
      },
      {
       "output_type": "stream",
       "stream": "stdout",
       "text": [
        "\n",
        "Restaurant VbiAfJRchFaMYdqylVJB4A has 24 reviews."
       ]
      },
      {
       "output_type": "stream",
       "stream": "stderr",
       "text": [
        "WARNING:gensim.models.ldamodel:too few updates, training might not converge; consider increasing the number of passes or iterations to improve accuracy\n"
       ]
      },
      {
       "output_type": "stream",
       "stream": "stdout",
       "text": [
        "\n",
        "CPU times: user 2.62 s, sys: 47.7 ms, total: 2.67 s"
       ]
      },
      {
       "output_type": "stream",
       "stream": "stderr",
       "text": [
        "WARNING:gensim.models.ldamodel:too few updates, training might not converge; consider increasing the number of passes or iterations to improve accuracy\n"
       ]
      },
      {
       "output_type": "stream",
       "stream": "stdout",
       "text": [
        "\n",
        "Wall time: 3.15 s\n",
        "CPU times: user 2.27 s, sys: 44.4 ms, total: 2.32 s"
       ]
      },
      {
       "output_type": "stream",
       "stream": "stderr",
       "text": [
        "WARNING:gensim.models.ldamodel:too few updates, training might not converge; consider increasing the number of passes or iterations to improve accuracy\n"
       ]
      },
      {
       "output_type": "stream",
       "stream": "stdout",
       "text": [
        "\n",
        "Wall time: 2.8 s\n",
        "CPU times: user 1.54 s, sys: 29.6 ms, total: 1.57 s"
       ]
      },
      {
       "output_type": "stream",
       "stream": "stderr",
       "text": [
        "WARNING:gensim.models.ldamodel:too few updates, training might not converge; consider increasing the number of passes or iterations to improve accuracy\n"
       ]
      },
      {
       "output_type": "stream",
       "stream": "stdout",
       "text": [
        "\n",
        "Wall time: 1.78 s\n",
        "CPU times: user 1.01 s, sys: 9.6 ms, total: 1.02 s"
       ]
      },
      {
       "output_type": "stream",
       "stream": "stderr",
       "text": [
        "WARNING:gensim.models.ldamodel:too few updates, training might not converge; consider increasing the number of passes or iterations to improve accuracy\n"
       ]
      },
      {
       "output_type": "stream",
       "stream": "stdout",
       "text": [
        "\n",
        "Wall time: 1.03 s\n",
        "CPU times: user 587 ms, sys: 4.23 ms, total: 591 ms"
       ]
      },
      {
       "output_type": "stream",
       "stream": "stderr",
       "text": [
        "WARNING:gensim.models.ldamodel:too few updates, training might not converge; consider increasing the number of passes or iterations to improve accuracy\n"
       ]
      },
      {
       "output_type": "stream",
       "stream": "stdout",
       "text": [
        "\n",
        "Wall time: 600 ms\n",
        "CPU times: user 422 ms, sys: 3.48 ms, total: 425 ms"
       ]
      },
      {
       "output_type": "stream",
       "stream": "stderr",
       "text": [
        "WARNING:gensim.models.ldamodel:too few updates, training might not converge; consider increasing the number of passes or iterations to improve accuracy\n"
       ]
      },
      {
       "output_type": "stream",
       "stream": "stdout",
       "text": [
        "\n",
        "Wall time: 427 ms\n",
        "CPU times: user 370 ms, sys: 4.78 ms, total: 375 ms"
       ]
      },
      {
       "output_type": "stream",
       "stream": "stderr",
       "text": [
        "WARNING:gensim.models.ldamodel:too few updates, training might not converge; consider increasing the number of passes or iterations to improve accuracy\n"
       ]
      },
      {
       "output_type": "stream",
       "stream": "stdout",
       "text": [
        "\n",
        "Wall time: 375 ms\n",
        "CPU times: user 376 ms, sys: 3.28 ms, total: 380 ms"
       ]
      },
      {
       "output_type": "stream",
       "stream": "stderr",
       "text": [
        "WARNING:gensim.models.ldamodel:too few updates, training might not converge; consider increasing the number of passes or iterations to improve accuracy\n"
       ]
      },
      {
       "output_type": "stream",
       "stream": "stdout",
       "text": [
        "\n",
        "Wall time: 382 ms\n",
        "CPU times: user 442 ms, sys: 3.65 ms, total: 446 ms"
       ]
      },
      {
       "output_type": "stream",
       "stream": "stderr",
       "text": [
        "WARNING:gensim.models.ldamodel:too few updates, training might not converge; consider increasing the number of passes or iterations to improve accuracy\n"
       ]
      },
      {
       "output_type": "stream",
       "stream": "stdout",
       "text": [
        "\n",
        "Wall time: 447 ms\n",
        "CPU times: user 335 ms, sys: 3.84 ms, total: 339 ms"
       ]
      },
      {
       "output_type": "stream",
       "stream": "stdout",
       "text": [
        "\n",
        "Wall time: 343 ms\n",
        "star rating 2\n",
        "Number of restaurants available: 853\n",
        "Restaurant 1ldDbggHHgPlj3k0SpBTKQ has 265 reviews."
       ]
      },
      {
       "output_type": "stream",
       "stream": "stdout",
       "text": [
        "\n",
        "Restaurant VdY6qe9afspFwsbzX1HsOQ has 262 reviews."
       ]
      },
      {
       "output_type": "stream",
       "stream": "stdout",
       "text": [
        "\n",
        "Restaurant a1t31qMLd5fQocEjbSJ61A has 233 reviews."
       ]
      },
      {
       "output_type": "stream",
       "stream": "stdout",
       "text": [
        "\n",
        "Restaurant hsTKn-6YSH3JsOSiYKGkwQ has 214 reviews."
       ]
      },
      {
       "output_type": "stream",
       "stream": "stdout",
       "text": [
        "\n",
        "Restaurant UuBZkKnckkRmYt3jFn2gaQ has 147 reviews."
       ]
      },
      {
       "output_type": "stream",
       "stream": "stdout",
       "text": [
        "\n",
        "Restaurant 0InQd9vuhRc98OksC3Ks8Q has 163 reviews."
       ]
      },
      {
       "output_type": "stream",
       "stream": "stdout",
       "text": [
        "\n",
        "Restaurant chudEeZo1SNr-0Mo9L2OgQ has 124 reviews."
       ]
      },
      {
       "output_type": "stream",
       "stream": "stdout",
       "text": [
        "\n",
        "Restaurant 66jI6z-JuLasvd692ymycg has 113 reviews."
       ]
      },
      {
       "output_type": "stream",
       "stream": "stdout",
       "text": [
        "\n",
        "Restaurant CfdCsVkzzM3uJKGRzA0ufA has 98 reviews."
       ]
      },
      {
       "output_type": "stream",
       "stream": "stdout",
       "text": [
        "\n",
        "Restaurant et-odMgalfrBGzhuMWoy3Q has 85 reviews."
       ]
      },
      {
       "output_type": "stream",
       "stream": "stderr",
       "text": [
        "WARNING:gensim.models.ldamodel:too few updates, training might not converge; consider increasing the number of passes or iterations to improve accuracy\n"
       ]
      },
      {
       "output_type": "stream",
       "stream": "stdout",
       "text": [
        "\n",
        "CPU times: user 3.1 s, sys: 13.7 ms, total: 3.11 s"
       ]
      },
      {
       "output_type": "stream",
       "stream": "stderr",
       "text": [
        "WARNING:gensim.models.ldamodel:too few updates, training might not converge; consider increasing the number of passes or iterations to improve accuracy\n"
       ]
      },
      {
       "output_type": "stream",
       "stream": "stdout",
       "text": [
        "\n",
        "Wall time: 3.13 s\n",
        "CPU times: user 3.11 s, sys: 24 ms, total: 3.13 s"
       ]
      },
      {
       "output_type": "stream",
       "stream": "stderr",
       "text": [
        "WARNING:gensim.models.ldamodel:too few updates, training might not converge; consider increasing the number of passes or iterations to improve accuracy\n"
       ]
      },
      {
       "output_type": "stream",
       "stream": "stdout",
       "text": [
        "\n",
        "Wall time: 3.27 s\n",
        "CPU times: user 3.21 s, sys: 43.6 ms, total: 3.25 s"
       ]
      },
      {
       "output_type": "stream",
       "stream": "stderr",
       "text": [
        "WARNING:gensim.models.ldamodel:too few updates, training might not converge; consider increasing the number of passes or iterations to improve accuracy\n"
       ]
      },
      {
       "output_type": "stream",
       "stream": "stdout",
       "text": [
        "\n",
        "Wall time: 3.59 s\n",
        "CPU times: user 2.99 s, sys: 51.2 ms, total: 3.05 s"
       ]
      },
      {
       "output_type": "stream",
       "stream": "stderr",
       "text": [
        "WARNING:gensim.models.ldamodel:too few updates, training might not converge; consider increasing the number of passes or iterations to improve accuracy\n"
       ]
      },
      {
       "output_type": "stream",
       "stream": "stdout",
       "text": [
        "\n",
        "Wall time: 3.64 s\n",
        "CPU times: user 1.74 s, sys: 9.07 ms, total: 1.75 s"
       ]
      },
      {
       "output_type": "stream",
       "stream": "stderr",
       "text": [
        "WARNING:gensim.models.ldamodel:too few updates, training might not converge; consider increasing the number of passes or iterations to improve accuracy\n"
       ]
      },
      {
       "output_type": "stream",
       "stream": "stdout",
       "text": [
        "\n",
        "Wall time: 1.76 s\n",
        "CPU times: user 1.93 s, sys: 8.05 ms, total: 1.93 s"
       ]
      },
      {
       "output_type": "stream",
       "stream": "stderr",
       "text": [
        "WARNING:gensim.models.ldamodel:too few updates, training might not converge; consider increasing the number of passes or iterations to improve accuracy\n"
       ]
      },
      {
       "output_type": "stream",
       "stream": "stdout",
       "text": [
        "\n",
        "Wall time: 1.94 s\n",
        "CPU times: user 1.38 s, sys: 6.76 ms, total: 1.38 s"
       ]
      },
      {
       "output_type": "stream",
       "stream": "stderr",
       "text": [
        "WARNING:gensim.models.ldamodel:too few updates, training might not converge; consider increasing the number of passes or iterations to improve accuracy\n"
       ]
      },
      {
       "output_type": "stream",
       "stream": "stdout",
       "text": [
        "\n",
        "Wall time: 1.39 s\n",
        "CPU times: user 1.37 s, sys: 7.67 ms, total: 1.38 s"
       ]
      },
      {
       "output_type": "stream",
       "stream": "stderr",
       "text": [
        "WARNING:gensim.models.ldamodel:too few updates, training might not converge; consider increasing the number of passes or iterations to improve accuracy\n"
       ]
      },
      {
       "output_type": "stream",
       "stream": "stdout",
       "text": [
        "\n",
        "Wall time: 1.38 s\n",
        "CPU times: user 1.1 s, sys: 6.13 ms, total: 1.1 s"
       ]
      },
      {
       "output_type": "stream",
       "stream": "stderr",
       "text": [
        "WARNING:gensim.models.ldamodel:too few updates, training might not converge; consider increasing the number of passes or iterations to improve accuracy\n"
       ]
      },
      {
       "output_type": "stream",
       "stream": "stdout",
       "text": [
        "\n",
        "Wall time: 1.11 s\n",
        "CPU times: user 783 ms, sys: 5.76 ms, total: 789 ms"
       ]
      },
      {
       "output_type": "stream",
       "stream": "stdout",
       "text": [
        "\n",
        "Wall time: 792 ms\n",
        "star rating 2.5\n",
        "Number of restaurants available: 2108\n",
        "Restaurant KJnVuzpveyDrHARVNZaYVg has 724 reviews."
       ]
      },
      {
       "output_type": "stream",
       "stream": "stdout",
       "text": [
        "\n",
        "Restaurant Zf7fMSe7yuW727JyikdBsg has 661 reviews."
       ]
      },
      {
       "output_type": "stream",
       "stream": "stdout",
       "text": [
        "\n",
        "Restaurant c12WDNrP2wyQgbnEYDdxCw has 479 reviews."
       ]
      },
      {
       "output_type": "stream",
       "stream": "stdout",
       "text": [
        "\n",
        "Restaurant bCRrLdBLel3y73tA8w6C3Q has 387 reviews."
       ]
      },
      {
       "output_type": "stream",
       "stream": "stdout",
       "text": [
        "\n",
        "Restaurant bGj9djLAHjNR55OXsIDrAg has 372 reviews."
       ]
      },
      {
       "output_type": "stream",
       "stream": "stdout",
       "text": [
        "\n",
        "Restaurant _xmJB767rROtAy6XepMlkQ has 371 reviews."
       ]
      },
      {
       "output_type": "stream",
       "stream": "stdout",
       "text": [
        "\n",
        "Restaurant sxRI0je6hAR-MeBDxdyhug has 339 reviews."
       ]
      },
      {
       "output_type": "stream",
       "stream": "stdout",
       "text": [
        "\n",
        "Restaurant j2KCZNlWnu-L4j0yJ3zAHA has 315 reviews."
       ]
      },
      {
       "output_type": "stream",
       "stream": "stdout",
       "text": [
        "\n",
        "Restaurant vW4G1hwiW6LkuhAfbeRfqg has 301 reviews."
       ]
      },
      {
       "output_type": "stream",
       "stream": "stdout",
       "text": [
        "\n",
        "Restaurant mU57qypB4nLScxgowHNEUA has 249 reviews."
       ]
      },
      {
       "output_type": "stream",
       "stream": "stderr",
       "text": [
        "WARNING:gensim.models.ldamodel:too few updates, training might not converge; consider increasing the number of passes or iterations to improve accuracy\n"
       ]
      },
      {
       "output_type": "stream",
       "stream": "stdout",
       "text": [
        "\n",
        "CPU times: user 10.1 s, sys: 40.9 ms, total: 10.1 s"
       ]
      },
      {
       "output_type": "stream",
       "stream": "stderr",
       "text": [
        "WARNING:gensim.models.ldamodel:too few updates, training might not converge; consider increasing the number of passes or iterations to improve accuracy\n"
       ]
      },
      {
       "output_type": "stream",
       "stream": "stdout",
       "text": [
        "\n",
        "Wall time: 10.2 s\n",
        "CPU times: user 9.31 s, sys: 30.2 ms, total: 9.34 s"
       ]
      },
      {
       "output_type": "stream",
       "stream": "stderr",
       "text": [
        "WARNING:gensim.models.ldamodel:too few updates, training might not converge; consider increasing the number of passes or iterations to improve accuracy\n"
       ]
      },
      {
       "output_type": "stream",
       "stream": "stdout",
       "text": [
        "\n",
        "Wall time: 9.38 s\n",
        "CPU times: user 4.75 s, sys: 20.9 ms, total: 4.78 s"
       ]
      },
      {
       "output_type": "stream",
       "stream": "stderr",
       "text": [
        "WARNING:gensim.models.ldamodel:too few updates, training might not converge; consider increasing the number of passes or iterations to improve accuracy\n"
       ]
      },
      {
       "output_type": "stream",
       "stream": "stdout",
       "text": [
        "\n",
        "Wall time: 4.79 s\n",
        "CPU times: user 4.79 s, sys: 17.2 ms, total: 4.8 s"
       ]
      },
      {
       "output_type": "stream",
       "stream": "stderr",
       "text": [
        "WARNING:gensim.models.ldamodel:too few updates, training might not converge; consider increasing the number of passes or iterations to improve accuracy\n"
       ]
      },
      {
       "output_type": "stream",
       "stream": "stdout",
       "text": [
        "\n",
        "Wall time: 4.83 s\n",
        "CPU times: user 4.4 s, sys: 19.1 ms, total: 4.42 s"
       ]
      },
      {
       "output_type": "stream",
       "stream": "stderr",
       "text": [
        "WARNING:gensim.models.ldamodel:too few updates, training might not converge; consider increasing the number of passes or iterations to improve accuracy\n"
       ]
      },
      {
       "output_type": "stream",
       "stream": "stdout",
       "text": [
        "\n",
        "Wall time: 4.45 s\n",
        "CPU times: user 4.31 s, sys: 15.9 ms, total: 4.32 s"
       ]
      },
      {
       "output_type": "stream",
       "stream": "stderr",
       "text": [
        "WARNING:gensim.models.ldamodel:too few updates, training might not converge; consider increasing the number of passes or iterations to improve accuracy\n"
       ]
      },
      {
       "output_type": "stream",
       "stream": "stdout",
       "text": [
        "\n",
        "Wall time: 4.34 s\n",
        "CPU times: user 3.85 s, sys: 18.6 ms, total: 3.87 s"
       ]
      },
      {
       "output_type": "stream",
       "stream": "stderr",
       "text": [
        "WARNING:gensim.models.ldamodel:too few updates, training might not converge; consider increasing the number of passes or iterations to improve accuracy\n"
       ]
      },
      {
       "output_type": "stream",
       "stream": "stdout",
       "text": [
        "\n",
        "Wall time: 3.88 s\n",
        "CPU times: user 3.25 s, sys: 13.4 ms, total: 3.26 s"
       ]
      },
      {
       "output_type": "stream",
       "stream": "stderr",
       "text": [
        "WARNING:gensim.models.ldamodel:too few updates, training might not converge; consider increasing the number of passes or iterations to improve accuracy\n"
       ]
      },
      {
       "output_type": "stream",
       "stream": "stdout",
       "text": [
        "\n",
        "Wall time: 3.29 s\n",
        "CPU times: user 3.61 s, sys: 21.2 ms, total: 3.63 s"
       ]
      },
      {
       "output_type": "stream",
       "stream": "stderr",
       "text": [
        "WARNING:gensim.models.ldamodel:too few updates, training might not converge; consider increasing the number of passes or iterations to improve accuracy\n"
       ]
      },
      {
       "output_type": "stream",
       "stream": "stdout",
       "text": [
        "\n",
        "Wall time: 3.64 s\n",
        "CPU times: user 2.54 s, sys: 12.5 ms, total: 2.55 s"
       ]
      },
      {
       "output_type": "stream",
       "stream": "stdout",
       "text": [
        "\n",
        "Wall time: 2.58 s\n",
        "star rating 3\n",
        "Number of restaurants available: 3939\n",
        "Restaurant Xhg93cMdemu5pAMkDoEdtQ has 2675 reviews."
       ]
      },
      {
       "output_type": "stream",
       "stream": "stdout",
       "text": [
        "\n",
        "Restaurant SLyacGZuMUKqrQJEooSkjw has 1032 reviews."
       ]
      },
      {
       "output_type": "stream",
       "stream": "stdout",
       "text": [
        "\n",
        "Restaurant zTCCbg7mGslxACL5KlAPIQ has 987 reviews."
       ]
      },
      {
       "output_type": "stream",
       "stream": "stdout",
       "text": [
        "\n",
        "Restaurant cMvN1j-LK64zqmT4vnl8NA has 755 reviews."
       ]
      },
      {
       "output_type": "stream",
       "stream": "stdout",
       "text": [
        "\n",
        "Restaurant KcSJUq1kwO8awZRMS6Q49g has 656 reviews."
       ]
      },
      {
       "output_type": "stream",
       "stream": "stdout",
       "text": [
        "\n",
        "Restaurant nZgYNbl1XlZyyKlISMoG6w has 671 reviews."
       ]
      },
      {
       "output_type": "stream",
       "stream": "stdout",
       "text": [
        "\n",
        "Restaurant b25jGkZerj2M4WAy95n1Tg has 586 reviews."
       ]
      },
      {
       "output_type": "stream",
       "stream": "stdout",
       "text": [
        "\n",
        "Restaurant yJDSMugu_Pom3pJE8MRrJA has 596 reviews."
       ]
      },
      {
       "output_type": "stream",
       "stream": "stdout",
       "text": [
        "\n",
        "Restaurant J4qLz0nGzCTMf6-kf_SiQg has 566 reviews."
       ]
      },
      {
       "output_type": "stream",
       "stream": "stdout",
       "text": [
        "\n",
        "Restaurant Gn7bMxhZgY0bivsthvJWJQ has 531 reviews."
       ]
      },
      {
       "output_type": "stream",
       "stream": "stderr",
       "text": [
        "WARNING:gensim.models.ldamodel:too few updates, training might not converge; consider increasing the number of passes or iterations to improve accuracy\n"
       ]
      },
      {
       "output_type": "stream",
       "stream": "stdout",
       "text": [
        "\n",
        "CPU times: user 38.6 s, sys: 256 ms, total: 38.9 s"
       ]
      },
      {
       "output_type": "stream",
       "stream": "stderr",
       "text": [
        "WARNING:gensim.models.ldamodel:too few updates, training might not converge; consider increasing the number of passes or iterations to improve accuracy\n"
       ]
      },
      {
       "output_type": "stream",
       "stream": "stdout",
       "text": [
        "\n",
        "Wall time: 40.2 s\n",
        "CPU times: user 12.7 s, sys: 66 ms, total: 12.8 s"
       ]
      },
      {
       "output_type": "stream",
       "stream": "stderr",
       "text": [
        "WARNING:gensim.models.ldamodel:too few updates, training might not converge; consider increasing the number of passes or iterations to improve accuracy\n"
       ]
      },
      {
       "output_type": "stream",
       "stream": "stdout",
       "text": [
        "\n",
        "Wall time: 12.8 s\n",
        "CPU times: user 13.3 s, sys: 51.6 ms, total: 13.3 s"
       ]
      },
      {
       "output_type": "stream",
       "stream": "stderr",
       "text": [
        "WARNING:gensim.models.ldamodel:too few updates, training might not converge; consider increasing the number of passes or iterations to improve accuracy\n"
       ]
      },
      {
       "output_type": "stream",
       "stream": "stdout",
       "text": [
        "\n",
        "Wall time: 13.4 s\n",
        "CPU times: user 10.9 s, sys: 51.1 ms, total: 11 s"
       ]
      },
      {
       "output_type": "stream",
       "stream": "stderr",
       "text": [
        "WARNING:gensim.models.ldamodel:too few updates, training might not converge; consider increasing the number of passes or iterations to improve accuracy\n"
       ]
      },
      {
       "output_type": "stream",
       "stream": "stdout",
       "text": [
        "\n",
        "Wall time: 11 s\n",
        "CPU times: user 6.81 s, sys: 38.9 ms, total: 6.85 s"
       ]
      },
      {
       "output_type": "stream",
       "stream": "stderr",
       "text": [
        "WARNING:gensim.models.ldamodel:too few updates, training might not converge; consider increasing the number of passes or iterations to improve accuracy\n"
       ]
      },
      {
       "output_type": "stream",
       "stream": "stdout",
       "text": [
        "\n",
        "Wall time: 6.86 s\n",
        "CPU times: user 8.81 s, sys: 56.1 ms, total: 8.87 s"
       ]
      },
      {
       "output_type": "stream",
       "stream": "stderr",
       "text": [
        "WARNING:gensim.models.ldamodel:too few updates, training might not converge; consider increasing the number of passes or iterations to improve accuracy\n"
       ]
      },
      {
       "output_type": "stream",
       "stream": "stdout",
       "text": [
        "\n",
        "Wall time: 8.87 s\n",
        "CPU times: user 7.27 s, sys: 29 ms, total: 7.3 s"
       ]
      },
      {
       "output_type": "stream",
       "stream": "stderr",
       "text": [
        "WARNING:gensim.models.ldamodel:too few updates, training might not converge; consider increasing the number of passes or iterations to improve accuracy\n"
       ]
      },
      {
       "output_type": "stream",
       "stream": "stdout",
       "text": [
        "\n",
        "Wall time: 7.32 s\n",
        "CPU times: user 6.48 s, sys: 38.4 ms, total: 6.51 s"
       ]
      },
      {
       "output_type": "stream",
       "stream": "stderr",
       "text": [
        "WARNING:gensim.models.ldamodel:too few updates, training might not converge; consider increasing the number of passes or iterations to improve accuracy\n"
       ]
      },
      {
       "output_type": "stream",
       "stream": "stdout",
       "text": [
        "\n",
        "Wall time: 6.53 s\n",
        "CPU times: user 6.41 s, sys: 21.9 ms, total: 6.43 s"
       ]
      },
      {
       "output_type": "stream",
       "stream": "stderr",
       "text": [
        "WARNING:gensim.models.ldamodel:too few updates, training might not converge; consider increasing the number of passes or iterations to improve accuracy\n"
       ]
      },
      {
       "output_type": "stream",
       "stream": "stdout",
       "text": [
        "\n",
        "Wall time: 6.46 s\n",
        "CPU times: user 6.07 s, sys: 20.8 ms, total: 6.1 s"
       ]
      },
      {
       "output_type": "stream",
       "stream": "stdout",
       "text": [
        "\n",
        "Wall time: 6.12 s\n",
        "star rating 3.5\n",
        "Number of restaurants available: 6048\n",
        "Restaurant zt1TpTuJ6y9n551sw9TaEg has 3352 reviews."
       ]
      },
      {
       "output_type": "stream",
       "stream": "stdout",
       "text": [
        "\n",
        "Restaurant YNQgak-ZLtYJQxlDwN-qIg has 2619 reviews."
       ]
      },
      {
       "output_type": "stream",
       "stream": "stdout",
       "text": [
        "\n",
        "Restaurant CZjcFdvJhksq9dy58NVEzw has 2252 reviews."
       ]
      },
      {
       "output_type": "stream",
       "stream": "stdout",
       "text": [
        "\n",
        "Restaurant FV16IeXJp2W6pnghTz2FAw has 1374 reviews."
       ]
      },
      {
       "output_type": "stream",
       "stream": "stdout",
       "text": [
        "\n",
        "Restaurant rBPQuQgTcMtUq5-RYhY2uQ has 1256 reviews."
       ]
      },
      {
       "output_type": "stream",
       "stream": "stdout",
       "text": [
        "\n",
        "Restaurant ngNvH4sxnH9aMukTZ67R_Q has 1052 reviews."
       ]
      },
      {
       "output_type": "stream",
       "stream": "stdout",
       "text": [
        "\n",
        "Restaurant 5GKbGn9-fAgQ0njSh3OJ8A has 980 reviews."
       ]
      },
      {
       "output_type": "stream",
       "stream": "stdout",
       "text": [
        "\n",
        "Restaurant vSf0pqvaLp5sVSjJPeOqqQ has 836 reviews."
       ]
      },
      {
       "output_type": "stream",
       "stream": "stdout",
       "text": [
        "\n",
        "Restaurant 3fV9sL5LklD9ZSeONKmjkw has 807 reviews."
       ]
      },
      {
       "output_type": "stream",
       "stream": "stdout",
       "text": [
        "\n",
        "Restaurant gGeVLZ9j_wAYKbaqgnKSJA has 791 reviews."
       ]
      },
      {
       "output_type": "stream",
       "stream": "stderr",
       "text": [
        "WARNING:gensim.models.ldamodel:too few updates, training might not converge; consider increasing the number of passes or iterations to improve accuracy\n"
       ]
      },
      {
       "output_type": "stream",
       "stream": "stdout",
       "text": [
        "\n",
        "CPU times: user 48.9 s, sys: 188 ms, total: 49.1 s"
       ]
      },
      {
       "output_type": "stream",
       "stream": "stderr",
       "text": [
        "WARNING:gensim.models.ldamodel:too few updates, training might not converge; consider increasing the number of passes or iterations to improve accuracy\n"
       ]
      },
      {
       "output_type": "stream",
       "stream": "stdout",
       "text": [
        "\n",
        "Wall time: 49.3 s\n",
        "CPU times: user 36 s, sys: 130 ms, total: 36.1 s"
       ]
      },
      {
       "output_type": "stream",
       "stream": "stderr",
       "text": [
        "WARNING:gensim.models.ldamodel:too few updates, training might not converge; consider increasing the number of passes or iterations to improve accuracy\n"
       ]
      },
      {
       "output_type": "stream",
       "stream": "stdout",
       "text": [
        "\n",
        "Wall time: 36.2 s\n",
        "CPU times: user 28 s, sys: 109 ms, total: 28.1 s"
       ]
      },
      {
       "output_type": "stream",
       "stream": "stderr",
       "text": [
        "WARNING:gensim.models.ldamodel:too few updates, training might not converge; consider increasing the number of passes or iterations to improve accuracy\n"
       ]
      },
      {
       "output_type": "stream",
       "stream": "stdout",
       "text": [
        "\n",
        "Wall time: 28.2 s\n",
        "CPU times: user 14.6 s, sys: 56 ms, total: 14.7 s"
       ]
      },
      {
       "output_type": "stream",
       "stream": "stderr",
       "text": [
        "WARNING:gensim.models.ldamodel:too few updates, training might not converge; consider increasing the number of passes or iterations to improve accuracy\n"
       ]
      },
      {
       "output_type": "stream",
       "stream": "stdout",
       "text": [
        "\n",
        "Wall time: 14.7 s\n",
        "CPU times: user 14.9 s, sys: 68.5 ms, total: 15 s"
       ]
      },
      {
       "output_type": "stream",
       "stream": "stderr",
       "text": [
        "WARNING:gensim.models.ldamodel:too few updates, training might not converge; consider increasing the number of passes or iterations to improve accuracy\n"
       ]
      },
      {
       "output_type": "stream",
       "stream": "stdout",
       "text": [
        "\n",
        "Wall time: 15 s\n",
        "CPU times: user 13 s, sys: 54.7 ms, total: 13.1 s"
       ]
      },
      {
       "output_type": "stream",
       "stream": "stderr",
       "text": [
        "WARNING:gensim.models.ldamodel:too few updates, training might not converge; consider increasing the number of passes or iterations to improve accuracy\n"
       ]
      },
      {
       "output_type": "stream",
       "stream": "stdout",
       "text": [
        "\n",
        "Wall time: 13.1 s\n",
        "CPU times: user 12.9 s, sys: 43 ms, total: 12.9 s"
       ]
      },
      {
       "output_type": "stream",
       "stream": "stderr",
       "text": [
        "WARNING:gensim.models.ldamodel:too few updates, training might not converge; consider increasing the number of passes or iterations to improve accuracy\n"
       ]
      },
      {
       "output_type": "stream",
       "stream": "stdout",
       "text": [
        "\n",
        "Wall time: 13 s\n",
        "CPU times: user 10.6 s, sys: 36.9 ms, total: 10.7 s"
       ]
      },
      {
       "output_type": "stream",
       "stream": "stderr",
       "text": [
        "WARNING:gensim.models.ldamodel:too few updates, training might not converge; consider increasing the number of passes or iterations to improve accuracy\n"
       ]
      },
      {
       "output_type": "stream",
       "stream": "stdout",
       "text": [
        "\n",
        "Wall time: 10.7 s\n",
        "CPU times: user 11.2 s, sys: 150 ms, total: 11.4 s"
       ]
      },
      {
       "output_type": "stream",
       "stream": "stderr",
       "text": [
        "WARNING:gensim.models.ldamodel:too few updates, training might not converge; consider increasing the number of passes or iterations to improve accuracy\n"
       ]
      },
      {
       "output_type": "stream",
       "stream": "stdout",
       "text": [
        "\n",
        "Wall time: 12.5 s\n",
        "CPU times: user 14.1 s, sys: 201 ms, total: 14.3 s"
       ]
      },
      {
       "output_type": "stream",
       "stream": "stdout",
       "text": [
        "\n",
        "Wall time: 16.1 s\n",
        "star rating 4\n",
        "Number of restaurants available: 5768\n",
        "Restaurant 4bEjOyTaDG24SY5TxsaUNQ has 4137 reviews."
       ]
      },
      {
       "output_type": "stream",
       "stream": "stdout",
       "text": [
        "\n",
        "Restaurant sIyHTizqAiGu12XMLX3N3g has 2657 reviews."
       ]
      },
      {
       "output_type": "stream",
       "stream": "stdout",
       "text": [
        "\n",
        "Restaurant tFU2Js_nbIZOrnKfYJYBBg has 2337 reviews."
       ]
      },
      {
       "output_type": "stream",
       "stream": "stdout",
       "text": [
        "\n",
        "Restaurant aGbjLWzcrnEx2ZmMCFm3EA has 2269 reviews."
       ]
      },
      {
       "output_type": "stream",
       "stream": "stdout",
       "text": [
        "\n",
        "Restaurant xfwRO04KbAPw_zRotCfWQQ has 2200 reviews."
       ]
      },
      {
       "output_type": "stream",
       "stream": "stdout",
       "text": [
        "\n",
        "Restaurant DO3Gk17RyJVW7zYMCtYPnw has 1932 reviews."
       ]
      },
      {
       "output_type": "stream",
       "stream": "stdout",
       "text": [
        "\n",
        "Restaurant QbmcCE_cLq4WO8ZMKImaLw has 1894 reviews."
       ]
      },
      {
       "output_type": "stream",
       "stream": "stdout",
       "text": [
        "\n",
        "Restaurant eq6lQI039SBLC6sHm3idGA has 1831 reviews."
       ]
      },
      {
       "output_type": "stream",
       "stream": "stdout",
       "text": [
        "\n",
        "Restaurant lliksv-tglfUz1T3B3vgvA has 1879 reviews."
       ]
      },
      {
       "output_type": "stream",
       "stream": "stdout",
       "text": [
        "\n",
        "Restaurant xyTJYlbE_MLouK6rCou6zg has 1782 reviews."
       ]
      },
      {
       "output_type": "stream",
       "stream": "stderr",
       "text": [
        "WARNING:gensim.models.ldamodel:too few updates, training might not converge; consider increasing the number of passes or iterations to improve accuracy\n"
       ]
      },
      {
       "output_type": "stream",
       "stream": "stdout",
       "text": [
        "\n",
        "CPU times: user 27.7 s, sys: 304 ms, total: 28 s"
       ]
      },
      {
       "output_type": "stream",
       "stream": "stderr",
       "text": [
        "WARNING:gensim.models.ldamodel:too few updates, training might not converge; consider increasing the number of passes or iterations to improve accuracy\n"
       ]
      },
      {
       "output_type": "stream",
       "stream": "stdout",
       "text": [
        "\n",
        "Wall time: 29.7 s\n",
        "CPU times: user 45.5 s, sys: 198 ms, total: 45.7 s"
       ]
      },
      {
       "output_type": "stream",
       "stream": "stderr",
       "text": [
        "WARNING:gensim.models.ldamodel:too few updates, training might not converge; consider increasing the number of passes or iterations to improve accuracy\n"
       ]
      },
      {
       "output_type": "stream",
       "stream": "stdout",
       "text": [
        "\n",
        "Wall time: 45.9 s\n",
        "CPU times: user 36.6 s, sys: 151 ms, total: 36.8 s"
       ]
      },
      {
       "output_type": "stream",
       "stream": "stderr",
       "text": [
        "WARNING:gensim.models.ldamodel:too few updates, training might not converge; consider increasing the number of passes or iterations to improve accuracy\n"
       ]
      },
      {
       "output_type": "stream",
       "stream": "stdout",
       "text": [
        "\n",
        "Wall time: 36.9 s\n",
        "CPU times: user 34.1 s, sys: 138 ms, total: 34.2 s"
       ]
      },
      {
       "output_type": "stream",
       "stream": "stderr",
       "text": [
        "WARNING:gensim.models.ldamodel:too few updates, training might not converge; consider increasing the number of passes or iterations to improve accuracy\n"
       ]
      },
      {
       "output_type": "stream",
       "stream": "stdout",
       "text": [
        "\n",
        "Wall time: 34.3 s\n",
        "CPU times: user 29.6 s, sys: 106 ms, total: 29.8 s"
       ]
      },
      {
       "output_type": "stream",
       "stream": "stderr",
       "text": [
        "WARNING:gensim.models.ldamodel:too few updates, training might not converge; consider increasing the number of passes or iterations to improve accuracy\n"
       ]
      },
      {
       "output_type": "stream",
       "stream": "stdout",
       "text": [
        "\n",
        "Wall time: 29.9 s\n",
        "CPU times: user 30.5 s, sys: 137 ms, total: 30.6 s"
       ]
      },
      {
       "output_type": "stream",
       "stream": "stderr",
       "text": [
        "WARNING:gensim.models.ldamodel:too few updates, training might not converge; consider increasing the number of passes or iterations to improve accuracy\n"
       ]
      },
      {
       "output_type": "stream",
       "stream": "stdout",
       "text": [
        "\n",
        "Wall time: 30.7 s\n",
        "CPU times: user 25.7 s, sys: 117 ms, total: 25.9 s"
       ]
      },
      {
       "output_type": "stream",
       "stream": "stderr",
       "text": [
        "WARNING:gensim.models.ldamodel:too few updates, training might not converge; consider increasing the number of passes or iterations to improve accuracy\n"
       ]
      },
      {
       "output_type": "stream",
       "stream": "stdout",
       "text": [
        "\n",
        "Wall time: 25.9 s\n",
        "CPU times: user 20.8 s, sys: 89.5 ms, total: 20.9 s"
       ]
      },
      {
       "output_type": "stream",
       "stream": "stderr",
       "text": [
        "WARNING:gensim.models.ldamodel:too few updates, training might not converge; consider increasing the number of passes or iterations to improve accuracy\n"
       ]
      },
      {
       "output_type": "stream",
       "stream": "stdout",
       "text": [
        "\n",
        "Wall time: 21 s\n",
        "CPU times: user 26.4 s, sys: 120 ms, total: 26.6 s"
       ]
      },
      {
       "output_type": "stream",
       "stream": "stderr",
       "text": [
        "WARNING:gensim.models.ldamodel:too few updates, training might not converge; consider increasing the number of passes or iterations to improve accuracy\n"
       ]
      },
      {
       "output_type": "stream",
       "stream": "stdout",
       "text": [
        "\n",
        "Wall time: 26.6 s\n",
        "CPU times: user 25.2 s, sys: 244 ms, total: 25.5 s"
       ]
      },
      {
       "output_type": "stream",
       "stream": "stdout",
       "text": [
        "\n",
        "Wall time: 27.7 s\n",
        "star rating 4.5\n",
        "Number of restaurants available: 2362\n",
        "Restaurant 2e2e7WgqU1BnpxmQL5jbfw has 3517 reviews."
       ]
      },
      {
       "output_type": "stream",
       "stream": "stdout",
       "text": [
        "\n",
        "Restaurant 8buIr1zBCO7OEcAQSZko7w has 1225 reviews."
       ]
      },
      {
       "output_type": "stream",
       "stream": "stdout",
       "text": [
        "\n",
        "Restaurant JokKtdXU7zXHcr20Lrk29A has 1171 reviews."
       ]
      },
      {
       "output_type": "stream",
       "stream": "stdout",
       "text": [
        "\n",
        "Restaurant IRYj1b1-mlXqABVsl9SoqQ has 1115 reviews."
       ]
      },
      {
       "output_type": "stream",
       "stream": "stdout",
       "text": [
        "\n",
        "Restaurant V1nEpIRmEa1768oj_tuxeQ has 1100 reviews."
       ]
      },
      {
       "output_type": "stream",
       "stream": "stdout",
       "text": [
        "\n",
        "Restaurant RhbOa-Ft3sZB4B_1j5LfyA has 969 reviews."
       ]
      },
      {
       "output_type": "stream",
       "stream": "stdout",
       "text": [
        "\n",
        "Restaurant HyfFenprdpIA4rmKu6DW3g has 948 reviews."
       ]
      },
      {
       "output_type": "stream",
       "stream": "stdout",
       "text": [
        "\n",
        "Restaurant WNy1uzcmm_UHmTyR--o5IA has 967 reviews."
       ]
      },
      {
       "output_type": "stream",
       "stream": "stdout",
       "text": [
        "\n",
        "Restaurant 1yx2zLskVTe5WQdYjL2Apw has 915 reviews."
       ]
      },
      {
       "output_type": "stream",
       "stream": "stdout",
       "text": [
        "\n",
        "Restaurant SDwYQ6eSu1htn8vHWv128g has 934 reviews."
       ]
      },
      {
       "output_type": "stream",
       "stream": "stderr",
       "text": [
        "WARNING:gensim.models.ldamodel:too few updates, training might not converge; consider increasing the number of passes or iterations to improve accuracy\n"
       ]
      },
      {
       "output_type": "stream",
       "stream": "stdout",
       "text": [
        "\n",
        "CPU times: user 41.1 s, sys: 324 ms, total: 41.4 s"
       ]
      },
      {
       "output_type": "stream",
       "stream": "stderr",
       "text": [
        "WARNING:gensim.models.ldamodel:too few updates, training might not converge; consider increasing the number of passes or iterations to improve accuracy\n"
       ]
      },
      {
       "output_type": "stream",
       "stream": "stdout",
       "text": [
        "\n",
        "Wall time: 42.5 s\n",
        "CPU times: user 15.5 s, sys: 48.1 ms, total: 15.5 s"
       ]
      },
      {
       "output_type": "stream",
       "stream": "stderr",
       "text": [
        "WARNING:gensim.models.ldamodel:too few updates, training might not converge; consider increasing the number of passes or iterations to improve accuracy\n"
       ]
      },
      {
       "output_type": "stream",
       "stream": "stdout",
       "text": [
        "\n",
        "Wall time: 15.6 s\n",
        "CPU times: user 13.2 s, sys: 74.8 ms, total: 13.3 s"
       ]
      },
      {
       "output_type": "stream",
       "stream": "stderr",
       "text": [
        "WARNING:gensim.models.ldamodel:too few updates, training might not converge; consider increasing the number of passes or iterations to improve accuracy\n"
       ]
      },
      {
       "output_type": "stream",
       "stream": "stdout",
       "text": [
        "\n",
        "Wall time: 13.4 s\n",
        "CPU times: user 11.8 s, sys: 59.6 ms, total: 11.8 s"
       ]
      },
      {
       "output_type": "stream",
       "stream": "stderr",
       "text": [
        "WARNING:gensim.models.ldamodel:too few updates, training might not converge; consider increasing the number of passes or iterations to improve accuracy\n"
       ]
      },
      {
       "output_type": "stream",
       "stream": "stdout",
       "text": [
        "\n",
        "Wall time: 11.9 s\n",
        "CPU times: user 13.6 s, sys: 63.2 ms, total: 13.6 s"
       ]
      },
      {
       "output_type": "stream",
       "stream": "stderr",
       "text": [
        "WARNING:gensim.models.ldamodel:too few updates, training might not converge; consider increasing the number of passes or iterations to improve accuracy\n"
       ]
      },
      {
       "output_type": "stream",
       "stream": "stdout",
       "text": [
        "\n",
        "Wall time: 13.7 s\n",
        "CPU times: user 9.1 s, sys: 38 ms, total: 9.14 s"
       ]
      },
      {
       "output_type": "stream",
       "stream": "stderr",
       "text": [
        "WARNING:gensim.models.ldamodel:too few updates, training might not converge; consider increasing the number of passes or iterations to improve accuracy\n"
       ]
      },
      {
       "output_type": "stream",
       "stream": "stdout",
       "text": [
        "\n",
        "Wall time: 9.16 s\n",
        "CPU times: user 12.9 s, sys: 43 ms, total: 13 s"
       ]
      },
      {
       "output_type": "stream",
       "stream": "stderr",
       "text": [
        "WARNING:gensim.models.ldamodel:too few updates, training might not converge; consider increasing the number of passes or iterations to improve accuracy\n"
       ]
      },
      {
       "output_type": "stream",
       "stream": "stdout",
       "text": [
        "\n",
        "Wall time: 13 s\n",
        "CPU times: user 11.7 s, sys: 54.7 ms, total: 11.7 s"
       ]
      },
      {
       "output_type": "stream",
       "stream": "stderr",
       "text": [
        "WARNING:gensim.models.ldamodel:too few updates, training might not converge; consider increasing the number of passes or iterations to improve accuracy\n"
       ]
      },
      {
       "output_type": "stream",
       "stream": "stdout",
       "text": [
        "\n",
        "Wall time: 11.8 s\n",
        "CPU times: user 10.3 s, sys: 43.3 ms, total: 10.4 s"
       ]
      },
      {
       "output_type": "stream",
       "stream": "stderr",
       "text": [
        "WARNING:gensim.models.ldamodel:too few updates, training might not converge; consider increasing the number of passes or iterations to improve accuracy\n"
       ]
      },
      {
       "output_type": "stream",
       "stream": "stdout",
       "text": [
        "\n",
        "Wall time: 10.4 s\n",
        "CPU times: user 11 s, sys: 41.3 ms, total: 11 s"
       ]
      },
      {
       "output_type": "stream",
       "stream": "stdout",
       "text": [
        "\n",
        "Wall time: 11.1 s\n",
        "star rating 5\n",
        "Number of restaurants available: 389\n",
        "Restaurant rcCGdKxMPJk4lCzZZ1i_bA has 250 reviews."
       ]
      },
      {
       "output_type": "stream",
       "stream": "stdout",
       "text": [
        "\n",
        "Restaurant GmzpzmxinfLMw5OXQKFEBQ has 245 reviews."
       ]
      },
      {
       "output_type": "stream",
       "stream": "stdout",
       "text": [
        "\n",
        "Restaurant JXUX_oiCrfHm6b1sbqQd7A has 175 reviews."
       ]
      },
      {
       "output_type": "stream",
       "stream": "stdout",
       "text": [
        "\n",
        "Restaurant 8ktREOIxt3kRdJpJK7jpfA has 155 reviews."
       ]
      },
      {
       "output_type": "stream",
       "stream": "stdout",
       "text": [
        "\n",
        "Restaurant szcPQs5JVAl3iDvRBpvghQ has 124 reviews."
       ]
      },
      {
       "output_type": "stream",
       "stream": "stdout",
       "text": [
        "\n",
        "Restaurant UBDBDZxp1LuaHdFezDPQ_w has 87 reviews."
       ]
      },
      {
       "output_type": "stream",
       "stream": "stdout",
       "text": [
        "\n",
        "Restaurant rUfhe6qibE1W-80PqDHZCw has 83 reviews."
       ]
      },
      {
       "output_type": "stream",
       "stream": "stdout",
       "text": [
        "\n",
        "Restaurant DKBtVEVkLJmT25aMbcvTcA has 37 reviews."
       ]
      },
      {
       "output_type": "stream",
       "stream": "stdout",
       "text": [
        "\n",
        "Restaurant ikhwY-DfUBekgeaDygHpdA has 49 reviews."
       ]
      },
      {
       "output_type": "stream",
       "stream": "stdout",
       "text": [
        "\n",
        "Restaurant Pr3LIe9bCTfhk5_hBKMGog has 24 reviews."
       ]
      },
      {
       "output_type": "stream",
       "stream": "stderr",
       "text": [
        "WARNING:gensim.models.ldamodel:too few updates, training might not converge; consider increasing the number of passes or iterations to improve accuracy\n"
       ]
      },
      {
       "output_type": "stream",
       "stream": "stdout",
       "text": [
        "\n",
        "CPU times: user 2.93 s, sys: 13.3 ms, total: 2.95 s"
       ]
      },
      {
       "output_type": "stream",
       "stream": "stderr",
       "text": [
        "WARNING:gensim.models.ldamodel:too few updates, training might not converge; consider increasing the number of passes or iterations to improve accuracy\n"
       ]
      },
      {
       "output_type": "stream",
       "stream": "stdout",
       "text": [
        "\n",
        "Wall time: 2.96 s\n",
        "CPU times: user 3.23 s, sys: 15.4 ms, total: 3.25 s"
       ]
      },
      {
       "output_type": "stream",
       "stream": "stderr",
       "text": [
        "WARNING:gensim.models.ldamodel:too few updates, training might not converge; consider increasing the number of passes or iterations to improve accuracy\n"
       ]
      },
      {
       "output_type": "stream",
       "stream": "stdout",
       "text": [
        "\n",
        "Wall time: 3.26 s\n",
        "CPU times: user 2.11 s, sys: 13.7 ms, total: 2.12 s"
       ]
      },
      {
       "output_type": "stream",
       "stream": "stderr",
       "text": [
        "WARNING:gensim.models.ldamodel:too few updates, training might not converge; consider increasing the number of passes or iterations to improve accuracy\n"
       ]
      },
      {
       "output_type": "stream",
       "stream": "stdout",
       "text": [
        "\n",
        "Wall time: 2.13 s\n",
        "CPU times: user 1.45 s, sys: 7.25 ms, total: 1.46 s"
       ]
      },
      {
       "output_type": "stream",
       "stream": "stderr",
       "text": [
        "WARNING:gensim.models.ldamodel:too few updates, training might not converge; consider increasing the number of passes or iterations to improve accuracy\n"
       ]
      },
      {
       "output_type": "stream",
       "stream": "stdout",
       "text": [
        "\n",
        "Wall time: 1.47 s\n",
        "CPU times: user 1.46 s, sys: 7.68 ms, total: 1.47 s"
       ]
      },
      {
       "output_type": "stream",
       "stream": "stderr",
       "text": [
        "WARNING:gensim.models.ldamodel:too few updates, training might not converge; consider increasing the number of passes or iterations to improve accuracy\n"
       ]
      },
      {
       "output_type": "stream",
       "stream": "stdout",
       "text": [
        "\n",
        "Wall time: 1.48 s\n",
        "CPU times: user 754 ms, sys: 5.03 ms, total: 759 ms"
       ]
      },
      {
       "output_type": "stream",
       "stream": "stderr",
       "text": [
        "WARNING:gensim.models.ldamodel:too few updates, training might not converge; consider increasing the number of passes or iterations to improve accuracy\n"
       ]
      },
      {
       "output_type": "stream",
       "stream": "stdout",
       "text": [
        "\n",
        "Wall time: 761 ms\n",
        "CPU times: user 1 s, sys: 6.54 ms, total: 1.01 s"
       ]
      },
      {
       "output_type": "stream",
       "stream": "stderr",
       "text": [
        "WARNING:gensim.models.ldamodel:too few updates, training might not converge; consider increasing the number of passes or iterations to improve accuracy\n"
       ]
      },
      {
       "output_type": "stream",
       "stream": "stdout",
       "text": [
        "\n",
        "Wall time: 1.01 s\n",
        "CPU times: user 468 ms, sys: 3.93 ms, total: 472 ms"
       ]
      },
      {
       "output_type": "stream",
       "stream": "stderr",
       "text": [
        "WARNING:gensim.models.ldamodel:too few updates, training might not converge; consider increasing the number of passes or iterations to improve accuracy\n"
       ]
      },
      {
       "output_type": "stream",
       "stream": "stdout",
       "text": [
        "\n",
        "Wall time: 474 ms\n",
        "CPU times: user 542 ms, sys: 3.57 ms, total: 545 ms"
       ]
      },
      {
       "output_type": "stream",
       "stream": "stderr",
       "text": [
        "WARNING:gensim.models.ldamodel:too few updates, training might not converge; consider increasing the number of passes or iterations to improve accuracy\n"
       ]
      },
      {
       "output_type": "stream",
       "stream": "stdout",
       "text": [
        "\n",
        "Wall time: 547 ms\n",
        "CPU times: user 400 ms, sys: 3.39 ms, total: 404 ms"
       ]
      },
      {
       "output_type": "stream",
       "stream": "stdout",
       "text": [
        "\n",
        "Wall time: 407 ms\n"
       ]
      }
     ],
     "prompt_number": 66
    },
    {
     "cell_type": "code",
     "collapsed": false,
     "input": [
      "errors"
     ],
     "language": "python",
     "metadata": {},
     "outputs": [
      {
       "metadata": {},
       "output_type": "pyout",
       "prompt_number": 230,
       "text": [
        "[[1.0, 5.0],\n",
        " [1.5, 16.66666667],\n",
        " [2.0, 7.5],\n",
        " [2.5, 14.0],\n",
        " [3.0, 18.33333333],\n",
        " [3.5, 7.14285714],\n",
        " [4.0, 5.0],\n",
        " [4.5, 7.77777778],\n",
        " [5.0, 5.0]]"
       ]
      }
     ],
     "prompt_number": 230
    },
    {
     "cell_type": "code",
     "collapsed": false,
     "input": [
      "errors = pd.DataFrame(np.array(errors), columns=['rating', 'error'])\n",
      "\n",
      "sns.set_context(\"talk\", font_scale=1.25)\n",
      "sns.barplot(errors.rating, errors.error)\n",
      "plt.title(\"Important Reviews' Prediction Errors\")\n",
      "plt.xlabel(\"Star Rating\")\n",
      "plt.ylabel(\"Average Error Rate\")\n",
      "plt.show()"
     ],
     "language": "python",
     "metadata": {},
     "outputs": [
      {
       "metadata": {},
       "output_type": "display_data",
       "png": "[encoded data removed]",
       "text": [
        "<matplotlib.figure.Figure at 0x1b753e790>"
       ]
      }
     ],
     "prompt_number": 231
    },
    {
     "cell_type": "code",
     "collapsed": false,
     "input": [
      "# Let's compare the ratings based on my important reviews\n",
      "# to ratings based on completely random reviews\n",
      "\n",
      "# Calculate the error when using random reviews to\n",
      "# predict a star rating\n",
      "stars = [1, 1.5, 2, 2.5, 3, 3.5, 4, 4.5, 5]\n",
      "random_errors = []\n",
      "for star in stars:\n",
      "    print \"star rating {}\".format(star)\n",
      "    \n",
      "    data = data_restaurants[data_restaurants['stars'] == star]['business_id']\n",
      "    print \"Number of restaurants available: {}\".format(len(data))\n",
      "\n",
      "    test = takeSample(data.head(100), test_size)\n",
      "    for restaurant in test:\n",
      "        reviews = restaurant_reviews[restaurant_reviews['business_id'] == restaurant]\n",
      "        print \"Restaurant {} has {} reviews.\".format(restaurant, len(reviews))\n",
      "        \n",
      "    # Predict ratings for test set\n",
      "    predictions = []\n",
      "    for restaurant in test:\n",
      "        # Get all the reviews for this business\n",
      "        reviews = restaurant_reviews[restaurant_reviews['business_id'] == restaurant]\n",
      "        reviews.index = range(0, len(reviews))\n",
      "\n",
      "        # Get 10 random reviews\n",
      "        topN = 10\n",
      "        if(len(reviews) < 10):\n",
      "            topN = len(reviews)\n",
      "            print \"Sample {} reviews\".format(topN)\n",
      "            \n",
      "        random_reviews = takeSample(reviews, topN)\n",
      "\n",
      "        # Average star rating based on random reviews\n",
      "        predictedRating = round_nearest_half(random_reviews['stars'].mean())\n",
      "\n",
      "        # Actual rating\n",
      "        actualRating = data_restaurants.ix[restaurant]['stars']\n",
      "\n",
      "        # Return a restaurant's predicted rating, along with their actual rating\n",
      "        predictions.append((predictedRating, actualRating))\n",
      "    \n",
      "    # Calculate total error\n",
      "    error = 0.0\n",
      "    for prediction in predictions:\n",
      "        error += abs(prediction[0] - prediction[1]) / prediction[1]\n",
      "\n",
      "    percent = (error / len(predictions) * 100)\n",
      "    random_errors.append([star, percent])"
     ],
     "language": "python",
     "metadata": {},
     "outputs": [
      {
       "output_type": "stream",
       "stream": "stdout",
       "text": [
        "star rating 1\n",
        "Number of restaurants available: 88\n",
        "Restaurant 9Kb9ZRxBgS2c0ahuN1tbNA has 4 reviews."
       ]
      },
      {
       "output_type": "stream",
       "stream": "stdout",
       "text": [
        "\n",
        "Restaurant 0tKC5c0idPDrMZyfMZpCdQ has 3 reviews."
       ]
      },
      {
       "output_type": "stream",
       "stream": "stdout",
       "text": [
        "\n",
        "Restaurant fOrmUQoNIhxtu_WLKx7WQg has 4 reviews."
       ]
      },
      {
       "output_type": "stream",
       "stream": "stdout",
       "text": [
        "\n",
        "Restaurant bAJAg-uRkoGoTfFpy43ZXQ has 5 reviews."
       ]
      },
      {
       "output_type": "stream",
       "stream": "stdout",
       "text": [
        "\n",
        "Restaurant Q5diW79GD0MSJ10j1HCf8Q has 5 reviews."
       ]
      },
      {
       "output_type": "stream",
       "stream": "stdout",
       "text": [
        "\n",
        "Restaurant Z3W2vlYN1mkhhZiZqRRr5Q has 4 reviews."
       ]
      },
      {
       "output_type": "stream",
       "stream": "stdout",
       "text": [
        "\n",
        "Restaurant qWAvx3yktyMQixSh4K0Dog has 3 reviews."
       ]
      },
      {
       "output_type": "stream",
       "stream": "stdout",
       "text": [
        "\n",
        "Restaurant unMqU0OrlniCOKZIoQHb0A has 3 reviews."
       ]
      },
      {
       "output_type": "stream",
       "stream": "stdout",
       "text": [
        "\n",
        "Restaurant RR7nf12D8cOkNi6HQAQbBA has 10 reviews."
       ]
      },
      {
       "output_type": "stream",
       "stream": "stdout",
       "text": [
        "\n",
        "Restaurant YkLnMTOf8XsqbYS7_qPNsQ has 5 reviews."
       ]
      },
      {
       "output_type": "stream",
       "stream": "stdout",
       "text": [
        "\n",
        "Sample 4 reviews"
       ]
      },
      {
       "output_type": "stream",
       "stream": "stdout",
       "text": [
        "\n",
        "Sample 3 reviews"
       ]
      },
      {
       "output_type": "stream",
       "stream": "stdout",
       "text": [
        "\n",
        "Sample 4 reviews"
       ]
      },
      {
       "output_type": "stream",
       "stream": "stdout",
       "text": [
        "\n",
        "Sample 5 reviews"
       ]
      },
      {
       "output_type": "stream",
       "stream": "stdout",
       "text": [
        "\n",
        "Sample 5 reviews"
       ]
      },
      {
       "output_type": "stream",
       "stream": "stdout",
       "text": [
        "\n",
        "Sample 4 reviews"
       ]
      },
      {
       "output_type": "stream",
       "stream": "stdout",
       "text": [
        "\n",
        "Sample 3 reviews"
       ]
      },
      {
       "output_type": "stream",
       "stream": "stdout",
       "text": [
        "\n",
        "Sample 3 reviews"
       ]
      },
      {
       "output_type": "stream",
       "stream": "stdout",
       "text": [
        "\n",
        "Sample 5 reviews"
       ]
      },
      {
       "output_type": "stream",
       "stream": "stdout",
       "text": [
        "\n",
        "star rating 1.5\n",
        "Number of restaurants available: 337\n",
        "Restaurant nQOfSLVkN6GnBCYKSc0vYg has 7 reviews."
       ]
      },
      {
       "output_type": "stream",
       "stream": "stdout",
       "text": [
        "\n",
        "Restaurant iFc5PtaEHokNu1GVfnAUTA has 11 reviews."
       ]
      },
      {
       "output_type": "stream",
       "stream": "stdout",
       "text": [
        "\n",
        "Restaurant dvjYiddhJ2HrosdSBAqngg has 28 reviews."
       ]
      },
      {
       "output_type": "stream",
       "stream": "stdout",
       "text": [
        "\n",
        "Restaurant RSWWZGGU4JpCYgr2yASEWw has 5 reviews."
       ]
      },
      {
       "output_type": "stream",
       "stream": "stdout",
       "text": [
        "\n",
        "Restaurant TVQAJGl5_xo2hsaWI7Ak5A has 7 reviews."
       ]
      },
      {
       "output_type": "stream",
       "stream": "stdout",
       "text": [
        "\n",
        "Restaurant O4ezPAZ9NLUYnigDekjz-Q has 17 reviews."
       ]
      },
      {
       "output_type": "stream",
       "stream": "stdout",
       "text": [
        "\n",
        "Restaurant Suqv_hGxs44tH8aTAwDBDA has 12 reviews."
       ]
      },
      {
       "output_type": "stream",
       "stream": "stdout",
       "text": [
        "\n",
        "Restaurant jr8D3lu1S0-eRpIVxkKnMA has 7 reviews."
       ]
      },
      {
       "output_type": "stream",
       "stream": "stdout",
       "text": [
        "\n",
        "Restaurant 8NbZswmpIyWWHhpWqThQQQ has 7 reviews."
       ]
      },
      {
       "output_type": "stream",
       "stream": "stdout",
       "text": [
        "\n",
        "Restaurant K5kU2IN6mXvMo-Cx0oQFZg has 98 reviews."
       ]
      },
      {
       "output_type": "stream",
       "stream": "stdout",
       "text": [
        "\n",
        "Sample 7 reviews"
       ]
      },
      {
       "output_type": "stream",
       "stream": "stdout",
       "text": [
        "\n",
        "Sample 5 reviews"
       ]
      },
      {
       "output_type": "stream",
       "stream": "stdout",
       "text": [
        "\n",
        "Sample 7 reviews"
       ]
      },
      {
       "output_type": "stream",
       "stream": "stdout",
       "text": [
        "\n",
        "Sample 7 reviews"
       ]
      },
      {
       "output_type": "stream",
       "stream": "stdout",
       "text": [
        "\n",
        "Sample 7 reviews"
       ]
      },
      {
       "output_type": "stream",
       "stream": "stdout",
       "text": [
        "\n",
        "star rating 2"
       ]
      },
      {
       "output_type": "stream",
       "stream": "stdout",
       "text": [
        "\n",
        "Number of restaurants available: 853\n",
        "Restaurant kRjr0XGA_tGLhCa-1FSAig has 37 reviews."
       ]
      },
      {
       "output_type": "stream",
       "stream": "stdout",
       "text": [
        "\n",
        "Restaurant Sqo1BQUqcV4goQEeWsDMsQ has 37 reviews."
       ]
      },
      {
       "output_type": "stream",
       "stream": "stdout",
       "text": [
        "\n",
        "Restaurant CdihJLYPU5TqhQpxbuuO6g has 22 reviews."
       ]
      },
      {
       "output_type": "stream",
       "stream": "stdout",
       "text": [
        "\n",
        "Restaurant a1t31qMLd5fQocEjbSJ61A has 233 reviews."
       ]
      },
      {
       "output_type": "stream",
       "stream": "stdout",
       "text": [
        "\n",
        "Restaurant BhDG97oG155mLFbvoWnyoA has 26 reviews."
       ]
      },
      {
       "output_type": "stream",
       "stream": "stdout",
       "text": [
        "\n",
        "Restaurant Kx6vAKUcy3wPhw3K0W9LKQ has 22 reviews."
       ]
      },
      {
       "output_type": "stream",
       "stream": "stdout",
       "text": [
        "\n",
        "Restaurant ikcyah81MTF4ZzOivmPitw has 20 reviews."
       ]
      },
      {
       "output_type": "stream",
       "stream": "stdout",
       "text": [
        "\n",
        "Restaurant 1ldDbggHHgPlj3k0SpBTKQ has 265 reviews."
       ]
      },
      {
       "output_type": "stream",
       "stream": "stdout",
       "text": [
        "\n",
        "Restaurant s0aRh5eiJIPV4iDRRSR8Ew has 46 reviews."
       ]
      },
      {
       "output_type": "stream",
       "stream": "stdout",
       "text": [
        "\n",
        "Restaurant YowLDN2YEKVJpHv0Loqm5A has 25 reviews."
       ]
      },
      {
       "output_type": "stream",
       "stream": "stdout",
       "text": [
        "\n",
        "star rating 2.5"
       ]
      },
      {
       "output_type": "stream",
       "stream": "stdout",
       "text": [
        "\n",
        "Number of restaurants available: 2108\n",
        "Restaurant jS3cHd1E5TuUZbQWpBZqVg has 133 reviews."
       ]
      },
      {
       "output_type": "stream",
       "stream": "stdout",
       "text": [
        "\n",
        "Restaurant mANSEm_FbXK6qtB7n6nWgg has 228 reviews."
       ]
      },
      {
       "output_type": "stream",
       "stream": "stdout",
       "text": [
        "\n",
        "Restaurant CvRGjwCsrQs1DYYL3z8R7g has 136 reviews."
       ]
      },
      {
       "output_type": "stream",
       "stream": "stdout",
       "text": [
        "\n",
        "Restaurant 8-HkVgPClpSli0ug3Uk-sQ has 163 reviews."
       ]
      },
      {
       "output_type": "stream",
       "stream": "stdout",
       "text": [
        "\n",
        "Restaurant z4cCguoHdU48pj6sXMIzqg has 70 reviews."
       ]
      },
      {
       "output_type": "stream",
       "stream": "stdout",
       "text": [
        "\n",
        "Restaurant 2KCHbRLC2e9b2tiFN5Gxww has 194 reviews."
       ]
      },
      {
       "output_type": "stream",
       "stream": "stdout",
       "text": [
        "\n",
        "Restaurant YeDYa6tYL16CyqYvUVOtLw has 155 reviews."
       ]
      },
      {
       "output_type": "stream",
       "stream": "stdout",
       "text": [
        "\n",
        "Restaurant Uhw6U1Nj-wtl2cSj2nrTrQ has 96 reviews."
       ]
      },
      {
       "output_type": "stream",
       "stream": "stdout",
       "text": [
        "\n",
        "Restaurant CEPvTz9BU_wK45zZoQNhrw has 66 reviews."
       ]
      },
      {
       "output_type": "stream",
       "stream": "stdout",
       "text": [
        "\n",
        "Restaurant nfyqtEoufkhjv97IueK7Ow has 85 reviews."
       ]
      },
      {
       "output_type": "stream",
       "stream": "stdout",
       "text": [
        "\n",
        "star rating 3"
       ]
      },
      {
       "output_type": "stream",
       "stream": "stdout",
       "text": [
        "\n",
        "Number of restaurants available: 3939\n",
        "Restaurant dxY1gl4cO4-rEFATCkFUIw has 367 reviews."
       ]
      },
      {
       "output_type": "stream",
       "stream": "stdout",
       "text": [
        "\n",
        "Restaurant Y-9dJvw-J2d9QKfuL7mKgA has 432 reviews."
       ]
      },
      {
       "output_type": "stream",
       "stream": "stdout",
       "text": [
        "\n",
        "Restaurant w29d_3Ua0_JlOaAk89Sr2w has 214 reviews."
       ]
      },
      {
       "output_type": "stream",
       "stream": "stdout",
       "text": [
        "\n",
        "Restaurant vbcdf7dXxfc3uyOoi7ryyA has 256 reviews."
       ]
      },
      {
       "output_type": "stream",
       "stream": "stdout",
       "text": [
        "\n",
        "Restaurant kT_7_6nj39hV7o98c8WLbA has 172 reviews."
       ]
      },
      {
       "output_type": "stream",
       "stream": "stdout",
       "text": [
        "\n",
        "Restaurant k-D2NUfaUbuQzPaMXniXcA has 381 reviews."
       ]
      },
      {
       "output_type": "stream",
       "stream": "stdout",
       "text": [
        "\n",
        "Restaurant Gn7bMxhZgY0bivsthvJWJQ has 531 reviews."
       ]
      },
      {
       "output_type": "stream",
       "stream": "stdout",
       "text": [
        "\n",
        "Restaurant nZgYNbl1XlZyyKlISMoG6w has 671 reviews."
       ]
      },
      {
       "output_type": "stream",
       "stream": "stdout",
       "text": [
        "\n",
        "Restaurant 7q1FpSXbE6XtLNg518pxDA has 312 reviews."
       ]
      },
      {
       "output_type": "stream",
       "stream": "stdout",
       "text": [
        "\n",
        "Restaurant _tkAI5Q5XQSfgbqJzDKSDQ has 201 reviews."
       ]
      },
      {
       "output_type": "stream",
       "stream": "stdout",
       "text": [
        "\n",
        "star rating 3.5"
       ]
      },
      {
       "output_type": "stream",
       "stream": "stdout",
       "text": [
        "\n",
        "Number of restaurants available: 6048\n",
        "Restaurant btp0v0Qk7CmOmuMdt3aqkQ has 295 reviews."
       ]
      },
      {
       "output_type": "stream",
       "stream": "stdout",
       "text": [
        "\n",
        "Restaurant JauLZ0TL3D3VIGtSnStzhA has 322 reviews."
       ]
      },
      {
       "output_type": "stream",
       "stream": "stdout",
       "text": [
        "\n",
        "Restaurant BUpMSaHWxlWTgKTDIzz5Lw has 336 reviews."
       ]
      },
      {
       "output_type": "stream",
       "stream": "stdout",
       "text": [
        "\n",
        "Restaurant ke3RFq3mHEAoJE_kkRNhiQ has 316 reviews."
       ]
      },
      {
       "output_type": "stream",
       "stream": "stdout",
       "text": [
        "\n",
        "Restaurant amr-TqfnMpxmWf2RqnK_lA has 301 reviews."
       ]
      },
      {
       "output_type": "stream",
       "stream": "stdout",
       "text": [
        "\n",
        "Restaurant Hieqsu3u1peZ2I2jPwiKHw has 344 reviews."
       ]
      },
      {
       "output_type": "stream",
       "stream": "stdout",
       "text": [
        "\n",
        "Restaurant NVunai1t_GXQCAdDzFWJkQ has 362 reviews."
       ]
      },
      {
       "output_type": "stream",
       "stream": "stdout",
       "text": [
        "\n",
        "Restaurant NeUf9FyCCIN4MEseNyqkXQ has 315 reviews."
       ]
      },
      {
       "output_type": "stream",
       "stream": "stdout",
       "text": [
        "\n",
        "Restaurant UBvTnbaRD3h_dD6oXWLCBA has 291 reviews."
       ]
      },
      {
       "output_type": "stream",
       "stream": "stdout",
       "text": [
        "\n",
        "Restaurant M3sHcgWd1gqw5c3L8QnAHQ has 398 reviews."
       ]
      },
      {
       "output_type": "stream",
       "stream": "stdout",
       "text": [
        "\n",
        "star rating 4"
       ]
      },
      {
       "output_type": "stream",
       "stream": "stdout",
       "text": [
        "\n",
        "Number of restaurants available: 5768\n",
        "Restaurant xfwRO04KbAPw_zRotCfWQQ has 2200 reviews."
       ]
      },
      {
       "output_type": "stream",
       "stream": "stdout",
       "text": [
        "\n",
        "Restaurant LCeF1wK5OqP3PPEVBa5Xfw has 682 reviews."
       ]
      },
      {
       "output_type": "stream",
       "stream": "stdout",
       "text": [
        "\n",
        "Restaurant KjymOs12Mpy0Kd54b7T9MA has 981 reviews."
       ]
      },
      {
       "output_type": "stream",
       "stream": "stdout",
       "text": [
        "\n",
        "Restaurant kgt13cwkP03NS8FJKgdLMw has 512 reviews."
       ]
      },
      {
       "output_type": "stream",
       "stream": "stdout",
       "text": [
        "\n",
        "Restaurant ryvMJK6AlbU35HKrlFT61w has 803 reviews."
       ]
      },
      {
       "output_type": "stream",
       "stream": "stdout",
       "text": [
        "\n",
        "Restaurant UrIT2RgnCg3OfRBr9J3h7w has 503 reviews."
       ]
      },
      {
       "output_type": "stream",
       "stream": "stdout",
       "text": [
        "\n",
        "Restaurant SHfUGBOznEtDhK6WbVrvIw has 721 reviews."
       ]
      },
      {
       "output_type": "stream",
       "stream": "stdout",
       "text": [
        "\n",
        "Restaurant Zx8_4zKdDBSO3qGrkukBIA has 680 reviews."
       ]
      },
      {
       "output_type": "stream",
       "stream": "stdout",
       "text": [
        "\n",
        "Restaurant 25fxw_jOqZtJwl18cCarIA has 553 reviews."
       ]
      },
      {
       "output_type": "stream",
       "stream": "stdout",
       "text": [
        "\n",
        "Restaurant rfDTJLEwZZ2EGOZiTDdqQA has 581 reviews."
       ]
      },
      {
       "output_type": "stream",
       "stream": "stdout",
       "text": [
        "\n",
        "star rating 4.5"
       ]
      },
      {
       "output_type": "stream",
       "stream": "stdout",
       "text": [
        "\n",
        "Number of restaurants available: 2362\n",
        "Restaurant AfWA8pvc5AW9QafQLui7_A has 297 reviews."
       ]
      },
      {
       "output_type": "stream",
       "stream": "stdout",
       "text": [
        "\n",
        "Restaurant vARjqeIkSNsazHltujiq4Q has 626 reviews."
       ]
      },
      {
       "output_type": "stream",
       "stream": "stdout",
       "text": [
        "\n",
        "Restaurant aRkYtXfmEKYG-eTDf_qUsw has 865 reviews."
       ]
      },
      {
       "output_type": "stream",
       "stream": "stdout",
       "text": [
        "\n",
        "Restaurant VkPzsY09S4zO0XqhA1mc6Q has 528 reviews."
       ]
      },
      {
       "output_type": "stream",
       "stream": "stdout",
       "text": [
        "\n",
        "Restaurant F8q_9PUl-Lwjj9xIRPArcg has 350 reviews."
       ]
      },
      {
       "output_type": "stream",
       "stream": "stdout",
       "text": [
        "\n",
        "Restaurant ADTZPVMIYJN0jAvvHxcBMw has 427 reviews."
       ]
      },
      {
       "output_type": "stream",
       "stream": "stdout",
       "text": [
        "\n",
        "Restaurant 8buIr1zBCO7OEcAQSZko7w has 1225 reviews."
       ]
      },
      {
       "output_type": "stream",
       "stream": "stdout",
       "text": [
        "\n",
        "Restaurant LuAClnM_sUmLbFsK4ODWiw has 267 reviews."
       ]
      },
      {
       "output_type": "stream",
       "stream": "stdout",
       "text": [
        "\n",
        "Restaurant Pgp3gbOQaJIdyjqC9AOz6g has 464 reviews."
       ]
      },
      {
       "output_type": "stream",
       "stream": "stdout",
       "text": [
        "\n",
        "Restaurant 5FE1Y9cZ-YOQA943nTi7cA has 288 reviews."
       ]
      },
      {
       "output_type": "stream",
       "stream": "stdout",
       "text": [
        "\n",
        "star rating 5"
       ]
      },
      {
       "output_type": "stream",
       "stream": "stdout",
       "text": [
        "\n",
        "Number of restaurants available: 389\n",
        "Restaurant 46L9muoeP7ZUQwvbjN_CrA has 27 reviews."
       ]
      },
      {
       "output_type": "stream",
       "stream": "stdout",
       "text": [
        "\n",
        "Restaurant rZ587kl2xt56DmnR2shqpQ has 38 reviews."
       ]
      },
      {
       "output_type": "stream",
       "stream": "stdout",
       "text": [
        "\n",
        "Restaurant g6SHDb-0BYr2weF7heRsjg has 14 reviews."
       ]
      },
      {
       "output_type": "stream",
       "stream": "stdout",
       "text": [
        "\n",
        "Restaurant t4m8EAGERZUrW4qW16GQGQ has 4 reviews."
       ]
      },
      {
       "output_type": "stream",
       "stream": "stdout",
       "text": [
        "\n",
        "Restaurant HQSbnP7ZDVSHe-yNTQiI8Q has 14 reviews."
       ]
      },
      {
       "output_type": "stream",
       "stream": "stdout",
       "text": [
        "\n",
        "Restaurant 6GnJUbiq73xm24F7SixI9g has 21 reviews."
       ]
      },
      {
       "output_type": "stream",
       "stream": "stdout",
       "text": [
        "\n",
        "Restaurant KdZMrO06w46riI5r4wjweg has 14 reviews."
       ]
      },
      {
       "output_type": "stream",
       "stream": "stdout",
       "text": [
        "\n",
        "Restaurant kmZI3pih60oVgSGKM2OERQ has 26 reviews."
       ]
      },
      {
       "output_type": "stream",
       "stream": "stdout",
       "text": [
        "\n",
        "Restaurant cxgERbHMIIfw8vo-eTOb-A has 12 reviews."
       ]
      },
      {
       "output_type": "stream",
       "stream": "stdout",
       "text": [
        "\n",
        "Restaurant vb8wZULbsaMxLnf-7Rdbog has 6 reviews."
       ]
      },
      {
       "output_type": "stream",
       "stream": "stdout",
       "text": [
        "\n",
        "Sample 4 reviews"
       ]
      },
      {
       "output_type": "stream",
       "stream": "stdout",
       "text": [
        "\n",
        "Sample 6 reviews"
       ]
      },
      {
       "output_type": "stream",
       "stream": "stdout",
       "text": [
        "\n"
       ]
      }
     ],
     "prompt_number": 206
    },
    {
     "cell_type": "code",
     "collapsed": false,
     "input": [
      "random_errors"
     ],
     "language": "python",
     "metadata": {},
     "outputs": [
      {
       "metadata": {},
       "output_type": "pyout",
       "prompt_number": 207,
       "text": [
        "[[1, 15.0],\n",
        " [1.5, 10.0],\n",
        " [2, 30.0],\n",
        " [2.5, 12.0],\n",
        " [3, 11.666666666666666],\n",
        " [3.5, 9.9999999999999982],\n",
        " [4, 5.0],\n",
        " [4.5, 4.4444444444444438],\n",
        " [5, 6.0]]"
       ]
      }
     ],
     "prompt_number": 207
    },
    {
     "cell_type": "code",
     "collapsed": false,
     "input": [
      "random_errors = pd.DataFrame(np.array(random_errors), columns=['rating', 'error'])\n",
      "\n",
      "sns.set_context(\"talk\", font_scale=1.25)\n",
      "sns.barplot(random_errors.rating, random_errors.error)\n",
      "plt.title(\"Random Reviews' Prediction Errors\")\n",
      "plt.xlabel(\"Star Rating\")\n",
      "plt.ylabel(\"Average Error Rate\")\n",
      "plt.show()"
     ],
     "language": "python",
     "metadata": {},
     "outputs": [
      {
       "metadata": {},
       "output_type": "display_data",
       "png": "[encoded data removed]",
       "text": [
        "<matplotlib.figure.Figure at 0x1bff217d0>"
       ]
      }
     ],
     "prompt_number": 280
    },
    {
     "cell_type": "code",
     "collapsed": false,
     "input": [
      "# Combine the two different errors rates into one dataframe\n",
      "prediction_errors = errors.copy()\n",
      "prediction_errors['random'] = random_errors['error']\n",
      "prediction_errors.columns = ['rating', 'important_reviews', 'random_reviews']\n",
      "prediction_errors.index = prediction_errors.rating.values\n",
      "prediction_errors = prediction_errors.drop(['rating'], axis=1)"
     ],
     "language": "python",
     "metadata": {},
     "outputs": [],
     "prompt_number": 222
    },
    {
     "cell_type": "code",
     "collapsed": false,
     "input": [
      "# Compare the two error rates\n",
      "prediction_errors.plot(kind='bar');\n",
      "plt.title(\"Prediction Errors\")\n",
      "plt.xlabel(\"Star Rating\")\n",
      "plt.ylabel(\"Average Error Rate\")\n",
      "plt.show()"
     ],
     "language": "python",
     "metadata": {},
     "outputs": [
      {
       "metadata": {},
       "output_type": "display_data",
       "png": "[encoded data removed]",
       "text": [
        "<matplotlib.figure.Figure at 0x1b7536f90>"
       ]
      }
     ],
     "prompt_number": 226
    },
    {
     "cell_type": "code",
     "collapsed": false,
     "input": [
      "# Lets look at some checkin data now\n",
      "checkin_count = data_business.copy()\n",
      "checkin_count['total_checkins'] = data_checkins['total_checkins']\n",
      "\n",
      "# Save checkin data with business data\n",
      "checkin_count.to_csv(data + 'yelp_business_with_checkins.csv', encoding='utf-8', index=False)"
     ],
     "language": "python",
     "metadata": {},
     "outputs": [],
     "prompt_number": 139
    },
    {
     "cell_type": "code",
     "collapsed": false,
     "input": [
      "# Normalize business data\n",
      "good_business = checkin_count[checkin_count['stars'] >= 3]\n",
      "bad_business = checkin_count[checkin_count['stars'] < 3]\n",
      "\n",
      "print \"number of good businesses: {}\".format(len(good_business))\n",
      "print \"number of bad businesses: {}\".format(len(bad_business))"
     ],
     "language": "python",
     "metadata": {},
     "outputs": [
      {
       "output_type": "stream",
       "stream": "stdout",
       "text": [
        "number of good businesses: 51877\n",
        "number of bad businesses: 9307\n"
       ]
      }
     ],
     "prompt_number": 141
    },
    {
     "cell_type": "code",
     "collapsed": false,
     "input": [
      "# Use this data on CartoDB.\n",
      "# Visualize good/bad businesses and how many checkins each has.\n",
      "# http://cdb.io/1OCeGRG\n",
      "good_sample = takeSample(good_business, 5000)\n",
      "bad_sample = takeSample(bad_business, 5000)\n",
      "\n",
      "data_business_normalized = pd.concat([good_sample,\n",
      "                                      bad_sample])\n",
      "\n",
      "data_business_normalized.to_csv(data + 'yelp_business_with_checkins_normalized.csv', encoding='utf-8', index=False)"
     ],
     "language": "python",
     "metadata": {},
     "outputs": [],
     "prompt_number": 145
    },
    {
     "cell_type": "code",
     "collapsed": false,
     "input": [
      "# Fun test just to see what happens.\n",
      "# Take the top 10 reviews, according to me,\n",
      "# and check the restaurant's Yelp page.\n",
      "# See if any of the reviews show up under Yelp's\n",
      "# special sorting.\n",
      "data_restaurants.head(50)"
     ],
     "language": "python",
     "metadata": {},
     "outputs": [
      {
       "html": [
        "<div style=\"max-height:1000px;max-width:1500px;overflow:auto;\">\n",
        "<table border=\"1\" class=\"dataframe\">\n",
        "  <thead>\n",
        "    <tr style=\"text-align: right;\">\n",
        "      <th></th>\n",
        "      <th>business_id</th>\n",
        "      <th>name</th>\n",
        "      <th>review_count</th>\n",
        "      <th>stars</th>\n",
        "      <th>latitude</th>\n",
        "      <th>longitude</th>\n",
        "      <th>type</th>\n",
        "      <th>categories</th>\n",
        "    </tr>\n",
        "  </thead>\n",
        "  <tbody>\n",
        "    <tr>\n",
        "      <th>4bEjOyTaDG24SY5TxsaUNQ</th>\n",
        "      <td> 4bEjOyTaDG24SY5TxsaUNQ</td>\n",
        "      <td>                                Mon Ami Gabi</td>\n",
        "      <td> 4578</td>\n",
        "      <td> 4.0</td>\n",
        "      <td> 36.112952</td>\n",
        "      <td>-115.172589</td>\n",
        "      <td> business</td>\n",
        "      <td> [,u,',B,r,e,a,k,f,a,s,t, ,&amp;, ,B,r,u,n,c,h,',,,...</td>\n",
        "    </tr>\n",
        "    <tr>\n",
        "      <th>2e2e7WgqU1BnpxmQL5jbfw</th>\n",
        "      <td> 2e2e7WgqU1BnpxmQL5jbfw</td>\n",
        "      <td>                            Earl of Sandwich</td>\n",
        "      <td> 3984</td>\n",
        "      <td> 4.5</td>\n",
        "      <td> 36.110266</td>\n",
        "      <td>-115.170553</td>\n",
        "      <td> business</td>\n",
        "      <td> [,u,',S,a,n,d,w,i,c,h,e,s,',,, ,u,',R,e,s,t,a,...</td>\n",
        "    </tr>\n",
        "    <tr>\n",
        "      <th>zt1TpTuJ6y9n551sw9TaEg</th>\n",
        "      <td> zt1TpTuJ6y9n551sw9TaEg</td>\n",
        "      <td>                                Wicked Spoon</td>\n",
        "      <td> 3828</td>\n",
        "      <td> 3.5</td>\n",
        "      <td> 36.109876</td>\n",
        "      <td>-115.175164</td>\n",
        "      <td> business</td>\n",
        "      <td> [,u,',B,u,f,f,e,t,s,',,, ,u,',R,e,s,t,a,u,r,a,...</td>\n",
        "    </tr>\n",
        "    <tr>\n",
        "      <th>sIyHTizqAiGu12XMLX3N3g</th>\n",
        "      <td> sIyHTizqAiGu12XMLX3N3g</td>\n",
        "      <td>                            Bacchanal Buffet</td>\n",
        "      <td> 3046</td>\n",
        "      <td> 4.0</td>\n",
        "      <td> 36.115854</td>\n",
        "      <td>-115.176174</td>\n",
        "      <td> business</td>\n",
        "      <td> [,u,',B,u,f,f,e,t,s,',,, ,u,',R,e,s,t,a,u,r,a,...</td>\n",
        "    </tr>\n",
        "    <tr>\n",
        "      <th>Xhg93cMdemu5pAMkDoEdtQ</th>\n",
        "      <td> Xhg93cMdemu5pAMkDoEdtQ</td>\n",
        "      <td>                               Serendipity 3</td>\n",
        "      <td> 3007</td>\n",
        "      <td> 3.0</td>\n",
        "      <td> 36.115670</td>\n",
        "      <td>-115.173317</td>\n",
        "      <td> business</td>\n",
        "      <td> [,u,',A,m,e,r,i,c,a,n, ,(,T,r,a,d,i,t,i,o,n,a,...</td>\n",
        "    </tr>\n",
        "    <tr>\n",
        "      <th>YNQgak-ZLtYJQxlDwN-qIg</th>\n",
        "      <td> YNQgak-ZLtYJQxlDwN-qIg</td>\n",
        "      <td>                                  The Buffet</td>\n",
        "      <td> 2949</td>\n",
        "      <td> 3.5</td>\n",
        "      <td> 36.126887</td>\n",
        "      <td>-115.165590</td>\n",
        "      <td> business</td>\n",
        "      <td> [,u,',B,u,f,f,e,t,s,',,, ,u,',R,e,s,t,a,u,r,a,...</td>\n",
        "    </tr>\n",
        "    <tr>\n",
        "      <th>tFU2Js_nbIZOrnKfYJYBBg</th>\n",
        "      <td> tFU2Js_nbIZOrnKfYJYBBg</td>\n",
        "      <td>                              Bouchon Bistro</td>\n",
        "      <td> 2593</td>\n",
        "      <td> 4.0</td>\n",
        "      <td> 36.122293</td>\n",
        "      <td>-115.170279</td>\n",
        "      <td> business</td>\n",
        "      <td> [,u,',B,r,e,a,k,f,a,s,t, ,&amp;, ,B,r,u,n,c,h,',,,...</td>\n",
        "    </tr>\n",
        "    <tr>\n",
        "      <th>CZjcFdvJhksq9dy58NVEzw</th>\n",
        "      <td> CZjcFdvJhksq9dy58NVEzw</td>\n",
        "      <td>                      The Buffet at Bellagio</td>\n",
        "      <td> 2583</td>\n",
        "      <td> 3.5</td>\n",
        "      <td> 36.113160</td>\n",
        "      <td>-115.176409</td>\n",
        "      <td> business</td>\n",
        "      <td> [,u,',A,m,e,r,i,c,a,n, ,(,N,e,w,),',,, ,u,',B,...</td>\n",
        "    </tr>\n",
        "    <tr>\n",
        "      <th>aGbjLWzcrnEx2ZmMCFm3EA</th>\n",
        "      <td> aGbjLWzcrnEx2ZmMCFm3EA</td>\n",
        "      <td>                         Gordon Ramsay BurGR</td>\n",
        "      <td> 2537</td>\n",
        "      <td> 4.0</td>\n",
        "      <td> 36.110108</td>\n",
        "      <td>-115.172338</td>\n",
        "      <td> business</td>\n",
        "      <td> [,u,',B,u,r,g,e,r,s,',,, ,u,',R,e,s,t,a,u,r,a,...</td>\n",
        "    </tr>\n",
        "    <tr>\n",
        "      <th>xfwRO04KbAPw_zRotCfWQQ</th>\n",
        "      <td> xfwRO04KbAPw_zRotCfWQQ</td>\n",
        "      <td>                          Hash House A Go Go</td>\n",
        "      <td> 2395</td>\n",
        "      <td> 4.0</td>\n",
        "      <td> 36.144667</td>\n",
        "      <td>-115.239955</td>\n",
        "      <td> business</td>\n",
        "      <td> [,u,',B,r,e,a,k,f,a,s,t, ,&amp;, ,B,r,u,n,c,h,',,,...</td>\n",
        "    </tr>\n",
        "    <tr>\n",
        "      <th>DO3Gk17RyJVW7zYMCtYPnw</th>\n",
        "      <td> DO3Gk17RyJVW7zYMCtYPnw</td>\n",
        "      <td>                                  Mesa Grill</td>\n",
        "      <td> 2143</td>\n",
        "      <td> 4.0</td>\n",
        "      <td> 36.125951</td>\n",
        "      <td>-115.171051</td>\n",
        "      <td> business</td>\n",
        "      <td> [,u,',S,o,u,t,h,e,r,n,',,, ,u,',R,e,s,t,a,u,r,...</td>\n",
        "    </tr>\n",
        "    <tr>\n",
        "      <th>QbmcCE_cLq4WO8ZMKImaLw</th>\n",
        "      <td> QbmcCE_cLq4WO8ZMKImaLw</td>\n",
        "      <td>                          Hash House A Go Go</td>\n",
        "      <td> 2110</td>\n",
        "      <td> 4.0</td>\n",
        "      <td> 36.117883</td>\n",
        "      <td>-115.171245</td>\n",
        "      <td> business</td>\n",
        "      <td> [,u,',B,r,e,a,k,f,a,s,t, ,&amp;, ,B,r,u,n,c,h,',,,...</td>\n",
        "    </tr>\n",
        "    <tr>\n",
        "      <th>eq6lQI039SBLC6sHm3idGA</th>\n",
        "      <td> eq6lQI039SBLC6sHm3idGA</td>\n",
        "      <td>                                Secret Pizza</td>\n",
        "      <td> 2105</td>\n",
        "      <td> 4.0</td>\n",
        "      <td> 36.111519</td>\n",
        "      <td>-115.174850</td>\n",
        "      <td> business</td>\n",
        "      <td> [,u,',P,i,z,z,a,',,, ,u,',R,e,s,t,a,u,r,a,n,t,...</td>\n",
        "    </tr>\n",
        "    <tr>\n",
        "      <th>lliksv-tglfUz1T3B3vgvA</th>\n",
        "      <td> lliksv-tglfUz1T3B3vgvA</td>\n",
        "      <td>                               Lotus of Siam</td>\n",
        "      <td> 2063</td>\n",
        "      <td> 4.0</td>\n",
        "      <td> 36.143566</td>\n",
        "      <td>-115.142826</td>\n",
        "      <td> business</td>\n",
        "      <td> [,u,',T,h,a,i,',,, ,u,',R,e,s,t,a,u,r,a,n,t,s,',]</td>\n",
        "    </tr>\n",
        "    <tr>\n",
        "      <th>xyTJYlbE_MLouK6rCou6zg</th>\n",
        "      <td> xyTJYlbE_MLouK6rCou6zg</td>\n",
        "      <td>                                  Burger Bar</td>\n",
        "      <td> 1986</td>\n",
        "      <td> 4.0</td>\n",
        "      <td> 36.092875</td>\n",
        "      <td>-115.176247</td>\n",
        "      <td> business</td>\n",
        "      <td> [,u,',B,a,r,s,',,, ,u,',A,m,e,r,i,c,a,n, ,(,T,...</td>\n",
        "    </tr>\n",
        "    <tr>\n",
        "      <th>PXviRcHR1mqdH4vRc2LEAQ</th>\n",
        "      <td> PXviRcHR1mqdH4vRc2LEAQ</td>\n",
        "      <td>                                Bachi Burger</td>\n",
        "      <td> 1930</td>\n",
        "      <td> 4.0</td>\n",
        "      <td> 36.042798</td>\n",
        "      <td>-115.153225</td>\n",
        "      <td> business</td>\n",
        "      <td> [,u,',B,u,r,g,e,r,s,',,, ,u,',R,e,s,t,a,u,r,a,...</td>\n",
        "    </tr>\n",
        "    <tr>\n",
        "      <th>BqrTtox0JbG-P_DKBB5bBw</th>\n",
        "      <td> BqrTtox0JbG-P_DKBB5bBw</td>\n",
        "      <td>                   Holsteins Shakes and Buns</td>\n",
        "      <td> 1757</td>\n",
        "      <td> 4.0</td>\n",
        "      <td> 36.109622</td>\n",
        "      <td>-115.173212</td>\n",
        "      <td> business</td>\n",
        "      <td> [,u,',B,u,r,g,e,r,s,',,, ,u,',A,m,e,r,i,c,a,n,...</td>\n",
        "    </tr>\n",
        "    <tr>\n",
        "      <th>jOuERtVf7QePnK9ZcdH5XA</th>\n",
        "      <td> jOuERtVf7QePnK9ZcdH5XA</td>\n",
        "      <td>                              Grand Lux Cafe</td>\n",
        "      <td> 1645</td>\n",
        "      <td> 4.0</td>\n",
        "      <td> 36.122276</td>\n",
        "      <td>-115.170122</td>\n",
        "      <td> business</td>\n",
        "      <td> [,u,',F,o,o,d,',,, ,u,',D,e,s,s,e,r,t,s,',,, ,...</td>\n",
        "    </tr>\n",
        "    <tr>\n",
        "      <th>mDdqifuTrfXAOfxiLMGu5Q</th>\n",
        "      <td> mDdqifuTrfXAOfxiLMGu5Q</td>\n",
        "      <td>                         Gordon Ramsay Steak</td>\n",
        "      <td> 1542</td>\n",
        "      <td> 4.0</td>\n",
        "      <td> 36.117632</td>\n",
        "      <td>-115.174907</td>\n",
        "      <td> business</td>\n",
        "      <td> [,u,',S,t,e,a,k,h,o,u,s,e,s,',,, ,u,',R,e,s,t,...</td>\n",
        "    </tr>\n",
        "    <tr>\n",
        "      <th>HbUQ_3dlm3uCacmhTEMnuA</th>\n",
        "      <td> HbUQ_3dlm3uCacmhTEMnuA</td>\n",
        "      <td>                  Tom Colicchio's Craftsteak</td>\n",
        "      <td> 1531</td>\n",
        "      <td> 4.0</td>\n",
        "      <td> 36.103053</td>\n",
        "      <td>-115.167691</td>\n",
        "      <td> business</td>\n",
        "      <td> [,u,',S,t,e,a,k,h,o,u,s,e,s,',,, ,u,',A,m,e,r,...</td>\n",
        "    </tr>\n",
        "    <tr>\n",
        "      <th>FV16IeXJp2W6pnghTz2FAw</th>\n",
        "      <td> FV16IeXJp2W6pnghTz2FAw</td>\n",
        "      <td>                                Pho Kim Long</td>\n",
        "      <td> 1514</td>\n",
        "      <td> 3.5</td>\n",
        "      <td> 36.126177</td>\n",
        "      <td>-115.193971</td>\n",
        "      <td> business</td>\n",
        "      <td> [,u,',V,i,e,t,n,a,m,e,s,e,',,, ,u,',C,h,i,n,e,...</td>\n",
        "    </tr>\n",
        "    <tr>\n",
        "      <th>VVeogjZya58oiTxK7qUjAQ</th>\n",
        "      <td> VVeogjZya58oiTxK7qUjAQ</td>\n",
        "      <td>                             Pizzeria Bianco</td>\n",
        "      <td> 1453</td>\n",
        "      <td> 4.0</td>\n",
        "      <td> 33.449233</td>\n",
        "      <td>-112.065458</td>\n",
        "      <td> business</td>\n",
        "      <td> [,u,',I,t,a,l,i,a,n,',,, ,u,',P,i,z,z,a,',,, ,...</td>\n",
        "    </tr>\n",
        "    <tr>\n",
        "      <th>vxxMqBaAHuWdx4impsLSSA</th>\n",
        "      <td> vxxMqBaAHuWdx4impsLSSA</td>\n",
        "      <td>                                    Studio B</td>\n",
        "      <td> 1428</td>\n",
        "      <td> 4.0</td>\n",
        "      <td> 35.964772</td>\n",
        "      <td>-115.168490</td>\n",
        "      <td> business</td>\n",
        "      <td> [,u,',B,u,f,f,e,t,s,',,, ,u,',R,e,s,t,a,u,r,a,...</td>\n",
        "    </tr>\n",
        "    <tr>\n",
        "      <th>rBPQuQgTcMtUq5-RYhY2uQ</th>\n",
        "      <td> rBPQuQgTcMtUq5-RYhY2uQ</td>\n",
        "      <td>                           Le Village Buffet</td>\n",
        "      <td> 1424</td>\n",
        "      <td> 3.5</td>\n",
        "      <td> 36.112930</td>\n",
        "      <td>-115.169969</td>\n",
        "      <td> business</td>\n",
        "      <td> [,u,',B,u,f,f,e,t,s,',,, ,u,',R,e,s,t,a,u,r,a,...</td>\n",
        "    </tr>\n",
        "    <tr>\n",
        "      <th>SsTxjxo8qvqBMvan1rzNzg</th>\n",
        "      <td> SsTxjxo8qvqBMvan1rzNzg</td>\n",
        "      <td> The Peppermill Restaurant &amp; Fireside Lounge</td>\n",
        "      <td> 1394</td>\n",
        "      <td> 4.0</td>\n",
        "      <td> 36.133613</td>\n",
        "      <td>-115.163122</td>\n",
        "      <td> business</td>\n",
        "      <td> [,u,',B,a,r,s,',,, ,u,',A,m,e,r,i,c,a,n, ,(,T,...</td>\n",
        "    </tr>\n",
        "    <tr>\n",
        "      <th>8buIr1zBCO7OEcAQSZko7w</th>\n",
        "      <td> 8buIr1zBCO7OEcAQSZko7w</td>\n",
        "      <td>                                     Firefly</td>\n",
        "      <td> 1352</td>\n",
        "      <td> 4.5</td>\n",
        "      <td> 36.118552</td>\n",
        "      <td>-115.154695</td>\n",
        "      <td> business</td>\n",
        "      <td> [,u,',T,a,p,a,s,/,S,m,a,l,l, ,P,l,a,t,e,s,',,,...</td>\n",
        "    </tr>\n",
        "    <tr>\n",
        "      <th>DjOxXobyGDwWt89q4z1twg</th>\n",
        "      <td> DjOxXobyGDwWt89q4z1twg</td>\n",
        "      <td>                                 Monta Ramen</td>\n",
        "      <td> 1323</td>\n",
        "      <td> 4.0</td>\n",
        "      <td> 36.127043</td>\n",
        "      <td>-115.209653</td>\n",
        "      <td> business</td>\n",
        "      <td> [,u,',R,a,m,e,n,',,, ,u,',J,a,p,a,n,e,s,e,',,,...</td>\n",
        "    </tr>\n",
        "    <tr>\n",
        "      <th>NsnZ5GhagXBKrCOelxVQxw</th>\n",
        "      <td> NsnZ5GhagXBKrCOelxVQxw</td>\n",
        "      <td>                      SUSHISAMBA - Las Vegas</td>\n",
        "      <td> 1264</td>\n",
        "      <td> 4.0</td>\n",
        "      <td> 36.123977</td>\n",
        "      <td>-115.167757</td>\n",
        "      <td> business</td>\n",
        "      <td> [,u,',B,a,r,s,',,, ,u,',A,s,i,a,n, ,F,u,s,i,o,...</td>\n",
        "    </tr>\n",
        "    <tr>\n",
        "      <th>JokKtdXU7zXHcr20Lrk29A</th>\n",
        "      <td> JokKtdXU7zXHcr20Lrk29A</td>\n",
        "      <td>                       Four Peaks Brewing Co</td>\n",
        "      <td> 1241</td>\n",
        "      <td> 4.5</td>\n",
        "      <td> 33.419568</td>\n",
        "      <td>-111.916097</td>\n",
        "      <td> business</td>\n",
        "      <td> [,u,',B,a,r,s,',,, ,u,',F,o,o,d,',,, ,u,',B,r,...</td>\n",
        "    </tr>\n",
        "    <tr>\n",
        "      <th>tqu42L0qXzkvYKSruOz0IA</th>\n",
        "      <td> tqu42L0qXzkvYKSruOz0IA</td>\n",
        "      <td>               Ellis Island Casino &amp; Brewery</td>\n",
        "      <td> 1229</td>\n",
        "      <td> 4.0</td>\n",
        "      <td> 36.113025</td>\n",
        "      <td>-115.163485</td>\n",
        "      <td> business</td>\n",
        "      <td> [,u,',A,r,t,s, ,&amp;, ,E,n,t,e,r,t,a,i,n,m,e,n,t,...</td>\n",
        "    </tr>\n",
        "    <tr>\n",
        "      <th>IRYj1b1-mlXqABVsl9SoqQ</th>\n",
        "      <td> IRYj1b1-mlXqABVsl9SoqQ</td>\n",
        "      <td>                              Tacos El Gordo</td>\n",
        "      <td> 1223</td>\n",
        "      <td> 4.5</td>\n",
        "      <td> 36.131778</td>\n",
        "      <td>-115.165019</td>\n",
        "      <td> business</td>\n",
        "      <td> [,u,',M,e,x,i,c,a,n,',,, ,u,',R,e,s,t,a,u,r,a,...</td>\n",
        "    </tr>\n",
        "    <tr>\n",
        "      <th>V1nEpIRmEa1768oj_tuxeQ</th>\n",
        "      <td> V1nEpIRmEa1768oj_tuxeQ</td>\n",
        "      <td>                                        Cibo</td>\n",
        "      <td> 1202</td>\n",
        "      <td> 4.5</td>\n",
        "      <td> 33.454960</td>\n",
        "      <td>-112.079908</td>\n",
        "      <td> business</td>\n",
        "      <td> [,u,',I,t,a,l,i,a,n,',,, ,u,',P,i,z,z,a,',,, ,...</td>\n",
        "    </tr>\n",
        "    <tr>\n",
        "      <th>ngNvH4sxnH9aMukTZ67R_Q</th>\n",
        "      <td> ngNvH4sxnH9aMukTZ67R_Q</td>\n",
        "      <td>                       Carnival World Buffet</td>\n",
        "      <td> 1176</td>\n",
        "      <td> 3.5</td>\n",
        "      <td> 36.117890</td>\n",
        "      <td>-115.189395</td>\n",
        "      <td> business</td>\n",
        "      <td> [,u,',B,u,f,f,e,t,s,',,, ,u,',R,e,s,t,a,u,r,a,...</td>\n",
        "    </tr>\n",
        "    <tr>\n",
        "      <th>SLyacGZuMUKqrQJEooSkjw</th>\n",
        "      <td> SLyacGZuMUKqrQJEooSkjw</td>\n",
        "      <td>                         Spice Market Buffet</td>\n",
        "      <td> 1163</td>\n",
        "      <td> 3.0</td>\n",
        "      <td> 36.110250</td>\n",
        "      <td>-115.171666</td>\n",
        "      <td> business</td>\n",
        "      <td> [,u,',B,u,f,f,e,t,s,',,, ,u,',R,e,s,t,a,u,r,a,...</td>\n",
        "    </tr>\n",
        "    <tr>\n",
        "      <th>YrIfgzLj0DPStJ1ESAS_Qg</th>\n",
        "      <td> YrIfgzLj0DPStJ1ESAS_Qg</td>\n",
        "      <td>                        Hot N Juicy Crawfish</td>\n",
        "      <td> 1142</td>\n",
        "      <td> 4.0</td>\n",
        "      <td> 36.126593</td>\n",
        "      <td>-115.206306</td>\n",
        "      <td> business</td>\n",
        "      <td> [,u,',S,e,a,f,o,o,d,',,, ,u,',A,m,e,r,i,c,a,n,...</td>\n",
        "    </tr>\n",
        "    <tr>\n",
        "      <th>4UVhuOLaMm2-34SrW8y-ag</th>\n",
        "      <td> 4UVhuOLaMm2-34SrW8y-ag</td>\n",
        "      <td>                                      Ichiza</td>\n",
        "      <td> 1126</td>\n",
        "      <td> 4.0</td>\n",
        "      <td> 36.125908</td>\n",
        "      <td>-115.197906</td>\n",
        "      <td> business</td>\n",
        "      <td> [,u,',J,a,p,a,n,e,s,e,',,, ,u,',R,e,s,t,a,u,r,...</td>\n",
        "    </tr>\n",
        "    <tr>\n",
        "      <th>zTCCbg7mGslxACL5KlAPIQ</th>\n",
        "      <td> zTCCbg7mGslxACL5KlAPIQ</td>\n",
        "      <td>                          The Buffet at ARIA</td>\n",
        "      <td> 1125</td>\n",
        "      <td> 3.0</td>\n",
        "      <td> 36.107406</td>\n",
        "      <td>-115.176980</td>\n",
        "      <td> business</td>\n",
        "      <td> [,u,',B,u,f,f,e,t,s,',,, ,u,',R,e,s,t,a,u,r,a,...</td>\n",
        "    </tr>\n",
        "    <tr>\n",
        "      <th>KjymOs12Mpy0Kd54b7T9MA</th>\n",
        "      <td> KjymOs12Mpy0Kd54b7T9MA</td>\n",
        "      <td>                                      Olives</td>\n",
        "      <td> 1124</td>\n",
        "      <td> 4.0</td>\n",
        "      <td> 36.111978</td>\n",
        "      <td>-115.176980</td>\n",
        "      <td> business</td>\n",
        "      <td> [,u,',B,a,r,s,',,, ,u,',M,e,d,i,t,e,r,r,a,n,e,...</td>\n",
        "    </tr>\n",
        "    <tr>\n",
        "      <th>EWMwV5V9BxNs_U6nNVMeqw</th>\n",
        "      <td> EWMwV5V9BxNs_U6nNVMeqw</td>\n",
        "      <td>                                         FEZ</td>\n",
        "      <td> 1117</td>\n",
        "      <td> 4.0</td>\n",
        "      <td> 33.491695</td>\n",
        "      <td>-112.073498</td>\n",
        "      <td> business</td>\n",
        "      <td> [,u,',B,a,r,s,',,, ,u,',M,e,d,i,t,e,r,r,a,n,e,...</td>\n",
        "    </tr>\n",
        "    <tr>\n",
        "      <th>5GKbGn9-fAgQ0njSh3OJ8A</th>\n",
        "      <td> 5GKbGn9-fAgQ0njSh3OJ8A</td>\n",
        "      <td>            LAVO Italian Restaurant &amp; Lounge</td>\n",
        "      <td> 1069</td>\n",
        "      <td> 3.5</td>\n",
        "      <td> 36.124434</td>\n",
        "      <td>-115.169069</td>\n",
        "      <td> business</td>\n",
        "      <td> [,u,',B,a,r,s,',,, ,u,',D,a,n,c,e, ,C,l,u,b,s,...</td>\n",
        "    </tr>\n",
        "    <tr>\n",
        "      <th>RhbOa-Ft3sZB4B_1j5LfyA</th>\n",
        "      <td> RhbOa-Ft3sZB4B_1j5LfyA</td>\n",
        "      <td>                                  Mr. Mama's</td>\n",
        "      <td> 1065</td>\n",
        "      <td> 4.5</td>\n",
        "      <td> 36.088774</td>\n",
        "      <td>-115.207338</td>\n",
        "      <td> business</td>\n",
        "      <td> [,u,',B,r,e,a,k,f,a,s,t, ,&amp;, ,B,r,u,n,c,h,',,,...</td>\n",
        "    </tr>\n",
        "    <tr>\n",
        "      <th>HyfFenprdpIA4rmKu6DW3g</th>\n",
        "      <td> HyfFenprdpIA4rmKu6DW3g</td>\n",
        "      <td>                                  Oyster Bar</td>\n",
        "      <td> 1063</td>\n",
        "      <td> 4.5</td>\n",
        "      <td> 36.142904</td>\n",
        "      <td>-115.174619</td>\n",
        "      <td> business</td>\n",
        "      <td> [,u,',N,i,g,h,t,l,i,f,e,',,, ,u,',S,e,a,f,o,o,...</td>\n",
        "    </tr>\n",
        "    <tr>\n",
        "      <th>YacTpiq0ZptFcXD7I-kdGA</th>\n",
        "      <td> YacTpiq0ZptFcXD7I-kdGA</td>\n",
        "      <td>                        Delmonico Steakhouse</td>\n",
        "      <td> 1037</td>\n",
        "      <td> 4.0</td>\n",
        "      <td> 36.121792</td>\n",
        "      <td>-115.169377</td>\n",
        "      <td> business</td>\n",
        "      <td> [,u,',S,t,e,a,k,h,o,u,s,e,s,',,, ,u,',R,e,s,t,...</td>\n",
        "    </tr>\n",
        "    <tr>\n",
        "      <th>WNy1uzcmm_UHmTyR--o5IA</th>\n",
        "      <td> WNy1uzcmm_UHmTyR--o5IA</td>\n",
        "      <td>                       Cornish Pasty Company</td>\n",
        "      <td> 1033</td>\n",
        "      <td> 4.5</td>\n",
        "      <td> 33.422728</td>\n",
        "      <td>-111.951494</td>\n",
        "      <td> business</td>\n",
        "      <td> [,u,',P,u,b,s,',,, ,u,',B,a,r,s,',,, ,u,',N,i,...</td>\n",
        "    </tr>\n",
        "    <tr>\n",
        "      <th>LLDGTT7FExklkQvHebEjRg</th>\n",
        "      <td> LLDGTT7FExklkQvHebEjRg</td>\n",
        "      <td>      Joe's Seafood Prime Steak &amp; Stone Crab</td>\n",
        "      <td> 1023</td>\n",
        "      <td> 4.0</td>\n",
        "      <td> 36.117453</td>\n",
        "      <td>-115.176688</td>\n",
        "      <td> business</td>\n",
        "      <td> [,u,',S,e,a,f,o,o,d,',,, ,u,',S,t,e,a,k,h,o,u,...</td>\n",
        "    </tr>\n",
        "    <tr>\n",
        "      <th>1yx2zLskVTe5WQdYjL2Apw</th>\n",
        "      <td> 1yx2zLskVTe5WQdYjL2Apw</td>\n",
        "      <td>                                     Egg &amp; I</td>\n",
        "      <td> 1022</td>\n",
        "      <td> 4.5</td>\n",
        "      <td> 36.144396</td>\n",
        "      <td>-115.201637</td>\n",
        "      <td> business</td>\n",
        "      <td> [,u,',B,u,r,g,e,r,s,',,, ,u,',B,r,e,a,k,f,a,s,...</td>\n",
        "    </tr>\n",
        "    <tr>\n",
        "      <th>eLPld7Q17XxlclFGzZQX5g</th>\n",
        "      <td> eLPld7Q17XxlclFGzZQX5g</td>\n",
        "      <td>                                  Yama Sushi</td>\n",
        "      <td> 1013</td>\n",
        "      <td> 4.0</td>\n",
        "      <td> 36.115500</td>\n",
        "      <td>-115.135006</td>\n",
        "      <td> business</td>\n",
        "      <td> [,u,',S,u,s,h,i, ,B,a,r,s,',,, ,u,',R,e,s,t,a,...</td>\n",
        "    </tr>\n",
        "    <tr>\n",
        "      <th>AeKTQBtPRDHLAFL9bzbUnA</th>\n",
        "      <td> AeKTQBtPRDHLAFL9bzbUnA</td>\n",
        "      <td>                         Sushi House Goyemon</td>\n",
        "      <td> 1000</td>\n",
        "      <td> 4.0</td>\n",
        "      <td> 36.094661</td>\n",
        "      <td>-115.208014</td>\n",
        "      <td> business</td>\n",
        "      <td> [,u,',S,u,s,h,i, ,B,a,r,s,',,, ,u,',J,a,p,a,n,...</td>\n",
        "    </tr>\n",
        "    <tr>\n",
        "      <th>SDwYQ6eSu1htn8vHWv128g</th>\n",
        "      <td> SDwYQ6eSu1htn8vHWv128g</td>\n",
        "      <td>                             Postino Arcadia</td>\n",
        "      <td>  995</td>\n",
        "      <td> 4.5</td>\n",
        "      <td> 33.502111</td>\n",
        "      <td>-111.996339</td>\n",
        "      <td> business</td>\n",
        "      <td> [,u,',B,a,r,s,',,, ,u,',B,r,e,a,k,f,a,s,t, ,&amp;,...</td>\n",
        "    </tr>\n",
        "    <tr>\n",
        "      <th>BqD7X5CHXnJ14YbBBlLx1w</th>\n",
        "      <td> BqD7X5CHXnJ14YbBBlLx1w</td>\n",
        "      <td>                              Julian Serrano</td>\n",
        "      <td>  990</td>\n",
        "      <td> 4.0</td>\n",
        "      <td> 36.108458</td>\n",
        "      <td>-115.175769</td>\n",
        "      <td> business</td>\n",
        "      <td> [,u,',T,a,p,a,s, ,B,a,r,s,',,, ,u,',S,p,a,n,i,...</td>\n",
        "    </tr>\n",
        "  </tbody>\n",
        "</table>\n",
        "</div>"
       ],
       "metadata": {},
       "output_type": "pyout",
       "prompt_number": 163,
       "text": [
        "                                   business_id  \\\n",
        "4bEjOyTaDG24SY5TxsaUNQ  4bEjOyTaDG24SY5TxsaUNQ   \n",
        "2e2e7WgqU1BnpxmQL5jbfw  2e2e7WgqU1BnpxmQL5jbfw   \n",
        "zt1TpTuJ6y9n551sw9TaEg  zt1TpTuJ6y9n551sw9TaEg   \n",
        "sIyHTizqAiGu12XMLX3N3g  sIyHTizqAiGu12XMLX3N3g   \n",
        "Xhg93cMdemu5pAMkDoEdtQ  Xhg93cMdemu5pAMkDoEdtQ   \n",
        "YNQgak-ZLtYJQxlDwN-qIg  YNQgak-ZLtYJQxlDwN-qIg   \n",
        "tFU2Js_nbIZOrnKfYJYBBg  tFU2Js_nbIZOrnKfYJYBBg   \n",
        "CZjcFdvJhksq9dy58NVEzw  CZjcFdvJhksq9dy58NVEzw   \n",
        "aGbjLWzcrnEx2ZmMCFm3EA  aGbjLWzcrnEx2ZmMCFm3EA   \n",
        "xfwRO04KbAPw_zRotCfWQQ  xfwRO04KbAPw_zRotCfWQQ   \n",
        "DO3Gk17RyJVW7zYMCtYPnw  DO3Gk17RyJVW7zYMCtYPnw   \n",
        "QbmcCE_cLq4WO8ZMKImaLw  QbmcCE_cLq4WO8ZMKImaLw   \n",
        "eq6lQI039SBLC6sHm3idGA  eq6lQI039SBLC6sHm3idGA   \n",
        "lliksv-tglfUz1T3B3vgvA  lliksv-tglfUz1T3B3vgvA   \n",
        "xyTJYlbE_MLouK6rCou6zg  xyTJYlbE_MLouK6rCou6zg   \n",
        "PXviRcHR1mqdH4vRc2LEAQ  PXviRcHR1mqdH4vRc2LEAQ   \n",
        "BqrTtox0JbG-P_DKBB5bBw  BqrTtox0JbG-P_DKBB5bBw   \n",
        "jOuERtVf7QePnK9ZcdH5XA  jOuERtVf7QePnK9ZcdH5XA   \n",
        "mDdqifuTrfXAOfxiLMGu5Q  mDdqifuTrfXAOfxiLMGu5Q   \n",
        "HbUQ_3dlm3uCacmhTEMnuA  HbUQ_3dlm3uCacmhTEMnuA   \n",
        "FV16IeXJp2W6pnghTz2FAw  FV16IeXJp2W6pnghTz2FAw   \n",
        "VVeogjZya58oiTxK7qUjAQ  VVeogjZya58oiTxK7qUjAQ   \n",
        "vxxMqBaAHuWdx4impsLSSA  vxxMqBaAHuWdx4impsLSSA   \n",
        "rBPQuQgTcMtUq5-RYhY2uQ  rBPQuQgTcMtUq5-RYhY2uQ   \n",
        "SsTxjxo8qvqBMvan1rzNzg  SsTxjxo8qvqBMvan1rzNzg   \n",
        "8buIr1zBCO7OEcAQSZko7w  8buIr1zBCO7OEcAQSZko7w   \n",
        "DjOxXobyGDwWt89q4z1twg  DjOxXobyGDwWt89q4z1twg   \n",
        "NsnZ5GhagXBKrCOelxVQxw  NsnZ5GhagXBKrCOelxVQxw   \n",
        "JokKtdXU7zXHcr20Lrk29A  JokKtdXU7zXHcr20Lrk29A   \n",
        "tqu42L0qXzkvYKSruOz0IA  tqu42L0qXzkvYKSruOz0IA   \n",
        "IRYj1b1-mlXqABVsl9SoqQ  IRYj1b1-mlXqABVsl9SoqQ   \n",
        "V1nEpIRmEa1768oj_tuxeQ  V1nEpIRmEa1768oj_tuxeQ   \n",
        "ngNvH4sxnH9aMukTZ67R_Q  ngNvH4sxnH9aMukTZ67R_Q   \n",
        "SLyacGZuMUKqrQJEooSkjw  SLyacGZuMUKqrQJEooSkjw   \n",
        "YrIfgzLj0DPStJ1ESAS_Qg  YrIfgzLj0DPStJ1ESAS_Qg   \n",
        "4UVhuOLaMm2-34SrW8y-ag  4UVhuOLaMm2-34SrW8y-ag   \n",
        "zTCCbg7mGslxACL5KlAPIQ  zTCCbg7mGslxACL5KlAPIQ   \n",
        "KjymOs12Mpy0Kd54b7T9MA  KjymOs12Mpy0Kd54b7T9MA   \n",
        "EWMwV5V9BxNs_U6nNVMeqw  EWMwV5V9BxNs_U6nNVMeqw   \n",
        "5GKbGn9-fAgQ0njSh3OJ8A  5GKbGn9-fAgQ0njSh3OJ8A   \n",
        "RhbOa-Ft3sZB4B_1j5LfyA  RhbOa-Ft3sZB4B_1j5LfyA   \n",
        "HyfFenprdpIA4rmKu6DW3g  HyfFenprdpIA4rmKu6DW3g   \n",
        "YacTpiq0ZptFcXD7I-kdGA  YacTpiq0ZptFcXD7I-kdGA   \n",
        "WNy1uzcmm_UHmTyR--o5IA  WNy1uzcmm_UHmTyR--o5IA   \n",
        "LLDGTT7FExklkQvHebEjRg  LLDGTT7FExklkQvHebEjRg   \n",
        "1yx2zLskVTe5WQdYjL2Apw  1yx2zLskVTe5WQdYjL2Apw   \n",
        "eLPld7Q17XxlclFGzZQX5g  eLPld7Q17XxlclFGzZQX5g   \n",
        "AeKTQBtPRDHLAFL9bzbUnA  AeKTQBtPRDHLAFL9bzbUnA   \n",
        "SDwYQ6eSu1htn8vHWv128g  SDwYQ6eSu1htn8vHWv128g   \n",
        "BqD7X5CHXnJ14YbBBlLx1w  BqD7X5CHXnJ14YbBBlLx1w   \n",
        "\n",
        "                                                               name  \\\n",
        "4bEjOyTaDG24SY5TxsaUNQ                                 Mon Ami Gabi   \n",
        "2e2e7WgqU1BnpxmQL5jbfw                             Earl of Sandwich   \n",
        "zt1TpTuJ6y9n551sw9TaEg                                 Wicked Spoon   \n",
        "sIyHTizqAiGu12XMLX3N3g                             Bacchanal Buffet   \n",
        "Xhg93cMdemu5pAMkDoEdtQ                                Serendipity 3   \n",
        "YNQgak-ZLtYJQxlDwN-qIg                                   The Buffet   \n",
        "tFU2Js_nbIZOrnKfYJYBBg                               Bouchon Bistro   \n",
        "CZjcFdvJhksq9dy58NVEzw                       The Buffet at Bellagio   \n",
        "aGbjLWzcrnEx2ZmMCFm3EA                          Gordon Ramsay BurGR   \n",
        "xfwRO04KbAPw_zRotCfWQQ                           Hash House A Go Go   \n",
        "DO3Gk17RyJVW7zYMCtYPnw                                   Mesa Grill   \n",
        "QbmcCE_cLq4WO8ZMKImaLw                           Hash House A Go Go   \n",
        "eq6lQI039SBLC6sHm3idGA                                 Secret Pizza   \n",
        "lliksv-tglfUz1T3B3vgvA                                Lotus of Siam   \n",
        "xyTJYlbE_MLouK6rCou6zg                                   Burger Bar   \n",
        "PXviRcHR1mqdH4vRc2LEAQ                                 Bachi Burger   \n",
        "BqrTtox0JbG-P_DKBB5bBw                    Holsteins Shakes and Buns   \n",
        "jOuERtVf7QePnK9ZcdH5XA                               Grand Lux Cafe   \n",
        "mDdqifuTrfXAOfxiLMGu5Q                          Gordon Ramsay Steak   \n",
        "HbUQ_3dlm3uCacmhTEMnuA                   Tom Colicchio's Craftsteak   \n",
        "FV16IeXJp2W6pnghTz2FAw                                 Pho Kim Long   \n",
        "VVeogjZya58oiTxK7qUjAQ                              Pizzeria Bianco   \n",
        "vxxMqBaAHuWdx4impsLSSA                                     Studio B   \n",
        "rBPQuQgTcMtUq5-RYhY2uQ                            Le Village Buffet   \n",
        "SsTxjxo8qvqBMvan1rzNzg  The Peppermill Restaurant & Fireside Lounge   \n",
        "8buIr1zBCO7OEcAQSZko7w                                      Firefly   \n",
        "DjOxXobyGDwWt89q4z1twg                                  Monta Ramen   \n",
        "NsnZ5GhagXBKrCOelxVQxw                       SUSHISAMBA - Las Vegas   \n",
        "JokKtdXU7zXHcr20Lrk29A                        Four Peaks Brewing Co   \n",
        "tqu42L0qXzkvYKSruOz0IA                Ellis Island Casino & Brewery   \n",
        "IRYj1b1-mlXqABVsl9SoqQ                               Tacos El Gordo   \n",
        "V1nEpIRmEa1768oj_tuxeQ                                         Cibo   \n",
        "ngNvH4sxnH9aMukTZ67R_Q                        Carnival World Buffet   \n",
        "SLyacGZuMUKqrQJEooSkjw                          Spice Market Buffet   \n",
        "YrIfgzLj0DPStJ1ESAS_Qg                         Hot N Juicy Crawfish   \n",
        "4UVhuOLaMm2-34SrW8y-ag                                       Ichiza   \n",
        "zTCCbg7mGslxACL5KlAPIQ                           The Buffet at ARIA   \n",
        "KjymOs12Mpy0Kd54b7T9MA                                       Olives   \n",
        "EWMwV5V9BxNs_U6nNVMeqw                                          FEZ   \n",
        "5GKbGn9-fAgQ0njSh3OJ8A             LAVO Italian Restaurant & Lounge   \n",
        "RhbOa-Ft3sZB4B_1j5LfyA                                   Mr. Mama's   \n",
        "HyfFenprdpIA4rmKu6DW3g                                   Oyster Bar   \n",
        "YacTpiq0ZptFcXD7I-kdGA                         Delmonico Steakhouse   \n",
        "WNy1uzcmm_UHmTyR--o5IA                        Cornish Pasty Company   \n",
        "LLDGTT7FExklkQvHebEjRg       Joe's Seafood Prime Steak & Stone Crab   \n",
        "1yx2zLskVTe5WQdYjL2Apw                                      Egg & I   \n",
        "eLPld7Q17XxlclFGzZQX5g                                   Yama Sushi   \n",
        "AeKTQBtPRDHLAFL9bzbUnA                          Sushi House Goyemon   \n",
        "SDwYQ6eSu1htn8vHWv128g                              Postino Arcadia   \n",
        "BqD7X5CHXnJ14YbBBlLx1w                               Julian Serrano   \n",
        "\n",
        "                        review_count  stars   latitude   longitude      type  \\\n",
        "4bEjOyTaDG24SY5TxsaUNQ          4578    4.0  36.112952 -115.172589  business   \n",
        "2e2e7WgqU1BnpxmQL5jbfw          3984    4.5  36.110266 -115.170553  business   \n",
        "zt1TpTuJ6y9n551sw9TaEg          3828    3.5  36.109876 -115.175164  business   \n",
        "sIyHTizqAiGu12XMLX3N3g          3046    4.0  36.115854 -115.176174  business   \n",
        "Xhg93cMdemu5pAMkDoEdtQ          3007    3.0  36.115670 -115.173317  business   \n",
        "YNQgak-ZLtYJQxlDwN-qIg          2949    3.5  36.126887 -115.165590  business   \n",
        "tFU2Js_nbIZOrnKfYJYBBg          2593    4.0  36.122293 -115.170279  business   \n",
        "CZjcFdvJhksq9dy58NVEzw          2583    3.5  36.113160 -115.176409  business   \n",
        "aGbjLWzcrnEx2ZmMCFm3EA          2537    4.0  36.110108 -115.172338  business   \n",
        "xfwRO04KbAPw_zRotCfWQQ          2395    4.0  36.144667 -115.239955  business   \n",
        "DO3Gk17RyJVW7zYMCtYPnw          2143    4.0  36.125951 -115.171051  business   \n",
        "QbmcCE_cLq4WO8ZMKImaLw          2110    4.0  36.117883 -115.171245  business   \n",
        "eq6lQI039SBLC6sHm3idGA          2105    4.0  36.111519 -115.174850  business   \n",
        "lliksv-tglfUz1T3B3vgvA          2063    4.0  36.143566 -115.142826  business   \n",
        "xyTJYlbE_MLouK6rCou6zg          1986    4.0  36.092875 -115.176247  business   \n",
        "PXviRcHR1mqdH4vRc2LEAQ          1930    4.0  36.042798 -115.153225  business   \n",
        "BqrTtox0JbG-P_DKBB5bBw          1757    4.0  36.109622 -115.173212  business   \n",
        "jOuERtVf7QePnK9ZcdH5XA          1645    4.0  36.122276 -115.170122  business   \n",
        "mDdqifuTrfXAOfxiLMGu5Q          1542    4.0  36.117632 -115.174907  business   \n",
        "HbUQ_3dlm3uCacmhTEMnuA          1531    4.0  36.103053 -115.167691  business   \n",
        "FV16IeXJp2W6pnghTz2FAw          1514    3.5  36.126177 -115.193971  business   \n",
        "VVeogjZya58oiTxK7qUjAQ          1453    4.0  33.449233 -112.065458  business   \n",
        "vxxMqBaAHuWdx4impsLSSA          1428    4.0  35.964772 -115.168490  business   \n",
        "rBPQuQgTcMtUq5-RYhY2uQ          1424    3.5  36.112930 -115.169969  business   \n",
        "SsTxjxo8qvqBMvan1rzNzg          1394    4.0  36.133613 -115.163122  business   \n",
        "8buIr1zBCO7OEcAQSZko7w          1352    4.5  36.118552 -115.154695  business   \n",
        "DjOxXobyGDwWt89q4z1twg          1323    4.0  36.127043 -115.209653  business   \n",
        "NsnZ5GhagXBKrCOelxVQxw          1264    4.0  36.123977 -115.167757  business   \n",
        "JokKtdXU7zXHcr20Lrk29A          1241    4.5  33.419568 -111.916097  business   \n",
        "tqu42L0qXzkvYKSruOz0IA          1229    4.0  36.113025 -115.163485  business   \n",
        "IRYj1b1-mlXqABVsl9SoqQ          1223    4.5  36.131778 -115.165019  business   \n",
        "V1nEpIRmEa1768oj_tuxeQ          1202    4.5  33.454960 -112.079908  business   \n",
        "ngNvH4sxnH9aMukTZ67R_Q          1176    3.5  36.117890 -115.189395  business   \n",
        "SLyacGZuMUKqrQJEooSkjw          1163    3.0  36.110250 -115.171666  business   \n",
        "YrIfgzLj0DPStJ1ESAS_Qg          1142    4.0  36.126593 -115.206306  business   \n",
        "4UVhuOLaMm2-34SrW8y-ag          1126    4.0  36.125908 -115.197906  business   \n",
        "zTCCbg7mGslxACL5KlAPIQ          1125    3.0  36.107406 -115.176980  business   \n",
        "KjymOs12Mpy0Kd54b7T9MA          1124    4.0  36.111978 -115.176980  business   \n",
        "EWMwV5V9BxNs_U6nNVMeqw          1117    4.0  33.491695 -112.073498  business   \n",
        "5GKbGn9-fAgQ0njSh3OJ8A          1069    3.5  36.124434 -115.169069  business   \n",
        "RhbOa-Ft3sZB4B_1j5LfyA          1065    4.5  36.088774 -115.207338  business   \n",
        "HyfFenprdpIA4rmKu6DW3g          1063    4.5  36.142904 -115.174619  business   \n",
        "YacTpiq0ZptFcXD7I-kdGA          1037    4.0  36.121792 -115.169377  business   \n",
        "WNy1uzcmm_UHmTyR--o5IA          1033    4.5  33.422728 -111.951494  business   \n",
        "LLDGTT7FExklkQvHebEjRg          1023    4.0  36.117453 -115.176688  business   \n",
        "1yx2zLskVTe5WQdYjL2Apw          1022    4.5  36.144396 -115.201637  business   \n",
        "eLPld7Q17XxlclFGzZQX5g          1013    4.0  36.115500 -115.135006  business   \n",
        "AeKTQBtPRDHLAFL9bzbUnA          1000    4.0  36.094661 -115.208014  business   \n",
        "SDwYQ6eSu1htn8vHWv128g           995    4.5  33.502111 -111.996339  business   \n",
        "BqD7X5CHXnJ14YbBBlLx1w           990    4.0  36.108458 -115.175769  business   \n",
        "\n",
        "                                                               categories  \n",
        "4bEjOyTaDG24SY5TxsaUNQ  [,u,',B,r,e,a,k,f,a,s,t, ,&, ,B,r,u,n,c,h,',,,...  \n",
        "2e2e7WgqU1BnpxmQL5jbfw  [,u,',S,a,n,d,w,i,c,h,e,s,',,, ,u,',R,e,s,t,a,...  \n",
        "zt1TpTuJ6y9n551sw9TaEg  [,u,',B,u,f,f,e,t,s,',,, ,u,',R,e,s,t,a,u,r,a,...  \n",
        "sIyHTizqAiGu12XMLX3N3g  [,u,',B,u,f,f,e,t,s,',,, ,u,',R,e,s,t,a,u,r,a,...  \n",
        "Xhg93cMdemu5pAMkDoEdtQ  [,u,',A,m,e,r,i,c,a,n, ,(,T,r,a,d,i,t,i,o,n,a,...  \n",
        "YNQgak-ZLtYJQxlDwN-qIg  [,u,',B,u,f,f,e,t,s,',,, ,u,',R,e,s,t,a,u,r,a,...  \n",
        "tFU2Js_nbIZOrnKfYJYBBg  [,u,',B,r,e,a,k,f,a,s,t, ,&, ,B,r,u,n,c,h,',,,...  \n",
        "CZjcFdvJhksq9dy58NVEzw  [,u,',A,m,e,r,i,c,a,n, ,(,N,e,w,),',,, ,u,',B,...  \n",
        "aGbjLWzcrnEx2ZmMCFm3EA  [,u,',B,u,r,g,e,r,s,',,, ,u,',R,e,s,t,a,u,r,a,...  \n",
        "xfwRO04KbAPw_zRotCfWQQ  [,u,',B,r,e,a,k,f,a,s,t, ,&, ,B,r,u,n,c,h,',,,...  \n",
        "DO3Gk17RyJVW7zYMCtYPnw  [,u,',S,o,u,t,h,e,r,n,',,, ,u,',R,e,s,t,a,u,r,...  \n",
        "QbmcCE_cLq4WO8ZMKImaLw  [,u,',B,r,e,a,k,f,a,s,t, ,&, ,B,r,u,n,c,h,',,,...  \n",
        "eq6lQI039SBLC6sHm3idGA  [,u,',P,i,z,z,a,',,, ,u,',R,e,s,t,a,u,r,a,n,t,...  \n",
        "lliksv-tglfUz1T3B3vgvA  [,u,',T,h,a,i,',,, ,u,',R,e,s,t,a,u,r,a,n,t,s,',]  \n",
        "xyTJYlbE_MLouK6rCou6zg  [,u,',B,a,r,s,',,, ,u,',A,m,e,r,i,c,a,n, ,(,T,...  \n",
        "PXviRcHR1mqdH4vRc2LEAQ  [,u,',B,u,r,g,e,r,s,',,, ,u,',R,e,s,t,a,u,r,a,...  \n",
        "BqrTtox0JbG-P_DKBB5bBw  [,u,',B,u,r,g,e,r,s,',,, ,u,',A,m,e,r,i,c,a,n,...  \n",
        "jOuERtVf7QePnK9ZcdH5XA  [,u,',F,o,o,d,',,, ,u,',D,e,s,s,e,r,t,s,',,, ,...  \n",
        "mDdqifuTrfXAOfxiLMGu5Q  [,u,',S,t,e,a,k,h,o,u,s,e,s,',,, ,u,',R,e,s,t,...  \n",
        "HbUQ_3dlm3uCacmhTEMnuA  [,u,',S,t,e,a,k,h,o,u,s,e,s,',,, ,u,',A,m,e,r,...  \n",
        "FV16IeXJp2W6pnghTz2FAw  [,u,',V,i,e,t,n,a,m,e,s,e,',,, ,u,',C,h,i,n,e,...  \n",
        "VVeogjZya58oiTxK7qUjAQ  [,u,',I,t,a,l,i,a,n,',,, ,u,',P,i,z,z,a,',,, ,...  \n",
        "vxxMqBaAHuWdx4impsLSSA  [,u,',B,u,f,f,e,t,s,',,, ,u,',R,e,s,t,a,u,r,a,...  \n",
        "rBPQuQgTcMtUq5-RYhY2uQ  [,u,',B,u,f,f,e,t,s,',,, ,u,',R,e,s,t,a,u,r,a,...  \n",
        "SsTxjxo8qvqBMvan1rzNzg  [,u,',B,a,r,s,',,, ,u,',A,m,e,r,i,c,a,n, ,(,T,...  \n",
        "8buIr1zBCO7OEcAQSZko7w  [,u,',T,a,p,a,s,/,S,m,a,l,l, ,P,l,a,t,e,s,',,,...  \n",
        "DjOxXobyGDwWt89q4z1twg  [,u,',R,a,m,e,n,',,, ,u,',J,a,p,a,n,e,s,e,',,,...  \n",
        "NsnZ5GhagXBKrCOelxVQxw  [,u,',B,a,r,s,',,, ,u,',A,s,i,a,n, ,F,u,s,i,o,...  \n",
        "JokKtdXU7zXHcr20Lrk29A  [,u,',B,a,r,s,',,, ,u,',F,o,o,d,',,, ,u,',B,r,...  \n",
        "tqu42L0qXzkvYKSruOz0IA  [,u,',A,r,t,s, ,&, ,E,n,t,e,r,t,a,i,n,m,e,n,t,...  \n",
        "IRYj1b1-mlXqABVsl9SoqQ  [,u,',M,e,x,i,c,a,n,',,, ,u,',R,e,s,t,a,u,r,a,...  \n",
        "V1nEpIRmEa1768oj_tuxeQ  [,u,',I,t,a,l,i,a,n,',,, ,u,',P,i,z,z,a,',,, ,...  \n",
        "ngNvH4sxnH9aMukTZ67R_Q  [,u,',B,u,f,f,e,t,s,',,, ,u,',R,e,s,t,a,u,r,a,...  \n",
        "SLyacGZuMUKqrQJEooSkjw  [,u,',B,u,f,f,e,t,s,',,, ,u,',R,e,s,t,a,u,r,a,...  \n",
        "YrIfgzLj0DPStJ1ESAS_Qg  [,u,',S,e,a,f,o,o,d,',,, ,u,',A,m,e,r,i,c,a,n,...  \n",
        "4UVhuOLaMm2-34SrW8y-ag  [,u,',J,a,p,a,n,e,s,e,',,, ,u,',R,e,s,t,a,u,r,...  \n",
        "zTCCbg7mGslxACL5KlAPIQ  [,u,',B,u,f,f,e,t,s,',,, ,u,',R,e,s,t,a,u,r,a,...  \n",
        "KjymOs12Mpy0Kd54b7T9MA  [,u,',B,a,r,s,',,, ,u,',M,e,d,i,t,e,r,r,a,n,e,...  \n",
        "EWMwV5V9BxNs_U6nNVMeqw  [,u,',B,a,r,s,',,, ,u,',M,e,d,i,t,e,r,r,a,n,e,...  \n",
        "5GKbGn9-fAgQ0njSh3OJ8A  [,u,',B,a,r,s,',,, ,u,',D,a,n,c,e, ,C,l,u,b,s,...  \n",
        "RhbOa-Ft3sZB4B_1j5LfyA  [,u,',B,r,e,a,k,f,a,s,t, ,&, ,B,r,u,n,c,h,',,,...  \n",
        "HyfFenprdpIA4rmKu6DW3g  [,u,',N,i,g,h,t,l,i,f,e,',,, ,u,',S,e,a,f,o,o,...  \n",
        "YacTpiq0ZptFcXD7I-kdGA  [,u,',S,t,e,a,k,h,o,u,s,e,s,',,, ,u,',R,e,s,t,...  \n",
        "WNy1uzcmm_UHmTyR--o5IA  [,u,',P,u,b,s,',,, ,u,',B,a,r,s,',,, ,u,',N,i,...  \n",
        "LLDGTT7FExklkQvHebEjRg  [,u,',S,e,a,f,o,o,d,',,, ,u,',S,t,e,a,k,h,o,u,...  \n",
        "1yx2zLskVTe5WQdYjL2Apw  [,u,',B,u,r,g,e,r,s,',,, ,u,',B,r,e,a,k,f,a,s,...  \n",
        "eLPld7Q17XxlclFGzZQX5g  [,u,',S,u,s,h,i, ,B,a,r,s,',,, ,u,',R,e,s,t,a,...  \n",
        "AeKTQBtPRDHLAFL9bzbUnA  [,u,',S,u,s,h,i, ,B,a,r,s,',,, ,u,',J,a,p,a,n,...  \n",
        "SDwYQ6eSu1htn8vHWv128g  [,u,',B,a,r,s,',,, ,u,',B,r,e,a,k,f,a,s,t, ,&,...  \n",
        "BqD7X5CHXnJ14YbBBlLx1w  [,u,',T,a,p,a,s, ,B,a,r,s,',,, ,u,',S,p,a,n,i,...  "
       ]
      }
     ],
     "prompt_number": 163
    },
    {
     "cell_type": "code",
     "collapsed": false,
     "input": [
      "example_restaurant_id = 'BqD7X5CHXnJ14YbBBlLx1w' # Pick a place with < 1000 reviews\n",
      "example_restaurant = data_restaurants.ix[example_restaurant_id]\n",
      "example_restaurant_reviews = restaurant_reviews[restaurant_reviews['business_id'] == example_restaurant_id]\n",
      "example_restaurant_reviews = example_restaurant_reviews.sort(['votes_useful'], ascending=False)\n",
      "example_restaurant_reviews.index = range(0, len(example_restaurant_reviews))\n",
      "\n",
      "example_important_reviews = importantReviews(example_restaurant_reviews, 10)"
     ],
     "language": "python",
     "metadata": {},
     "outputs": [
      {
       "output_type": "stream",
       "stream": "stderr",
       "text": [
        "WARNING:gensim.models.ldamodel:too few updates, training might not converge; consider increasing the number of passes or iterations to improve accuracy\n"
       ]
      }
     ],
     "prompt_number": 168
    },
    {
     "cell_type": "code",
     "collapsed": false,
     "input": [
      "example_important_reviews"
     ],
     "language": "python",
     "metadata": {},
     "outputs": [
      {
       "html": [
        "<div style=\"max-height:1000px;max-width:1500px;overflow:auto;\">\n",
        "<table border=\"1\" class=\"dataframe\">\n",
        "  <thead>\n",
        "    <tr style=\"text-align: right;\">\n",
        "      <th></th>\n",
        "      <th>business_id</th>\n",
        "      <th>date</th>\n",
        "      <th>review_id</th>\n",
        "      <th>stars</th>\n",
        "      <th>text</th>\n",
        "      <th>type</th>\n",
        "      <th>user_id</th>\n",
        "      <th>votes_cool</th>\n",
        "      <th>votes_funny</th>\n",
        "      <th>votes_useful</th>\n",
        "    </tr>\n",
        "  </thead>\n",
        "  <tbody>\n",
        "    <tr>\n",
        "      <th>53 </th>\n",
        "      <td> BqD7X5CHXnJ14YbBBlLx1w</td>\n",
        "      <td> 2011-12-31</td>\n",
        "      <td> Y23aD_8CZWzK2Ugk8vAHKQ</td>\n",
        "      <td> 5</td>\n",
        "      <td> We went to Vegas around Christmas to treat our...</td>\n",
        "      <td> review</td>\n",
        "      <td> 1c3VepFRrOhMmZTtg0vwNg</td>\n",
        "      <td>  0</td>\n",
        "      <td>  0</td>\n",
        "      <td>  3</td>\n",
        "    </tr>\n",
        "    <tr>\n",
        "      <th>400</th>\n",
        "      <td> BqD7X5CHXnJ14YbBBlLx1w</td>\n",
        "      <td> 2014-07-28</td>\n",
        "      <td> KDoonYQWwa2yrAw5r4_Zbg</td>\n",
        "      <td> 4</td>\n",
        "      <td> It is so good to see tapas come to the strip. ...</td>\n",
        "      <td> review</td>\n",
        "      <td> gCIdcs4D0D-1OoPq88BkYg</td>\n",
        "      <td>  0</td>\n",
        "      <td>  0</td>\n",
        "      <td>  0</td>\n",
        "    </tr>\n",
        "    <tr>\n",
        "      <th>128</th>\n",
        "      <td> BqD7X5CHXnJ14YbBBlLx1w</td>\n",
        "      <td> 2010-07-29</td>\n",
        "      <td> la7Y3j9LEF-G0V86h-KDsQ</td>\n",
        "      <td> 5</td>\n",
        "      <td> Simply put dinner at Julian Serrano last night...</td>\n",
        "      <td> review</td>\n",
        "      <td> VIeRdmON9zF5Ge8nX1DJ5w</td>\n",
        "      <td>  0</td>\n",
        "      <td>  0</td>\n",
        "      <td>  2</td>\n",
        "    </tr>\n",
        "    <tr>\n",
        "      <th>358</th>\n",
        "      <td> BqD7X5CHXnJ14YbBBlLx1w</td>\n",
        "      <td> 2013-10-29</td>\n",
        "      <td> mJNXEFqpKUkCWwNzsDbgqA</td>\n",
        "      <td> 4</td>\n",
        "      <td> I don't know about everyone else, but I don't ...</td>\n",
        "      <td> review</td>\n",
        "      <td> phxlVXHX8AFCAgcNOmYz0w</td>\n",
        "      <td>  0</td>\n",
        "      <td>  0</td>\n",
        "      <td>  0</td>\n",
        "    </tr>\n",
        "    <tr>\n",
        "      <th>19 </th>\n",
        "      <td> BqD7X5CHXnJ14YbBBlLx1w</td>\n",
        "      <td> 2010-12-30</td>\n",
        "      <td> qu4I0iM7ECFJt--SnZ1kZg</td>\n",
        "      <td> 3</td>\n",
        "      <td> Full review in blog:  High/Low-lights below.\\n...</td>\n",
        "      <td> review</td>\n",
        "      <td> 5lq4LkrviYgQ4LJNsBYHcA</td>\n",
        "      <td>  3</td>\n",
        "      <td>  4</td>\n",
        "      <td>  5</td>\n",
        "    </tr>\n",
        "    <tr>\n",
        "      <th>864</th>\n",
        "      <td> BqD7X5CHXnJ14YbBBlLx1w</td>\n",
        "      <td> 2012-06-24</td>\n",
        "      <td> XoejNrkjKcKK6tVE8tatbg</td>\n",
        "      <td> 5</td>\n",
        "      <td> Ohhh, Julian Serrano, how we love thee! My fam...</td>\n",
        "      <td> review</td>\n",
        "      <td> SntjekOZ1a2PoTPyMnYWTw</td>\n",
        "      <td>  0</td>\n",
        "      <td>  2</td>\n",
        "      <td>  0</td>\n",
        "    </tr>\n",
        "    <tr>\n",
        "      <th>2  </th>\n",
        "      <td> BqD7X5CHXnJ14YbBBlLx1w</td>\n",
        "      <td> 2010-03-31</td>\n",
        "      <td> V-uByy1SmuivxKyPyjyKZg</td>\n",
        "      <td> 5</td>\n",
        "      <td> It was a Saturday night, my LV partner-in-crim...</td>\n",
        "      <td> review</td>\n",
        "      <td> HL4FTEUEDsX4XV_FbaMD2g</td>\n",
        "      <td> 17</td>\n",
        "      <td> 16</td>\n",
        "      <td> 17</td>\n",
        "    </tr>\n",
        "    <tr>\n",
        "      <th>3  </th>\n",
        "      <td> BqD7X5CHXnJ14YbBBlLx1w</td>\n",
        "      <td> 2011-02-18</td>\n",
        "      <td> SPXMj0nzKm4QTCSk3G7LIQ</td>\n",
        "      <td> 2</td>\n",
        "      <td> ***Aria's Julian Serrano is a nice looking tap...</td>\n",
        "      <td> review</td>\n",
        "      <td> xNb8pFe99ENj8BeMsCBPcQ</td>\n",
        "      <td> 15</td>\n",
        "      <td> 15</td>\n",
        "      <td> 17</td>\n",
        "    </tr>\n",
        "    <tr>\n",
        "      <th>21 </th>\n",
        "      <td> BqD7X5CHXnJ14YbBBlLx1w</td>\n",
        "      <td> 2013-08-12</td>\n",
        "      <td> lvkiNpkEn5dHbVhF4dCfUQ</td>\n",
        "      <td> 4</td>\n",
        "      <td> I greatly enjoyed this place with my girlfrien...</td>\n",
        "      <td> review</td>\n",
        "      <td> eZ00rWibs-lhzZ6VwZBCwQ</td>\n",
        "      <td>  0</td>\n",
        "      <td>  0</td>\n",
        "      <td>  5</td>\n",
        "    </tr>\n",
        "    <tr>\n",
        "      <th>7  </th>\n",
        "      <td> BqD7X5CHXnJ14YbBBlLx1w</td>\n",
        "      <td> 2012-01-20</td>\n",
        "      <td> S72c_sgN2qtRV_kvuzkh4w</td>\n",
        "      <td> 5</td>\n",
        "      <td> Yes 5 stars!  Julian Serrano is worthy of all ...</td>\n",
        "      <td> review</td>\n",
        "      <td> l-VRmC_vOBx2wcutiM7b9Q</td>\n",
        "      <td>  4</td>\n",
        "      <td>  8</td>\n",
        "      <td>  8</td>\n",
        "    </tr>\n",
        "  </tbody>\n",
        "</table>\n",
        "</div>"
       ],
       "metadata": {},
       "output_type": "pyout",
       "prompt_number": 169,
       "text": [
        "                business_id        date               review_id  stars  \\\n",
        "53   BqD7X5CHXnJ14YbBBlLx1w  2011-12-31  Y23aD_8CZWzK2Ugk8vAHKQ      5   \n",
        "400  BqD7X5CHXnJ14YbBBlLx1w  2014-07-28  KDoonYQWwa2yrAw5r4_Zbg      4   \n",
        "128  BqD7X5CHXnJ14YbBBlLx1w  2010-07-29  la7Y3j9LEF-G0V86h-KDsQ      5   \n",
        "358  BqD7X5CHXnJ14YbBBlLx1w  2013-10-29  mJNXEFqpKUkCWwNzsDbgqA      4   \n",
        "19   BqD7X5CHXnJ14YbBBlLx1w  2010-12-30  qu4I0iM7ECFJt--SnZ1kZg      3   \n",
        "864  BqD7X5CHXnJ14YbBBlLx1w  2012-06-24  XoejNrkjKcKK6tVE8tatbg      5   \n",
        "2    BqD7X5CHXnJ14YbBBlLx1w  2010-03-31  V-uByy1SmuivxKyPyjyKZg      5   \n",
        "3    BqD7X5CHXnJ14YbBBlLx1w  2011-02-18  SPXMj0nzKm4QTCSk3G7LIQ      2   \n",
        "21   BqD7X5CHXnJ14YbBBlLx1w  2013-08-12  lvkiNpkEn5dHbVhF4dCfUQ      4   \n",
        "7    BqD7X5CHXnJ14YbBBlLx1w  2012-01-20  S72c_sgN2qtRV_kvuzkh4w      5   \n",
        "\n",
        "                                                  text    type  \\\n",
        "53   We went to Vegas around Christmas to treat our...  review   \n",
        "400  It is so good to see tapas come to the strip. ...  review   \n",
        "128  Simply put dinner at Julian Serrano last night...  review   \n",
        "358  I don't know about everyone else, but I don't ...  review   \n",
        "19   Full review in blog:  High/Low-lights below.\\n...  review   \n",
        "864  Ohhh, Julian Serrano, how we love thee! My fam...  review   \n",
        "2    It was a Saturday night, my LV partner-in-crim...  review   \n",
        "3    ***Aria's Julian Serrano is a nice looking tap...  review   \n",
        "21   I greatly enjoyed this place with my girlfrien...  review   \n",
        "7    Yes 5 stars!  Julian Serrano is worthy of all ...  review   \n",
        "\n",
        "                    user_id  votes_cool  votes_funny  votes_useful  \n",
        "53   1c3VepFRrOhMmZTtg0vwNg           0            0             3  \n",
        "400  gCIdcs4D0D-1OoPq88BkYg           0            0             0  \n",
        "128  VIeRdmON9zF5Ge8nX1DJ5w           0            0             2  \n",
        "358  phxlVXHX8AFCAgcNOmYz0w           0            0             0  \n",
        "19   5lq4LkrviYgQ4LJNsBYHcA           3            4             5  \n",
        "864  SntjekOZ1a2PoTPyMnYWTw           0            2             0  \n",
        "2    HL4FTEUEDsX4XV_FbaMD2g          17           16            17  \n",
        "3    xNb8pFe99ENj8BeMsCBPcQ          15           15            17  \n",
        "21   eZ00rWibs-lhzZ6VwZBCwQ           0            0             5  \n",
        "7    l-VRmC_vOBx2wcutiM7b9Q           4            8             8  "
       ]
      }
     ],
     "prompt_number": 169
    },
    {
     "cell_type": "code",
     "collapsed": false,
     "input": [
      "# How many \"useful votes\" each review has.\n",
      "# These votes could be seen as an alternative indicator\n",
      "# of an \"important review\"\n",
      "pal = sns.color_palette([\"#e74c3c\", \"#2ecc71\"])\n",
      "\n",
      "sns.barplot(example_important_reviews.index, example_important_reviews['votes_useful'], color=pal[0], label=\"Important Reviews\")\n",
      "sns.barplot(example_restaurant_reviews.index, example_restaurant_reviews['votes_useful'], color=pal[1], label=\"Other Reviews\")\n",
      "\n",
      "plt.title(\"Number of Useful Votes per Review\")\n",
      "plt.xlabel(\"Review\")\n",
      "plt.ylabel(\"Amount of Useful Votes\")\n",
      "plt.legend(loc='upper right')\n",
      "plt.tick_params(\n",
      "    axis='x',          # changes apply to the x-axis\n",
      "    which='both',      # both major and minor ticks are affected\n",
      "    bottom='off',      # ticks along the bottom edge are off\n",
      "    top='off',         # ticks along the top edge are off\n",
      "    labelbottom='off') # labels along the bottom edge are off\n",
      "plt.show()"
     ],
     "language": "python",
     "metadata": {},
     "outputs": [
      {
       "metadata": {},
       "output_type": "display_data",
       "png": "[encoded data removed]",
       "text": [
        "<matplotlib.figure.Figure at 0x1c0293c50>"
       ]
      }
     ],
     "prompt_number": 276
    },
    {
     "cell_type": "code",
     "collapsed": false,
     "input": [
      "sns.barplot(example_important_reviews.index, example_important_reviews['votes_useful'], color=pal[0])\n",
      "plt.title(\"Number of Useful Votes per Important Review\")\n",
      "plt.xlabel(\"Review\")\n",
      "plt.ylabel(\"Amount of Useful Votes\")\n",
      "plt.tick_params(\n",
      "    axis='x',          # changes apply to the x-axis\n",
      "    which='both',      # both major and minor ticks are affected\n",
      "    bottom='off',      # ticks along the bottom edge are off\n",
      "    top='off',         # ticks along the top edge are off\n",
      "    labelbottom='off') # labels along the bottom edge are off\n",
      "plt.show()"
     ],
     "language": "python",
     "metadata": {},
     "outputs": [
      {
       "metadata": {},
       "output_type": "display_data",
       "png": "[encoded data removed]",
       "text": [
        "<matplotlib.figure.Figure at 0x1c7b26b90>"
       ]
      }
     ],
     "prompt_number": 281
    },
    {
     "cell_type": "code",
     "collapsed": false,
     "input": [
      "# Somewhat unsurprisingly, none of these reviews\n",
      "# showed up under \"Yelp Sort\".\n",
      "#\n",
      "# Though roughly 70% of my \"important reviews\" \n",
      "# fall into the top 10% of \"useful votes\"."
     ],
     "language": "python",
     "metadata": {},
     "outputs": [],
     "prompt_number": 166
    },
    {
     "cell_type": "code",
     "collapsed": false,
     "input": [],
     "language": "python",
     "metadata": {},
     "outputs": []
    },
    {
     "cell_type": "code",
     "collapsed": false,
     "input": [],
     "language": "python",
     "metadata": {},
     "outputs": []
    },
    {
     "cell_type": "code",
     "collapsed": false,
     "input": [],
     "language": "python",
     "metadata": {},
     "outputs": []
    },
    {
     "cell_type": "code",
     "collapsed": false,
     "input": [],
     "language": "python",
     "metadata": {},
     "outputs": []
    },
    {
     "cell_type": "code",
     "collapsed": false,
     "input": [],
     "language": "python",
     "metadata": {},
     "outputs": []
    },
    {
     "cell_type": "code",
     "collapsed": false,
     "input": [],
     "language": "python",
     "metadata": {},
     "outputs": []
    },
    {
     "cell_type": "code",
     "collapsed": false,
     "input": [],
     "language": "python",
     "metadata": {},
     "outputs": []
    },
    {
     "cell_type": "code",
     "collapsed": false,
     "input": [
      "################################\n",
      "#\n",
      "# Only run this cell if you \n",
      "# want to convert Yelp's \n",
      "# original dataset (json) into\n",
      "# csv files.\n",
      "#\n",
      "################################\n",
      "\n",
      "def convert(x):\n",
      "    ''' Convert a json string to a flat python dictionary\n",
      "    which can be passed into Pandas. '''\n",
      "    ob = json.loads(x)\n",
      "    for k, v in ob.items():\n",
      "        if isinstance(v, list):\n",
      "            ob[k] = ','.join(str(v))\n",
      "        elif isinstance(v, dict):\n",
      "            for kk, vv in v.items():\n",
      "                ob['%s_%s' % (k, kk)] = vv\n",
      "            del ob[k]\n",
      "    return ob\n",
      "\n",
      "for json_filename in glob(data + '*.json'):\n",
      "    csv_filename = '%s.csv' % json_filename[:-5]\n",
      "    \n",
      "    print 'Converting %s to %s' % (json_filename, csv_filename)\n",
      "    \n",
      "    df = pd.DataFrame([convert(line) for line in file(json_filename)])\n",
      "    df.to_csv(csv_filename, encoding='utf-8', index=False)"
     ],
     "language": "python",
     "metadata": {},
     "outputs": []
    }
   ],
   "metadata": {}
  }
 ]
}